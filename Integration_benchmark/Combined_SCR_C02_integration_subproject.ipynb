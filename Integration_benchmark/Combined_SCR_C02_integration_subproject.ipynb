{
 "cells": [
  {
   "cell_type": "markdown",
   "id": "185dfc53-0035-4e74-8181-2a47352199f5",
   "metadata": {},
   "source": [
    "# SERPENTINE Integration Methods"
   ]
  },
  {
   "cell_type": "markdown",
   "id": "58d3dca2-2aef-43ea-a347-8901df22dbd7",
   "metadata": {},
   "source": [
    "## Set Up Environment"
   ]
  },
  {
   "cell_type": "code",
   "execution_count": null,
   "id": "b4954cd8-d3f8-46f9-a18e-598325ac153e",
   "metadata": {},
   "outputs": [],
   "source": [
    "# Load libraries\n",
    "\n",
    "# Python packages\n",
    "import numpy as np\n",
    "import scanpy as sc\n",
    "import scvi\n",
    "import bbknn\n",
    "import scib\n",
    "import harmonypy\n",
    "# import scgen\n",
    "\n",
    "import pandas as pd\n",
    "import matplotlib.pyplot as plt\n",
    "import matplotlib\n",
    "\n",
    "# R interface\n",
    "from rpy2.robjects import pandas2ri\n",
    "from rpy2.robjects import r\n",
    "import rpy2.rinterface_lib.callbacks\n",
    "import anndata2ri\n",
    "\n",
    "pandas2ri.activate()\n",
    "anndata2ri.activate()\n",
    "\n",
    "%load_ext rpy2.ipython\n",
    "\n",
    "#supress warnings\n",
    "import warnings\n",
    "warnings.simplefilter(action='ignore', category=FutureWarning)\n",
    "import sys\n",
    "import os\n",
    "_stderr = sys.stderr\n",
    "null = open(os.devnull,'wb')"
   ]
  },
  {
   "cell_type": "code",
   "execution_count": null,
   "id": "6e6a9be3-9107-4d6d-8fee-d4045a5e0586",
   "metadata": {},
   "outputs": [],
   "source": [
    "import numpy as np \n",
    "np.version.version"
   ]
  },
  {
   "cell_type": "code",
   "execution_count": null,
   "id": "295248cf-92dd-4ace-897f-bea14fe6eb24",
   "metadata": {},
   "outputs": [],
   "source": [
    "# set up working directory\n",
    "work_dir = \"/scratch_isilon/groups/singlecell/gdeuner/SERPENTINE/\""
   ]
  },
  {
   "cell_type": "code",
   "execution_count": null,
   "id": "f3b98997-8a9f-45c0-bd33-38fb3eeb3bc1",
   "metadata": {
    "scrolled": true
   },
   "outputs": [],
   "source": [
    "# set up figures directory\"\n",
    "sc.settings.figdir = os.path.join(work_dir, \"figures\", \"combined\", \"integration\", \"by_subproject/\")\n",
    "sc.set_figure_params(dpi = 600, dpi_save=600)"
   ]
  },
  {
   "cell_type": "code",
   "execution_count": null,
   "id": "0d87da5e-b80d-4447-8557-5d3919810bc4",
   "metadata": {},
   "outputs": [],
   "source": [
    "n_pcs=50"
   ]
  },
  {
   "cell_type": "markdown",
   "id": "cc794263-75f1-48eb-b213-6595af662358",
   "metadata": {},
   "source": [
    "## Integration Methods"
   ]
  },
  {
   "cell_type": "code",
   "execution_count": null,
   "id": "a201e4b2-4a40-40cc-92e5-69c62dea988f",
   "metadata": {},
   "outputs": [],
   "source": [
    "# import adata object\n",
    "adata_hvg = sc.read_h5ad(os.path.join(work_dir, \"data\", \"outputdata\", \"combined\", \"Combined_SCR_CO2_annotated_2.0_TCR_HVG_22-02-24.h5ad\"))"
   ]
  },
  {
   "cell_type": "code",
   "execution_count": null,
   "id": "bc033035-1d68-45a4-9c37-f41b637bec61",
   "metadata": {},
   "outputs": [],
   "source": [
    "# create subproject column\n",
    "adata_hvg.obs['subproject'] = adata_hvg.obs['project'].astype(str) + \"_P\" + adata_hvg.obs['patient'].astype(str) + \"_\" + adata_hvg.obs['timepoint'].astype(str)\n",
    "adata_hvg.obs[\"subproject\"]=adata_hvg.obs[\"subproject\"].astype(\"category\")"
   ]
  },
  {
   "cell_type": "code",
   "execution_count": null,
   "id": "9bb76b80-1423-475b-a452-9e5fe526bd8f",
   "metadata": {},
   "outputs": [],
   "source": [
    "# define integration vars\n",
    "label_key = \"Annotation_2.0\"\n",
    "batch_key = \"subproject\""
   ]
  },
  {
   "cell_type": "code",
   "execution_count": null,
   "id": "9d3c2cc7-f679-493e-ad3a-c933d83b4330",
   "metadata": {},
   "outputs": [],
   "source": [
    "sc.pl.umap(adata_hvg, color=[\"Annotation_1.0\", \"project\", batch_key, \"timepoint\"], wspace=1)"
   ]
  },
  {
   "cell_type": "code",
   "execution_count": null,
   "id": "7ff3d2ac-f8b9-4e9b-a453-74b15d12c9ec",
   "metadata": {},
   "outputs": [],
   "source": [
    "sc.pl.umap(adata_hvg, color=\"Annotation_1.0\", show=False, save=\"Combined_unintegrated_Annotation_1.0_umap.png\")\n",
    "sc.pl.umap(adata_hvg, color=\"Annotation_2.0\", show=False, save=\"Combined_unintegrated_Annotation_2.0_umap.png\")\n",
    "sc.pl.umap(adata_hvg, color=\"project\", show=False, save=\"Combined_unintegrated_project_umap.png\")\n",
    "sc.pl.umap(adata_hvg, color=\"subproject\", show=False, save=\"Combined_unintegrated_subproject_umap.png\")\n",
    "sc.pl.umap(adata_hvg, color=\"timepoint\", show=False, save=\"Combined_unintegrated_timepoint_umap.png\")"
   ]
  },
  {
   "cell_type": "markdown",
   "id": "6a8ca678-49fa-452d-888a-fe3687ef2b13",
   "metadata": {},
   "source": [
    "### scVI"
   ]
  },
  {
   "cell_type": "code",
   "execution_count": null,
   "id": "91144c45-ebaf-4cab-8a74-f55be1225140",
   "metadata": {},
   "outputs": [],
   "source": [
    "# create object specific to scVI\n",
    "adata_scvi = adata_hvg.copy()"
   ]
  },
  {
   "cell_type": "code",
   "execution_count": null,
   "id": "9fb3193a-ab92-4134-952a-aea6657d2bbc",
   "metadata": {},
   "outputs": [],
   "source": [
    "# prepare object\n",
    "scvi.model.SCVI.setup_anndata(adata_scvi, layer=\"counts\", batch_key=batch_key)\n",
    "adata_scvi"
   ]
  },
  {
   "cell_type": "code",
   "execution_count": null,
   "id": "7165662b-5381-41a2-a20e-3bfafb836bd3",
   "metadata": {},
   "outputs": [],
   "source": [
    "# train the model\n",
    "model_scvi = scvi.model.SCVI(adata_scvi)\n",
    "model_scvi"
   ]
  },
  {
   "cell_type": "code",
   "execution_count": null,
   "id": "fd4999d5-cd6f-49b3-9865-43d0b52a2a66",
   "metadata": {},
   "outputs": [],
   "source": [
    "# visualize model\n",
    "model_scvi.view_anndata_setup()"
   ]
  },
  {
   "cell_type": "code",
   "execution_count": null,
   "id": "633fd305-17b9-4eb5-b2ba-f57e99e03b41",
   "metadata": {},
   "outputs": [],
   "source": [
    "# train the model\n",
    "max_epochs_scvi = np.min([round((20000 / adata_hvg.n_obs) * 400), 400])\n",
    "max_epochs_scvi"
   ]
  },
  {
   "cell_type": "code",
   "execution_count": null,
   "id": "9ca28b00-b92d-4e4a-9800-f190dc813867",
   "metadata": {
    "scrolled": true
   },
   "outputs": [],
   "source": [
    "model_scvi.train()"
   ]
  },
  {
   "cell_type": "code",
   "execution_count": null,
   "id": "fa4943cd-66bb-448e-b91e-4d0cd1deebe7",
   "metadata": {},
   "outputs": [],
   "source": [
    "# extract the embedding\n",
    "adata_scvi.obsm[\"X_scVI\"] = model_scvi.get_latent_representation()"
   ]
  },
  {
   "cell_type": "code",
   "execution_count": null,
   "id": "71451957-ce84-457d-a385-f5b9423b6660",
   "metadata": {},
   "outputs": [],
   "source": [
    "# batch-corrected visualization\n",
    "sc.pp.neighbors(adata_scvi, use_rep=\"X_scVI\")\n",
    "sc.tl.umap(adata_scvi)\n",
    "adata_scvi"
   ]
  },
  {
   "cell_type": "code",
   "execution_count": null,
   "id": "f3654420-8c34-47f7-a392-d4434c9418a0",
   "metadata": {},
   "outputs": [],
   "source": [
    "sc.pl.umap(adata_scvi, color=[label_key, batch_key], wspace=1)"
   ]
  },
  {
   "cell_type": "code",
   "execution_count": null,
   "id": "3d781413-a1c9-4188-b478-bc605f6f63fd",
   "metadata": {},
   "outputs": [],
   "source": [
    "# save plots\n",
    "sc.pl.umap(adata_scvi, color=\"Annotation_1.0\", show=False, save=\"Combined_scvi_integrated-subproject_annotation1.0_umap.png\")\n",
    "sc.pl.umap(adata_scvi, color=\"Annotation_2.0\", show=False, save=\"Combined_scvi_integrated-subproject_annotation2.0_umap.png\")\n",
    "sc.pl.umap(adata_scvi, color=\"sample\", show=False, save=\"Combined_scvi_integrated-subproject_sample_id_umap.png\")\n",
    "sc.pl.umap(adata_scvi, color=\"subproject\", show=False, save=\"Combined_scvi_integrated-subproject_subproject_umap.png\")"
   ]
  },
  {
   "cell_type": "code",
   "execution_count": null,
   "id": "db1221ec-7b86-4918-aede-e9530b087ba8",
   "metadata": {},
   "outputs": [],
   "source": [
    "# save adata object\n",
    "adata_scvi.write(os.path.join(work_dir, \"data\", \"outputdata\", \"combined\", \"Combined_SCR_CO2_annotated_2.0_TCR_scVI_integrated-subproject_01-03-24.h5ad\"))"
   ]
  },
  {
   "cell_type": "markdown",
   "id": "b662fe9e-92ed-481d-ae68-9720939fd885",
   "metadata": {},
   "source": [
    "### scANVI (cell label = \"Annotation_2.0\")"
   ]
  },
  {
   "cell_type": "code",
   "execution_count": null,
   "id": "d75f3aee-e774-434a-9fe3-a330e9e7cd11",
   "metadata": {},
   "outputs": [],
   "source": [
    "# compute modell\n",
    "# Normally we would need to run scVI first but we have already done that here\n",
    "# model_scvi = scvi.model.SCVI(adata_scvi) etc.\n",
    "model_scanvi = scvi.model.SCANVI.from_scvi_model(\n",
    "    model_scvi, labels_key=label_key, unlabeled_category=\"unlabelled\"\n",
    ")\n",
    "print(model_scanvi)\n",
    "model_scanvi.view_anndata_setup()"
   ]
  },
  {
   "cell_type": "code",
   "execution_count": null,
   "id": "fc5ea881-1d02-4a5b-a153-f8fd4a63a3b7",
   "metadata": {
    "scrolled": true
   },
   "outputs": [],
   "source": [
    "# train the model\n",
    "max_epochs_scanvi = int(np.min([10, np.max([2, round(max_epochs_scvi / 3.0)])]))\n",
    "model_scanvi.train(max_epochs=max_epochs_scanvi)"
   ]
  },
  {
   "cell_type": "code",
   "execution_count": null,
   "id": "7446a4a5-10c2-4a43-972a-1048926e9530",
   "metadata": {},
   "outputs": [],
   "source": [
    "# extract latent representation from the model and create a new UMAP embedding\n",
    "adata_scanvi = adata_scvi.copy()\n",
    "adata_scanvi.obsm[\"X_scANVI\"] = model_scanvi.get_latent_representation()\n",
    "sc.pp.neighbors(adata_scanvi, use_rep=\"X_scANVI\")\n",
    "sc.tl.umap(adata_scanvi)\n",
    "sc.pl.umap(adata_scanvi, color=[label_key, batch_key], wspace=1)"
   ]
  },
  {
   "cell_type": "code",
   "execution_count": null,
   "id": "347f3923-4954-4c3a-ba98-191bcb4d185c",
   "metadata": {},
   "outputs": [],
   "source": [
    "# save plots\n",
    "sc.pl.umap(adata_scanvi, color=\"Annotation_1.0\", show=False, save=\"Combined_scanvi_integrated-subproject_anno2.0_annotation1.0_umap.png\")\n",
    "sc.pl.umap(adata_scanvi, color=\"Annotation_2.0\", show=False, save=\"Combined_scanvi_integrated-subproject_anno2.0_annotation2.0_umap.png\")\n",
    "sc.pl.umap(adata_scanvi, color=\"sample\", show=False, save=\"Combined_scanvi_integrated-subproject_anno2.0_sample_id_umap.png\")\n",
    "sc.pl.umap(adata_scanvi, color=\"subproject\", show=False, save=\"Combined_scanvi_integrated-subproject_anno2.0_subproject_umap.png\")"
   ]
  },
  {
   "cell_type": "code",
   "execution_count": null,
   "id": "b2661ef3-815a-4adc-a118-a3415ff1d92a",
   "metadata": {},
   "outputs": [],
   "source": [
    "# save adata object\n",
    "adata_scanvi.write(os.path.join(work_dir, \"data\", \"outputdata\", \"combined\", \"Combined_SCR_CO2_annotated_2.0_TCR_scANVI_anno2.0_integrated-subproject_01-03-24.h5ad\"))"
   ]
  },
  {
   "cell_type": "markdown",
   "id": "bf90d542-330e-45a4-a180-e805e70fb934",
   "metadata": {},
   "source": [
    "### scANVI (cell label = \"Annotation_1.0\")"
   ]
  },
  {
   "cell_type": "code",
   "execution_count": null,
   "id": "5287e48c-5470-41d7-a4d3-3863dfa1362f",
   "metadata": {},
   "outputs": [],
   "source": [
    "# compute modell\n",
    "# Normally we would need to run scVI first but we have already done that here\n",
    "# model_scvi = scvi.model.SCVI(adata_scvi) etc.\n",
    "model_scanvi_2 = scvi.model.SCANVI.from_scvi_model(\n",
    "    model_scvi, labels_key=\"Annotation_1.0\", unlabeled_category=\"unlabelled\"\n",
    ")\n",
    "print(model_scanvi_2)\n",
    "model_scanvi_2.view_anndata_setup()"
   ]
  },
  {
   "cell_type": "code",
   "execution_count": null,
   "id": "6f393871-4e9a-48c5-9150-cc89dc42161e",
   "metadata": {
    "scrolled": true
   },
   "outputs": [],
   "source": [
    "# train the model\n",
    "max_epochs_scanvi_2 = int(np.min([10, np.max([2, round(max_epochs_scvi / 3.0)])]))\n",
    "model_scanvi_2.train(max_epochs=max_epochs_scanvi_2)"
   ]
  },
  {
   "cell_type": "code",
   "execution_count": null,
   "id": "a92b3c3e-9486-4d54-ad07-c781127cb65b",
   "metadata": {},
   "outputs": [],
   "source": [
    "# extract latent representation from the model and create a new UMAP embedding\n",
    "adata_scanvi_2 = adata_scvi.copy()\n",
    "adata_scanvi_2.obsm[\"X_scANVI\"] = model_scanvi_2.get_latent_representation()\n",
    "sc.pp.neighbors(adata_scanvi_2, use_rep=\"X_scANVI\")\n",
    "sc.tl.umap(adata_scanvi_2)\n",
    "sc.pl.umap(adata_scanvi_2, color=[\"Annotation_1.0\", batch_key], wspace=1)"
   ]
  },
  {
   "cell_type": "code",
   "execution_count": null,
   "id": "a7b8591f-afda-428d-89ef-5e4dce9ef4b0",
   "metadata": {},
   "outputs": [],
   "source": [
    "# save plots\n",
    "sc.pl.umap(adata_scanvi_2, color=\"Annotation_1.0\", show=False, save=\"Combined_scanvi_integrated-subproject_anno1.0_annotation1.0_umap.png\")\n",
    "sc.pl.umap(adata_scanvi_2, color=\"Annotation_2.0\", show=False, save=\"Combined_scanvi_integrated-subproject_anno1.0_annotation2.0_umap.png\")\n",
    "sc.pl.umap(adata_scanvi_2, color=\"sample\", show=False, save=\"Combined_scanvi_integrated-subproject_anno1.0_sample_id_umap.png\")\n",
    "sc.pl.umap(adata_scanvi_2, color=\"subproject\", show=False, save=\"Combined_scanvi_integrated-subproject_anno1.0_subproject_umap.png\")"
   ]
  },
  {
   "cell_type": "code",
   "execution_count": null,
   "id": "50fb708e-2511-411e-9693-e35c7f64b5bb",
   "metadata": {},
   "outputs": [],
   "source": [
    "# save adata object\n",
    "adata_scanvi_2.write(os.path.join(work_dir, \"data\", \"outputdata\", \"combined\", \"Combined_SCR_CO2_annotated_2.0_TCR_scANVI_anno1.0_integrated-subproject_01-03-24.h5ad\"))"
   ]
  },
  {
   "cell_type": "markdown",
   "id": "e87a48fa-2584-412b-ad1b-646bba9e184d",
   "metadata": {},
   "source": [
    "### BBKNN"
   ]
  },
  {
   "cell_type": "code",
   "execution_count": null,
   "id": "42e01834-9c21-4433-afb5-4918708a4ed0",
   "metadata": {},
   "outputs": [],
   "source": [
    "# select number of neighbors\n",
    "neighbors_within_batch = 25 if adata_hvg.n_obs > 100000 else 3\n",
    "neighbors_within_batch"
   ]
  },
  {
   "cell_type": "code",
   "execution_count": null,
   "id": "4ba73704-c674-4edf-91dc-8e09fc0ba904",
   "metadata": {},
   "outputs": [],
   "source": [
    "# compute pca on log-normalised counts\n",
    "adata_bbknn = adata_hvg.copy()\n",
    "adata_bbknn.X = adata_bbknn.layers[\"logcounts\"].copy()\n",
    "sc.pp.pca(adata_bbknn)"
   ]
  },
  {
   "cell_type": "code",
   "execution_count": null,
   "id": "5a2e8d4f-a85a-4f5d-af87-2399d0f03a6b",
   "metadata": {},
   "outputs": [],
   "source": [
    "# run bbknn\n",
    "bbknn.bbknn(\n",
    "    adata_bbknn, batch_key=batch_key, neighbors_within_batch=neighbors_within_batch\n",
    ")\n",
    "adata_bbknn"
   ]
  },
  {
   "cell_type": "code",
   "execution_count": null,
   "id": "ac34cd07-6d20-4dcc-a23a-0a42038da7f8",
   "metadata": {},
   "outputs": [],
   "source": [
    "# reconstruct UMAP embedding using this new integrated graph\n",
    "sc.tl.umap(adata_bbknn)\n",
    "sc.pl.umap(adata_bbknn, color=[label_key, batch_key], wspace=1)"
   ]
  },
  {
   "cell_type": "code",
   "execution_count": null,
   "id": "d18113b4-55be-4fa0-8720-d355c7d515d7",
   "metadata": {},
   "outputs": [],
   "source": [
    "# save plots\n",
    "sc.pl.umap(adata_bbknn, color=\"Annotation_1.0\", show=False, save=\"Combined_bbknn_integrated-subproject_annotation1.0_umap.png\")\n",
    "sc.pl.umap(adata_bbknn, color=\"Annotation_2.0\", show=False, save=\"Combined_bbknn_integrated-subproject_annotation2.0_umap.png\")\n",
    "sc.pl.umap(adata_bbknn, color=\"sample\", show=False, save=\"Combined_bbknn_integrated-subproject_sample_id_umap.png\")\n",
    "sc.pl.umap(adata_bbknn, color=\"subproject\", show=False, save=\"Combined_bbknn_integrated-subproject_subproject_umap.png\")"
   ]
  },
  {
   "cell_type": "code",
   "execution_count": null,
   "id": "b0537632-e0d4-4aa9-b6ab-08c25d6a0823",
   "metadata": {},
   "outputs": [],
   "source": [
    "# save adata object\n",
    "adata_bbknn.write(os.path.join(work_dir, \"data\", \"outputdata\", \"combined\", \"Combined_SCR_CO2_annotated_2.0_TCR_BBKNN_integrated-subproject_01-03-24.h5ad\"))"
   ]
  },
  {
   "cell_type": "markdown",
   "id": "df73b085-3608-4b55-a6f0-c0c2ddb38c5c",
   "metadata": {},
   "source": [
    "### Harmony"
   ]
  },
  {
   "cell_type": "code",
   "execution_count": null,
   "id": "3ae4f197-6ac5-46be-b802-6b6ce7da0442",
   "metadata": {},
   "outputs": [],
   "source": [
    "# prepare anndata object\n",
    "adata_harmony = adata_hvg.copy()\n",
    "adata_harmony"
   ]
  },
  {
   "cell_type": "code",
   "execution_count": null,
   "id": "f38adbea-eee1-4c1f-951a-58c470613c45",
   "metadata": {},
   "outputs": [],
   "source": [
    "# run pca again\n",
    "sc.tl.pca(adata_harmony)"
   ]
  },
  {
   "cell_type": "code",
   "execution_count": null,
   "id": "611be16d-a2c0-45d7-b26f-0b3e44508c59",
   "metadata": {},
   "outputs": [],
   "source": [
    "sc.external.pp.harmony_integrate(adata_harmony, batch_key)"
   ]
  },
  {
   "cell_type": "code",
   "execution_count": null,
   "id": "35ff8e10-0586-4b8f-8586-49d5f4cc07b3",
   "metadata": {},
   "outputs": [],
   "source": [
    "adata_harmony"
   ]
  },
  {
   "cell_type": "code",
   "execution_count": null,
   "id": "2b437614-cbdb-48cc-962b-890c46b84417",
   "metadata": {},
   "outputs": [],
   "source": [
    "sc.pp.neighbors(adata_harmony, n_pcs=n_pcs, use_rep=\"X_pca_harmony\")\n",
    "sc.tl.umap(adata_harmony)"
   ]
  },
  {
   "cell_type": "code",
   "execution_count": null,
   "id": "efd125b6-7bbe-4925-a6db-cfa7a1060f3f",
   "metadata": {},
   "outputs": [],
   "source": [
    "sc.pl.umap(adata_harmony, color=[label_key, batch_key], wspace=1)"
   ]
  },
  {
   "cell_type": "code",
   "execution_count": null,
   "id": "230f2981-8e5b-42a2-bc47-f9319cb7144c",
   "metadata": {},
   "outputs": [],
   "source": [
    "# save plots\n",
    "sc.pl.umap(adata_harmony, color=\"Annotation_1.0\", show=False, save=\"Combined_harmony_integrated-subproject_annotation1.0_umap.png\")\n",
    "sc.pl.umap(adata_harmony, color=\"Annotation_2.0\", show=False, save=\"Combined_harmony_integrated-subproject_annotation2.0_umap.png\")\n",
    "sc.pl.umap(adata_harmony, color=\"sample\", show=False, save=\"Combined_harmony_integrated-subproject_sample_id_umap.png\")\n",
    "sc.pl.umap(adata_harmony, color=\"subproject\", show=False, save=\"Combined_harmony_integrated-subproject_subproject_umap.png\")"
   ]
  },
  {
   "cell_type": "code",
   "execution_count": null,
   "id": "12308ae2-926d-449d-82fd-9159bceaccb5",
   "metadata": {},
   "outputs": [],
   "source": [
    "# save adata object\n",
    "adata_harmony.write(os.path.join(work_dir, \"data\", \"outputdata\", \"combined\", \"Combined_SCR_CO2_annotated_2.0_TCR_harmony_integrated-subproject_01-03-24.h5ad\"))"
   ]
  },
  {
   "cell_type": "markdown",
   "id": "56e8f447-bafc-48de-b60c-c794129d94f1",
   "metadata": {},
   "source": [
    "### MNN"
   ]
  },
  {
   "cell_type": "code",
   "execution_count": null,
   "id": "23b8fb14-7ec8-410c-9693-00243332ac6e",
   "metadata": {},
   "outputs": [],
   "source": [
    "adata_seurat = adata_hvg.copy()"
   ]
  },
  {
   "cell_type": "code",
   "execution_count": null,
   "id": "d2d881ff-4375-4356-9597-e5e99e8a8166",
   "metadata": {},
   "outputs": [],
   "source": [
    "adata_seurat_list = [adata_seurat[adata_seurat.obs[batch_key] == i] for i in adata_seurat.obs[batch_key].unique()]\n"
   ]
  },
  {
   "cell_type": "code",
   "execution_count": null,
   "id": "4b906c90-dcd2-4b03-bf63-c21b25d66aca",
   "metadata": {},
   "outputs": [],
   "source": [
    "import mnnpy\n",
    "adata_seurat = sc.external.pp.mnn_correct(*adata_seurat_list, batch_key = batch_key) "
   ]
  },
  {
   "cell_type": "code",
   "execution_count": null,
   "id": "edf027c0-94fe-4f1c-8831-90b062f9ad68",
   "metadata": {},
   "outputs": [],
   "source": [
    "adata_seurat_full = adata_seurat\n",
    "adata_seurat = adata_seurat_full[0]"
   ]
  },
  {
   "cell_type": "code",
   "execution_count": null,
   "id": "f5cede8f-7d8d-46ab-8471-851c0c729925",
   "metadata": {},
   "outputs": [],
   "source": [
    "sc.tl.pca(adata_seurat)\n",
    "sc.pp.neighbors(adata_seurat, n_pcs=n_pcs)\n",
    "sc.tl.umap(adata_seurat)\n",
    "sc.pl.umap(adata_seurat, color=[label_key, batch_key], wspace=1)"
   ]
  },
  {
   "cell_type": "code",
   "execution_count": null,
   "id": "c4424739-a529-42ee-9196-4058cda3a355",
   "metadata": {},
   "outputs": [],
   "source": [
    "# save plots\n",
    "sc.pl.umap(adata_seurat, color=\"Annotation_1.0\", show=False, save=\"Combined_mnn_integrated-subproject_annotation1.0_umap.png\")\n",
    "sc.pl.umap(adata_seurat, color=\"Annotation_2.0\", show=False, save=\"Combined_mnn_integrated-subproject_annotation2.0_umap.png\")\n",
    "sc.pl.umap(adata_seurat, color=\"sample\", show=False, save=\"Combined_mnn_integrated-subproject_sample_id_umap.png\")\n",
    "sc.pl.umap(adata_seurat, color=\"subproject\", show=False, save=\"Combined_mnn_integrated-subproject_subproject_umap.png\")"
   ]
  },
  {
   "cell_type": "code",
   "execution_count": null,
   "id": "557401e8-c07e-402e-977b-a26a93dcb59f",
   "metadata": {},
   "outputs": [],
   "source": [
    "# save adata object\n",
    "adata_seurat.write(os.path.join(work_dir, \"data\", \"outputdata\", \"combined\", \"Combined_SCR_CO2_annotated_2.0_TCR_MNN_integrated-subproject_01-03-24.h5ad\"))"
   ]
  },
  {
   "cell_type": "markdown",
   "id": "66be0d44-b972-426d-b742-1fac83e56c8a",
   "metadata": {},
   "source": [
    "### Scanorama"
   ]
  },
  {
   "cell_type": "code",
   "execution_count": null,
   "id": "409411a7-6491-4a74-820c-a3f9eb8a1e09",
   "metadata": {},
   "outputs": [],
   "source": [
    "adata_scanorama = adata_hvg.copy()\n",
    "# sort cells by batches as required by scanorama\n",
    "idx = adata_scanorama.obs.sort_values(batch_key).index\n",
    "adata_scanorama = adata_scanorama[idx,]"
   ]
  },
  {
   "cell_type": "code",
   "execution_count": null,
   "id": "45b3ed00-7d9a-414a-8b12-00bbc53036db",
   "metadata": {},
   "outputs": [],
   "source": [
    "adata_scanorama_split  = []\n",
    "\n",
    "for batch in adata_scanorama.obs[batch_key].unique():\n",
    "    adata_scanorama_split.append(adata_scanorama[adata_scanorama.obs[batch_key]==batch].copy())"
   ]
  },
  {
   "cell_type": "code",
   "execution_count": null,
   "id": "771af6bb-53bb-4b77-a955-288e7f75921d",
   "metadata": {},
   "outputs": [],
   "source": [
    "import scanorama\n",
    "# Now we run Scanorama on the split data.\n",
    "corrected = scanorama.correct_scanpy(adata_scanorama_split, return_dimred=True)\n",
    "\n",
    "# Merge the corrected datasets\n",
    "adata_scanorama_corr = corrected[0].concatenate(corrected[1:])\n",
    "adata_scanorama_corr.obs_names_make_unique(join='_')"
   ]
  },
  {
   "cell_type": "code",
   "execution_count": null,
   "id": "82980b70-4523-45e2-8601-261242652dbf",
   "metadata": {},
   "outputs": [],
   "source": [
    "sc.pp.neighbors(adata_scanorama_corr, n_pcs=n_pcs, use_rep=\"X_scanorama\")\n",
    "sc.tl.umap(adata_scanorama_corr)\n",
    "sc.pl.umap(adata_scanorama_corr, color=[label_key, batch_key], wspace=1)"
   ]
  },
  {
   "cell_type": "code",
   "execution_count": null,
   "id": "354a6e64-93fd-49cd-997e-502ae38b6fec",
   "metadata": {},
   "outputs": [],
   "source": [
    "# save plots\n",
    "sc.pl.umap(adata_scanorama_corr, color=\"Annotation_1.0\", show=False, save=\"Combined_scanorama_integrated-subproject_annotation1.0_umap.png\")\n",
    "sc.pl.umap(adata_scanorama_corr, color=\"Annotation_2.0\", show=False, save=\"Combined_scanorama_integrated-subproject_annotation2.0_umap.png\")\n",
    "sc.pl.umap(adata_scanorama_corr, color=\"sample\", show=False, save=\"Combined_scanorama_integrated-subproject_sample_id_umap.png\")\n",
    "sc.pl.umap(adata_scanorama_corr, color=\"subproject\", show=False, save=\"Combined_scanorama_integrated-subproject_subproject_umap.png\")"
   ]
  },
  {
   "cell_type": "code",
   "execution_count": null,
   "id": "f4f87268-62fc-4dd1-b467-64b343d15bf8",
   "metadata": {},
   "outputs": [],
   "source": [
    "# save adata object\n",
    "adata_scanorama_corr.write(os.path.join(work_dir, \"data\", \"outputdata\", \"combined\", \"Combined_SCR_CO2_annotated_2.0_TCR_scanorama_integrated-subproject_01-03-24.h5ad\"))"
   ]
  }
 ],
 "metadata": {
  "kernelspec": {
   "display_name": "Python 3 (ipykernel)",
   "language": "python",
   "name": "python3"
  },
  "language_info": {
   "codemirror_mode": {
    "name": "ipython",
    "version": 3
   },
   "file_extension": ".py",
   "mimetype": "text/x-python",
   "name": "python",
   "nbconvert_exporter": "python",
   "pygments_lexer": "ipython3",
   "version": "3.9.18"
  }
 },
 "nbformat": 4,
 "nbformat_minor": 5
}
