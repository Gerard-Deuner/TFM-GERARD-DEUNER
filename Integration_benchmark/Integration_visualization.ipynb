{
 "cells": [
  {
   "cell_type": "markdown",
   "id": "39508065-c911-4b84-8e47-fb8c1def0480",
   "metadata": {},
   "source": [
    "# Integration Visualization"
   ]
  },
  {
   "cell_type": "code",
   "execution_count": null,
   "id": "c5610850-7913-427b-887d-3daecef5d942",
   "metadata": {},
   "outputs": [],
   "source": [
    "# load packages\n",
    "import sys\n",
    "import scanpy as sc\n",
    "import os\n",
    "import sys"
   ]
  },
  {
   "cell_type": "code",
   "execution_count": null,
   "id": "442ef969-b8bb-407d-ac2b-c23b4f699010",
   "metadata": {},
   "outputs": [],
   "source": [
    "# set up dirs\n",
    "work_dir = \"/scratch_isilon/groups/singlecell/gdeuner/SERPENTINE/\"\n",
    "sc.settings.figdir = os.path.join(work_dir, \"figures\", \"combined\", \"integration\", \"final_figures/\")\n",
    "sc.set_figure_params(dpi = 600, dpi_save=600)"
   ]
  },
  {
   "cell_type": "markdown",
   "id": "078d15c8-98e1-40fa-9afb-6ee0a93cf275",
   "metadata": {},
   "source": [
    "### Integration by \"subproject\""
   ]
  },
  {
   "cell_type": "code",
   "execution_count": null,
   "id": "58761284-9e59-4fe9-9247-d7f18c570b67",
   "metadata": {},
   "outputs": [],
   "source": [
    "# read anndata objects\n",
    "\n",
    "#################\n",
    "# By Subproject #\n",
    "#################\n",
    "\n",
    "# HVG\n",
    "adata_hvg_sp = sc.read_h5ad(os.path.join(work_dir, \"data\", \"outputdata\", \"combined\", \"Combined_SCR_CO2_annotated_2.0_TCR_HVG_22-02-24.h5ad\"))\n",
    "adata_hvg_sp.obs['subproject'] = adata_hvg_sp.obs['project'].astype(str) + \"_P\" + adata_hvg_sp.obs['patient'].astype(str) + \"_\" + adata_hvg_sp.obs['timepoint'].astype(str)\n",
    "\n",
    "# scVI\n",
    "adata_scvi_sp = sc.read_h5ad(os.path.join(work_dir, \"data\", \"outputdata\", \"combined\", \"Combined_SCR_CO2_annotated_2.0_TCR_scVI_integrated-subproject_01-03-24.h5ad\"))\n",
    "\n",
    "# scANVI Annotation 1.0\n",
    "adata_scanvi_1_sp = sc.read_h5ad(os.path.join(work_dir, \"data\", \"outputdata\", \"combined\", \"Combined_SCR_CO2_annotated_2.0_TCR_scANVI_anno1.0_integrated-subproject_01-03-24.h5ad\"))\n",
    "\n",
    "# scANVI Annotation 2.0\n",
    "adata_scanvi_2_sp = sc.read_h5ad(os.path.join(work_dir, \"data\", \"outputdata\", \"combined\", \"Combined_SCR_CO2_annotated_2.0_TCR_scANVI_anno2.0_integrated-subproject_01-03-24.h5ad\"))\n",
    "\n",
    "# scGen Annotation 1.0\n",
    "adata_scgen_1_sp = sc.read_h5ad(os.path.join(work_dir, \"data\", \"outputdata\", \"combined\", \"Combined_SCR_CO2_annotated_2.0_TCR_scGen_anno1.0_integrated-subproject_01-03-24.h5ad\"))\n",
    "\n",
    "# scGen Annotation 2.0\n",
    "adata_scgen_2_sp = sc.read_h5ad(os.path.join(work_dir, \"data\", \"outputdata\", \"combined\", \"Combined_SCR_CO2_annotated_2.0_TCR_scGen_anno2.0_integrated-subproject_01-03-24.h5ad\"))\n",
    "\n",
    "# BBKNN\n",
    "adata_bbknn_sp = sc.read_h5ad(os.path.join(work_dir, \"data\", \"outputdata\", \"combined\", \"Combined_SCR_CO2_annotated_2.0_TCR_BBKNN_integrated-subproject_01-03-24.h5ad\"))\n",
    "\n",
    "# Harmony\n",
    "adata_harmony_sp = sc.read_h5ad(os.path.join(work_dir, \"data\", \"outputdata\", \"combined\", \"Combined_SCR_CO2_annotated_2.0_TCR_harmony_integrated-subproject_01-03-24.h5ad\"))\n",
    "\n",
    "# FastMNN\n",
    "adata_mnn_sp = sc.read_h5ad(os.path.join(work_dir, \"data\", \"outputdata\", \"combined\", \"Combined_SCR_CO2_annotated_2.0_TCR_MNN_integrated-subproject_01-03-24.h5ad\"))\n",
    "\n",
    "# Scanorama\n",
    "adata_scanorama_sp = sc.read_h5ad(os.path.join(work_dir, \"data\", \"outputdata\", \"combined\", \"Combined_SCR_CO2_annotated_2.0_TCR_scanorama_integrated-subproject_01-03-24.h5ad\"))\n"
   ]
  },
  {
   "cell_type": "code",
   "execution_count": null,
   "id": "e54c4590-f60d-48f9-a723-b52baa33edd0",
   "metadata": {
    "scrolled": true
   },
   "outputs": [],
   "source": [
    "# Unintegrated data visualization\n",
    "noint_sp_umap = sc.pl.umap(\n",
    "    adata=adata_hvg_sp,\n",
    "    color=[\"Annotation_1.0\", \"Annotation_2.0\", \"sample\", \"subproject\", \"timepoint\"],\n",
    "    title=[\"Cell Type 1.0\", \"Cell Type 2.0\", \"Sample\", \"Subproject\", \"Timepoint\"],\n",
    "    ncols=1,\n",
    "    frameon=False,\n",
    "    legend_loc=None,\n",
    "    save=\"Combined_unintegrated_integration_plots_umap.png\"\n",
    ")"
   ]
  },
  {
   "cell_type": "code",
   "execution_count": null,
   "id": "22da84d9-c9ec-45f0-8cdc-d3fc677c34cd",
   "metadata": {
    "scrolled": true
   },
   "outputs": [],
   "source": [
    "# scVI integrated data visualization\n",
    "scvi_sp_umap = sc.pl.umap(\n",
    "    adata=adata_scvi_sp,\n",
    "    color=[\"Annotation_1.0\", \"Annotation_2.0\", \"sample\", \"subproject\", \"timepoint\"],\n",
    "    title=[\"Cell Type 1.0\", \"Cell Type 2.0\", \"Sample\", \"Subproject\", \"Timepoint\"],\n",
    "    ncols=1,\n",
    "    frameon=False,\n",
    "    legend_loc=None,\n",
    "    save=\"Combined_scVI_integrated-subproject_integration_plots_umap.png\"\n",
    ")"
   ]
  },
  {
   "cell_type": "code",
   "execution_count": null,
   "id": "87326314-3384-4e6b-b2a8-83a7146a8c71",
   "metadata": {
    "scrolled": true
   },
   "outputs": [],
   "source": [
    "# scANVI 1.0 integrated data visualization\n",
    "scanvi_1_sp_umap = sc.pl.umap(\n",
    "    adata=adata_scanvi_1_sp,\n",
    "    color=[\"Annotation_1.0\", \"Annotation_2.0\", \"sample\", \"subproject\", \"timepoint\"],\n",
    "    title=[\"Cell Type 1.0\", \"Cell Type 2.0\", \"Sample\", \"Subproject\", \"Timepoint\"],\n",
    "    ncols=1,\n",
    "    frameon=False,\n",
    "    legend_loc=None,\n",
    "    save=\"Combined_scANVI_anno1.0_integrated-subproject_integration_plots_umap.png\"\n",
    ")"
   ]
  },
  {
   "cell_type": "code",
   "execution_count": null,
   "id": "18dfac7f-1756-41fe-8f89-f7cdd17783b5",
   "metadata": {
    "scrolled": true
   },
   "outputs": [],
   "source": [
    "# scANVI 2.0 integrated data visualization\n",
    "scanvi_2_sp_umap = sc.pl.umap(\n",
    "    adata=adata_scanvi_2_sp,\n",
    "    color=[\"Annotation_1.0\", \"Annotation_2.0\", \"sample\", \"subproject\", \"timepoint\"],\n",
    "    title=[\"Cell Type 1.0\", \"Cell Type 2.0\", \"Sample\", \"Subproject\", \"Timepoint\"],\n",
    "    ncols=1,\n",
    "    frameon=False,\n",
    "    legend_loc=None,\n",
    "    save=\"Combined_scANVI_anno2.0_integrated-subproject_integration_plots_umap.png\"\n",
    ")"
   ]
  },
  {
   "cell_type": "code",
   "execution_count": null,
   "id": "758565f7-d411-420b-9902-eb08cf875760",
   "metadata": {
    "scrolled": true
   },
   "outputs": [],
   "source": [
    "# scGen 1.0 integrated data visualization\n",
    "scgen_1_sp_umap = sc.pl.umap(\n",
    "    adata=adata_scgen_1_sp,\n",
    "    color=[\"Annotation_1.0\", \"Annotation_2.0\", \"sample\", \"subproject\", \"timepoint\"],\n",
    "    title=[\"Cell Type 1.0\", \"Cell Type 2.0\", \"Sample\", \"Subproject\", \"Timepoint\"],\n",
    "    ncols=1,\n",
    "    frameon=False,\n",
    "    legend_loc=None,\n",
    "    save=\"Combined_scGen_anno1.0_integrated-subproject_integration_plots_umap.png\"\n",
    ")"
   ]
  },
  {
   "cell_type": "code",
   "execution_count": null,
   "id": "5e51e7b5-12da-4876-aeee-96d4330d7b23",
   "metadata": {
    "scrolled": true
   },
   "outputs": [],
   "source": [
    "# scGen 2.0 integrated data visualization\n",
    "scgen_2_sp_umap = sc.pl.umap(\n",
    "    adata=adata_scgen_2_sp,\n",
    "    color=[\"Annotation_1.0\", \"Annotation_2.0\", \"sample\", \"subproject\", \"timepoint\"],\n",
    "    title=[\"Cell Type 1.0\", \"Cell Type 2.0\", \"Sample\", \"Subproject\", \"Timepoint\"],\n",
    "    ncols=1,\n",
    "    frameon=False,\n",
    "    legend_loc=None,\n",
    "    save=\"Combined_scGen_anno2.0_integrated-subproject_integration_plots_umap.png\"\n",
    ")"
   ]
  },
  {
   "cell_type": "code",
   "execution_count": null,
   "id": "c284640a-7239-40bd-a9eb-8ad27ed9125c",
   "metadata": {
    "scrolled": true
   },
   "outputs": [],
   "source": [
    "# BBKNN integrated data visualization\n",
    "bbknn_sp_umap = sc.pl.umap(\n",
    "    adata=adata_bbknn_sp,\n",
    "    color=[\"Annotation_1.0\", \"Annotation_2.0\", \"sample\", \"subproject\", \"timepoint\"],\n",
    "    title=[\"Cell Type 1.0\", \"Cell Type 2.0\", \"Sample\", \"Subproject\", \"Timepoint\"],\n",
    "    ncols=1,\n",
    "    frameon=False,\n",
    "    legend_loc=None,\n",
    "    save=\"Combined_BBKNN_integrated-subproject_integration_plots_umap.png\"\n",
    ")"
   ]
  },
  {
   "cell_type": "code",
   "execution_count": null,
   "id": "87a94a2f-bd66-406d-9f45-8226361c1800",
   "metadata": {
    "scrolled": true
   },
   "outputs": [],
   "source": [
    "# Harmony integrated data visualization\n",
    "harmony_sp_umap = sc.pl.umap(\n",
    "    adata=adata_harmony_sp,\n",
    "    color=[\"Annotation_1.0\", \"Annotation_2.0\", \"sample\", \"subproject\", \"timepoint\"],\n",
    "    title=[\"Cell Type 1.0\", \"Cell Type 2.0\", \"Sample\", \"Subproject\", \"Timepoint\"],\n",
    "    ncols=1,\n",
    "    frameon=False,\n",
    "    legend_loc=None,\n",
    "    save=\"Combined_harmony_integrated-subproject_integration_plots_umap.png\"\n",
    ")"
   ]
  },
  {
   "cell_type": "code",
   "execution_count": null,
   "id": "d0ad24f6-c1d0-4dfd-b113-0e81d2620039",
   "metadata": {
    "scrolled": true
   },
   "outputs": [],
   "source": [
    "# FastMNN integrated data visualization\n",
    "mnn_sp_umap = sc.pl.umap(\n",
    "    adata=adata_mnn_sp,\n",
    "    color=[\"Annotation_1.0\", \"Annotation_2.0\", \"sample\", \"subproject\", \"timepoint\"],\n",
    "    title=[\"Cell Type 1.0\", \"Cell Type 2.0\", \"Sample\", \"Subproject\", \"Timepoint\"],\n",
    "    ncols=1,\n",
    "    frameon=False,\n",
    "    legend_loc=None,\n",
    "    save=\"Combined_MNN_integrated-subproject_integration_plots_umap.png\"\n",
    ")"
   ]
  },
  {
   "cell_type": "code",
   "execution_count": null,
   "id": "c9894174-caf8-4456-947e-a2b71639eaa0",
   "metadata": {
    "scrolled": true
   },
   "outputs": [],
   "source": [
    "# Scanorama integrated data visualization\n",
    "scanorama_sp_umap = sc.pl.umap(\n",
    "    adata=adata_scanorama_sp,\n",
    "    color=[\"Annotation_1.0\", \"Annotation_2.0\", \"sample\", \"subproject\", \"timepoint\"],\n",
    "    title=[\"Cell Type 1.0\", \"Cell Type 2.0\", \"Sample\", \"Subproject\", \"Timepoint\"],\n",
    "    ncols=1,\n",
    "    frameon=False,\n",
    "    save=\"Combined_scanorama_integrated-subproject_integration_plots_umap.png\"\n",
    ")"
   ]
  },
  {
   "cell_type": "markdown",
   "id": "5b7eac82-1680-4e37-8c70-8fab3ec18716",
   "metadata": {},
   "source": [
    "### Integration by \"sample\""
   ]
  },
  {
   "cell_type": "code",
   "execution_count": null,
   "id": "6c8343c1-5808-4d46-b751-84c16638aa2d",
   "metadata": {},
   "outputs": [],
   "source": [
    "# read anndata objects\n",
    "\n",
    "#################\n",
    "# By Subproject #\n",
    "#################\n",
    "\n",
    "# HVG\n",
    "adata_hvg_s = sc.read_h5ad(os.path.join(work_dir, \"data\", \"outputdata\", \"combined\", \"Combined_SCR_CO2_annotated_2.0_TCR_HVG_22-02-24.h5ad\"))\n",
    "adata_hvg_s.obs['subproject'] = adata_hvg_s.obs['project'].astype(str) + \"_P\" + adata_hvg_s.obs['patient'].astype(str) + \"_\" + adata_hvg_s.obs['timepoint'].astype(str)\n",
    "\n",
    "# scVI\n",
    "adata_scvi_s = sc.read_h5ad(os.path.join(work_dir, \"data\", \"outputdata\", \"combined\", \"Combined_SCR_CO2_annotated_2.0_TCR_scVI_integrated-sample_22-02-24.h5ad\"))\n",
    "adata_scvi_s.obs['subproject'] = adata_scvi_s.obs['project'].astype(str) + \"_P\" + adata_scvi_s.obs['patient'].astype(str) + \"_\" + adata_scvi_s.obs['timepoint'].astype(str)\n",
    "\n",
    "# scANVI Annotation 1.0\n",
    "adata_scanvi_1_s = sc.read_h5ad(os.path.join(work_dir, \"data\", \"outputdata\", \"combined\", \"Combined_SCR_CO2_annotated_2.0_TCR_scANVI_anno1.0_integrated-sample_22-02-24.h5ad\"))\n",
    "adata_hvg_s.obs['subproject'] = adata_hvg_s.obs['project'].astype(str) + \"_P\" + adata_hvg_s.obs['patient'].astype(str) + \"_\" + adata_hvg_s.obs['timepoint'].astype(str)\n",
    "\n",
    "# scANVI Annotation 2.0\n",
    "adata_scanvi_2_s = sc.read_h5ad(os.path.join(work_dir, \"data\", \"outputdata\", \"combined\", \"Combined_SCR_CO2_annotated_2.0_TCR_scANVI_anno2.0_integrated-sample_22-02-24.h5ad\"))\n",
    "adata_scanvi_2_s.obs['subproject'] = adata_scanvi_2_s.obs['project'].astype(str) + \"_P\" + adata_scanvi_2_s.obs['patient'].astype(str) + \"_\" + adata_scanvi_2_s.obs['timepoint'].astype(str)\n",
    "\n",
    "# scGen Annotation 1.0\n",
    "adata_scgen_1_s = sc.read_h5ad(os.path.join(work_dir, \"data\", \"outputdata\", \"combined\", \"Combined_SCR_CO2_annotated_2.0_TCR_scGen_anno1.0_integrated-sample_22-02-24.h5ad\"))\n",
    "adata_scgen_1_s.obs['subproject'] = adata_scgen_1_s.obs['project'].astype(str) + \"_P\" + adata_scgen_1_s.obs['patient'].astype(str) + \"_\" + adata_scgen_1_s.obs['timepoint'].astype(str)\n",
    "\n",
    "# scGen Annotation 2.0\n",
    "adata_scgen_2_s = sc.read_h5ad(os.path.join(work_dir, \"data\", \"outputdata\", \"combined\", \"Combined_SCR_CO2_annotated_2.0_TCR_scGen_anno2.0_integrated-sample_22-02-24.h5ad\"))\n",
    "adata_scgen_2_s.obs['subproject'] = adata_scgen_2_s.obs['project'].astype(str) + \"_P\" + adata_scgen_2_s.obs['patient'].astype(str) + \"_\" + adata_scgen_2_s.obs['timepoint'].astype(str)\n",
    "\n",
    "# BBKNN\n",
    "adata_bbknn_s = sc.read_h5ad(os.path.join(work_dir, \"data\", \"outputdata\", \"combined\", \"Combined_SCR_CO2_annotated_2.0_TCR_BBKNN_integrated-sample_22-02-24.h5ad\"))\n",
    "adata_bbknn_s.obs['subproject'] = adata_bbknn_s.obs['project'].astype(str) + \"_P\" + adata_bbknn_s.obs['patient'].astype(str) + \"_\" + adata_bbknn_s.obs['timepoint'].astype(str)\n",
    "\n",
    "# Harmony\n",
    "adata_harmony_s = sc.read_h5ad(os.path.join(work_dir, \"data\", \"outputdata\", \"combined\", \"Combined_SCR_CO2_annotated_2.0_TCR_harmony_integrated-sample_22-02-24.h5ad\"))\n",
    "adata_harmony_s.obs['subproject'] = adata_harmony_s.obs['project'].astype(str) + \"_P\" + adata_harmony_s.obs['patient'].astype(str) + \"_\" + adata_harmony_s.obs['timepoint'].astype(str)\n",
    "\n",
    "# FastMNN\n",
    "adata_mnn_s = sc.read_h5ad(os.path.join(work_dir, \"data\", \"outputdata\", \"combined\", \"Combined_SCR_CO2_annotated_2.0_TCR_MNN_integrated-sample_22-02-24.h5ad\"))\n",
    "adata_mnn_s.obs['subproject'] = adata_mnn_s.obs['project'].astype(str) + \"_P\" + adata_mnn_s.obs['patient'].astype(str) + \"_\" + adata_mnn_s.obs['timepoint'].astype(str)\n",
    "\n",
    "# Scanorama\n",
    "adata_scanorama_s = sc.read_h5ad(os.path.join(work_dir, \"data\", \"outputdata\", \"combined\", \"Combined_SCR_CO2_annotated_2.0_TCR_scanorama_integrated-sample_22-02-24.h5ad\"))\n",
    "adata_scanorama_s.obs['subproject'] = adata_scanorama_s.obs['project'].astype(str) + \"_P\" + adata_scanorama_s.obs['patient'].astype(str) + \"_\" + adata_scanorama_s.obs['timepoint'].astype(str)\n"
   ]
  },
  {
   "cell_type": "code",
   "execution_count": null,
   "id": "2d728f3e-97f0-41ec-b485-bf7940b82ac4",
   "metadata": {},
   "outputs": [],
   "source": [
    "adata_mnn_s.obs"
   ]
  },
  {
   "cell_type": "code",
   "execution_count": null,
   "id": "f9225ddd-7233-49a9-a275-f55e231d0d4b",
   "metadata": {},
   "outputs": [],
   "source": [
    "adata_hvg_s.obs"
   ]
  },
  {
   "cell_type": "code",
   "execution_count": null,
   "id": "a6fd9f31-da0b-4913-afd6-0cf1ed8ebe27",
   "metadata": {},
   "outputs": [],
   "source": [
    "adata_mnn_s.obs[\"sample1\"]=adata_mnn_s.obs_names.map(adata_hvg_s.obs[\"sample\"])"
   ]
  },
  {
   "cell_type": "code",
   "execution_count": null,
   "id": "b31f925e-dec2-41f4-ade9-3b7a137a3260",
   "metadata": {},
   "outputs": [],
   "source": [
    "adata_mnn_s.obs.reset_index().merge(adata_hvg_s.obs[[\"sample\"]].reset_index(), on=\"index\", how=\"left\").set_index(\"index\")"
   ]
  },
  {
   "cell_type": "code",
   "execution_count": null,
   "id": "2f257ecd-a094-4d63-87c9-b4a5ac4847ae",
   "metadata": {},
   "outputs": [],
   "source": [
    "adata_mnn_s.obs"
   ]
  },
  {
   "cell_type": "code",
   "execution_count": null,
   "id": "09ffa6cc-ab54-456b-9d4e-a7171e5211ff",
   "metadata": {
    "scrolled": true
   },
   "outputs": [],
   "source": [
    "# Unintegrated data visualization\n",
    "noint_s_umap = sc.pl.umap(\n",
    "    adata=adata_hvg_s,\n",
    "    color=[\"Annotation_1.0\", \"Annotation_2.0\", \"sample\", \"subproject\", \"timepoint\"],\n",
    "    title=[\"Cell Type 1.0\", \"Cell Type 2.0\", \"Sample\", \"Subproject\", \"Timepoint\"],\n",
    "    ncols=1,\n",
    "    frameon=False,\n",
    "    legend_loc=None,\n",
    "    save=\"Combined_unintegrated_integration_plots_umap.png\"\n",
    ")"
   ]
  },
  {
   "cell_type": "code",
   "execution_count": null,
   "id": "cd1f8a24-5ddc-4183-b9f2-cbf505efc0cc",
   "metadata": {
    "scrolled": true
   },
   "outputs": [],
   "source": [
    "# scVI integrated data visualization\n",
    "scvi_s_umap = sc.pl.umap(\n",
    "    adata=adata_scvi_s,\n",
    "    color=[\"Annotation_1.0\", \"Annotation_2.0\", \"sample\", \"subproject\", \"timepoint\"],\n",
    "    title=[\"Cell Type 1.0\", \"Cell Type 2.0\", \"Sample\", \"Subproject\", \"Timepoint\"],\n",
    "    ncols=1,\n",
    "    frameon=False,\n",
    "    legend_loc=None,\n",
    "    save=\"Combined_scVI_integrated-sample_integration_plots_umap.png\"\n",
    ")"
   ]
  },
  {
   "cell_type": "code",
   "execution_count": null,
   "id": "ec737254-18f8-4ac7-a6d3-8c29e069ce3e",
   "metadata": {
    "scrolled": true
   },
   "outputs": [],
   "source": [
    "# scANVI 1.0 integrated data visualization\n",
    "scanvi_1_s_umap = sc.pl.umap(\n",
    "    adata=adata_scanvi_1_s,\n",
    "    color=[\"Annotation_1.0\", \"Annotation_2.0\", \"sample\", \"subproject\", \"timepoint\"],\n",
    "    title=[\"Cell Type 1.0\", \"Cell Type 2.0\", \"Sample\", \"Subproject\", \"Timepoint\"],\n",
    "    ncols=1,\n",
    "    frameon=False,\n",
    "    legend_loc=None,\n",
    "    save=\"Combined_scANVI_anno1.0_integrated-sample_integration_plots_umap.png\"\n",
    ")"
   ]
  },
  {
   "cell_type": "code",
   "execution_count": null,
   "id": "0e29dcef-52d5-467b-beae-cbb93328a141",
   "metadata": {
    "scrolled": true
   },
   "outputs": [],
   "source": [
    "# scANVI 2.0 integrated data visualization\n",
    "scanvi_2_s_umap = sc.pl.umap(\n",
    "    adata=adata_scanvi_2_s,\n",
    "    color=[\"Annotation_1.0\", \"Annotation_2.0\", \"sample\", \"subproject\", \"timepoint\"],\n",
    "    title=[\"Cell Type 1.0\", \"Cell Type 2.0\", \"Sample\", \"Subproject\", \"Timepoint\"],\n",
    "    ncols=1,\n",
    "    frameon=False,\n",
    "    legend_loc=None,\n",
    "    save=\"Combined_scANVI_anno2.0_integrated-sample_integration_plots_umap.png\"\n",
    ")"
   ]
  },
  {
   "cell_type": "code",
   "execution_count": null,
   "id": "94a9e14d-1b4e-4ec0-8b38-7bc6f72dd7a0",
   "metadata": {
    "scrolled": true
   },
   "outputs": [],
   "source": [
    "# scGen 1.0 integrated data visualization\n",
    "scgen_1_s_umap = sc.pl.umap(\n",
    "    adata=adata_scgen_1_s,\n",
    "    color=[\"Annotation_1.0\", \"Annotation_2.0\", \"sample\", \"subproject\", \"timepoint\"],\n",
    "    title=[\"Cell Type 1.0\", \"Cell Type 2.0\", \"Sample\", \"Subproject\", \"Timepoint\"],\n",
    "    ncols=1,\n",
    "    frameon=False,\n",
    "    legend_loc=None,\n",
    "    save=\"Combined_scGen_anno1.0_integrated-sample_integration_plots_umap.png\"\n",
    ")"
   ]
  },
  {
   "cell_type": "code",
   "execution_count": null,
   "id": "3c18c749-f9a8-4231-bab6-1446eb7d0f66",
   "metadata": {
    "scrolled": true
   },
   "outputs": [],
   "source": [
    "# scGen 2.0 integrated data visualization\n",
    "scgen_2_s_umap = sc.pl.umap(\n",
    "    adata=adata_scgen_2_s,\n",
    "    color=[\"Annotation_1.0\", \"Annotation_2.0\", \"sample\", \"subproject\", \"timepoint\"],\n",
    "    title=[\"Cell Type 1.0\", \"Cell Type 2.0\", \"Sample\", \"Subproject\", \"Timepoint\"],\n",
    "    ncols=1,\n",
    "    frameon=False,\n",
    "    legend_loc=None,\n",
    "    save=\"Combined_scGen_anno2.0_integrated-sample_integration_plots_umap.png\"\n",
    ")"
   ]
  },
  {
   "cell_type": "code",
   "execution_count": null,
   "id": "290402d0-bcf9-4d23-93a8-e6c3f34bd3df",
   "metadata": {
    "scrolled": true
   },
   "outputs": [],
   "source": [
    "# BBKNN integrated data visualization\n",
    "bbknn_s_umap = sc.pl.umap(\n",
    "    adata=adata_bbknn_s,\n",
    "    color=[\"Annotation_1.0\", \"Annotation_2.0\", \"sample\", \"subproject\", \"timepoint\"],\n",
    "    title=[\"Cell Type 1.0\", \"Cell Type 2.0\", \"Sample\", \"Subproject\", \"Timepoint\"],\n",
    "    ncols=1,\n",
    "    frameon=False,\n",
    "    legend_loc=None,\n",
    "    save=\"Combined_BBKNN_integrated-sample_integration_plots_umap.png\"\n",
    ")"
   ]
  },
  {
   "cell_type": "code",
   "execution_count": null,
   "id": "ec99def7-61ad-4108-999c-aed581fe2402",
   "metadata": {
    "scrolled": true
   },
   "outputs": [],
   "source": [
    "# Harmony integrated data visualization\n",
    "harmony_s_umap = sc.pl.umap(\n",
    "    adata=adata_harmony_s,\n",
    "    color=[\"Annotation_1.0\", \"Annotation_2.0\", \"sample\", \"subproject\", \"timepoint\"],\n",
    "    title=[\"Cell Type 1.0\", \"Cell Type 2.0\", \"Sample\", \"Subproject\", \"Timepoint\"],\n",
    "    ncols=1,\n",
    "    frameon=False,\n",
    "    legend_loc=None,\n",
    "    save=\"Combined_harmony_integrated-sample_integration_plots_umap.png\"\n",
    ")"
   ]
  },
  {
   "cell_type": "code",
   "execution_count": null,
   "id": "0904a602-a180-4cbf-93c0-61e7ca2daaec",
   "metadata": {
    "scrolled": true
   },
   "outputs": [],
   "source": [
    "# FastMNN integrated data visualization\n",
    "mnn_s_umap = sc.pl.umap(\n",
    "    adata=adata_mnn_s,\n",
    "    color=[\"Annotation_1.0\", \"Annotation_2.0\", \"sample\", \"subproject\", \"timepoint\"],\n",
    "    title=[\"Cell Type 1.0\", \"Cell Type 2.0\", \"Sample\", \"Subproject\", \"Timepoint\"],\n",
    "    ncols=1,\n",
    "    frameon=False,\n",
    "    legend_loc=None,\n",
    "    save=\"Combined_MNN_integrated-sample_integration_plots_umap.png\"\n",
    ")"
   ]
  },
  {
   "cell_type": "code",
   "execution_count": null,
   "id": "e7c33556-89a6-4dca-9465-a3c4b9e979f7",
   "metadata": {
    "scrolled": true
   },
   "outputs": [],
   "source": [
    "# Scanorama integrated data visualization\n",
    "scanorama_s_umap = sc.pl.umap(\n",
    "    adata=adata_scanorama_s,\n",
    "    color=[\"Annotation_1.0\", \"Annotation_2.0\", \"sample\", \"subproject\", \"timepoint\"],\n",
    "    title=[\"Cell Type 1.0\", \"Cell Type 2.0\", \"Sample\", \"Subproject\", \"Timepoint\"],\n",
    "    ncols=1,\n",
    "    frameon=False,\n",
    "    save=\"Combined_scanorama_integrated-sample_integration_plots_umap.png\"\n",
    ")"
   ]
  }
 ],
 "metadata": {
  "kernelspec": {
   "display_name": "Python 3 (ipykernel)",
   "language": "python",
   "name": "python3"
  },
  "language_info": {
   "codemirror_mode": {
    "name": "ipython",
    "version": 3
   },
   "file_extension": ".py",
   "mimetype": "text/x-python",
   "name": "python",
   "nbconvert_exporter": "python",
   "pygments_lexer": "ipython3",
   "version": "3.9.18"
  }
 },
 "nbformat": 4,
 "nbformat_minor": 5
}
