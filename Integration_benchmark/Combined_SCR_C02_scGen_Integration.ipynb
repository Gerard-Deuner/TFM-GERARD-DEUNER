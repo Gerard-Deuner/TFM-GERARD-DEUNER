{
 "cells": [
  {
   "cell_type": "markdown",
   "id": "97409eb6-5f5b-4782-ab0c-ced38b96772b",
   "metadata": {},
   "source": [
    "# Combined SCR C02 scGen Integration"
   ]
  },
  {
   "cell_type": "code",
   "execution_count": null,
   "id": "5d7e7664-d88f-4f93-8191-6ca00a3ef78c",
   "metadata": {},
   "outputs": [],
   "source": [
    "# load packages\n",
    "import sys\n",
    "import scanpy as sc\n",
    "import scgen\n",
    "import os\n",
    "import sys"
   ]
  },
  {
   "cell_type": "code",
   "execution_count": null,
   "id": "98e0602a-a62c-47a0-a358-e5672a444631",
   "metadata": {},
   "outputs": [],
   "source": [
    "# set up working directory\n",
    "work_dir = \"/scratch_isilon/groups/singlecell/gdeuner/SERPENTINE/\""
   ]
  },
  {
   "cell_type": "code",
   "execution_count": null,
   "id": "b777c913-8273-4d18-acee-1e06dada49af",
   "metadata": {},
   "outputs": [],
   "source": [
    "# set up figures directory\n",
    "sc.settings.figdir = os.path.join(work_dir, \"figures\", \"combined/\")\n",
    "sc.set_figure_params(dpi = 600, dpi_save=600)"
   ]
  },
  {
   "cell_type": "markdown",
   "id": "cf0608c9-5d00-401f-9f06-d34991d367ed",
   "metadata": {},
   "source": [
    "### Cell label == \"Annotation_ 2.0\""
   ]
  },
  {
   "cell_type": "code",
   "execution_count": null,
   "id": "df0e2d77-8682-41e7-83ca-0c8df56182b4",
   "metadata": {},
   "outputs": [],
   "source": [
    "# define integration vars\n",
    "label_key = \"Annotation_2.0\"\n",
    "batch_key = \"sample\""
   ]
  },
  {
   "cell_type": "code",
   "execution_count": null,
   "id": "fc3b89b2-4555-40a4-b66d-04adcc60590e",
   "metadata": {},
   "outputs": [],
   "source": [
    "# import data\n",
    "adata_scgen = sc.read_h5ad(os.path.join(work_dir, \"data\", \"outputdata\", \"combined\", \"Combined_SCR_CO2_annotated_2.0_TCR_HVG_22-02-24.h5ad\"))"
   ]
  },
  {
   "cell_type": "code",
   "execution_count": null,
   "id": "b75c205b-9c97-4d60-8f1d-5bc3f0581a33",
   "metadata": {},
   "outputs": [],
   "source": [
    "adata_scgen.obs[\"Annotation_2.0\"] = adata_scgen.obs[\"Annotation_2.0\"].tolist()\n",
    "sc.pp.neighbors(adata_scgen)\n",
    "sc.tl.umap(adata_scgen)"
   ]
  },
  {
   "cell_type": "code",
   "execution_count": null,
   "id": "0eed08ee-b19a-42fa-b934-ff8e81be7d64",
   "metadata": {},
   "outputs": [],
   "source": [
    "# prepare object\n",
    "scgen.SCGEN.setup_anndata(adata_scgen, batch_key=batch_key, labels_key=label_key)\n"
   ]
  },
  {
   "cell_type": "code",
   "execution_count": null,
   "id": "74ba0768-0c09-4f6e-b155-e5944b4d137f",
   "metadata": {},
   "outputs": [],
   "source": [
    "# create the model\n",
    "model_scgen = scgen.SCGEN(adata_scgen)"
   ]
  },
  {
   "cell_type": "code",
   "execution_count": null,
   "id": "7ad96174-7a57-46e1-b28c-521855628247",
   "metadata": {},
   "outputs": [],
   "source": [
    "# train the model\n",
    "model_scgen.train()"
   ]
  },
  {
   "cell_type": "code",
   "execution_count": null,
   "id": "ec76d01e-3a7c-44fe-ba47-8860d025f4ae",
   "metadata": {},
   "outputs": [],
   "source": [
    "# batch removal\n",
    "adata_scgen = model_scgen.batch_removal()\n",
    "adata_scgen"
   ]
  },
  {
   "cell_type": "code",
   "execution_count": null,
   "id": "5c09e337-84e9-4ed2-8765-0debf2e497d5",
   "metadata": {},
   "outputs": [],
   "source": [
    "sc.pp.neighbors(adata_scgen, use_rep=\"corrected_latent\")\n",
    "sc.tl.umap(adata_scgen)"
   ]
  },
  {
   "cell_type": "code",
   "execution_count": null,
   "id": "5b854040-d83e-4e74-b336-7c137cf166d2",
   "metadata": {},
   "outputs": [],
   "source": [
    "sc.pl.umap(adata_scgen, color=[label_key, batch_key], wspace=0.1)"
   ]
  },
  {
   "cell_type": "code",
   "execution_count": null,
   "id": "8e8606fe-e8b7-450c-81d6-613e09a7ec46",
   "metadata": {},
   "outputs": [],
   "source": [
    "# save plots\n",
    "sc.pl.umap(adata_scgen, color=\"Annotation_1.0\", show=False, save=\"Combined_scgen_integrated_anno2.0_annotation1.0_umap.png\")\n",
    "sc.pl.umap(adata_scgen, color=\"Annotation_2.0\", show=False, save=\"Combined_scgen_integrated_anno2.0_annotation2.0_umap.png\")\n",
    "sc.pl.umap(adata_scgen, color=\"sample\", show=False, save=\"Combined_scgen_integrated_sample_id_umap.png\")"
   ]
  },
  {
   "cell_type": "code",
   "execution_count": null,
   "id": "7fdf4e34-75a4-4b9f-ae3e-9af4f88f0560",
   "metadata": {},
   "outputs": [],
   "source": [
    "# save adata object\n",
    "adata_scgen.write(os.path.join(work_dir, \"data\", \"outputdata\", \"combined\", \"Combined_SCR_CO2_annotated_2.0_TCR_scGen_anno2.0_integrated_22-02-24.h5ad\"))"
   ]
  },
  {
   "cell_type": "markdown",
   "id": "d383eadd-78cf-4dcf-8ff0-982c7f0b41e2",
   "metadata": {},
   "source": [
    "### Cell label == \"Annotation_ 1.0\""
   ]
  },
  {
   "cell_type": "code",
   "execution_count": null,
   "id": "a189ec5c-c8e8-4db7-a658-2e3cffacdb8f",
   "metadata": {},
   "outputs": [],
   "source": [
    "# define integration vars\n",
    "label_key = \"Annotation_1.0\"\n",
    "batch_key = \"sample\""
   ]
  },
  {
   "cell_type": "code",
   "execution_count": null,
   "id": "7a2dc11f-1737-4ffa-82b7-1c6b71cd8291",
   "metadata": {},
   "outputs": [],
   "source": [
    "# import data\n",
    "adata_scgen_2 = sc.read_h5ad(os.path.join(work_dir, \"data\", \"outputdata\", \"combined\", \"Combined_SCR_CO2_annotated_2.0_TCR_HVG_22-02-24.h5ad\"))"
   ]
  },
  {
   "cell_type": "code",
   "execution_count": null,
   "id": "3e963575-4624-4e1f-8210-58373efa5fc1",
   "metadata": {},
   "outputs": [],
   "source": [
    "adata_scgen_2.obs[\"Annotation_1.0\"] = adata_scgen_2.obs[\"Annotation_1.0\"].tolist()\n",
    "sc.pp.neighbors(adata_scgen_2)\n",
    "sc.tl.umap(adata_scgen_2)"
   ]
  },
  {
   "cell_type": "code",
   "execution_count": null,
   "id": "143bc72f-2eed-4f70-b1d8-d983d9881d86",
   "metadata": {},
   "outputs": [],
   "source": [
    "# prepare object\n",
    "scgen.SCGEN.setup_anndata(adata_scgen_2, batch_key=batch_key, labels_key=label_key)\n"
   ]
  },
  {
   "cell_type": "code",
   "execution_count": null,
   "id": "662c337d-f5b9-4ee8-90ef-515738918243",
   "metadata": {},
   "outputs": [],
   "source": [
    "# create the model\n",
    "model_scgen_2 = scgen.SCGEN(adata_scgen_2)"
   ]
  },
  {
   "cell_type": "code",
   "execution_count": null,
   "id": "2a0d2042-3a88-4015-91cb-ec7e43f8725e",
   "metadata": {},
   "outputs": [],
   "source": [
    "# train the model\n",
    "model_scgen_2.train()"
   ]
  },
  {
   "cell_type": "code",
   "execution_count": null,
   "id": "40ed5b1e-7ba3-4af4-9352-0aea129d61c7",
   "metadata": {},
   "outputs": [],
   "source": [
    "# batch removal\n",
    "adata_scgen_2 = model_scgen_2.batch_removal()\n",
    "adata_scgen_2"
   ]
  },
  {
   "cell_type": "code",
   "execution_count": null,
   "id": "884e14d1-2f17-41b1-a2ac-13b24f5520f7",
   "metadata": {},
   "outputs": [],
   "source": [
    "sc.pp.neighbors(adata_scgen_2, use_rep=\"corrected_latent\")\n",
    "sc.tl.umap(adata_scgen_2)"
   ]
  },
  {
   "cell_type": "code",
   "execution_count": null,
   "id": "768c82ec-93d3-411f-a715-09d2acdf7954",
   "metadata": {},
   "outputs": [],
   "source": [
    "sc.pl.umap(adata_scgen_2, color=[label_key, batch_key], wspace=0.1)"
   ]
  },
  {
   "cell_type": "code",
   "execution_count": null,
   "id": "65e00f74-69b8-4ced-ab79-ff9e3850c4ff",
   "metadata": {},
   "outputs": [],
   "source": [
    "# save plots\n",
    "sc.pl.umap(adata_scgen_2, color=\"Annotation_1.0\", show=False, save=\"Combined_scgen_integrated_anno1.0_annotation1.0_umap.png\")\n",
    "sc.pl.umap(adata_scgen_2, color=\"Annotation_2.0\", show=False, save=\"Combined_scgen_integrated_anno1.0_annotation2.0_umap.png\")\n",
    "sc.pl.umap(adata_scgen_2, color=\"sample\", show=False, save=\"Combined_scgen_integrated_anno1.0_sample_id_umap.png\")"
   ]
  },
  {
   "cell_type": "code",
   "execution_count": null,
   "id": "2362c353-60a7-41e7-9a92-0da2127e8c07",
   "metadata": {},
   "outputs": [],
   "source": [
    "# save adata object\n",
    "adata_scgen_2.write(os.path.join(work_dir, \"data\", \"outputdata\", \"combined\", \"Combined_SCR_CO2_annotated_2.0_TCR_scGen_anno1.0_integrated_22-02-24.h5ad\"))"
   ]
  }
 ],
 "metadata": {
  "kernelspec": {
   "display_name": "Python 3 (ipykernel)",
   "language": "python",
   "name": "python3"
  },
  "language_info": {
   "codemirror_mode": {
    "name": "ipython",
    "version": 3
   },
   "file_extension": ".py",
   "mimetype": "text/x-python",
   "name": "python",
   "nbconvert_exporter": "python",
   "pygments_lexer": "ipython3",
   "version": "3.9.18"
  }
 },
 "nbformat": 4,
 "nbformat_minor": 5
}
