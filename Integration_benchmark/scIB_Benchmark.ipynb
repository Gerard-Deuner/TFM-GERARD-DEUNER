{
 "cells": [
  {
   "cell_type": "markdown",
   "id": "ac350498-21ab-4baf-ac21-2025361702cd",
   "metadata": {},
   "source": [
    "# scIB Benchmark"
   ]
  },
  {
   "cell_type": "code",
   "execution_count": null,
   "id": "66d09673-942c-44f3-84ea-4310efeec12d",
   "metadata": {},
   "outputs": [],
   "source": [
    "# Load libraries\n",
    "\n",
    "# Python packages\n",
    "import numpy as np\n",
    "import scanpy as sc\n",
    "import scvi\n",
    "import bbknn\n",
    "import scib\n",
    "import harmonypy\n",
    "# import scgen\n",
    "\n",
    "import pandas as pd\n",
    "import matplotlib.pyplot as plt\n",
    "import matplotlib\n",
    "\n",
    "# R interface\n",
    "from rpy2.robjects import pandas2ri\n",
    "from rpy2.robjects import r\n",
    "import rpy2.rinterface_lib.callbacks\n",
    "import anndata2ri\n",
    "\n",
    "pandas2ri.activate()\n",
    "anndata2ri.activate()\n",
    "\n",
    "%load_ext rpy2.ipython\n",
    "\n",
    "#supress warnings\n",
    "import warnings\n",
    "warnings.simplefilter(action='ignore', category=FutureWarning)\n",
    "import sys\n",
    "import os\n",
    "_stderr = sys.stderr\n",
    "null = open(os.devnull,'wb')"
   ]
  },
  {
   "cell_type": "code",
   "execution_count": null,
   "id": "283a2cbb-05fb-40b2-9526-180fc5c2acd7",
   "metadata": {},
   "outputs": [],
   "source": [
    "print(\"environment loaded correctly\", file=sys.stdout)"
   ]
  },
  {
   "cell_type": "code",
   "execution_count": null,
   "id": "39179238-573b-4b8a-8394-79958101a360",
   "metadata": {},
   "outputs": [],
   "source": [
    "# set up working directory\n",
    "work_dir = \"/scratch_isilon/groups/singlecell/gdeuner/SERPENTINE/\""
   ]
  },
  {
   "cell_type": "code",
   "execution_count": null,
   "id": "e96b56c1-c73a-438b-93b7-d947d6931548",
   "metadata": {
    "scrolled": true
   },
   "outputs": [],
   "source": [
    "# set up figures directory\n",
    "sc.settings.figdir = os.path.join(work_dir, \"figures\", \"combined/\")\n",
    "sc.set_figure_params(dpi = 600, dpi_save=600)"
   ]
  },
  {
   "cell_type": "code",
   "execution_count": null,
   "id": "ea81a026-a5ee-499e-922c-24caf9a8a5d1",
   "metadata": {},
   "outputs": [],
   "source": [
    "# define integration vars\n",
    "label_key = \"Annotation_2.0\"\n",
    "batch_key = \"sample\""
   ]
  },
  {
   "cell_type": "code",
   "execution_count": null,
   "id": "e15aad79-6020-492b-96d2-2a5da43bed18",
   "metadata": {
    "scrolled": true
   },
   "outputs": [],
   "source": [
    "## read unintegrated data\n",
    "#adata = sc.read_h5ad(os.path.join(work_dir, \"data\", \"outputdata\", \"Combined_SCR_CO2_annotated_2.0_TCR_14-02-24.h5ad\"))\n",
    "#adata_hvg = sc.read_h5ad(os.path.join(work_dir, \"data\", \"outputdata\", \"combined\", \"Combined_SCR_CO2_annotated_2.0_TCR_HVG_22-02-24.h5ad\"))"
   ]
  },
  {
   "cell_type": "code",
   "execution_count": null,
   "id": "dc299ee4-fb5d-4c55-9905-b5ff0ca509e6",
   "metadata": {},
   "outputs": [],
   "source": [
    "#print(\"adata object read correctly\", file=sys.stdout)"
   ]
  },
  {
   "cell_type": "code",
   "execution_count": null,
   "id": "08149298-8eb7-4033-bd28-01071a964116",
   "metadata": {},
   "outputs": [],
   "source": [
    "## read anndata objects\n",
    "#adata_scvi = sc.read_h5ad(os.path.join(work_dir, \"data\", \"outputdata\", \"combined\", \"Combined_SCR_CO2_annotated_2.0_TCR_scVI_integrated_22-02-24.h5ad\"))\n",
    "#adata_scanvi = sc.read_h5ad(os.path.join(work_dir, \"data\", \"outputdata\", \"combined\", \"Combined_SCR_CO2_annotated_2.0_TCR_scANVI_anno2.0_integrated_22-02-24.h5ad\"))\n",
    "#adata_scanvi_2 = sc.read_h5ad(os.path.join(work_dir, \"data\", \"outputdata\", \"combined\", \"Combined_SCR_CO2_annotated_2.0_TCR_scANVI_anno1.0_integrated_22-02-24.h5ad\"))\n",
    "#adata_bbknn = sc.read_h5ad(os.path.join(work_dir, \"data\", \"outputdata\", \"combined\", \"Combined_SCR_CO2_annotated_2.0_TCR_BBKNN_integrated_22-02-24.h5ad\"))\n",
    "#adata_harmony = sc.read_h5ad(os.path.join(work_dir, \"data\", \"outputdata\", \"combined\", \"Combined_SCR_CO2_annotated_2.0_TCR_harmony_integrated_22-02-24.h5ad\"))\n",
    "#adata_seurat = sc.read_h5ad(os.path.join(work_dir, \"data\", \"outputdata\", \"combined\", \"Combined_SCR_CO2_annotated_2.0_TCR_MNN_integrated_22-02-24.h5ad\"))\n",
    "#adata_scanorama = sc.read_h5ad(os.path.join(work_dir, \"data\", \"outputdata\", \"combined\", \"Combined_SCR_CO2_annotated_2.0_TCR_scanorama_integrated_22-02-24.h5ad\"))\n",
    "#adata_scgen = sc.read_h5ad(os.path.join(work_dir, \"data\", \"outputdata\", \"combined\", \"Combined_SCR_CO2_annotated_2.0_TCR_scGen_anno2.0_integrated_22-02-24.h5ad\"))\n",
    "#adata_scgen_2 = sc.read_h5ad(os.path.join(work_dir, \"data\", \"outputdata\", \"combined\", \"Combined_SCR_CO2_annotated_2.0_TCR_scGen_anno1.0_integrated_22-02-24.h5ad\"))"
   ]
  },
  {
   "cell_type": "code",
   "execution_count": null,
   "id": "08562134-0819-42e1-8e37-7a76394adef6",
   "metadata": {},
   "outputs": [],
   "source": [
    "#print(\"integration adata objects loaded correctly\", file=sys.stdout)"
   ]
  },
  {
   "cell_type": "code",
   "execution_count": null,
   "id": "32788554-58c8-47c4-898e-f6e50e8d2276",
   "metadata": {},
   "outputs": [],
   "source": [
    "## remove NOISE clusters from previous patient-specific cell type annotation\n",
    "#adata = adata[adata.obs[\"Annotation_2.0\"] != \"NOISE\"]"
   ]
  },
  {
   "cell_type": "code",
   "execution_count": null,
   "id": "f9d8739b-867a-4493-a2f5-308742bbb1ac",
   "metadata": {},
   "outputs": [],
   "source": [
    "#adata.obs[\"Annotation_2.0\"]=adata.obs[\"Annotation_2.0\"].astype(\"category\")\n",
    "#adata.obs[\"Annotation_1.0\"]=adata.obs[\"Annotation_1.0\"].astype(\"category\")\n",
    "#adata.obs[\"sample\"]=adata.obs[\"sample\"].astype(\"category\")"
   ]
  },
  {
   "cell_type": "code",
   "execution_count": null,
   "id": "5bbc9e25-b05f-4c02-ad37-f90f95342ee9",
   "metadata": {
    "scrolled": true
   },
   "outputs": [],
   "source": [
    "## run metrics for each integration method\n",
    "#metrics_scvi = scib.metrics.metrics_all(adata, adata_scvi, batch_key, label_key, embed=\"X_scVI\", organism=\"human\")\n",
    "#print(\"metrics computed for scvi correctly\", file=sys.stdout)\n",
    "#metrics_scanvi = scib.metrics.metrics_all(adata, adata_scanvi, batch_key, label_key, embed=\"X_scANVI\", organism=\"human\")\n",
    "#print(\"metrics computed for scanvi correctly\", file=sys.stdout)\n",
    "#metrics_scanvi_2 = scib.metrics.metrics_all(adata, adata_scanvi_2, batch_key, label_key, embed=\"X_scANVI\", organism=\"human\")\n",
    "#print(\"metrics computed for scanvi2 correctly\", file=sys.stdout)\n",
    "#metrics_bbknn = scib.metrics.metrics_all(adata, adata_bbknn, batch_key, label_key, organism=\"human\")\n",
    "#print(\"metrics computed for bbknn correctly\", file=sys.stdout)\n",
    "#metrics_harmony = scib.metrics.metrics_all(adata, adata_harmony, batch_key, label_key, embed=\"X_pca_harmony\", organism=\"human\")\n",
    "#print(\"metrics computed for harmony correctly\", file=sys.stdout)\n",
    "#metrics_seurat = scib.metrics.metrics_all(adata, adata_seurat, batch_key, label_key, organism=\"human\")\n",
    "#print(\"metrics computed for mnn correctly\", file=sys.stdout)\n",
    "#metrics_scgen = scib.metrics.metrics_all(adata, adata_scgen, batch_key, label_key, embed=\"corrected_latent\", organism=\"human\")\n",
    "#print(\"metrics computed for scgen correctly\", file=sys.stdout)\n",
    "#metrics_scgen_2 = scib.metrics.metrics_all(adata, adata_scgen_2, batch_key, label_key, embed=\"corrected_latent\", organism=\"human\")\n",
    "#print(\"metrics computed for scgen2 correctly\", file=sys.stdout)\n",
    "#metrics_hvg = scib.metrics.metrics_all(adata, adata_hvg, batch_key, label_key, organism=\"human\")\n",
    "#print(\"metrics computed for hvg correctly\", file=sys.stdout)"
   ]
  },
  {
   "cell_type": "code",
   "execution_count": null,
   "id": "9a6f9acc-0b47-4972-93ac-2317cd047fc7",
   "metadata": {},
   "outputs": [],
   "source": [
    "# load metrics dfs\n",
    "metrics_scvi = pd.read_csv(os.path.join(work_dir, \"data\", \"metrics\", \"Combined_integration_scvi_metrics.csv\"))\n",
    "metrics_scanvi = pd.read_csv(os.path.join(work_dir, \"data\", \"metrics\", \"Combined_integration_scanvi_anno2.0_metrics.csv\"), usecols=[\"0\"])\n",
    "metrics_scanvi_2 = pd.read_csv(os.path.join(work_dir, \"data\", \"metrics\", \"Combined_integration_scanvi_anno1.0_metrics.csv\"), usecols=[\"0\"])\n",
    "metrics_bbknn = pd.read_csv(os.path.join(work_dir, \"data\", \"metrics\", \"Combined_integration_bbknn_metrics.csv\"), usecols=[\"0\"])\n",
    "metrics_harmony = pd.read_csv(os.path.join(work_dir, \"data\", \"metrics\", \"Combined_integration_harmony_metrics.csv\"), usecols=[\"0\"])\n",
    "metrics_seurat = pd.read_csv(os.path.join(work_dir, \"data\", \"metrics\", \"Combined_integration_mnn_metrics.csv\"), usecols=[\"0\"])\n",
    "metrics_scanorama = pd.read_csv(os.path.join(work_dir, \"data\", \"metrics\", \"Combined_integration_scanorama_metrics.csv\"), usecols=[\"0\"])\n",
    "metrics_scgen = pd.read_csv(os.path.join(work_dir, \"data\", \"metrics\", \"Combined_integration_scgen_anno2.0_metrics.csv\"), usecols=[\"0\"])\n",
    "metrics_scgen_2 = pd.read_csv(os.path.join(work_dir, \"data\", \"metrics\", \"Combined_integration_scgen_anno1.0_metrics.csv\"), usecols=[\"0\"])\n",
    "metrics_hvg = pd.read_csv(os.path.join(work_dir, \"data\", \"metrics\", \"Combined_integration_hvg_metrics.csv\"), usecols=[\"0\"])"
   ]
  },
  {
   "cell_type": "code",
   "execution_count": null,
   "id": "3e0fd2ef-14f3-4aea-870a-42ccdfa8da14",
   "metadata": {},
   "outputs": [],
   "source": [
    "#put results in table\n",
    "# Concatenate metrics results\n",
    "metrics = pd.concat(\n",
    "    [metrics_scvi, metrics_scanvi, metrics_scanvi_2, metrics_bbknn, metrics_harmony, metrics_seurat, metrics_scanorama, metrics_scgen, metrics_scgen_2, metrics_hvg],\n",
    "    axis=\"columns\",\n",
    ")"
   ]
  },
  {
   "cell_type": "code",
   "execution_count": null,
   "id": "9e36388c-5bcf-4fc3-b26e-1e152ee1c110",
   "metadata": {},
   "outputs": [],
   "source": [
    "metrics.set_index('Unnamed: 0', inplace=True)\n"
   ]
  },
  {
   "cell_type": "code",
   "execution_count": null,
   "id": "6816e5f7-ed85-48ad-9be2-483a26a9fb3a",
   "metadata": {},
   "outputs": [],
   "source": [
    "metrics"
   ]
  },
  {
   "cell_type": "code",
   "execution_count": null,
   "id": "ca225487-c1d6-45ca-aaf4-9c67ae877fb3",
   "metadata": {},
   "outputs": [],
   "source": [
    "\n",
    "# Set methods as column names\n",
    "metrics = metrics.set_axis(\n",
    "    [\"scVI\", \"scANVI_2.0\", \"scANVI_1.0\", \"BBKNN\", \"Harmony\", \"Seurat\", \"Scanorama\", \"scGen_2.0\", \"scGen_1.0\", \"Unintegrated\"], axis=\"columns\"\n",
    ")\n",
    "# Select only the fast metrics\n",
    "metrics = metrics.loc[\n",
    "    [\n",
    "        \"NMI_cluster/label\",\n",
    "        \"ARI_cluster/label\",\n",
    "        \"ASW_label\",\n",
    "        \"ASW_label/batch\",\n",
    "        \"PCR_batch\",\n",
    "        #\"cell_cycle_conservation\",\n",
    "        \"isolated_label_F1\",\n",
    "        \"isolated_label_silhouette\",\n",
    "        \"graph_conn\",\n",
    "        \"kBET\",\n",
    "        \"iLISI\",\n",
    "        \"cLISI\",\n",
    "        \"hvg_overlap\",\n",
    "        #\"trajectory\",\n",
    "        \n",
    "    ],\n",
    "    :,\n",
    "]\n",
    "# Transpose so that metrics are columns and methods are rows\n",
    "metrics = metrics.T\n",
    "# Remove the HVG overlap metric because it's not relevant to embedding outputs\n",
    "metrics.index.name = None\n",
    "metrics = metrics.drop(columns=[\"hvg_overlap\"])\n",
    "metrics"
   ]
  },
  {
   "cell_type": "code",
   "execution_count": null,
   "id": "24d04698-245a-467e-a5dc-367a81b0f491",
   "metadata": {},
   "outputs": [],
   "source": [
    "# save metrics df\n",
    "metrics.to_csv(os.path.join(work_dir, \"data\", \"metrics\", \"Combined_integration_metrics.csv\"))"
   ]
  },
  {
   "cell_type": "code",
   "execution_count": null,
   "id": "01dcf2de-9f0b-4c6c-88b9-a39d7d868b3c",
   "metadata": {},
   "outputs": [],
   "source": [
    "print(\"metrics saved!\", file=sys.stdout)"
   ]
  },
  {
   "cell_type": "code",
   "execution_count": null,
   "id": "89b054a2-d4f5-4369-ae9c-9289b490e95f",
   "metadata": {},
   "outputs": [],
   "source": [
    "# style the table\n",
    "metrics.style.background_gradient(cmap=\"bone\")"
   ]
  },
  {
   "cell_type": "code",
   "execution_count": null,
   "id": "87b7c0af-4571-49ff-9b85-8121fd8347ba",
   "metadata": {},
   "outputs": [],
   "source": [
    "metrics[\"NMI_cluster/label\"]"
   ]
  },
  {
   "cell_type": "code",
   "execution_count": null,
   "id": "eca068d5-de18-4a07-bf47-a65279402133",
   "metadata": {},
   "outputs": [],
   "source": [
    "# scaled by \n",
    "metrics_scaled = (metrics - metrics.min()) / (metrics.max() - metrics.min())\n",
    "metrics_scaled.style.background_gradient(cmap=\"bone\")"
   ]
  },
  {
   "cell_type": "code",
   "execution_count": null,
   "id": "9b8f127f-0154-4120-bb64-60c2a13aff8b",
   "metadata": {},
   "outputs": [],
   "source": [
    "# group into 2 groups: removsl of batch effects & conservation of biological variation\n",
    "metrics_scaled[\"Batch\"] = metrics_scaled[\n",
    "    [\"ASW_label/batch\", \"PCR_batch\", \"graph_conn\", \"iLISI\", \"kBET\"]\n",
    "].mean(axis=1)\n",
    "metrics_scaled[\"Bio\"] = metrics_scaled[[\"ASW_label\", \"isolated_label_silhouette\",\"ARI_cluster/label\", \"isolated_label_F1\", \"NMI_cluster/label\", \"cLISI\"]].mean(\n",
    "    axis=1\n",
    ")\n",
    "metrics_scaled.style.background_gradient(cmap=\"bone\")\n",
    "\n",
    "# MISSING: ADD OTHER METRICS AS TECH OR BIO!!!"
   ]
  },
  {
   "cell_type": "code",
   "execution_count": null,
   "id": "e069d478-9aef-4e41-9cfb-1213865595e2",
   "metadata": {},
   "outputs": [],
   "source": [
    "# use benchmarker function"
   ]
  },
  {
   "cell_type": "code",
   "execution_count": null,
   "id": "b2ddd35c-64d3-43b0-b169-68a12fc761ea",
   "metadata": {},
   "outputs": [],
   "source": [
    "# plot summary scores against each other\n",
    "fig, ax = plt.subplots()\n",
    "ax.set_xlim(0, 1)\n",
    "ax.set_ylim(0, 1)\n",
    "metrics_scaled.plot.scatter(\n",
    "    x=\"Batch\",\n",
    "    y=\"Bio\",\n",
    "    c=range(len(metrics_scaled)),\n",
    "    ax=ax,\n",
    ")\n",
    "\n",
    "for k, v in metrics_scaled[[\"Batch\", \"Bio\"]].iterrows():\n",
    "    ax.annotate(\n",
    "        k,\n",
    "        v,\n",
    "        xytext=(6, -3),\n",
    "        textcoords=\"offset points\",\n",
    "        family=\"sans-serif\",\n",
    "        fontsize=12,\n",
    "    )"
   ]
  },
  {
   "cell_type": "code",
   "execution_count": null,
   "id": "af4cfa39-627b-4441-816e-013e3f04af3d",
   "metadata": {},
   "outputs": [],
   "source": [
    "# give weights to tech and bio\n",
    "metrics_scaled[\"Overall\"] = 0.4 * metrics_scaled[\"Batch\"] + 0.6 * metrics_scaled[\"Bio\"]\n",
    "metrics_scaled.style.background_gradient(cmap=\"bone\")"
   ]
  },
  {
   "cell_type": "code",
   "execution_count": null,
   "id": "84e11d84-3fd0-4e65-bcac-b344fbb45f66",
   "metadata": {},
   "outputs": [],
   "source": [
    "# overall performance\n",
    "metrics_scaled.plot.bar(y=\"Overall\")\n"
   ]
  },
  {
   "cell_type": "code",
   "execution_count": null,
   "id": "5901c061-aa5c-4ecb-8ec5-2ad5547a5bb7",
   "metadata": {},
   "outputs": [],
   "source": [
    "# save figures\n",
    "fig = leiden_umap.get_figure()\n",
    "fig.set_size_inches(5, 5)\n",
    "fig.savefig(str(sc.settings.figdir) + '/umap_lgd_harmony_leiden',\n",
    "    dpi=400, bbox_extra_artists=(lgd,), bbox_inches='tight')"
   ]
  },
  {
   "cell_type": "code",
   "execution_count": null,
   "id": "8adee1ff-9c7f-4bbd-a0d7-5eb15e215f14",
   "metadata": {},
   "outputs": [],
   "source": [
    "# which metrics are bio consv and batch corr? https://scib.readthedocs.io/en/latest/api.html"
   ]
  }
 ],
 "metadata": {
  "kernelspec": {
   "display_name": "Python 3 (ipykernel)",
   "language": "python",
   "name": "python3"
  },
  "language_info": {
   "codemirror_mode": {
    "name": "ipython",
    "version": 3
   },
   "file_extension": ".py",
   "mimetype": "text/x-python",
   "name": "python",
   "nbconvert_exporter": "python",
   "pygments_lexer": "ipython3",
   "version": "3.9.18"
  }
 },
 "nbformat": 4,
 "nbformat_minor": 5
}
