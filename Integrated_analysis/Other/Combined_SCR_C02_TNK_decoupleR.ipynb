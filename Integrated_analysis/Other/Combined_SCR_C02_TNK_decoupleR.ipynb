{
 "cells": [
  {
   "cell_type": "markdown",
   "id": "ab0dfe5b-2725-4c7d-9a01-32d8b0ba30e6",
   "metadata": {},
   "source": [
    "# TNK Pseudo-bulk Functional Analysis - Timepoints Comparison"
   ]
  },
  {
   "cell_type": "markdown",
   "id": "1ba1be36-8541-491c-99e1-46043a1f5f47",
   "metadata": {},
   "source": [
    "https://decoupler-py.readthedocs.io/en/latest/notebooks/pseudobulk.html"
   ]
  },
  {
   "cell_type": "markdown",
   "id": "b7d7f0aa-c122-4e63-82bd-63b2319b191f",
   "metadata": {},
   "source": [
    "## Environment SetUp"
   ]
  },
  {
   "cell_type": "code",
   "execution_count": null,
   "id": "7b761bc9-2d0c-4cec-9f96-80a9bc0328d8",
   "metadata": {},
   "outputs": [],
   "source": [
    "# load packages\n",
    "import scanpy as sc\n",
    "import decoupler as dc\n",
    "\n",
    "# Only needed for processing\n",
    "import numpy as np\n",
    "import pandas as pd\n",
    "\n",
    "# Needed for some plotting\n",
    "import matplotlib.pyplot as plt\n",
    "\n",
    "import os\n",
    "\n",
    "# plotting options\n",
    "sc.settings.set_figure_params(dpi=300, frameon=False)\n",
    "sc.set_figure_params(dpi=300)\n",
    "sc.set_figure_params(figsize=(4, 4))"
   ]
  },
  {
   "cell_type": "code",
   "execution_count": null,
   "id": "e11d19dc-4c34-40f6-8b28-4ba4c8c9a7c6",
   "metadata": {},
   "outputs": [],
   "source": [
    "# set working and fig dir\n",
    "work_dir = \"/scratch_isilon/groups/singlecell/gdeuner/SERPENTINE\"\n",
    "fig_dir = os.path.join(work_dir, \"figures\", \"combined\", \"TNK\", \"decoupleR\", \"timepoints_comparison\")\n",
    "sc.settings.figdir = os.path.join(work_dir, \"figures\", \"combined\", \"TNK\", \"decoupleR\", \"timepoints_comparison\")"
   ]
  },
  {
   "cell_type": "code",
   "execution_count": null,
   "id": "b1564044-7655-481f-9050-defee515eb7c",
   "metadata": {},
   "outputs": [],
   "source": [
    "# load data\n",
    "adata = sc.read_h5ad(os.path.join(work_dir, \"data\", \"outputdata\", \"combined\", \"Combined_SCR_CO2_TNK_annotated_13-04-24.h5ad\"))"
   ]
  },
  {
   "cell_type": "code",
   "execution_count": null,
   "id": "eca66cd8-e64c-4c28-ad50-698aa2701140",
   "metadata": {},
   "outputs": [],
   "source": [
    "# modify layers to suit decoupleR reqs\n",
    "adata.layers[\"counts\"] = adata.layers[\"rawcounts\"]\n",
    "adata.layers[\"normalized\"] = adata.layers[\"logcounts\"]"
   ]
  },
  {
   "cell_type": "code",
   "execution_count": null,
   "id": "fa6a09e9-daf0-4a4e-bdaa-3db7cbf06705",
   "metadata": {},
   "outputs": [],
   "source": [
    "# modify metadata cell type name to ease analysis\n",
    "adata.obs[\"cell_type\"] = adata.obs[\"Annotation_2.0\"]"
   ]
  },
  {
   "cell_type": "code",
   "execution_count": null,
   "id": "d8155896-0c4b-4a85-bd28-c478fb706442",
   "metadata": {},
   "outputs": [],
   "source": [
    "# explore metdata\n",
    "adata.obs"
   ]
  },
  {
   "cell_type": "markdown",
   "id": "d7502af5-00c2-4cce-8a31-c654ccf90b96",
   "metadata": {},
   "source": [
    "## Pseudobulk"
   ]
  },
  {
   "cell_type": "markdown",
   "id": "88baca2e-9eb0-4b02-a530-c6641ceb084a",
   "metadata": {},
   "source": [
    "### Generation of pseudo-bulk profiles"
   ]
  },
  {
   "cell_type": "code",
   "execution_count": null,
   "id": "b466ad2b-826b-43c0-9f19-fc9453f4d485",
   "metadata": {},
   "outputs": [],
   "source": [
    "pdata = dc.get_pseudobulk(\n",
    "    adata,\n",
    "    sample_col='sample',\n",
    "    groups_col='cell_type',\n",
    "    layer='counts',\n",
    "    mode='sum',\n",
    "    min_cells=10,\n",
    "    min_counts=1000\n",
    ")\n",
    "pdata"
   ]
  },
  {
   "cell_type": "markdown",
   "id": "4c0c7178-4b08-41af-895d-d8192609a234",
   "metadata": {},
   "source": [
    "### Exploration of pseudobulk profiles"
   ]
  },
  {
   "cell_type": "code",
   "execution_count": null,
   "id": "04887369-3247-489b-bfd6-623c13671017",
   "metadata": {},
   "outputs": [],
   "source": [
    "# explore variability of pseudobulks between patient and cell type\n",
    "\n",
    "# Store raw counts in layers\n",
    "pdata.layers['counts'] = pdata.X.copy()\n",
    "\n",
    "# Normalize, scale and compute pca\n",
    "sc.pp.normalize_total(pdata, target_sum=1e4)\n",
    "sc.pp.log1p(pdata)\n",
    "sc.pp.scale(pdata, max_value=10)\n",
    "sc.tl.pca(pdata)\n",
    "\n",
    "# Return raw counts to X\n",
    "dc.swap_layer(pdata, 'counts', X_layer_key=None, inplace=True)"
   ]
  },
  {
   "cell_type": "code",
   "execution_count": null,
   "id": "9e49571e-4fb5-4bf8-9339-b763f85711b9",
   "metadata": {},
   "outputs": [],
   "source": [
    "sc.pl.pca(pdata, color=['timepoint', 'cell_type'], ncols=1, size=300)\n",
    "sc.pl.pca_variance_ratio(pdata)"
   ]
  },
  {
   "cell_type": "code",
   "execution_count": null,
   "id": "d4ff23f4-c0ea-4e67-8a25-1a4004d2c855",
   "metadata": {},
   "outputs": [],
   "source": [
    "# perform ANOVA on each PC and see whether they are significantly associated with any technical or biological annotations of our samples\n",
    "dc.get_metadata_associations(\n",
    "    pdata,\n",
    "    obs_keys = ['patient', 'timepoint', 'response', 'cell_type', 'psbulk_n_cells', 'psbulk_counts'],  # Metadata columns to associate to PCs\n",
    "    obsm_key='X_pca',  # Where the PCs are stored\n",
    "    uns_key='pca_anova',  # Where the results are stored\n",
    "    inplace=True,\n",
    ")"
   ]
  },
  {
   "cell_type": "code",
   "execution_count": null,
   "id": "c4cfd42b-df66-4ab8-bf0a-754c54ef0edf",
   "metadata": {},
   "outputs": [],
   "source": [
    "dc.plot_associations(\n",
    "    pdata,\n",
    "    uns_key='pca_anova',  # Summary statistics from the anova tests\n",
    "    obsm_key='X_pca',  # where the PCs are stored\n",
    "    stat_col='p_adj',  # Which summary statistic to plot\n",
    "    obs_annotation_cols = ['timepoint', 'cell_type'], # which sample annotations to plot\n",
    "    titles=['Principle component scores', 'Adjusted p-values from ANOVA'],\n",
    "    figsize=(7, 5),\n",
    "    n_factors=10,\n",
    "    cmap_cats=\"tab20\",\n",
    "    cmap_scores=\"PuOr\",\n",
    "    save=os.path.join(fig_dir,\"Association_plot.png\"),\n",
    "    return_fig=True, \n",
    "    dpi=600\n",
    ")"
   ]
  },
  {
   "cell_type": "markdown",
   "id": "c3e0dfae-21df-40e9-93c2-b78b9c43594f",
   "metadata": {},
   "source": [
    "## Contrast between conditions (DGEA)"
   ]
  },
  {
   "cell_type": "code",
   "execution_count": null,
   "id": "d0b03671-8631-4390-afc4-be16e5667e81",
   "metadata": {},
   "outputs": [],
   "source": [
    "# Import DESeq2\n",
    "from pydeseq2.dds import DeseqDataSet, DefaultInference\n",
    "from pydeseq2.ds import DeseqStats"
   ]
  },
  {
   "cell_type": "code",
   "execution_count": null,
   "id": "c0e35d38-14ec-4278-aeb9-8a70bbaae837",
   "metadata": {},
   "outputs": [],
   "source": [
    "pdata.obs.groupby('cell_type').count()['Condition']"
   ]
  },
  {
   "cell_type": "code",
   "execution_count": null,
   "id": "c9808f5f-dfd5-4b0e-9857-0045e3fe3430",
   "metadata": {},
   "outputs": [],
   "source": [
    "# create list of cell types which DGE can be run \n",
    "cell_types = pdata.obs['cell_type'].unique().tolist()\n",
    "for cell_type in cell_types:\n",
    "    n = pdata.obs.groupby(['cell_type']).count()['Condition'][cell_type]\n",
    "    if n < 4:\n",
    "        cell_types.remove(cell_type)\n",
    "\n",
    "print(cell_types)"
   ]
  },
  {
   "cell_type": "code",
   "execution_count": null,
   "id": "376c17d7-4394-4d07-9878-396d29dbc71d",
   "metadata": {},
   "outputs": [],
   "source": [
    "it = 1\n",
    "for cell_type in cell_types:\n",
    "    print('Running DEseq2 for ' + cell_type + '...')\n",
    "        \n",
    "    celltype_cells = pdata[pdata.obs['cell_type'] == cell_type].copy()\n",
    "\n",
    "    inference = DefaultInference(n_cpus=16)\n",
    "    dds = DeseqDataSet(\n",
    "        adata=celltype_cells,\n",
    "        design_factors='Condition',\n",
    "        ref_level=['Condition', 'T1/+ICI'],\n",
    "        refit_cooks=True,\n",
    "        inference=inference,\n",
    "    )\n",
    "    \n",
    "    # Compute LFCs\n",
    "    dds.deseq2()\n",
    "    \n",
    "\n",
    "    # Extract contrast between timepoints\n",
    "    stat_res = DeseqStats(\n",
    "        dds,\n",
    "        contrast=[\"Condition\", 'T1/+ICI', 'T0/-ICI'],\n",
    "        inference=inference,\n",
    "    )\n",
    "    \n",
    "    # Compute Wald test\n",
    "    print(stat_res.summary())\n",
    "    \n",
    "    # Extract results\n",
    "    results_df = stat_res.results_df\n",
    "    results_df\n",
    "\n",
    "    if cell_type == \"CD4 T CM/EarlyActivated\":\n",
    "        cell_type = \"CD4 T CM-EarlyActivated\"\n",
    "\n",
    "    plot=dc.plot_volcano_df(\n",
    "        results_df,\n",
    "        x='log2FoldChange',\n",
    "        y='padj',\n",
    "        top=20,\n",
    "        figsize=(8, 4)\n",
    "    )\n",
    "    plt.title(cell_type)\n",
    "    plt.savefig(os.path.join(fig_dir,cell_type+\"_DGE_volcano_plot.png\"), dpi=300, format=\"png\", bbox_inches=\"tight\")\n",
    "    plt.show()\n",
    "\n",
    "    if cell_type == \"CD4 T CM-EarlyActivated\":\n",
    "        cell_type = \"CD4 T CM/EarlyActivated\"\n",
    "    \n",
    "    if it == 1:\n",
    "        mat = results_df[['stat']].T.rename(index={'stat': 'celltype'})\n",
    "    else:\n",
    "        mat = mat._append(results_df[['stat']].T.rename(index={'stat': 'celltype'}))\n",
    "\n",
    "    it += 1\n",
    "    "
   ]
  },
  {
   "cell_type": "code",
   "execution_count": null,
   "id": "feeab805-0b67-4437-a187-9dad8b112816",
   "metadata": {},
   "outputs": [],
   "source": [
    "names = cell_types"
   ]
  },
  {
   "cell_type": "code",
   "execution_count": null,
   "id": "5b7b389b-4237-4b78-a988-78c7871f84c7",
   "metadata": {},
   "outputs": [],
   "source": [
    "names"
   ]
  },
  {
   "cell_type": "code",
   "execution_count": null,
   "id": "a1170f1e-a613-40dd-8e54-21e921b9aeb4",
   "metadata": {},
   "outputs": [],
   "source": [
    "mat.index = names"
   ]
  },
  {
   "cell_type": "code",
   "execution_count": null,
   "id": "87a8a10e-f492-42f8-b19d-54872d7156c1",
   "metadata": {},
   "outputs": [],
   "source": [
    "# fill nans with 0s\n",
    "mat = mat.fillna(0)"
   ]
  },
  {
   "cell_type": "code",
   "execution_count": null,
   "id": "85fb707b-8277-4ad9-8dbf-9b5e8d36cdd4",
   "metadata": {},
   "outputs": [],
   "source": [
    "mat"
   ]
  },
  {
   "cell_type": "code",
   "execution_count": null,
   "id": "6012fdd9-7803-4f59-a5f2-e6a884e8bc22",
   "metadata": {},
   "outputs": [],
   "source": [
    "mat.to_csv(os.path.join(work_dir, \"data\", \"outputdata\", \"combined\", \"Combined_TNK_decoupleR_mat.csv\"), index=True)"
   ]
  },
  {
   "cell_type": "markdown",
   "id": "2be87c5a-62c9-43c0-add9-284e6c9ab0ab",
   "metadata": {},
   "source": [
    "## Transcription factor activity inference"
   ]
  },
  {
   "cell_type": "code",
   "execution_count": null,
   "id": "6ba3d48d-a1aa-4720-bef3-e0d5e808af64",
   "metadata": {},
   "outputs": [],
   "source": [
    "# Retrieve CollecTRI gene regulatory network\n",
    "collectri = dc.get_collectri(organism='human', split_complexes=False)\n",
    "collectri"
   ]
  },
  {
   "cell_type": "code",
   "execution_count": null,
   "id": "ef9f985a-e760-4dc9-8041-8468da44e209",
   "metadata": {},
   "outputs": [],
   "source": [
    "# Infer pathway activities with ulm\n",
    "tf_acts, tf_pvals = dc.run_ulm(mat=mat, net=collectri)\n",
    "tf_acts"
   ]
  },
  {
   "cell_type": "code",
   "execution_count": null,
   "id": "9c71c8d8-c7ac-4794-94da-6c37609f3af4",
   "metadata": {},
   "outputs": [],
   "source": [
    "# check most active/inactive TFs\n",
    "\n",
    "for cell_type in pdata.obs['cell_type'].unique():\n",
    "\n",
    "    if cell_type in [\"CD4 T ISG+\", \"CD4 T Proliferative\", \"Cycling γδ T-like\"]:\n",
    "        continue\n",
    "    \n",
    "    dc.plot_barplot(\n",
    "        acts=tf_acts,\n",
    "        contrast=cell_type,\n",
    "        top=25,\n",
    "        vertical=True,\n",
    "        figsize=(3, 6)\n",
    "    )\n",
    "\n",
    "    plt.title(cell_type)\n",
    "    if cell_type == \"CD4 T CM/EarlyActivated\":\n",
    "        cell_type = \"CD4 T CM-EarlyActivated\"\n",
    "    plt.savefig(os.path.join(fig_dir,cell_type+\"_TF_Activity_plot.png\"), dpi=300, format=\"png\", bbox_inches=\"tight\")\n",
    "    plt.show()"
   ]
  },
  {
   "cell_type": "code",
   "execution_count": null,
   "id": "4586e3b9-c993-4d34-886c-16fe646d2fc8",
   "metadata": {},
   "outputs": [],
   "source": [
    "# explore a specific TF target genes\n",
    "\n",
    "# Extract logFCs and pvals\n",
    "logFCs = results_df[['log2FoldChange']].T.rename(index={'log2FoldChange': 'CD4 T Follicular Helper'})\n",
    "pvals = results_df[['padj']].T.rename(index={'padj': 'CD4 T Follicular Helper'})\n",
    "\n",
    "# Plot\n",
    "dc.plot_volcano(\n",
    "    logFCs=logFCs,\n",
    "    pvals=pvals,\n",
    "    contrast='CD4 T Follicular Helper',\n",
    "    name='NFYB',\n",
    "    net=collectri,\n",
    "    top=10,\n",
    "    sign_thr=0.05,\n",
    "    lFCs_thr=0.5\n",
    ")"
   ]
  },
  {
   "cell_type": "code",
   "execution_count": null,
   "id": "f82688fa-6d8d-419b-9a21-b4bbcfcbf707",
   "metadata": {},
   "outputs": [],
   "source": [
    "'''\n",
    "# plot network of TFs of interest\n",
    "dc.plot_network(\n",
    "    net=collectri,\n",
    "    obs=mat,\n",
    "    act=tf_acts,\n",
    "    n_sources=['CTNBB1', 'MYC', 'E2F4', 'TBX21'],\n",
    "    n_targets=15,\n",
    "    node_size=100,\n",
    "    figsize=(7, 7),\n",
    "    c_pos_w='darkgreen',\n",
    "    c_neg_w='darkred',\n",
    "    vcenter=True\n",
    ")\n",
    "'''"
   ]
  },
  {
   "cell_type": "code",
   "execution_count": null,
   "id": "7ee461f9-8f6d-43d5-8c8f-41c89f14ba74",
   "metadata": {},
   "outputs": [],
   "source": [
    "print(mat.shape)\n",
    "print(tf_acts.shape)"
   ]
  },
  {
   "cell_type": "markdown",
   "id": "bc8b84a2-3283-4936-8b52-070727db1bbd",
   "metadata": {},
   "source": [
    "## Pathway activity inference - PROGENy model"
   ]
  },
  {
   "cell_type": "code",
   "execution_count": null,
   "id": "1247886b-5abc-4fb4-84ff-340a60ff1f9d",
   "metadata": {},
   "outputs": [],
   "source": [
    "# Retrieve PROGENy model weights\n",
    "progeny = dc.get_progeny(top=500)\n",
    "progeny"
   ]
  },
  {
   "cell_type": "code",
   "execution_count": null,
   "id": "cb168496-3c73-4e65-bc26-94cd3571a111",
   "metadata": {},
   "outputs": [],
   "source": [
    "# Infer pathway activities with mlm\n",
    "pathway_acts, pathway_pvals = dc.run_mlm(mat=mat, net=progeny)\n",
    "pathway_acts"
   ]
  },
  {
   "cell_type": "code",
   "execution_count": null,
   "id": "f18f5918-5abc-473e-8e16-bb80fc3e3bb1",
   "metadata": {},
   "outputs": [],
   "source": [
    "for cell_type in pdata.obs['cell_type'].unique():\n",
    "\n",
    "    if cell_type in [\"CD4 T ISG+\", \"CD4 T Proliferative\", \"Cycling γδ T-like\"]:\n",
    "        continue\n",
    "    \n",
    "    # plot obtained scores\n",
    "    dc.plot_barplot(\n",
    "        acts=pathway_acts,\n",
    "        contrast=cell_type,\n",
    "        top=25,\n",
    "        vertical=False,\n",
    "        figsize=(6, 3)\n",
    "    )\n",
    "\n",
    "    plt.title(cell_type)\n",
    "    if cell_type == \"CD4 T CM/EarlyActivated\":\n",
    "        cell_type = \"CD4 T CM-EarlyActivated\"\n",
    "    plt.savefig(os.path.join(fig_dir,cell_type+\"_Pathway_Activity_plot.png\"), dpi=300, format=\"png\", bbox_inches=\"tight\")\n",
    "    plt.show()"
   ]
  },
  {
   "cell_type": "code",
   "execution_count": null,
   "id": "3fcdbc1d-4a88-479b-af03-04e56b045c79",
   "metadata": {},
   "outputs": [],
   "source": [
    "# explore target genes of pathway of interest\n",
    "dc.plot_targets(\n",
    "    data=results_df,\n",
    "    stat='stat',\n",
    "    source_name='JAK-STAT',\n",
    "    net=progeny,\n",
    "    top=15\n",
    ")"
   ]
  },
  {
   "cell_type": "markdown",
   "id": "8d80c65c-60aa-488c-9b09-01f2f68fc338",
   "metadata": {},
   "source": [
    "## Functional enrichment of biological terms (GSEA) - MSigDB"
   ]
  },
  {
   "cell_type": "code",
   "execution_count": null,
   "id": "d7185b78-dffb-4279-96c5-afd07be4f98b",
   "metadata": {},
   "outputs": [],
   "source": [
    "# Retrieve MSigDB resource\n",
    "msigdb = dc.get_resource('MSigDB')\n",
    "msigdb"
   ]
  },
  {
   "cell_type": "code",
   "execution_count": null,
   "id": "651ce50d-066e-41f5-a28f-1b8215c9e1d1",
   "metadata": {},
   "outputs": [],
   "source": [
    "msigdb.geneset"
   ]
  },
  {
   "cell_type": "code",
   "execution_count": null,
   "id": "9041b1b1-cd71-447b-8350-5129e4ab268e",
   "metadata": {},
   "outputs": [],
   "source": [
    "# Filter by hallmark (can use any other)\n",
    "msigdb = msigdb[msigdb['collection']=='hallmark']\n",
    "\n",
    "# Remove duplicated entries\n",
    "msigdb = msigdb[~msigdb.duplicated(['geneset', 'genesymbol'])]\n",
    "\n",
    "# Rename\n",
    "msigdb.loc[:, 'geneset'] = [name.split('HALLMARK_')[1] for name in msigdb['geneset']]\n",
    "\n",
    "msigdb"
   ]
  },
  {
   "cell_type": "code",
   "execution_count": null,
   "id": "b03151da-b57f-42c0-b73a-292430b64eda",
   "metadata": {},
   "outputs": [],
   "source": [
    "# Infer enrichment with ora using significant deg\n",
    "top_genes = results_df[results_df['padj'] < 0.05]\n",
    "\n",
    "# Run ora\n",
    "enr_pvals = dc.get_ora_df(\n",
    "    df=top_genes,\n",
    "    net=msigdb,\n",
    "    source='geneset',\n",
    "    target='genesymbol'\n",
    ")\n",
    "\n",
    "enr_pvals.head()"
   ]
  },
  {
   "cell_type": "code",
   "execution_count": null,
   "id": "c888835c-0937-44c4-9cb2-d3aa0ae40d8d",
   "metadata": {},
   "outputs": [],
   "source": [
    "# visualize most enrichment terms\n",
    "dc.plot_dotplot(\n",
    "    enr_pvals.sort_values('Combined score', ascending=False).head(15),\n",
    "    x='Combined score',\n",
    "    y='Term',\n",
    "    s='Odds ratio',\n",
    "    c='FDR p-value',\n",
    "    scale=0.5,\n",
    "    figsize=(3, 9)\n",
    ")"
   ]
  },
  {
   "cell_type": "code",
   "execution_count": null,
   "id": "6c4c59fc-b550-4fb4-833b-c2993685737f",
   "metadata": {
    "scrolled": true
   },
   "outputs": [],
   "source": [
    "# plot running score\n",
    "dc.plot_running_score(\n",
    "    df=results_df,\n",
    "    stat='stat',\n",
    "    net=msigdb,\n",
    "    source='geneset',\n",
    "    target='genesymbol',\n",
    "    set_name='MYC_TARGETS_V2'\n",
    ")"
   ]
  },
  {
   "cell_type": "markdown",
   "id": "2e47ed05-820a-48c4-8a61-3b0d9f4da4cf",
   "metadata": {},
   "source": [
    "# TNK Pseudo-bulk Functional Analysis - Timepoints PD Comparison"
   ]
  },
  {
   "cell_type": "markdown",
   "id": "36590c2f-20c5-44ac-98c3-8b9a89709fd6",
   "metadata": {},
   "source": [
    "https://decoupler-py.readthedocs.io/en/latest/notebooks/pseudobulk.html"
   ]
  },
  {
   "cell_type": "markdown",
   "id": "925ddd3e-df74-431d-afa0-f283eac1292d",
   "metadata": {},
   "source": [
    "## Environment SetUp"
   ]
  },
  {
   "cell_type": "code",
   "execution_count": null,
   "id": "3668eb26-c1c2-44ce-863d-9eb879eabdf4",
   "metadata": {},
   "outputs": [],
   "source": [
    "# load packages\n",
    "import scanpy as sc\n",
    "import decoupler as dc\n",
    "\n",
    "# Only needed for processing\n",
    "import numpy as np\n",
    "import pandas as pd\n",
    "\n",
    "# Needed for some plotting\n",
    "import matplotlib.pyplot as plt\n",
    "\n",
    "import os\n",
    "\n",
    "# plotting options\n",
    "sc.settings.set_figure_params(dpi=300, frameon=False)\n",
    "sc.set_figure_params(dpi=300)\n",
    "sc.set_figure_params(figsize=(4, 4))"
   ]
  },
  {
   "cell_type": "code",
   "execution_count": null,
   "id": "5db69a59-ef7a-4f64-b731-6c8f352b3394",
   "metadata": {},
   "outputs": [],
   "source": [
    "# set working and fig dir\n",
    "work_dir = \"/scratch_isilon/groups/singlecell/gdeuner/SERPENTINE\"\n",
    "fig_dir = os.path.join(work_dir, \"figures\", \"combined\", \"TNK\", \"decoupleR\", \"timepoints_PD_comparison\")\n",
    "sc.settings.figdir = os.path.join(work_dir, \"figures\", \"combined\", \"TNK\", \"decoupleR\", \"timepoints_PD_comparison\")"
   ]
  },
  {
   "cell_type": "code",
   "execution_count": null,
   "id": "a9d99ac4-c9ff-4f6c-857f-53c4ca6bf7c4",
   "metadata": {},
   "outputs": [],
   "source": [
    "# load data\n",
    "adata = sc.read_h5ad(os.path.join(work_dir, \"data\", \"outputdata\", \"combined\", \"Combined_SCR_CO2_TNK_annotated_13-04-24.h5ad\"))"
   ]
  },
  {
   "cell_type": "code",
   "execution_count": null,
   "id": "0274ba5b-9af4-4d75-9cb6-c1559039bfa7",
   "metadata": {},
   "outputs": [],
   "source": [
    "# modify layers to suit decoupleR reqs\n",
    "adata.layers[\"counts\"] = adata.layers[\"rawcounts\"]\n",
    "adata.layers[\"normalized\"] = adata.layers[\"logcounts\"]"
   ]
  },
  {
   "cell_type": "code",
   "execution_count": null,
   "id": "0391e3b6-283f-4819-ab0b-6039e6bb866c",
   "metadata": {},
   "outputs": [],
   "source": [
    "# modify metadata cell type name to ease analysis\n",
    "adata.obs[\"cell_type\"] = adata.obs[\"Annotation_2.0\"]"
   ]
  },
  {
   "cell_type": "code",
   "execution_count": null,
   "id": "ac948061-3369-4bb1-a464-79b6047a976c",
   "metadata": {},
   "outputs": [],
   "source": [
    "# subset non responders\n",
    "adata = adata[adata.obs[\"response\"] == \"PD\"].copy()\n",
    "adata"
   ]
  },
  {
   "cell_type": "code",
   "execution_count": null,
   "id": "acd10fb6-33ea-41f8-afa9-dc270522f239",
   "metadata": {},
   "outputs": [],
   "source": [
    "# explore metdata\n",
    "adata.obs"
   ]
  },
  {
   "cell_type": "markdown",
   "id": "1f17fd4d-f249-4918-a12a-4d13eb5d39b1",
   "metadata": {},
   "source": [
    "## Pseudobulk"
   ]
  },
  {
   "cell_type": "markdown",
   "id": "426da43d-5b84-4c8d-bd99-0b811562803a",
   "metadata": {},
   "source": [
    "### Generation of pseudo-bulk profiles"
   ]
  },
  {
   "cell_type": "code",
   "execution_count": null,
   "id": "32346117-87e4-4599-824a-33cec533305e",
   "metadata": {},
   "outputs": [],
   "source": [
    "pdata = dc.get_pseudobulk(\n",
    "    adata,\n",
    "    sample_col='sample',\n",
    "    groups_col='cell_type',\n",
    "    layer='counts',\n",
    "    mode='sum',\n",
    "    min_cells=10,\n",
    "    min_counts=1000\n",
    ")\n",
    "pdata"
   ]
  },
  {
   "cell_type": "markdown",
   "id": "9e73f841-69de-40bf-a7ef-f6abc51a039f",
   "metadata": {},
   "source": [
    "### Exploration of pseudobulk profiles"
   ]
  },
  {
   "cell_type": "code",
   "execution_count": null,
   "id": "92228868-da5f-4cea-be72-d14ad4a62cef",
   "metadata": {},
   "outputs": [],
   "source": [
    "# explore variability of pseudobulks between patient and cell type\n",
    "\n",
    "# Store raw counts in layers\n",
    "pdata.layers['counts'] = pdata.X.copy()\n",
    "\n",
    "# Normalize, scale and compute pca\n",
    "sc.pp.normalize_total(pdata, target_sum=1e4)\n",
    "sc.pp.log1p(pdata)\n",
    "sc.pp.scale(pdata, max_value=10)\n",
    "sc.tl.pca(pdata)\n",
    "\n",
    "# Return raw counts to X\n",
    "dc.swap_layer(pdata, 'counts', X_layer_key=None, inplace=True)"
   ]
  },
  {
   "cell_type": "code",
   "execution_count": null,
   "id": "a0e9bb7f-457f-4e53-85cd-332272249968",
   "metadata": {},
   "outputs": [],
   "source": [
    "sc.pl.pca(pdata, color=['timepoint', 'cell_type'], ncols=1, size=300)\n",
    "sc.pl.pca_variance_ratio(pdata)"
   ]
  },
  {
   "cell_type": "code",
   "execution_count": null,
   "id": "a050c13f-9049-441e-985f-c87125077ddb",
   "metadata": {},
   "outputs": [],
   "source": [
    "# perform ANOVA on each PC and see whether they are significantly associated with any technical or biological annotations of our samples\n",
    "dc.get_metadata_associations(\n",
    "    pdata,\n",
    "    obs_keys = ['patient', 'timepoint', 'response', 'cell_type', 'psbulk_n_cells', 'psbulk_counts'],  # Metadata columns to associate to PCs\n",
    "    obsm_key='X_pca',  # Where the PCs are stored\n",
    "    uns_key='pca_anova',  # Where the results are stored\n",
    "    inplace=True,\n",
    ")"
   ]
  },
  {
   "cell_type": "code",
   "execution_count": null,
   "id": "c6cdaeb9-8b03-472e-bc95-ac4c737dd672",
   "metadata": {},
   "outputs": [],
   "source": [
    "'''\n",
    "dc.plot_associations(\n",
    "    pdata,\n",
    "    uns_key='pca_anova',  # Summary statistics from the anova tests\n",
    "    obsm_key='X_pca',  # where the PCs are stored\n",
    "    stat_col='p_adj',  # Which summary statistic to plot\n",
    "    obs_annotation_cols = ['timepoint', 'cell_type'], # which sample annotations to plot\n",
    "    titles=['Principle component scores', 'Adjusted p-values from ANOVA'],\n",
    "    figsize=(7, 5),\n",
    "    n_factors=10,\n",
    "    cmap_cats=\"tab20\",\n",
    "    cmap_scores=\"PuOr\",\n",
    "    save=os.path.join(fig_dir,\"Association_plot.png\"),\n",
    "    return_fig=True, \n",
    "    dpi=600\n",
    ")\n",
    "'''"
   ]
  },
  {
   "cell_type": "markdown",
   "id": "61a8e35a-a566-4c90-8574-d2db9f91f641",
   "metadata": {},
   "source": [
    "## Contrast between conditions (DGEA)"
   ]
  },
  {
   "cell_type": "code",
   "execution_count": null,
   "id": "85fe611d-b219-4337-aadf-78017c83354f",
   "metadata": {},
   "outputs": [],
   "source": [
    "# Import DESeq2\n",
    "from pydeseq2.dds import DeseqDataSet, DefaultInference\n",
    "from pydeseq2.ds import DeseqStats"
   ]
  },
  {
   "cell_type": "code",
   "execution_count": null,
   "id": "8b33a2db-f1d0-4209-b3f5-5b91abe01733",
   "metadata": {},
   "outputs": [],
   "source": [
    "pdata.obs.groupby('cell_type').count()['Condition']"
   ]
  },
  {
   "cell_type": "code",
   "execution_count": null,
   "id": "8a3340a0-ac60-4764-84b7-2eb4a62bbf63",
   "metadata": {},
   "outputs": [],
   "source": [
    "# create list of cell types which DGE can be run \n",
    "cell_types = pdata.obs['cell_type'].unique().tolist()\n",
    "for cell_type in cell_types:\n",
    "    n = pdata.obs.groupby(['cell_type']).count()['Condition'][cell_type]\n",
    "    if n < 4:\n",
    "        cell_types.remove(cell_type)\n",
    "\n",
    "print(cell_types)"
   ]
  },
  {
   "cell_type": "code",
   "execution_count": null,
   "id": "197d9fe3-ebd7-4b90-9d68-0f2ef33e334f",
   "metadata": {},
   "outputs": [],
   "source": [
    "it = 1\n",
    "for cell_type in cell_types:\n",
    "    print('Running DEseq2 for ' + cell_type + '...')\n",
    "        \n",
    "    celltype_cells = pdata[pdata.obs['cell_type'] == cell_type].copy()\n",
    "\n",
    "    inference = DefaultInference(n_cpus=16)\n",
    "    dds = DeseqDataSet(\n",
    "        adata=celltype_cells,\n",
    "        design_factors='Condition',\n",
    "        ref_level=['Condition', 'T1/+ICI'],\n",
    "        refit_cooks=True,\n",
    "        inference=inference,\n",
    "    )\n",
    "    \n",
    "    # Compute LFCs\n",
    "    dds.deseq2()\n",
    "    \n",
    "\n",
    "    # Extract contrast between timepoints\n",
    "    stat_res = DeseqStats(\n",
    "        dds,\n",
    "        contrast=[\"Condition\", 'T1/+ICI', 'T0/-ICI'],\n",
    "        inference=inference,\n",
    "    )\n",
    "    \n",
    "    # Compute Wald test\n",
    "    print(stat_res.summary())\n",
    "    \n",
    "    # Extract results\n",
    "    results_df = stat_res.results_df\n",
    "    results_df\n",
    "\n",
    "    if cell_type == \"CD4 T CM/EarlyActivated\":\n",
    "        cell_type = \"CD4 T CM-EarlyActivated\"\n",
    "\n",
    "    plot=dc.plot_volcano_df(\n",
    "        results_df,\n",
    "        x='log2FoldChange',\n",
    "        y='padj',\n",
    "        top=20,\n",
    "        figsize=(8, 4)\n",
    "    )\n",
    "    plt.title(cell_type)\n",
    "    plt.savefig(os.path.join(fig_dir,cell_type+\"_DGE_volcano_plot.png\"), dpi=300, format=\"png\", bbox_inches=\"tight\")\n",
    "    plt.show()\n",
    "\n",
    "    if cell_type == \"CD4 T CM-EarlyActivated\":\n",
    "        cell_type = \"CD4 T CM/EarlyActivated\"\n",
    "    \n",
    "    if it == 1:\n",
    "        mat = results_df[['stat']].T.rename(index={'stat': 'celltype'})\n",
    "    else:\n",
    "        mat = mat._append(results_df[['stat']].T.rename(index={'stat': 'celltype'}))\n",
    "\n",
    "    it += 1\n",
    "    "
   ]
  },
  {
   "cell_type": "code",
   "execution_count": null,
   "id": "e3a83c90-8b48-403a-b606-75d55464f127",
   "metadata": {},
   "outputs": [],
   "source": [
    "names = cell_types"
   ]
  },
  {
   "cell_type": "code",
   "execution_count": null,
   "id": "3c81bc90-78a3-417a-a714-1077143a66cb",
   "metadata": {},
   "outputs": [],
   "source": [
    "names"
   ]
  },
  {
   "cell_type": "code",
   "execution_count": null,
   "id": "4e9784b2-b2ab-4ae4-ad52-fb538e3085db",
   "metadata": {},
   "outputs": [],
   "source": [
    "mat.index = names"
   ]
  },
  {
   "cell_type": "code",
   "execution_count": null,
   "id": "50028973-bf5b-43fd-97b5-70075386f2bb",
   "metadata": {},
   "outputs": [],
   "source": [
    "# fill nans with 0s\n",
    "mat = mat.fillna(0)"
   ]
  },
  {
   "cell_type": "code",
   "execution_count": null,
   "id": "1da4c99b-b3d6-4c49-845b-1326c1ea10b0",
   "metadata": {},
   "outputs": [],
   "source": [
    "mat"
   ]
  },
  {
   "cell_type": "code",
   "execution_count": null,
   "id": "87096ac1-c9b5-4053-aa3f-115d99d985f9",
   "metadata": {},
   "outputs": [],
   "source": [
    "mat.to_csv(os.path.join(work_dir, \"data\", \"outputdata\", \"combined\", \"Combined_TNK_decoupleR_mat.csv\"), index=True)"
   ]
  },
  {
   "cell_type": "markdown",
   "id": "725a4b8f-95d6-4455-8864-cd7fdb96f001",
   "metadata": {},
   "source": [
    "## Transcription factor activity inference"
   ]
  },
  {
   "cell_type": "code",
   "execution_count": null,
   "id": "7ccddcf5-b820-408a-9102-c2c7f23e4a4a",
   "metadata": {},
   "outputs": [],
   "source": [
    "# Retrieve CollecTRI gene regulatory network\n",
    "collectri = dc.get_collectri(organism='human', split_complexes=False)\n",
    "collectri"
   ]
  },
  {
   "cell_type": "code",
   "execution_count": null,
   "id": "39532c1b-4260-48af-b0a3-50bb914182b9",
   "metadata": {},
   "outputs": [],
   "source": [
    "# Infer pathway activities with ulm\n",
    "tf_acts, tf_pvals = dc.run_ulm(mat=mat, net=collectri)\n",
    "tf_acts"
   ]
  },
  {
   "cell_type": "code",
   "execution_count": null,
   "id": "ee3a2f26-0187-415b-8c18-baeeb2972c53",
   "metadata": {},
   "outputs": [],
   "source": [
    "# check most active/inactive TFs\n",
    "\n",
    "for cell_type in pdata.obs['cell_type'].unique():\n",
    "\n",
    "    if cell_type in [\"CD4 T ISG+\", \"CD4 T Proliferative\", \"Cycling γδ T-like\"]:\n",
    "        continue\n",
    "    \n",
    "    dc.plot_barplot(\n",
    "        acts=tf_acts,\n",
    "        contrast=cell_type,\n",
    "        top=25,\n",
    "        vertical=True,\n",
    "        figsize=(3, 6)\n",
    "    )\n",
    "\n",
    "    plt.title(cell_type)\n",
    "    if cell_type == \"CD4 T CM/EarlyActivated\":\n",
    "        cell_type = \"CD4 T CM-EarlyActivated\"\n",
    "    plt.savefig(os.path.join(fig_dir,cell_type+\"_TF_Activity_plot.png\"), dpi=300, format=\"png\", bbox_inches=\"tight\")\n",
    "    plt.show()"
   ]
  },
  {
   "cell_type": "code",
   "execution_count": null,
   "id": "115eb517-1b24-4ce9-9e54-c8efcfeace7f",
   "metadata": {},
   "outputs": [],
   "source": [
    "# explore a specific TF target genes\n",
    "\n",
    "# Extract logFCs and pvals\n",
    "logFCs = results_df[['log2FoldChange']].T.rename(index={'log2FoldChange': 'CD4 T Follicular Helper'})\n",
    "pvals = results_df[['padj']].T.rename(index={'padj': 'CD4 T Follicular Helper'})\n",
    "\n",
    "# Plot\n",
    "dc.plot_volcano(\n",
    "    logFCs=logFCs,\n",
    "    pvals=pvals,\n",
    "    contrast='CD4 T Follicular Helper',\n",
    "    name='NFYB',\n",
    "    net=collectri,\n",
    "    top=10,\n",
    "    sign_thr=0.05,\n",
    "    lFCs_thr=0.5\n",
    ")"
   ]
  },
  {
   "cell_type": "code",
   "execution_count": null,
   "id": "ac12cc3b-57a4-4869-b14b-7985afe637c1",
   "metadata": {},
   "outputs": [],
   "source": [
    "'''\n",
    "# plot network of TFs of interest\n",
    "dc.plot_network(\n",
    "    net=collectri,\n",
    "    obs=mat,\n",
    "    act=tf_acts,\n",
    "    n_sources=['CTNBB1', 'MYC', 'E2F4', 'TBX21'],\n",
    "    n_targets=15,\n",
    "    node_size=100,\n",
    "    figsize=(7, 7),\n",
    "    c_pos_w='darkgreen',\n",
    "    c_neg_w='darkred',\n",
    "    vcenter=True\n",
    ")\n",
    "'''"
   ]
  },
  {
   "cell_type": "code",
   "execution_count": null,
   "id": "05dc735c-286f-4ca5-8f67-b8244bf131b7",
   "metadata": {},
   "outputs": [],
   "source": [
    "print(mat.shape)\n",
    "print(tf_acts.shape)"
   ]
  },
  {
   "cell_type": "markdown",
   "id": "fb9ac442-e742-4dda-9de3-2916e8946f16",
   "metadata": {},
   "source": [
    "## Pathway activity inference - PROGENy model"
   ]
  },
  {
   "cell_type": "code",
   "execution_count": null,
   "id": "b9061d88-0efb-4195-8951-25792a4998fc",
   "metadata": {},
   "outputs": [],
   "source": [
    "# Retrieve PROGENy model weights\n",
    "progeny = dc.get_progeny(top=500)\n",
    "progeny"
   ]
  },
  {
   "cell_type": "code",
   "execution_count": null,
   "id": "5b34c716-a9fa-4845-9536-388f9a2408a7",
   "metadata": {},
   "outputs": [],
   "source": [
    "# Infer pathway activities with mlm\n",
    "pathway_acts, pathway_pvals = dc.run_mlm(mat=mat, net=progeny)\n",
    "pathway_acts"
   ]
  },
  {
   "cell_type": "code",
   "execution_count": null,
   "id": "b345b999-b12c-4af3-a5dc-2d8acb3b28a8",
   "metadata": {},
   "outputs": [],
   "source": [
    "for cell_type in pdata.obs['cell_type'].unique():\n",
    "\n",
    "    if cell_type in [\"CD4 T ISG+\", \"CD4 T Proliferative\", \"Cycling γδ T-like\"]:\n",
    "        continue\n",
    "    \n",
    "    # plot obtained scores\n",
    "    dc.plot_barplot(\n",
    "        acts=pathway_acts,\n",
    "        contrast=cell_type,\n",
    "        top=25,\n",
    "        vertical=False,\n",
    "        figsize=(6, 3)\n",
    "    )\n",
    "\n",
    "    plt.title(cell_type)\n",
    "    if cell_type == \"CD4 T CM/EarlyActivated\":\n",
    "        cell_type = \"CD4 T CM-EarlyActivated\"\n",
    "    plt.savefig(os.path.join(fig_dir,cell_type+\"_Pathway_Activity_plot.png\"), dpi=300, format=\"png\", bbox_inches=\"tight\")\n",
    "    plt.show()"
   ]
  },
  {
   "cell_type": "code",
   "execution_count": null,
   "id": "a814ded0-446a-4858-a928-23676c8be5de",
   "metadata": {},
   "outputs": [],
   "source": [
    "# explore target genes of pathway of interest\n",
    "dc.plot_targets(\n",
    "    data=results_df,\n",
    "    stat='stat',\n",
    "    source_name='JAK-STAT',\n",
    "    net=progeny,\n",
    "    top=15\n",
    ")"
   ]
  },
  {
   "cell_type": "markdown",
   "id": "0ebfb28b-c2f7-435c-b402-36b39b10aab3",
   "metadata": {},
   "source": [
    "## Functional enrichment of biological terms (GSEA) - MSigDB"
   ]
  },
  {
   "cell_type": "code",
   "execution_count": null,
   "id": "734be251-c677-4f84-88fd-a06c28ef3452",
   "metadata": {},
   "outputs": [],
   "source": [
    "# Retrieve MSigDB resource\n",
    "msigdb = dc.get_resource('MSigDB')\n",
    "msigdb"
   ]
  },
  {
   "cell_type": "code",
   "execution_count": null,
   "id": "5f2c6c4f-ab28-45cd-b3cf-ef2247d8c028",
   "metadata": {},
   "outputs": [],
   "source": [
    "msigdb.geneset"
   ]
  },
  {
   "cell_type": "code",
   "execution_count": null,
   "id": "3d68d0b9-1406-4b51-9193-4dc4b546910d",
   "metadata": {},
   "outputs": [],
   "source": [
    "# Filter by hallmark (can use any other)\n",
    "msigdb = msigdb[msigdb['collection']=='hallmark']\n",
    "\n",
    "# Remove duplicated entries\n",
    "msigdb = msigdb[~msigdb.duplicated(['geneset', 'genesymbol'])]\n",
    "\n",
    "# Rename\n",
    "msigdb.loc[:, 'geneset'] = [name.split('HALLMARK_')[1] for name in msigdb['geneset']]\n",
    "\n",
    "msigdb"
   ]
  },
  {
   "cell_type": "code",
   "execution_count": null,
   "id": "af1f91f6-f064-4216-8acf-a71d8d13fc7d",
   "metadata": {},
   "outputs": [],
   "source": [
    "# Infer enrichment with ora using significant deg\n",
    "top_genes = results_df[results_df['padj'] < 0.05]\n",
    "\n",
    "# Run ora\n",
    "enr_pvals = dc.get_ora_df(\n",
    "    df=top_genes,\n",
    "    net=msigdb,\n",
    "    source='geneset',\n",
    "    target='genesymbol'\n",
    ")\n",
    "\n",
    "enr_pvals.head()"
   ]
  },
  {
   "cell_type": "code",
   "execution_count": null,
   "id": "b3fc2ca6-f272-4826-9311-77897547c847",
   "metadata": {},
   "outputs": [],
   "source": [
    "# visualize most enrichment terms\n",
    "dc.plot_dotplot(\n",
    "    enr_pvals.sort_values('Combined score', ascending=False).head(15),\n",
    "    x='Combined score',\n",
    "    y='Term',\n",
    "    s='Odds ratio',\n",
    "    c='FDR p-value',\n",
    "    scale=0.5,\n",
    "    figsize=(3, 9)\n",
    ")"
   ]
  },
  {
   "cell_type": "code",
   "execution_count": null,
   "id": "d3455b9e-c9fd-43fb-a2cd-1833b22f057d",
   "metadata": {
    "scrolled": true
   },
   "outputs": [],
   "source": [
    "# plot running score\n",
    "dc.plot_running_score(\n",
    "    df=results_df,\n",
    "    stat='stat',\n",
    "    net=msigdb,\n",
    "    source='geneset',\n",
    "    target='genesymbol',\n",
    "    set_name='MYC_TARGETS_V2'\n",
    ")"
   ]
  },
  {
   "cell_type": "markdown",
   "id": "cad851c5-915f-4729-9fd4-70854cba8ff2",
   "metadata": {},
   "source": [
    "# Pseudo-bulk Functional Analysis - Response Comparison"
   ]
  },
  {
   "cell_type": "markdown",
   "id": "348837b8-741c-4118-870d-535616472f02",
   "metadata": {},
   "source": [
    "https://decoupler-py.readthedocs.io/en/latest/notebooks/pseudobulk.html"
   ]
  },
  {
   "cell_type": "markdown",
   "id": "8b41428a-970f-49b7-9437-fa5c7e9cb093",
   "metadata": {},
   "source": [
    "## Environment SetUp"
   ]
  },
  {
   "cell_type": "code",
   "execution_count": null,
   "id": "971ba6c1-f800-4987-b31e-7607ec90a381",
   "metadata": {},
   "outputs": [],
   "source": [
    "# load packages\n",
    "import scanpy as sc\n",
    "import decoupler as dc\n",
    "\n",
    "# Only needed for processing\n",
    "import numpy as np\n",
    "import pandas as pd\n",
    "\n",
    "# Needed for some plotting\n",
    "import matplotlib.pyplot as plt\n",
    "\n",
    "import os\n",
    "\n",
    "# Plotting options, change to your liking\n",
    "sc.settings.set_figure_params(dpi=300, frameon=False)\n",
    "sc.set_figure_params(dpi=300)\n",
    "sc.set_figure_params(figsize=(4, 4))"
   ]
  },
  {
   "cell_type": "code",
   "execution_count": null,
   "id": "f0211bfb-357b-48be-ae87-996b7994a6e2",
   "metadata": {},
   "outputs": [],
   "source": [
    "# set working and fig dir\n",
    "work_dir = \"/scratch_isilon/groups/singlecell/gdeuner/SERPENTINE\"\n",
    "fig_dir = os.path.join(work_dir, \"figures\", \"combined\", \"TNK\", \"decoupleR\", \"response_comparison\")\n",
    "sc.settings.figdir = os.path.join(work_dir, \"figures\", \"combined\", \"TNK\", \"decoupleR\", \"response_comparison\")"
   ]
  },
  {
   "cell_type": "code",
   "execution_count": null,
   "id": "b670791a-3417-402c-a609-cb5429161b95",
   "metadata": {},
   "outputs": [],
   "source": [
    "# load data\n",
    "adata = sc.read_h5ad(os.path.join(work_dir, \"data\", \"outputdata\", \"combined\", \"Combined_SCR_CO2_TNK_annotated_13-04-24.h5ad\"))"
   ]
  },
  {
   "cell_type": "code",
   "execution_count": null,
   "id": "d006f453-aa0e-4085-b23e-acaa38ce2282",
   "metadata": {},
   "outputs": [],
   "source": [
    "# modify layers to suit decoupleR reqs\n",
    "adata.layers[\"counts\"] = adata.layers[\"rawcounts\"]\n",
    "adata.layers[\"normalized\"] = adata.layers[\"logcounts\"]"
   ]
  },
  {
   "cell_type": "code",
   "execution_count": null,
   "id": "53d48b29-36ef-434a-9dbd-41fc94890939",
   "metadata": {},
   "outputs": [],
   "source": [
    "# modify metadata cell type name to ease analysis\n",
    "adata.obs[\"cell_type\"] = adata.obs[\"Annotation_2.0\"]"
   ]
  },
  {
   "cell_type": "code",
   "execution_count": null,
   "id": "35096274-3c02-462d-a94e-ea5e4fdcd88b",
   "metadata": {},
   "outputs": [],
   "source": [
    "# explore metdata\n",
    "adata.obs"
   ]
  },
  {
   "cell_type": "markdown",
   "id": "aa763bb6-074c-4949-a9e3-adeafe5d736a",
   "metadata": {},
   "source": [
    "## Pseudobulk"
   ]
  },
  {
   "cell_type": "markdown",
   "id": "f37f9eb5-c229-4674-be4b-e59062386773",
   "metadata": {},
   "source": [
    "### Generation of pseudo-bulk profiles"
   ]
  },
  {
   "cell_type": "code",
   "execution_count": null,
   "id": "feef53a7-5ee5-4168-b478-0eba5d3e0c4e",
   "metadata": {},
   "outputs": [],
   "source": [
    "pdata = dc.get_pseudobulk(\n",
    "    adata,\n",
    "    sample_col='sample',\n",
    "    groups_col='cell_type',\n",
    "    layer='counts',\n",
    "    mode='sum',\n",
    "    min_cells=10,\n",
    "    min_counts=1000\n",
    ")\n",
    "pdata"
   ]
  },
  {
   "cell_type": "markdown",
   "id": "f347be42-9247-4e64-ab1b-011a1ba6462e",
   "metadata": {},
   "source": [
    "### Exploration of pseudobulk profiles"
   ]
  },
  {
   "cell_type": "code",
   "execution_count": null,
   "id": "1e6f0652-a5d7-489a-b54e-46688f5473d5",
   "metadata": {},
   "outputs": [],
   "source": [
    "# explore variability of pseudobulks between patient and cell type\n",
    "\n",
    "# Store raw counts in layers\n",
    "pdata.layers['counts'] = pdata.X.copy()\n",
    "\n",
    "# Normalize, scale and compute pca\n",
    "sc.pp.normalize_total(pdata, target_sum=1e4)\n",
    "sc.pp.log1p(pdata)\n",
    "sc.pp.scale(pdata, max_value=10)\n",
    "sc.tl.pca(pdata)\n",
    "\n",
    "# Return raw counts to X\n",
    "dc.swap_layer(pdata, 'counts', X_layer_key=None, inplace=True)"
   ]
  },
  {
   "cell_type": "code",
   "execution_count": null,
   "id": "6e59e8d0-49f9-4304-99f4-9c3b29ad4cab",
   "metadata": {},
   "outputs": [],
   "source": [
    "sc.pl.pca(pdata, color=['response', 'cell_type'], ncols=1, size=300)\n",
    "sc.pl.pca_variance_ratio(pdata)"
   ]
  },
  {
   "cell_type": "code",
   "execution_count": null,
   "id": "bb7ecfcc-f69e-4c41-b09f-fd23aea8ed02",
   "metadata": {},
   "outputs": [],
   "source": [
    "# perform ANOVA on each PC and see whether they are significantly associated with any technical or biological annotations of our samples\n",
    "dc.get_metadata_associations(\n",
    "    pdata,\n",
    "    obs_keys = ['patient', 'timepoint', 'response', 'cell_type', 'psbulk_n_cells', 'psbulk_counts'],  # Metadata columns to associate to PCs\n",
    "    obsm_key='X_pca',  # Where the PCs are stored\n",
    "    uns_key='pca_anova',  # Where the results are stored\n",
    "    inplace=True,\n",
    ")"
   ]
  },
  {
   "cell_type": "code",
   "execution_count": null,
   "id": "df4ff3b4-7859-4a81-aa8f-e8a3070403f7",
   "metadata": {},
   "outputs": [],
   "source": [
    "dc.plot_associations(\n",
    "    pdata,\n",
    "    uns_key='pca_anova',  # Summary statistics from the anova tests\n",
    "    obsm_key='X_pca',  # where the PCs are stored\n",
    "    stat_col='p_adj',  # Which summary statistic to plot\n",
    "    obs_annotation_cols = ['response', 'cell_type'], # which sample annotations to plot\n",
    "    titles=['Principle component scores', 'Adjusted p-values from ANOVA'],\n",
    "    figsize=(7, 5),\n",
    "    n_factors=10,\n",
    "    cmap_cats=\"tab20\",\n",
    "    cmap_scores=\"PuOr\",\n",
    "    save=os.path.join(fig_dir,\"Association_plot.png\"),\n",
    "    return_fig=True, \n",
    "    dpi=600\n",
    ")"
   ]
  },
  {
   "cell_type": "markdown",
   "id": "99afb084-7fa0-4a79-b178-8e1109e562e8",
   "metadata": {},
   "source": [
    "## Contrast between conditions (DGEA)"
   ]
  },
  {
   "cell_type": "code",
   "execution_count": null,
   "id": "965cfd8f-1c4c-4e3e-8c77-3294999a1b89",
   "metadata": {},
   "outputs": [],
   "source": [
    "# Import DESeq2\n",
    "from pydeseq2.dds import DeseqDataSet, DefaultInference\n",
    "from pydeseq2.ds import DeseqStats"
   ]
  },
  {
   "cell_type": "code",
   "execution_count": null,
   "id": "9717f87b-7ae5-4b28-9fc3-4b9a6397c2c5",
   "metadata": {},
   "outputs": [],
   "source": [
    "# explore pseudobulks \n",
    "pdata.obs.groupby(['cell_type', 'response']).count()"
   ]
  },
  {
   "cell_type": "code",
   "execution_count": null,
   "id": "5568a00f-e5ca-4d82-8e1d-d0bbc54e945b",
   "metadata": {},
   "outputs": [],
   "source": [
    "pdata.obs.groupby('cell_type').count()['Condition']"
   ]
  },
  {
   "cell_type": "code",
   "execution_count": null,
   "id": "e1ceb201-f4d8-4664-bceb-cde45505766c",
   "metadata": {},
   "outputs": [],
   "source": [
    "# create list of cell types which DGE can be run \n",
    "cell_types = pdata.obs['cell_type'].unique().tolist()\n",
    "for cell_type in cell_types:\n",
    "    n = pdata.obs.groupby(['cell_type']).count()['Condition'][cell_type]\n",
    "    if n < 4:\n",
    "        cell_types.remove(cell_type)\n",
    "\n",
    "for cell_type in cell_types:\n",
    "    for count in pdata.obs.groupby(['cell_type', 'response']).count()['cells'][cell_type]:\n",
    "        if int(count) < 2:\n",
    "            cell_types.remove(cell_type)\n",
    "            continue\n",
    "\n",
    "print(cell_types)"
   ]
  },
  {
   "cell_type": "code",
   "execution_count": null,
   "id": "47e7e3f4-ca7f-4a79-85dd-8755c3320068",
   "metadata": {},
   "outputs": [],
   "source": [
    "for i in pdata.obs.groupby(['cell_type', 'response']).count()['cells']['CD4 T Helper-like']:\n",
    "    print(i)"
   ]
  },
  {
   "cell_type": "code",
   "execution_count": null,
   "id": "430aae98-1da5-4779-9464-63db2266732d",
   "metadata": {},
   "outputs": [],
   "source": [
    "it = 1\n",
    "for cell_type in cell_types:\n",
    "\n",
    "    print('Running DEseq2 for ' + cell_type + '...')\n",
    "\n",
    "    celltype_cells = pdata[pdata.obs['cell_type'] == cell_type].copy()\n",
    "\n",
    "    inference = DefaultInference(n_cpus=16)\n",
    "    dds = DeseqDataSet(\n",
    "        adata=celltype_cells,\n",
    "        design_factors='response',\n",
    "        ref_level=['response', 'PD'],\n",
    "        refit_cooks=True,\n",
    "        inference=inference,\n",
    "    )\n",
    "    \n",
    "    # Compute LFCs\n",
    "    dds.deseq2()\n",
    "    \n",
    "\n",
    "    # Extract contrast between timepoints\n",
    "    stat_res = DeseqStats(\n",
    "        dds,\n",
    "        contrast=[\"response\", 'PD', 'SD'],\n",
    "        inference=inference,\n",
    "    )\n",
    "    \n",
    "    # Compute Wald test\n",
    "    print(stat_res.summary())\n",
    "    \n",
    "    # Extract results\n",
    "    results_df = stat_res.results_df\n",
    "    results_df\n",
    "\n",
    "    if cell_type == \"CD4 T CM/EarlyActivated\":\n",
    "        cell_type = \"CD4 T CM-EarlyActivated\"\n",
    "\n",
    "    plot=dc.plot_volcano_df(\n",
    "        results_df,\n",
    "        x='log2FoldChange',\n",
    "        y='padj',\n",
    "        top=20,\n",
    "        figsize=(8, 4)\n",
    "    )\n",
    "    plt.title(cell_type)\n",
    "    plt.savefig(os.path.join(fig_dir,cell_type+\"_DGE_volcano_plot.png\"), dpi=300, format=\"png\", bbox_inches=\"tight\")\n",
    "    plt.show()\n",
    "\n",
    "    if cell_type == \"CD4 T CM-EarlyActivated\":\n",
    "        cell_type = \"CD4 T CM/EarlyActivated\"\n",
    "    \n",
    "    if it == 1:\n",
    "        mat = results_df[['stat']].T.rename(index={'stat': 'celltype'})\n",
    "    else:\n",
    "        mat = mat._append(results_df[['stat']].T.rename(index={'stat': 'celltype'}))\n",
    "\n",
    "    it += 1\n",
    "    "
   ]
  },
  {
   "cell_type": "code",
   "execution_count": null,
   "id": "fe0901a6-ada5-4a20-aca0-c2912d1d7870",
   "metadata": {},
   "outputs": [],
   "source": [
    "names = cell_types"
   ]
  },
  {
   "cell_type": "code",
   "execution_count": null,
   "id": "6802e077-736e-4ca4-b9bc-e3ec5c16362a",
   "metadata": {},
   "outputs": [],
   "source": [
    "names"
   ]
  },
  {
   "cell_type": "code",
   "execution_count": null,
   "id": "373eeb7d-482b-491d-9982-9883b9ce3273",
   "metadata": {},
   "outputs": [],
   "source": [
    "mat.index = names"
   ]
  },
  {
   "cell_type": "code",
   "execution_count": null,
   "id": "3c91d7dc-c3e3-485f-a103-1b7b8e5b71c5",
   "metadata": {},
   "outputs": [],
   "source": [
    "# fill nans with 0s\n",
    "mat = mat.fillna(0)"
   ]
  },
  {
   "cell_type": "code",
   "execution_count": null,
   "id": "a88e25f6-c622-4247-88a8-18f30d86671d",
   "metadata": {},
   "outputs": [],
   "source": [
    "mat"
   ]
  },
  {
   "cell_type": "code",
   "execution_count": null,
   "id": "77392f1e-a9a5-44e2-8eda-183b592b3a60",
   "metadata": {},
   "outputs": [],
   "source": [
    "mat.to_csv(os.path.join(work_dir, \"data\", \"outputdata\", \"combined\", \"Combined_TNK_decoupleR_mat_response.csv\"), index=True)"
   ]
  },
  {
   "cell_type": "markdown",
   "id": "bd1ff4cc-dee0-474e-ae03-04b9e035cc82",
   "metadata": {},
   "source": [
    "## Transcription factor activity inference"
   ]
  },
  {
   "cell_type": "code",
   "execution_count": null,
   "id": "e26711b1-e744-4c54-b17d-383d745c9e29",
   "metadata": {},
   "outputs": [],
   "source": [
    "# Retrieve CollecTRI gene regulatory network\n",
    "collectri = dc.get_collectri(organism='human', split_complexes=False)\n",
    "collectri"
   ]
  },
  {
   "cell_type": "code",
   "execution_count": null,
   "id": "cc84cf08-f6a9-4a2f-9f74-689e0321627b",
   "metadata": {},
   "outputs": [],
   "source": [
    "# Infer pathway activities with ulm\n",
    "tf_acts, tf_pvals = dc.run_ulm(mat=mat, net=collectri)\n",
    "tf_acts"
   ]
  },
  {
   "cell_type": "code",
   "execution_count": null,
   "id": "6206f5ef-39bb-4b15-9837-2fa5b4cc7a0d",
   "metadata": {},
   "outputs": [],
   "source": [
    "# check most active/inactive TFs\n",
    "\n",
    "for cell_type in pdata.obs['cell_type'].unique():\n",
    "\n",
    "    if cell_type in [\"CD4 T ISG+\", \"CD4 T Proliferative\", \"Cycling γδ T-like\"]:\n",
    "        continue\n",
    "    \n",
    "    dc.plot_barplot(\n",
    "        acts=tf_acts,\n",
    "        contrast=cell_type,\n",
    "        top=25,\n",
    "        vertical=True,\n",
    "        figsize=(3, 6)\n",
    "    )\n",
    "\n",
    "    plt.title(cell_type)\n",
    "    if cell_type == \"CD4 T CM/EarlyActivated\":\n",
    "        cell_type = \"CD4 T CM-EarlyActivated\"\n",
    "    plt.savefig(os.path.join(fig_dir,cell_type+\"_TF_Activity_plot.png\"), dpi=300, format=\"png\", bbox_inches=\"tight\")\n",
    "    plt.show()"
   ]
  },
  {
   "cell_type": "code",
   "execution_count": null,
   "id": "3a12d3f2-3a61-4f5a-8913-090aba98bca6",
   "metadata": {},
   "outputs": [],
   "source": [
    "# explore a specific TF target genes\n",
    "\n",
    "# Extract logFCs and pvals\n",
    "logFCs = results_df[['log2FoldChange']].T.rename(index={'log2FoldChange': 'CD4 T Follicular Helper'})\n",
    "pvals = results_df[['padj']].T.rename(index={'padj': 'CD4 T Follicular Helper'})\n",
    "\n",
    "# Plot\n",
    "dc.plot_volcano(\n",
    "    logFCs=logFCs,\n",
    "    pvals=pvals,\n",
    "    contrast='CD4 T Follicular Helper',\n",
    "    name='NFYB',\n",
    "    net=collectri,\n",
    "    top=10,\n",
    "    sign_thr=0.05,\n",
    "    lFCs_thr=0.5\n",
    ")"
   ]
  },
  {
   "cell_type": "code",
   "execution_count": null,
   "id": "0fde7deb-1388-44b7-be13-60df3f4344c0",
   "metadata": {},
   "outputs": [],
   "source": [
    "# plot network of TFs of interest\n",
    "'''\n",
    "dc.plot_network(\n",
    "    net=collectri,\n",
    "    obs=mat,\n",
    "    act=tf_acts,\n",
    "    n_sources=['CTNBB1', 'MYC', 'E2F4', 'TBX21'],\n",
    "    n_targets=15,\n",
    "    node_size=100,\n",
    "    figsize=(7, 7),\n",
    "    c_pos_w='darkgreen',\n",
    "    c_neg_w='darkred',\n",
    "    vcenter=True\n",
    ")\n",
    "'''"
   ]
  },
  {
   "cell_type": "code",
   "execution_count": null,
   "id": "5c9d3da3-fb95-41f3-b0d7-49a6d253bb6a",
   "metadata": {},
   "outputs": [],
   "source": [
    "print(mat.shape)\n",
    "print(tf_acts.shape)"
   ]
  },
  {
   "cell_type": "markdown",
   "id": "18c805bb-d338-4dac-96a3-d74b086e4ebc",
   "metadata": {},
   "source": [
    "## Pathway activity inference - PROGENy model"
   ]
  },
  {
   "cell_type": "code",
   "execution_count": null,
   "id": "d7f44c6e-7eab-4232-a90c-f6a159062674",
   "metadata": {},
   "outputs": [],
   "source": [
    "# Retrieve PROGENy model weights\n",
    "progeny = dc.get_progeny(top=500)\n",
    "progeny"
   ]
  },
  {
   "cell_type": "code",
   "execution_count": null,
   "id": "6cde4f23-c379-45ba-bfe6-1449a7787928",
   "metadata": {},
   "outputs": [],
   "source": [
    "# Infer pathway activities with mlm\n",
    "pathway_acts, pathway_pvals = dc.run_mlm(mat=mat, net=progeny)\n",
    "pathway_acts"
   ]
  },
  {
   "cell_type": "code",
   "execution_count": null,
   "id": "643ec1b9-99e2-4636-b9c3-b5b2f0c9fef6",
   "metadata": {},
   "outputs": [],
   "source": [
    "for cell_type in pdata.obs['cell_type'].unique():\n",
    "\n",
    "    if cell_type in [\"CD4 T ISG+\", \"CD4 T Proliferative\", \"Cycling γδ T-like\"]:\n",
    "        continue\n",
    "    \n",
    "    # plot obtained scores\n",
    "    dc.plot_barplot(\n",
    "        acts=pathway_acts,\n",
    "        contrast=cell_type,\n",
    "        top=25,\n",
    "        vertical=False,\n",
    "        figsize=(6, 3)\n",
    "    )\n",
    "\n",
    "    plt.title(cell_type)\n",
    "    if cell_type == \"CD4 T CM/EarlyActivated\":\n",
    "        cell_type = \"CD4 T CM-EarlyActivated\"\n",
    "    plt.savefig(os.path.join(fig_dir,cell_type+\"_Pathway_Activity_plot.png\"), dpi=300, format=\"png\", bbox_inches=\"tight\")\n",
    "    plt.show()"
   ]
  },
  {
   "cell_type": "code",
   "execution_count": null,
   "id": "3c6a7925-916c-47e4-bff5-8217f406b135",
   "metadata": {},
   "outputs": [],
   "source": [
    "# explore target genes of pathway of interest\n",
    "dc.plot_targets(\n",
    "    data=results_df,\n",
    "    stat='stat',\n",
    "    source_name='JAK-STAT',\n",
    "    net=progeny,\n",
    "    top=15\n",
    ")"
   ]
  },
  {
   "cell_type": "markdown",
   "id": "bc8f7457-2642-4fba-b9b1-0b9cf79c4952",
   "metadata": {},
   "source": [
    "## Functional enrichment of biological terms (GSEA) - MSigDB"
   ]
  },
  {
   "cell_type": "code",
   "execution_count": null,
   "id": "926cf55d-a770-4565-8dce-4c47608c5545",
   "metadata": {},
   "outputs": [],
   "source": [
    "# Retrieve MSigDB resource\n",
    "msigdb = dc.get_resource('MSigDB')\n",
    "msigdb"
   ]
  },
  {
   "cell_type": "code",
   "execution_count": null,
   "id": "d3804a7a-1f28-4f73-aaa4-003037c53dd3",
   "metadata": {},
   "outputs": [],
   "source": [
    "msigdb.geneset"
   ]
  },
  {
   "cell_type": "code",
   "execution_count": null,
   "id": "6eec2503-ecab-4ed5-82ce-661bbd3b9a36",
   "metadata": {},
   "outputs": [],
   "source": [
    "# Filter by hallmark (can use any other)\n",
    "msigdb = msigdb[msigdb['collection']=='hallmark']\n",
    "\n",
    "# Remove duplicated entries\n",
    "msigdb = msigdb[~msigdb.duplicated(['geneset', 'genesymbol'])]\n",
    "\n",
    "# Rename\n",
    "msigdb.loc[:, 'geneset'] = [name.split('HALLMARK_')[1] for name in msigdb['geneset']]\n",
    "\n",
    "msigdb"
   ]
  },
  {
   "cell_type": "code",
   "execution_count": null,
   "id": "44769f75-3554-4edb-a619-f38818646a71",
   "metadata": {},
   "outputs": [],
   "source": [
    "# Infer enrichment with ora using significant deg\n",
    "top_genes = results_df[results_df['padj'] < 0.05]\n",
    "\n",
    "# Run ora\n",
    "enr_pvals = dc.get_ora_df(\n",
    "    df=top_genes,\n",
    "    net=msigdb,\n",
    "    source='geneset',\n",
    "    target='genesymbol'\n",
    ")\n",
    "\n",
    "enr_pvals.head()"
   ]
  },
  {
   "cell_type": "code",
   "execution_count": null,
   "id": "4cbe912c-5204-4ecb-877c-1e8786bb49ba",
   "metadata": {},
   "outputs": [],
   "source": [
    "# visualize most enrichment terms\n",
    "dc.plot_dotplot(\n",
    "    enr_pvals.sort_values('Combined score', ascending=False).head(15),\n",
    "    x='Combined score',\n",
    "    y='Term',\n",
    "    s='Odds ratio',\n",
    "    c='FDR p-value',\n",
    "    scale=0.5,\n",
    "    figsize=(3, 9)\n",
    ")"
   ]
  },
  {
   "cell_type": "code",
   "execution_count": null,
   "id": "54009c0d-f1ef-4d97-b19b-6557dd9be947",
   "metadata": {},
   "outputs": [],
   "source": [
    "# plot running score\n",
    "dc.plot_running_score(\n",
    "    df=results_df,\n",
    "    stat='stat',\n",
    "    net=msigdb,\n",
    "    source='geneset',\n",
    "    target='genesymbol',\n",
    "    set_name='MYC_TARGETS_V2'\n",
    ")"
   ]
  }
 ],
 "metadata": {
  "kernelspec": {
   "display_name": "Python 3 (ipykernel)",
   "language": "python",
   "name": "python3"
  },
  "language_info": {
   "codemirror_mode": {
    "name": "ipython",
    "version": 3
   },
   "file_extension": ".py",
   "mimetype": "text/x-python",
   "name": "python",
   "nbconvert_exporter": "python",
   "pygments_lexer": "ipython3",
   "version": "3.9.18"
  }
 },
 "nbformat": 4,
 "nbformat_minor": 5
}
