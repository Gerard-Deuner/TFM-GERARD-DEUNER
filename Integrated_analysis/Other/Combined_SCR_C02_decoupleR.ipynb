{
 "cells": [
  {
   "cell_type": "markdown",
   "id": "2537786a-c5d6-4b2b-8c4c-7dffa11cf152",
   "metadata": {},
   "source": [
    "# Pseudo-bulk Functional Analysis - Timepoints PD Comparison"
   ]
  },
  {
   "cell_type": "markdown",
   "id": "520a7549-502e-4757-a269-97323a209050",
   "metadata": {},
   "source": [
    "https://decoupler-py.readthedocs.io/en/latest/notebooks/pseudobulk.html"
   ]
  },
  {
   "cell_type": "markdown",
   "id": "c39e15c2-6efe-437f-bb41-f6bfa7ad4e8d",
   "metadata": {},
   "source": [
    "## Environment SetUp"
   ]
  },
  {
   "cell_type": "code",
   "execution_count": null,
   "id": "21c4a499-24aa-4a8f-8647-b3daa910b509",
   "metadata": {},
   "outputs": [],
   "source": [
    "# load packages\n",
    "import scanpy as sc\n",
    "import decoupler as dc\n",
    "\n",
    "# Only needed for processing\n",
    "import numpy as np\n",
    "import pandas as pd\n",
    "\n",
    "# Needed for some plotting\n",
    "import matplotlib.pyplot as plt\n",
    "\n",
    "import os\n",
    "\n",
    "# Plotting options, change to your liking\n",
    "sc.settings.set_figure_params(dpi=300, frameon=False)\n",
    "sc.set_figure_params(dpi=300)\n",
    "sc.set_figure_params(figsize=(4, 4))"
   ]
  },
  {
   "cell_type": "code",
   "execution_count": null,
   "id": "8c485c3a-7b3a-4990-8a62-f63355f50a80",
   "metadata": {},
   "outputs": [],
   "source": [
    "# set working and fig dir\n",
    "work_dir = \"/scratch_isilon/groups/singlecell/gdeuner/SERPENTINE\"\n",
    "fig_dir = os.path.join(work_dir, \"figures\", \"combined\", \"decoupleR\", \"timepoints_comparison\")\n",
    "sc.settings.figdir = os.path.join(work_dir, \"figures\", \"combined\", \"decoupleR\", \"timepoints_comparison\")"
   ]
  },
  {
   "cell_type": "code",
   "execution_count": null,
   "id": "e8e78c0d-1e44-4f0d-83f2-29abad71a5d0",
   "metadata": {},
   "outputs": [],
   "source": [
    "# load data\n",
    "adata = sc.read_h5ad(os.path.join(work_dir, \"data\", \"outputdata\", \"combined\", \"Combined_SCR_CO2_TCR_full-integrated_annot_22-03-24.h5ad\"))"
   ]
  },
  {
   "cell_type": "code",
   "execution_count": null,
   "id": "c47d6ed5-3490-4d97-a298-e6d4ba782dfd",
   "metadata": {},
   "outputs": [],
   "source": [
    "# modify layers to suit decoupleR reqs\n",
    "adata.layers[\"counts\"] = adata.layers[\"rawcounts\"]\n",
    "adata.layers[\"normalized\"] = adata.layers[\"logcounts\"]"
   ]
  },
  {
   "cell_type": "code",
   "execution_count": null,
   "id": "fc459267-a563-4ff3-9c70-e3611a924ce5",
   "metadata": {},
   "outputs": [],
   "source": [
    "# modify metadata cell type name to ease analysis\n",
    "adata.obs[\"cell_type\"] = adata.obs[\"Annotation_1.0\"]"
   ]
  },
  {
   "cell_type": "code",
   "execution_count": null,
   "id": "e94c83a6-5ff1-47e0-981c-26da27ad8a5c",
   "metadata": {},
   "outputs": [],
   "source": [
    "# explore metdata\n",
    "adata.obs"
   ]
  },
  {
   "cell_type": "markdown",
   "id": "32402050-a5b0-4f50-a680-36422f6b8880",
   "metadata": {},
   "source": [
    "## Pseudobulk"
   ]
  },
  {
   "cell_type": "markdown",
   "id": "4a8ae62f-b2ba-42dc-95b8-b72ac1be218c",
   "metadata": {},
   "source": [
    "### Generation of pseudo-bulk profiles"
   ]
  },
  {
   "cell_type": "code",
   "execution_count": null,
   "id": "4039c9c4-21a4-472d-97f8-b28bdbfaf9c6",
   "metadata": {},
   "outputs": [],
   "source": [
    "pdata = dc.get_pseudobulk(\n",
    "    adata,\n",
    "    sample_col='sample',\n",
    "    groups_col='cell_type',\n",
    "    layer='counts',\n",
    "    mode='sum',\n",
    "    min_cells=10,\n",
    "    min_counts=1000\n",
    ")\n",
    "pdata"
   ]
  },
  {
   "cell_type": "markdown",
   "id": "28088a03-15db-4807-8a79-b4a602618601",
   "metadata": {},
   "source": [
    "### Exploration of pseudobulk profiles"
   ]
  },
  {
   "cell_type": "code",
   "execution_count": null,
   "id": "8b3ed3dd-8d3c-4af7-87d8-59db2aa0a296",
   "metadata": {},
   "outputs": [],
   "source": [
    "# explore variability of pseudobulks between patient and cell type\n",
    "\n",
    "# Store raw counts in layers\n",
    "pdata.layers['counts'] = pdata.X.copy()\n",
    "\n",
    "# Normalize, scale and compute pca\n",
    "sc.pp.normalize_total(pdata, target_sum=1e4)\n",
    "sc.pp.log1p(pdata)\n",
    "sc.pp.scale(pdata, max_value=10)\n",
    "sc.tl.pca(pdata)\n",
    "\n",
    "# Return raw counts to X\n",
    "dc.swap_layer(pdata, 'counts', X_layer_key=None, inplace=True)"
   ]
  },
  {
   "cell_type": "code",
   "execution_count": null,
   "id": "569259c4-485c-44ca-ab92-07b1ab271626",
   "metadata": {},
   "outputs": [],
   "source": [
    "sc.pl.pca(pdata, color=['timepoint', 'cell_type'], ncols=1, size=300)\n",
    "sc.pl.pca_variance_ratio(pdata)"
   ]
  },
  {
   "cell_type": "code",
   "execution_count": null,
   "id": "fda228bd-bbf7-4c7b-ba47-d30a0f24ae7e",
   "metadata": {},
   "outputs": [],
   "source": [
    "# perform ANOVA on each PC and see whether they are significantly associated with any technical or biological annotations of our samples\n",
    "dc.get_metadata_associations(\n",
    "    pdata,\n",
    "    obs_keys = ['patient', 'timepoint', 'response', 'cell_type', 'psbulk_n_cells', 'psbulk_counts'],  # Metadata columns to associate to PCs\n",
    "    obsm_key='X_pca',  # Where the PCs are stored\n",
    "    uns_key='pca_anova',  # Where the results are stored\n",
    "    inplace=True,\n",
    ")"
   ]
  },
  {
   "cell_type": "code",
   "execution_count": null,
   "id": "5cb8f068-ee4c-4a7c-9a0e-49f54217ee2d",
   "metadata": {},
   "outputs": [],
   "source": [
    "'''\n",
    "dc.plot_associations(\n",
    "    pdata,\n",
    "    uns_key='pca_anova',  # Summary statistics from the anova tests\n",
    "    obsm_key='X_pca',  # where the PCs are stored\n",
    "    stat_col='p_adj',  # Which summary statistic to plot\n",
    "    obs_annotation_cols = ['timepoint', 'cell_type'], # which sample annotations to plot\n",
    "    titles=['Principle component scores', 'Adjusted p-values from ANOVA'],\n",
    "    figsize=(7, 5),\n",
    "    n_factors=10,\n",
    "    cmap_cats=\"tab20\",\n",
    "    cmap_scores=\"PuOr\",\n",
    "    save=os.path.join(fig_dir,\"Association_plot.png\"),\n",
    "    return_fig=True, \n",
    "    dpi=600\n",
    ")\n",
    "'''"
   ]
  },
  {
   "cell_type": "markdown",
   "id": "9e358c70-f784-4b29-8d46-0688e7048d65",
   "metadata": {},
   "source": [
    "## Contrast between conditions (DGEA)"
   ]
  },
  {
   "cell_type": "code",
   "execution_count": null,
   "id": "56d159c2-3c5e-4426-a763-606d57e8c76f",
   "metadata": {},
   "outputs": [],
   "source": [
    "# Import DESeq2\n",
    "from pydeseq2.dds import DeseqDataSet, DefaultInference\n",
    "from pydeseq2.ds import DeseqStats"
   ]
  },
  {
   "cell_type": "code",
   "execution_count": null,
   "id": "5d3860d8-1853-494d-a899-83ddfa0cc80a",
   "metadata": {},
   "outputs": [],
   "source": [
    "it = 1\n",
    "for cell_type in pdata.obs['cell_type'].unique():\n",
    "\n",
    "    print('Running DEseq2 for ' + cell_type + '...')\n",
    "    \n",
    "    celltype_cells = pdata[pdata.obs['cell_type'] == cell_type].copy()\n",
    "\n",
    "    inference = DefaultInference(n_cpus=16)\n",
    "    dds = DeseqDataSet(\n",
    "        adata=celltype_cells,\n",
    "        design_factors='Condition',\n",
    "        ref_level=['Condition', 'T1/+ICI'],\n",
    "        refit_cooks=True,\n",
    "        inference=inference,\n",
    "    )\n",
    "    \n",
    "    # Compute LFCs\n",
    "    dds.deseq2()\n",
    "    \n",
    "\n",
    "    # Extract contrast between timepoints\n",
    "    stat_res = DeseqStats(\n",
    "        dds,\n",
    "        contrast=[\"Condition\", 'T1/+ICI', 'T0/-ICI'],\n",
    "        inference=inference,\n",
    "    )\n",
    "    \n",
    "    # Compute Wald test\n",
    "    print(stat_res.summary())\n",
    "    \n",
    "    # Extract results\n",
    "    results_df = stat_res.results_df\n",
    "    results_df\n",
    "\n",
    "\n",
    "    plot=dc.plot_volcano_df(\n",
    "        results_df,\n",
    "        x='log2FoldChange',\n",
    "        y='padj',\n",
    "        top=20,\n",
    "        figsize=(8, 4)\n",
    "    )\n",
    "    plt.title(cell_type)\n",
    "    plt.savefig(os.path.join(fig_dir,cell_type+\"_DGE_volcano_plot.png\"), dpi=300, format=\"png\", bbox_inches=\"tight\")\n",
    "    plt.show()\n",
    "    \n",
    "    if it == 1:\n",
    "        mat = results_df[['stat']].T.rename(index={'stat': 'celltype'})\n",
    "    else:\n",
    "        mat = mat._append(results_df[['stat']].T.rename(index={'stat': 'celltype'}))\n",
    "\n",
    "    it += 1\n",
    "    "
   ]
  },
  {
   "cell_type": "code",
   "execution_count": null,
   "id": "ca92ad67-20b5-4531-a0a0-7be7f367ef50",
   "metadata": {},
   "outputs": [],
   "source": [
    "mat.index = pdata.obs['cell_type'].unique()"
   ]
  },
  {
   "cell_type": "code",
   "execution_count": null,
   "id": "11ea2a6c-df78-44ca-a567-0a4c23a708c0",
   "metadata": {},
   "outputs": [],
   "source": [
    "# fill nans with 0s\n",
    "mat = mat.fillna(0)"
   ]
  },
  {
   "cell_type": "code",
   "execution_count": null,
   "id": "a02b9df3-da8d-424f-9135-9e1d3ec88ffc",
   "metadata": {},
   "outputs": [],
   "source": [
    "mat"
   ]
  },
  {
   "cell_type": "code",
   "execution_count": null,
   "id": "0557eefc-41f7-4316-a4a0-a7b1e7b3a846",
   "metadata": {},
   "outputs": [],
   "source": [
    "mat.to_csv(os.path.join(work_dir, \"data\", \"outputdata\", \"combined\", \"Combined_main_celltypes_decoupleR_mat.csv\"), index=True)"
   ]
  },
  {
   "cell_type": "markdown",
   "id": "9fd23c76-3f96-4d13-b7da-c275bfc1d8d0",
   "metadata": {},
   "source": [
    "## Transcription factor activity inference"
   ]
  },
  {
   "cell_type": "code",
   "execution_count": null,
   "id": "9a673f00-0bb3-4a34-a932-6767b5be2717",
   "metadata": {},
   "outputs": [],
   "source": [
    "# Retrieve CollecTRI gene regulatory network\n",
    "collectri = dc.get_collectri(organism='human', split_complexes=False)\n",
    "collectri"
   ]
  },
  {
   "cell_type": "code",
   "execution_count": null,
   "id": "8d827d60-99e1-4ebc-ae76-6277f028c8b5",
   "metadata": {},
   "outputs": [],
   "source": [
    "# Infer pathway activities with ulm\n",
    "tf_acts, tf_pvals = dc.run_ulm(mat=mat, net=collectri)\n",
    "tf_acts"
   ]
  },
  {
   "cell_type": "code",
   "execution_count": null,
   "id": "8ffd86f9-ff55-4928-8975-32812171c338",
   "metadata": {},
   "outputs": [],
   "source": [
    "# check most active/inactive TFs\n",
    "\n",
    "for cell_type in pdata.obs['cell_type'].unique():\n",
    "\n",
    "    dc.plot_barplot(\n",
    "        acts=tf_acts,\n",
    "        contrast=cell_type,\n",
    "        top=25,\n",
    "        vertical=True,\n",
    "        figsize=(3, 6)\n",
    "    )\n",
    "\n",
    "    plt.title(cell_type)\n",
    "    plt.savefig(os.path.join(fig_dir,cell_type+\"_TF_Activity_plot.png\"), dpi=300, format=\"png\", bbox_inches=\"tight\")\n",
    "    plt.show()"
   ]
  },
  {
   "cell_type": "code",
   "execution_count": null,
   "id": "acef0a5a-2706-482c-8880-a062fff25341",
   "metadata": {},
   "outputs": [],
   "source": [
    "# explore a specific TF target genes\n",
    "\n",
    "# Extract logFCs and pvals\n",
    "logFCs = results_df[['log2FoldChange']].T.rename(index={'log2FoldChange': 'CD4 T'})\n",
    "pvals = results_df[['padj']].T.rename(index={'padj': 'CD4 T'})\n",
    "\n",
    "# Plot\n",
    "dc.plot_volcano(\n",
    "    logFCs=logFCs,\n",
    "    pvals=pvals,\n",
    "    contrast='CD4 T',\n",
    "    name='MYC',\n",
    "    net=collectri,\n",
    "    top=10,\n",
    "    sign_thr=0.05,\n",
    "    lFCs_thr=0.5\n",
    ")"
   ]
  },
  {
   "cell_type": "code",
   "execution_count": null,
   "id": "ab97f25e-48cd-4f9d-9f52-b52c0ad09100",
   "metadata": {},
   "outputs": [],
   "source": [
    "# plot network of TFs of interest\n",
    "dc.plot_network(\n",
    "    net=collectri,\n",
    "    obs=mat,\n",
    "    act=tf_acts,\n",
    "    n_sources=['CTNBB1', 'MYC', 'E2F4', 'TBX21'],\n",
    "    n_targets=15,\n",
    "    node_size=100,\n",
    "    figsize=(7, 7),\n",
    "    c_pos_w='darkgreen',\n",
    "    c_neg_w='darkred',\n",
    "    vcenter=True\n",
    ")"
   ]
  },
  {
   "cell_type": "code",
   "execution_count": null,
   "id": "6ef780d8-bd55-4227-9088-18087bcdbed0",
   "metadata": {},
   "outputs": [],
   "source": [
    "print(mat.shape)\n",
    "print(tf_acts.shape)"
   ]
  },
  {
   "cell_type": "markdown",
   "id": "14ed8508-7881-4047-90b7-c129ba72fce8",
   "metadata": {},
   "source": [
    "## Pathway activity inference - PROGENy model"
   ]
  },
  {
   "cell_type": "code",
   "execution_count": null,
   "id": "47d519bb-d71a-453b-8910-442ea7f146b8",
   "metadata": {},
   "outputs": [],
   "source": [
    "# Retrieve PROGENy model weights\n",
    "progeny = dc.get_progeny(top=500)\n",
    "progeny"
   ]
  },
  {
   "cell_type": "code",
   "execution_count": null,
   "id": "3decde6f-53e7-47cb-8be6-5eda695211bd",
   "metadata": {},
   "outputs": [],
   "source": [
    "# Infer pathway activities with mlm\n",
    "pathway_acts, pathway_pvals = dc.run_mlm(mat=mat, net=progeny)\n",
    "pathway_acts"
   ]
  },
  {
   "cell_type": "code",
   "execution_count": null,
   "id": "81ddc70f-3b6f-408f-b317-3841d2eabb71",
   "metadata": {},
   "outputs": [],
   "source": [
    "for cell_type in pdata.obs['cell_type'].unique():\n",
    "\n",
    "    # plot obtained scores\n",
    "    dc.plot_barplot(\n",
    "        acts=pathway_acts,\n",
    "        contrast=cell_type,\n",
    "        top=25,\n",
    "        vertical=False,\n",
    "        figsize=(6, 3)\n",
    "    )\n",
    "\n",
    "    plt.title(cell_type)\n",
    "    plt.savefig(os.path.join(fig_dir,cell_type+\"_Pathway_Activity_plot.png\"), dpi=300, format=\"png\", bbox_inches=\"tight\")\n",
    "    plt.show()"
   ]
  },
  {
   "cell_type": "code",
   "execution_count": null,
   "id": "e99d6f7c-34e6-4f2f-8637-79539da28188",
   "metadata": {},
   "outputs": [],
   "source": [
    "# explore target genes of pathway of interest\n",
    "dc.plot_targets(\n",
    "    data=results_df,\n",
    "    stat='stat',\n",
    "    source_name='JAK-STAT',\n",
    "    net=progeny,\n",
    "    top=15\n",
    ")"
   ]
  },
  {
   "cell_type": "markdown",
   "id": "78b01ea9-5582-47bd-80c1-4ee01cd19ae2",
   "metadata": {},
   "source": [
    "## Functional enrichment of biological terms (GSEA) - MSigDB"
   ]
  },
  {
   "cell_type": "code",
   "execution_count": null,
   "id": "868aba99-8d18-4c7f-8f1f-d842922e8200",
   "metadata": {},
   "outputs": [],
   "source": [
    "# Retrieve MSigDB resource\n",
    "msigdb = dc.get_resource('MSigDB')\n",
    "msigdb"
   ]
  },
  {
   "cell_type": "code",
   "execution_count": null,
   "id": "cbc9512e-1ced-4289-afe6-ea99764af284",
   "metadata": {},
   "outputs": [],
   "source": [
    "msigdb.geneset"
   ]
  },
  {
   "cell_type": "code",
   "execution_count": null,
   "id": "eb6cca71-c32d-45dc-9965-0e005a44ce30",
   "metadata": {},
   "outputs": [],
   "source": [
    "# Filter by hallmark (can use any other)\n",
    "msigdb = msigdb[msigdb['collection']=='hallmark']\n",
    "\n",
    "# Remove duplicated entries\n",
    "msigdb = msigdb[~msigdb.duplicated(['geneset', 'genesymbol'])]\n",
    "\n",
    "# Rename\n",
    "msigdb.loc[:, 'geneset'] = [name.split('HALLMARK_')[1] for name in msigdb['geneset']]\n",
    "\n",
    "msigdb"
   ]
  },
  {
   "cell_type": "code",
   "execution_count": null,
   "id": "9b90aa6d-af69-4827-ae0a-c9c779a22d5e",
   "metadata": {},
   "outputs": [],
   "source": [
    "# Infer enrichment with ora using significant deg\n",
    "top_genes = results_df[results_df['padj'] < 0.05]\n",
    "\n",
    "# Run ora\n",
    "enr_pvals = dc.get_ora_df(\n",
    "    df=top_genes,\n",
    "    net=msigdb,\n",
    "    source='geneset',\n",
    "    target='genesymbol'\n",
    ")\n",
    "\n",
    "enr_pvals.head()"
   ]
  },
  {
   "cell_type": "code",
   "execution_count": null,
   "id": "dfbd6f19-3ccb-4d83-a910-246aa0c157cf",
   "metadata": {},
   "outputs": [],
   "source": [
    "# visualize most enrichment terms\n",
    "dc.plot_dotplot(\n",
    "    enr_pvals.sort_values('Combined score', ascending=False).head(15),\n",
    "    x='Combined score',\n",
    "    y='Term',\n",
    "    s='Odds ratio',\n",
    "    c='FDR p-value',\n",
    "    scale=0.5,\n",
    "    figsize=(3, 9)\n",
    ")"
   ]
  },
  {
   "cell_type": "code",
   "execution_count": null,
   "id": "930b3284-bfab-4aef-8120-aa8b23f046b6",
   "metadata": {
    "scrolled": true
   },
   "outputs": [],
   "source": [
    "# plot running score\n",
    "dc.plot_running_score(\n",
    "    df=results_df,\n",
    "    stat='stat',\n",
    "    net=msigdb,\n",
    "    source='geneset',\n",
    "    target='genesymbol',\n",
    "    set_name='MYC_TARGETS_V2'\n",
    ")"
   ]
  },
  {
   "cell_type": "markdown",
   "id": "ab0dfe5b-2725-4c7d-9a01-32d8b0ba30e6",
   "metadata": {},
   "source": [
    "# Pseudo-bulk Functional Analysis - Timepoints PD Comparison"
   ]
  },
  {
   "cell_type": "markdown",
   "id": "1ba1be36-8541-491c-99e1-46043a1f5f47",
   "metadata": {},
   "source": [
    "https://decoupler-py.readthedocs.io/en/latest/notebooks/pseudobulk.html"
   ]
  },
  {
   "cell_type": "markdown",
   "id": "b7d7f0aa-c122-4e63-82bd-63b2319b191f",
   "metadata": {},
   "source": [
    "## Environment SetUp"
   ]
  },
  {
   "cell_type": "code",
   "execution_count": null,
   "id": "7b761bc9-2d0c-4cec-9f96-80a9bc0328d8",
   "metadata": {},
   "outputs": [],
   "source": [
    "# load packages\n",
    "import scanpy as sc\n",
    "import decoupler as dc\n",
    "\n",
    "# Only needed for processing\n",
    "import numpy as np\n",
    "import pandas as pd\n",
    "\n",
    "# Needed for some plotting\n",
    "import matplotlib.pyplot as plt\n",
    "\n",
    "import os\n",
    "\n",
    "# Plotting options, change to your liking\n",
    "sc.settings.set_figure_params(dpi=300, frameon=False)\n",
    "sc.set_figure_params(dpi=300)\n",
    "sc.set_figure_params(figsize=(4, 4))"
   ]
  },
  {
   "cell_type": "code",
   "execution_count": null,
   "id": "e11d19dc-4c34-40f6-8b28-4ba4c8c9a7c6",
   "metadata": {},
   "outputs": [],
   "source": [
    "# set working and fig dir\n",
    "work_dir = \"/scratch_isilon/groups/singlecell/gdeuner/SERPENTINE\"\n",
    "fig_dir = os.path.join(work_dir, \"figures\", \"combined\", \"decoupleR\", \"timepoints_PD_comparison\")\n",
    "sc.settings.figdir = os.path.join(work_dir, \"figures\", \"combined\", \"decoupleR\", \"timepoints_PD_comparison\")"
   ]
  },
  {
   "cell_type": "code",
   "execution_count": null,
   "id": "b1564044-7655-481f-9050-defee515eb7c",
   "metadata": {},
   "outputs": [],
   "source": [
    "# load data\n",
    "adata = sc.read_h5ad(os.path.join(work_dir, \"data\", \"outputdata\", \"combined\", \"Combined_SCR_CO2_TCR_full-integrated_annot_22-03-24.h5ad\"))"
   ]
  },
  {
   "cell_type": "code",
   "execution_count": null,
   "id": "eca66cd8-e64c-4c28-ad50-698aa2701140",
   "metadata": {},
   "outputs": [],
   "source": [
    "# modify layers to suit decoupleR reqs\n",
    "adata.layers[\"counts\"] = adata.layers[\"rawcounts\"]\n",
    "adata.layers[\"normalized\"] = adata.layers[\"logcounts\"]"
   ]
  },
  {
   "cell_type": "code",
   "execution_count": null,
   "id": "fa6a09e9-daf0-4a4e-bdaa-3db7cbf06705",
   "metadata": {},
   "outputs": [],
   "source": [
    "# modify metadata cell type name to ease analysis\n",
    "adata.obs[\"cell_type\"] = adata.obs[\"Annotation_1.0\"]"
   ]
  },
  {
   "cell_type": "code",
   "execution_count": null,
   "id": "d4e6bff1-2d1e-46ea-ad96-f896c9605ca7",
   "metadata": {},
   "outputs": [],
   "source": [
    "# subset non responders\n",
    "adata = adata[adata.obs[\"response\"] == \"PD\"].copy()\n",
    "adata"
   ]
  },
  {
   "cell_type": "code",
   "execution_count": null,
   "id": "d8155896-0c4b-4a85-bd28-c478fb706442",
   "metadata": {},
   "outputs": [],
   "source": [
    "# explore metdata\n",
    "adata.obs"
   ]
  },
  {
   "cell_type": "markdown",
   "id": "d7502af5-00c2-4cce-8a31-c654ccf90b96",
   "metadata": {},
   "source": [
    "## Pseudobulk"
   ]
  },
  {
   "cell_type": "markdown",
   "id": "88baca2e-9eb0-4b02-a530-c6641ceb084a",
   "metadata": {},
   "source": [
    "### Generation of pseudo-bulk profiles"
   ]
  },
  {
   "cell_type": "code",
   "execution_count": null,
   "id": "b466ad2b-826b-43c0-9f19-fc9453f4d485",
   "metadata": {},
   "outputs": [],
   "source": [
    "pdata = dc.get_pseudobulk(\n",
    "    adata,\n",
    "    sample_col='sample',\n",
    "    groups_col='cell_type',\n",
    "    layer='counts',\n",
    "    mode='sum',\n",
    "    min_cells=10,\n",
    "    min_counts=1000\n",
    ")\n",
    "pdata"
   ]
  },
  {
   "cell_type": "markdown",
   "id": "4c0c7178-4b08-41af-895d-d8192609a234",
   "metadata": {},
   "source": [
    "### Exploration of pseudobulk profiles"
   ]
  },
  {
   "cell_type": "code",
   "execution_count": null,
   "id": "04887369-3247-489b-bfd6-623c13671017",
   "metadata": {},
   "outputs": [],
   "source": [
    "# explore variability of pseudobulks between patient and cell type\n",
    "\n",
    "# Store raw counts in layers\n",
    "pdata.layers['counts'] = pdata.X.copy()\n",
    "\n",
    "# Normalize, scale and compute pca\n",
    "sc.pp.normalize_total(pdata, target_sum=1e4)\n",
    "sc.pp.log1p(pdata)\n",
    "sc.pp.scale(pdata, max_value=10)\n",
    "sc.tl.pca(pdata)\n",
    "\n",
    "# Return raw counts to X\n",
    "dc.swap_layer(pdata, 'counts', X_layer_key=None, inplace=True)"
   ]
  },
  {
   "cell_type": "code",
   "execution_count": null,
   "id": "9e49571e-4fb5-4bf8-9339-b763f85711b9",
   "metadata": {},
   "outputs": [],
   "source": [
    "sc.pl.pca(pdata, color=['timepoint', 'cell_type'], ncols=1, size=300)\n",
    "sc.pl.pca_variance_ratio(pdata)"
   ]
  },
  {
   "cell_type": "code",
   "execution_count": null,
   "id": "d4ff23f4-c0ea-4e67-8a25-1a4004d2c855",
   "metadata": {},
   "outputs": [],
   "source": [
    "# perform ANOVA on each PC and see whether they are significantly associated with any technical or biological annotations of our samples\n",
    "dc.get_metadata_associations(\n",
    "    pdata,\n",
    "    obs_keys = ['patient', 'timepoint', 'response', 'cell_type', 'psbulk_n_cells', 'psbulk_counts'],  # Metadata columns to associate to PCs\n",
    "    obsm_key='X_pca',  # Where the PCs are stored\n",
    "    uns_key='pca_anova',  # Where the results are stored\n",
    "    inplace=True,\n",
    ")"
   ]
  },
  {
   "cell_type": "code",
   "execution_count": null,
   "id": "c4cfd42b-df66-4ab8-bf0a-754c54ef0edf",
   "metadata": {},
   "outputs": [],
   "source": [
    "'''\n",
    "dc.plot_associations(\n",
    "    pdata,\n",
    "    uns_key='pca_anova',  # Summary statistics from the anova tests\n",
    "    obsm_key='X_pca',  # where the PCs are stored\n",
    "    stat_col='p_adj',  # Which summary statistic to plot\n",
    "    obs_annotation_cols = ['timepoint', 'cell_type'], # which sample annotations to plot\n",
    "    titles=['Principle component scores', 'Adjusted p-values from ANOVA'],\n",
    "    figsize=(7, 5),\n",
    "    n_factors=10,\n",
    "    cmap_cats=\"tab20\",\n",
    "    cmap_scores=\"PuOr\",\n",
    "    save=os.path.join(fig_dir,\"Association_plot.png\"),\n",
    "    return_fig=True, \n",
    "    dpi=600\n",
    ")\n",
    "'''"
   ]
  },
  {
   "cell_type": "markdown",
   "id": "c3e0dfae-21df-40e9-93c2-b78b9c43594f",
   "metadata": {},
   "source": [
    "## Contrast between conditions (DGEA)"
   ]
  },
  {
   "cell_type": "code",
   "execution_count": null,
   "id": "d0b03671-8631-4390-afc4-be16e5667e81",
   "metadata": {},
   "outputs": [],
   "source": [
    "# Import DESeq2\n",
    "from pydeseq2.dds import DeseqDataSet, DefaultInference\n",
    "from pydeseq2.ds import DeseqStats"
   ]
  },
  {
   "cell_type": "code",
   "execution_count": null,
   "id": "376c17d7-4394-4d07-9878-396d29dbc71d",
   "metadata": {},
   "outputs": [],
   "source": [
    "it = 1\n",
    "for cell_type in pdata.obs['cell_type'].unique():\n",
    "\n",
    "    print('Running DEseq2 for ' + cell_type + '...')\n",
    "    \n",
    "    celltype_cells = pdata[pdata.obs['cell_type'] == cell_type].copy()\n",
    "\n",
    "    inference = DefaultInference(n_cpus=16)\n",
    "    dds = DeseqDataSet(\n",
    "        adata=celltype_cells,\n",
    "        design_factors='Condition',\n",
    "        ref_level=['Condition', 'T1/+ICI'],\n",
    "        refit_cooks=True,\n",
    "        inference=inference,\n",
    "    )\n",
    "    \n",
    "    # Compute LFCs\n",
    "    dds.deseq2()\n",
    "    \n",
    "\n",
    "    # Extract contrast between timepoints\n",
    "    stat_res = DeseqStats(\n",
    "        dds,\n",
    "        contrast=[\"Condition\", 'T1/+ICI', 'T0/-ICI'],\n",
    "        inference=inference,\n",
    "    )\n",
    "    \n",
    "    # Compute Wald test\n",
    "    print(stat_res.summary())\n",
    "    \n",
    "    # Extract results\n",
    "    results_df = stat_res.results_df\n",
    "    results_df\n",
    "\n",
    "\n",
    "    plot=dc.plot_volcano_df(\n",
    "        results_df,\n",
    "        x='log2FoldChange',\n",
    "        y='padj',\n",
    "        top=20,\n",
    "        figsize=(8, 4)\n",
    "    )\n",
    "    plt.title(cell_type)\n",
    "    plt.savefig(os.path.join(fig_dir,cell_type+\"_DGE_volcano_plot.png\"), dpi=300, format=\"png\", bbox_inches=\"tight\")\n",
    "    plt.show()\n",
    "    \n",
    "    if it == 1:\n",
    "        mat = results_df[['stat']].T.rename(index={'stat': 'celltype'})\n",
    "    else:\n",
    "        mat = mat._append(results_df[['stat']].T.rename(index={'stat': 'celltype'}))\n",
    "\n",
    "    it += 1\n",
    "    "
   ]
  },
  {
   "cell_type": "code",
   "execution_count": null,
   "id": "a1170f1e-a613-40dd-8e54-21e921b9aeb4",
   "metadata": {},
   "outputs": [],
   "source": [
    "mat.index = pdata.obs['cell_type'].unique()"
   ]
  },
  {
   "cell_type": "code",
   "execution_count": null,
   "id": "87a8a10e-f492-42f8-b19d-54872d7156c1",
   "metadata": {},
   "outputs": [],
   "source": [
    "# fill nans with 0s\n",
    "mat = mat.fillna(0)"
   ]
  },
  {
   "cell_type": "code",
   "execution_count": null,
   "id": "85fb707b-8277-4ad9-8dbf-9b5e8d36cdd4",
   "metadata": {},
   "outputs": [],
   "source": [
    "mat"
   ]
  },
  {
   "cell_type": "code",
   "execution_count": null,
   "id": "6012fdd9-7803-4f59-a5f2-e6a884e8bc22",
   "metadata": {},
   "outputs": [],
   "source": [
    "mat.to_csv(os.path.join(work_dir, \"data\", \"outputdata\", \"combined\", \"Combined_main_celltypes_decoupleR_mat.csv\"), index=True)"
   ]
  },
  {
   "cell_type": "markdown",
   "id": "2be87c5a-62c9-43c0-add9-284e6c9ab0ab",
   "metadata": {},
   "source": [
    "## Transcription factor activity inference"
   ]
  },
  {
   "cell_type": "code",
   "execution_count": null,
   "id": "6ba3d48d-a1aa-4720-bef3-e0d5e808af64",
   "metadata": {},
   "outputs": [],
   "source": [
    "# Retrieve CollecTRI gene regulatory network\n",
    "collectri = dc.get_collectri(organism='human', split_complexes=False)\n",
    "collectri"
   ]
  },
  {
   "cell_type": "code",
   "execution_count": null,
   "id": "ef9f985a-e760-4dc9-8041-8468da44e209",
   "metadata": {},
   "outputs": [],
   "source": [
    "# Infer pathway activities with ulm\n",
    "tf_acts, tf_pvals = dc.run_ulm(mat=mat, net=collectri)\n",
    "tf_acts"
   ]
  },
  {
   "cell_type": "code",
   "execution_count": null,
   "id": "9c71c8d8-c7ac-4794-94da-6c37609f3af4",
   "metadata": {},
   "outputs": [],
   "source": [
    "# check most active/inactive TFs\n",
    "\n",
    "for cell_type in pdata.obs['cell_type'].unique():\n",
    "\n",
    "    dc.plot_barplot(\n",
    "        acts=tf_acts,\n",
    "        contrast=cell_type,\n",
    "        top=25,\n",
    "        vertical=True,\n",
    "        figsize=(3, 6)\n",
    "    )\n",
    "\n",
    "    plt.title(cell_type)\n",
    "    plt.savefig(os.path.join(fig_dir,cell_type+\"_TF_Activity_plot.png\"), dpi=300, format=\"png\", bbox_inches=\"tight\")\n",
    "    plt.show()"
   ]
  },
  {
   "cell_type": "code",
   "execution_count": null,
   "id": "4586e3b9-c993-4d34-886c-16fe646d2fc8",
   "metadata": {},
   "outputs": [],
   "source": [
    "# explore a specific TF target genes\n",
    "\n",
    "# Extract logFCs and pvals\n",
    "logFCs = results_df[['log2FoldChange']].T.rename(index={'log2FoldChange': 'CD4 T'})\n",
    "pvals = results_df[['padj']].T.rename(index={'padj': 'CD4 T'})\n",
    "\n",
    "# Plot\n",
    "dc.plot_volcano(\n",
    "    logFCs=logFCs,\n",
    "    pvals=pvals,\n",
    "    contrast='CD4 T',\n",
    "    name='MYC',\n",
    "    net=collectri,\n",
    "    top=10,\n",
    "    sign_thr=0.05,\n",
    "    lFCs_thr=0.5\n",
    ")"
   ]
  },
  {
   "cell_type": "code",
   "execution_count": null,
   "id": "f82688fa-6d8d-419b-9a21-b4bbcfcbf707",
   "metadata": {},
   "outputs": [],
   "source": [
    "# plot network of TFs of interest\n",
    "dc.plot_network(\n",
    "    net=collectri,\n",
    "    obs=mat,\n",
    "    act=tf_acts,\n",
    "    n_sources=['CTNBB1', 'MYC', 'E2F4', 'TBX21'],\n",
    "    n_targets=15,\n",
    "    node_size=100,\n",
    "    figsize=(7, 7),\n",
    "    c_pos_w='darkgreen',\n",
    "    c_neg_w='darkred',\n",
    "    vcenter=True\n",
    ")"
   ]
  },
  {
   "cell_type": "code",
   "execution_count": null,
   "id": "7ee461f9-8f6d-43d5-8c8f-41c89f14ba74",
   "metadata": {},
   "outputs": [],
   "source": [
    "print(mat.shape)\n",
    "print(tf_acts.shape)"
   ]
  },
  {
   "cell_type": "markdown",
   "id": "bc8b84a2-3283-4936-8b52-070727db1bbd",
   "metadata": {},
   "source": [
    "## Pathway activity inference - PROGENy model"
   ]
  },
  {
   "cell_type": "code",
   "execution_count": null,
   "id": "1247886b-5abc-4fb4-84ff-340a60ff1f9d",
   "metadata": {},
   "outputs": [],
   "source": [
    "# Retrieve PROGENy model weights\n",
    "progeny = dc.get_progeny(top=500)\n",
    "progeny"
   ]
  },
  {
   "cell_type": "code",
   "execution_count": null,
   "id": "cb168496-3c73-4e65-bc26-94cd3571a111",
   "metadata": {},
   "outputs": [],
   "source": [
    "# Infer pathway activities with mlm\n",
    "pathway_acts, pathway_pvals = dc.run_mlm(mat=mat, net=progeny)\n",
    "pathway_acts"
   ]
  },
  {
   "cell_type": "code",
   "execution_count": null,
   "id": "f18f5918-5abc-473e-8e16-bb80fc3e3bb1",
   "metadata": {},
   "outputs": [],
   "source": [
    "for cell_type in pdata.obs['cell_type'].unique():\n",
    "\n",
    "    # plot obtained scores\n",
    "    dc.plot_barplot(\n",
    "        acts=pathway_acts,\n",
    "        contrast=cell_type,\n",
    "        top=25,\n",
    "        vertical=False,\n",
    "        figsize=(6, 3)\n",
    "    )\n",
    "\n",
    "    plt.title(cell_type)\n",
    "    plt.savefig(os.path.join(fig_dir,cell_type+\"_Pathway_Activity_plot.png\"), dpi=300, format=\"png\", bbox_inches=\"tight\")\n",
    "    plt.show()"
   ]
  },
  {
   "cell_type": "code",
   "execution_count": null,
   "id": "3fcdbc1d-4a88-479b-af03-04e56b045c79",
   "metadata": {},
   "outputs": [],
   "source": [
    "# explore target genes of pathway of interest\n",
    "dc.plot_targets(\n",
    "    data=results_df,\n",
    "    stat='stat',\n",
    "    source_name='JAK-STAT',\n",
    "    net=progeny,\n",
    "    top=15\n",
    ")"
   ]
  },
  {
   "cell_type": "markdown",
   "id": "8d80c65c-60aa-488c-9b09-01f2f68fc338",
   "metadata": {},
   "source": [
    "## Functional enrichment of biological terms (GSEA) - MSigDB"
   ]
  },
  {
   "cell_type": "code",
   "execution_count": null,
   "id": "d7185b78-dffb-4279-96c5-afd07be4f98b",
   "metadata": {},
   "outputs": [],
   "source": [
    "# Retrieve MSigDB resource\n",
    "msigdb = dc.get_resource('MSigDB')\n",
    "msigdb"
   ]
  },
  {
   "cell_type": "code",
   "execution_count": null,
   "id": "651ce50d-066e-41f5-a28f-1b8215c9e1d1",
   "metadata": {},
   "outputs": [],
   "source": [
    "msigdb.geneset"
   ]
  },
  {
   "cell_type": "code",
   "execution_count": null,
   "id": "9041b1b1-cd71-447b-8350-5129e4ab268e",
   "metadata": {},
   "outputs": [],
   "source": [
    "# Filter by hallmark (can use any other)\n",
    "msigdb = msigdb[msigdb['collection']=='hallmark']\n",
    "\n",
    "# Remove duplicated entries\n",
    "msigdb = msigdb[~msigdb.duplicated(['geneset', 'genesymbol'])]\n",
    "\n",
    "# Rename\n",
    "msigdb.loc[:, 'geneset'] = [name.split('HALLMARK_')[1] for name in msigdb['geneset']]\n",
    "\n",
    "msigdb"
   ]
  },
  {
   "cell_type": "code",
   "execution_count": null,
   "id": "b03151da-b57f-42c0-b73a-292430b64eda",
   "metadata": {},
   "outputs": [],
   "source": [
    "# Infer enrichment with ora using significant deg\n",
    "top_genes = results_df[results_df['padj'] < 0.05]\n",
    "\n",
    "# Run ora\n",
    "enr_pvals = dc.get_ora_df(\n",
    "    df=top_genes,\n",
    "    net=msigdb,\n",
    "    source='geneset',\n",
    "    target='genesymbol'\n",
    ")\n",
    "\n",
    "enr_pvals.head()"
   ]
  },
  {
   "cell_type": "code",
   "execution_count": null,
   "id": "c888835c-0937-44c4-9cb2-d3aa0ae40d8d",
   "metadata": {},
   "outputs": [],
   "source": [
    "# visualize most enrichment terms\n",
    "dc.plot_dotplot(\n",
    "    enr_pvals.sort_values('Combined score', ascending=False).head(15),\n",
    "    x='Combined score',\n",
    "    y='Term',\n",
    "    s='Odds ratio',\n",
    "    c='FDR p-value',\n",
    "    scale=0.5,\n",
    "    figsize=(3, 9)\n",
    ")"
   ]
  },
  {
   "cell_type": "code",
   "execution_count": null,
   "id": "6c4c59fc-b550-4fb4-833b-c2993685737f",
   "metadata": {
    "scrolled": true
   },
   "outputs": [],
   "source": [
    "# plot running score\n",
    "dc.plot_running_score(\n",
    "    df=results_df,\n",
    "    stat='stat',\n",
    "    net=msigdb,\n",
    "    source='geneset',\n",
    "    target='genesymbol',\n",
    "    set_name='MYC_TARGETS_V2'\n",
    ")"
   ]
  },
  {
   "cell_type": "markdown",
   "id": "98fca148-237d-412f-a792-cb501c8017c0",
   "metadata": {},
   "source": [
    "# Pseudo-bulk Functional Analysis - Response Comparison"
   ]
  },
  {
   "cell_type": "markdown",
   "id": "7b22fe6c-ec9e-4369-9c89-630caf49ac45",
   "metadata": {},
   "source": [
    "https://decoupler-py.readthedocs.io/en/latest/notebooks/pseudobulk.html"
   ]
  },
  {
   "cell_type": "markdown",
   "id": "ee8f1c5f-02a3-48e1-805c-11ac13863be7",
   "metadata": {},
   "source": [
    "## Environment SetUp"
   ]
  },
  {
   "cell_type": "code",
   "execution_count": null,
   "id": "42dd9f1a-bcc6-45d6-92c3-d28f12859f3a",
   "metadata": {},
   "outputs": [],
   "source": [
    "# load packages\n",
    "import scanpy as sc\n",
    "import decoupler as dc\n",
    "\n",
    "# Only needed for processing\n",
    "import numpy as np\n",
    "import pandas as pd\n",
    "\n",
    "# Needed for some plotting\n",
    "import matplotlib.pyplot as plt\n",
    "\n",
    "import os\n",
    "\n",
    "# Plotting options, change to your liking\n",
    "sc.settings.set_figure_params(dpi=300, frameon=False)\n",
    "sc.set_figure_params(dpi=300)\n",
    "sc.set_figure_params(figsize=(4, 4))"
   ]
  },
  {
   "cell_type": "code",
   "execution_count": null,
   "id": "e92f79e1-56ce-42bf-bb3c-4565c66498b9",
   "metadata": {},
   "outputs": [],
   "source": [
    "# set working and fig dir\n",
    "work_dir = \"/scratch_isilon/groups/singlecell/gdeuner/SERPENTINE\"\n",
    "fig_dir = os.path.join(work_dir, \"figures\", \"combined\", \"decoupleR\", \"response_comparison\")\n",
    "sc.settings.figdir = os.path.join(work_dir, \"figures\", \"combined\", \"decoupleR\", \"response_comparison\")"
   ]
  },
  {
   "cell_type": "code",
   "execution_count": null,
   "id": "954f3a90-034f-4625-bfdc-b32d29c52d71",
   "metadata": {},
   "outputs": [],
   "source": [
    "# load data\n",
    "adata = sc.read_h5ad(os.path.join(work_dir, \"data\", \"outputdata\", \"combined\", \"Combined_SCR_CO2_TCR_full-integrated_annot_22-03-24.h5ad\"))"
   ]
  },
  {
   "cell_type": "code",
   "execution_count": null,
   "id": "3656ce97-9176-404b-9da4-f09988ff7526",
   "metadata": {},
   "outputs": [],
   "source": [
    "# modify layers to suit decoupleR reqs\n",
    "adata.layers[\"counts\"] = adata.layers[\"rawcounts\"]\n",
    "adata.layers[\"normalized\"] = adata.layers[\"logcounts\"]"
   ]
  },
  {
   "cell_type": "code",
   "execution_count": null,
   "id": "322276e4-58e5-4b36-a6d3-eaa4d6fffe2e",
   "metadata": {},
   "outputs": [],
   "source": [
    "# modify metadata cell type name to ease analysis\n",
    "adata.obs[\"cell_type\"] = adata.obs[\"Annotation_1.0\"]"
   ]
  },
  {
   "cell_type": "code",
   "execution_count": null,
   "id": "1bf6f386-4c95-4c61-882b-087d2936e4c7",
   "metadata": {},
   "outputs": [],
   "source": [
    "# explore metdata\n",
    "adata.obs"
   ]
  },
  {
   "cell_type": "markdown",
   "id": "25794e49-e0a6-4da2-a2a7-8738a170f476",
   "metadata": {},
   "source": [
    "## Pseudobulk"
   ]
  },
  {
   "cell_type": "markdown",
   "id": "e0412358-ec99-4f24-b42a-85b7f75faffc",
   "metadata": {},
   "source": [
    "### Generation of pseudo-bulk profiles"
   ]
  },
  {
   "cell_type": "code",
   "execution_count": null,
   "id": "fc9e5505-e6d0-46b5-b70b-ab5fe585398f",
   "metadata": {},
   "outputs": [],
   "source": [
    "pdata = dc.get_pseudobulk(\n",
    "    adata,\n",
    "    sample_col='sample',\n",
    "    groups_col='cell_type',\n",
    "    layer='counts',\n",
    "    mode='sum',\n",
    "    min_cells=10,\n",
    "    min_counts=1000\n",
    ")\n",
    "pdata"
   ]
  },
  {
   "cell_type": "markdown",
   "id": "1d608c88-1850-40b4-89aa-d9cfcc23f831",
   "metadata": {},
   "source": [
    "### Exploration of pseudobulk profiles"
   ]
  },
  {
   "cell_type": "code",
   "execution_count": null,
   "id": "150c6418-229c-4a40-a254-cae7bbd4dd7c",
   "metadata": {},
   "outputs": [],
   "source": [
    "# explore variability of pseudobulks between patient and cell type\n",
    "\n",
    "# Store raw counts in layers\n",
    "pdata.layers['counts'] = pdata.X.copy()\n",
    "\n",
    "# Normalize, scale and compute pca\n",
    "sc.pp.normalize_total(pdata, target_sum=1e4)\n",
    "sc.pp.log1p(pdata)\n",
    "sc.pp.scale(pdata, max_value=10)\n",
    "sc.tl.pca(pdata)\n",
    "\n",
    "# Return raw counts to X\n",
    "dc.swap_layer(pdata, 'counts', X_layer_key=None, inplace=True)"
   ]
  },
  {
   "cell_type": "code",
   "execution_count": null,
   "id": "7df403c3-991f-4fb6-9d41-d6445c111a11",
   "metadata": {},
   "outputs": [],
   "source": [
    "sc.pl.pca(pdata, color=['timepoint', 'cell_type'], ncols=1, size=300)\n",
    "sc.pl.pca_variance_ratio(pdata)"
   ]
  },
  {
   "cell_type": "code",
   "execution_count": null,
   "id": "cd5a59ac-9b16-49ac-9894-3133259142c2",
   "metadata": {},
   "outputs": [],
   "source": [
    "# perform ANOVA on each PC and see whether they are significantly associated with any technical or biological annotations of our samples\n",
    "dc.get_metadata_associations(\n",
    "    pdata,\n",
    "    obs_keys = ['patient', 'timepoint', 'response', 'cell_type', 'psbulk_n_cells', 'psbulk_counts'],  # Metadata columns to associate to PCs\n",
    "    obsm_key='X_pca',  # Where the PCs are stored\n",
    "    uns_key='pca_anova',  # Where the results are stored\n",
    "    inplace=True,\n",
    ")"
   ]
  },
  {
   "cell_type": "code",
   "execution_count": null,
   "id": "043e81fd-9f4c-4db6-a8af-aa3478d681c5",
   "metadata": {},
   "outputs": [],
   "source": [
    "'''\n",
    "dc.plot_associations(\n",
    "    pdata,\n",
    "    uns_key='pca_anova',  # Summary statistics from the anova tests\n",
    "    obsm_key='X_pca',  # where the PCs are stored\n",
    "    stat_col='p_adj',  # Which summary statistic to plot\n",
    "    obs_annotation_cols = ['timepoint', 'cell_type'], # which sample annotations to plot\n",
    "    titles=['Principle component scores', 'Adjusted p-values from ANOVA'],\n",
    "    figsize=(7, 5),\n",
    "    n_factors=10,\n",
    "    cmap_cats=\"tab20\",\n",
    "    cmap_scores=\"PuOr\",\n",
    "    save=os.path.join(fig_dir,\"Association_plot.png\"),\n",
    "    return_fig=True, \n",
    "    dpi=600\n",
    ")\n",
    "'''"
   ]
  },
  {
   "cell_type": "markdown",
   "id": "27ab0c23-5d99-4a0c-b3f9-a30e9772f861",
   "metadata": {},
   "source": [
    "## Contrast between conditions (DGEA)"
   ]
  },
  {
   "cell_type": "code",
   "execution_count": null,
   "id": "1909904c-4fef-400f-94e7-787f9ba3d4a0",
   "metadata": {},
   "outputs": [],
   "source": [
    "# Import DESeq2\n",
    "from pydeseq2.dds import DeseqDataSet, DefaultInference\n",
    "from pydeseq2.ds import DeseqStats"
   ]
  },
  {
   "cell_type": "code",
   "execution_count": null,
   "id": "10a1717e-6704-47d4-8900-b846879044d8",
   "metadata": {},
   "outputs": [],
   "source": [
    "# create list of cell types which DGE can be run \n",
    "cell_types = pdata.obs['cell_type'].unique().tolist()\n",
    "for cell_type in cell_types:\n",
    "    n = pdata.obs.groupby(['cell_type']).count()['Condition'][cell_type]\n",
    "    if n < 4:\n",
    "        cell_types.remove(cell_type)\n",
    "\n",
    "for cell_type in cell_types:\n",
    "    for count in pdata.obs.groupby(['cell_type', 'response']).count()['cells'][cell_type]:\n",
    "        if int(count) < 2:\n",
    "            cell_types.remove(cell_type)\n",
    "            continue\n",
    "\n",
    "print(cell_types)"
   ]
  },
  {
   "cell_type": "code",
   "execution_count": null,
   "id": "5e8e1ce6-6b00-4d01-98a9-0e487d52eb5d",
   "metadata": {},
   "outputs": [],
   "source": [
    "it = 1\n",
    "for cell_type in cell_types:\n",
    "\n",
    "    print('Running DEseq2 for ' + cell_type + '...')\n",
    "    \n",
    "    celltype_cells = pdata[pdata.obs['cell_type'] == cell_type].copy()\n",
    "\n",
    "    inference = DefaultInference(n_cpus=16)\n",
    "    dds = DeseqDataSet(\n",
    "        adata=celltype_cells,\n",
    "        design_factors='response',\n",
    "        ref_level=['response', 'PD'],\n",
    "        refit_cooks=True,\n",
    "        inference=inference,\n",
    "    )\n",
    "    \n",
    "    # Compute LFCs\n",
    "    dds.deseq2()\n",
    "    \n",
    "\n",
    "    # Extract contrast between timepoints\n",
    "    stat_res = DeseqStats(\n",
    "        dds,\n",
    "        contrast=[\"Condition\", 'PD', 'SD'],\n",
    "        inference=inference,\n",
    "    )\n",
    "    \n",
    "    # Compute Wald test\n",
    "    print(stat_res.summary())\n",
    "    \n",
    "    # Extract results\n",
    "    results_df = stat_res.results_df\n",
    "    results_df\n",
    "\n",
    "\n",
    "    plot=dc.plot_volcano_df(\n",
    "        results_df,\n",
    "        x='log2FoldChange',\n",
    "        y='padj',\n",
    "        top=20,\n",
    "        figsize=(8, 4)\n",
    "    )\n",
    "    plt.title(cell_type)\n",
    "    plt.savefig(os.path.join(fig_dir,cell_type+\"_DGE_volcano_plot.png\"), dpi=300, format=\"png\", bbox_inches=\"tight\")\n",
    "    plt.show()\n",
    "    \n",
    "    if it == 1:\n",
    "        mat = results_df[['stat']].T.rename(index={'stat': 'celltype'})\n",
    "    else:\n",
    "        mat = mat._append(results_df[['stat']].T.rename(index={'stat': 'celltype'}))\n",
    "\n",
    "    it += 1\n",
    "    "
   ]
  },
  {
   "cell_type": "code",
   "execution_count": null,
   "id": "6105053e-810c-460f-98aa-1f5ee423ea49",
   "metadata": {},
   "outputs": [],
   "source": [
    "mat.index = pdata.obs['cell_type'].unique()"
   ]
  },
  {
   "cell_type": "code",
   "execution_count": null,
   "id": "2c670bfc-68eb-4969-9e25-374a3a297e96",
   "metadata": {},
   "outputs": [],
   "source": [
    "# fill nans with 0s\n",
    "mat = mat.fillna(0)"
   ]
  },
  {
   "cell_type": "code",
   "execution_count": null,
   "id": "4373d1a8-3ff8-48eb-8854-247c8a6ac2a3",
   "metadata": {},
   "outputs": [],
   "source": [
    "mat"
   ]
  },
  {
   "cell_type": "code",
   "execution_count": null,
   "id": "748b8cad-a133-427f-8e67-ff54fabd9c7b",
   "metadata": {},
   "outputs": [],
   "source": [
    "mat.to_csv(os.path.join(work_dir, \"data\", \"outputdata\", \"combined\", \"Combined_main_celltypes_decoupleR_mat.csv\"), index=True)"
   ]
  },
  {
   "cell_type": "markdown",
   "id": "4881de97-27a1-4ef8-bc5d-b8ee8cf902bf",
   "metadata": {},
   "source": [
    "## Transcription factor activity inference"
   ]
  },
  {
   "cell_type": "code",
   "execution_count": null,
   "id": "832d58bb-3d17-429d-9fba-c7743751385d",
   "metadata": {},
   "outputs": [],
   "source": [
    "# Retrieve CollecTRI gene regulatory network\n",
    "collectri = dc.get_collectri(organism='human', split_complexes=False)\n",
    "collectri"
   ]
  },
  {
   "cell_type": "code",
   "execution_count": null,
   "id": "a87b6f62-78fa-4149-92cf-08b98b98f892",
   "metadata": {},
   "outputs": [],
   "source": [
    "# Infer pathway activities with ulm\n",
    "tf_acts, tf_pvals = dc.run_ulm(mat=mat, net=collectri)\n",
    "tf_acts"
   ]
  },
  {
   "cell_type": "code",
   "execution_count": null,
   "id": "90f6eed4-c787-4570-b313-ef7ed1e15607",
   "metadata": {},
   "outputs": [],
   "source": [
    "# check most active/inactive TFs\n",
    "\n",
    "for cell_type in pdata.obs['cell_type'].unique():\n",
    "\n",
    "    dc.plot_barplot(\n",
    "        acts=tf_acts,\n",
    "        contrast=cell_type,\n",
    "        top=25,\n",
    "        vertical=True,\n",
    "        figsize=(3, 6)\n",
    "    )\n",
    "\n",
    "    plt.title(cell_type)\n",
    "    plt.savefig(os.path.join(fig_dir,cell_type+\"_TF_Activity_plot.png\"), dpi=300, format=\"png\", bbox_inches=\"tight\")\n",
    "    plt.show()"
   ]
  },
  {
   "cell_type": "code",
   "execution_count": null,
   "id": "1b0d0a1d-db5a-4240-9bda-23c8f432cbe8",
   "metadata": {},
   "outputs": [],
   "source": [
    "# explore a specific TF target genes\n",
    "\n",
    "# Extract logFCs and pvals\n",
    "logFCs = results_df[['log2FoldChange']].T.rename(index={'log2FoldChange': 'CD4 T'})\n",
    "pvals = results_df[['padj']].T.rename(index={'padj': 'CD4 T'})\n",
    "\n",
    "# Plot\n",
    "dc.plot_volcano(\n",
    "    logFCs=logFCs,\n",
    "    pvals=pvals,\n",
    "    contrast='CD4 T',\n",
    "    name='MYC',\n",
    "    net=collectri,\n",
    "    top=10,\n",
    "    sign_thr=0.05,\n",
    "    lFCs_thr=0.5\n",
    ")"
   ]
  },
  {
   "cell_type": "code",
   "execution_count": null,
   "id": "2fc4b8cf-38e1-41f6-b71d-1ef832261fe3",
   "metadata": {},
   "outputs": [],
   "source": [
    "# plot network of TFs of interest\n",
    "dc.plot_network(\n",
    "    net=collectri,\n",
    "    obs=mat,\n",
    "    act=tf_acts,\n",
    "    n_sources=['CTNBB1', 'MYC', 'E2F4', 'TBX21'],\n",
    "    n_targets=15,\n",
    "    node_size=100,\n",
    "    figsize=(7, 7),\n",
    "    c_pos_w='darkgreen',\n",
    "    c_neg_w='darkred',\n",
    "    vcenter=True\n",
    ")"
   ]
  },
  {
   "cell_type": "code",
   "execution_count": null,
   "id": "221c372f-5e7d-4ad9-9331-540b8d412e21",
   "metadata": {},
   "outputs": [],
   "source": [
    "print(mat.shape)\n",
    "print(tf_acts.shape)"
   ]
  },
  {
   "cell_type": "markdown",
   "id": "782abae8-0828-4ae5-b8c4-21ef825b6898",
   "metadata": {},
   "source": [
    "## Pathway activity inference - PROGENy model"
   ]
  },
  {
   "cell_type": "code",
   "execution_count": null,
   "id": "622cc425-3f12-4a48-9d33-32991e7a9c66",
   "metadata": {},
   "outputs": [],
   "source": [
    "# Retrieve PROGENy model weights\n",
    "progeny = dc.get_progeny(top=500)\n",
    "progeny"
   ]
  },
  {
   "cell_type": "code",
   "execution_count": null,
   "id": "5f48730e-cbb9-4ce4-bc1c-f0bd0bf4709c",
   "metadata": {},
   "outputs": [],
   "source": [
    "# Infer pathway activities with mlm\n",
    "pathway_acts, pathway_pvals = dc.run_mlm(mat=mat, net=progeny)\n",
    "pathway_acts"
   ]
  },
  {
   "cell_type": "code",
   "execution_count": null,
   "id": "5783beaf-d150-4b76-9000-7bbc4e7b7f43",
   "metadata": {},
   "outputs": [],
   "source": [
    "for cell_type in pdata.obs['cell_type'].unique():\n",
    "\n",
    "    # plot obtained scores\n",
    "    dc.plot_barplot(\n",
    "        acts=pathway_acts,\n",
    "        contrast=cell_type,\n",
    "        top=25,\n",
    "        vertical=False,\n",
    "        figsize=(6, 3)\n",
    "    )\n",
    "\n",
    "    plt.title(cell_type)\n",
    "    plt.savefig(os.path.join(fig_dir,cell_type+\"_Pathway_Activity_plot.png\"), dpi=300, format=\"png\", bbox_inches=\"tight\")\n",
    "    plt.show()"
   ]
  },
  {
   "cell_type": "code",
   "execution_count": null,
   "id": "f9225370-80d8-4666-8ed3-3b0b4aac9b57",
   "metadata": {},
   "outputs": [],
   "source": [
    "# explore target genes of pathway of interest\n",
    "dc.plot_targets(\n",
    "    data=results_df,\n",
    "    stat='stat',\n",
    "    source_name='JAK-STAT',\n",
    "    net=progeny,\n",
    "    top=15\n",
    ")"
   ]
  },
  {
   "cell_type": "markdown",
   "id": "05313089-0520-4fe6-9a05-b561c7821032",
   "metadata": {},
   "source": [
    "## Functional enrichment of biological terms (GSEA) - MSigDB"
   ]
  },
  {
   "cell_type": "code",
   "execution_count": null,
   "id": "d305f900-2f1c-41fe-bd79-5e68583c2e2a",
   "metadata": {},
   "outputs": [],
   "source": [
    "# Retrieve MSigDB resource\n",
    "msigdb = dc.get_resource('MSigDB')\n",
    "msigdb"
   ]
  },
  {
   "cell_type": "code",
   "execution_count": null,
   "id": "34c19589-38b4-4f0e-b5d8-1d50819a348a",
   "metadata": {},
   "outputs": [],
   "source": [
    "msigdb.geneset"
   ]
  },
  {
   "cell_type": "code",
   "execution_count": null,
   "id": "41e55d04-61f3-4656-9700-70f138083687",
   "metadata": {},
   "outputs": [],
   "source": [
    "# Filter by hallmark (can use any other)\n",
    "msigdb = msigdb[msigdb['collection']=='hallmark']\n",
    "\n",
    "# Remove duplicated entries\n",
    "msigdb = msigdb[~msigdb.duplicated(['geneset', 'genesymbol'])]\n",
    "\n",
    "# Rename\n",
    "msigdb.loc[:, 'geneset'] = [name.split('HALLMARK_')[1] for name in msigdb['geneset']]\n",
    "\n",
    "msigdb"
   ]
  },
  {
   "cell_type": "code",
   "execution_count": null,
   "id": "4a32fab1-a8fa-4a0a-9413-266ff8d19072",
   "metadata": {},
   "outputs": [],
   "source": [
    "# Infer enrichment with ora using significant deg\n",
    "top_genes = results_df[results_df['padj'] < 0.05]\n",
    "\n",
    "# Run ora\n",
    "enr_pvals = dc.get_ora_df(\n",
    "    df=top_genes,\n",
    "    net=msigdb,\n",
    "    source='geneset',\n",
    "    target='genesymbol'\n",
    ")\n",
    "\n",
    "enr_pvals.head()"
   ]
  },
  {
   "cell_type": "code",
   "execution_count": null,
   "id": "ae058d7b-cdab-4d7b-84e0-c5181c206ff0",
   "metadata": {},
   "outputs": [],
   "source": [
    "# visualize most enrichment terms\n",
    "dc.plot_dotplot(\n",
    "    enr_pvals.sort_values('Combined score', ascending=False).head(15),\n",
    "    x='Combined score',\n",
    "    y='Term',\n",
    "    s='Odds ratio',\n",
    "    c='FDR p-value',\n",
    "    scale=0.5,\n",
    "    figsize=(3, 9)\n",
    ")"
   ]
  },
  {
   "cell_type": "code",
   "execution_count": null,
   "id": "56ef23cb-cfbf-4562-ba27-4e87dcdeb8d8",
   "metadata": {
    "scrolled": true
   },
   "outputs": [],
   "source": [
    "# plot running score\n",
    "dc.plot_running_score(\n",
    "    df=results_df,\n",
    "    stat='stat',\n",
    "    net=msigdb,\n",
    "    source='geneset',\n",
    "    target='genesymbol',\n",
    "    set_name='MYC_TARGETS_V2'\n",
    ")"
   ]
  }
 ],
 "metadata": {
  "kernelspec": {
   "display_name": "Python 3 (ipykernel)",
   "language": "python",
   "name": "python3"
  },
  "language_info": {
   "codemirror_mode": {
    "name": "ipython",
    "version": 3
   },
   "file_extension": ".py",
   "mimetype": "text/x-python",
   "name": "python",
   "nbconvert_exporter": "python",
   "pygments_lexer": "ipython3",
   "version": "3.9.18"
  }
 },
 "nbformat": 4,
 "nbformat_minor": 5
}
