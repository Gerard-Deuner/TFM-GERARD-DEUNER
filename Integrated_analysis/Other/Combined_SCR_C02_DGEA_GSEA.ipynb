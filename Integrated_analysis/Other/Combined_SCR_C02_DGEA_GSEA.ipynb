{
 "cells": [
  {
   "cell_type": "markdown",
   "id": "5d79301b-42a2-4f62-8e0c-1b0592d8f93b",
   "metadata": {},
   "source": [
    "# SERPENTINE - DGEA & GSEA"
   ]
  },
  {
   "cell_type": "markdown",
   "id": "08040bbb-c622-43c2-b546-c6ab2c7c9b76",
   "metadata": {},
   "source": [
    "## Differential Gene Expression Analysis (DGEA)"
   ]
  },
  {
   "cell_type": "markdown",
   "id": "468188f2-6034-4631-aa83-d8150f798393",
   "metadata": {},
   "source": [
    "replicate = patient\n",
    "donor = sample\n",
    "label = timepoint"
   ]
  },
  {
   "cell_type": "markdown",
   "id": "1094f07c-2963-4c30-ad6d-d90033bb72c4",
   "metadata": {
    "execution": {
     "iopub.execute_input": "2024-04-08T12:22:57.927831Z",
     "iopub.status.busy": "2024-04-08T12:22:57.927445Z",
     "iopub.status.idle": "2024-04-08T12:22:57.930097Z",
     "shell.execute_reply": "2024-04-08T12:22:57.929745Z",
     "shell.execute_reply.started": "2024-04-08T12:22:57.927809Z"
    }
   },
   "source": [
    "### Set Up Environment"
   ]
  },
  {
   "cell_type": "code",
   "execution_count": null,
   "id": "20e1db17-d9ee-406e-9c68-2ba00df36e84",
   "metadata": {},
   "outputs": [],
   "source": [
    "from __future__ import annotations\n",
    "\n",
    "import numpy as np\n",
    "import pandas as pd\n",
    "import matplotlib.pyplot as plt\n",
    "import seaborn as sns\n",
    "\n",
    "import scanpy as sc\n",
    "import anndata as ad\n",
    "import sc_toolbox\n",
    "#import pertpy \n",
    "import decoupler\n",
    "import seaborn.objects as so\n",
    "\n",
    "import session_info\n",
    "import os"
   ]
  },
  {
   "cell_type": "code",
   "execution_count": null,
   "id": "8a2052e2-14b5-4381-ad38-ae8a8a06a4cb",
   "metadata": {},
   "outputs": [],
   "source": [
    "sc.settings.set_figure_params(dpi=200, frameon=False)\n",
    "sc.set_figure_params(dpi=200)\n",
    "sc.set_figure_params(figsize=(4, 4))"
   ]
  },
  {
   "cell_type": "code",
   "execution_count": null,
   "id": "5a2f29c2-fcc0-4583-a9d8-c423299466f1",
   "metadata": {},
   "outputs": [],
   "source": [
    "# Filtering warnings from current version of matplotlib\n",
    "import warnings\n",
    "\n",
    "warnings.filterwarnings(\n",
    "    \"ignore\", message=\".*Parameters 'cmap' will be ignored.*\", category=UserWarning\n",
    ")\n",
    "warnings.filterwarnings(\n",
    "    \"ignore\", message=\"Tight layout not applied.*\", category=UserWarning\n",
    ")"
   ]
  },
  {
   "cell_type": "code",
   "execution_count": null,
   "id": "a1652e8e-1fec-489b-88f4-26dce27310cd",
   "metadata": {},
   "outputs": [],
   "source": [
    "# Setting up R dependencies\n",
    "import anndata2ri\n",
    "import rpy2\n",
    "import logging\n",
    "import rpy2.rinterface_lib.callbacks as rcb\n",
    "import rpy2.robjects as ro\n",
    "from rpy2.robjects import r\n",
    "import random"
   ]
  },
  {
   "cell_type": "code",
   "execution_count": null,
   "id": "a61773c8-6bf0-43a8-97ee-1e2f5a0b6252",
   "metadata": {},
   "outputs": [],
   "source": [
    "rpy2.__version__"
   ]
  },
  {
   "cell_type": "code",
   "execution_count": null,
   "id": "f8daab29-747d-4c96-9b24-fc0ede09f6db",
   "metadata": {},
   "outputs": [],
   "source": [
    "# set up dirs\n",
    "work_dir = \"/scratch_isilon/groups/singlecell/gdeuner/SERPENTINE/\"\n",
    "fig_dir = os.path.join(work_dir, \"figures\", \"combined\", \"main_analysis\", \"final_figures/\")"
   ]
  },
  {
   "cell_type": "code",
   "execution_count": null,
   "id": "ab1f8d80-4d4b-4870-8a2e-c0321437d499",
   "metadata": {},
   "outputs": [],
   "source": [
    "# read anndata object\n",
    "adata = sc.read(os.path.join(work_dir, \"data\", \"outputdata\", \"combined\", \"Combined_SCR_CO2_TCR_full-integrated_annot_22-03-24.h5ad\"))"
   ]
  },
  {
   "cell_type": "code",
   "execution_count": null,
   "id": "33112f85-8476-4042-89da-87372e9ac0bb",
   "metadata": {},
   "outputs": [],
   "source": [
    "anndata2ri.activate()\n",
    "%reload_ext rpy2.ipython"
   ]
  },
  {
   "cell_type": "code",
   "execution_count": null,
   "id": "3f8b0a43-df62-45d9-8ca1-8fa6df7f6e20",
   "metadata": {},
   "outputs": [],
   "source": [
    "%%R\n",
    "suppressPackageStartupMessages({\n",
    "    library(SingleCellExperiment)\n",
    "})\n",
    "library(edgeR)\n",
    "#library(MAST)"
   ]
  },
  {
   "cell_type": "markdown",
   "id": "64fea47b-8027-4c8e-9654-e7961142d186",
   "metadata": {},
   "source": [
    "### Pseudobulk"
   ]
  },
  {
   "cell_type": "markdown",
   "id": "6e8ca20d-bc4b-4e28-a0b2-2c4fc1a897f2",
   "metadata": {},
   "source": [
    "Since edgeR was introduced as a method for DE analysis for bulk data, we first need to create pseudobulk samples from our single-cell dataset. For each patient we create 1 pseudobulk sample per cell type by aggregating the cell from each subpopulation and taking the mean gene expression within that subpopulation."
   ]
  },
  {
   "cell_type": "code",
   "execution_count": null,
   "id": "644e8faf-1b04-4208-a923-a032b45457d7",
   "metadata": {},
   "outputs": [],
   "source": [
    "# Since we need to create pseudobulks for each patient-condition combination, we first need to create such a column by concatenating replicate and label.\n",
    "adata.obs[\"DGEA_sample\"] = [\n",
    "    f\"P{rep}_{l}\" for rep, l in zip(adata.obs[\"sample\"], adata.obs[\"timepoint\"])\n",
    "]\n",
    "adata.obs[\"DGEA_sample\"]"
   ]
  },
  {
   "cell_type": "code",
   "execution_count": null,
   "id": "382086c8-3240-4c82-9e1a-56c143a903d8",
   "metadata": {},
   "outputs": [],
   "source": [
    "# We need to clean up the cell type names, i.e. replace spaces with underscores and remove + symbols, to avoid Python to R conversion issues.\n",
    "adata.obs[\"cell_type\"] = adata.obs[\"Annotation_1.0\"]\n",
    "adata.obs[\"cell_type\"] = [ct.replace(\" \", \"_\") for ct in adata.obs[\"cell_type\"]]\n",
    "adata.obs[\"cell_type\"] = [ct.replace(\"+\", \"\") for ct in adata.obs[\"cell_type\"]]\n",
    "adata.obs[\"cell_type\"]"
   ]
  },
  {
   "cell_type": "code",
   "execution_count": null,
   "id": "7b17daf3-15eb-4911-9bce-0aca8e391b4d",
   "metadata": {},
   "outputs": [],
   "source": [
    "# We need to set categorical metadata to be indeed categorical to create pseudobulks.\n",
    "adata.obs[\"patient\"] = adata.obs[\"patient\"].astype(\"category\")\n",
    "adata.obs[\"timepoint\"] = adata.obs[\"timepoint\"].astype(\"category\")\n",
    "adata.obs[\"DGEA_sample\"] = adata.obs[\"DGEA_sample\"].astype(\"category\")\n",
    "adata.obs[\"cell_type\"] = adata.obs[\"cell_type\"].astype(\"category\")"
   ]
  },
  {
   "cell_type": "markdown",
   "id": "0f3864bf-3f4c-4e1b-91ad-f1619d9cefee",
   "metadata": {},
   "source": [
    "Now, let’s define the function we need to aggregate single cells into pseudo-replicates:\n",
    "\n",
    "*aggregate_and_filter* is a function that creates an AnnData object with one pseudo-replicate for each donor for a specified subpopulation from the original single-cell AnnData object. Here, we also filter out donors that have fewer than 30 cells for the specified population.\n",
    "\n",
    "by changing the *replicates_per_patient* parameter, several (n) pseudo-replicates can be created for each sample; cells are then split into n subsets of roughly equal sizes."
   ]
  },
  {
   "cell_type": "code",
   "execution_count": null,
   "id": "aa91de72-84eb-4379-8921-5d49ce7ab018",
   "metadata": {},
   "outputs": [],
   "source": [
    "NUM_OF_CELL_PER_DONOR = 30\n",
    "\n",
    "\n",
    "def aggregate_and_filter(\n",
    "    adata,\n",
    "    cell_identity,\n",
    "    donor_key=\"DGEA_sample\", #DGEA_sample\n",
    "    condition_key=\"timepoint\",\n",
    "    cell_identity_key=\"cell_type\",\n",
    "    obs_to_keep=[],  # which additional metadata to keep, e.g. gender, age, etc.\n",
    "    replicates_per_patient=1,\n",
    "):\n",
    "    # subset adata to the given cell identity\n",
    "    adata_cell_pop = adata[adata.obs[cell_identity_key] == cell_identity].copy()\n",
    "    # check which donors to keep according to the number of cells specified with NUM_OF_CELL_PER_DONOR\n",
    "    size_by_donor = adata_cell_pop.obs.groupby([donor_key]).size()\n",
    "    donors_to_drop = [\n",
    "        donor\n",
    "        for donor in size_by_donor.index\n",
    "        if size_by_donor[donor] <= NUM_OF_CELL_PER_DONOR\n",
    "    ]\n",
    "    if len(donors_to_drop) > 0:\n",
    "        print(\"Dropping the following samples:\")\n",
    "        print(donors_to_drop)\n",
    "    df = pd.DataFrame(columns=[*adata_cell_pop.var_names, *obs_to_keep])\n",
    "\n",
    "    adata_cell_pop.obs[donor_key] = adata_cell_pop.obs[donor_key].astype(\"category\")\n",
    "    for i, donor in enumerate(donors := adata_cell_pop.obs[donor_key].cat.categories):\n",
    "        print(f\"\\tProcessing donor {i+1} out of {len(donors)}...\", end=\"\\r\")\n",
    "        if donor not in donors_to_drop:\n",
    "            adata_donor = adata_cell_pop[adata_cell_pop.obs[donor_key] == donor]\n",
    "            # create replicates for each donor\n",
    "            indices = list(adata_donor.obs_names)\n",
    "            random.shuffle(indices)\n",
    "            indices = np.array_split(np.array(indices), replicates_per_patient)\n",
    "            for i, rep_idx in enumerate(indices):\n",
    "                adata_replicate = adata_donor[rep_idx]\n",
    "                # specify how to aggregate: sum gene expression for each gene for each donor and also keep the condition information\n",
    "                agg_dict = {gene: \"sum\" for gene in adata_replicate.var_names}\n",
    "                for obs in obs_to_keep:\n",
    "                    agg_dict[obs] = \"first\"\n",
    "                # create a df with all genes, donor and condition info\n",
    "                df_donor = pd.DataFrame(adata_replicate.X.A)\n",
    "                df_donor.index = adata_replicate.obs_names\n",
    "                df_donor.columns = adata_replicate.var_names\n",
    "                df_donor = df_donor.join(adata_replicate.obs[obs_to_keep])\n",
    "                # aggregate\n",
    "                df_donor = df_donor.groupby(donor_key).agg(agg_dict)\n",
    "                df_donor[donor_key] = donor\n",
    "                df.loc[f\"donor_{donor}_{i}\"] = df_donor.loc[donor]\n",
    "    print(\"\\n\")\n",
    "    # create AnnData object from the df\n",
    "    adata_cell_pop = sc.AnnData(\n",
    "        df[adata_cell_pop.var_names], obs=df.drop(columns=adata_cell_pop.var_names)\n",
    "    )\n",
    "    return adata_cell_pop"
   ]
  },
  {
   "cell_type": "markdown",
   "id": "f7a3a873-f13b-4b78-ab32-bdde9b5d660e",
   "metadata": {},
   "source": [
    "We also need to define a separate function to fit an edgeR GLM:\n",
    "\n",
    "fit_model takes a SingleCellExperiment object as input, creates the design matrix and outputs the fitted GLM. We also output the edgeR object of class DGEList to do some exploratory data analysis (EDA)."
   ]
  },
  {
   "cell_type": "code",
   "execution_count": null,
   "id": "f75237ec-f1d4-4876-a058-e0437d52f7cb",
   "metadata": {},
   "outputs": [],
   "source": [
    "%%R\n",
    "fit_model <- function(adata_){\n",
    "    # create an edgeR object with counts and grouping factor\n",
    "    y <- DGEList(assay(adata_, \"X\"), group = colData(adata_)$timepoint)\n",
    "    # filter out genes with low counts\n",
    "    print(\"Dimensions before subsetting:\")\n",
    "    print(dim(y))\n",
    "    print(\"\")\n",
    "    keep <- filterByExpr(y)\n",
    "    y <- y[keep, , keep.lib.sizes=FALSE]\n",
    "    print(\"Dimensions after subsetting:\")\n",
    "    print(dim(y))\n",
    "    print(\"\")\n",
    "    # normalize\n",
    "    y <- calcNormFactors(y)\n",
    "    # create a vector that is a concatenation of condition and cell type that we will later use with contrasts\n",
    "    group <- paste0(colData(adata_)$timepoint, \".\", colData(adata_)$cell_type)\n",
    "    replicate <- colData(adata_)$patient# replicate\n",
    "    #patient <- colData(adata_)$patient\n",
    "    # create a design matrix: here we have multiple donors so also consider that in the design matrix\n",
    "    design <- model.matrix(~ 0 + group + replicate)\n",
    "    print(design)\n",
    "    # estimate dispersion\n",
    "    y <- estimateDisp(y, design = design)\n",
    "    # fit the model\n",
    "    fit <- glmQLFit(y, design)\n",
    "    return(list(\"fit\"=fit, \"design\"=design, \"y\"=y))\n",
    "}"
   ]
  },
  {
   "cell_type": "code",
   "execution_count": null,
   "id": "b4ba0811-5995-4b52-bd50-a377ae6e711c",
   "metadata": {},
   "outputs": [],
   "source": [
    "# vars of metadata to keep\n",
    "obs_to_keep = [\"patient\", \"cell_type\", \"timepoint\", \"DGEA_sample\", \"sample\", \"project\", \"subproject\", \"ICI_status\", \"response\"]"
   ]
  },
  {
   "cell_type": "code",
   "execution_count": null,
   "id": "e6841b50-e61d-4c57-b48d-a2dde0757d30",
   "metadata": {},
   "outputs": [],
   "source": [
    "# pass rawcounts to edgeR\n",
    "adata.X = adata.layers[\"rawcounts\"].copy()"
   ]
  },
  {
   "cell_type": "code",
   "execution_count": null,
   "id": "6924c999-46b1-4e19-9f22-c026db10cbdf",
   "metadata": {
    "scrolled": true
   },
   "outputs": [],
   "source": [
    "# create anndata object with pseudobulks\n",
    "# process first cell type separately...\n",
    "cell_type = adata.obs[\"cell_type\"].cat.categories[0]\n",
    "print(\n",
    "    f'Processing {cell_type} (1 out of {len(adata.obs[\"cell_type\"].cat.categories)})...'\n",
    ")\n",
    "adata_pb = aggregate_and_filter(adata, cell_type, obs_to_keep=obs_to_keep)\n",
    "for i, cell_type in enumerate(adata.obs[\"cell_type\"].cat.categories[1:]):\n",
    "    print(\n",
    "        f'Processing {cell_type} ({i+2} out of {len(adata.obs[\"cell_type\"].cat.categories)})...'\n",
    "    )\n",
    "    adata_cell_type = aggregate_and_filter(adata, cell_type, obs_to_keep=obs_to_keep)\n",
    "    adata_pb = adata_pb.concatenate(adata_cell_type)"
   ]
  },
  {
   "cell_type": "code",
   "execution_count": null,
   "id": "9ab0143f-264d-484f-ae9e-85856dbe6624",
   "metadata": {},
   "outputs": [],
   "source": [
    "# We perform very basic EDA on the created pseudo-replicates to check if some patients/pseudobulks are outliers that we need to exclude so as not to bias the DE results. We save the raw counts in the 'counts' layer, then normalize the counts and calculate the PCA coordinates for the normalized pseudobulk counts.\n",
    "adata_pb.layers['counts'] = adata_pb.X.copy()\n",
    "sc.pp.normalize_total(adata_pb, target_sum=1e6)\n",
    "sc.pp.log1p(adata_pb)\n",
    "sc.pp.pca(adata_pb)"
   ]
  },
  {
   "cell_type": "code",
   "execution_count": null,
   "id": "aff53b77-3c80-4135-bd2b-357d902560d2",
   "metadata": {},
   "outputs": [],
   "source": [
    "adata_pb.obs[\"lib_size\"] = np.sum(adata_pb.layers[\"counts\"], axis=1)\n",
    "adata_pb.obs[\"log_lib_size\"] = np.log(adata_pb.obs[\"lib_size\"].astype(float))"
   ]
  },
  {
   "cell_type": "code",
   "execution_count": null,
   "id": "710570e4-a1cc-42db-be72-54c7b5883046",
   "metadata": {},
   "outputs": [],
   "source": [
    "sc.pl.pca(adata_pb, color=adata_pb.obs, ncols=1, size=300)"
   ]
  },
  {
   "cell_type": "code",
   "execution_count": null,
   "id": "faf86431-6f37-4d33-a8b0-70e5c3d1f899",
   "metadata": {},
   "outputs": [],
   "source": [
    "adata_pb.X = adata_pb.layers['counts'].copy()"
   ]
  },
  {
   "cell_type": "code",
   "execution_count": null,
   "id": "3e457957-e938-41b9-8891-7c9c16be31c6",
   "metadata": {},
   "outputs": [],
   "source": [
    "# format anndata object to avoid errors\n",
    "adata_pb.obs = adata_pb.obs.astype(str)\n",
    "object_columns = adata.obs.select_dtypes(include=['object']).columns\n",
    "adata.obs[object_columns] = adata.obs[object_columns].astype('category')\n",
    "from scipy import sparse\n",
    "adata_pb.X = sparse.csr_matrix(np.array(adata_pb.X, dtype=float))\n",
    "adata_pb.layers['counts'] = sparse.csr_matrix(np.array(adata_pb.layers['counts'], dtype=float))"
   ]
  },
  {
   "cell_type": "code",
   "execution_count": null,
   "id": "35796f30-51d9-4f56-a1d2-843b305f2691",
   "metadata": {
    "scrolled": true
   },
   "outputs": [],
   "source": [
    "# save anndata object with pseudobulks \n",
    "adata_pb.write(os.path.join(work_dir, \"data\", \"outputdata\", \"combined\", \"Combined_SCR_CO2_pseudobulks_08-04-24.h5ad\"))"
   ]
  },
  {
   "cell_type": "code",
   "execution_count": null,
   "id": "8a635435-9173-4a2d-93fb-7717be293eb0",
   "metadata": {},
   "outputs": [],
   "source": [
    "# read anndata object with pseudobulks \n",
    "adata_pb = sc.read_h5ad(os.path.join(work_dir, \"data\", \"outputdata\", \"combined\", \"Combined_SCR_CO2_pseudobulks_08-04-24.h5ad\"))"
   ]
  },
  {
   "cell_type": "markdown",
   "id": "ea03300e-a9e3-4c9c-9c2b-9fd2e11ed722",
   "metadata": {},
   "source": [
    "### Perform DE testing"
   ]
  },
  {
   "cell_type": "code",
   "execution_count": null,
   "id": "eda429aa-78d5-4f1c-b93e-30b8f8de3bd8",
   "metadata": {},
   "outputs": [],
   "source": [
    "adata_pb.obs"
   ]
  },
  {
   "cell_type": "code",
   "execution_count": null,
   "id": "f09e9a6e-e857-4fbf-b241-575a19dc016f",
   "metadata": {},
   "outputs": [],
   "source": [
    "#adata_pb.obs_names = [\n",
    "#    name.split(\"_\")[1] + \"_\" + name.split(\"_\")[2] for name in adata_pb.obs_names\n",
    "#]"
   ]
  },
  {
   "cell_type": "code",
   "execution_count": null,
   "id": "012ff117-88d6-4e2d-9b50-c0f14fe757f5",
   "metadata": {},
   "outputs": [],
   "source": [
    "#adata_pb.obs_names"
   ]
  },
  {
   "cell_type": "code",
   "execution_count": null,
   "id": "8463d679-3aac-4b34-9d61-62ec345f792d",
   "metadata": {
    "scrolled": true
   },
   "outputs": [],
   "source": [
    "%%time\n",
    "%%R -i adata_pb\n",
    "outs <- fit_model(adata_pb)"
   ]
  },
  {
   "cell_type": "code",
   "execution_count": null,
   "id": "ce75a722-9177-444d-b42e-d544413f0057",
   "metadata": {},
   "outputs": [],
   "source": [
    "%%R\n",
    "fit <- outs$fit\n",
    "y <- outs$y"
   ]
  },
  {
   "cell_type": "code",
   "execution_count": null,
   "id": "2bebc5a2-45c0-413f-8431-51a38027a05e",
   "metadata": {},
   "outputs": [],
   "source": [
    "%%R\n",
    "plotMDS(y, col=ifelse(y$samples$group == \"stim\", \"red\", \"blue\"))"
   ]
  },
  {
   "cell_type": "code",
   "execution_count": null,
   "id": "67a1fe3d-014b-4f55-9cdb-bf7a370e5599",
   "metadata": {},
   "outputs": [],
   "source": [
    "%%R \n",
    "colnames(y$design)"
   ]
  },
  {
   "cell_type": "code",
   "execution_count": null,
   "id": "634e0939-0948-4014-a3f4-1ee1e715976c",
   "metadata": {},
   "outputs": [],
   "source": [
    "adata_pb"
   ]
  },
  {
   "cell_type": "code",
   "execution_count": null,
   "id": "37646af6-f5a1-463e-89b9-edadc4b6e4ee",
   "metadata": {},
   "outputs": [],
   "source": [
    "# Now we use contrasts to perform a quasi-likelihood test for each of our cell types. Because there is no straightforward way to move tables from R to Python from within an R loop we get the results manually for each cell type."
   ]
  },
  {
   "cell_type": "code",
   "execution_count": null,
   "id": "8c819ef8-6956-4087-ab64-c88a92469c71",
   "metadata": {
    "scrolled": true
   },
   "outputs": [],
   "source": [
    "%%R -i adata_pb -o de_per_cell_type\n",
    "de_per_cell_type <- list()\n",
    "cell_types_to_exclude <- c(\"Liver_Epithelial\")#, \"replicate03\", \"replicate10\", \"replicate02\", \"replicate08\")\n",
    "for (cell_type in unique(colData(adata_pb)$cell_type)) {\n",
    "    if (!(cell_type %in% cell_types_to_exclude)) {\n",
    "        print(cell_type)\n",
    "        # create contrast for this cell type\n",
    "        myContrast <- makeContrasts(paste0(\"groupC02.\", cell_type, \"-groupSCR.\", cell_type), levels = y$design)\n",
    "        # perform QLF test\n",
    "        qlf <- glmQLFTest(fit, contrast=myContrast)\n",
    "        # get all of the DE genes and calculate Benjamini-Hochberg adjusted FDR\n",
    "        tt <- topTags(qlf, n = Inf)\n",
    "        # save in the list with the results for all the cell types\n",
    "        de_per_cell_type[[cell_type]] <- tt$table\n",
    "    }\n",
    "}"
   ]
  },
  {
   "cell_type": "code",
   "execution_count": null,
   "id": "081f12b5-9052-4066-9d35-e78907440a57",
   "metadata": {},
   "outputs": [],
   "source": [
    "#de_per_cell_type"
   ]
  },
  {
   "cell_type": "code",
   "execution_count": null,
   "id": "27ea0095-352c-4847-af3e-998be4a56be7",
   "metadata": {},
   "outputs": [],
   "source": [
    "# save it in .uns \n",
    "# get cell types that we ran the analysis for\n",
    "cell_types = de_per_cell_type.keys()\n",
    "# add the table to .uns for each cell type\n",
    "for cell_type in cell_types:\n",
    "    df = de_per_cell_type[cell_type]\n",
    "    df[\"gene_symbol\"] = df.index\n",
    "    df[\"cell_type\"] = cell_type\n",
    "    sc_toolbox.tools.de_res_to_anndata(\n",
    "        adata_pb,\n",
    "        df,\n",
    "        groupby=\"cell_type\",\n",
    "        score_col=\"logCPM\",\n",
    "        pval_col=\"PValue\",\n",
    "        pval_adj_col=\"FDR\",\n",
    "        lfc_col=\"logFC\",\n",
    "        key_added=\"edgeR_\" + cell_type,\n",
    "    )\n",
    "#    df.to_csv(f\"de_edgeR_{cell_type}.csv\")"
   ]
  },
  {
   "cell_type": "code",
   "execution_count": null,
   "id": "c88744d3-22ef-4f77-88a0-b770e4192870",
   "metadata": {},
   "outputs": [],
   "source": [
    "de_per_cell_type[\"B_Cell\"][\"FDR\"]"
   ]
  },
  {
   "cell_type": "code",
   "execution_count": null,
   "id": "b15f0c99-6c4e-4587-8588-b813471c0307",
   "metadata": {},
   "outputs": [],
   "source": [
    "# get the table as a pandas dataframe (for this use get_rank_genes_groups_df function)\n",
    "sc.get.rank_genes_groups_df(adata_pb, group=\"CD4_T\", key=\"edgeR_CD4_T\")[\n",
    "    :5\n",
    "]"
   ]
  },
  {
   "cell_type": "markdown",
   "id": "d1b522a1-be41-447b-910c-214b8a74fdd3",
   "metadata": {},
   "source": [
    "### Visualization"
   ]
  },
  {
   "cell_type": "code",
   "execution_count": null,
   "id": "d074b487-aa16-491f-bb94-2b705cf162fe",
   "metadata": {},
   "outputs": [],
   "source": [
    "FDR = 0.5 #0.5\n",
    "LOG_FOLD_CHANGE = 1.5\n",
    "\n",
    "\n",
    "def plot_heatmap(adata, group_key, group_name=\"cell_type\", groupby=\"timepoint\"):\n",
    "    cell_type = \"_\".join(group_key.split(\"_\")[1:])\n",
    "    print(cell_type)\n",
    "    #print(\"_____\")\n",
    "    res = sc.get.rank_genes_groups_df(adata, group=cell_type, key=group_key)\n",
    "    #print(res)\n",
    "    #print(\"_____\")\n",
    "    res.index = res[\"names\"].values\n",
    "    #print(res.index)\n",
    "    #print(\"_____\")\n",
    "    #print(res[\"names\"].values)\n",
    "    #print(\"_____\")\n",
    "    #print(min(res[\"pvals\"])) # problem with pvals_adj (almost 1)\n",
    "    #print(\"_____\")\n",
    "    res = res[(res[\"pvals_adj\"] < FDR) & (abs(res[\"logfoldchanges\"]) > LOG_FOLD_CHANGE)].sort_values(by=[\"logfoldchanges\"])\n",
    "    #print(res)\n",
    "    #print(\"_____\")\n",
    "    #print(f\"Plotting {len(res)} genes...\")\n",
    "    markers = list(res.index)\n",
    "    sc.pl.heatmap(\n",
    "        adata[adata.obs[group_name] == cell_type].copy(),\n",
    "        markers,\n",
    "        groupby=groupby,\n",
    "        swap_axes=True,\n",
    "        show_gene_labels=True,\n",
    "        show=True\n",
    "    )"
   ]
  },
  {
   "cell_type": "code",
   "execution_count": null,
   "id": "055b1ea4-b08a-4d93-9455-add71a1e2ea1",
   "metadata": {},
   "outputs": [],
   "source": [
    "sc.get.rank_genes_groups_df(adata_pb, group=\"CD4_T\", key=\"edgeR_CD4_T\")"
   ]
  },
  {
   "cell_type": "code",
   "execution_count": null,
   "id": "7bef7122-6e82-44e7-9d2d-61b4d4515986",
   "metadata": {},
   "outputs": [],
   "source": [
    "## required formatting for next step\n",
    "#tempAdata = adata_pb.raw.to_adata()\n",
    "#tempAdata.var_names = adata_pb.var_names\n",
    "#adata_pb.raw = tempAdata"
   ]
  },
  {
   "cell_type": "code",
   "execution_count": null,
   "id": "6f7fb74b-f785-462c-837d-22c02a781bea",
   "metadata": {
    "scrolled": true
   },
   "outputs": [],
   "source": [
    "group_keys = ['edgeR_B_Cell', 'edgeR_CAF', 'edgeR_CD4_T', 'edgeR_CD8_T', 'edgeR_Endothelial', 'edgeR_Myeloid', 'edgeR_NK', 'edgeR_Plasma', 'edgeR_Tumor', 'edgeR_pDC']\n",
    "for group_key in group_keys:\n",
    "    plot_heatmap(adata_pb, group_key)"
   ]
  },
  {
   "cell_type": "code",
   "execution_count": null,
   "id": "4f62c59e-caa9-4ac8-9a24-c1196f65da00",
   "metadata": {},
   "outputs": [],
   "source": [
    "FDR = 0.01\n",
    "LOG_FOLD_CHANGE = 1.5\n",
    "\n",
    "\n",
    "def volcano_plot(adata, group_key, group_name=\"cell_type\", groupby=\"timepoint\", title=None):\n",
    "    cell_type = \"_\".join(group_key.split(\"_\")[1:])\n",
    "    result = sc.get.rank_genes_groups_df(adata, group=cell_type, key=group_key).copy()\n",
    "    result[\"-logQ\"] = -np.log(result[\"pvals\"].astype(\"float\"))\n",
    "    lowqval_de = result.loc[abs(result[\"logfoldchanges\"]) > LOG_FOLD_CHANGE]\n",
    "    other_de = result.loc[abs(result[\"logfoldchanges\"]) <= LOG_FOLD_CHANGE]\n",
    "\n",
    "    fig, ax = plt.subplots()\n",
    "    sns.regplot(\n",
    "        x=other_de[\"logfoldchanges\"],\n",
    "        y=other_de[\"-logQ\"],\n",
    "        fit_reg=False,\n",
    "        scatter_kws={\"s\": 6},\n",
    "    )\n",
    "    sns.regplot(\n",
    "        x=lowqval_de[\"logfoldchanges\"],\n",
    "        y=lowqval_de[\"-logQ\"],\n",
    "        fit_reg=False,\n",
    "        scatter_kws={\"s\": 6},\n",
    "    )\n",
    "    ax.set_xlabel(\"log2 FC\")\n",
    "    ax.set_ylabel(\"-log Q-value\")\n",
    "\n",
    "    if title is None:\n",
    "        title = group_key.replace(\"_\", \" \")\n",
    "    plt.title(title)\n",
    "    plt.show()"
   ]
  },
  {
   "cell_type": "code",
   "execution_count": null,
   "id": "b52f1c80-b597-454e-b826-ec9a1348695d",
   "metadata": {
    "scrolled": true
   },
   "outputs": [],
   "source": [
    "group_keys = ['edgeR_B_Cell', 'edgeR_CAF', 'edgeR_CD4_T', 'edgeR_CD8_T', 'edgeR_Endothelial', 'edgeR_Myeloid', 'edgeR_NK', 'edgeR_Plasma', 'edgeR_Tumor', 'edgeR_pDC']\n",
    "for group_key in group_keys:\n",
    "    volcano_plot(adata_pb, group_key)"
   ]
  },
  {
   "cell_type": "code",
   "execution_count": null,
   "id": "e86c557a-3ed6-4447-a4ee-c97cc5f4e8d1",
   "metadata": {},
   "outputs": [],
   "source": [
    "# https://nbisweden.github.io/workshop-scRNAseq/labs/scanpy/scanpy_05_dge.html"
   ]
  },
  {
   "cell_type": "code",
   "execution_count": null,
   "id": "a5ba927a-a8bd-42c3-9ed7-a91c4c0dd4ab",
   "metadata": {},
   "outputs": [],
   "source": [
    "# format anndata object to avoid errors\n",
    "adata_pb.obs = adata_pb.obs.astype(str)\n",
    "object_columns_obs = adata_pb.obs.select_dtypes(include='object').columns\n",
    "adata_pb.obs[object_columns_obs] = adata_pb.obs[object_columns_obs].astype('category')\n",
    "#from scipy import sparse\n",
    "#adata_pb.X = sparse.csr_matrix(np.array(adata_pb.X, dtype=float))\n",
    "#adata_pb.layers['counts'] = sparse.csr_matrix(np.array(adata_pb.layers['counts'], dtype=float))"
   ]
  },
  {
   "cell_type": "code",
   "execution_count": null,
   "id": "d57bd08e-c0a8-46ef-a307-b96513db1f2d",
   "metadata": {},
   "outputs": [],
   "source": [
    "group_keys = ['edgeR_B_Cell', 'edgeR_CAF', 'edgeR_CD4_T', 'edgeR_CD8_T', 'edgeR_Endothelial', 'edgeR_Myeloid', 'edgeR_NK', 'edgeR_Plasma', 'edgeR_Tumor', 'edgeR_pDC']\n",
    "var_keys = ['scores', 'pvals', 'pvals_adj', 'logfoldchanges']\n",
    "for group_key in group_keys:\n",
    "    for var_key in var_keys:\n",
    "        adata_pb.uns[group_key][var_key] = adata_pb.uns[group_key][var_key].astype(float)\n",
    "        #print(type(adata_pb.uns[group_key][var_key]))"
   ]
  },
  {
   "cell_type": "code",
   "execution_count": null,
   "id": "44dd0b4d-11cc-402b-8a12-c62b1c4992f5",
   "metadata": {
    "scrolled": true
   },
   "outputs": [],
   "source": [
    "# save anndata object with DEG info\n",
    "adata_pb.write(os.path.join(work_dir, \"data\", \"outputdata\", \"combined\", \"Combined_SCR_CO2_pseudobulks_DGE_09-04-24.h5ad\"))"
   ]
  },
  {
   "cell_type": "code",
   "execution_count": null,
   "id": "36ddadba-4efb-40ec-8955-567ee0845190",
   "metadata": {},
   "outputs": [],
   "source": [
    "# read anndata object with DEG info\n",
    "adata_pb = sc.read_h5ad(os.path.join(work_dir, \"data\", \"outputdata\", \"combined\", \"Combined_SCR_CO2_pseudobulks_DGE_09-04-24.h5ad\"))"
   ]
  }
 ],
 "metadata": {
  "kernelspec": {
   "display_name": "Python 3 (ipykernel)",
   "language": "python",
   "name": "python3"
  },
  "language_info": {
   "codemirror_mode": {
    "name": "ipython",
    "version": 3
   },
   "file_extension": ".py",
   "mimetype": "text/x-python",
   "name": "python",
   "nbconvert_exporter": "python",
   "pygments_lexer": "ipython3",
   "version": "3.9.18"
  }
 },
 "nbformat": 4,
 "nbformat_minor": 5
}
