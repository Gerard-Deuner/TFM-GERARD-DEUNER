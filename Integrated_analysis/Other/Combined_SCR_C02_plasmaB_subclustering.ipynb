{
 "cells": [
  {
   "cell_type": "markdown",
   "id": "1499650a-0e7d-4800-be2e-1b083d6b5671",
   "metadata": {},
   "source": [
    "# SERPENTINE -- Combined Myeloid Cells Subclustering"
   ]
  },
  {
   "cell_type": "markdown",
   "id": "359eb8f2-ea70-4e6e-be2e-4223e911b7a1",
   "metadata": {},
   "source": [
    "## Environment Setup"
   ]
  },
  {
   "cell_type": "code",
   "execution_count": null,
   "id": "4d71d19d-46dc-4d6a-8d25-1c5e875eaad8",
   "metadata": {},
   "outputs": [],
   "source": [
    "# load packages\n",
    "import sys\n",
    "import scanpy as sc\n",
    "import os\n",
    "import sys\n",
    "import numpy as np\n",
    "import matplotlib.pyplot as plt\n",
    "import pandas as pd\n",
    "import scvi\n",
    "import seaborn as sns\n",
    "import scipy"
   ]
  },
  {
   "cell_type": "code",
   "execution_count": null,
   "id": "9170cdf5-5651-47be-be3d-ad10f23ca3aa",
   "metadata": {},
   "outputs": [],
   "source": [
    "import anndata2ri\n",
    "import logging\n",
    "\n",
    "import rpy2.rinterface_lib.callbacks as rcb\n",
    "import rpy2.robjects as ro\n",
    "\n",
    "rcb.logger.setLevel(logging.ERROR)\n",
    "ro.pandas2ri.activate()\n",
    "anndata2ri.activate()\n",
    "\n",
    "%load_ext rpy2.ipython"
   ]
  },
  {
   "cell_type": "code",
   "execution_count": null,
   "id": "8e760350-b44f-4d95-8cf8-8c4980c5e205",
   "metadata": {},
   "outputs": [],
   "source": [
    "# import helper functions\n",
    "from helper_functions import save_markers, compute_signature_score"
   ]
  },
  {
   "cell_type": "code",
   "execution_count": null,
   "id": "094140ef-41ec-4e21-91d1-9267667ae5cd",
   "metadata": {},
   "outputs": [],
   "source": [
    "# remove warnings\n",
    "import warnings\n",
    "warnings.filterwarnings('ignore')"
   ]
  },
  {
   "cell_type": "code",
   "execution_count": null,
   "id": "03b0502f-e6e4-4ed4-bdc5-2174daad7ac1",
   "metadata": {},
   "outputs": [],
   "source": [
    "# set up figure parameters\n",
    "plt.rcParams['figure.figsize'] = (4.0, 4.0)\n",
    "sc.settings.verbosity = 0\n",
    "sc.settings.set_figure_params(\n",
    "    dpi=600,\n",
    "    facecolor=\"white\",\n",
    "    frameon=False,\n",
    ")"
   ]
  },
  {
   "cell_type": "code",
   "execution_count": null,
   "id": "c8f0c58f-135c-4250-9db4-3c4260ea1ca2",
   "metadata": {},
   "outputs": [],
   "source": [
    "sc.set_figure_params(figsize=(4, 4))"
   ]
  },
  {
   "cell_type": "code",
   "execution_count": null,
   "id": "e979d99d-c0b9-4359-bd26-5e4c72356fd1",
   "metadata": {},
   "outputs": [],
   "source": [
    "# set up dirs\n",
    "work_dir = \"/scratch_isilon/groups/singlecell/gdeuner/SERPENTINE/\"\n",
    "fig_dir = os.path.join(work_dir, \"figures\", \"combined\", \"plasmaB\", \"preprocessing/\")\n",
    "sc.settings.figdir = os.path.join(work_dir, \"figures\", \"combined\", \"plasmaB\", \"preprocessing/\")\n",
    "sc.set_figure_params(dpi=300, dpi_save=300, format='png')"
   ]
  },
  {
   "cell_type": "code",
   "execution_count": null,
   "id": "fd61f95a-92ba-4ae5-8e71-189f38e31fc4",
   "metadata": {},
   "outputs": [],
   "source": [
    "# read anndata object\n",
    "adata_full = sc.read_h5ad(os.path.join(work_dir, \"data\", \"outputdata\", \"combined\", \"Combined_SCR_CO2_TCR_full-integrated_annot_22-03-24.h5ad\"))"
   ]
  },
  {
   "cell_type": "markdown",
   "id": "abf2ec5a-d488-4913-a27b-e7f17785347d",
   "metadata": {},
   "source": [
    "## Data Preparation"
   ]
  },
  {
   "cell_type": "markdown",
   "id": "5996959d-3429-4a48-953d-a83b38b3e33f",
   "metadata": {},
   "source": [
    "### Full Object Visualization"
   ]
  },
  {
   "cell_type": "code",
   "execution_count": null,
   "id": "130134fc-6737-4e3b-85ca-52ab74b43fd0",
   "metadata": {},
   "outputs": [],
   "source": [
    "adata_full"
   ]
  },
  {
   "cell_type": "code",
   "execution_count": null,
   "id": "4b1a43d9-0a13-411f-80ce-09599b0fe4af",
   "metadata": {},
   "outputs": [],
   "source": [
    "adata_full.obs"
   ]
  },
  {
   "cell_type": "code",
   "execution_count": null,
   "id": "6ac9920e-0e5e-4df4-b6cf-4533bf831330",
   "metadata": {},
   "outputs": [],
   "source": [
    "sc.pl.umap(\n",
    "    adata_full,\n",
    "    color=[\"Annotation_1.0\", \"timepoint\", \"project\", \"subproject\", \"sample\"],\n",
    "    legend_loc=\"right margin\",\n",
    "    legend_fontsize=7,\n",
    "    ncols=2\n",
    ")"
   ]
  },
  {
   "cell_type": "markdown",
   "id": "8e93ff98-f15f-4ab6-81ad-321cb2e407bb",
   "metadata": {},
   "source": [
    "### Clean Anndata Object"
   ]
  },
  {
   "cell_type": "code",
   "execution_count": null,
   "id": "43f300d1-1caa-40ac-bff7-385151176e94",
   "metadata": {
    "scrolled": true
   },
   "outputs": [],
   "source": [
    "adata_full.uns_keys"
   ]
  },
  {
   "cell_type": "code",
   "execution_count": null,
   "id": "1af31fb5-2016-4d88-aea7-d1b7b2004265",
   "metadata": {},
   "outputs": [],
   "source": [
    "# remove full non-informative metadata\n",
    "adata_full.obs.drop(columns=['leiden_res0_25', 'leiden_res0_5', 'leiden_res0_75', 'leiden_res1', 'leiden_res0_5_1', 'scVI_Annotation_1.0', 'harmony_Annotation_1.0', 'scGen_Annotation_1.0'], inplace=True)"
   ]
  },
  {
   "cell_type": "code",
   "execution_count": null,
   "id": "c69fb653-c341-4a7c-8809-9aee50580e9e",
   "metadata": {},
   "outputs": [],
   "source": [
    "adata_full.var.drop(columns=['HVG_cell_ranger', 'HVG_seurat', 'HVG_seurat_v3', 'HVG_model', 'highly_variable', 'excl_hv', 'orig_highly_variable'], inplace=True)"
   ]
  },
  {
   "cell_type": "code",
   "execution_count": null,
   "id": "f048fcc6-903f-4823-9017-c20e8d309fc1",
   "metadata": {},
   "outputs": [],
   "source": [
    "obsm_rem = ['harmony_umap', 'scGen_corrected_latent', 'scGen_umap', 'scVI_umap', 'X_pca_harmony', 'X_scVI']\n",
    "for obsm in obsm_rem:\n",
    "    del adata_full.obsm[obsm]"
   ]
  },
  {
   "cell_type": "code",
   "execution_count": null,
   "id": "f0de0e0a-23e1-47ec-b643-6c2b1e1f81d6",
   "metadata": {},
   "outputs": [],
   "source": [
    "del adata_full.varm['PCs']"
   ]
  },
  {
   "cell_type": "code",
   "execution_count": null,
   "id": "5adc1965-271c-4088-9d78-0da2626c065d",
   "metadata": {},
   "outputs": [],
   "source": [
    "obsp_rem = ['harmony_neighbors_connectivities', 'harmony_neighbors_distances', 'scGen_neighbors_connectivities', 'scGen_neighbors_distances', 'scVI_neighbors_connectivities', 'scVI_neighbors_distances']\n",
    "for obsp in obsp_rem:\n",
    "    del adata_full.obsp[obsp]"
   ]
  },
  {
   "cell_type": "markdown",
   "id": "cef5d24b-f2c6-4ec9-8975-f12871dc70bd",
   "metadata": {},
   "source": [
    "### Subset Myeloid populations"
   ]
  },
  {
   "cell_type": "code",
   "execution_count": null,
   "id": "9ac0e576-06c9-4dd2-b0b2-d1961c97157f",
   "metadata": {},
   "outputs": [],
   "source": [
    "adata = adata_full[adata_full.obs['Annotation_1.0'].isin(['Plasma', 'B Cell'])]"
   ]
  },
  {
   "cell_type": "code",
   "execution_count": null,
   "id": "100231da-5af5-4e37-8c1b-304b44f063cd",
   "metadata": {},
   "outputs": [],
   "source": [
    "# check number of cells\n",
    "len(adata.obs_names)"
   ]
  },
  {
   "cell_type": "code",
   "execution_count": null,
   "id": "4a6e9c23-e22d-4801-aa3b-7ced443aa544",
   "metadata": {},
   "outputs": [],
   "source": [
    "# non Myeloid integrated visualization (whole obj integration)\n",
    "sc.pl.umap(\n",
    "    adata,\n",
    "    color=[\"Annotation_1.0\", \"timepoint\", \"project\", \"subproject\", \"sample\"],\n",
    "    legend_loc=\"right margin\",\n",
    "    legend_fontsize=7,\n",
    "    ncols=2,\n",
    "    wspace=.5\n",
    ")"
   ]
  },
  {
   "cell_type": "markdown",
   "id": "c900a699-0050-4b3c-af35-8ace4ee21a97",
   "metadata": {},
   "source": [
    "## PlasmaB-specific Preprocessing"
   ]
  },
  {
   "cell_type": "markdown",
   "id": "9d1116b2-0604-4972-8d4f-1ceed8f40882",
   "metadata": {},
   "source": [
    "### Normalization"
   ]
  },
  {
   "cell_type": "code",
   "execution_count": null,
   "id": "dd1cd1f7-95fb-4252-969f-47f04646fbbe",
   "metadata": {},
   "outputs": [],
   "source": [
    "# observe count dist\n",
    "plt.figure(figsize=(6.0, 4.0))\n",
    "sns.histplot(adata.obs[\"total_counts\"], bins=100, kde=False)"
   ]
  },
  {
   "cell_type": "code",
   "execution_count": null,
   "id": "3a2c4939-5423-46fa-99c4-9bc32269bc12",
   "metadata": {},
   "outputs": [],
   "source": [
    "# normalization\n",
    "sc.pp.normalize_total(adata, target_sum=1e4)"
   ]
  },
  {
   "cell_type": "code",
   "execution_count": null,
   "id": "5b20afe4-5391-4e64-b40e-17d51e3df477",
   "metadata": {},
   "outputs": [],
   "source": [
    "# log-transform the data\n",
    "sc.pp.log1p(adata)"
   ]
  },
  {
   "cell_type": "code",
   "execution_count": null,
   "id": "001fefe5-4dcf-489d-b91c-0206fb84ebf6",
   "metadata": {},
   "outputs": [],
   "source": [
    "# visualize shifted logarithm distribution \n",
    "fig, axes = plt.subplots(1, 2, figsize=(10, 5))\n",
    "p1 = sns.histplot(adata.obs[\"total_counts\"], bins=100, kde=False, ax=axes[0])\n",
    "axes[0].set_title(\"Total counts\")\n",
    "p2 = sns.histplot(adata.layers[\"logcounts\"].sum(1), bins=100, kde=False, ax=axes[1])\n",
    "axes[1].set_title(\"Shifted logarithm\")\n",
    "plt.show()"
   ]
  },
  {
   "cell_type": "markdown",
   "id": "bcc9657c-2f4e-4cd9-9a08-52bf55fcf03c",
   "metadata": {},
   "source": [
    "### Compute Highly Variable Genes"
   ]
  },
  {
   "cell_type": "code",
   "execution_count": null,
   "id": "d8981e3e-8f67-4dfc-befa-b822b02d5dac",
   "metadata": {},
   "outputs": [],
   "source": [
    "# find variable genes\n",
    "sc.pp.highly_variable_genes(adata, batch_key=\"sample\", flavor=\"seurat\", n_top_genes=2000, subset = False, inplace = True)"
   ]
  },
  {
   "cell_type": "code",
   "execution_count": null,
   "id": "ac0bceea-a6df-423a-8cac-542d54ef5ef4",
   "metadata": {},
   "outputs": [],
   "source": [
    "print(adata.var.highly_variable.value_counts())"
   ]
  },
  {
   "cell_type": "code",
   "execution_count": null,
   "id": "4c43fbac-b659-4d42-b66f-b966656d3cac",
   "metadata": {},
   "outputs": [],
   "source": [
    "# select BCR &  MT genes to don't take them into account for PCA\n",
    "\n",
    "# select BCR genes \n",
    "BCR_prefixes = [\"IGHC\", \"IGHD\", \"IGHJ\", \"IGHV\",  \"IGIC\", \"IGIJ\", \"IGIV\",  \"IGKC\", \"IGKJ\", \"IGKV\", \"IGLC\", \"IGLJ\", \"IGLV\"]\n",
    "BCR_genes = [gene_name for gene_name in adata.var_names if any(gene_name.startswith(prefix) for prefix in BCR_prefixes)]\n",
    "print(BCR_genes[:10])\n",
    "\n",
    "# select mitochondrial genes\n",
    "MT_genes = [gene_name for gene_name in adata.var_names if gene_name.startswith(\"MT-\")]\n",
    "print(MT_genes[:10])\n",
    "\n",
    "# merge unwanted genes\n",
    "out_genes = MT_genes + BCR_genes\n",
    "\n",
    "# check there are matches\n",
    "len(set(adata.var_names) & set(out_genes)) > 0"
   ]
  },
  {
   "cell_type": "code",
   "execution_count": null,
   "id": "e0751690-447c-4bbe-ad38-afc532ea7d38",
   "metadata": {},
   "outputs": [],
   "source": [
    "# create boolean list indicating whether the genes are excluded as HVG\n",
    "in_out_genes = [False] * len(adata.var_names)\n",
    "for i in range(0, len(adata.var_names)-1):\n",
    "    gene = adata.var_names[i]\n",
    "    if gene in out_genes:\n",
    "        in_out_genes[i] = True\n",
    "\n",
    "adata.var[\"excl_hv\"] = in_out_genes\n",
    "\n",
    "len(out_genes)"
   ]
  },
  {
   "cell_type": "code",
   "execution_count": null,
   "id": "f827fc31-272b-4153-ae33-08008e179fb5",
   "metadata": {
    "scrolled": true
   },
   "outputs": [],
   "source": [
    "# remove undesired genes as highly variable\n",
    "for i in range(0, len(adata.var_names)-1):\n",
    "    gene = adata.var_names[i]\n",
    "    if ( (adata.var.loc[gene, \"highly_variable\"] == True) & (adata.var.loc[gene, \"excl_hv\"] == True) ):\n",
    "        print(gene + \" found in HVG -- removed!\")\n",
    "        adata.var.loc[gene, \"highly_variable\"] = False"
   ]
  },
  {
   "cell_type": "code",
   "execution_count": null,
   "id": "2b946a3f-d3ed-4dbd-ae9a-4369ad12ad55",
   "metadata": {},
   "outputs": [],
   "source": [
    "print(adata.var.highly_variable.value_counts())"
   ]
  },
  {
   "cell_type": "code",
   "execution_count": null,
   "id": "b5dbec4b-c8b9-4f95-a474-b7ad185ee3a4",
   "metadata": {},
   "outputs": [],
   "source": [
    "# check highly variable genes\n",
    "highly_variable_genes = adata.var.index[adata.var['highly_variable']]\n",
    "highly_variable_genes"
   ]
  },
  {
   "cell_type": "markdown",
   "id": "ad2969ab-ba1f-4d23-ab26-4ea211bebbf5",
   "metadata": {},
   "source": [
    "### Run PCA"
   ]
  },
  {
   "cell_type": "code",
   "execution_count": null,
   "id": "c305c7ef-08ba-4660-a94a-fb11e7a820ec",
   "metadata": {},
   "outputs": [],
   "source": [
    "sc.tl.pca(adata, use_highly_variable = True)"
   ]
  },
  {
   "cell_type": "code",
   "execution_count": null,
   "id": "3f08f936-0938-4ada-ada4-342752304ce1",
   "metadata": {},
   "outputs": [],
   "source": [
    "# visualize loadings\n",
    "sc.pl.pca_loadings(adata, include_lowest=True, components=[1, 2, 3, 4, 5])"
   ]
  },
  {
   "cell_type": "code",
   "execution_count": null,
   "id": "9f0bfd0d-9e39-414f-87da-e7fe37663888",
   "metadata": {},
   "outputs": [],
   "source": [
    "# select optimal number of PCs\n",
    "sc.pl.pca_variance_ratio(adata, log=True, n_pcs=50)"
   ]
  },
  {
   "cell_type": "code",
   "execution_count": null,
   "id": "f1c5c531-c898-44a8-bbed-b9e6344d2d44",
   "metadata": {},
   "outputs": [],
   "source": [
    "# calculate the percent of variation associated with each PC\n",
    "pct = adata.obsm['X_pca'].std(axis=0) / np.sum(adata.obsm['X_pca'].std(axis=0)) * 100\n",
    "\n",
    "# calculate cumulative percents for each PC\n",
    "cumu = np.cumsum(pct)\n",
    "\n",
    "# determine which PC exhibits cumulative percent greater than 90% and % variation associated with the PC is less than 5\n",
    "co1 = np.where((cumu > 90) & (pct < 5))[0]\n",
    "co1_index = co1[0] if len(co1) > 0 else None\n",
    "print(co1_index)\n",
    "\n",
    "# determine the difference between the variation of PC and subsequent PC\n",
    "co2 = np.sort(np.where((pct[:-1] - pct[1:]) > 0.05)[0])[::-1] # before: 0.1\n",
    "co2_index = co2[0] + 1 if len(co2) > 0 else None\n",
    "print(co2_index)\n",
    "\n",
    "# usually, we would choose the minimum of these two metrics as the PCs covering the majority of the variation in the data.\n",
    "pcs = min(co1_index, co2_index) if co1_index is not None and co2_index is not None else None\n",
    "\n",
    "print(\"PCs covering the majority of the variation:\", pcs)"
   ]
  },
  {
   "cell_type": "code",
   "execution_count": null,
   "id": "4f472591-4056-4fad-ab1d-222bc69925c8",
   "metadata": {},
   "outputs": [],
   "source": [
    "# Kaiser rule --> Keep PC with an eigenvalue of >=1\n",
    "\n",
    "# extract eigenvalues from PCA results\n",
    "eigenvalues = adata.uns['pca']['variance']\n",
    "\n",
    "# filter eigenvalues greater than or equal to 1\n",
    "eigenvalues_gt_1 = [val for val in eigenvalues if val >= 1]\n",
    "\n",
    "# get the corresponding principal component numbers\n",
    "pcs_gt_1 = [i+1 for i, val in enumerate(eigenvalues) if val >= 1]\n",
    "\n",
    "print(eigenvalues)\n",
    "print(max(pcs_gt_1))"
   ]
  },
  {
   "cell_type": "code",
   "execution_count": null,
   "id": "34592b35-f6ab-4119-8e7d-afa5d6338f59",
   "metadata": {},
   "outputs": [],
   "source": [
    "# 2/3 Variance Explanation\n",
    "print(cumu)\n",
    "np.where((cumu > 100*2/3))[0][0]"
   ]
  },
  {
   "cell_type": "code",
   "execution_count": null,
   "id": "b1c2acd9-99f4-48ea-ba05-df1885a058ef",
   "metadata": {},
   "outputs": [],
   "source": [
    "# define number of PCs\n",
    "n_pcs=35"
   ]
  },
  {
   "cell_type": "markdown",
   "id": "e3c0e4f8-6390-41ff-9ff7-864dc2853607",
   "metadata": {},
   "source": [
    "### Compute Neighbors & Non Linear Dim. Reduction"
   ]
  },
  {
   "cell_type": "code",
   "execution_count": null,
   "id": "485a855a-c6e4-4910-aa61-b40373f6f89d",
   "metadata": {},
   "outputs": [],
   "source": [
    "sc.pp.neighbors(adata, n_pcs=n_pcs)\n",
    "sc.tl.umap(adata)"
   ]
  },
  {
   "cell_type": "code",
   "execution_count": null,
   "id": "80c89210-6506-48f5-bc38-6c69b3bc7e3c",
   "metadata": {},
   "outputs": [],
   "source": [
    "sc.pl.umap(adata, color=[\"sample\", \"Annotation_1.0\"], wspace=1.5)"
   ]
  },
  {
   "cell_type": "code",
   "execution_count": null,
   "id": "8b4fe54c-f697-489a-9320-c4291fd0f11f",
   "metadata": {},
   "outputs": [],
   "source": [
    "# check technical sources of variation\n",
    "sc.pl.umap(\n",
    "    adata,\n",
    "    color=[\"pct_counts_mt\", \"pct_counts_ribo\", \"n_genes_by_counts\", \"total_counts\", \"doublet_score\", \"sample\"],\n",
    "    vmax=\"p99\",\n",
    "    #legend_loc=\"on data\",\n",
    "    frameon=False,\n",
    "    cmap=\"PuOr\",\n",
    "    use_raw=False,\n",
    "    ncols=2\n",
    ")"
   ]
  },
  {
   "cell_type": "code",
   "execution_count": null,
   "id": "5b4d4f6d-6234-4094-ba9d-5fa180ad58ff",
   "metadata": {},
   "outputs": [],
   "source": [
    "sc.pl.umap(\n",
    "    adata,\n",
    "    color=[\"patient\", \"timepoint\"],\n",
    "    vmax=\"p99\",\n",
    "    #legend_loc=\"on data\",\n",
    "    frameon=False,\n",
    "    use_raw=False,\n",
    "    ncols=2\n",
    ")"
   ]
  },
  {
   "cell_type": "markdown",
   "id": "da627370-ade2-4172-948e-a3a27cc08fba",
   "metadata": {},
   "source": [
    "### Integration (scVI)"
   ]
  },
  {
   "cell_type": "code",
   "execution_count": null,
   "id": "d4104752-274d-47fc-8971-fd14b2eeb1fc",
   "metadata": {},
   "outputs": [],
   "source": [
    "# define integration vars\n",
    "batch_key = \"subproject\""
   ]
  },
  {
   "cell_type": "code",
   "execution_count": null,
   "id": "f8fffbc0-b961-4899-a589-7eb879a13f3e",
   "metadata": {},
   "outputs": [],
   "source": [
    "# create object specific to scVI with just HVG\n",
    "adata_scvi = adata[:, adata.var[\"highly_variable\"]].copy()"
   ]
  },
  {
   "cell_type": "code",
   "execution_count": null,
   "id": "5972d0a2-bf30-4d2b-bf71-073341e0bb4a",
   "metadata": {},
   "outputs": [],
   "source": [
    "print(adata.shape)\n",
    "print(adata_scvi.shape)"
   ]
  },
  {
   "cell_type": "code",
   "execution_count": null,
   "id": "8ba63845-6bf5-473a-9a4c-cd1baf31845a",
   "metadata": {
    "scrolled": true
   },
   "outputs": [],
   "source": [
    "# prepare object\n",
    "scvi.model.SCVI.setup_anndata(adata_scvi, \n",
    "                              layer=\"rawcounts\", \n",
    "                              batch_key=batch_key,\n",
    "                              #continuous_covariate_keys=[\"pct_counts_mt\", \"pct_counts_ribo\", \"n_genes_by_counts\", \"total_counts\"],\n",
    "                              #categorical_covariate_keys=[\"patient\", \"timepoint\"]\n",
    "                             )\n",
    "adata_scvi"
   ]
  },
  {
   "cell_type": "code",
   "execution_count": null,
   "id": "d7edf3de-6728-450c-9349-fe0bf87f1a7f",
   "metadata": {},
   "outputs": [],
   "source": [
    "# create the model\n",
    "model_scvi = scvi.model.SCVI(adata_scvi)\n",
    "model_scvi"
   ]
  },
  {
   "cell_type": "code",
   "execution_count": null,
   "id": "ba31eb45-470d-4a59-b9f1-b98b88648f9a",
   "metadata": {},
   "outputs": [],
   "source": [
    "# visualize model\n",
    "model_scvi.view_anndata_setup()"
   ]
  },
  {
   "cell_type": "code",
   "execution_count": null,
   "id": "3317a4dd-fe9a-4a41-bb1d-655703f8dc86",
   "metadata": {},
   "outputs": [],
   "source": [
    "# find optimal number of epochs\n",
    "max_epochs_scvi = np.min([round((20000 / adata_scvi.n_obs) * 400), 400])\n",
    "max_epochs_scvi"
   ]
  },
  {
   "cell_type": "code",
   "execution_count": null,
   "id": "dea5dd21-1b95-493b-845e-ffe63d30b10b",
   "metadata": {},
   "outputs": [],
   "source": [
    "# train the model\n",
    "model_scvi.train()"
   ]
  },
  {
   "cell_type": "code",
   "execution_count": null,
   "id": "7e19a166-944e-4cdd-90de-9ce5f9743eb6",
   "metadata": {},
   "outputs": [],
   "source": [
    "# extract the embedding\n",
    "adata_scvi.obsm[\"X_scVI\"] = model_scvi.get_latent_representation() #just embedding used in further steps\n",
    "adata_scvi.layers[\"scvi_normalized\"] = model_scvi.get_normalized_expression(library_size=10e4) # would allow us to perforem DE"
   ]
  },
  {
   "cell_type": "code",
   "execution_count": null,
   "id": "3d7ce1c8-6509-49c0-a9a3-3229630fd5ef",
   "metadata": {},
   "outputs": [],
   "source": [
    "# transfer scVI latent space to the full anndata object\n",
    "adata.obsm[\"X_scVI\"] = model_scvi.get_latent_representation()"
   ]
  },
  {
   "cell_type": "code",
   "execution_count": null,
   "id": "ff374142-7096-4dba-af30-5a4ced0540a5",
   "metadata": {},
   "outputs": [],
   "source": [
    "# save the model\n",
    "model_scvi.save(os.path.join(work_dir, \"data\", \"models\", \"Combined_SCR_C02_Myeloid_scVI_integration_model_11-04-24\"), overwrite=True)"
   ]
  },
  {
   "cell_type": "code",
   "execution_count": null,
   "id": "b8f9160d-5f61-435e-b371-dd50593dca1c",
   "metadata": {},
   "outputs": [],
   "source": [
    "# batch-corrected visualization (full)\n",
    "sc.pp.neighbors(adata, use_rep=\"X_scVI\")\n",
    "sc.tl.umap(adata)\n",
    "adata"
   ]
  },
  {
   "cell_type": "code",
   "execution_count": null,
   "id": "0c3a922d-b097-4e75-a827-8e2f475367e9",
   "metadata": {},
   "outputs": [],
   "source": [
    "# visualize integration\n",
    "sc.pl.umap(adata, \n",
    "           color=[\"Annotation_1.0\", \n",
    "                  \"sample\",  \n",
    "                  \"subproject\", \n",
    "                  \"project\", \n",
    "                  \"patient\", \n",
    "                  \"timepoint\"\n",
    "                 ], \n",
    "           wspace=1, \n",
    "           ncols=2) "
   ]
  },
  {
   "cell_type": "code",
   "execution_count": null,
   "id": "0b3334fb-9a4d-49cd-910b-16821b2ad4f8",
   "metadata": {},
   "outputs": [],
   "source": [
    "# save integrated myeloid adata object\n",
    "adata.write(os.path.join(work_dir, \"data\", \"outputdata\", \"combined\", \"Combined_SCR_CO2_plasmaB_scVI-integrated_25-04-24.h5ad\"))"
   ]
  },
  {
   "cell_type": "code",
   "execution_count": null,
   "id": "bb73ff8e-29d2-47d1-a666-3abbaa3b3837",
   "metadata": {},
   "outputs": [],
   "source": [
    "# read integrated myeloid adata object\n",
    "adata = sc.read_h5ad(os.path.join(work_dir, \"data\", \"outputdata\", \"combined\", \"Combined_SCR_CO2_plasmaB_scVI-integrated_25-04-24.h5ad\"))"
   ]
  },
  {
   "cell_type": "code",
   "execution_count": null,
   "id": "e0ed7f49-e60d-4315-b522-c2157b2dac28",
   "metadata": {},
   "outputs": [],
   "source": [
    "# identfy technical sources of variation\n",
    "sc.pl.umap(\n",
    "    adata,\n",
    "    color=[\"pct_counts_mt\", \"pct_counts_ribo\", \"n_genes_by_counts\", \"total_counts\", \"doublet_score\", \"sample\"],\n",
    "    vmax=\"p99\",\n",
    "    frameon=False,\n",
    "    cmap=\"PuOr\",\n",
    "    use_raw=False,\n",
    "    ncols=2,\n",
    "    save=\"Techincal_Sources_of_Variation.png\"\n",
    ")"
   ]
  },
  {
   "cell_type": "code",
   "execution_count": null,
   "id": "f14eee59-3f00-4735-be10-ff57d602967d",
   "metadata": {},
   "outputs": [],
   "source": [
    "# visualize batches\n",
    "sc.pl.umap(\n",
    "    adata,\n",
    "    color=[\"patient\", \"project\", \"timepoint\", \"subproject\", \"response\", \"sample\"],\n",
    "    vmax=\"p99\",\n",
    "    frameon=False,\n",
    "    cmap=\"PuOr\",\n",
    "    use_raw=False,\n",
    "    ncols=2,\n",
    "    save=\"Batches.png\"\n",
    ")"
   ]
  },
  {
   "cell_type": "markdown",
   "id": "4657c313-5c32-417a-81c2-885e516af782",
   "metadata": {},
   "source": [
    "### Clustering"
   ]
  },
  {
   "cell_type": "code",
   "execution_count": null,
   "id": "7f8db717-dd68-4d37-b036-be4854fe7174",
   "metadata": {},
   "outputs": [],
   "source": [
    "# perform clustering\n",
    "sc.tl.leiden(adata, key_added=\"leiden_res0_25\", resolution=0.25)\n",
    "sc.tl.leiden(adata, key_added=\"leiden_res0_5\", resolution=0.5)\n",
    "sc.tl.leiden(adata, key_added=\"leiden_res0_75\", resolution=0.75)\n",
    "sc.tl.leiden(adata, key_added=\"leiden_res1\", resolution=1.0)\n",
    "sc.tl.leiden(adata, key_added=\"leiden_res1_2\", resolution=1.2)\n",
    "sc.tl.leiden(adata, key_added=\"leiden_res1_4\", resolution=1.4)\n",
    "sc.tl.leiden(adata, key_added=\"leiden_res1_6\", resolution=1.6)\n",
    "sc.tl.leiden(adata, key_added=\"leiden_res1_8\", resolution=1.8)\n",
    "sc.tl.leiden(adata, key_added=\"leiden_res2\", resolution=2)"
   ]
  },
  {
   "cell_type": "code",
   "execution_count": null,
   "id": "c9f740b0-e341-4021-9885-81ecc7d58090",
   "metadata": {},
   "outputs": [],
   "source": [
    "# visulize clustering\n",
    "sc.pl.umap(\n",
    "    adata,\n",
    "    color=[\"leiden_res0_25\", \"leiden_res0_5\", \"leiden_res0_75\", \"leiden_res1\",\n",
    "          \"leiden_res1_2\", \"leiden_res1_4\", \"leiden_res1_6\", \"leiden_res1_8\", \"leiden_res2\"],\n",
    "    legend_loc=\"on data\"\n",
    ")"
   ]
  },
  {
   "cell_type": "code",
   "execution_count": null,
   "id": "5a59869e-903f-4f86-b53c-55958f2126a2",
   "metadata": {},
   "outputs": [],
   "source": [
    "# subcluster cluster 7\n",
    "sc.tl.leiden(adata, key_added=\"leiden_res1_1\", resolution=0.3, restrict_to = (\"leiden_res1\", [\"7\"]))\n"
   ]
  },
  {
   "cell_type": "code",
   "execution_count": null,
   "id": "86e63981-87c2-4061-9a5b-cf1cf9634e60",
   "metadata": {},
   "outputs": [],
   "source": [
    "# visulize clustering\n",
    "sc.set_figure_params(figsize=(6, 6))\n",
    "sc.pl.umap(\n",
    "    adata,\n",
    "    color=[\"leiden_res1\", \"leiden_res1_1\"],\n",
    "    legend_loc=\"on data\"\n",
    ")"
   ]
  },
  {
   "cell_type": "code",
   "execution_count": null,
   "id": "908e4483-63c9-4072-8190-33a30d837bff",
   "metadata": {},
   "outputs": [],
   "source": [
    "# save clustered myeloid adata object\n",
    "adata.write(os.path.join(work_dir, \"data\", \"outputdata\", \"combined\", \"Combined_SCR_CO2_plasmaB_scVI-integrated_clustered_25-04-24.h5ad\"))"
   ]
  },
  {
   "cell_type": "code",
   "execution_count": null,
   "id": "faf5edc0-865e-4650-9fa0-e2e2a6e85b99",
   "metadata": {},
   "outputs": [],
   "source": [
    "# read clustered myeloid adata object\n",
    "adata = sc.read_h5ad(os.path.join(work_dir, \"data\", \"outputdata\", \"combined\", \"Combined_SCR_CO2_plasmaB_scVI-integrated_clustered_25-04-24.h5ad\"))"
   ]
  },
  {
   "cell_type": "markdown",
   "id": "c32c0270-1353-417f-98e8-74215d1d17c7",
   "metadata": {},
   "source": [
    "## Level 2 Annotation"
   ]
  },
  {
   "cell_type": "markdown",
   "id": "f532ff67-26f5-4486-a774-aa9d036744fe",
   "metadata": {},
   "source": [
    "### Map Known Marker Genes"
   ]
  },
  {
   "cell_type": "code",
   "execution_count": null,
   "id": "bd0024ef-200c-4272-8431-5c035d945b11",
   "metadata": {},
   "outputs": [],
   "source": [
    "# define marker genes\n",
    "marker_genes = [\n",
    "\n",
    "    \"CD79A\",     # B cell\n",
    "    \"MS4A1\",     # B cell\n",
    "    \"ITGB2\",      # B cell\n",
    "    \"CXCR5\",     # Bf\n",
    "    \"TNFRSF13B\", # Bf\n",
    "    \"CD22\",      # Bf\n",
    "    \"POU2F1\",   # GC B\n",
    "    \"CD40\",      # GC B\n",
    "    \"SUGCT\",     # GC B\n",
    "    \"CR2\",       # Mem B\n",
    "    \"CD27\",      # Mem B\n",
    "    \"MS4A1\",     # Mem B\n",
    "    \"IGHM\",      # Naive B\n",
    "    \"IGHD\",      # Naive B\n",
    "    \"TCL1A\",     # Naive B\n",
    "    \"CD24\",      # Trans B \n",
    "    \"MYO1C\",     # Trans B\n",
    "    \"MS4A2\",     # Trans B\n",
    "    \"MKI67\",     # Pro GC B\n",
    "    \"SUGCT\",     # Pro GC B\n",
    "    \"AICDA\",     # Pro GC B\n",
    "    #\"MKI67\",    # Cycling B\n",
    "    \"TOP2A\",     # Cycling B\n",
    "    \"CD19\",      # Cycling B\n",
    "    \"JCHAIN\",    # Plasma\n",
    "    \"MZB1\",      # Plasma\n",
    "    \"XBP1\",      # Plasma\n",
    "    #\"MKI67\",    # Plasmablast\n",
    "    \"SDC1\",      # Plasmablast\n",
    "    \"XBP1\",      # Plasmablast\n",
    "    \n",
    "    \n",
    "]\n"
   ]
  },
  {
   "cell_type": "code",
   "execution_count": null,
   "id": "fb4018e7-5aca-4206-ab37-5de06112ca47",
   "metadata": {},
   "outputs": [],
   "source": [
    "# marker genes dictionary\n",
    "marker_genes_dict = {\n",
    "    \n",
    "    \"B Cell\":               [\"CD79A\", \"MS4A1\", \"ITGB2\"],       \n",
    "    \"Follicular B\":         [\"CXCR5\", \"TNFRSF13B\", \"CD22\"],     \n",
    "    \"GC B\":    [\"POU2F1\", \"CD40\", \"SUGCT\"],       \n",
    "    \"Memory B\":             [\"CR2\", \"CD27\", \"MS4A1\"],       \n",
    "    \"Naive B\":              [\"IGHM\", \"IGHD\", \"TCL1A\"],       \n",
    "    \"Trans B\":              [\"CD24\", \"MYO1C\", \"MS4A2\"],       \n",
    "    \"Pro GC B\":             [\"MKI67\", \"SUGCT\", \"AICDA\"],       \n",
    "    \"Cycling B\":            [\"MKI67\", \"TOP2A\", \"CD19\"],       \n",
    "    \"Plamsma\":              [\"JCHAIN\", \"MZB1\", \"XBP1\"],       \n",
    "    \"Plasmablast\":          [\"MKI67\", \"SDC1\", \"XBP1\"],       \n",
    "            \n",
    "}"
   ]
  },
  {
   "cell_type": "code",
   "execution_count": null,
   "id": "78dbfad8-b5db-41a0-82be-ad4b9c46d46e",
   "metadata": {},
   "outputs": [],
   "source": [
    "# plot the expression of marker genes\n",
    "sc.pl.umap(\n",
    "        adata,\n",
    "        color=marker_genes,\n",
    "        vmin=0,\n",
    "        vmax=\"p99\",  # set vmax to the 99th percentile of the gene count instead of the maximum, to prevent outliers from making expression in other cells invisible. Note that this can cause problems for extremely lowly expressed genes.\n",
    "        sort_order=True,  # do not plot highest expression on top, to not get a biased view of the mean expression among cells\n",
    "        frameon=True,\n",
    "        use_raw=False,\n",
    "        cmap=\"viridis\",  # https://matplotlib.org/stable/tutorials/colors/colormaps.html\n",
    "        save=\"Markers_UMAPs.png\"\n",
    "    )"
   ]
  },
  {
   "cell_type": "code",
   "execution_count": null,
   "id": "3619ec3d-56d7-4418-b547-6b12632f36b2",
   "metadata": {},
   "outputs": [],
   "source": [
    "# dotplot of marker genes\n",
    "sc.pl.dotplot(\n",
    "    adata,\n",
    "    groupby=\"leiden_res1_1\",\n",
    "    var_names=marker_genes_dict,\n",
    "    standard_scale=\"var\", \n",
    "    use_raw=False,\n",
    "    cmap=\"Greens\",\n",
    "    save=\"Clusters_Markers_Dotplot.png\"\n",
    ")"
   ]
  },
  {
   "cell_type": "code",
   "execution_count": null,
   "id": "860ae0e6-e881-4bf3-bd8d-0e71bc0f6ee2",
   "metadata": {},
   "outputs": [],
   "source": [
    "sc.pl.matrixplot(\n",
    "    adata,\n",
    "    groupby=\"leiden_res1_1\",\n",
    "    var_names=marker_genes_dict,\n",
    "    standard_scale=\"var\", \n",
    "    use_raw=False,\n",
    "    cmap=\"Greens\",\n",
    "    save=\"Clusters_Markers_Matrixplot.png\"\n",
    ")"
   ]
  },
  {
   "cell_type": "markdown",
   "id": "6f2a0c85-a70f-4b2a-ad09-2b6e977c23b6",
   "metadata": {},
   "source": [
    "### Compute Marker Genes"
   ]
  },
  {
   "cell_type": "code",
   "execution_count": null,
   "id": "0c2a4154-016d-43dc-9504-27f9f2373eeb",
   "metadata": {},
   "outputs": [],
   "source": [
    "# compute marker genes\n",
    "sc.tl.rank_genes_groups(\n",
    "    adata, groupby=\"leiden_res1_1\", method=\"wilcoxon\", key_added=\"dea_leiden_res1_1\", use_raw=False#, layer=\"rawcounts\" # do not use raw!\n",
    ")"
   ]
  },
  {
   "cell_type": "code",
   "execution_count": null,
   "id": "3d6f66d8-b302-4c23-9d0e-43c4b3b3d384",
   "metadata": {},
   "outputs": [],
   "source": [
    "# save marker genes\n",
    "save_markers(adata, \"leiden_res1_1\", os.path.join(work_dir, \"data\", \"markers\", \"Combined\", \"Combined_plasmaB_res1_markers_25-04-24.xlsx\"))"
   ]
  },
  {
   "cell_type": "code",
   "execution_count": null,
   "id": "cb1825d3-ac50-4438-8779-af94f7bb38db",
   "metadata": {},
   "outputs": [],
   "source": [
    "sc.tl.dendrogram(adata, groupby='leiden_res1_1')"
   ]
  },
  {
   "cell_type": "code",
   "execution_count": null,
   "id": "5eb76c05-c175-436a-8380-5597ef1e5a8b",
   "metadata": {},
   "outputs": [],
   "source": [
    "# plot top 5 marker genes per cluster\n",
    "sc.pl.rank_genes_groups_dotplot(\n",
    "    adata,\n",
    "    groupby=\"leiden_res1_1\",\n",
    "    standard_scale=\"var\",\n",
    "    n_genes=5,\n",
    "    key=\"dea_leiden_res1_1\",\n",
    "    use_raw=False,\n",
    "    cmap=\"Blues\",\n",
    "    save=\"Cluster_Marker_Genes_Dotplot.png\"\n",
    ")"
   ]
  },
  {
   "cell_type": "markdown",
   "id": "edd519cf-0497-4e04-b8a3-c8c3a3ac4e15",
   "metadata": {},
   "source": [
    "### Carry Out Annotation"
   ]
  },
  {
   "cell_type": "code",
   "execution_count": null,
   "id": "eb410534-73a9-45a0-8acc-284738335f9a",
   "metadata": {},
   "outputs": [],
   "source": [
    "sc.set_figure_params(figsize=(4, 4))\n",
    "sc.pl.umap(\n",
    "    adata,\n",
    "    color=[\"leiden_res1_1\"],\n",
    "    legend_loc=\"on data\",\n",
    "    save=\"Clustering_res1_1_UMAP.png\"\n",
    ")"
   ]
  },
  {
   "cell_type": "code",
   "execution_count": null,
   "id": "766f9587-6ee1-47de-aef1-3c90acd71f86",
   "metadata": {},
   "outputs": [],
   "source": [
    "annotation = {\n",
    "    \n",
    "    \"0\":       \"\",\n",
    "    \"1\":       \"\",\n",
    "    \"2\":       \"\",\n",
    "    \"3\":       \"\",\n",
    "    \"4\":       \"Plasma\",\n",
    "    \"5\":       \"Plasma\",\n",
    "    \"6\":       \"\",\n",
    "    \"7,0\":     \"\",\n",
    "    \"7,1\":     \"\",\n",
    "    \"7,2\":     \"\",\n",
    "    \"8\":       \"\",\n",
    "    \"9\":       \"Plasma\",\n",
    "    \"10\":      \"Plasma\",\n",
    "    \"11\":      \"Plasma\",\n",
    "\n",
    "    \n",
    "        \n",
    "}\n",
    "\n",
    "adata.obs[\"Annotation_2.0\"] = adata.obs.leiden_res1_1.map(annotation)"
   ]
  },
  {
   "cell_type": "code",
   "execution_count": null,
   "id": "875b1e1e-29ab-43d3-8d93-fcada3ca54a3",
   "metadata": {},
   "outputs": [],
   "source": [
    "# remove NOISE cluster\n",
    "adata = adata[~adata.obs['Annotation_2.0'].isin([\"NOISE\"])].copy()"
   ]
  },
  {
   "cell_type": "markdown",
   "id": "84977349-5485-4e6e-925f-c0c47d2efaf5",
   "metadata": {},
   "source": [
    "### Visualize Annotation 2.0"
   ]
  },
  {
   "cell_type": "code",
   "execution_count": null,
   "id": "faff2d8a-c046-420b-b1af-14365493f47d",
   "metadata": {},
   "outputs": [],
   "source": [
    "# visualize annotation\n",
    "sc.set_figure_params(figsize=(4, 4))\n",
    "sc.pl.umap(\n",
    "    adata,\n",
    "    color=[\"Annotation_2.0\"],\n",
    "    title=[\"Annotation 2.0\"],\n",
    "    frameon=True,\n",
    "    cmap=\"tab20\",\n",
    "    save=\"Annotation_2.0_UMAP.png\"\n",
    ")"
   ]
  },
  {
   "cell_type": "code",
   "execution_count": null,
   "id": "98d62a7a-64c3-4416-973f-10cd73715ae8",
   "metadata": {},
   "outputs": [],
   "source": [
    "# dotplot of marker genes\n",
    "sc.pl.dotplot(\n",
    "    adata,\n",
    "    groupby=\"Annotation_2.0\",\n",
    "    var_names=marker_genes_dict,\n",
    "    standard_scale=\"var\", \n",
    "    use_raw=False,\n",
    "    cmap=\"Blues\",\n",
    "    save=\"Annotation_2.0_Dotplot.png\"\n",
    ")"
   ]
  },
  {
   "cell_type": "code",
   "execution_count": null,
   "id": "1bd49551-2c3d-4e27-8f24-8cee7b38d015",
   "metadata": {},
   "outputs": [],
   "source": [
    "sc.pl.matrixplot(\n",
    "    adata,\n",
    "    groupby=\"Annotation_2.0\",\n",
    "    var_names=marker_genes_dict,\n",
    "    standard_scale=\"var\", \n",
    "    use_raw=False,\n",
    "    cmap=\"Blues\",\n",
    "    save=\"Annotation_2.0_Matrixplot.png\"\n",
    ")\n",
    "#plt.savefig(os.path.join(fig_dir,\"Annotation_2.0_Matrixplot.png\"), dpi=600, format=\"png\", bbox_inches=\"tight\")"
   ]
  },
  {
   "cell_type": "code",
   "execution_count": null,
   "id": "765ec9e6-56db-486a-999a-8d053ce09192",
   "metadata": {},
   "outputs": [],
   "source": [
    "sc.pl.stacked_violin(\n",
    "    adata,\n",
    "    groupby=\"Annotation_2.0\",\n",
    "    var_names=marker_genes_dict,\n",
    "    standard_scale=\"var\", \n",
    "    use_raw=False,\n",
    "    cmap=\"Blues\",\n",
    "    save=\"Annotation_2.0_Stacked_Violin.png\"\n",
    ")"
   ]
  },
  {
   "cell_type": "code",
   "execution_count": null,
   "id": "124f93aa-732d-4944-b73c-3dc5183fd6df",
   "metadata": {},
   "outputs": [],
   "source": [
    "# correlation matrix\n",
    "sc.pl.correlation_matrix(adata, \"Annotation_2.0\", save=\"Annotation_2.0_Correlation_Matrix.png\")"
   ]
  },
  {
   "cell_type": "markdown",
   "id": "03e56b38-134a-4ad3-a565-127f50dc3b31",
   "metadata": {},
   "source": [
    "### Save Annotated Anndata Object"
   ]
  },
  {
   "cell_type": "code",
   "execution_count": null,
   "id": "7f514a93-9eaa-4701-832c-23af0fe59bd6",
   "metadata": {},
   "outputs": [],
   "source": [
    "# save it\n",
    "adata.write(os.path.join(work_dir, \"data\", \"outputdata\", \"combined\", \"Combined_SCR_CO2_plasmaB_annotated_25-04-24.h5ad\"))"
   ]
  },
  {
   "cell_type": "code",
   "execution_count": null,
   "id": "bed6954a-97f4-4e1a-a697-dc8d34ca5c81",
   "metadata": {},
   "outputs": [],
   "source": [
    "# read annotated object\n",
    "adata = sc.read_h5ad(os.path.join(work_dir, \"data\", \"outputdata\", \"combined\", \"Combined_SCR_CO2_plasmaB_annotated_25-04-24.h5ad\"))"
   ]
  }
 ],
 "metadata": {
  "kernelspec": {
   "display_name": "Python 3 (ipykernel)",
   "language": "python",
   "name": "python3"
  },
  "language_info": {
   "codemirror_mode": {
    "name": "ipython",
    "version": 3
   },
   "file_extension": ".py",
   "mimetype": "text/x-python",
   "name": "python",
   "nbconvert_exporter": "python",
   "pygments_lexer": "ipython3",
   "version": "3.9.18"
  }
 },
 "nbformat": 4,
 "nbformat_minor": 5
}
