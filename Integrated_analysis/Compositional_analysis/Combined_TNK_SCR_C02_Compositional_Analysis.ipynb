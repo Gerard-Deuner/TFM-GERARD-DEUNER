{
 "cells": [
  {
   "cell_type": "markdown",
   "id": "56d110a8-248c-4867-b327-051217b244a2",
   "metadata": {
    "execution": {
     "iopub.execute_input": "2024-03-22T15:40:12.013621Z",
     "iopub.status.busy": "2024-03-22T15:40:12.012831Z",
     "iopub.status.idle": "2024-03-22T15:40:12.016811Z",
     "shell.execute_reply": "2024-03-22T15:40:12.016381Z",
     "shell.execute_reply.started": "2024-03-22T15:40:12.013564Z"
    }
   },
   "source": [
    "# Compositional Analysis - Timepoint Comparison"
   ]
  },
  {
   "cell_type": "markdown",
   "id": "f7429b27-4ea9-4870-a5da-9e56ceac9618",
   "metadata": {},
   "source": [
    "### Environment Set Up"
   ]
  },
  {
   "cell_type": "code",
   "execution_count": null,
   "id": "1a2c6d5e-8f09-478a-98ca-019399c2f98a",
   "metadata": {},
   "outputs": [],
   "source": [
    "# load libraries\n",
    "import warnings\n",
    "import matplotlib.pyplot as plt\n",
    "import mudata as mu\n",
    "import pertpy as pt\n",
    "import scanpy as sc\n",
    "import numpy as np\n",
    "import pandas as pd\n",
    "import seaborn as sns\n",
    "import os\n",
    "from statannot import add_stat_annotation"
   ]
  },
  {
   "cell_type": "code",
   "execution_count": null,
   "id": "4b69b427-3fe3-4dce-90e2-d5fe8bad8578",
   "metadata": {},
   "outputs": [],
   "source": [
    "# set up figure parameters\n",
    "plt.rcParams['figure.figsize'] = (6, 4)\n",
    "sc.settings.verbosity = 0\n",
    "sc.settings.set_figure_params(\n",
    "    figsize=(4,4),\n",
    "    dpi=300,\n",
    "    facecolor=\"white\",\n",
    "    frameon=False,\n",
    ")"
   ]
  },
  {
   "cell_type": "code",
   "execution_count": null,
   "id": "97ebfa4f-e274-4411-9988-73ed24d06747",
   "metadata": {},
   "outputs": [],
   "source": [
    "# remove warnings\n",
    "import warnings\n",
    "warnings.filterwarnings('ignore')"
   ]
  },
  {
   "cell_type": "code",
   "execution_count": null,
   "id": "1351a6f2-8897-4cec-bcce-257be2043bf6",
   "metadata": {},
   "outputs": [],
   "source": [
    "# set up dirs\n",
    "work_dir = \"/scratch_isilon/groups/singlecell/gdeuner/SERPENTINE/\"\n",
    "fig_dir = os.path.join(work_dir, \"figures\", \"combined\", \"TNK\", \"compositional_analysis\", \"timepoint\")\n",
    "sc.settings.figdir = os.path.join(work_dir, \"figures\", \"combined\", \"TNK\", \"compositional_analysis\", \"timepoint\")"
   ]
  },
  {
   "cell_type": "code",
   "execution_count": null,
   "id": "884ac9fa-cc47-413b-a37b-bd5a2e239f33",
   "metadata": {},
   "outputs": [],
   "source": [
    "# read anndata object\n",
    "adata = sc.read_h5ad(os.path.join(work_dir, \"data\", \"outputdata\", \"combined\", \"Combined_SCR_CO2_TNK_annotated_13-04-24.h5ad\"))"
   ]
  },
  {
   "cell_type": "code",
   "execution_count": null,
   "id": "592825ea-2e48-4881-aeb0-68701242151b",
   "metadata": {},
   "outputs": [],
   "source": [
    "# create condition variable\n",
    "adata"
   ]
  },
  {
   "cell_type": "markdown",
   "id": "b032ab9b-477c-45cd-b2af-4586d2ab02bd",
   "metadata": {},
   "source": [
    "## Model Setup & Inference"
   ]
  },
  {
   "cell_type": "code",
   "execution_count": null,
   "id": "b460f484-3eee-416b-9180-3e96c25b43db",
   "metadata": {},
   "outputs": [],
   "source": [
    "# initiate scCODA model\n",
    "sccoda_model = pt.tl.Sccoda()\n",
    "sccoda_data = sccoda_model.load(\n",
    "    adata,\n",
    "    type=\"cell_level\",\n",
    "    generate_sample_level=True,\n",
    "    cell_type_identifier=\"Annotation_2.0\",\n",
    "    sample_identifier=\"sample\",\n",
    "    covariate_obs=[\"subproject\", \"patient\", \"timepoint\", \"response\", \"ICI_status\", \"Condition\"],\n",
    "        \n",
    ")\n",
    "print(sccoda_data)\n",
    "print(sccoda_data[\"coda\"].X)\n",
    "print(sccoda_data[\"coda\"].obs)"
   ]
  },
  {
   "cell_type": "code",
   "execution_count": null,
   "id": "b82bcd88-af4d-4a1c-9b70-dada77c71840",
   "metadata": {},
   "outputs": [],
   "source": [
    "pt.pl.coda.boxplots(sccoda_data, \n",
    "                    modality_key=\"coda\", \n",
    "                    feature_name=\"timepoint\", \n",
    "                    add_dots=True,\n",
    "                    #figsize=[6,6],\n",
    "                    level_order=[\"SCR\", \"C02\"],\n",
    "                    cmap=[\"coral\",\"darkviolet\"]\n",
    "                   )\n",
    "plt.show()"
   ]
  },
  {
   "cell_type": "code",
   "execution_count": null,
   "id": "734d8648-7691-4b21-9345-d706e740003f",
   "metadata": {},
   "outputs": [],
   "source": [
    "# prepare the model\n",
    "sccoda_data = sccoda_model.prepare(\n",
    "    sccoda_data,\n",
    "    modality_key=\"coda\",\n",
    "    formula=\"Condition\", #condition = timepoint\n",
    "    reference_cell_type=\"automatic\",\n",
    ")\n",
    "sccoda_data[\"coda\"]"
   ]
  },
  {
   "cell_type": "code",
   "execution_count": null,
   "id": "fd543864-9c82-4bba-b8d7-0f2dd8e27a50",
   "metadata": {},
   "outputs": [],
   "source": [
    "# run MCMC\n",
    "sccoda_model.run_nuts(sccoda_data, modality_key=\"coda\")\n",
    "sccoda_data[\"coda\"]"
   ]
  },
  {
   "cell_type": "markdown",
   "id": "9d41b4f7-8d0b-4b7b-be75-b650c7b24454",
   "metadata": {},
   "source": [
    "## Result Intepretation"
   ]
  },
  {
   "cell_type": "code",
   "execution_count": null,
   "id": "d504eabf-deec-4c76-a2f9-c013203e98f4",
   "metadata": {},
   "outputs": [],
   "source": [
    "# see most relevant information\n",
    "sccoda_model.summary(sccoda_data, modality_key=\"coda\")"
   ]
  },
  {
   "cell_type": "code",
   "execution_count": null,
   "id": "a05758f0-e7b2-4d26-a5a2-c07f57024165",
   "metadata": {},
   "outputs": [],
   "source": [
    "sccoda_model.credible_effects(sccoda_data, modality_key=\"coda\")"
   ]
  },
  {
   "cell_type": "markdown",
   "id": "956b4cb2-3f70-4016-a54b-69ecdd511e77",
   "metadata": {},
   "source": [
    "### Adjust FDR"
   ]
  },
  {
   "cell_type": "code",
   "execution_count": null,
   "id": "07d93b30-c6fc-471e-a553-0613a2010790",
   "metadata": {},
   "outputs": [],
   "source": [
    "sccoda_model.set_fdr(sccoda_data, modality_key=\"coda\", est_fdr=0.2)\n",
    "sccoda_model.summary(sccoda_data, modality_key=\"coda\")"
   ]
  },
  {
   "cell_type": "markdown",
   "id": "3cb8d642-8a05-4d9d-b386-a43e5b278df9",
   "metadata": {},
   "source": [
    "## Save Results"
   ]
  },
  {
   "cell_type": "code",
   "execution_count": null,
   "id": "dc061aea-a3ef-4c71-a311-aac640421dcc",
   "metadata": {},
   "outputs": [],
   "source": [
    "#sccoda_data.write_h5mu(os.path.join(work_dir, \"data\", \"outputdata\", \"combined\", \"TNK_Combined_SCR_CO2_immune_scCODA_15-04-24.h5mu\"))"
   ]
  },
  {
   "cell_type": "code",
   "execution_count": null,
   "id": "0c11b18d-c93b-4cd6-8b63-82a192430a8b",
   "metadata": {},
   "outputs": [],
   "source": [
    "test_model = pt.tl.Sccoda()\n",
    "test_model.get_intercept_df(sccoda_data, modality_key=\"coda\")"
   ]
  },
  {
   "cell_type": "code",
   "execution_count": null,
   "id": "99ba9206-928b-40fe-988f-a85b7737722e",
   "metadata": {},
   "outputs": [],
   "source": [
    "test_model.get_intercept_df(sccoda_data, modality_key=\"coda\")"
   ]
  },
  {
   "cell_type": "code",
   "execution_count": null,
   "id": "488f00d6-4b20-4076-b6b1-c101aef5c601",
   "metadata": {},
   "outputs": [],
   "source": [
    "effect = test_model.get_effect_df(sccoda_data, modality_key=\"coda\")\n",
    "effect"
   ]
  },
  {
   "cell_type": "code",
   "execution_count": null,
   "id": "177c6efe-03fa-4b67-8997-c2920e1b99c2",
   "metadata": {},
   "outputs": [],
   "source": [
    "sccoda_data[\"coda\"].varm[\"intercept_df\"]"
   ]
  },
  {
   "cell_type": "markdown",
   "id": "f9fe73f0-1c14-416a-9175-071b944c4ddb",
   "metadata": {},
   "source": [
    "## Visualization"
   ]
  },
  {
   "cell_type": "code",
   "execution_count": null,
   "id": "1d3aa8f9-b846-461d-9fc4-3fdafdd12404",
   "metadata": {},
   "outputs": [],
   "source": [
    "# proportion\n",
    "props = round(sccoda_data['coda'].var.n_cells / sccoda_data['coda'].var.n_cells.sum(), 3)\n",
    "props"
   ]
  },
  {
   "cell_type": "code",
   "execution_count": null,
   "id": "a9ccb319-9295-42bc-84e3-803016ccfe88",
   "metadata": {},
   "outputs": [],
   "source": [
    "tab20c = plt.get_cmap('tab20c')\n",
    "palette = [tab20c(i) for i in range(tab20c.N)]\n",
    "\n",
    "plt.figure(figsize=(6,.5), dpi=120)\n",
    "\n",
    "cf=props.cumsum()\n",
    "\n",
    "#plt.barh(0, props[0], edgecolor=\"white\")\n",
    "\n",
    "#for i in range(1, len(props)):\n",
    "#    plt.barh(0, props[i], bottom=cf[i-1], edgecolor=\"white\", color=palette[i])\n",
    "\n",
    "plt.barh(0, props[0], edgecolor=\"white\", height=0.01)\n",
    "\n",
    "for i in range(1, len(props)):\n",
    "    plt.barh(0, props[i], left=cf[i-1], edgecolor=\"white\", height=0.01, color=palette[i])\n",
    "\n",
    "# Remove y-axis ticks and labels\n",
    "plt.gca().axes.get_yaxis().set_visible(False)\n",
    "\n",
    "# Set x-axis label and title\n",
    "plt.xlabel('Proportion')\n",
    "# Move the x-axis label and title below the plot\n",
    "plt.gca().xaxis.set_label_coords(0.5, -1)\n",
    "plt.gca().title.set_position([0.5, -0.2])\n",
    "plt.xticks(fontsize=11)\n",
    "\n",
    "#plt.ylabel('proportion')\n",
    "#frame1=plt.gca()\n",
    "#frame1.axes.get_xaxis().set_visible(False)\n",
    "plt.xlim(0, 1.0)\n",
    "\n",
    "plt.savefig(\"/scratch_isilon/groups/singlecell/gdeuner/SERPENTINE/figures/combined/TNK/compositional_analysis/barplot_all_celltypes.pdf\", dpi=600, format=\"pdf\", bbox_inches=\"tight\")\n",
    "plt.savefig(\"/scratch_isilon/groups/singlecell/gdeuner/SERPENTINE/figures/ISCO24_poster/Fig2/barplot_all_celltypes.pdf\", dpi=600, format=\"pdf\", bbox_inches=\"tight\")\n",
    "plt.show()"
   ]
  },
  {
   "cell_type": "code",
   "execution_count": null,
   "id": "38113281-40e8-490f-9262-48574a769b17",
   "metadata": {},
   "outputs": [],
   "source": [
    "import matplotlib.colors as mcolors\n",
    "\n",
    "tab20c = plt.get_cmap('tab20c')\n",
    "palette = [tab20c(i) for i in range(tab20c.N)]\n",
    "print(palette)\n",
    "hex_colors = [mcolors.to_hex((r, g, b)) for r, g, b, a in palette]\n",
    "print(hex_colors)"
   ]
  },
  {
   "cell_type": "code",
   "execution_count": null,
   "id": "3527c568-47cc-4a0e-9033-420408297309",
   "metadata": {},
   "outputs": [],
   "source": [
    "plt.figure(figsize=(.5, 6), dpi=120)\n",
    "\n",
    "cf = np.cumsum(props)\n",
    "\n",
    "# Plot the first bar segment\n",
    "plt.bar(0, props[0], edgecolor=\"white\", width=0.01)\n",
    "\n",
    "# Plot the subsequent bar segments on top of each other\n",
    "for i in range(1, len(props)):\n",
    "    plt.bar(0, props[i], bottom=cf[i-1], edgecolor=\"white\", width=0.01)\n",
    "\n",
    "# Remove y-axis ticks and labels\n",
    "plt.gca().axes.get_yaxis().set_visible(True)\n",
    "plt.gca().axes.get_xaxis().set_visible(False)\n",
    "# Set x-axis label and title\n",
    "plt.xlabel('Proportion')\n",
    "plt.yticks(fontsize=10)\n",
    "\n",
    "# Save the figure\n",
    "plt.savefig(\"/scratch_isilon/groups/singlecell/gdeuner/SERPENTINE/figures/combined/TNK/compositional_analysis/barplot_all_celltypes.png\", dpi=600, format=\"png\", bbox_inches=\"tight\")\n",
    "plt.savefig(\"/scratch_isilon/groups/singlecell/gdeuner/SERPENTINE/figures/ISCO24_poster/Fig2/barplot_all_celltypes.png\", dpi=600, format=\"png\", bbox_inches=\"tight\")\n",
    "\n",
    "plt.show()"
   ]
  },
  {
   "cell_type": "code",
   "execution_count": null,
   "id": "e5b4fa28-faf9-48c7-a9e6-575d00726818",
   "metadata": {},
   "outputs": [],
   "source": [
    "# visualize effects (significant changes in cell type composition)\n",
    "plot=pt.pl.coda.effects_barplot(sccoda_data, \n",
    "                           modality_key=\"coda\", \n",
    "                           #parameter=\"timepoint\",\n",
    "                           #figsize=[3,3],\n",
    "                           dpi=300)\n",
    "plt.xticks(fontsize=8) \n",
    "plt.yticks(fontsize=10)  \n",
    "plt.savefig(os.path.join(work_dir, \"figures\", \"TFM\", \"Fig2\", \"TNK_Comp_Significant_Log2FC_timepoint_all.pdf\"), dpi=300, format=\"pdf\", bbox_inches=\"tight\")"
   ]
  },
  {
   "cell_type": "code",
   "execution_count": null,
   "id": "eab8149b-29bd-43ce-86c7-c90f259b18a3",
   "metadata": {},
   "outputs": [],
   "source": [
    "# define cell types that have an effect\n",
    "effect_cell_types = [\"CD4 T Central Memory\", \"CD4 T Follicular Helper\", \"CD8 T TRM PreExhausted\"]"
   ]
  },
  {
   "cell_type": "code",
   "execution_count": null,
   "id": "e3ddcc05-d73e-4f31-bced-2d8b874498bc",
   "metadata": {},
   "outputs": [],
   "source": [
    "sccoda_data['coda'].var"
   ]
  },
  {
   "cell_type": "code",
   "execution_count": null,
   "id": "a33e7a0e-e5dc-4123-8d25-33a006d9acb9",
   "metadata": {},
   "outputs": [],
   "source": [
    "# some booxplot arguments to customize the plot\n",
    "boxprops = dict(linestyle='-', linewidth=1, edgecolor='black')\n",
    "flierprops = dict(marker='o', markerfacecolor='none', #markersize=12,\n",
    "                  markeredgecolor='black')\n",
    "medianprops = dict(linestyle='-', linewidth=.8, color='black')\n",
    "#meanpointprops = dict(marker='D', markeredgecolor='black',markerfacecolor='black')\n",
    "meanlineprops = dict(linestyle='--', linewidth=.8, color='black')\n"
   ]
  },
  {
   "cell_type": "code",
   "execution_count": null,
   "id": "6d5b917d-269c-4dfc-9e71-978962289e7e",
   "metadata": {},
   "outputs": [],
   "source": [
    "# define cell types for plotting\n",
    "cell_types = sccoda_data['coda'].var_names.tolist()\n",
    "print(cell_types)"
   ]
  },
  {
   "cell_type": "code",
   "execution_count": null,
   "id": "12b9468c-656c-4618-8b56-ef663c0b6212",
   "metadata": {},
   "outputs": [],
   "source": [
    "# create df for plotting\n",
    "feature_name=[\"Condition\", \"response\", \"patient\"]\n",
    "data=sccoda_data['coda']\n",
    "\n",
    "sample_sums = np.sum(data.X, axis=1, keepdims=True)\n",
    "X = data.X/sample_sums\n",
    "value_name = \"Proportion\"\n",
    "\n",
    "count_df = pd.DataFrame(X, columns=data.var.index, index=data.obs.index).\\\n",
    "        merge(data.obs[feature_name], left_index=True, right_index=True)\n",
    "plot_df = pd.melt(count_df, id_vars=feature_name, var_name=\"Cell type\", value_name=value_name)\n",
    "if cell_types is not None:\n",
    "    plot_df = plot_df[plot_df[\"Cell type\"].isin(cell_types)]"
   ]
  },
  {
   "cell_type": "code",
   "execution_count": null,
   "id": "3ddfc11c-0f55-49a4-a1f4-1bb69ae7e017",
   "metadata": {},
   "outputs": [],
   "source": [
    "plot_df"
   ]
  },
  {
   "cell_type": "code",
   "execution_count": null,
   "id": "793c35a3-0591-4ba1-813d-a04608aebce3",
   "metadata": {},
   "outputs": [],
   "source": [
    "# some booxplot arguments to customize the plot\n",
    "import seaborn\n",
    "boxprops = dict(linestyle='-', linewidth=1, edgecolor='black')\n",
    "flierprops = dict(marker='o', markerfacecolor='black', #markersize=12,\n",
    "                  markeredgecolor='none')\n",
    "medianprops = dict(linestyle='-', linewidth=.8, color='black')\n",
    "#meanpointprops = dict(marker='D', markeredgecolor='black',markerfacecolor='black')\n",
    "meanlineprops = dict(linestyle='--', linewidth=.8, color='black')\n",
    "\n",
    "\n",
    "import seaborn as sns\n",
    "plt.rcParams.update({'font.size': 13})\n",
    "seaborn.set_style(style='white') \n",
    "\n",
    "#custom_order = ['CD4 T', 'CD8 T', 'NK', 'Myeloid', 'pDC', 'Plasma', 'B Cell']\n",
    "\n",
    "\n",
    "fig, ax = plt.subplots(figsize=(7,5), dpi=120)\n",
    "\n",
    "ax = sns.boxplot(\n",
    "    x=\"Cell type\", \n",
    "    y=\"Proportion\", \n",
    "    data=plot_df,\n",
    "    hue=\"Condition\", \n",
    "    #liersize=1,\n",
    "    palette=[\"coral\",\"darkviolet\"], \n",
    "    #order=custom_order,\n",
    "    ax=ax,\n",
    "    vert=True, \n",
    "    legend=False,\n",
    "    patch_artist=True, \n",
    "    meanline=True, \n",
    "    showmeans=True,\n",
    "    showfliers=False,\n",
    "    boxprops=boxprops,\n",
    "    #flierprops=flierprops,\n",
    "    medianprops=medianprops,\n",
    "    meanprops=meanlineprops\n",
    ")\n",
    "\n",
    "'''\n",
    "sns.stripplot(\n",
    "    x=\"Cell type\", \n",
    "    y=\"Proportion\", \n",
    "    data=plot_df, \n",
    "    #style=\"Patient\",\n",
    "    hue=\"Condition\",  # Color by \"patient\" variable\n",
    "    palette=[\"coral\",\"darkviolet\"],  # Choose a color palette\n",
    "    dodge=True,  # Separate dots for each level of \"patient\n",
    "    #order=custom_order,\n",
    "    #jitter=False\n",
    "    ax=ax,\n",
    "    size=5,\n",
    "    edgecolor=\"black\",\n",
    "    linewidth=.5,\n",
    "    alpha=1,\n",
    ")\n",
    "'''\n",
    "plt.ylim(0, 0.3)\n",
    "\n",
    "#ax.set_xticks([])\n",
    "ax.set_xlabel('Cell type')\n",
    "plt.yticks(fontsize = 10, ) \n",
    "plt.xticks(fontsize = 11, rotation = 90) \n",
    "\n",
    "handles, labels = ax.get_legend_handles_labels()\n",
    "#ax.legend(handles[:2], labels[:2], title='Timepoint', bbox_to_anchor=(1, 1))\n",
    "\n",
    "#legend = plt.legend(loc='right', bbox_to_anchor=(1.8, .5), ncol=1, title=\"Patient\", frameon=True)\n",
    "plt.tight_layout()\n",
    "        \n",
    "plt.savefig(os.path.join(work_dir, \"figures\", \"TFM\", \"Fig2\", \"Boxplots_cell_type_tiempoints_comparison.pdf\"), dpi=600, format=\"pdf\", bbox_inches=\"tight\")\n"
   ]
  },
  {
   "cell_type": "code",
   "execution_count": null,
   "id": "877d8399-a26e-4931-87fc-663d180f61e8",
   "metadata": {},
   "outputs": [],
   "source": [
    "# plot for Poster/Thesis figures\n",
    "# overview of cell type distribution across patients\n",
    "for cell_type in cell_types:\n",
    "\n",
    "    if cell_type in effect_cell_types:\n",
    "        \n",
    "        \n",
    "        fig, ax = plt.subplots(figsize=(2,2), dpi=120)\n",
    "    \n",
    "        sns.boxplot(\n",
    "            x=\"patient\", \n",
    "            y=\"Proportion\", \n",
    "            data=plot_df[plot_df[\"Cell type\"] == cell_type],\n",
    "            hue=\"patient\", \n",
    "            #liersize=1,\n",
    "            palette=\"Spectral\", \n",
    "            #order=[\"T0/-ICI\",\"T1/+ICI\"],\n",
    "            ax=ax,\n",
    "            vert=True, \n",
    "            patch_artist=True, \n",
    "            meanline=True, \n",
    "            showmeans=True,\n",
    "            showfliers=False,\n",
    "            boxprops=boxprops,\n",
    "            #flierprops=flierprops,\n",
    "            medianprops=medianprops,\n",
    "            meanprops=meanlineprops\n",
    "        )\n",
    "            \n",
    "        \n",
    "        sns.swarmplot(\n",
    "            x=\"patient\", \n",
    "            y=\"Proportion\", \n",
    "            data=plot_df[plot_df[\"Cell type\"] == cell_type], \n",
    "            hue=\"Condition\",  # Color by \"patient\" variable\n",
    "            palette=[\"coral\", \"darkviolet\"],  # Choose a color palette\n",
    "            dodge=False,  # Separate dots for each level of \"patient\n",
    "            #jitter=False\n",
    "            ax=ax,\n",
    "            size=4,\n",
    "            edgecolor=\"black\",\n",
    "            linewidth=.5,\n",
    "            alpha=1\n",
    "        )\n",
    "    \n",
    "        #ax.set_xticks([])\n",
    "        plt.title(cell_type, fontweight=\"bold\", pad=20)\n",
    "        plt.xlabel('Patient', labelpad=10)\n",
    "        plt.ylabel('Proportion', labelpad=10)\n",
    "        plt.yticks(fontsize = 10) \n",
    "        plt.xticks(fontsize = 10) \n",
    "        #plt.set_xticks([0,1,2,3,4], [\"PD_01\", \"PD_02\", \"PD_03\", \"SD_01\", \"PD_04\"], ha=\"center\", rotation=30)\n",
    "\n",
    "        \n",
    "        legend = plt.legend(loc='right', bbox_to_anchor=(1.8, .5), ncol=1, title=\"Condition\", frameon=True, \n",
    "                           labels=[\"PD_01\", \"PD_02\", \"PD_03\", \"SD_01\", \"PD_04\"])\n",
    "        plt.setp(legend.get_title(),fontsize='12')\n",
    "        plt.tight_layout()\n",
    "\n",
    "        \n",
    "        plt.savefig(os.path.join(\"/scratch_isilon/groups/singlecell/gdeuner/SERPENTINE/figures/ISCO24_poster/Fig2\", \"TNK_Comp_\"+cell_type+\"_boxplot_by_patient.png\"), dpi=600, format=\"png\", bbox_inches=\"tight\")"
   ]
  },
  {
   "cell_type": "code",
   "execution_count": null,
   "id": "aa6c552b-29b2-454e-9772-64fae9ceb749",
   "metadata": {},
   "outputs": [],
   "source": [
    "# overview of cell type distribution across patients\n",
    "for cell_type in cell_types:\n",
    "\n",
    "    if cell_type in effect_cell_types:\n",
    "        significance = \"*\"\n",
    "    else:\n",
    "        significance = \"ns\"\n",
    "    \n",
    "    fig, ax = plt.subplots(figsize=(2,2), dpi=120)\n",
    "\n",
    "    sns.boxplot(\n",
    "        x=\"patient\", \n",
    "        y=\"Proportion\", \n",
    "        data=plot_df[plot_df[\"Cell type\"] == cell_type],\n",
    "        hue=\"patient\", \n",
    "        #liersize=1,\n",
    "        palette=\"Spectral\", \n",
    "        #order=[\"T0/-ICI\",\"T1/+ICI\"],\n",
    "        ax=ax,\n",
    "        vert=True, \n",
    "        patch_artist=True, \n",
    "        meanline=True, \n",
    "        showmeans=True,\n",
    "        showfliers=False,\n",
    "        boxprops=boxprops,\n",
    "        #flierprops=flierprops,\n",
    "        medianprops=medianprops,\n",
    "        meanprops=meanlineprops\n",
    "    )\n",
    "        \n",
    "    \n",
    "    sns.swarmplot(\n",
    "        x=\"patient\", \n",
    "        y=\"Proportion\", \n",
    "        data=plot_df[plot_df[\"Cell type\"] == cell_type], \n",
    "        hue=\"Condition\",  # Color by \"patient\" variable\n",
    "        palette=[\"coral\", \"darkviolet\"],  # Choose a color palette\n",
    "        dodge=False,  # Separate dots for each level of \"patient\n",
    "        #jitter=False\n",
    "        ax=ax,\n",
    "        size=4,\n",
    "        edgecolor=\"black\",\n",
    "        linewidth=.5,\n",
    "        alpha=1\n",
    "    )\n",
    "\n",
    "    #ax.set_xticks([])\n",
    "    ax.set_title(cell_type+\" - \"+significance)\n",
    "    ax.set_xlabel('Patient')\n",
    "    plt.yticks(fontsize = 10) \n",
    "    plt.xticks(fontsize = 10) \n",
    "    \n",
    "    legend = plt.legend(loc='right', bbox_to_anchor=(1.8, .5), ncol=1, title=\"Condition\", frameon=True)\n",
    "    plt.setp(legend.get_title(),fontsize='12')\n",
    "    plt.tight_layout()\n",
    "      \n",
    "    if cell_type == \"CD4 T CM/EarlyActivated\":\n",
    "        cell_type = \"CD4 T CM-EarlyActivated\" \n",
    "    \n",
    "    plt.savefig(os.path.join(fig_dir, \"TNK_Comp_\"+cell_type+\"_boxplot_by_patient.png\"), dpi=600, format=\"png\", bbox_inches=\"tight\")"
   ]
  },
  {
   "cell_type": "code",
   "execution_count": null,
   "id": "51b644e8-262d-4f91-a9f9-366631b13023",
   "metadata": {},
   "outputs": [],
   "source": [
    "plot = pt.pl.coda.boxplots(\n",
    "        sccoda_data,\n",
    "        modality_key=\"coda\",\n",
    "        feature_name=\"patient\",\n",
    "        figsize=(8,4),\n",
    "        add_dots=False,\n",
    "        plot_facets=False, \n",
    "        args_boxplot={\"vert\":True, \n",
    "                    \"patch_artist\":True, \n",
    "                    \"meanline\":True, \n",
    "                    \"showmeans\":True,\n",
    "                    \"boxprops\":boxprops,\n",
    "                    \"flierprops\":flierprops,\n",
    "                    \"medianprops\":medianprops,\n",
    "                    \"meanprops\":meanlineprops,\n",
    "                    },\n",
    "        cmap=\"Spectral\"\n",
    "        )\n",
    "plt.xticks(fontsize=10)\n",
    "plt.savefig(os.path.join(fig_dir, \"Comp_all_boxplot_by_patient.png\"), dpi=600, format=\"png\", bbox_inches=\"tight\")"
   ]
  },
  {
   "cell_type": "code",
   "execution_count": null,
   "id": "09347852-d172-44cd-9faa-64bfeeef86a0",
   "metadata": {},
   "outputs": [],
   "source": [
    "effect[\"Final Parameter\"]"
   ]
  },
  {
   "cell_type": "code",
   "execution_count": null,
   "id": "ac91f296-2047-48d3-bcb6-81d204f2aae2",
   "metadata": {},
   "outputs": [],
   "source": [
    "# overview of cell type distribution across timepoints\n",
    "\n",
    "plt.rcParams.update({'font.size': 13})\n",
    "\n",
    "for cell_type in cell_types:\n",
    "\n",
    "    if cell_type in effect_cell_types:\n",
    "        significance = \"*\"\n",
    "    else:\n",
    "        significance = \"ns\"\n",
    "    \n",
    "    fig, ax = plt.subplots(figsize=(2,2), dpi=120)\n",
    "    \n",
    "    sns.boxplot(\n",
    "        x=\"Condition\", \n",
    "        y=\"Proportion\", \n",
    "        data=plot_df[plot_df[\"Cell type\"] == cell_type],\n",
    "        hue=\"Condition\", \n",
    "        #liersize=1,\n",
    "        palette=[\"coral\",\"darkviolet\"], \n",
    "        order=[\"T0/-ICI\",\"T1/+ICI\"],\n",
    "        ax=ax,\n",
    "        vert=True, \n",
    "        patch_artist=True, \n",
    "        meanline=True, \n",
    "        showmeans=True,\n",
    "        showfliers=False,\n",
    "        boxprops=boxprops,\n",
    "        #flierprops=flierprops,\n",
    "        medianprops=medianprops,\n",
    "        meanprops=meanlineprops\n",
    "    )\n",
    "        \n",
    "    \n",
    "    sns.swarmplot(\n",
    "        x=\"Condition\", \n",
    "        y=\"Proportion\", \n",
    "        data=plot_df[plot_df[\"Cell type\"] == cell_type], \n",
    "        hue=\"patient\",  # Color by \"patient\" variable\n",
    "        palette=\"Spectral\",  # Choose a color palette\n",
    "        dodge=False,  # Separate dots for each level of \"patient\n",
    "        #jitter=False\n",
    "        ax=ax,\n",
    "        size=5,\n",
    "        edgecolor=\"black\",\n",
    "        linewidth=.5,\n",
    "        alpha=1\n",
    "    )\n",
    "\n",
    "    #ax.set_xticks([])\n",
    "    ax.set_title(cell_type+\" - \"+significance)\n",
    "    ax.set_xlabel('ICI Response')\n",
    "    plt.yticks(fontsize = 10) \n",
    "    plt.xticks(fontsize = 10) \n",
    "    \n",
    "    legend = plt.legend(loc='right', bbox_to_anchor=(1.8, .5), ncol=1, title=\"Patient\", frameon=True)\n",
    "    plt.setp(legend.get_title(),fontsize='12')\n",
    "    plt.tight_layout()\n",
    "    \n",
    "    if cell_type == \"CD4 T CM/EarlyActivated\":\n",
    "        cell_type = \"CD4 T CM-EarlyActivated\"\n",
    "\n",
    "        \n",
    "    plt.savefig(os.path.join(fig_dir, \"TNK_Comp_\"+cell_type+\"_boxplot_by_condition.png\"), dpi=600, format=\"png\", bbox_inches=\"tight\")\n"
   ]
  },
  {
   "cell_type": "code",
   "execution_count": null,
   "id": "ccdd4c69-6f0c-492a-9098-667710abd886",
   "metadata": {},
   "outputs": [],
   "source": [
    "# create new_patient column in plot_df\n",
    "patient_mapping = {\n",
    "    '01': 'PD_01',\n",
    "    '02': 'PD_02',\n",
    "    '03': 'PD_03',\n",
    "    '08': 'SD_01',\n",
    "    '10': 'PD_04'\n",
    "}\n",
    "plot_df['new_patient'] = plot_df['patient'].map(patient_mapping)\n",
    "print(plot_df)"
   ]
  },
  {
   "cell_type": "code",
   "execution_count": null,
   "id": "84feee68-c616-4832-a132-ef171e3e170c",
   "metadata": {},
   "outputs": [],
   "source": [
    "# plots for Poster/Thesis Figures\n",
    "# overview of cell type distribution across timepoints\n",
    "boxprops = dict(linestyle='-', linewidth=1, edgecolor='black', alpha=0.7)\n",
    "plt.rcParams.update({'font.size': 13})\n",
    "sns.set_style(rc = {'axes.facecolor': 'white'})\n",
    "\n",
    "#effect_cell_types.append(\"CD56hi CD16lo NK\")\n",
    "\n",
    "for cell_type in cell_types:\n",
    "\n",
    "    #if cell_type in effect_cell_types:\n",
    "    if 1 == True:\n",
    "    \n",
    "        fig, ax = plt.subplots(figsize=(2,2), dpi=120)\n",
    "        \n",
    "        sns.boxplot(\n",
    "            x=\"Condition\", \n",
    "            y=\"Proportion\", \n",
    "            data=plot_df[plot_df[\"Cell type\"] == cell_type],\n",
    "            hue=\"Condition\", \n",
    "            #liersize=1,\n",
    "            palette=[\"coral\",\"darkviolet\"], \n",
    "            order=[\"T0/-ICI\",\"T1/+ICI\"],\n",
    "            ax=ax,\n",
    "            vert=True, \n",
    "            patch_artist=True, \n",
    "            meanline=True, \n",
    "            showmeans=True,\n",
    "            showfliers=False,\n",
    "            boxprops=boxprops,\n",
    "            #flierprops=flierprops,\n",
    "            medianprops=medianprops,\n",
    "            meanprops=meanlineprops\n",
    "        )\n",
    "            \n",
    "        \n",
    "        sns.swarmplot(\n",
    "            x=\"Condition\", \n",
    "            y=\"Proportion\", \n",
    "            data=plot_df[plot_df[\"Cell type\"] == cell_type], \n",
    "            hue=\"patient\",  # Color by \"patient\" variable\n",
    "            palette=\"Spectral\",  # Choose a color palette\n",
    "            dodge=False,  # Separate dots for each level of \"patient\n",
    "            #jitter=False\n",
    "            ax=ax,\n",
    "            size=5,\n",
    "            edgecolor=\"black\",\n",
    "            linewidth=.5,\n",
    "            alpha=1\n",
    "        )\n",
    "        '''\n",
    "        sns.pointplot(\n",
    "            data=plot_df[plot_df[\"Cell type\"] == cell_type], \n",
    "            x=\"Condition\", \n",
    "            y=\"Proportion\", \n",
    "            hue=\"patient\", \n",
    "            legend= False,\n",
    "            palette=\"Spectral\",\n",
    "            linewidth=1.5,\n",
    "            errwidth=1,\n",
    "            markers='|',\n",
    "            #errorbar=None,\n",
    "            join=True\n",
    "        )\n",
    "        '''\n",
    "        plt.title(cell_type, pad=18)\n",
    "        plt.xlabel('', labelpad=10)\n",
    "        plt.ylabel('', labelpad=10)\n",
    "        plt.yticks(fontsize = 10) \n",
    "        plt.xticks(fontsize = 10) \n",
    "        #plt.set_xticks([0,1,2,3,4], [\"PD_01\", \"PD_02\", \"PD_03\", \"SD_01\", \"PD_04\"], ha=\"center\", rotation=30)\n",
    "    \n",
    "            \n",
    "        legend = plt.legend(loc='right', bbox_to_anchor=(2, .5), ncol=1, title=\"Response\", frameon=True, facecolor=\"white\")\n",
    "        plt.setp(legend.get_title(),fontsize='12')\n",
    "        plt.tight_layout()\n",
    "  \n",
    "        xmin, xmax, ymin, ymax = plt.axis()\n",
    "        plt.ylim((0, ymax + (0.66)*ymax))\n",
    "\n",
    "        if cell_type == \"CD4 T CM/EarlyActivated\":\n",
    "            cell_type = \"CD4 T CM-EarlyActivated\"\n",
    "        \n",
    "        plt.savefig(os.path.join(\"/scratch_isilon/groups/singlecell/gdeuner/SERPENTINE/figures/TFM/Fig2\", \"TNK_Comp_\"+cell_type+\"_boxplot_by_condition_colby_response.pdf\"), dpi=600, format=\"pdf\", bbox_inches=\"tight\")"
   ]
  },
  {
   "cell_type": "code",
   "execution_count": null,
   "id": "c7093cad-1243-4952-9371-2cd60c7dbc60",
   "metadata": {},
   "outputs": [],
   "source": [
    "print(sccoda_data['coda'].X.shape)\n",
    "print(sccoda_data['coda'].obs.shape)"
   ]
  },
  {
   "cell_type": "code",
   "execution_count": null,
   "id": "d9d133ec-1ce6-44bf-b6b1-2ab78b517a9c",
   "metadata": {},
   "outputs": [],
   "source": [
    "patients = [\"01\", \"02\", \"03\", \"08\", \"10\"]\n",
    "patient_colors = seaborn.color_palette(\"Spectral\", n_colors=len(patients))\n",
    "patient_color_dict = dict(zip(patients, patient_colors))"
   ]
  },
  {
   "cell_type": "code",
   "execution_count": null,
   "id": "641bcba1-fbc9-46d2-8cce-8ee3cdfa769b",
   "metadata": {},
   "outputs": [],
   "source": [
    "# stacked plot of cell type proportions per patient\n",
    "sns.set_style(rc = {'axes.facecolor': 'white'})\n",
    "plot = pt.pl.coda.stacked_barplot(\n",
    "    sccoda_data, \n",
    "    modality_key=\"coda\", \n",
    "    feature_name=\"patient\",\n",
    "    dpi=300\n",
    ")\n",
    "plot.set(title = \"Patient\")\n",
    "plot.set_xticks([0,1,2,3,4], [\"P01\", \"P02\", \"P03\", \"P04\", \"P05\"], ha=\"center\", rotation=0)\n",
    "legend = plt.legend(loc='right', bbox_to_anchor=(1.7, .5), ncol=1, title=\"Cell Type\", frameon=True)\n",
    "plt.setp(legend.get_texts(),fontsize='8')\n",
    "plt.setp(legend.get_title(),fontsize='12')\n",
    "plt.savefig(os.path.join(\"/scratch_isilon/groups/singlecell/gdeuner/SERPENTINE/figures/TFM/Fig2\", \"TNK_Comp_immune_barplot_by_patient.png\"), dpi=600, format=\"png\", bbox_inches=\"tight\")\n",
    "plt.show()"
   ]
  },
  {
   "cell_type": "code",
   "execution_count": null,
   "id": "6725d0c0-1005-493f-be5e-f8bbc564c40c",
   "metadata": {},
   "outputs": [],
   "source": [
    "# stacked plot of cell type proportions per patient\n",
    "plot = pt.pl.coda.stacked_barplot(\n",
    "    sccoda_data, \n",
    "    modality_key=\"coda\", \n",
    "    feature_name=\"patient\",\n",
    "    dpi=300\n",
    ")\n",
    "plot.set(title = \"Patient\")\n",
    "plot.set_xticks([0,1,2,3,4], [\"P01\", \"P02\", \"P03\", \"P04\", \"P05\"], ha=\"center\", rotation=0)\n",
    "legend = plt.legend(loc='right', bbox_to_anchor=(1.7, .5), ncol=1, title=\"Cell Type\", frameon=True)\n",
    "plt.setp(legend.get_texts(),fontsize='8')\n",
    "plt.setp(legend.get_title(),fontsize='12')\n",
    "plt.show()\n",
    "# P08 = P04\n",
    "# P10 = P05"
   ]
  },
  {
   "cell_type": "code",
   "execution_count": null,
   "id": "ad514792-32d3-4887-a2e1-95a13b2e5815",
   "metadata": {},
   "outputs": [],
   "source": [
    "# stacked plot of cell type proportions per timepoint\n",
    "plot = pt.pl.coda.stacked_barplot(\n",
    "    sccoda_data, modality_key=\"coda\", \n",
    "    feature_name=\"Condition\", \n",
    "    level_order=[\"T0/-ICI\", \"T1/+ICI\"],\n",
    "    dpi=300\n",
    ")\n",
    "plot.set(title = \"Timepoint\")\n",
    "plot.set_xticks([0,1], [\"T0/-ICI\", \"T1/+ICI\"], rotation = 0, rotation_mode=\"anchor\", ha=\"center\")\n",
    "legend = plt.legend(loc='right', bbox_to_anchor=(1.7, .5), ncol=1, title=\"Cell Type\", frameon=True)\n",
    "plt.setp(legend.get_texts(),fontsize='8')\n",
    "plt.setp(legend.get_title(),fontsize='12')\n",
    "plt.savefig(os.path.join(\"/scratch_isilon/groups/singlecell/gdeuner/SERPENTINE/figures/TFM/Fig2\", \"TNK_Comp_immune_barplot_by_condition.png\"), dpi=600, format=\"png\", bbox_inches=\"tight\")\n",
    "plt.show()"
   ]
  },
  {
   "cell_type": "code",
   "execution_count": null,
   "id": "abb4d07c-43a0-44c1-ab51-f4f97a46f772",
   "metadata": {},
   "outputs": [],
   "source": [
    "# stacked plot of cell type proportions per timepoint\n",
    "plot = pt.pl.coda.stacked_barplot(\n",
    "    sccoda_data, modality_key=\"coda\", \n",
    "    feature_name=\"timepoint\", \n",
    "    level_order=[\"SCR\", \"C02\"], \n",
    "    dpi=300\n",
    ")\n",
    "plot.set(title = \"Timepoint\")\n",
    "plot.set_xticks([0,1], [\"T0\", \"T1\"], rotation = 0, rotation_mode=\"anchor\", ha=\"center\")\n",
    "legend = plt.legend(loc='right', bbox_to_anchor=(1.7, .5), ncol=1, title=\"Cell Type\", frameon=True)\n",
    "plt.setp(legend.get_texts(),fontsize='8')\n",
    "plt.setp(legend.get_title(),fontsize='12')\n",
    "plt.savefig(os.path.join(fig_dir, \"TNK_Comp_immune_barplot_by_timepoint.png\"), dpi=600, format=\"png\", bbox_inches=\"tight\")\n",
    "\n",
    "plt.show()"
   ]
  },
  {
   "cell_type": "code",
   "execution_count": null,
   "id": "7e139020-d3f6-40e2-9a71-d70b04357b92",
   "metadata": {},
   "outputs": [],
   "source": [
    "# stacked plot of cell type proportions per ICI status\n",
    "plot = pt.pl.coda.stacked_barplot(\n",
    "    sccoda_data, \n",
    "    modality_key=\"coda\", \n",
    "    feature_name=\"ICI_status\",\n",
    "    #level_order=[\"`-ICI`\", \"`+ICI/PD`\", \"`+ICI/PD`\"], \n",
    "    dpi=300\n",
    ")\n",
    "plot.set(title = \"ICI Status\")\n",
    "plot.set_xticks([0,1,2], [\"+ICI/PD\", \"+ICI/SD\", \"-ICI\"], rotation = 0, rotation_mode=\"anchor\", ha=\"center\")\n",
    "legend = plt.legend(loc='right', bbox_to_anchor=(1.7, .5), ncol=1, title=\"Cell Type\", frameon=True)\n",
    "plt.setp(legend.get_texts(),fontsize='8')\n",
    "plt.setp(legend.get_title(),fontsize='12')\n",
    "plt.savefig(os.path.join(fig_dir, \"TNK_Comp_immune_barplot_by_ICI_status.png\"), dpi=600, format=\"png\", bbox_inches=\"tight\")\n",
    "plt.show()"
   ]
  },
  {
   "cell_type": "code",
   "execution_count": null,
   "id": "9733400e-a42c-4ef6-965a-e6165a69c494",
   "metadata": {},
   "outputs": [],
   "source": [
    "# stacked plot of cell type proportions per response\n",
    "plot = pt.pl.coda.stacked_barplot(\n",
    "    sccoda_data, \n",
    "    modality_key=\"coda\", \n",
    "    feature_name=\"response\",\n",
    "    dpi=300,\n",
    ")\n",
    "plot.set_title(\"ICI Response\")\n",
    "plot.set_xticks([0,1], [\"PD\", \"SD\"], rotation = 0, rotation_mode=\"anchor\", ha=\"center\")\n",
    "legend = plt.legend(loc='right', bbox_to_anchor=(1.7, .5), ncol=1, title=\"Cell Type\", frameon=True)\n",
    "plt.setp(legend.get_texts(),fontsize='8')\n",
    "plt.setp(legend.get_title(),fontsize='12')\n",
    "plt.savefig(os.path.join(\"/scratch_isilon/groups/singlecell/gdeuner/SERPENTINE/figures/TFM/Fig2\", \"TNK_Comp_immune_barplot_by_ICI_response.png\"), dpi=600, format=\"png\", bbox_inches=\"tight\")\n",
    "plt.show()"
   ]
  },
  {
   "cell_type": "markdown",
   "id": "6aa01c88-1232-42fa-973b-5d064578d8b9",
   "metadata": {},
   "source": [
    "# Compositional Analysis - Non-responders Timepoints Comparison"
   ]
  },
  {
   "cell_type": "code",
   "execution_count": null,
   "id": "df4596ad-728b-4d71-ba83-d18a7a40e8f2",
   "metadata": {},
   "outputs": [],
   "source": [
    "# set up dirs\n",
    "work_dir = \"/scratch_isilon/groups/singlecell/gdeuner/SERPENTINE/\"\n",
    "fig_dir = os.path.join(work_dir, \"figures\", \"combined\", \"TNK\", \"compositional_analysis\", \"timepoint_PD\")\n",
    "sc.settings.figdir = os.path.join(work_dir, \"figures\", \"combined\", \"TNK\", \"compositional_analysis\", \"timepoint_PD\")"
   ]
  },
  {
   "cell_type": "code",
   "execution_count": null,
   "id": "a251fbaa-ccf5-4390-8f7d-007f0cce0e00",
   "metadata": {},
   "outputs": [],
   "source": [
    "# read anndata object\n",
    "adata = sc.read_h5ad(os.path.join(work_dir, \"data\", \"outputdata\", \"combined\", \"Combined_SCR_CO2_TNK_annotated_13-04-24.h5ad\"))"
   ]
  },
  {
   "cell_type": "code",
   "execution_count": null,
   "id": "31209da8-c62d-4bde-a7c1-eb1cd9c0fe25",
   "metadata": {},
   "outputs": [],
   "source": [
    "# subset non-responders\n",
    "adata = adata[adata.obs[\"response\"] == \"PD\"].copy()\n",
    "adata"
   ]
  },
  {
   "cell_type": "markdown",
   "id": "c3d522d0-7c5b-4c1b-9477-37d667d063e7",
   "metadata": {},
   "source": [
    "## Model Setup & Inference"
   ]
  },
  {
   "cell_type": "code",
   "execution_count": null,
   "id": "c7ba2cef-26ea-4114-8df2-430b97641b86",
   "metadata": {},
   "outputs": [],
   "source": [
    "# initiate scCODA model\n",
    "sccoda_model = pt.tl.Sccoda()\n",
    "sccoda_data = sccoda_model.load(\n",
    "    adata,\n",
    "    type=\"cell_level\",\n",
    "    generate_sample_level=True,\n",
    "    cell_type_identifier=\"Annotation_2.0\",\n",
    "    sample_identifier=\"sample\",\n",
    "    covariate_obs=[\"subproject\", \"patient\", \"timepoint\", \"response\", \"ICI_status\", \"Condition\"],\n",
    "        \n",
    ")\n",
    "print(sccoda_data)\n",
    "print(sccoda_data[\"coda\"].X)\n",
    "print(sccoda_data[\"coda\"].obs)"
   ]
  },
  {
   "cell_type": "code",
   "execution_count": null,
   "id": "33c5a4d9-3a69-408e-a3f5-3ea58a11278e",
   "metadata": {},
   "outputs": [],
   "source": [
    "pt.pl.coda.boxplots(sccoda_data, \n",
    "                    modality_key=\"coda\", \n",
    "                    feature_name=\"timepoint\", \n",
    "                    add_dots=True,\n",
    "                    figsize=[6,6],\n",
    "                    level_order=[\"SCR\", \"C02\"],\n",
    "                    cmap=[\"coral\",\"darkviolet\"]\n",
    "                   )\n",
    "plt.show()"
   ]
  },
  {
   "cell_type": "code",
   "execution_count": null,
   "id": "2f1911d6-7b30-43e4-bb85-3766b7e1270b",
   "metadata": {},
   "outputs": [],
   "source": [
    "# prepare the model\n",
    "sccoda_data = sccoda_model.prepare(\n",
    "    sccoda_data,\n",
    "    modality_key=\"coda\",\n",
    "    formula=\"Condition\", #condition = timepoint\n",
    "    reference_cell_type=\"automatic\",\n",
    ")\n",
    "sccoda_data[\"coda\"]"
   ]
  },
  {
   "cell_type": "code",
   "execution_count": null,
   "id": "314470a4-c639-4f98-a2e8-2701d56fcf23",
   "metadata": {},
   "outputs": [],
   "source": [
    "# run MCMC\n",
    "sccoda_model.run_nuts(sccoda_data, modality_key=\"coda\")\n",
    "sccoda_data[\"coda\"]"
   ]
  },
  {
   "cell_type": "markdown",
   "id": "1fddf09e-463c-4488-a6d0-0e1470f7ba40",
   "metadata": {},
   "source": [
    "## Result Intepretation"
   ]
  },
  {
   "cell_type": "code",
   "execution_count": null,
   "id": "350843a7-1a54-4b14-b586-708a3d5fad77",
   "metadata": {},
   "outputs": [],
   "source": [
    "# see most relevant information\n",
    "sccoda_model.summary(sccoda_data, modality_key=\"coda\")"
   ]
  },
  {
   "cell_type": "code",
   "execution_count": null,
   "id": "edbb65a2-8762-4d4b-b571-b03f18888022",
   "metadata": {},
   "outputs": [],
   "source": [
    "sccoda_model.credible_effects(sccoda_data, modality_key=\"coda\")"
   ]
  },
  {
   "cell_type": "markdown",
   "id": "55f92dae-4161-451a-a67a-2c077665b8e9",
   "metadata": {},
   "source": [
    "### Adjust FDR"
   ]
  },
  {
   "cell_type": "code",
   "execution_count": null,
   "id": "8fb5a3ec-ea6f-46b4-8a3e-a74b1fd32bba",
   "metadata": {},
   "outputs": [],
   "source": [
    "sccoda_model.set_fdr(sccoda_data, modality_key=\"coda\", est_fdr=0.2)\n",
    "sccoda_model.summary(sccoda_data, modality_key=\"coda\")"
   ]
  },
  {
   "cell_type": "markdown",
   "id": "f9aa2103-5bd0-4452-a671-0e59c9ce4d8d",
   "metadata": {},
   "source": [
    "## Save Results"
   ]
  },
  {
   "cell_type": "code",
   "execution_count": null,
   "id": "c7806548-6725-4456-a1d3-72662f67a638",
   "metadata": {},
   "outputs": [],
   "source": [
    "#sccoda_data.write_h5mu(os.path.join(work_dir, \"data\", \"outputdata\", \"combined\", \"TNK_Combined_SCR_CO2_immune_scCODA_15-04-24.h5mu\"))"
   ]
  },
  {
   "cell_type": "code",
   "execution_count": null,
   "id": "b1b3f698-3145-47cb-9aa0-d2b0ab6573a6",
   "metadata": {},
   "outputs": [],
   "source": [
    "test_model = pt.tl.Sccoda()\n",
    "test_model.get_intercept_df(sccoda_data, modality_key=\"coda\")"
   ]
  },
  {
   "cell_type": "code",
   "execution_count": null,
   "id": "888b5566-6eba-483c-bf3d-35d38079b5fa",
   "metadata": {},
   "outputs": [],
   "source": [
    "test_model.get_intercept_df(sccoda_data, modality_key=\"coda\")"
   ]
  },
  {
   "cell_type": "code",
   "execution_count": null,
   "id": "ac4c7e0b-02ea-4cf8-83e4-7e5e1c63e19f",
   "metadata": {},
   "outputs": [],
   "source": [
    "effect = test_model.get_effect_df(sccoda_data, modality_key=\"coda\")\n",
    "effect"
   ]
  },
  {
   "cell_type": "code",
   "execution_count": null,
   "id": "75855597-8bc8-454c-9261-85d5ccae83bc",
   "metadata": {},
   "outputs": [],
   "source": [
    "sccoda_data[\"coda\"].varm[\"intercept_df\"]"
   ]
  },
  {
   "cell_type": "markdown",
   "id": "2fadb343-ae70-474e-b15e-cd9da1b23d0e",
   "metadata": {},
   "source": [
    "## Visualization"
   ]
  },
  {
   "cell_type": "code",
   "execution_count": null,
   "id": "d59cd768-48f8-4fd7-bb53-abf60da98d14",
   "metadata": {},
   "outputs": [],
   "source": [
    "# visualize effects (significant changes in cell type composition)\n",
    "plot=pt.pl.coda.effects_barplot(sccoda_data, \n",
    "                           modality_key=\"coda\", \n",
    "                           #parameter=\"timepoint\",\n",
    "                           #figsize=[3,3],\n",
    "                           dpi=300)\n",
    "plt.xticks(fontsize=8) \n",
    "plt.yticks(fontsize=10)  \n",
    "plt.savefig(os.path.join(work_dir, \"figures\", \"TFM\", \"Fig2\", \"TNK_Comp_Significant_Log2FC_timepoint_PD.pdf\"), dpi=300, format=\"pdf\", bbox_inches=\"tight\")"
   ]
  },
  {
   "cell_type": "code",
   "execution_count": null,
   "id": "2bc1bc2c-84b6-48f0-9e38-f0f65dbda169",
   "metadata": {},
   "outputs": [],
   "source": [
    "# visualize effects (significant changes in cell type composition)\n",
    "plot=pt.pl.coda.effects_barplot(sccoda_data, \n",
    "                           modality_key=\"coda\", \n",
    "                           parameter=\"Final Parameter\",\n",
    "                           figsize=[3,3],\n",
    "                           dpi=100)\n",
    "plt.savefig(os.path.join(fig_dir, \"TNK_Comp_Significant_Celltypes_Effects.png\"), dpi=600, format=\"png\", bbox_inches=\"tight\")"
   ]
  },
  {
   "cell_type": "code",
   "execution_count": null,
   "id": "b777f6c7-8cd7-4ba0-850f-5ed3439cbfda",
   "metadata": {},
   "outputs": [],
   "source": [
    "# define cell types that have an effect\n",
    "effect_cell_types = [\"CD8 T TRM PreExhausted\", \"CD56hi CD16lo NK\"]"
   ]
  },
  {
   "cell_type": "code",
   "execution_count": null,
   "id": "22cc8aee-2545-4497-b7eb-ce1dcd559184",
   "metadata": {},
   "outputs": [],
   "source": [
    "sccoda_data['coda'].var"
   ]
  },
  {
   "cell_type": "code",
   "execution_count": null,
   "id": "b802984c-7ef5-47a8-b95e-b561506c9507",
   "metadata": {},
   "outputs": [],
   "source": [
    "# some booxplot arguments to customize the plot\n",
    "boxprops = dict(linestyle='-', linewidth=1, edgecolor='black')\n",
    "flierprops = dict(marker='o', markerfacecolor='none', #markersize=12,\n",
    "                  markeredgecolor='black')\n",
    "medianprops = dict(linestyle='-', linewidth=.8, color='black')\n",
    "#meanpointprops = dict(marker='D', markeredgecolor='black',markerfacecolor='black')\n",
    "meanlineprops = dict(linestyle='--', linewidth=.8, color='black')\n"
   ]
  },
  {
   "cell_type": "code",
   "execution_count": null,
   "id": "78d48403-7237-4a50-ad39-54b6b6d7463a",
   "metadata": {},
   "outputs": [],
   "source": [
    "# define cell types for plotting\n",
    "cell_types = sccoda_data['coda'].var_names.tolist()\n",
    "print(cell_types)"
   ]
  },
  {
   "cell_type": "code",
   "execution_count": null,
   "id": "8526762e-16bb-4b55-ba07-9ab75eac3b5d",
   "metadata": {},
   "outputs": [],
   "source": [
    "# create df for plotting\n",
    "feature_name=[\"Condition\", \"response\", \"patient\"]\n",
    "data=sccoda_data['coda']\n",
    "\n",
    "sample_sums = np.sum(data.X, axis=1, keepdims=True)\n",
    "X = data.X/sample_sums\n",
    "value_name = \"Proportion\"\n",
    "\n",
    "count_df = pd.DataFrame(X, columns=data.var.index, index=data.obs.index).\\\n",
    "        merge(data.obs[feature_name], left_index=True, right_index=True)\n",
    "plot_df = pd.melt(count_df, id_vars=feature_name, var_name=\"Cell type\", value_name=value_name)\n",
    "if cell_types is not None:\n",
    "    plot_df = plot_df[plot_df[\"Cell type\"].isin(cell_types)]"
   ]
  },
  {
   "cell_type": "code",
   "execution_count": null,
   "id": "8385779c-0099-4b77-85b6-c288d62875aa",
   "metadata": {},
   "outputs": [],
   "source": [
    "plot_df"
   ]
  },
  {
   "cell_type": "code",
   "execution_count": null,
   "id": "34f07022-fb29-448a-8226-85098c0b8530",
   "metadata": {},
   "outputs": [],
   "source": [
    "# overview of cell type distribution across patients\n",
    "for cell_type in cell_types:\n",
    "\n",
    "    if cell_type in effect_cell_types:\n",
    "        significance = \"*\"\n",
    "    else:\n",
    "        significance = \"ns\"\n",
    "    \n",
    "    fig, ax = plt.subplots(figsize=(2,2), dpi=120)\n",
    "\n",
    "    sns.boxplot(\n",
    "        x=\"patient\", \n",
    "        y=\"Proportion\", \n",
    "        data=plot_df[plot_df[\"Cell type\"] == cell_type],\n",
    "        hue=\"patient\", \n",
    "        #liersize=1,\n",
    "        palette=\"Spectral\", \n",
    "        #order=[\"T0/-ICI\",\"T1/+ICI\"],\n",
    "        ax=ax,\n",
    "        vert=True, \n",
    "        patch_artist=True, \n",
    "        meanline=True, \n",
    "        showmeans=True,\n",
    "        showfliers=False,\n",
    "        boxprops=boxprops,\n",
    "        #flierprops=flierprops,\n",
    "        medianprops=medianprops,\n",
    "        meanprops=meanlineprops\n",
    "    )\n",
    "        \n",
    "    \n",
    "    sns.swarmplot(\n",
    "        x=\"patient\", \n",
    "        y=\"Proportion\", \n",
    "        data=plot_df[plot_df[\"Cell type\"] == cell_type], \n",
    "        hue=\"Condition\",  # Color by \"patient\" variable\n",
    "        palette=[\"coral\", \"darkviolet\"],  # Choose a color palette\n",
    "        dodge=False,  # Separate dots for each level of \"patient\n",
    "        #jitter=False\n",
    "        ax=ax,\n",
    "        size=4,\n",
    "        edgecolor=\"black\",\n",
    "        linewidth=.5,\n",
    "        alpha=1\n",
    "    )\n",
    "\n",
    "    #ax.set_xticks([])\n",
    "    ax.set_title(cell_type+\" - \"+significance)\n",
    "    ax.set_xlabel('Patient')\n",
    "    plt.yticks(fontsize = 10) \n",
    "    plt.xticks(fontsize = 10) \n",
    "    \n",
    "    legend = plt.legend(loc='right', bbox_to_anchor=(1.8, .5), ncol=1, title=\"Condition\", frameon=True)\n",
    "    plt.setp(legend.get_title(),fontsize='12')\n",
    "    plt.tight_layout()\n",
    "      \n",
    "    if cell_type == \"CD4 T CM/EarlyActivated\":\n",
    "        cell_type = \"CD4 T CM-EarlyActivated\" \n",
    "    \n",
    "    plt.savefig(os.path.join(fig_dir, \"TNK_Comp_\"+cell_type+\"_boxplot_by_patient.png\"), dpi=600, format=\"png\", bbox_inches=\"tight\")"
   ]
  },
  {
   "cell_type": "code",
   "execution_count": null,
   "id": "2e92b758-a694-42dc-a1f1-33df0f4beb5a",
   "metadata": {},
   "outputs": [],
   "source": [
    "plot = pt.pl.coda.boxplots(\n",
    "        sccoda_data,\n",
    "        modality_key=\"coda\",\n",
    "        feature_name=\"patient\",\n",
    "        figsize=(8,4),\n",
    "        add_dots=False,\n",
    "        plot_facets=False, \n",
    "        args_boxplot={\"vert\":True, \n",
    "                    \"patch_artist\":True, \n",
    "                    \"meanline\":True, \n",
    "                    \"showmeans\":True,\n",
    "                    \"boxprops\":boxprops,\n",
    "                    \"flierprops\":flierprops,\n",
    "                    \"medianprops\":medianprops,\n",
    "                    \"meanprops\":meanlineprops,\n",
    "                    },\n",
    "        cmap=\"Spectral\"\n",
    "        )\n",
    "plt.xticks(fontsize=10)\n",
    "plt.savefig(os.path.join(fig_dir, \"Comp_all_boxplot_by_patient.png\"), dpi=600, format=\"png\", bbox_inches=\"tight\")"
   ]
  },
  {
   "cell_type": "code",
   "execution_count": null,
   "id": "c7e2ce6a-0aef-45ef-904d-7d049ad4ae58",
   "metadata": {},
   "outputs": [],
   "source": [
    "effect[\"Final Parameter\"]"
   ]
  },
  {
   "cell_type": "code",
   "execution_count": null,
   "id": "8e57ce84-e6d5-4175-9612-1ee2b66d6357",
   "metadata": {},
   "outputs": [],
   "source": [
    "# overview of cell type distribution across timepoints\n",
    "\n",
    "plt.rcParams.update({'font.size': 13})\n",
    "\n",
    "for cell_type in cell_types:\n",
    "\n",
    "    if cell_type in effect_cell_types:\n",
    "    \n",
    "        fig, ax = plt.subplots(figsize=(2,2), dpi=120)\n",
    "        \n",
    "        sns.boxplot(\n",
    "            x=\"Condition\", \n",
    "            y=\"Proportion\", \n",
    "            data=plot_df[plot_df[\"Cell type\"] == cell_type],\n",
    "            hue=\"Condition\", \n",
    "            #liersize=1,\n",
    "            palette=[\"coral\",\"darkviolet\"], \n",
    "            order=[\"T0/-ICI\",\"T1/+ICI\"],\n",
    "            ax=ax,\n",
    "            vert=True, \n",
    "            patch_artist=True, \n",
    "            meanline=True, \n",
    "            showmeans=True,\n",
    "            showfliers=False,\n",
    "            boxprops=boxprops,\n",
    "            #flierprops=flierprops,\n",
    "            medianprops=medianprops,\n",
    "            meanprops=meanlineprops\n",
    "        )\n",
    "            \n",
    "        \n",
    "        sns.swarmplot(\n",
    "            x=\"Condition\", \n",
    "            y=\"Proportion\", \n",
    "            data=plot_df[plot_df[\"Cell type\"] == cell_type], \n",
    "            hue=\"patient\",  # Color by \"patient\" variable\n",
    "            palette=\"Spectral\",  # Choose a color palette\n",
    "            dodge=False,  # Separate dots for each level of \"patient\n",
    "            #jitter=False\n",
    "            ax=ax,\n",
    "            size=5,\n",
    "            edgecolor=\"black\",\n",
    "            linewidth=.5,\n",
    "            alpha=1\n",
    "        )\n",
    "    \n",
    "        \n",
    "        plt.title(cell_type, fontweight=\"bold\", pad=20)\n",
    "        plt.xlabel('Patient', labelpad=10)\n",
    "        plt.ylabel('Proportion', labelpad=10)\n",
    "        plt.yticks(fontsize = 10) \n",
    "        plt.xticks(fontsize = 10) \n",
    "        #plt.set_xticks([0,1,2,3,4], [\"PD_01\", \"PD_02\", \"PD_03\", \"SD_01\", \"PD_04\"], ha=\"center\", rotation=30)\n",
    "\n",
    "        \n",
    "        legend = plt.legend(loc='right', bbox_to_anchor=(2, .5), ncol=1, title=\"Patient\", frameon=True)\n",
    "        plt.setp(legend.get_title(),fontsize='12')\n",
    "        plt.tight_layout()\n",
    "\n",
    "        \n",
    "        plt.savefig(os.path.join(\"/scratch_isilon/groups/singlecell/gdeuner/SERPENTINE/figures/ISCO24_poster/Fig5\", \"TNK_Comp_\"+cell_type+\"_boxplot_by_condition.png\"), dpi=600, format=\"png\", bbox_inches=\"tight\")"
   ]
  },
  {
   "cell_type": "code",
   "execution_count": null,
   "id": "cb92775f-1611-42c2-a949-2dd7f6b0fbd5",
   "metadata": {},
   "outputs": [],
   "source": [
    "# overview of cell type distribution across timepoints\n",
    "\n",
    "plt.rcParams.update({'font.size': 13})\n",
    "\n",
    "for cell_type in cell_types:\n",
    "\n",
    "    if cell_type in effect_cell_types:\n",
    "        significance = \"*\"\n",
    "    else:\n",
    "        significance = \"ns\"\n",
    "    \n",
    "    fig, ax = plt.subplots(figsize=(2,2), dpi=120)\n",
    "    \n",
    "    sns.boxplot(\n",
    "        x=\"Condition\", \n",
    "        y=\"Proportion\", \n",
    "        data=plot_df[plot_df[\"Cell type\"] == cell_type],\n",
    "        hue=\"Condition\", \n",
    "        #liersize=1,\n",
    "        palette=[\"coral\",\"darkviolet\"], \n",
    "        order=[\"T0/-ICI\",\"T1/+ICI\"],\n",
    "        ax=ax,\n",
    "        vert=True, \n",
    "        patch_artist=True, \n",
    "        meanline=True, \n",
    "        showmeans=True,\n",
    "        showfliers=False,\n",
    "        boxprops=boxprops,\n",
    "        #flierprops=flierprops,\n",
    "        medianprops=medianprops,\n",
    "        meanprops=meanlineprops\n",
    "    )\n",
    "        \n",
    "    \n",
    "    sns.swarmplot(\n",
    "        x=\"Condition\", \n",
    "        y=\"Proportion\", \n",
    "        data=plot_df[plot_df[\"Cell type\"] == cell_type], \n",
    "        hue=\"patient\",  # Color by \"patient\" variable\n",
    "        palette=\"Spectral\",  # Choose a color palette\n",
    "        dodge=False,  # Separate dots for each level of \"patient\n",
    "        #jitter=False\n",
    "        ax=ax,\n",
    "        size=5,\n",
    "        edgecolor=\"black\",\n",
    "        linewidth=.5,\n",
    "        alpha=1\n",
    "    )\n",
    "\n",
    "    #ax.set_xticks([])\n",
    "    ax.set_title(cell_type+\" - \"+significance)\n",
    "    ax.set_xlabel('ICI Response')\n",
    "    plt.yticks(fontsize = 10) \n",
    "    plt.xticks(fontsize = 10) \n",
    "    \n",
    "    legend = plt.legend(loc='right', bbox_to_anchor=(1.8, .5), ncol=1, title=\"Patient\", frameon=True)\n",
    "    plt.setp(legend.get_title(),fontsize='12')\n",
    "    plt.tight_layout()\n",
    "    \n",
    "    if cell_type == \"CD4 T CM/EarlyActivated\":\n",
    "        cell_type = \"CD4 T CM-EarlyActivated\"\n",
    "\n",
    "        \n",
    "    plt.savefig(os.path.join(fig_dir, \"TNK_Comp_\"+cell_type+\"_boxplot_by_condition.png\"), dpi=600, format=\"png\", bbox_inches=\"tight\")\n"
   ]
  },
  {
   "cell_type": "markdown",
   "id": "384048eb-48b5-4f91-8681-9e27106eaed6",
   "metadata": {},
   "source": [
    "# Compositional Analysis - Response Comparison"
   ]
  },
  {
   "cell_type": "code",
   "execution_count": null,
   "id": "94c98e47-8028-4c3a-97ec-13df69249fa6",
   "metadata": {},
   "outputs": [],
   "source": [
    "# set up dirs\n",
    "work_dir = \"/scratch_isilon/groups/singlecell/gdeuner/SERPENTINE/\"\n",
    "fig_dir = os.path.join(work_dir, \"figures\", \"combined\", \"TNK\", \"compositional_analysis\", \"response\")\n",
    "sc.settings.figdir = os.path.join(work_dir, \"figures\", \"combined\", \"TNK\", \"compositional_analysis\", \"response\")"
   ]
  },
  {
   "cell_type": "code",
   "execution_count": null,
   "id": "48350892-c8f0-4a3e-9b66-beed99ceef29",
   "metadata": {},
   "outputs": [],
   "source": [
    "# read anndata object\n",
    "adata = sc.read_h5ad(os.path.join(work_dir, \"data\", \"outputdata\", \"combined\", \"Combined_SCR_CO2_TNK_annotated_13-04-24.h5ad\"))"
   ]
  },
  {
   "cell_type": "code",
   "execution_count": null,
   "id": "6b7b374e-49aa-4f1f-ade5-0c49721ee8f8",
   "metadata": {},
   "outputs": [],
   "source": [
    "# create condition variable\n",
    "adata"
   ]
  },
  {
   "cell_type": "markdown",
   "id": "1d38ff14-ec8c-4ead-9ed7-0c19ec8fd125",
   "metadata": {},
   "source": [
    "## Model Setup & Inference"
   ]
  },
  {
   "cell_type": "code",
   "execution_count": null,
   "id": "8c9212e4-bb37-4b31-bc69-6dd92712d690",
   "metadata": {},
   "outputs": [],
   "source": [
    "# initiate scCODA model\n",
    "sccoda_model = pt.tl.Sccoda()\n",
    "sccoda_data = sccoda_model.load(\n",
    "    adata,\n",
    "    type=\"cell_level\",\n",
    "    generate_sample_level=True,\n",
    "    cell_type_identifier=\"Annotation_2.0\",\n",
    "    sample_identifier=\"sample\",\n",
    "    covariate_obs=[\"subproject\", \"patient\", \"timepoint\", \"response\", \"ICI_status\", \"Condition\"],\n",
    "        \n",
    ")\n",
    "print(sccoda_data)\n",
    "print(sccoda_data[\"coda\"].X)\n",
    "print(sccoda_data[\"coda\"].obs)"
   ]
  },
  {
   "cell_type": "code",
   "execution_count": null,
   "id": "897e2ed2-8aca-434b-ab86-92b9c7f160fa",
   "metadata": {},
   "outputs": [],
   "source": [
    "# prepare the model\n",
    "sccoda_data = sccoda_model.prepare(\n",
    "    sccoda_data,\n",
    "    modality_key=\"coda\",\n",
    "    formula=\"response\", #condition = timepoint\n",
    "    reference_cell_type=\"automatic\",\n",
    ")\n",
    "sccoda_data[\"coda\"]"
   ]
  },
  {
   "cell_type": "code",
   "execution_count": null,
   "id": "943bc4e0-04a6-4ca4-b574-e0eaae648999",
   "metadata": {},
   "outputs": [],
   "source": [
    "# run MCMC\n",
    "sccoda_model.run_nuts(sccoda_data, modality_key=\"coda\")\n",
    "sccoda_data[\"coda\"]"
   ]
  },
  {
   "cell_type": "markdown",
   "id": "50347774-8d1c-4eca-8014-d50220144bc3",
   "metadata": {},
   "source": [
    "## Result Intepretation"
   ]
  },
  {
   "cell_type": "code",
   "execution_count": null,
   "id": "865f3e52-63de-4965-b0d3-9be1267d10ea",
   "metadata": {},
   "outputs": [],
   "source": [
    "# see most relevant information\n",
    "sccoda_model.summary(sccoda_data, modality_key=\"coda\")"
   ]
  },
  {
   "cell_type": "code",
   "execution_count": null,
   "id": "87ef31ce-0892-45d6-a01b-f9dba364b326",
   "metadata": {},
   "outputs": [],
   "source": [
    "sccoda_model.credible_effects(sccoda_data, modality_key=\"coda\")"
   ]
  },
  {
   "cell_type": "markdown",
   "id": "6897d713-3b0c-48da-a641-0fc03e63a6a4",
   "metadata": {},
   "source": [
    "### Adjust FDR"
   ]
  },
  {
   "cell_type": "code",
   "execution_count": null,
   "id": "cc3e81b9-0b1b-430f-bc68-caca334f6aa8",
   "metadata": {},
   "outputs": [],
   "source": [
    "sccoda_model.set_fdr(sccoda_data, modality_key=\"coda\", est_fdr=0.2)\n",
    "sccoda_model.summary(sccoda_data, modality_key=\"coda\")"
   ]
  },
  {
   "cell_type": "markdown",
   "id": "69ffc8ed-7b18-41ba-8489-118acfc691dc",
   "metadata": {},
   "source": [
    "## Save Results"
   ]
  },
  {
   "cell_type": "code",
   "execution_count": null,
   "id": "1010b677-1d11-4357-8e5a-caefeb0923cd",
   "metadata": {},
   "outputs": [],
   "source": [
    "#sccoda_data.write_h5mu(os.path.join(work_dir, \"data\", \"outputdata\", \"combined\", \"TNK_Combined_SCR_CO2_immune_scCODA_15-04-24.h5mu\"))"
   ]
  },
  {
   "cell_type": "code",
   "execution_count": null,
   "id": "9df367f5-10f1-47dc-a35a-3f317b133b35",
   "metadata": {},
   "outputs": [],
   "source": [
    "test_model = pt.tl.Sccoda()\n",
    "test_model.get_intercept_df(sccoda_data, modality_key=\"coda\")"
   ]
  },
  {
   "cell_type": "code",
   "execution_count": null,
   "id": "42479fc1-3d6d-42bf-906e-e2c20c1c962a",
   "metadata": {},
   "outputs": [],
   "source": [
    "test_model.get_intercept_df(sccoda_data, modality_key=\"coda\")"
   ]
  },
  {
   "cell_type": "code",
   "execution_count": null,
   "id": "b0055db7-0f28-4d90-9958-4961e5155451",
   "metadata": {},
   "outputs": [],
   "source": [
    "effect = test_model.get_effect_df(sccoda_data, modality_key=\"coda\")\n",
    "effect"
   ]
  },
  {
   "cell_type": "code",
   "execution_count": null,
   "id": "9a1f06bc-3fb3-452b-827a-fb7b008c34a6",
   "metadata": {},
   "outputs": [],
   "source": [
    "sccoda_data[\"coda\"].varm[\"intercept_df\"]"
   ]
  },
  {
   "cell_type": "markdown",
   "id": "2381e26e-c3b1-4119-bb92-ac8488c448bc",
   "metadata": {},
   "source": [
    "## Visualization"
   ]
  },
  {
   "cell_type": "code",
   "execution_count": null,
   "id": "2bebd10b-7bf0-4b85-b63a-edce7cf67f3a",
   "metadata": {},
   "outputs": [],
   "source": [
    "# visualize effects (significant changes in cell type composition)\n",
    "plot=pt.pl.coda.effects_barplot(sccoda_data, \n",
    "                           modality_key=\"coda\", \n",
    "                           #parameter=\"timepoint\",\n",
    "                           #figsize=[3,3],\n",
    "                           dpi=300)\n",
    "plt.xticks(fontsize=8) \n",
    "plt.yticks(fontsize=10)  \n",
    "plt.savefig(os.path.join(work_dir, \"figures\", \"TFM\", \"Fig2\", \"TNK_Comp_Significant_Log2FC_timepoint_response.pdf\"), dpi=300, format=\"pdf\", bbox_inches=\"tight\")"
   ]
  },
  {
   "cell_type": "code",
   "execution_count": null,
   "id": "a389e7a5-84f9-4a9a-a955-9bd428b9a6f0",
   "metadata": {},
   "outputs": [],
   "source": [
    "'''\n",
    "# visualize effects (significant changes in cell type composition)\n",
    "plot=pt.pl.coda.effects_barplot(sccoda_data, \n",
    "                           modality_key=\"coda\", \n",
    "                           parameter=\"Final Parameter\",\n",
    "                           figsize=[3,3],\n",
    "                           dpi=100)\n",
    "plt.savefig(os.path.join(fig_dir, \"TNK_Comp_Significant_Celltypes_Effects.png\"), dpi=600, format=\"png\", bbox_inches=\"tight\")\n",
    "'''"
   ]
  },
  {
   "cell_type": "code",
   "execution_count": null,
   "id": "bb266ed4-0050-4c48-811c-48cd91c39fab",
   "metadata": {},
   "outputs": [],
   "source": [
    "# define cell types that have an effect\n",
    "effect_cell_types = []"
   ]
  },
  {
   "cell_type": "code",
   "execution_count": null,
   "id": "9e86370b-d383-4c63-be44-b7366556f980",
   "metadata": {},
   "outputs": [],
   "source": [
    "sccoda_data['coda'].var"
   ]
  },
  {
   "cell_type": "code",
   "execution_count": null,
   "id": "f004e2f6-65f4-413c-9c46-3eb5048f7436",
   "metadata": {},
   "outputs": [],
   "source": [
    "# some booxplot arguments to customize the plot\n",
    "boxprops = dict(linestyle='-', linewidth=1, edgecolor='black')\n",
    "flierprops = dict(marker='o', markerfacecolor='none', #markersize=12,\n",
    "                  markeredgecolor='black')\n",
    "medianprops = dict(linestyle='-', linewidth=.8, color='black')\n",
    "#meanpointprops = dict(marker='D', markeredgecolor='black',markerfacecolor='black')\n",
    "meanlineprops = dict(linestyle='--', linewidth=.8, color='black')\n"
   ]
  },
  {
   "cell_type": "code",
   "execution_count": null,
   "id": "cb3b82a0-ca13-4e34-8897-dccc31570f66",
   "metadata": {},
   "outputs": [],
   "source": [
    "# define cell types for plotting\n",
    "cell_types = sccoda_data['coda'].var_names.tolist()\n",
    "print(cell_types)"
   ]
  },
  {
   "cell_type": "code",
   "execution_count": null,
   "id": "7ff3915e-7227-4d2a-adda-6a6a55fa41ed",
   "metadata": {},
   "outputs": [],
   "source": [
    "# create df for plotting\n",
    "feature_name=[\"Condition\", \"response\", \"patient\"]\n",
    "data=sccoda_data['coda']\n",
    "\n",
    "sample_sums = np.sum(data.X, axis=1, keepdims=True)\n",
    "X = data.X/sample_sums\n",
    "value_name = \"Proportion\"\n",
    "\n",
    "count_df = pd.DataFrame(X, columns=data.var.index, index=data.obs.index).\\\n",
    "        merge(data.obs[feature_name], left_index=True, right_index=True)\n",
    "plot_df = pd.melt(count_df, id_vars=feature_name, var_name=\"Cell type\", value_name=value_name)\n",
    "if cell_types is not None:\n",
    "    plot_df = plot_df[plot_df[\"Cell type\"].isin(cell_types)]"
   ]
  },
  {
   "cell_type": "code",
   "execution_count": null,
   "id": "ca6a1216-2825-4048-a97a-837444ddeaec",
   "metadata": {},
   "outputs": [],
   "source": [
    "plot_df"
   ]
  },
  {
   "cell_type": "code",
   "execution_count": null,
   "id": "a937c587-e68a-4824-bda4-7b9c609108aa",
   "metadata": {},
   "outputs": [],
   "source": [
    "# overview of cell type distribution across patients\n",
    "sns.set_style(rc = {'axes.facecolor': 'lightsteelblue'})\n",
    "\n",
    "# define cell types that have an effect\n",
    "effect_cell_types_ns = [\"CD8 T Proliferative\", \"CD8 T TRM Effector\", \"CD8 T TRM PreExhausted\", \"CD8 T TRM Exhausted\"]\n",
    "\n",
    "for cell_type in cell_types:\n",
    "    \n",
    "    if cell_type in effect_cell_types_ns:\n",
    "\n",
    "        fig, ax = plt.subplots(figsize=(2,2), dpi=120)\n",
    "    \n",
    "        sns.boxplot(\n",
    "            x=\"Condition\", \n",
    "            y=\"Proportion\", \n",
    "            data=plot_df[plot_df[\"Cell type\"] == cell_type],\n",
    "            hue=\"Condition\", \n",
    "            #order=[\"T0/-ICI\",\"T1/+ICI\"],\n",
    "            ax=ax,\n",
    "            vert=True, \n",
    "            patch_artist=True, \n",
    "            palette=[\"coral\", \"darkviolet\"],\n",
    "            meanline=True, \n",
    "            showmeans=True,\n",
    "            showfliers=False,\n",
    "            boxprops=boxprops,\n",
    "            #flierprops=flierprops,\n",
    "            medianprops=medianprops,\n",
    "            meanprops=meanlineprops\n",
    "        )\n",
    "            \n",
    "        \n",
    "        sns.swarmplot(\n",
    "            x=\"Condition\", \n",
    "            y=\"Proportion\", \n",
    "            data=plot_df[plot_df[\"Cell type\"] == cell_type], \n",
    "            hue=\"response\",  # Color by \"patient\" variable\n",
    "            palette=[\"red\", \"blue\"],# Choose a color palette\n",
    "            dodge=False,  # Separate dots for each level of \"patient\n",
    "            #jitter=False\n",
    "            ax=ax,\n",
    "            size=4,\n",
    "            edgecolor=\"black\",\n",
    "            linewidth=.5,\n",
    "            alpha=1\n",
    "        )\n",
    "\n",
    "        sns.pointplot(\n",
    "            data=plot_df[plot_df[\"Cell type\"] == cell_type], \n",
    "            x=\"Condition\", \n",
    "            y=\"Proportion\", \n",
    "            hue=\"patient\", \n",
    "            legend= False,\n",
    "            palette=\"Spectral\",\n",
    "            linewidth=1.5,\n",
    "            errwidth=1,\n",
    "            markers='|',\n",
    "            #errorbar=None,\n",
    "            join=True\n",
    "        )\n",
    "        \n",
    "        plt.title(cell_type, fontweight=\"bold\", pad=20)\n",
    "        plt.xlabel('Patient', labelpad=10)\n",
    "        plt.ylabel('Proportion', labelpad=10)\n",
    "        plt.yticks(fontsize = 10) \n",
    "        plt.xticks(fontsize = 10) \n",
    "        #plt.set_xticks([0,1,2,3,4], [\"PD_01\", \"PD_02\", \"PD_03\", \"SD_01\", \"PD_04\"], ha=\"center\", rotation=30)\n",
    "\n",
    "        \n",
    "        legend = plt.legend(loc='right', bbox_to_anchor=(2, .5), ncol=1, title=\"Patient\", frameon=True, facecolor=\"white\")\n",
    "        plt.setp(legend.get_title(),fontsize='12')\n",
    "        plt.tight_layout()\n",
    "\n",
    "        \n",
    "        plt.savefig(os.path.join(\"/scratch_isilon/groups/singlecell/gdeuner/SERPENTINE/figures/ISCO24_poster/Fig5\", \"TNK_Comp_\"+cell_type+\"_boxplot_by_response.png\"), dpi=600, format=\"png\", bbox_inches=\"tight\")"
   ]
  },
  {
   "cell_type": "code",
   "execution_count": null,
   "id": "34839d35-8371-4a80-8fb0-3354b36dd29c",
   "metadata": {},
   "outputs": [],
   "source": [
    "# overview of cell type distribution across patients\n",
    "for cell_type in cell_types:\n",
    "\n",
    "    if cell_type in effect_cell_types:\n",
    "        significance = \"*\"\n",
    "    else:\n",
    "        significance = \"ns\"\n",
    "    \n",
    "    fig, ax = plt.subplots(figsize=(2,2), dpi=120)\n",
    "\n",
    "    sns.boxplot(\n",
    "        x=\"response\", \n",
    "        y=\"Proportion\", \n",
    "        data=plot_df[plot_df[\"Cell type\"] == cell_type],\n",
    "        hue=\"response\", \n",
    "        #order=[\"T0/-ICI\",\"T1/+ICI\"],\n",
    "        ax=ax,\n",
    "        vert=True, \n",
    "        patch_artist=True, \n",
    "        palette=[\"mistyrose\", \"lavender\"], \n",
    "        meanline=True, \n",
    "        showmeans=True,\n",
    "        showfliers=False,\n",
    "        boxprops=boxprops,\n",
    "        #flierprops=flierprops,\n",
    "        medianprops=medianprops,\n",
    "        meanprops=meanlineprops\n",
    "    )\n",
    "        \n",
    "    \n",
    "    sns.swarmplot(\n",
    "        x=\"response\", \n",
    "        y=\"Proportion\", \n",
    "        data=plot_df[plot_df[\"Cell type\"] == cell_type], \n",
    "        hue=\"Condition\",  # Color by \"patient\" variable\n",
    "        palette=[\"coral\", \"darkviolet\"],  # Choose a color palette\n",
    "        dodge=False,  # Separate dots for each level of \"patient\n",
    "        #jitter=False\n",
    "        ax=ax,\n",
    "        size=4,\n",
    "        edgecolor=\"black\",\n",
    "        linewidth=.5,\n",
    "        alpha=1\n",
    "    )\n",
    "\n",
    "    #ax.set_xticks([])\n",
    "    ax.set_title(cell_type+\" - \"+significance)\n",
    "    ax.set_xlabel('Response')\n",
    "    plt.yticks(fontsize = 10) \n",
    "    plt.xticks(fontsize = 10) \n",
    "    \n",
    "    legend = plt.legend(loc='right', bbox_to_anchor=(1.8, .5), ncol=1, title=\"Condition\", frameon=True)\n",
    "    plt.setp(legend.get_title(),fontsize='12')\n",
    "    plt.tight_layout()\n",
    "      \n",
    "    if cell_type == \"CD4 T CM/EarlyActivated\":\n",
    "        cell_type = \"CD4 T CM-EarlyActivated\" \n",
    "    \n",
    "    plt.savefig(os.path.join(fig_dir, \"TNK_Comp_\"+cell_type+\"_boxplot_by_response_col_by_condition.png\"), dpi=600, format=\"png\", bbox_inches=\"tight\")"
   ]
  },
  {
   "cell_type": "code",
   "execution_count": null,
   "id": "e6b48337-5dbb-4009-a468-316d5ed9c38b",
   "metadata": {},
   "outputs": [],
   "source": [
    "# overview of cell type distribution across patients\n",
    "for cell_type in cell_types:\n",
    "\n",
    "    if cell_type in effect_cell_types:\n",
    "        significance = \"*\"\n",
    "    else:\n",
    "        significance = \"ns\"\n",
    "    \n",
    "    fig, ax = plt.subplots(figsize=(2,2), dpi=120)\n",
    "\n",
    "    sns.boxplot(\n",
    "        x=\"response\", \n",
    "        y=\"Proportion\", \n",
    "        data=plot_df[plot_df[\"Cell type\"] == cell_type],\n",
    "        hue=\"response\", \n",
    "        #order=[\"T0/-ICI\",\"T1/+ICI\"],\n",
    "        ax=ax,\n",
    "        vert=True, \n",
    "        patch_artist=True, \n",
    "        palette=[\"mistyrose\", \"lavender\"], \n",
    "        meanline=True, \n",
    "        showmeans=True,\n",
    "        showfliers=False,\n",
    "        boxprops=boxprops,\n",
    "        #flierprops=flierprops,\n",
    "        medianprops=medianprops,\n",
    "        meanprops=meanlineprops\n",
    "    )\n",
    "        \n",
    "    \n",
    "    sns.swarmplot(\n",
    "        x=\"response\", \n",
    "        y=\"Proportion\", \n",
    "        data=plot_df[plot_df[\"Cell type\"] == cell_type], \n",
    "        hue=\"patient\",  # Color by \"patient\" variable\n",
    "        palette=\"Spectral\",  # Choose a color palette\n",
    "        dodge=False,  # Separate dots for each level of \"patient\n",
    "        #jitter=False\n",
    "        ax=ax,\n",
    "        size=4,\n",
    "        edgecolor=\"black\",\n",
    "        linewidth=.5,\n",
    "        alpha=1\n",
    "    )\n",
    "\n",
    "    #ax.set_xticks([])\n",
    "    ax.set_title(cell_type+\" - \"+significance)\n",
    "    ax.set_xlabel('Response')\n",
    "    plt.yticks(fontsize = 10) \n",
    "    plt.xticks(fontsize = 10) \n",
    "    \n",
    "    legend = plt.legend(loc='right', bbox_to_anchor=(1.8, .5), ncol=1, title=\"Patient\", frameon=True)\n",
    "    plt.setp(legend.get_title(),fontsize='12')\n",
    "    plt.tight_layout()\n",
    "      \n",
    "    if cell_type == \"CD4 T CM/EarlyActivated\":\n",
    "        cell_type = \"CD4 T CM-EarlyActivated\" \n",
    "    \n",
    "    plt.savefig(os.path.join(fig_dir, \"TNK_Comp_\"+cell_type+\"_boxplot_by_response_col_by_patient.png\"), dpi=600, format=\"png\", bbox_inches=\"tight\")"
   ]
  },
  {
   "cell_type": "markdown",
   "id": "caab3b65-bb14-450d-ae98-71fca8bb4819",
   "metadata": {},
   "source": [
    "# Compositional Analysis - ICI_status Comparison"
   ]
  },
  {
   "cell_type": "code",
   "execution_count": null,
   "id": "c8a73c2e-896d-468a-a27f-4cdbaf8a38d5",
   "metadata": {},
   "outputs": [],
   "source": [
    "# set up dirs\n",
    "work_dir = \"/scratch_isilon/groups/singlecell/gdeuner/SERPENTINE/\"\n",
    "fig_dir = os.path.join(work_dir, \"figures\", \"combined\", \"TNK\", \"compositional_analysis\", \"ICI_status\")\n",
    "sc.settings.figdir = os.path.join(work_dir, \"figures\", \"combined\", \"TNK\", \"compositional_analysis\", \"ICI_status\")"
   ]
  },
  {
   "cell_type": "code",
   "execution_count": null,
   "id": "402dd3e9-aea0-49ce-8fa7-8c52853e4423",
   "metadata": {},
   "outputs": [],
   "source": [
    "# read anndata object\n",
    "adata = sc.read_h5ad(os.path.join(work_dir, \"data\", \"outputdata\", \"combined\", \"Combined_SCR_CO2_TNK_annotated_13-04-24.h5ad\"))"
   ]
  },
  {
   "cell_type": "code",
   "execution_count": null,
   "id": "09cd020e-ac59-4e67-95f0-04298cf87490",
   "metadata": {},
   "outputs": [],
   "source": [
    "# create condition variable\n",
    "adata"
   ]
  },
  {
   "cell_type": "markdown",
   "id": "dcba6908-fc50-43a8-ab16-14595e648382",
   "metadata": {},
   "source": [
    "## Model Setup & Inference"
   ]
  },
  {
   "cell_type": "code",
   "execution_count": null,
   "id": "f6672386-ca30-4c0d-a835-b035df28f3eb",
   "metadata": {},
   "outputs": [],
   "source": [
    "# initiate scCODA model\n",
    "sccoda_model = pt.tl.Sccoda()\n",
    "sccoda_data = sccoda_model.load(\n",
    "    adata,\n",
    "    type=\"cell_level\",\n",
    "    generate_sample_level=True,\n",
    "    cell_type_identifier=\"Annotation_2.0\",\n",
    "    sample_identifier=\"sample\",\n",
    "    covariate_obs=[\"subproject\", \"patient\", \"timepoint\", \"response\", \"ICI_status\", \"Condition\"],\n",
    "        \n",
    ")\n",
    "print(sccoda_data)\n",
    "print(sccoda_data[\"coda\"].X)\n",
    "print(sccoda_data[\"coda\"].obs)"
   ]
  },
  {
   "cell_type": "code",
   "execution_count": null,
   "id": "90a467a8-f6b4-41f2-82e3-208821cca51f",
   "metadata": {},
   "outputs": [],
   "source": [
    "sccoda_data['coda'].obs.ICI_status.unique()"
   ]
  },
  {
   "cell_type": "code",
   "execution_count": null,
   "id": "4b2c8fac-b284-469a-8ed3-4d0135bde01b",
   "metadata": {},
   "outputs": [],
   "source": [
    "order = ['-ICI', '+ICI/SD', '+ICI/PD']\n",
    "sccoda_data['coda'].obs['ICI_status'] = pd.Categorical(sccoda_data['coda'].obs['ICI_status'], categories=order)"
   ]
  },
  {
   "cell_type": "code",
   "execution_count": null,
   "id": "c4fd9672-c0cf-4d04-b58d-12d5120b0033",
   "metadata": {},
   "outputs": [],
   "source": [
    "# prepare the model\n",
    "sccoda_data = sccoda_model.prepare(\n",
    "    sccoda_data,\n",
    "    modality_key=\"coda\",\n",
    "    formula=\"ICI_status\", #condition = timepoint\n",
    "    reference_cell_type=\"automatic\",\n",
    ")\n",
    "sccoda_data[\"coda\"]"
   ]
  },
  {
   "cell_type": "code",
   "execution_count": null,
   "id": "a7a5ab37-74e5-4dcf-8a91-86a53ba55403",
   "metadata": {},
   "outputs": [],
   "source": [
    "# run MCMC\n",
    "sccoda_model.run_nuts(sccoda_data, modality_key=\"coda\")\n",
    "sccoda_data[\"coda\"]"
   ]
  },
  {
   "cell_type": "markdown",
   "id": "d5fc2d9f-fdbc-425f-9280-501f4461fd44",
   "metadata": {},
   "source": [
    "## Result Intepretation"
   ]
  },
  {
   "cell_type": "code",
   "execution_count": null,
   "id": "604002a4-fed3-4e11-aa33-a809a77af2f6",
   "metadata": {},
   "outputs": [],
   "source": [
    "# see most relevant information\n",
    "sccoda_model.summary(sccoda_data, modality_key=\"coda\")"
   ]
  },
  {
   "cell_type": "code",
   "execution_count": null,
   "id": "c086e8c7-7f03-4a11-b0cf-8cd445fe5659",
   "metadata": {},
   "outputs": [],
   "source": [
    "sccoda_model.credible_effects(sccoda_data, modality_key=\"coda\")"
   ]
  },
  {
   "cell_type": "markdown",
   "id": "0e66280c-93f9-4282-9fbf-d25a39211d09",
   "metadata": {},
   "source": [
    "### Adjust FDR"
   ]
  },
  {
   "cell_type": "code",
   "execution_count": null,
   "id": "65ca280f-797c-4771-823d-300165a15f38",
   "metadata": {},
   "outputs": [],
   "source": [
    "sccoda_model.set_fdr(sccoda_data, modality_key=\"coda\", est_fdr=0.2)\n",
    "sccoda_model.summary(sccoda_data, modality_key=\"coda\")"
   ]
  },
  {
   "cell_type": "markdown",
   "id": "1a5ac302-d3a3-4857-8121-406ec468bb71",
   "metadata": {},
   "source": [
    "## Save Results"
   ]
  },
  {
   "cell_type": "code",
   "execution_count": null,
   "id": "96ea7d9c-828e-4c8c-a7f9-59f1a954cc69",
   "metadata": {},
   "outputs": [],
   "source": [
    "#sccoda_data.write_h5mu(os.path.join(work_dir, \"data\", \"outputdata\", \"combined\", \"TNK_Combined_SCR_CO2_immune_scCODA_15-04-24.h5mu\"))"
   ]
  },
  {
   "cell_type": "code",
   "execution_count": null,
   "id": "320cd032-be26-4c69-8968-51635e22657c",
   "metadata": {},
   "outputs": [],
   "source": [
    "test_model = pt.tl.Sccoda()\n",
    "test_model.get_intercept_df(sccoda_data, modality_key=\"coda\")"
   ]
  },
  {
   "cell_type": "code",
   "execution_count": null,
   "id": "23bb2bbf-51bc-4b4c-814f-9b4ad50b82f6",
   "metadata": {},
   "outputs": [],
   "source": [
    "test_model.get_intercept_df(sccoda_data, modality_key=\"coda\")"
   ]
  },
  {
   "cell_type": "code",
   "execution_count": null,
   "id": "55bb21ef-94f1-4152-8ad3-4e18072f8920",
   "metadata": {},
   "outputs": [],
   "source": [
    "effect = test_model.get_effect_df(sccoda_data, modality_key=\"coda\")\n",
    "effect"
   ]
  },
  {
   "cell_type": "code",
   "execution_count": null,
   "id": "c84f3dc4-7e1b-48b3-9b40-1f189061302d",
   "metadata": {},
   "outputs": [],
   "source": [
    "sccoda_data[\"coda\"].varm[\"intercept_df\"]"
   ]
  },
  {
   "cell_type": "markdown",
   "id": "17e45102-6b7f-4956-8b4b-f6cfdbd19f1c",
   "metadata": {},
   "source": [
    "## Visualization"
   ]
  },
  {
   "cell_type": "code",
   "execution_count": null,
   "id": "30efff05-2526-430e-af5f-2b55b9dfff6a",
   "metadata": {},
   "outputs": [],
   "source": [
    "sccoda_data['coda'].var_names"
   ]
  },
  {
   "cell_type": "code",
   "execution_count": null,
   "id": "ef4358c7-c1a2-41de-9b3f-6acf7ca3f326",
   "metadata": {},
   "outputs": [],
   "source": [
    "# some booxplot arguments to customize the plot\n",
    "boxprops = dict(linestyle='-', linewidth=1, edgecolor='black')\n",
    "flierprops = dict(marker='o', markerfacecolor='none', #markersize=12,\n",
    "                  markeredgecolor='black')\n",
    "medianprops = dict(linestyle='-', linewidth=.8, color='black')\n",
    "#meanpointprops = dict(marker='D', markeredgecolor='black',markerfacecolor='black')\n",
    "meanlineprops = dict(linestyle='--', linewidth=.8, color='black')\n"
   ]
  },
  {
   "cell_type": "code",
   "execution_count": null,
   "id": "f752e692-a3b2-44da-83cc-a1fd74941987",
   "metadata": {},
   "outputs": [],
   "source": [
    "# define cell types for plotting\n",
    "cell_types = sccoda_data['coda'].var_names.tolist()\n",
    "print(cell_types)"
   ]
  },
  {
   "cell_type": "code",
   "execution_count": null,
   "id": "0dbfa501-67b7-437f-88ef-57d0908ca8c3",
   "metadata": {},
   "outputs": [],
   "source": [
    "# create df for plotting\n",
    "feature_name=[\"Condition\", \"response\", \"patient\", \"ICI_status\"]\n",
    "data=sccoda_data['coda']\n",
    "\n",
    "sample_sums = np.sum(data.X, axis=1, keepdims=True)\n",
    "X = data.X/sample_sums\n",
    "value_name = \"Proportion\"\n",
    "\n",
    "count_df = pd.DataFrame(X, columns=data.var.index, index=data.obs.index).\\\n",
    "        merge(data.obs[feature_name], left_index=True, right_index=True)\n",
    "plot_df = pd.melt(count_df, id_vars=feature_name, var_name=\"Cell type\", value_name=value_name)\n",
    "if cell_types is not None:\n",
    "    plot_df = plot_df[plot_df[\"Cell type\"].isin(cell_types)]"
   ]
  },
  {
   "cell_type": "code",
   "execution_count": null,
   "id": "67252c7a-83df-437c-b2a7-7e8eee094027",
   "metadata": {},
   "outputs": [],
   "source": [
    "plot_df"
   ]
  },
  {
   "cell_type": "code",
   "execution_count": null,
   "id": "07bf1639-56bb-41fb-9689-b454b5016320",
   "metadata": {},
   "outputs": [],
   "source": [
    "# define cell types that have an effect\n",
    "effect1 = [\"CD4 T CM/EarlyActivated\", \"CD4 T Follicular Helper\", \"CD4 T Regulatory\", \"CD8 T Proliferative\", \"CD8 T TRM Effector\", \"CD8 T TRM Exhausted\", \"CD8 T TRM PreExhausted\", \"CD56dim CD16hi NK\"]\n",
    "effect2 = [\"CD4 T CM/EarlyActivated\", \"CD4 T Central Memory\", \"CD4 T Follicular Helper\", \"CD4 T Naive\", \"CD8 T TRM PreExhausted\", \"CD56dim CD16lo NK\"]\n",
    "\n",
    "effect_dict_1 = { # -ICI vs. +ICI/SD\n",
    "    'CD4 T CM/EarlyActivated' : '*', \n",
    "    'CD4 T Central Memory' : 'ns',\n",
    "    'CD4 T Follicular Helper' : '*', \n",
    "    'CD4 T Helper-like' : 'ns', \n",
    "    'CD4 T ISG+' : 'ns',\n",
    "    'CD4 T Naive' : 'ns', \n",
    "    'CD4 T Proliferative' : 'ns', \n",
    "    'CD4 T Regulatory' : '*',\n",
    "    'CD8 T Effector' : 'ns', \n",
    "    'CD8 T MAIT' : 'ns', \n",
    "    'CD8 T Naive' : 'ns', \n",
    "    'CD8 T Proliferative' : '*',\n",
    "    'CD8 T TRM Effector' : '*', \n",
    "    'CD8 T TRM Exhausted' : '*', \n",
    "    'CD8 T TRM PreExhausted' : '*',\n",
    "    'CD56dim CD16hi NK' : '*', \n",
    "    'CD56hi CD16lo NK' : 'ns', \n",
    "    'Cycling γδ T-like' : 'ns',\n",
    "    'NKT-like' : 'ns', \n",
    "    'γδ T-like' : 'ns'\n",
    "}\n",
    "\n",
    "effect_dict_2 = { # -ICI vs. +ICI/PD\n",
    "    'CD4 T CM/EarlyActivated' : '*', \n",
    "    'CD4 T Central Memory' : '*',\n",
    "    'CD4 T Follicular Helper' : '*', \n",
    "    'CD4 T Helper-like' : 'ns', \n",
    "    'CD4 T ISG+' : 'ns',\n",
    "    'CD4 T Naive' : '*', \n",
    "    'CD4 T Proliferative' : 'ns', \n",
    "    'CD4 T Regulatory' : 'ns',\n",
    "    'CD8 T Effector' : 'ns', \n",
    "    'CD8 T MAIT' : 'ns', \n",
    "    'CD8 T Naive' : 'ns', \n",
    "    'CD8 T Proliferative' : 'ns',\n",
    "    'CD8 T TRM Effector' : 'ns', \n",
    "    'CD8 T TRM Exhausted' : 'ns', \n",
    "    'CD8 T TRM PreExhausted' : '*',\n",
    "    'CD56dim CD16hi NK' : 'ns', \n",
    "    'CD56hi CD16lo NK' : '*', \n",
    "    'Cycling γδ T-like' : 'ns',\n",
    "    'NKT-like' : 'ns', \n",
    "    'γδ T-like' : 'ns'\n",
    "}"
   ]
  },
  {
   "cell_type": "code",
   "execution_count": null,
   "id": "e8322401-fbe2-4562-9522-33364857b924",
   "metadata": {},
   "outputs": [],
   "source": [
    "for cell_type in cell_types:\n",
    "    \n",
    "    fig, ax = plt.subplots(figsize=(2,2), dpi=120)\n",
    "\n",
    "    sns.boxplot(\n",
    "        x=\"ICI_status\", \n",
    "        y=\"Proportion\", \n",
    "        data=plot_df[plot_df[\"Cell type\"] == cell_type],\n",
    "        hue=\"ICI_status\", \n",
    "        #order=[\"T0/-ICI\",\"T1/+ICI\"],\n",
    "        ax=ax,\n",
    "        vert=True, \n",
    "        patch_artist=True, \n",
    "        palette=[\"white\", \"blue\", \"red\"], \n",
    "        meanline=True, \n",
    "        showmeans=True,\n",
    "        showfliers=False,\n",
    "        boxprops=boxprops,\n",
    "        #flierprops=flierprops,\n",
    "        medianprops=medianprops,\n",
    "        meanprops=meanlineprops\n",
    "    )\n",
    "        \n",
    "    \n",
    "    sns.swarmplot(\n",
    "        x=\"ICI_status\", \n",
    "        y=\"Proportion\", \n",
    "        data=plot_df[plot_df[\"Cell type\"] == cell_type], \n",
    "        hue=\"patient\",  # Color by \"patient\" variable\n",
    "        palette=\"Spectral\",  # Choose a color palette\n",
    "        dodge=False,  # Separate dots for each level of \"patient\n",
    "        #jitter=False\n",
    "        ax=ax,\n",
    "        size=4,\n",
    "        edgecolor=\"black\",\n",
    "        linewidth=.5,\n",
    "        alpha=1\n",
    "    )\n",
    "\n",
    "    #ax.set_xticks([])\n",
    "    ax.set_title(cell_type)\n",
    "    ax.set_xlabel('ICI Status')\n",
    "    ymax = plot_df[plot_df[\"Cell type\"] == cell_type][\"Proportion\"].max()\n",
    "    ax.plot([0, 0, 2, 2], [ymax + .08, ymax + .09, ymax + .09, ymax + .08], lw=1, color='black')\n",
    "    ax.text(1, ymax+.085, f\" {effect_dict_2[cell_type]}\", ha='center', va='bottom', size=8, color='black')\n",
    "    ax.plot([0, 0, 1, 1], [ymax + .05, ymax + .06, ymax + .06, ymax + .05], lw=1, color='black')\n",
    "    ax.text(0.5, ymax+.055, f\" {effect_dict_1[cell_type]}\", ha='center', va='bottom', size=8, color='black')\n",
    "    #ax.set_ylim([0, ymax+.1])\n",
    "    plt.yticks(fontsize = 9) \n",
    "    plt.xticks(fontsize = 9) \n",
    "\n",
    "    legend = plt.legend(loc='right', bbox_to_anchor=(1.8, .5), ncol=1, title=\"Patient\", frameon=True)\n",
    "    plt.setp(legend.get_title(),fontsize='12')\n",
    "    plt.tight_layout()\n",
    "      \n",
    "    if cell_type == \"CD4 T CM/EarlyActivated\":\n",
    "        cell_type = \"CD4 T CM-EarlyActivated\" \n",
    "    \n",
    "    plt.savefig(os.path.join(fig_dir, \"TNK_Comp_\"+cell_type+\"_boxplot_by_ICI_status.png\"), dpi=600, format=\"png\", bbox_inches=\"tight\")"
   ]
  }
 ],
 "metadata": {
  "kernelspec": {
   "display_name": "Python 3 (ipykernel)",
   "language": "python",
   "name": "python3"
  },
  "language_info": {
   "codemirror_mode": {
    "name": "ipython",
    "version": 3
   },
   "file_extension": ".py",
   "mimetype": "text/x-python",
   "name": "python",
   "nbconvert_exporter": "python",
   "pygments_lexer": "ipython3",
   "version": "3.9.18"
  }
 },
 "nbformat": 4,
 "nbformat_minor": 5
}
