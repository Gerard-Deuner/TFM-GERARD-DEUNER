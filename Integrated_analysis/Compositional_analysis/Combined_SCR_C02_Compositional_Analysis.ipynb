{
 "cells": [
  {
   "cell_type": "markdown",
   "id": "56d110a8-248c-4867-b327-051217b244a2",
   "metadata": {
    "execution": {
     "iopub.execute_input": "2024-03-22T15:40:12.013621Z",
     "iopub.status.busy": "2024-03-22T15:40:12.012831Z",
     "iopub.status.idle": "2024-03-22T15:40:12.016811Z",
     "shell.execute_reply": "2024-03-22T15:40:12.016381Z",
     "shell.execute_reply.started": "2024-03-22T15:40:12.013564Z"
    }
   },
   "source": [
    "# Compositional Analysis - Timepoints Comparison (All Cell Types)"
   ]
  },
  {
   "cell_type": "markdown",
   "id": "f7429b27-4ea9-4870-a5da-9e56ceac9618",
   "metadata": {},
   "source": [
    "### Environment Set Up"
   ]
  },
  {
   "cell_type": "code",
   "execution_count": null,
   "id": "1a2c6d5e-8f09-478a-98ca-019399c2f98a",
   "metadata": {},
   "outputs": [],
   "source": [
    "# load libraries\n",
    "import warnings\n",
    "import matplotlib.pyplot as plt\n",
    "import mudata as mu\n",
    "import pertpy as pt\n",
    "import scanpy as sc\n",
    "import numpy as np\n",
    "import pandas as pd\n",
    "import seaborn\n",
    "import os\n",
    "from statannot import add_stat_annotation"
   ]
  },
  {
   "cell_type": "code",
   "execution_count": null,
   "id": "4b69b427-3fe3-4dce-90e2-d5fe8bad8578",
   "metadata": {},
   "outputs": [],
   "source": [
    "# set up figure parameters\n",
    "plt.rcParams['figure.figsize'] = (4, 4)\n",
    "sc.settings.verbosity = 0\n",
    "sc.settings.set_figure_params(\n",
    "    dpi=300,\n",
    "    facecolor=\"white\",\n",
    "    frameon=False,\n",
    "    figsize=(4,4)\n",
    ")"
   ]
  },
  {
   "cell_type": "code",
   "execution_count": null,
   "id": "97ebfa4f-e274-4411-9988-73ed24d06747",
   "metadata": {},
   "outputs": [],
   "source": [
    "# remove warnings\n",
    "import warnings\n",
    "warnings.filterwarnings('ignore')"
   ]
  },
  {
   "cell_type": "code",
   "execution_count": null,
   "id": "1351a6f2-8897-4cec-bcce-257be2043bf6",
   "metadata": {},
   "outputs": [],
   "source": [
    "# set up dirs\n",
    "work_dir = \"/scratch_isilon/groups/singlecell/gdeuner/SERPENTINE/\"\n",
    "fig_dir = os.path.join(work_dir, \"figures\", \"combined\", \"compositional_analysis\", \"timepoints_comparison\")\n",
    "sc.settings.figdir = os.path.join(work_dir, \"figures\", \"combined\", \"compositional_analysis\", \"timepoints_comparison\")"
   ]
  },
  {
   "cell_type": "code",
   "execution_count": null,
   "id": "884ac9fa-cc47-413b-a37b-bd5a2e239f33",
   "metadata": {},
   "outputs": [],
   "source": [
    "# read anndata object\n",
    "adata = sc.read_h5ad(os.path.join(work_dir, \"data\", \"outputdata\", \"combined\", \"Combined_SCR_CO2_TCR_full-integrated_annot_22-03-24.h5ad\"))"
   ]
  },
  {
   "cell_type": "code",
   "execution_count": null,
   "id": "592825ea-2e48-4881-aeb0-68701242151b",
   "metadata": {},
   "outputs": [],
   "source": [
    "# create condition variable\n",
    "adata"
   ]
  },
  {
   "cell_type": "markdown",
   "id": "b032ab9b-477c-45cd-b2af-4586d2ab02bd",
   "metadata": {},
   "source": [
    "## Model Setup & Inference"
   ]
  },
  {
   "cell_type": "code",
   "execution_count": null,
   "id": "b460f484-3eee-416b-9180-3e96c25b43db",
   "metadata": {},
   "outputs": [],
   "source": [
    "# initiate scCODA model\n",
    "sccoda_model = pt.tl.Sccoda()\n",
    "sccoda_data = sccoda_model.load(\n",
    "    adata,\n",
    "    #adata[adata.obs[\"Annotation_1.0\"].isin([\"CD8 T\", \"CD4 T\", \"NK\", \"pDC\", \"Myeloid\", \"Plasma\", \"B Cell\"])].copy(), # do just include the immune cell types\n",
    "    type=\"cell_level\",\n",
    "    generate_sample_level=True,\n",
    "    cell_type_identifier=\"Annotation_1.0\",\n",
    "    sample_identifier=\"sample\",\n",
    "    covariate_obs=[\"subproject\", \"patient\", \"timepoint\", \"response\", \"ICI_status\", \"Condition\"],\n",
    "        \n",
    ")\n",
    "print(sccoda_data)\n",
    "print(sccoda_data[\"coda\"].X)\n",
    "print(sccoda_data[\"coda\"].obs)"
   ]
  },
  {
   "cell_type": "code",
   "execution_count": null,
   "id": "b82bcd88-af4d-4a1c-9b70-dada77c71840",
   "metadata": {},
   "outputs": [],
   "source": [
    "pt.pl.coda.boxplots(sccoda_data, \n",
    "                    modality_key=\"coda\", \n",
    "                    feature_name=\"timepoint\", \n",
    "                    add_dots=False,\n",
    "                    figsize=[6,6],\n",
    "                    level_order=[\"SCR\", \"C02\"],\n",
    "                    cmap=[\"coral\",\"darkviolet\"]\n",
    "                   )\n",
    "plt.show()"
   ]
  },
  {
   "cell_type": "code",
   "execution_count": null,
   "id": "734d8648-7691-4b21-9345-d706e740003f",
   "metadata": {},
   "outputs": [],
   "source": [
    "# prepare the model\n",
    "sccoda_data = sccoda_model.prepare(\n",
    "    sccoda_data,\n",
    "    modality_key=\"coda\",\n",
    "    formula=\"Condition\", #condition = timepoint\n",
    "    reference_cell_type=\"automatic\",\n",
    ")\n",
    "sccoda_data[\"coda\"]"
   ]
  },
  {
   "cell_type": "code",
   "execution_count": null,
   "id": "fd543864-9c82-4bba-b8d7-0f2dd8e27a50",
   "metadata": {},
   "outputs": [],
   "source": [
    "# run MCMC\n",
    "sccoda_model.run_nuts(sccoda_data, modality_key=\"coda\")\n",
    "sccoda_data[\"coda\"]"
   ]
  },
  {
   "cell_type": "markdown",
   "id": "9d41b4f7-8d0b-4b7b-be75-b650c7b24454",
   "metadata": {},
   "source": [
    "## Result Intepretation"
   ]
  },
  {
   "cell_type": "code",
   "execution_count": null,
   "id": "d504eabf-deec-4c76-a2f9-c013203e98f4",
   "metadata": {},
   "outputs": [],
   "source": [
    "# see most relevant information\n",
    "sccoda_model.summary(sccoda_data, modality_key=\"coda\")"
   ]
  },
  {
   "cell_type": "code",
   "execution_count": null,
   "id": "a05758f0-e7b2-4d26-a5a2-c07f57024165",
   "metadata": {},
   "outputs": [],
   "source": [
    "sccoda_model.credible_effects(sccoda_data, modality_key=\"coda\")"
   ]
  },
  {
   "cell_type": "markdown",
   "id": "956b4cb2-3f70-4016-a54b-69ecdd511e77",
   "metadata": {},
   "source": [
    "### Adjust FDR"
   ]
  },
  {
   "cell_type": "code",
   "execution_count": null,
   "id": "07d93b30-c6fc-471e-a553-0613a2010790",
   "metadata": {},
   "outputs": [],
   "source": [
    "sccoda_model.set_fdr(sccoda_data, modality_key=\"coda\", est_fdr=0.2)\n",
    "sccoda_model.summary(sccoda_data, modality_key=\"coda\")"
   ]
  },
  {
   "cell_type": "markdown",
   "id": "3cb8d642-8a05-4d9d-b386-a43e5b278df9",
   "metadata": {},
   "source": [
    "## Save Results"
   ]
  },
  {
   "cell_type": "code",
   "execution_count": null,
   "id": "dc061aea-a3ef-4c71-a311-aac640421dcc",
   "metadata": {},
   "outputs": [],
   "source": [
    "#sccoda_data.write_h5mu(os.path.join(work_dir, \"data\", \"outputdata\", \"combined\", \"Combined_SCR_CO2_immune_scCODA_10-04-24.h5mu\"))"
   ]
  },
  {
   "cell_type": "code",
   "execution_count": null,
   "id": "0c11b18d-c93b-4cd6-8b63-82a192430a8b",
   "metadata": {},
   "outputs": [],
   "source": [
    "test_model = pt.tl.Sccoda()\n",
    "test_model.get_intercept_df(sccoda_data, modality_key=\"coda\")"
   ]
  },
  {
   "cell_type": "code",
   "execution_count": null,
   "id": "99ba9206-928b-40fe-988f-a85b7737722e",
   "metadata": {},
   "outputs": [],
   "source": [
    "test_model.get_intercept_df(sccoda_data, modality_key=\"coda\")"
   ]
  },
  {
   "cell_type": "code",
   "execution_count": null,
   "id": "488f00d6-4b20-4076-b6b1-c101aef5c601",
   "metadata": {},
   "outputs": [],
   "source": [
    "test_model.get_effect_df(sccoda_data, modality_key=\"coda\")"
   ]
  },
  {
   "cell_type": "code",
   "execution_count": null,
   "id": "177c6efe-03fa-4b67-8997-c2920e1b99c2",
   "metadata": {},
   "outputs": [],
   "source": [
    "sccoda_data[\"coda\"].varm[\"intercept_df\"]"
   ]
  },
  {
   "cell_type": "markdown",
   "id": "f9fe73f0-1c14-416a-9175-071b944c4ddb",
   "metadata": {},
   "source": [
    "## Visualization"
   ]
  },
  {
   "cell_type": "code",
   "execution_count": null,
   "id": "a578cb86-dbd4-4607-9e91-540a81bf4050",
   "metadata": {},
   "outputs": [],
   "source": [
    "# counts\n",
    "sccoda_data['coda'].var"
   ]
  },
  {
   "cell_type": "code",
   "execution_count": null,
   "id": "e3ddcc05-d73e-4f31-bced-2d8b874498bc",
   "metadata": {},
   "outputs": [],
   "source": [
    "# proportion\n",
    "props = round(sccoda_data['coda'].var.n_cells / sccoda_data['coda'].var.n_cells.sum(), 3)\n",
    "props"
   ]
  },
  {
   "cell_type": "code",
   "execution_count": null,
   "id": "ae225439-9139-4428-92dd-7ea2627e37b9",
   "metadata": {},
   "outputs": [],
   "source": [
    "sccoda_data['coda'].obs"
   ]
  },
  {
   "cell_type": "code",
   "execution_count": null,
   "id": "17f448a7-46c0-40ed-b4b5-6babd0a39f6a",
   "metadata": {},
   "outputs": [],
   "source": [
    "palette = [\"limegreen\", \"saddlebrown\", \"tomato\", \"red\", \"gold\", \"hotpink\", \"royalblue\", \"orange\", \"darkgreen\", \"dimgray\", \"skyblue\"]\n",
    "\n",
    "# Convert props to cumulative sums\n",
    "cf = props.cumsum()\n",
    "\n",
    "# Set the figure size and dpi\n",
    "plt.figure(figsize=(8, 1), dpi=120)  # Adjust the width and height to make the plot thinner\n",
    "\n",
    "# Create horizontal bar plot\n",
    "plt.barh(0, props[0], edgecolor=\"white\", height=0.2, color=palette[0])\n",
    "\n",
    "for i in range(1, len(props)):\n",
    "    plt.barh(0, props[i], left=cf[i-1], edgecolor=\"white\", height=0.2, color=palette[i])\n",
    "\n",
    "# Remove y-axis ticks and labels\n",
    "plt.gca().axes.get_yaxis().set_visible(False)\n",
    "\n",
    "# Set x-axis label and title\n",
    "plt.xlabel('Proportion')\n",
    "plt.title('Proportion Bar Plot', pad=20)\n",
    "\n",
    "# Move the x-axis label and title below the plot\n",
    "plt.gca().xaxis.set_label_coords(0.5, -0.1)\n",
    "plt.gca().title.set_position([0.5, -0.2])"
   ]
  },
  {
   "cell_type": "code",
   "execution_count": null,
   "id": "bc2c914f-b1ba-4bdd-9d21-9de11bc54bc7",
   "metadata": {},
   "outputs": [],
   "source": [
    "props[0]"
   ]
  },
  {
   "cell_type": "code",
   "execution_count": null,
   "id": "c4131246-d059-4822-8e5c-02f997b422d1",
   "metadata": {},
   "outputs": [],
   "source": [
    "palette=[\"limegreen\", \"saddlebrown\", \"tomato\", \"red\", \"gold\", \"hotpink\", \"royalblue\", \"orange\", \"darkgreen\", \"dimgray\", \"skyblue\"]\n",
    "\n",
    "sum(props)\n",
    "\n",
    "cf = props.cumsum()\n",
    "\n",
    "# Create a figure and axis\n",
    "plt.figure(figsize=(6, .5), dpi=120)\n",
    "ax = plt.gca()\n",
    "\n",
    "# Plot each bar with the specified color\n",
    "for i in range(len(props)):\n",
    "    if i == 0:\n",
    "        # First bar starts from 0\n",
    "        ax.barh(0, props[i], edgecolor=\"white\", height=0.01, color=palette[i])\n",
    "    else:\n",
    "        # Subsequent bars start from the end of the previous bar\n",
    "        ax.barh(0, props[i], left=cf[i-1], edgecolor=\"white\", height=0.01, color=palette[i])\n",
    "\n",
    "# Remove y-axis ticks and labels\n",
    "ax.axes.get_yaxis().set_visible(False)\n",
    "\n",
    "# Set x-axis label and title\n",
    "ax.set_xlabel('Proportion')\n",
    "# Move the x-axis label and title below the plot\n",
    "ax.xaxis.set_label_coords(0.5, -1)\n",
    "ax.title.set_position([0.5, -0.2])\n",
    "plt.xticks(fontsize=11)\n",
    "plt.xlim(0, 1.0)\n",
    "#plt.ylabel('proportion')\n",
    "#frame1=plt.gca()\n",
    "#frame1.axes.get_xaxis().set_visible(False)\n",
    "plt.savefig(os.path.join(\"/scratch_isilon/groups/singlecell/gdeuner/SERPENTINE/figures/combined/compositional_analysis\", \"barplot_all_celltypes.pdf\"), dpi=600, format=\"png\", bbox_inches=\"tight\")\n",
    "plt.savefig(os.path.join(\"/scratch_isilon/groups/singlecell/gdeuner/SERPENTINE/figures/TFM/Fig1\", \"barplot_all_celltypes.svg\"), dpi=600, format=\"svg\", bbox_inches=\"tight\")\n",
    "plt.show()"
   ]
  },
  {
   "cell_type": "code",
   "execution_count": null,
   "id": "77baa3c7-703f-403a-b1a5-39f4482ce841",
   "metadata": {},
   "outputs": [],
   "source": [
    "# stacked plot of cell type proportions per patient\n",
    "import matplotlib.colors as mcolors\n",
    "cmap = mcolors.ListedColormap(palette)\n",
    "plot = pt.pl.coda.stacked_barplot(\n",
    "    sccoda_data,\n",
    "    modality_key=\"coda\",  \n",
    "    feature_name=\"patient\", \n",
    "    cmap=cmap,\n",
    "    dpi=300\n",
    ")\n",
    "plot.set(title = \"Patient\")\n",
    "plot.set_xticks([0,1,2,3,4], [\"PD_01\", \"PD_02\", \"PD_03\", \"SD_01\", \"PD_04\"], ha=\"center\", rotation=30)\n",
    "plt.savefig(os.path.join(\"/scratch_isilon/groups/singlecell/gdeuner/SERPENTINE/figures/ISCO24_poster/Fig1\", \"Comp_barplot_by_patient.png\"), dpi=600, format=\"png\", bbox_inches=\"tight\")\n",
    "plt.show()"
   ]
  },
  {
   "cell_type": "markdown",
   "id": "f47f3176-48c0-449a-a4b8-5d4f932170e2",
   "metadata": {
    "execution": {
     "iopub.execute_input": "2024-03-22T15:40:12.013621Z",
     "iopub.status.busy": "2024-03-22T15:40:12.012831Z",
     "iopub.status.idle": "2024-03-22T15:40:12.016811Z",
     "shell.execute_reply": "2024-03-22T15:40:12.016381Z",
     "shell.execute_reply.started": "2024-03-22T15:40:12.013564Z"
    }
   },
   "source": [
    "# Compositional Analysis - Timepoints Comparison (Immune Cell Types)"
   ]
  },
  {
   "cell_type": "markdown",
   "id": "d930c075-2568-4dd7-aac0-60a31f1db654",
   "metadata": {},
   "source": [
    "### Environment Set Up"
   ]
  },
  {
   "cell_type": "code",
   "execution_count": null,
   "id": "8e49a772-7be2-4e0b-a4a2-4517ebdeee5e",
   "metadata": {},
   "outputs": [],
   "source": [
    "# load libraries\n",
    "import warnings\n",
    "import matplotlib.pyplot as plt\n",
    "import mudata as mu\n",
    "import pertpy as pt\n",
    "import scanpy as sc\n",
    "import numpy as np\n",
    "import pandas as pd\n",
    "import seaborn as sns\n",
    "import os\n",
    "from statannot import add_stat_annotation"
   ]
  },
  {
   "cell_type": "code",
   "execution_count": null,
   "id": "fa0f4886-53bd-4bfa-a1c1-732ecec00458",
   "metadata": {},
   "outputs": [],
   "source": [
    "# set up figure parameters\n",
    "plt.rcParams['figure.figsize'] = (4, 4)\n",
    "sc.settings.verbosity = 0\n",
    "sc.settings.set_figure_params(\n",
    "    dpi=300,\n",
    "    facecolor=\"white\",\n",
    "    frameon=False,\n",
    "    figsize=(4,4)\n",
    ")"
   ]
  },
  {
   "cell_type": "code",
   "execution_count": null,
   "id": "83af436e-f17f-4fc1-8b9e-655c817008a7",
   "metadata": {},
   "outputs": [],
   "source": [
    "# remove warnings\n",
    "import warnings\n",
    "warnings.filterwarnings('ignore')"
   ]
  },
  {
   "cell_type": "code",
   "execution_count": null,
   "id": "3f1a6364-cfd1-41b8-b19c-785c3e307564",
   "metadata": {},
   "outputs": [],
   "source": [
    "# set up dirs\n",
    "work_dir = \"/scratch_isilon/groups/singlecell/gdeuner/SERPENTINE/\"\n",
    "fig_dir = os.path.join(work_dir, \"figures\", \"combined\", \"compositional_analysis\", \"timepoints_comparison\")\n",
    "sc.settings.figdir = os.path.join(work_dir, \"figures\", \"combined\", \"compositional_analysis\", \"timepoints_comparison\")"
   ]
  },
  {
   "cell_type": "code",
   "execution_count": null,
   "id": "79c8feec-59ce-49bc-84c5-9ce949928bc5",
   "metadata": {},
   "outputs": [],
   "source": [
    "# read anndata object\n",
    "adata = sc.read_h5ad(os.path.join(work_dir, \"data\", \"outputdata\", \"combined\", \"Combined_SCR_CO2_TCR_full-integrated_annot_22-03-24.h5ad\"))"
   ]
  },
  {
   "cell_type": "code",
   "execution_count": null,
   "id": "f7fbdb02-e79a-46a9-bfb7-5b0c4653a4bf",
   "metadata": {},
   "outputs": [],
   "source": [
    "# create condition variable\n",
    "adata"
   ]
  },
  {
   "cell_type": "markdown",
   "id": "9f9337a8-fb40-4e03-a36a-f3c37ebf9730",
   "metadata": {},
   "source": [
    "## Model Setup & Inference"
   ]
  },
  {
   "cell_type": "code",
   "execution_count": null,
   "id": "a3435cba-0f4a-4eab-8c6f-b23266ea505b",
   "metadata": {},
   "outputs": [],
   "source": [
    "# initiate scCODA model\n",
    "sccoda_model = pt.tl.Sccoda()\n",
    "sccoda_data = sccoda_model.load(\n",
    "    adata[adata.obs[\"Annotation_1.0\"].isin([\"CD8 T\", \"CD4 T\", \"NK\", \"pDC\", \"Myeloid\", \"Plasma\", \"B Cell\"])].copy(), # do just include the immune cell types\n",
    "    type=\"cell_level\",\n",
    "    generate_sample_level=True,\n",
    "    cell_type_identifier=\"Annotation_1.0\",\n",
    "    sample_identifier=\"sample\",\n",
    "    covariate_obs=[\"subproject\", \"patient\", \"timepoint\", \"response\", \"ICI_status\", \"Condition\"],\n",
    "        \n",
    ")\n",
    "print(sccoda_data)\n",
    "print(sccoda_data[\"coda\"].X)\n",
    "print(sccoda_data[\"coda\"].obs)"
   ]
  },
  {
   "cell_type": "code",
   "execution_count": null,
   "id": "81dca90f-6a1d-4fe4-bd0d-c6ce6c0db68f",
   "metadata": {},
   "outputs": [],
   "source": [
    "pt.pl.coda.boxplots(sccoda_data, \n",
    "                    modality_key=\"coda\", \n",
    "                    feature_name=\"timepoint\", \n",
    "                    add_dots=True,\n",
    "                    figsize=[6,6],\n",
    "                    level_order=[\"SCR\", \"C02\"],\n",
    "                    cmap=[\"coral\",\"darkviolet\"],\n",
    "                    #args_swarmplot={\"palette\": [\"red\"]},\n",
    "                   )\n",
    "plt.show()"
   ]
  },
  {
   "cell_type": "code",
   "execution_count": null,
   "id": "1ce1f21f-7b23-4db3-b8f9-3059906ea96c",
   "metadata": {},
   "outputs": [],
   "source": [
    "# prepare the model\n",
    "sccoda_data = sccoda_model.prepare(\n",
    "    sccoda_data,\n",
    "    modality_key=\"coda\",\n",
    "    formula=\"Condition\", #condition = timepoint\n",
    "    reference_cell_type=\"automatic\",\n",
    ")\n",
    "sccoda_data[\"coda\"]"
   ]
  },
  {
   "cell_type": "code",
   "execution_count": null,
   "id": "79878c93-c14d-4669-b2a3-9172a7e53fe2",
   "metadata": {},
   "outputs": [],
   "source": [
    "# run MCMC\n",
    "sccoda_model.run_nuts(sccoda_data, modality_key=\"coda\")\n",
    "sccoda_data[\"coda\"]"
   ]
  },
  {
   "cell_type": "markdown",
   "id": "993b7af4-18be-45d9-bade-c936e016882c",
   "metadata": {},
   "source": [
    "## Result Intepretation"
   ]
  },
  {
   "cell_type": "code",
   "execution_count": null,
   "id": "ad0bcb0e-adef-4916-93cd-0496c5bc158a",
   "metadata": {},
   "outputs": [],
   "source": [
    "# see most relevant information\n",
    "sccoda_model.summary(sccoda_data, modality_key=\"coda\")"
   ]
  },
  {
   "cell_type": "code",
   "execution_count": null,
   "id": "64510269-e4f4-4fc7-8cc5-a592e8f30aad",
   "metadata": {},
   "outputs": [],
   "source": [
    "sccoda_model.credible_effects(sccoda_data, modality_key=\"coda\")"
   ]
  },
  {
   "cell_type": "markdown",
   "id": "6e7a4cfb-e127-491b-a092-de7b597d4807",
   "metadata": {},
   "source": [
    "### Adjust FDR"
   ]
  },
  {
   "cell_type": "code",
   "execution_count": null,
   "id": "5817cea8-9eed-4a3a-b937-2c91953ba27a",
   "metadata": {},
   "outputs": [],
   "source": [
    "sccoda_model.set_fdr(sccoda_data, modality_key=\"coda\", est_fdr=0.2)\n",
    "sccoda_model.summary(sccoda_data, modality_key=\"coda\")"
   ]
  },
  {
   "cell_type": "markdown",
   "id": "1e7c3006-bac5-4488-97f1-374472da5921",
   "metadata": {},
   "source": [
    "## Save Results"
   ]
  },
  {
   "cell_type": "code",
   "execution_count": null,
   "id": "1f8c8c91-ed8e-49ed-8952-3f1850af803b",
   "metadata": {},
   "outputs": [],
   "source": [
    "#sccoda_data.write_h5mu(os.path.join(work_dir, \"data\", \"outputdata\", \"combined\", \"Combined_SCR_CO2_immune_scCODA_10-04-24.h5mu\"))"
   ]
  },
  {
   "cell_type": "code",
   "execution_count": null,
   "id": "eaaaad96-58d4-40d4-894b-afa3c5638ee2",
   "metadata": {},
   "outputs": [],
   "source": [
    "test_model = pt.tl.Sccoda()\n",
    "test_model.get_intercept_df(sccoda_data, modality_key=\"coda\")"
   ]
  },
  {
   "cell_type": "code",
   "execution_count": null,
   "id": "be3e3e36-85ba-4d07-a2a1-7a1decc0f41a",
   "metadata": {},
   "outputs": [],
   "source": [
    "test_model.get_intercept_df(sccoda_data, modality_key=\"coda\")"
   ]
  },
  {
   "cell_type": "code",
   "execution_count": null,
   "id": "4ac77c7e-0850-4c00-86e0-09cdbbddf41f",
   "metadata": {},
   "outputs": [],
   "source": [
    "test_model.get_effect_df(sccoda_data, modality_key=\"coda\")"
   ]
  },
  {
   "cell_type": "code",
   "execution_count": null,
   "id": "0f0bf65c-aaa6-447b-ab88-ae6e345c9356",
   "metadata": {},
   "outputs": [],
   "source": [
    "sccoda_data[\"coda\"].varm[\"intercept_df\"]"
   ]
  },
  {
   "cell_type": "markdown",
   "id": "71c50051-b415-4f17-ab15-a034e8c9446a",
   "metadata": {},
   "source": [
    "## Visualization"
   ]
  },
  {
   "cell_type": "code",
   "execution_count": null,
   "id": "de5f5b77-86e3-4f5e-a7e7-eb560c6d3aab",
   "metadata": {},
   "outputs": [],
   "source": [
    "# counts\n",
    "sccoda_data['coda'].var"
   ]
  },
  {
   "cell_type": "code",
   "execution_count": null,
   "id": "cfaf6ebd-3767-4217-b7ec-28b8c9b4e2e1",
   "metadata": {},
   "outputs": [],
   "source": [
    "# proportion\n",
    "props = round(sccoda_data['coda'].var.n_cells / sccoda_data['coda'].var.n_cells.sum(), 3)\n",
    "props"
   ]
  },
  {
   "cell_type": "code",
   "execution_count": null,
   "id": "c95673c5-e343-4363-92fa-896d5cc03c28",
   "metadata": {},
   "outputs": [],
   "source": [
    "sccoda_data['coda'].obs"
   ]
  },
  {
   "cell_type": "code",
   "execution_count": null,
   "id": "a33e7a0e-e5dc-4123-8d25-33a006d9acb9",
   "metadata": {},
   "outputs": [],
   "source": [
    "# some booxplot arguments to customize the plot\n",
    "boxprops = dict(linestyle='-', linewidth=1, edgecolor='black')\n",
    "flierprops = dict(marker='o', markerfacecolor='black', #markersize=12,\n",
    "                  markeredgecolor='none')\n",
    "medianprops = dict(linestyle='-', linewidth=.8, color='black')\n",
    "#meanpointprops = dict(marker='D', markeredgecolor='black',markerfacecolor='black')\n",
    "meanlineprops = dict(linestyle='--', linewidth=.8, color='black')\n"
   ]
  },
  {
   "cell_type": "code",
   "execution_count": null,
   "id": "6d5b917d-269c-4dfc-9e71-978962289e7e",
   "metadata": {},
   "outputs": [],
   "source": [
    "# define cell types for plotting\n",
    "cell_types = sccoda_data['coda'].var_names.tolist()\n",
    "print(cell_types)"
   ]
  },
  {
   "cell_type": "code",
   "execution_count": null,
   "id": "3ddfd47f-7328-45c0-b344-15d5b9880286",
   "metadata": {},
   "outputs": [],
   "source": [
    "effect_cell_types = []"
   ]
  },
  {
   "cell_type": "code",
   "execution_count": null,
   "id": "536a1deb-7996-4006-ae1e-efb791fa47da",
   "metadata": {},
   "outputs": [],
   "source": [
    "# create df for plotting\n",
    "feature_name=[\"Condition\", \"response\", \"patient\"]\n",
    "data=sccoda_data['coda']\n",
    "\n",
    "sample_sums = np.sum(data.X, axis=1, keepdims=True)\n",
    "X = data.X/sample_sums\n",
    "value_name = \"Proportion\"\n",
    "\n",
    "count_df = pd.DataFrame(X, columns=data.var.index, index=data.obs.index).\\\n",
    "        merge(data.obs[feature_name], left_index=True, right_index=True)\n",
    "plot_df = pd.melt(count_df, id_vars=feature_name, var_name=\"Cell type\", value_name=value_name)\n",
    "if cell_types is not None:\n",
    "    plot_df = plot_df[plot_df[\"Cell type\"].isin(cell_types)]"
   ]
  },
  {
   "cell_type": "code",
   "execution_count": null,
   "id": "d4a87702-eccc-48f1-9e3e-66d8dac70062",
   "metadata": {},
   "outputs": [],
   "source": [
    "plot_df"
   ]
  },
  {
   "cell_type": "code",
   "execution_count": null,
   "id": "0c800261-1754-4104-929d-ffb664c8e16b",
   "metadata": {},
   "outputs": [],
   "source": [
    "effect_cell_types"
   ]
  },
  {
   "cell_type": "code",
   "execution_count": null,
   "id": "ae9ff6ff-df4b-4806-9314-99c6c0f04b7a",
   "metadata": {},
   "outputs": [],
   "source": [
    "# plots for Poster/Thesis Figures\n",
    "# overview of cell type distribution across timepoints\n",
    "plt.rcParams.update({'font.size': 13})\n",
    "sns.set_style(rc = {'axes.facecolor': 'lightsteelblue'})\n",
    "\n",
    "i = 0\n",
    "for cell_type in cell_types:\n",
    "\n",
    "    \n",
    "    if True == 1:\n",
    "    \n",
    "        fig, ax = plt.subplots(figsize=(2,2), dpi=120)\n",
    "        \n",
    "        sns.boxplot(\n",
    "            x=\"Condition\", \n",
    "            y=\"Proportion\", \n",
    "            data=plot_df[plot_df[\"Cell type\"] == cell_type],\n",
    "            hue=\"Condition\", \n",
    "            #liersize=1,\n",
    "            palette=[\"coral\",\"darkviolet\"], \n",
    "            order=[\"T0/-ICI\",\"T1/+ICI\"],\n",
    "            ax=ax,\n",
    "            vert=True, \n",
    "            patch_artist=True, \n",
    "            meanline=True, \n",
    "            showmeans=True,\n",
    "            showfliers=False,\n",
    "            boxprops=boxprops,\n",
    "            #flierprops=flierprops,\n",
    "            medianprops=medianprops,\n",
    "            meanprops=meanlineprops\n",
    "        )\n",
    "            \n",
    "        \n",
    "        sns.swarmplot(\n",
    "            x=\"Condition\", \n",
    "            y=\"Proportion\", \n",
    "            data=plot_df[plot_df[\"Cell type\"] == cell_type], \n",
    "            hue=\"response\",  # Color by \"patient\" variable\n",
    "            palette=[\"red\", \"blue\"],  # Choose a color palette\n",
    "            dodge=False,  # Separate dots for each level of \"patient\n",
    "            #jitter=False\n",
    "            ax=ax,\n",
    "            size=5,\n",
    "            edgecolor=\"black\",\n",
    "            linewidth=.5,\n",
    "            alpha=1\n",
    "        )\n",
    "\n",
    "        sns.pointplot(\n",
    "            data=plot_df[plot_df[\"Cell type\"] == cell_type], \n",
    "            x=\"Condition\", \n",
    "            y=\"Proportion\", \n",
    "            hue=\"patient\", \n",
    "            legend= False,\n",
    "            palette=\"Spectral\",\n",
    "            linewidth=1.5,\n",
    "            errwidth=1,\n",
    "            markers='|',\n",
    "            #errorbar=None,\n",
    "            join=True\n",
    "        )\n",
    "        plt.title(cell_type, pad=18)\n",
    "        plt.xlabel('', labelpad=10)\n",
    "        plt.ylabel('', labelpad=10)\n",
    "        plt.yticks(fontsize = 10) \n",
    "        plt.xticks(fontsize = 10) \n",
    "        #plt.set_xticks([0,1,2,3,4], [\"PD_01\", \"PD_02\", \"PD_03\", \"SD_01\", \"PD_04\"], ha=\"center\", rotation=30)\n",
    "    \n",
    "            \n",
    "        legend = plt.legend(loc='right', bbox_to_anchor=(2, .5), ncol=1, title=\"Response\", frameon=True, facecolor=\"white\")\n",
    "        plt.setp(legend.get_title(),fontsize='12')\n",
    "        plt.tight_layout()\n",
    "  \n",
    "        xmin, xmax, ymin, ymax = plt.axis()\n",
    "        plt.ylim((0, ymax + (0.66)*ymax))\n",
    "        \n",
    "        i += 1\n",
    "\n",
    "        \n",
    "        plt.savefig(os.path.join(\"/scratch_isilon/groups/singlecell/gdeuner/SERPENTINE/figures/TFM/FigS2\", cell_type+\"_boxplot_by_condition_colby_response.pdf\"), dpi=600, format=\"pdf\", bbox_inches=\"tight\")"
   ]
  },
  {
   "cell_type": "code",
   "execution_count": null,
   "id": "e66cb4a2-8ee5-4aec-bf86-a9ed21731bac",
   "metadata": {},
   "outputs": [],
   "source": [
    "# overview of cell type distribution across timepoints\n",
    "import seaborn as sns\n",
    "plt.rcParams.update({'font.size': 13})\n",
    "\n",
    "cell_type = \"Plasma\"\n",
    "    \n",
    "    sns.boxplot(\n",
    "        x=\"Condition\", \n",
    "        y=\"Proportion\", \n",
    "        data=plot_df[plot_df[\"Cell type\"] == cell_type],\n",
    "        hue=\"Condition\", \n",
    "        #liersize=1,\n",
    "        palette=[\"coral\",\"darkviolet\"], \n",
    "        order=[\"T0/-ICI\",\"T1/+ICI\"],\n",
    "        ax=ax,\n",
    "        vert=True, \n",
    "        patch_artist=True, \n",
    "        meanline=True, \n",
    "        showmeans=True,\n",
    "        showfliers=False,\n",
    "        boxprops=boxprops,\n",
    "        #flierprops=flierprops,\n",
    "        medianprops=medianprops,\n",
    "        meanprops=meanlineprops\n",
    "    )\n",
    "        \n",
    "    \n",
    "    sns.swarmplot(\n",
    "        x=\"Condition\", \n",
    "        y=\"Proportion\", \n",
    "        data=plot_df[plot_df[\"Cell type\"] == cell_type], \n",
    "        hue=\"patient\",  # Color by \"patient\" variable\n",
    "        palette=\"Spectral\",  # Choose a color palette\n",
    "        dodge=False,  # Separate dots for each level of \"patient\n",
    "        #jitter=False\n",
    "        ax=ax,\n",
    "        size=5,\n",
    "        edgecolor=\"black\",\n",
    "        linewidth=.5,\n",
    "        alpha=1\n",
    "    )\n",
    "\n",
    "    #ax.set_xticks([])\n",
    "    ax.set_title(cell_type+\" - \"+significance)\n",
    "    ax.set_xlabel('Timepoint')\n",
    "    plt.yticks(fontsize = 10) \n",
    "    plt.xticks(fontsize = 10) \n",
    "    \n",
    "    legend = plt.legend(loc='right', bbox_to_anchor=(1.8, .5), ncol=1, title=\"Patient\", frameon=True)\n",
    "    plt.setp(legend.get_title(),fontsize='12')\n",
    "    plt.tight_layout()\n",
    "        \n",
    "    plt.savefig(os.path.join(fig_dir, \"Comp_\"+cell_type+\"_boxplot_by_condition.png\"), dpi=600, format=\"png\", bbox_inches=\"tight\")\n"
   ]
  },
  {
   "cell_type": "code",
   "execution_count": null,
   "id": "3005d744-7a05-4198-87af-a9a0c154d002",
   "metadata": {},
   "outputs": [],
   "source": [
    "# plots for Poster/Thesis Figures\n",
    "# overview of cell type distribution across timepoints\n",
    "plt.rcParams.update({'font.size': 13})\n",
    "sns.set_style(rc = {'axes.facecolor': 'lightsteelblue'})\n",
    "\n",
    "#effect_cell_types.append(\"CD56hi CD16lo NK\")\n",
    "\n",
    "for cell_type in cell_types:\n",
    "\n",
    "    #if cell_type in effect_cell_types:\n",
    "    \n",
    "        fig, ax = plt.subplots(figsize=(2,2), dpi=120)\n",
    "        \n",
    "        sns.boxplot(\n",
    "            x=\"Condition\", \n",
    "            y=\"Proportion\", \n",
    "            data=plot_df[plot_df[\"Cell type\"] == cell_type],\n",
    "            hue=\"Condition\", \n",
    "            #liersize=1,\n",
    "            palette=[\"coral\",\"darkviolet\"], \n",
    "            order=[\"T0/-ICI\",\"T1/+ICI\"],\n",
    "            ax=ax,\n",
    "            vert=True, \n",
    "            patch_artist=True, \n",
    "            meanline=True, \n",
    "            showmeans=True,\n",
    "            showfliers=False,\n",
    "            boxprops=boxprops,\n",
    "            #flierprops=flierprops,\n",
    "            medianprops=medianprops,\n",
    "            meanprops=meanlineprops\n",
    "        )\n",
    "            \n",
    "        \n",
    "        sns.swarmplot(\n",
    "            x=\"Condition\", \n",
    "            y=\"Proportion\", \n",
    "            data=plot_df[plot_df[\"Cell type\"] == cell_type], \n",
    "            hue=\"response\",  # Color by \"patient\" variable\n",
    "            palette=[\"red\", \"blue\"],  # Choose a color palette\n",
    "            dodge=False,  # Separate dots for each level of \"patient\n",
    "            #jitter=False\n",
    "            ax=ax,\n",
    "            size=5,\n",
    "            edgecolor=\"black\",\n",
    "            linewidth=.5,\n",
    "            alpha=1\n",
    "        )\n",
    "\n",
    "        sns.pointplot(\n",
    "            data=plot_df[plot_df[\"Cell type\"] == cell_type], \n",
    "            x=\"Condition\", \n",
    "            y=\"Proportion\", \n",
    "            hue=\"patient\", \n",
    "            legend= False,\n",
    "            palette=\"Spectral\",\n",
    "            linewidth=1.5,\n",
    "            errwidth=1,\n",
    "            markers='|',\n",
    "            #errorbar=None,\n",
    "            join=True\n",
    "        )\n",
    "\n",
    "        xmin, xmax, ymin, ymax = plt.axis()\n",
    "        plt.ylim((0, ymax+0.2))\n",
    "        \n",
    "        plt.title(cell_type, fontweight=\"bold\", pad=20)\n",
    "        plt.xlabel('Timepoint', labelpad=10)\n",
    "        plt.ylabel('Proportion', labelpad=10)\n",
    "        plt.yticks(fontsize = 10) \n",
    "        plt.xticks(fontsize = 10) \n",
    "        \n",
    "        #plt.set_xticks([0,1,2,3,4], [\"PD_01\", \"PD_02\", \"PD_03\", \"SD_01\", \"PD_04\"], ha=\"center\", rotation=30)\n",
    "\n",
    "        \n",
    "        legend = plt.legend(loc='right', bbox_to_anchor=(2, .5), ncol=1, title=\"Patient\", frameon=True, facecolor=\"white\")\n",
    "        plt.setp(legend.get_title(),fontsize='12')\n",
    "        plt.tight_layout()\n",
    "\n",
    "        \n",
    "        plt.savefig(os.path.join(\"/scratch_isilon/groups/singlecell/gdeuner/SERPENTINE/figures/TFM/Fig2\", \"cell_type\"+\"_boxplot_by_condition_colby_response.pdf\"), dpi=600, format=\"pdf\", bbox_inches=\"tight\")"
   ]
  },
  {
   "cell_type": "code",
   "execution_count": null,
   "id": "aa6c552b-29b2-454e-9772-64fae9ceb749",
   "metadata": {},
   "outputs": [],
   "source": [
    "# overview of cell type distribution across patients\n",
    "for cell_type in cell_types:\n",
    "\n",
    "    if cell_type in effect_cell_types:\n",
    "        significance = \"*\"\n",
    "    else:\n",
    "        significance = \"ns\"\n",
    "    \n",
    "    fig, ax = plt.subplots(figsize=(2,2), dpi=120)\n",
    "\n",
    "    sns.boxplot(\n",
    "        x=\"patient\", \n",
    "        y=\"Proportion\", \n",
    "        data=plot_df[plot_df[\"Cell type\"] == cell_type],\n",
    "        hue=\"patient\", \n",
    "        #liersize=1,\n",
    "        palette=\"Spectral\", \n",
    "        #order=[\"T0/-ICI\",\"T1/+ICI\"],\n",
    "        ax=ax,\n",
    "        vert=True, \n",
    "        patch_artist=True, \n",
    "        meanline=True, \n",
    "        showmeans=True,\n",
    "        showfliers=False,\n",
    "        boxprops=boxprops,\n",
    "        #flierprops=flierprops,\n",
    "        medianprops=medianprops,\n",
    "        meanprops=meanlineprops\n",
    "    )\n",
    "        \n",
    "    \n",
    "    sns.swarmplot(\n",
    "        x=\"patient\", \n",
    "        y=\"Proportion\", \n",
    "        data=plot_df[plot_df[\"Cell type\"] == cell_type], \n",
    "        hue=\"Condition\",  # Color by \"patient\" variable\n",
    "        palette=[\"coral\", \"darkviolet\"],  # Choose a color palette\n",
    "        dodge=False,  # Separate dots for each level of \"patient\n",
    "        #jitter=False\n",
    "        ax=ax,\n",
    "        size=4,\n",
    "        edgecolor=\"black\",\n",
    "        linewidth=.5,\n",
    "        alpha=1\n",
    "    )\n",
    "\n",
    "    #ax.set_xticks([])\n",
    "    ax.set_title(cell_type+\" - \"+significance)\n",
    "    ax.set_xlabel('Patient')\n",
    "    plt.yticks(fontsize = 10) \n",
    "    plt.xticks(fontsize = 10) \n",
    "    \n",
    "    legend = plt.legend(loc='right', bbox_to_anchor=(1.9, .5), ncol=1, title=\"Condition\", frameon=True)\n",
    "    plt.setp(legend.get_title(),fontsize='12')\n",
    "    plt.tight_layout()\n",
    "      \n",
    "    \n",
    "    plt.savefig(os.path.join(fig_dir, \"Comp_\"+cell_type+\"_boxplot_by_patient.png\"), dpi=600, format=\"png\", bbox_inches=\"tight\")"
   ]
  },
  {
   "cell_type": "code",
   "execution_count": null,
   "id": "5cdf77d0-6f24-466d-a369-73905b5245df",
   "metadata": {},
   "outputs": [],
   "source": [
    "plot = pt.pl.coda.boxplots(\n",
    "        sccoda_data,\n",
    "        modality_key=\"coda\",\n",
    "        feature_name=\"patient\",\n",
    "        figsize=(4,4),\n",
    "        add_dots=True,\n",
    "        plot_facets=False,\n",
    "        args_boxplot={\"vert\":True, \n",
    "                    \"patch_artist\":True, \n",
    "                    \"meanline\":True, \n",
    "                    \"showmeans\":True,\n",
    "                    \"boxprops\":boxprops,\n",
    "                    \"flierprops\":flierprops,\n",
    "                    \"medianprops\":medianprops,\n",
    "                    \"meanprops\":meanlineprops,\n",
    "                    },\n",
    "        cmap=\"Spectral\"\n",
    "        )\n",
    "plt.savefig(os.path.join(fig_dir, \"Comp_all_boxplot_by_patient.png\"), dpi=600, format=\"png\", bbox_inches=\"tight\")"
   ]
  },
  {
   "cell_type": "code",
   "execution_count": null,
   "id": "ac91f296-2047-48d3-bcb6-81d204f2aae2",
   "metadata": {},
   "outputs": [],
   "source": [
    "# overview of cell type distribution across timepoints\n",
    "import seaborn as sns\n",
    "plt.rcParams.update({'font.size': 13})\n",
    "\n",
    "for cell_type in cell_types:\n",
    "\n",
    "    if cell_type in effect_cell_types:\n",
    "        significance = \"*\"\n",
    "    else:\n",
    "        significance = \"ns\"\n",
    "    \n",
    "    fig, ax = plt.subplots(figsize=(2,2), dpi=120)\n",
    "    \n",
    "    sns.boxplot(\n",
    "        x=\"Condition\", \n",
    "        y=\"Proportion\", \n",
    "        data=plot_df[plot_df[\"Cell type\"] == cell_type],\n",
    "        hue=\"Condition\", \n",
    "        #liersize=1,\n",
    "        palette=[\"coral\",\"darkviolet\"], \n",
    "        order=[\"T0/-ICI\",\"T1/+ICI\"],\n",
    "        ax=ax,\n",
    "        vert=True, \n",
    "        patch_artist=True, \n",
    "        meanline=True, \n",
    "        showmeans=True,\n",
    "        showfliers=False,\n",
    "        boxprops=boxprops,\n",
    "        #flierprops=flierprops,\n",
    "        medianprops=medianprops,\n",
    "        meanprops=meanlineprops\n",
    "    )\n",
    "        \n",
    "    \n",
    "    sns.swarmplot(\n",
    "        x=\"Condition\", \n",
    "        y=\"Proportion\", \n",
    "        data=plot_df[plot_df[\"Cell type\"] == cell_type], \n",
    "        hue=\"patient\",  # Color by \"patient\" variable\n",
    "        palette=\"Spectral\",  # Choose a color palette\n",
    "        dodge=False,  # Separate dots for each level of \"patient\n",
    "        #jitter=False\n",
    "        ax=ax,\n",
    "        size=5,\n",
    "        edgecolor=\"black\",\n",
    "        linewidth=.5,\n",
    "        alpha=1\n",
    "    )\n",
    "\n",
    "    #ax.set_xticks([])\n",
    "    ax.set_title(cell_type+\" - \"+significance)\n",
    "    ax.set_xlabel('Timepoint')\n",
    "    plt.yticks(fontsize = 10) \n",
    "    plt.xticks(fontsize = 10) \n",
    "    \n",
    "    legend = plt.legend(loc='right', bbox_to_anchor=(1.8, .5), ncol=1, title=\"Patient\", frameon=True)\n",
    "    plt.setp(legend.get_title(),fontsize='12')\n",
    "    plt.tight_layout()\n",
    "        \n",
    "    plt.savefig(os.path.join(fig_dir, \"Comp_\"+cell_type+\"_boxplot_by_condition.png\"), dpi=600, format=\"png\", bbox_inches=\"tight\")\n"
   ]
  },
  {
   "cell_type": "code",
   "execution_count": null,
   "id": "92358ada-1152-4876-9696-727633f03a88",
   "metadata": {},
   "outputs": [],
   "source": [
    "# remove tumor from plot_df\n",
    "types_to_filter = ['Tumor', 'Liver Epithelial', 'CAF', 'Endothelial']\n",
    "filtered_df = plot_df[~plot_df['Cell type'].isin(types_to_filter)]"
   ]
  },
  {
   "cell_type": "code",
   "execution_count": null,
   "id": "058db794-1439-4731-9e29-26d20cd0c55c",
   "metadata": {},
   "outputs": [],
   "source": [
    "# some booxplot arguments to customize the plot\n",
    "boxprops = dict(linestyle='-', linewidth=1, edgecolor='black')\n",
    "flierprops = dict(marker='o', markerfacecolor='black', #markersize=12,\n",
    "                  markeredgecolor='none')\n",
    "medianprops = dict(linestyle='-', linewidth=.8, color='black')\n",
    "#meanpointprops = dict(marker='D', markeredgecolor='black',markerfacecolor='black')\n",
    "meanlineprops = dict(linestyle='--', linewidth=.8, color='black')\n",
    "\n",
    "\n",
    "import seaborn as sns\n",
    "plt.rcParams.update({'font.size': 13})\n",
    "seaborn.set_style(style='white') \n",
    "\n",
    "custom_order = ['CD4 T', 'CD8 T', 'NK', 'Myeloid', 'pDC', 'Plasma', 'B Cell']\n",
    "\n",
    "\n",
    "fig, ax = plt.subplots(figsize=(7,4), dpi=120)\n",
    "\n",
    "ax = sns.boxplot(\n",
    "    x=\"Cell type\", \n",
    "    y=\"Proportion\", \n",
    "    data=filtered_df,\n",
    "    hue=\"Condition\", \n",
    "    #liersize=1,\n",
    "    palette=[\"coral\",\"darkviolet\"], \n",
    "    order=custom_order,\n",
    "    ax=ax,\n",
    "    vert=True, \n",
    "    patch_artist=True, \n",
    "    meanline=True, \n",
    "    showmeans=True,\n",
    "    showfliers=False,\n",
    "    boxprops=boxprops,\n",
    "    #flierprops=flierprops,\n",
    "    medianprops=medianprops,\n",
    "    meanprops=meanlineprops\n",
    ")\n",
    "\n",
    "\n",
    "sns.stripplot(\n",
    "    x=\"Cell type\", \n",
    "    y=\"Proportion\", \n",
    "    data=filtered_df, \n",
    "    #style=\"Patient\",\n",
    "    hue=\"Condition\",  # Color by \"patient\" variable\n",
    "    palette=[\"coral\",\"darkviolet\"],  # Choose a color palette\n",
    "    dodge=True,  # Separate dots for each level of \"patient\n",
    "    order=custom_order,\n",
    "    #jitter=False\n",
    "    ax=ax,\n",
    "    size=5,\n",
    "    edgecolor=\"black\",\n",
    "    linewidth=.5,\n",
    "    alpha=1,\n",
    ")\n",
    "\n",
    "plt.ylim(0, 0.8)\n",
    "\n",
    "#ax.set_xticks([])\n",
    "ax.set_xlabel('Timepoint')\n",
    "plt.yticks(fontsize = 10) \n",
    "plt.xticks(fontsize = 10) \n",
    "\n",
    "handles, labels = ax.get_legend_handles_labels()\n",
    "ax.legend(handles[:2], labels[:2], title='Timepoint', bbox_to_anchor=(1, 1))\n",
    "\n",
    "#legend = plt.legend(loc='right', bbox_to_anchor=(1.8, .5), ncol=1, title=\"Patient\", frameon=True)\n",
    "plt.tight_layout()\n",
    "        \n",
    "plt.savefig(os.path.join(work_dir, \"figures\", \"TFM\", \"Fig1\", \"Boxplots_cell_type_tiempoints_comparison.pdf\"), dpi=600, format=\"pdf\", bbox_inches=\"tight\")\n"
   ]
  },
  {
   "cell_type": "code",
   "execution_count": null,
   "id": "2f5283e9-15ef-4c44-a5a0-e147dbb8ba23",
   "metadata": {
    "scrolled": true
   },
   "outputs": [],
   "source": [
    "# overview of cell type distribution across timepoints\n",
    "\n",
    "plt.rcParams.update({'font.size': 13})\n",
    "\n",
    "for cell_type in cell_types:\n",
    "\n",
    "    if cell_type in effect_cell_types:\n",
    "        significance = \"*\"\n",
    "    else:\n",
    "        significance = \"ns\"\n",
    "    \n",
    "    fig, ax = plt.subplots(figsize=(2,2), dpi=120)\n",
    "    \n",
    "    sns.boxplot(\n",
    "        x=\"Condition\", \n",
    "        y=\"Proportion\", \n",
    "        data=plot_df[plot_df[\"Cell type\"] == cell_type],\n",
    "        hue=\"Condition\", \n",
    "        #liersize=1,\n",
    "        palette=[\"coral\",\"darkviolet\"], \n",
    "        order=[\"T0/-ICI\",\"T1/+ICI\"],\n",
    "        ax=ax,\n",
    "        vert=True, \n",
    "        patch_artist=True, \n",
    "        meanline=True, \n",
    "        showmeans=True,\n",
    "        showfliers=False,\n",
    "        boxprops=boxprops,\n",
    "        #flierprops=flierprops,\n",
    "        medianprops=medianprops,\n",
    "        meanprops=meanlineprops\n",
    "    )\n",
    "        \n",
    "    \n",
    "    sns.swarmplot(\n",
    "        x=\"Condition\", \n",
    "        y=\"Proportion\", \n",
    "        data=plot_df[plot_df[\"Cell type\"] == cell_type], \n",
    "        hue=\"response\",  # Color by \"patient\" variable\n",
    "        palette=[\"red\", \"blue\"],  # Choose a color palette\n",
    "        dodge=False,  # Separate dots for each level of \"patient\n",
    "        #jitter=False\n",
    "        ax=ax,\n",
    "        size=5,\n",
    "        edgecolor=\"black\",\n",
    "        linewidth=.5,\n",
    "        alpha=1\n",
    "    )\n",
    "\n",
    "    #ax.set_xticks([])\n",
    "    ax.set_title(cell_type+\" - \"+significance)\n",
    "    ax.set_xlabel('Timepoint')\n",
    "    plt.yticks(fontsize = 10) \n",
    "    plt.xticks(fontsize = 10) \n",
    "    \n",
    "    legend = plt.legend(loc='right', bbox_to_anchor=(1.8, .5), ncol=1, title=\"Response\", frameon=True)\n",
    "    plt.setp(legend.get_title(),fontsize='12')\n",
    "    plt.tight_layout()\n",
    "        \n",
    "    plt.savefig(os.path.join(fig_dir, \"Comp_\"+cell_type+\"_boxplot_by_condition_colby_resp.png\"), dpi=600, format=\"png\", bbox_inches=\"tight\")\n"
   ]
  },
  {
   "cell_type": "code",
   "execution_count": null,
   "id": "641bcba1-fbc9-46d2-8cce-8ee3cdfa769b",
   "metadata": {},
   "outputs": [],
   "source": [
    "# stacked plot of cell type proportions per patient\n",
    "plot = pt.pl.coda.stacked_barplot(\n",
    "    sccoda_data,\n",
    "    modality_key=\"coda\",  \n",
    "    feature_name=\"patient\",\n",
    "    dpi=300\n",
    ")\n",
    "plot.set(title = \"Patient\")\n",
    "plot.set_xticks([0,1,2,3,4], [\"P01\", \"P02\", \"P03\", \"P08\", \"P10\"], ha=\"center\", rotation=0)\n",
    "plt.savefig(os.path.join(fig_dir, \"Comp_immune_barplot_by_patient.png\"), dpi=600, format=\"png\", bbox_inches=\"tight\")\n",
    "plt.show()"
   ]
  },
  {
   "cell_type": "code",
   "execution_count": null,
   "id": "6725d0c0-1005-493f-be5e-f8bbc564c40c",
   "metadata": {},
   "outputs": [],
   "source": [
    "# stacked plot of cell type proportions per patient\n",
    "plot = pt.pl.coda.stacked_barplot(\n",
    "    sccoda_data, \n",
    "    modality_key=\"coda\", \n",
    "    feature_name=\"patient\",\n",
    "    dpi=300\n",
    ")\n",
    "plot.set(title = \"Patient\")\n",
    "plot.set_xticks([0,1,2,3,4], [\"P01\", \"P02\", \"P03\", \"P04\", \"P05\"], ha=\"center\", rotation=0)\n",
    "plt.show()\n",
    "# P08 = P04\n",
    "# P10 = P05"
   ]
  },
  {
   "cell_type": "code",
   "execution_count": null,
   "id": "ad514792-32d3-4887-a2e1-95a13b2e5815",
   "metadata": {},
   "outputs": [],
   "source": [
    "# stacked plot of cell type proportions per timepoint\n",
    "plot = pt.pl.coda.stacked_barplot(\n",
    "    sccoda_data, modality_key=\"coda\", \n",
    "    feature_name=\"Condition\", \n",
    "    level_order=[\"T0/-ICI\", \"T1/+ICI\"],\n",
    "    dpi=300\n",
    ")\n",
    "plot.set(title = \"Timepoint\")\n",
    "plot.set_xticks([0,1], [\"T0/-ICI\", \"T1/+ICI\"], rotation = 0, rotation_mode=\"anchor\", ha=\"center\")\n",
    "plt.savefig(os.path.join(fig_dir, \"Comp_immune_barplot_by_condition.png\"), dpi=600, format=\"png\", bbox_inches=\"tight\")\n",
    "plt.show()"
   ]
  },
  {
   "cell_type": "code",
   "execution_count": null,
   "id": "abb4d07c-43a0-44c1-ab51-f4f97a46f772",
   "metadata": {},
   "outputs": [],
   "source": [
    "# stacked plot of cell type proportions per timepoint\n",
    "plot = pt.pl.coda.stacked_barplot(\n",
    "    sccoda_data, modality_key=\"coda\", \n",
    "    feature_name=\"timepoint\", \n",
    "    level_order=[\"SCR\", \"C02\"], \n",
    "    dpi=300\n",
    ")\n",
    "plot.set(title = \"Timepoint\")\n",
    "plot.set_xticks([0,1], [\"T0\", \"T1\"], rotation = 0, rotation_mode=\"anchor\", ha=\"center\")\n",
    "plt.savefig(os.path.join(fig_dir, \"Comp_immune_barplot_by_timepoint.png\"), dpi=600, format=\"png\", bbox_inches=\"tight\")\n",
    "\n",
    "plt.show()"
   ]
  },
  {
   "cell_type": "code",
   "execution_count": null,
   "id": "7e139020-d3f6-40e2-9a71-d70b04357b92",
   "metadata": {},
   "outputs": [],
   "source": [
    "# stacked plot of cell type proportions per ICI status\n",
    "plot = pt.pl.coda.stacked_barplot(\n",
    "    sccoda_data, \n",
    "    modality_key=\"coda\", \n",
    "    feature_name=\"ICI_status\",\n",
    "    #level_order=[\"`-ICI`\", \"`+ICI/PD`\", \"`+ICI/PD`\"], \n",
    "    dpi=300\n",
    ")\n",
    "plot.set(title = \"ICI Status\")\n",
    "plot.set_xticks([0,1,2], [\"+ICI/PD\", \"+ICI/SD\", \"-ICI\"], rotation = 0, rotation_mode=\"anchor\", ha=\"center\")\n",
    "plt.savefig(os.path.join(fig_dir, \"Comp_immune_barplot_by_ICI_status.png\"), dpi=600, format=\"png\", bbox_inches=\"tight\")\n",
    "plt.show()"
   ]
  },
  {
   "cell_type": "code",
   "execution_count": null,
   "id": "9733400e-a42c-4ef6-965a-e6165a69c494",
   "metadata": {},
   "outputs": [],
   "source": [
    "# stacked plot of cell type proportions per response\n",
    "plot = pt.pl.coda.stacked_barplot(\n",
    "    sccoda_data, \n",
    "    modality_key=\"coda\", \n",
    "    feature_name=\"response\",\n",
    "    dpi=300,\n",
    ")\n",
    "plot.set_title(\"ICI Response\")\n",
    "plot.set_xticks([0,1], [\"PD\", \"SD\"], rotation = 0, rotation_mode=\"anchor\", ha=\"center\")\n",
    "plt.savefig(os.path.join(fig_dir, \"Comp_immune_barplot_by_ICI_response.png\"), dpi=600, format=\"png\", bbox_inches=\"tight\")\n",
    "plt.show()"
   ]
  },
  {
   "cell_type": "code",
   "execution_count": null,
   "id": "c0c70906-2ebf-4a2d-a725-1067ecbf9980",
   "metadata": {},
   "outputs": [],
   "source": [
    "# stacked plot of cell type proportions per patient\n",
    "plt.figure(figsize=(3,3), dpi=120)\n",
    "import matplotlib.colors as mcolors\n",
    "palette=[\"limegreen\", \"tomato\", \"red\", \"royalblue\", \"orange\", \"darkgreen\", \"skyblue\"]\n",
    "cmap = mcolors.ListedColormap(palette)\n",
    "plot = pt.pl.coda.stacked_barplot(\n",
    "    sccoda_data,\n",
    "    modality_key=\"coda\",  \n",
    "    feature_name=\"patient\", \n",
    "    cmap=cmap,\n",
    "    dpi=120, \n",
    "    show_legend=False\n",
    ")\n",
    "plot.set(title = \"Patient\")\n",
    "plot.set_xticks([0,1,2,3,4], [\"PD_01\", \"PD_02\", \"PD_03\", \"SD_01\", \"PD_04\"], ha=\"center\", rotation=30)\n",
    "plt.savefig(os.path.join(\"/scratch_isilon/groups/singlecell/gdeuner/SERPENTINE/figures/ISCO24_poster/Fig1\", \"CompImmune_barplot_by_patient.pdf\"), dpi=600, format=\"pdf\", bbox_inches=\"tight\")\n",
    "plt.show()"
   ]
  },
  {
   "cell_type": "code",
   "execution_count": null,
   "id": "45e18284-052e-4e81-b189-ff745c0cbe61",
   "metadata": {},
   "outputs": [],
   "source": [
    "# stacked plot of cell type proportions per patient\n",
    "plt.figure(figsize=(6,3), dpi=120)\n",
    "import matplotlib.colors as mcolors\n",
    "palette=[\"limegreen\", \"tomato\", \"red\", \"royalblue\", \"orange\", \"darkgreen\", \"skyblue\"]\n",
    "cmap = mcolors.ListedColormap(palette)\n",
    "plot = pt.pl.coda.stacked_barplot(\n",
    "    sccoda_data,\n",
    "    modality_key=\"coda\",  \n",
    "    feature_name=\"Condition\", \n",
    "    cmap=cmap,\n",
    "    dpi=120,\n",
    "    show_legend=False\n",
    ")\n",
    "plot.set(title = \"Tiempoint\")\n",
    "plot.set_xticks([0,1], [\"T0/-ICI\", \"T1/+ICI\"], ha=\"center\", rotation=0)\n",
    "plt.yticks([])\n",
    "plt.ylabel('')\n",
    "plt.savefig(os.path.join(\"/scratch_isilon/groups/singlecell/gdeuner/SERPENTINE/figures/TFM/Fig1\", \"CompImmune_barplot_by_timepoint.pdf\"), dpi=600, format=\"pdf\", bbox_inches=\"tight\")\n",
    "plt.show()"
   ]
  },
  {
   "cell_type": "code",
   "execution_count": null,
   "id": "08d9ac99-5ec7-4071-bf55-906abb3db130",
   "metadata": {},
   "outputs": [],
   "source": [
    "# stacked plot of cell type proportions per patient\n",
    "plt.figure(figsize=(3,3), dpi=120)\n",
    "import matplotlib.colors as mcolors\n",
    "palette=[\"limegreen\", \"tomato\", \"red\", \"royalblue\", \"orange\", \"darkgreen\", \"skyblue\"]\n",
    "cmap = mcolors.ListedColormap(palette)\n",
    "plot = pt.pl.coda.stacked_barplot(\n",
    "    sccoda_data,\n",
    "    modality_key=\"coda\",  \n",
    "    feature_name=\"response\", \n",
    "    cmap=cmap,\n",
    "    dpi=120,\n",
    "    show_legend=False\n",
    ")\n",
    "plot.set(title = \"Response\")\n",
    "plot.set_xticks([0,1], [\"PD\", \"SD\"], ha=\"center\", rotation=0)\n",
    "plt.savefig(os.path.join(\"/scratch_isilon/groups/singlecell/gdeuner/SERPENTINE/figures/ISCO24_poster/Fig1\", \"CompImmune_barplot_by_response.pdf\"), dpi=600, format=\"pdf\", bbox_inches=\"tight\")\n",
    "plt.show()"
   ]
  },
  {
   "cell_type": "code",
   "execution_count": null,
   "id": "72e3fc01-d746-49ae-a48f-75c45c703e3b",
   "metadata": {},
   "outputs": [],
   "source": [
    "# stacked plot of cell type proportions per patient\n",
    "plt.figure(figsize=(3,3), dpi=120)\n",
    "import matplotlib.colors as mcolors\n",
    "palette=[\"limegreen\", \"tomato\", \"red\", \"royalblue\", \"orange\", \"darkgreen\", \"skyblue\"]\n",
    "cmap = mcolors.ListedColormap(palette)\n",
    "plot = pt.pl.coda.stacked_barplot(\n",
    "    sccoda_data,\n",
    "    modality_key=\"coda\",  \n",
    "    feature_name=\"ICI_status\", \n",
    "    cmap=cmap,\n",
    "    dpi=120,\n",
    "    show_legend=False\n",
    ")\n",
    "plot.set(title = \"ICI Status\")\n",
    "plot.set_xticks([2,0,1], [\"-ICI\", \"+ICI/PD\", \"+ICI/SD\"], ha=\"center\", rotation=0)\n",
    "plt.yticks([])\n",
    "plt.ylabel('')\n",
    "plt.savefig(os.path.join(\"/scratch_isilon/groups/singlecell/gdeuner/SERPENTINE/figures/ISCO24_poster/Fig1\", \"CompImmune_barplot_by_ICI_status.pdf\"), dpi=600, format=\"pdf\", bbox_inches=\"tight\")\n",
    "plt.show()"
   ]
  },
  {
   "cell_type": "code",
   "execution_count": null,
   "id": "a3eadfd6-1dae-4fa1-8e55-bf3d88949050",
   "metadata": {},
   "outputs": [],
   "source": [
    "#https://pertpy.readthedocs.io/en/latest/tutorials/notebooks/sccoda.html\n",
    "#https://github.com/theislab/scCODA/issues/47"
   ]
  },
  {
   "cell_type": "markdown",
   "id": "287331a7-9406-4072-949d-d338156f3ea8",
   "metadata": {
    "execution": {
     "iopub.execute_input": "2024-03-22T15:40:12.013621Z",
     "iopub.status.busy": "2024-03-22T15:40:12.012831Z",
     "iopub.status.idle": "2024-03-22T15:40:12.016811Z",
     "shell.execute_reply": "2024-03-22T15:40:12.016381Z",
     "shell.execute_reply.started": "2024-03-22T15:40:12.013564Z"
    }
   },
   "source": [
    "# Compositional Analysis - PD Timepoints Comparison (Immune Cell Types)"
   ]
  },
  {
   "cell_type": "markdown",
   "id": "feaa132e-c42a-4818-8063-2ac4e4b1eaea",
   "metadata": {},
   "source": [
    "### Environment Set Up"
   ]
  },
  {
   "cell_type": "code",
   "execution_count": null,
   "id": "521e20c0-4e5c-45d0-8121-af40c57b22dc",
   "metadata": {},
   "outputs": [],
   "source": [
    "# load libraries\n",
    "import warnings\n",
    "import matplotlib.pyplot as plt\n",
    "import mudata as mu\n",
    "import pertpy as pt\n",
    "import scanpy as sc\n",
    "import numpy as np\n",
    "import pandas as pd\n",
    "import seaborn as sns\n",
    "import os\n",
    "from statannot import add_stat_annotation"
   ]
  },
  {
   "cell_type": "code",
   "execution_count": null,
   "id": "930e460f-b6c3-44d2-9a90-4dd57411ede2",
   "metadata": {},
   "outputs": [],
   "source": [
    "# set up figure parameters\n",
    "plt.rcParams['figure.figsize'] = (4, 4)\n",
    "sc.settings.verbosity = 0\n",
    "sc.settings.set_figure_params(\n",
    "    dpi=300,\n",
    "    facecolor=\"white\",\n",
    "    frameon=False,\n",
    "    figsize=(4,4)\n",
    ")"
   ]
  },
  {
   "cell_type": "code",
   "execution_count": null,
   "id": "8b545cfe-dd1f-4a33-b461-53b0127c6bdb",
   "metadata": {},
   "outputs": [],
   "source": [
    "# remove warnings\n",
    "import warnings\n",
    "warnings.filterwarnings('ignore')"
   ]
  },
  {
   "cell_type": "code",
   "execution_count": null,
   "id": "09e7234b-42b5-4761-aceb-3743b46c5ee4",
   "metadata": {},
   "outputs": [],
   "source": [
    "# set up dirs\n",
    "work_dir = \"/scratch_isilon/groups/singlecell/gdeuner/SERPENTINE/\"\n",
    "fig_dir = os.path.join(work_dir, \"figures\", \"combined\", \"compositional_analysis\", \"timepoints_PD_comparison\")\n",
    "sc.settings.figdir = os.path.join(work_dir, \"figures\", \"combined\", \"compositional_analysis\", \"timepoints_PD_comparison\")"
   ]
  },
  {
   "cell_type": "code",
   "execution_count": null,
   "id": "a91c1533-0a5e-42ad-b629-121d41539cf7",
   "metadata": {},
   "outputs": [],
   "source": [
    "# read anndata object\n",
    "adata = sc.read_h5ad(os.path.join(work_dir, \"data\", \"outputdata\", \"combined\", \"Combined_SCR_CO2_TCR_full-integrated_annot_22-03-24.h5ad\"))"
   ]
  },
  {
   "cell_type": "code",
   "execution_count": null,
   "id": "1c699dfd-d014-44eb-be13-22f6856bfb88",
   "metadata": {},
   "outputs": [],
   "source": [
    "# create condition variable\n",
    "adata"
   ]
  },
  {
   "cell_type": "code",
   "execution_count": null,
   "id": "968a7e25-9435-481f-8768-a01b79e3bacc",
   "metadata": {},
   "outputs": [],
   "source": [
    "# subset PD patients\n",
    "adata = adata[adata.obs[\"response\"] == \"PD\"].copy()\n",
    "adata"
   ]
  },
  {
   "cell_type": "markdown",
   "id": "c12de198-f14d-40ab-ace2-43603c9929d1",
   "metadata": {},
   "source": [
    "## Model Setup & Inference"
   ]
  },
  {
   "cell_type": "code",
   "execution_count": null,
   "id": "ccdcde65-5f96-46b3-a7c7-2b8b98a72914",
   "metadata": {},
   "outputs": [],
   "source": [
    "# initiate scCODA model\n",
    "sccoda_model = pt.tl.Sccoda()\n",
    "sccoda_data = sccoda_model.load(\n",
    "    adata[adata.obs[\"Annotation_1.0\"].isin([\"CD8 T\", \"CD4 T\", \"NK\", \"pDC\", \"Myeloid\", \"Plasma\", \"B Cell\"])].copy(), # do just include the immune cell types\n",
    "    type=\"cell_level\",\n",
    "    generate_sample_level=True,\n",
    "    cell_type_identifier=\"Annotation_1.0\",\n",
    "    sample_identifier=\"sample\",\n",
    "    covariate_obs=[\"subproject\", \"patient\", \"timepoint\", \"response\", \"ICI_status\", \"Condition\"],\n",
    "        \n",
    ")\n",
    "print(sccoda_data)\n",
    "print(sccoda_data[\"coda\"].X)\n",
    "print(sccoda_data[\"coda\"].obs)"
   ]
  },
  {
   "cell_type": "code",
   "execution_count": null,
   "id": "81a2d918-cd30-44f1-a9da-6411a6833f45",
   "metadata": {},
   "outputs": [],
   "source": [
    "pt.pl.coda.boxplots(sccoda_data, \n",
    "                    modality_key=\"coda\", \n",
    "                    feature_name=\"timepoint\", \n",
    "                    add_dots=True,\n",
    "                    figsize=[6,6],\n",
    "                    level_order=[\"SCR\", \"C02\"],\n",
    "                    cmap=[\"coral\",\"darkviolet\"]\n",
    "                   )\n",
    "plt.show()"
   ]
  },
  {
   "cell_type": "code",
   "execution_count": null,
   "id": "efe03893-6636-42b4-9fc0-7cee25d43958",
   "metadata": {},
   "outputs": [],
   "source": [
    "# prepare the model\n",
    "sccoda_data = sccoda_model.prepare(\n",
    "    sccoda_data,\n",
    "    modality_key=\"coda\",\n",
    "    formula=\"Condition\", #condition = timepoint\n",
    "    reference_cell_type=\"automatic\",\n",
    ")\n",
    "sccoda_data[\"coda\"]"
   ]
  },
  {
   "cell_type": "code",
   "execution_count": null,
   "id": "c7e5a6f2-14f3-4a00-9294-02613817d674",
   "metadata": {},
   "outputs": [],
   "source": [
    "# run MCMC\n",
    "sccoda_model.run_nuts(sccoda_data, modality_key=\"coda\")\n",
    "sccoda_data[\"coda\"]"
   ]
  },
  {
   "cell_type": "markdown",
   "id": "d431039f-8d0f-4ecc-ae3a-081b75eda949",
   "metadata": {},
   "source": [
    "## Result Intepretation"
   ]
  },
  {
   "cell_type": "code",
   "execution_count": null,
   "id": "72b66b2e-e341-461f-8ac1-8c0277f23268",
   "metadata": {},
   "outputs": [],
   "source": [
    "# see most relevant information\n",
    "sccoda_model.summary(sccoda_data, modality_key=\"coda\")"
   ]
  },
  {
   "cell_type": "code",
   "execution_count": null,
   "id": "ec2d29eb-5c79-4601-8d7a-fe709e9d3724",
   "metadata": {},
   "outputs": [],
   "source": [
    "sccoda_model.credible_effects(sccoda_data, modality_key=\"coda\")"
   ]
  },
  {
   "cell_type": "markdown",
   "id": "1c6accaa-d025-4330-80a2-463a8dd62895",
   "metadata": {},
   "source": [
    "### Adjust FDR"
   ]
  },
  {
   "cell_type": "code",
   "execution_count": null,
   "id": "2a3646f1-c4b8-4a15-aa9b-e1caa486c114",
   "metadata": {},
   "outputs": [],
   "source": [
    "sccoda_model.set_fdr(sccoda_data, modality_key=\"coda\", est_fdr=0.1)\n",
    "sccoda_model.summary(sccoda_data, modality_key=\"coda\")"
   ]
  },
  {
   "cell_type": "markdown",
   "id": "5e601c5a-869c-4f72-87fc-3daad33672e8",
   "metadata": {},
   "source": [
    "## Save Results"
   ]
  },
  {
   "cell_type": "code",
   "execution_count": null,
   "id": "447832b8-c24f-4ce2-a030-e13e00aa5117",
   "metadata": {},
   "outputs": [],
   "source": [
    "#sccoda_data.write_h5mu(os.path.join(work_dir, \"data\", \"outputdata\", \"combined\", \"Combined_SCR_CO2_immune_scCODA_10-04-24.h5mu\"))"
   ]
  },
  {
   "cell_type": "code",
   "execution_count": null,
   "id": "d5c42cd7-f6fa-436a-a797-737caeaa5eb3",
   "metadata": {},
   "outputs": [],
   "source": [
    "test_model = pt.tl.Sccoda()\n",
    "test_model.get_intercept_df(sccoda_data, modality_key=\"coda\")"
   ]
  },
  {
   "cell_type": "code",
   "execution_count": null,
   "id": "88e9af79-499c-4335-bdeb-4357c4e1d533",
   "metadata": {},
   "outputs": [],
   "source": [
    "test_model.get_intercept_df(sccoda_data, modality_key=\"coda\")"
   ]
  },
  {
   "cell_type": "code",
   "execution_count": null,
   "id": "43192365-c2e0-407d-a941-ea3d248e89d9",
   "metadata": {},
   "outputs": [],
   "source": [
    "test_model.get_effect_df(sccoda_data, modality_key=\"coda\")"
   ]
  },
  {
   "cell_type": "code",
   "execution_count": null,
   "id": "b8947650-f3d3-4301-8e3a-df4476adb835",
   "metadata": {},
   "outputs": [],
   "source": [
    "sccoda_data[\"coda\"].varm[\"intercept_df\"]"
   ]
  },
  {
   "cell_type": "markdown",
   "id": "aa0c1681-cdbc-4858-9d9f-e75c0f9034f0",
   "metadata": {},
   "source": [
    "## Visualization"
   ]
  },
  {
   "cell_type": "code",
   "execution_count": null,
   "id": "276d817d-3435-4895-ba07-3dc0a7be8ae9",
   "metadata": {},
   "outputs": [],
   "source": [
    "# visualize effects (significant changes in cell type composition)\n",
    "pt.pl.coda.effects_barplot(sccoda_data, \n",
    "                           modality_key=\"coda\", \n",
    "                           parameter=\"Final Parameter\",\n",
    "                           figsize=[3,3],\n",
    "                           dpi=300)\n",
    "#plt.savefig(os.path.join(fig_dir, \"TNK_Comp_Significant_Celltypes_Effects.png\"), dpi=600, format=\"png\", bbox_inches=\"tight\")"
   ]
  },
  {
   "cell_type": "code",
   "execution_count": null,
   "id": "a31a49e9-d908-4cd4-95d7-ed3dbf09a062",
   "metadata": {},
   "outputs": [],
   "source": [
    "pt.pl.coda.effects_barplot(sccoda_data, \"coda\", \"Condition\")\n",
    "plt.savefig(os.path.join(work_dir, \"figures\", \"TFM\", \"Fig1\", \"Significant_Celltypes_Log2FC.pdf\"), dpi=300, format=\"pdf\", bbox_inches=\"tight\")"
   ]
  },
  {
   "cell_type": "code",
   "execution_count": null,
   "id": "b9b453a3-13c9-45bf-a184-66fc588fea56",
   "metadata": {},
   "outputs": [],
   "source": [
    "pt.pl.coda.effects_barplot(sccoda_data, \"coda\", parameter = \"Final Parameter\")\n",
    "plt.savefig(os.path.join(work_dir, \"figures\", \"TFM\", \"Fig1\", \"Significant_Celltypes_Effects.pdf\"), dpi=300, format=\"pdf\", bbox_inches=\"tight\")"
   ]
  },
  {
   "cell_type": "code",
   "execution_count": null,
   "id": "a43d847d-aefd-4d72-ac09-62759267e2a9",
   "metadata": {},
   "outputs": [],
   "source": [
    "# counts\n",
    "sccoda_data['coda'].var"
   ]
  },
  {
   "cell_type": "code",
   "execution_count": null,
   "id": "390fa465-ff4f-4aef-a086-fb1372911fa7",
   "metadata": {},
   "outputs": [],
   "source": [
    "# proportion\n",
    "props = round(sccoda_data['coda'].var.n_cells / sccoda_data['coda'].var.n_cells.sum(), 3)\n",
    "props"
   ]
  },
  {
   "cell_type": "code",
   "execution_count": null,
   "id": "c3c058a7-5acd-4c94-9eb6-6cdcb20dd818",
   "metadata": {},
   "outputs": [],
   "source": [
    "sccoda_data['coda'].obs"
   ]
  },
  {
   "cell_type": "code",
   "execution_count": null,
   "id": "2f0cd5c3-e886-40d6-b2aa-9f2a9e55ddb7",
   "metadata": {},
   "outputs": [],
   "source": [
    "# some booxplot arguments to customize the plot\n",
    "boxprops = dict(linestyle='-', linewidth=1, edgecolor='black')\n",
    "flierprops = dict(marker='o', markerfacecolor='black', #markersize=12,\n",
    "                  markeredgecolor='none')\n",
    "medianprops = dict(linestyle='-', linewidth=.8, color='black')\n",
    "#meanpointprops = dict(marker='D', markeredgecolor='black',markerfacecolor='black')\n",
    "meanlineprops = dict(linestyle='--', linewidth=.8, color='black')\n"
   ]
  },
  {
   "cell_type": "code",
   "execution_count": null,
   "id": "2ed613fc-9140-4325-8a23-e351e3966e8a",
   "metadata": {},
   "outputs": [],
   "source": [
    "# define cell types for plotting\n",
    "cell_types = sccoda_data['coda'].var_names.tolist()\n",
    "print(cell_types)"
   ]
  },
  {
   "cell_type": "code",
   "execution_count": null,
   "id": "b818670b-93d4-4285-96a6-540a24b6475a",
   "metadata": {},
   "outputs": [],
   "source": [
    "effect_cell_types = [\"NK\"]"
   ]
  },
  {
   "cell_type": "code",
   "execution_count": null,
   "id": "3572a4dd-a59c-46e5-b430-f1d0dbf159d6",
   "metadata": {},
   "outputs": [],
   "source": [
    "# create df for plotting\n",
    "feature_name=[\"Condition\", \"response\", \"patient\"]\n",
    "data=sccoda_data['coda']\n",
    "\n",
    "sample_sums = np.sum(data.X, axis=1, keepdims=True)\n",
    "X = data.X/sample_sums\n",
    "value_name = \"Proportion\"\n",
    "\n",
    "count_df = pd.DataFrame(X, columns=data.var.index, index=data.obs.index).\\\n",
    "        merge(data.obs[feature_name], left_index=True, right_index=True)\n",
    "plot_df = pd.melt(count_df, id_vars=feature_name, var_name=\"Cell type\", value_name=value_name)\n",
    "if cell_types is not None:\n",
    "    plot_df = plot_df[plot_df[\"Cell type\"].isin(cell_types)]"
   ]
  },
  {
   "cell_type": "code",
   "execution_count": null,
   "id": "02d377a1-fe27-4636-bfb7-36a53da55e82",
   "metadata": {},
   "outputs": [],
   "source": [
    "plot_df"
   ]
  },
  {
   "cell_type": "code",
   "execution_count": null,
   "id": "a29a28d6-de15-402b-a3f1-6e9f8230ddde",
   "metadata": {},
   "outputs": [],
   "source": [
    "color_palette = sns.color_palette(\"Spectral\", 5)\n",
    "print(color_palette)\n",
    "color_palette.pop(3)\n",
    "sns.color_palette(\"Spectral\", 5)"
   ]
  },
  {
   "cell_type": "code",
   "execution_count": null,
   "id": "15665fea-df36-4fac-bde3-2b4a44a871e4",
   "metadata": {},
   "outputs": [],
   "source": [
    "# plots for Poster/Thesis Figures\n",
    "# overview of cell type distribution across timepoints\n",
    "plt.rcParams.update({'font.size': 13})\n",
    "sns.set_style(rc = {'axes.facecolor': 'lightsteelblue'})\n",
    "\n",
    "#effect_cell_types.append(\"CD56hi CD16lo NK\")\n",
    "\n",
    "for cell_type in cell_types:\n",
    "\n",
    "    if cell_type in effect_cell_types:\n",
    "    \n",
    "        fig, ax = plt.subplots(figsize=(2,2), dpi=120)\n",
    "        \n",
    "        sns.boxplot(\n",
    "            x=\"Condition\", \n",
    "            y=\"Proportion\", \n",
    "            data=plot_df[plot_df[\"Cell type\"] == cell_type],\n",
    "            hue=\"Condition\", \n",
    "            #liersize=1,\n",
    "            palette=[\"coral\",\"darkviolet\"], \n",
    "            order=[\"T0/-ICI\",\"T1/+ICI\"],\n",
    "            ax=ax,\n",
    "            vert=True, \n",
    "            patch_artist=True, \n",
    "            meanline=True, \n",
    "            showmeans=True,\n",
    "            showfliers=False,\n",
    "            boxprops=boxprops,\n",
    "            #flierprops=flierprops,\n",
    "            medianprops=medianprops,\n",
    "            meanprops=meanlineprops\n",
    "        )\n",
    "            \n",
    "        \n",
    "        sns.swarmplot(\n",
    "            x=\"Condition\", \n",
    "            y=\"Proportion\", \n",
    "            data=plot_df[plot_df[\"Cell type\"] == cell_type], \n",
    "            hue=\"response\",  # Color by \"patient\" variable\n",
    "            palette=[\"red\", \"blue\"],  # Choose a color palette\n",
    "            dodge=False,  # Separate dots for each level of \"patient\n",
    "            #jitter=False\n",
    "            ax=ax,\n",
    "            size=5,\n",
    "            edgecolor=\"black\",\n",
    "            linewidth=.5,\n",
    "            alpha=1\n",
    "        )\n",
    "\n",
    "        sns.pointplot(\n",
    "            data=plot_df[plot_df[\"Cell type\"] == cell_type], \n",
    "            x=\"Condition\", \n",
    "            y=\"Proportion\", \n",
    "            hue=\"patient\", \n",
    "            legend= False,\n",
    "            palette=\"Spectral\",\n",
    "            linewidth=1.5,\n",
    "            errwidth=1,\n",
    "            markers='|',\n",
    "            #errorbar=None,\n",
    "            join=True\n",
    "        )\n",
    "\n",
    "        xmin, xmax, ymin, ymax = plt.axis()\n",
    "        plt.ylim((0, ymax+0.2))\n",
    "        \n",
    "        plt.title(cell_type, fontweight=\"bold\", pad=20)\n",
    "        plt.xlabel('Timepoint', labelpad=10)\n",
    "        plt.ylabel('Proportion', labelpad=10)\n",
    "        plt.yticks(fontsize = 10) \n",
    "        plt.xticks(fontsize = 10) \n",
    "        \n",
    "        #plt.set_xticks([0,1,2,3,4], [\"PD_01\", \"PD_02\", \"PD_03\", \"SD_01\", \"PD_04\"], ha=\"center\", rotation=30)\n",
    "\n",
    "        \n",
    "        legend = plt.legend(loc='right', bbox_to_anchor=(2, .5), ncol=1, title=\"Patient\", frameon=True, facecolor=\"white\")\n",
    "        plt.setp(legend.get_title(),fontsize='12')\n",
    "        plt.tight_layout()\n",
    "\n",
    "        \n",
    "        plt.savefig(os.path.join(\"/scratch_isilon/groups/singlecell/gdeuner/SERPENTINE/figures/TFM/Fig2\", \"TNK_Comp_\"+cell_type+\"_boxplot_by_condition_colby_response.pdf\"), dpi=600, format=\"pdf\", bbox_inches=\"tight\")"
   ]
  },
  {
   "cell_type": "code",
   "execution_count": null,
   "id": "892cf14a-a8a8-418e-b531-a0b4c53b96a3",
   "metadata": {},
   "outputs": [],
   "source": [
    "# overview of cell type distribution across patients\n",
    "for cell_type in cell_types:\n",
    "\n",
    "    if cell_type in effect_cell_types:\n",
    "        significance = \"*\"\n",
    "    else:\n",
    "        significance = \"ns\"\n",
    "    \n",
    "    fig, ax = plt.subplots(figsize=(2,2), dpi=120)\n",
    "\n",
    "    sns.boxplot(\n",
    "        x=\"patient\", \n",
    "        y=\"Proportion\", \n",
    "        data=plot_df[plot_df[\"Cell type\"] == cell_type],\n",
    "        hue=\"patient\", \n",
    "        #liersize=1,\n",
    "        palette=color_palette, \n",
    "        #order=[\"T0/-ICI\",\"T1/+ICI\"],\n",
    "        ax=ax,\n",
    "        vert=True, \n",
    "        patch_artist=True, \n",
    "        meanline=True, \n",
    "        showmeans=True,\n",
    "        showfliers=False,\n",
    "        boxprops=boxprops,\n",
    "        #flierprops=flierprops,\n",
    "        medianprops=medianprops,\n",
    "        meanprops=meanlineprops\n",
    "    )\n",
    "        \n",
    "    \n",
    "    sns.swarmplot(\n",
    "        x=\"patient\", \n",
    "        y=\"Proportion\", \n",
    "        data=plot_df[plot_df[\"Cell type\"] == cell_type], \n",
    "        hue=\"Condition\",  # Color by \"patient\" variable\n",
    "        palette=[\"coral\", \"darkviolet\"],  # Choose a color palette\n",
    "        dodge=False,  # Separate dots for each level of \"patient\n",
    "        #jitter=False\n",
    "        ax=ax,\n",
    "        size=4,\n",
    "        edgecolor=\"black\",\n",
    "        linewidth=.5,\n",
    "        alpha=1\n",
    "    )\n",
    "\n",
    "    #ax.set_xticks([])\n",
    "    ax.set_title(cell_type+\" - \"+significance)\n",
    "    ax.set_xlabel('Patient')\n",
    "    plt.yticks(fontsize = 10) \n",
    "    plt.xticks(fontsize = 10) \n",
    "    \n",
    "    legend = plt.legend(loc='right', bbox_to_anchor=(1.9, .5), ncol=1, title=\"Condition\", frameon=True)\n",
    "    plt.setp(legend.get_title(),fontsize='12')\n",
    "    plt.tight_layout()\n",
    "      \n",
    "    \n",
    "    plt.savefig(os.path.join(fig_dir, \"Comp_\"+cell_type+\"_boxplot_by_patient.png\"), dpi=600, format=\"png\", bbox_inches=\"tight\")"
   ]
  },
  {
   "cell_type": "code",
   "execution_count": null,
   "id": "e0357290-ce2b-4299-96be-b882b52f7a2f",
   "metadata": {},
   "outputs": [],
   "source": [
    "plot = pt.pl.coda.boxplots(\n",
    "        sccoda_data,\n",
    "        modality_key=\"coda\",\n",
    "        feature_name=\"patient\",\n",
    "        figsize=(4,4),\n",
    "        add_dots=True,\n",
    "        plot_facets=False,\n",
    "        args_boxplot={\"vert\":True, \n",
    "                    \"patch_artist\":True, \n",
    "                    \"meanline\":True, \n",
    "                    \"showmeans\":True,\n",
    "                    \"boxprops\":boxprops,\n",
    "                    \"flierprops\":flierprops,\n",
    "                    \"medianprops\":medianprops,\n",
    "                    \"meanprops\":meanlineprops,\n",
    "                    },\n",
    "        cmap=\"Spectral\"\n",
    "        )\n",
    "plt.savefig(os.path.join(fig_dir, \"Comp_all_boxplot_by_patient.png\"), dpi=600, format=\"png\", bbox_inches=\"tight\")"
   ]
  },
  {
   "cell_type": "code",
   "execution_count": null,
   "id": "32805ecd-67ba-45e3-a929-347095b35169",
   "metadata": {},
   "outputs": [],
   "source": [
    "# overview of cell type distribution across timepoints\n",
    "\n",
    "plt.rcParams.update({'font.size': 13})\n",
    "\n",
    "for cell_type in cell_types:\n",
    "\n",
    "    if cell_type in effect_cell_types:\n",
    "        significance = \"*\"\n",
    "    else:\n",
    "        significance = \"ns\"\n",
    "    \n",
    "    fig, ax = plt.subplots(figsize=(2,2), dpi=120)\n",
    "    \n",
    "    sns.boxplot(\n",
    "        x=\"Condition\", \n",
    "        y=\"Proportion\", \n",
    "        data=plot_df[plot_df[\"Cell type\"] == cell_type],\n",
    "        hue=\"Condition\", \n",
    "        #liersize=1,\n",
    "        palette=[\"coral\",\"darkviolet\"], \n",
    "        order=[\"T0/-ICI\",\"T1/+ICI\"],\n",
    "        ax=ax,\n",
    "        vert=True, \n",
    "        patch_artist=True, \n",
    "        meanline=True, \n",
    "        showmeans=True,\n",
    "        showfliers=False,\n",
    "        boxprops=boxprops,\n",
    "        #flierprops=flierprops,\n",
    "        medianprops=medianprops,\n",
    "        meanprops=meanlineprops\n",
    "    )\n",
    "        \n",
    "    \n",
    "    sns.swarmplot(\n",
    "        x=\"Condition\", \n",
    "        y=\"Proportion\", \n",
    "        data=plot_df[plot_df[\"Cell type\"] == cell_type], \n",
    "        hue=\"patient\",  # Color by \"patient\" variable\n",
    "        palette=\"Spectral\",  # Choose a color palette\n",
    "        dodge=False,  # Separate dots for each level of \"patient\n",
    "        #jitter=False\n",
    "        ax=ax,\n",
    "        size=5,\n",
    "        edgecolor=\"black\",\n",
    "        linewidth=.5,\n",
    "        alpha=1\n",
    "    )\n",
    "\n",
    "    #ax.set_xticks([])\n",
    "    ax.set_title(cell_type+\" - \"+significance)\n",
    "    ax.set_xlabel('Timepoint')\n",
    "    plt.yticks(fontsize = 10) \n",
    "    plt.xticks(fontsize = 10) \n",
    "    \n",
    "    legend = plt.legend(loc='right', bbox_to_anchor=(1.8, .5), ncol=1, title=\"Patient\", frameon=True)\n",
    "    plt.setp(legend.get_title(),fontsize='12')\n",
    "    plt.tight_layout()\n",
    "        \n",
    "    plt.savefig(os.path.join(fig_dir, \"Comp_\"+cell_type+\"_boxplot_by_condition.png\"), dpi=600, format=\"png\", bbox_inches=\"tight\")\n"
   ]
  },
  {
   "cell_type": "markdown",
   "id": "87377b29-17e4-4384-840c-e7531487c489",
   "metadata": {
    "execution": {
     "iopub.execute_input": "2024-03-22T15:40:12.013621Z",
     "iopub.status.busy": "2024-03-22T15:40:12.012831Z",
     "iopub.status.idle": "2024-03-22T15:40:12.016811Z",
     "shell.execute_reply": "2024-03-22T15:40:12.016381Z",
     "shell.execute_reply.started": "2024-03-22T15:40:12.013564Z"
    }
   },
   "source": [
    "# Compositional Analysis - Response Comparison (Immune Cell Types)"
   ]
  },
  {
   "cell_type": "markdown",
   "id": "d4696442-a934-4591-815b-f3d88d442af6",
   "metadata": {},
   "source": [
    "### Environment Set Up"
   ]
  },
  {
   "cell_type": "code",
   "execution_count": null,
   "id": "9d992eea-7b8b-43e3-b532-5824048bb985",
   "metadata": {},
   "outputs": [],
   "source": [
    "# load libraries\n",
    "import warnings\n",
    "import matplotlib.pyplot as plt\n",
    "import mudata as mu\n",
    "import pertpy as pt\n",
    "import scanpy as sc\n",
    "import numpy as np\n",
    "import pandas as pd\n",
    "import seaborn as sns\n",
    "import os\n",
    "from statannot import add_stat_annotation"
   ]
  },
  {
   "cell_type": "code",
   "execution_count": null,
   "id": "a340f779-2321-42be-bbc8-bf8ef3106535",
   "metadata": {},
   "outputs": [],
   "source": [
    "# set up figure parameters\n",
    "plt.rcParams['figure.figsize'] = (4, 4)\n",
    "sc.settings.verbosity = 0\n",
    "sc.settings.set_figure_params(\n",
    "    dpi=300,\n",
    "    facecolor=\"white\",\n",
    "    frameon=False,\n",
    "    figsize=(4,4)\n",
    ")"
   ]
  },
  {
   "cell_type": "code",
   "execution_count": null,
   "id": "72374b1d-9a9f-4a44-9069-93ab227303cf",
   "metadata": {},
   "outputs": [],
   "source": [
    "# remove warnings\n",
    "import warnings\n",
    "warnings.filterwarnings('ignore')"
   ]
  },
  {
   "cell_type": "code",
   "execution_count": null,
   "id": "d8215780-7706-4d7a-9168-f20bb42b3722",
   "metadata": {},
   "outputs": [],
   "source": [
    "# set up dirs\n",
    "work_dir = \"/scratch_isilon/groups/singlecell/gdeuner/SERPENTINE/\"\n",
    "fig_dir = os.path.join(work_dir, \"figures\", \"combined\", \"compositional_analysis\", \"response_comparison\")\n",
    "sc.settings.figdir = os.path.join(work_dir, \"figures\", \"combined\", \"compositional_analysis\", \"response_comparison\")"
   ]
  },
  {
   "cell_type": "code",
   "execution_count": null,
   "id": "8d96f8b5-8be5-483b-9d62-828dac5eb8dc",
   "metadata": {},
   "outputs": [],
   "source": [
    "# read anndata object\n",
    "adata = sc.read_h5ad(os.path.join(work_dir, \"data\", \"outputdata\", \"combined\", \"Combined_SCR_CO2_TCR_full-integrated_annot_22-03-24.h5ad\"))"
   ]
  },
  {
   "cell_type": "code",
   "execution_count": null,
   "id": "3863b4a9-0287-4f80-bb9a-bf41d0c183e9",
   "metadata": {},
   "outputs": [],
   "source": [
    "# create condition variable\n",
    "adata"
   ]
  },
  {
   "cell_type": "markdown",
   "id": "ee5212f1-79aa-413a-9798-954dc10d3676",
   "metadata": {},
   "source": [
    "## Model Setup & Inference"
   ]
  },
  {
   "cell_type": "code",
   "execution_count": null,
   "id": "f2d06a07-29b6-4e9a-a66a-b7ef5eaf729a",
   "metadata": {},
   "outputs": [],
   "source": [
    "# initiate scCODA model\n",
    "sccoda_model = pt.tl.Sccoda()\n",
    "sccoda_data = sccoda_model.load(\n",
    "    adata[adata.obs[\"Annotation_1.0\"].isin([\"CD8 T\", \"CD4 T\", \"NK\", \"pDC\", \"Myeloid\", \"Plasma\", \"B Cell\"])].copy(), # do just include the immune cell types\n",
    "    type=\"cell_level\",\n",
    "    generate_sample_level=True,\n",
    "    cell_type_identifier=\"Annotation_1.0\",\n",
    "    sample_identifier=\"sample\",\n",
    "    covariate_obs=[\"subproject\", \"patient\", \"timepoint\", \"response\", \"ICI_status\", \"Condition\"],\n",
    "        \n",
    ")\n",
    "print(sccoda_data)\n",
    "print(sccoda_data[\"coda\"].X)\n",
    "print(sccoda_data[\"coda\"].obs)"
   ]
  },
  {
   "cell_type": "code",
   "execution_count": null,
   "id": "9ffe9ce4-97d0-4fef-a2d1-4e4737fc541c",
   "metadata": {},
   "outputs": [],
   "source": [
    "pt.pl.coda.boxplots(sccoda_data, \n",
    "                    modality_key=\"coda\", \n",
    "                    feature_name=\"timepoint\", \n",
    "                    add_dots=True,\n",
    "                    figsize=[6,6],\n",
    "                    level_order=[\"SCR\", \"C02\"],\n",
    "                    cmap=[\"coral\",\"darkviolet\"]\n",
    "                   )\n",
    "plt.show()"
   ]
  },
  {
   "cell_type": "code",
   "execution_count": null,
   "id": "64f10fd7-3e0a-48d1-8567-77de3c9ef0c5",
   "metadata": {},
   "outputs": [],
   "source": [
    "# prepare the model\n",
    "sccoda_data = sccoda_model.prepare(\n",
    "    sccoda_data,\n",
    "    modality_key=\"coda\",\n",
    "    formula=\"response\", # PD vs. SD\n",
    "    reference_cell_type=\"automatic\",\n",
    ")\n",
    "sccoda_data[\"coda\"]"
   ]
  },
  {
   "cell_type": "code",
   "execution_count": null,
   "id": "1bc2c27a-72f1-426a-af15-83dced1d226b",
   "metadata": {},
   "outputs": [],
   "source": [
    "# run MCMC\n",
    "sccoda_model.run_nuts(sccoda_data, modality_key=\"coda\")\n",
    "sccoda_data[\"coda\"]"
   ]
  },
  {
   "cell_type": "markdown",
   "id": "54824b7d-4b6b-4c30-9ace-77f0b63bc335",
   "metadata": {},
   "source": [
    "## Result Intepretation"
   ]
  },
  {
   "cell_type": "code",
   "execution_count": null,
   "id": "07799f4e-6b11-40cb-bbdf-5d7081a78ef9",
   "metadata": {},
   "outputs": [],
   "source": [
    "# see most relevant information\n",
    "sccoda_model.summary(sccoda_data, modality_key=\"coda\")"
   ]
  },
  {
   "cell_type": "code",
   "execution_count": null,
   "id": "62dd59f5-d181-4d93-8b7b-6d2f2388bc83",
   "metadata": {},
   "outputs": [],
   "source": [
    "sccoda_model.credible_effects(sccoda_data, modality_key=\"coda\")"
   ]
  },
  {
   "cell_type": "markdown",
   "id": "2372c84b-2fe9-4214-966b-c428a95b87dc",
   "metadata": {},
   "source": [
    "### Adjust FDR"
   ]
  },
  {
   "cell_type": "code",
   "execution_count": null,
   "id": "9d951d61-1bce-4e7f-aa73-d2abb01652c4",
   "metadata": {},
   "outputs": [],
   "source": [
    "sccoda_model.set_fdr(sccoda_data, modality_key=\"coda\", est_fdr=0.1)\n",
    "sccoda_model.summary(sccoda_data, modality_key=\"coda\")"
   ]
  },
  {
   "cell_type": "markdown",
   "id": "38ea0341-b8e6-4681-9f7a-6b61dc8735b3",
   "metadata": {},
   "source": [
    "## Save Results"
   ]
  },
  {
   "cell_type": "code",
   "execution_count": null,
   "id": "88800fb6-de88-4132-91bf-e563f78f10c1",
   "metadata": {},
   "outputs": [],
   "source": [
    "#sccoda_data.write_h5mu(os.path.join(work_dir, \"data\", \"outputdata\", \"combined\", \"Combined_SCR_CO2_immune_scCODA_10-04-24.h5mu\"))"
   ]
  },
  {
   "cell_type": "code",
   "execution_count": null,
   "id": "f2b59fc4-e789-449d-9238-0739614c8af4",
   "metadata": {},
   "outputs": [],
   "source": [
    "test_model = pt.tl.Sccoda()\n",
    "test_model.get_intercept_df(sccoda_data, modality_key=\"coda\")"
   ]
  },
  {
   "cell_type": "code",
   "execution_count": null,
   "id": "a141fe76-216b-49c5-83d6-87f428431484",
   "metadata": {},
   "outputs": [],
   "source": [
    "test_model.get_intercept_df(sccoda_data, modality_key=\"coda\")"
   ]
  },
  {
   "cell_type": "code",
   "execution_count": null,
   "id": "83d2133a-2b5e-4841-b4bd-82a4dd45ec1b",
   "metadata": {},
   "outputs": [],
   "source": [
    "test_model.get_effect_df(sccoda_data, modality_key=\"coda\")"
   ]
  },
  {
   "cell_type": "code",
   "execution_count": null,
   "id": "74f6cb85-28e9-4971-8bd3-d30efc3a1e7f",
   "metadata": {},
   "outputs": [],
   "source": [
    "sccoda_data[\"coda\"].varm[\"intercept_df\"]"
   ]
  },
  {
   "cell_type": "markdown",
   "id": "0761d552-8d68-4746-9058-272354358c3d",
   "metadata": {},
   "source": [
    "## Visualization"
   ]
  },
  {
   "cell_type": "code",
   "execution_count": null,
   "id": "caad76d5-dfea-4475-a6d3-b4abe0c322c1",
   "metadata": {},
   "outputs": [],
   "source": [
    "# counts\n",
    "sccoda_data['coda'].var"
   ]
  },
  {
   "cell_type": "code",
   "execution_count": null,
   "id": "f5b8b92b-e999-4e70-b29a-617955466fae",
   "metadata": {},
   "outputs": [],
   "source": [
    "# proportion\n",
    "props = round(sccoda_data['coda'].var.n_cells / sccoda_data['coda'].var.n_cells.sum(), 3)\n",
    "props"
   ]
  },
  {
   "cell_type": "code",
   "execution_count": null,
   "id": "fdb97400-e802-40fc-b9a1-361f3da4594f",
   "metadata": {},
   "outputs": [],
   "source": [
    "sccoda_data['coda'].obs"
   ]
  },
  {
   "cell_type": "code",
   "execution_count": null,
   "id": "b5d450f7-32c0-4ef5-b392-dd1310f3f0f4",
   "metadata": {},
   "outputs": [],
   "source": [
    "# some booxplot arguments to customize the plot\n",
    "boxprops = dict(linestyle='-', linewidth=1, edgecolor='black')\n",
    "flierprops = dict(marker='o', markerfacecolor='black', #markersize=12,\n",
    "                  markeredgecolor='none')\n",
    "medianprops = dict(linestyle='-', linewidth=.8, color='black')\n",
    "#meanpointprops = dict(marker='D', markeredgecolor='black',markerfacecolor='black')\n",
    "meanlineprops = dict(linestyle='--', linewidth=.8, color='black')\n"
   ]
  },
  {
   "cell_type": "code",
   "execution_count": null,
   "id": "eb0fec47-1b6c-4864-9f32-0e122c3b7399",
   "metadata": {},
   "outputs": [],
   "source": [
    "# define cell types for plotting\n",
    "cell_types = sccoda_data['coda'].var_names.tolist()\n",
    "print(cell_types)"
   ]
  },
  {
   "cell_type": "code",
   "execution_count": null,
   "id": "74b7d57e-7056-4f2a-93e8-110287171713",
   "metadata": {},
   "outputs": [],
   "source": [
    "effect_cell_types = []"
   ]
  },
  {
   "cell_type": "code",
   "execution_count": null,
   "id": "f3651a75-ec2a-4ef0-a102-ef548e2f3060",
   "metadata": {},
   "outputs": [],
   "source": [
    "# create df for plotting\n",
    "feature_name=[\"Condition\", \"response\", \"patient\"]\n",
    "data=sccoda_data['coda']\n",
    "\n",
    "sample_sums = np.sum(data.X, axis=1, keepdims=True)\n",
    "X = data.X/sample_sums\n",
    "value_name = \"Proportion\"\n",
    "\n",
    "count_df = pd.DataFrame(X, columns=data.var.index, index=data.obs.index).\\\n",
    "        merge(data.obs[feature_name], left_index=True, right_index=True)\n",
    "plot_df = pd.melt(count_df, id_vars=feature_name, var_name=\"Cell type\", value_name=value_name)\n",
    "if cell_types is not None:\n",
    "    plot_df = plot_df[plot_df[\"Cell type\"].isin(cell_types)]"
   ]
  },
  {
   "cell_type": "code",
   "execution_count": null,
   "id": "d311170e-742e-43c1-8e83-a02c1699aebf",
   "metadata": {},
   "outputs": [],
   "source": [
    "plot_df"
   ]
  },
  {
   "cell_type": "code",
   "execution_count": null,
   "id": "5e549fab-e323-4aee-8b03-59dc1bbeb0e3",
   "metadata": {},
   "outputs": [],
   "source": [
    "# overview of cell type distribution across timepoints\n",
    "\n",
    "plt.rcParams.update({'font.size': 13})\n",
    "\n",
    "for cell_type in cell_types:\n",
    "\n",
    "    if cell_type in effect_cell_types:\n",
    "        significance = \"*\"\n",
    "    else:\n",
    "        significance = \"ns\"\n",
    "\n",
    "    fig, ax = plt.subplots(figsize=(2,2), dpi=120)\n",
    "\n",
    "    \n",
    "    sns.boxplot(\n",
    "        x=\"response\", \n",
    "        y=\"Proportion\", \n",
    "        data=plot_df[plot_df[\"Cell type\"] == cell_type],\n",
    "        hue=\"response\", \n",
    "        #liersize=1,\n",
    "        palette=[\"mistyrose\", \"lavender\"], \n",
    "        ax=ax,\n",
    "        vert=True, \n",
    "        patch_artist=True, \n",
    "        meanline=True, \n",
    "        showmeans=True,\n",
    "        showfliers=False,\n",
    "        boxprops=boxprops,\n",
    "        #flierprops=flierprops,\n",
    "        medianprops=medianprops,\n",
    "        meanprops=meanlineprops\n",
    "    )\n",
    "        \n",
    "    \n",
    "    sns.swarmplot(\n",
    "        x=\"response\", \n",
    "        y=\"Proportion\", \n",
    "        data=plot_df[plot_df[\"Cell type\"] == cell_type], \n",
    "        hue=\"patient\",  # Color by \"patient\" variable\n",
    "        palette=\"Spectral\",  # Choose a color palette\n",
    "        dodge=False,  # Separate dots for each level of \"patient\n",
    "        #jitter=False\n",
    "        ax=ax,\n",
    "        size=5,\n",
    "        edgecolor=\"black\",\n",
    "        linewidth=.5,\n",
    "        alpha=1\n",
    "    )\n",
    "\n",
    "    #ax.set_xticks([])\n",
    "    ax.set_title(cell_type+\" - \"+significance)\n",
    "    ax.set_xlabel('ICI Response')\n",
    "    plt.yticks(fontsize = 10) \n",
    "    plt.yticks(fontsize = 10) \n",
    "    \n",
    "    legend = plt.legend(loc='upper right', bbox_to_anchor=(1.8, 1.1), ncol=1, title=\"Patient\", frameon=False)\n",
    "    plt.setp(legend.get_title(),fontsize='12')\n",
    "    plt.tight_layout()\n",
    "    plt.savefig(os.path.join(fig_dir, \"Comp_\"+cell_type+\"_boxplot_by_response.png\"), dpi=600, format=\"png\", bbox_inches=\"tight\")\n"
   ]
  },
  {
   "cell_type": "code",
   "execution_count": null,
   "id": "2a6516be-5b5e-44d1-8304-5bfbe089e18b",
   "metadata": {},
   "outputs": [],
   "source": [
    "# overview of cell type distribution across timepoints\n",
    "\n",
    "plt.rcParams.update({'font.size': 13})\n",
    "\n",
    "for cell_type in cell_types:\n",
    "\n",
    "    if cell_type in effect_cell_types:\n",
    "        significance = \"*\"\n",
    "    else:\n",
    "        significance = \"ns\"\n",
    "\n",
    "    fig, ax = plt.subplots(figsize=(2,2), dpi=120)\n",
    "    \n",
    "    sns.boxplot(\n",
    "        x=\"response\", \n",
    "        y=\"Proportion\", \n",
    "        data=plot_df[plot_df[\"Cell type\"] == cell_type],\n",
    "        hue=\"response\", \n",
    "        #liersize=1,\n",
    "        palette=[\"mistyrose\", \"lavender\"], \n",
    "        ax=ax,\n",
    "        vert=True, \n",
    "        patch_artist=True, \n",
    "        meanline=True, \n",
    "        showmeans=True,\n",
    "        showfliers=False,\n",
    "        boxprops=boxprops,\n",
    "        #flierprops=flierprops,\n",
    "        medianprops=medianprops,\n",
    "        meanprops=meanlineprops\n",
    "    )\n",
    "        \n",
    "    \n",
    "    sns.swarmplot(\n",
    "        x=\"response\", \n",
    "        y=\"Proportion\", \n",
    "        data=plot_df[plot_df[\"Cell type\"] == cell_type], \n",
    "        hue=\"Condition\",  # Color by \"patient\" variable\n",
    "        palette=[\"coral\",\"darkviolet\"], \n",
    "        dodge=False,  # Separate dots for each level of \"patient\n",
    "        #jitter=False\n",
    "        ax=ax,\n",
    "        size=5,\n",
    "        edgecolor=\"black\",\n",
    "        linewidth=.5,\n",
    "        alpha=1\n",
    "    )\n",
    "\n",
    "    #ax.set_xticks([])\n",
    "    ax.set_title(cell_type+\" - \"+significance)\n",
    "    ax.set_xlabel('ICI Response')\n",
    "    plt.yticks(fontsize = 10) \n",
    "    plt.yticks(fontsize = 10) \n",
    "    \n",
    "    legend = plt.legend(loc='upper right', bbox_to_anchor=(1.8, 1), ncol=1, title=\"Patient\", frameon=False)\n",
    "    plt.setp(legend.get_title(),fontsize='12')\n",
    "    plt.tight_layout()\n",
    "    plt.savefig(os.path.join(fig_dir, \"Comp_\"+cell_type+\"_boxplot_by_response_col_by_timepoint.png\"), dpi=600, format=\"png\", bbox_inches=\"tight\")\n"
   ]
  },
  {
   "cell_type": "markdown",
   "id": "5e6a5a34-5834-416b-943d-9377ff7034bb",
   "metadata": {
    "execution": {
     "iopub.execute_input": "2024-03-22T15:40:12.013621Z",
     "iopub.status.busy": "2024-03-22T15:40:12.012831Z",
     "iopub.status.idle": "2024-03-22T15:40:12.016811Z",
     "shell.execute_reply": "2024-03-22T15:40:12.016381Z",
     "shell.execute_reply.started": "2024-03-22T15:40:12.013564Z"
    }
   },
   "source": [
    "# Compositional Analysis - ICI Status Comparison (Immune Cell Types)"
   ]
  },
  {
   "cell_type": "markdown",
   "id": "89cbc487-ef3a-4fd0-812e-a0b4d54d912d",
   "metadata": {},
   "source": [
    "### Environment Set Up"
   ]
  },
  {
   "cell_type": "code",
   "execution_count": null,
   "id": "9563d2bc-6d96-4b32-93ae-df4abdc1bd6a",
   "metadata": {},
   "outputs": [],
   "source": [
    "# load libraries\n",
    "import warnings\n",
    "import matplotlib.pyplot as plt\n",
    "import mudata as mu\n",
    "import pertpy as pt\n",
    "import scanpy as sc\n",
    "import numpy as np\n",
    "import pandas as pd\n",
    "import seaborn as sns\n",
    "import os\n",
    "from statannot import add_stat_annotation"
   ]
  },
  {
   "cell_type": "code",
   "execution_count": null,
   "id": "428b6966-f7af-420f-93c5-5ba467b16271",
   "metadata": {},
   "outputs": [],
   "source": [
    "# set up figure parameters\n",
    "plt.rcParams['figure.figsize'] = (4, 4)\n",
    "sc.settings.verbosity = 0\n",
    "sc.settings.set_figure_params(\n",
    "    dpi=300,\n",
    "    facecolor=\"white\",\n",
    "    frameon=False,\n",
    "    figsize=(4,4)\n",
    ")"
   ]
  },
  {
   "cell_type": "code",
   "execution_count": null,
   "id": "b131339a-c30e-4551-8a10-677039ba7323",
   "metadata": {},
   "outputs": [],
   "source": [
    "# remove warnings\n",
    "import warnings\n",
    "warnings.filterwarnings('ignore')"
   ]
  },
  {
   "cell_type": "code",
   "execution_count": null,
   "id": "f302234b-ade0-46ff-adbc-1b8ae0c2bd0e",
   "metadata": {},
   "outputs": [],
   "source": [
    "# set up dirs\n",
    "work_dir = \"/scratch_isilon/groups/singlecell/gdeuner/SERPENTINE/\"\n",
    "fig_dir = os.path.join(work_dir, \"figures\", \"combined\", \"compositional_analysis\", \"ICI_status_comparison\")\n",
    "sc.settings.figdir = os.path.join(work_dir, \"figures\", \"combined\", \"compositional_analysis\", \"ICI_status_comparison\")"
   ]
  },
  {
   "cell_type": "code",
   "execution_count": null,
   "id": "50468707-2b93-44a0-b5f0-dcecea2cf98d",
   "metadata": {},
   "outputs": [],
   "source": [
    "# read anndata object\n",
    "adata = sc.read_h5ad(os.path.join(work_dir, \"data\", \"outputdata\", \"combined\", \"Combined_SCR_CO2_TCR_full-integrated_annot_22-03-24.h5ad\"))"
   ]
  },
  {
   "cell_type": "code",
   "execution_count": null,
   "id": "9847eef1-449f-4537-aa66-31d2198757c2",
   "metadata": {},
   "outputs": [],
   "source": [
    "# create condition variable\n",
    "adata"
   ]
  },
  {
   "cell_type": "code",
   "execution_count": null,
   "id": "f3df13a9-e998-40b1-a5f4-30ed58ffb31e",
   "metadata": {},
   "outputs": [],
   "source": [
    "# order cat values\n",
    "order = ['-ICI', '+ICI/SD', '+ICI/PD']\n",
    "sccoda_data['coda'].obs['ICI_status'] = pd.Categorical(sccoda_data['coda'].obs['ICI_status'], categories=order)"
   ]
  },
  {
   "cell_type": "markdown",
   "id": "50eddb29-28d3-456e-838b-6b0acba1e612",
   "metadata": {},
   "source": [
    "## Model Setup & Inference"
   ]
  },
  {
   "cell_type": "code",
   "execution_count": null,
   "id": "b3566fd6-228a-44d9-af9d-fbae6c1781fb",
   "metadata": {},
   "outputs": [],
   "source": [
    "# initiate scCODA model\n",
    "sccoda_model = pt.tl.Sccoda()\n",
    "sccoda_data = sccoda_model.load(\n",
    "    adata[adata.obs[\"Annotation_1.0\"].isin([\"CD8 T\", \"CD4 T\", \"NK\", \"pDC\", \"Myeloid\", \"Plasma\", \"B Cell\"])].copy(), # do just include the immune cell types\n",
    "    type=\"cell_level\",\n",
    "    generate_sample_level=True,\n",
    "    cell_type_identifier=\"Annotation_1.0\",\n",
    "    sample_identifier=\"sample\",\n",
    "    covariate_obs=[\"subproject\", \"patient\", \"timepoint\", \"response\", \"ICI_status\", \"Condition\"],\n",
    "        \n",
    ")\n",
    "print(sccoda_data)\n",
    "print(sccoda_data[\"coda\"].X)\n",
    "print(sccoda_data[\"coda\"].obs)"
   ]
  },
  {
   "cell_type": "code",
   "execution_count": null,
   "id": "859e05c5-ae06-4d17-9fcc-831c39fb2fdd",
   "metadata": {},
   "outputs": [],
   "source": [
    "# prepare the model\n",
    "sccoda_data = sccoda_model.prepare(\n",
    "    sccoda_data,\n",
    "    modality_key=\"coda\",\n",
    "    formula=\"ICI_status\", # PD vs. SD\n",
    "    reference_cell_type=\"automatic\",\n",
    ")\n",
    "sccoda_data[\"coda\"]"
   ]
  },
  {
   "cell_type": "code",
   "execution_count": null,
   "id": "5154d623-3640-4b51-9995-d64d5adc1194",
   "metadata": {},
   "outputs": [],
   "source": [
    "# run MCMC\n",
    "sccoda_model.run_nuts(sccoda_data, modality_key=\"coda\")\n",
    "sccoda_data[\"coda\"]"
   ]
  },
  {
   "cell_type": "markdown",
   "id": "573de9dd-1495-45fc-8771-99a331f2002e",
   "metadata": {},
   "source": [
    "## Result Intepretation"
   ]
  },
  {
   "cell_type": "code",
   "execution_count": null,
   "id": "ba7ea386-1bbf-45b1-9fd6-f12a77305e32",
   "metadata": {},
   "outputs": [],
   "source": [
    "# see most relevant information\n",
    "sccoda_model.summary(sccoda_data, modality_key=\"coda\")"
   ]
  },
  {
   "cell_type": "code",
   "execution_count": null,
   "id": "91792871-4989-4fc2-8d41-290c00b34576",
   "metadata": {},
   "outputs": [],
   "source": [
    "sccoda_model.credible_effects(sccoda_data, modality_key=\"coda\")"
   ]
  },
  {
   "cell_type": "markdown",
   "id": "4b7f137a-e29f-43fa-81d3-304fd2e03dbb",
   "metadata": {},
   "source": [
    "### Adjust FDR"
   ]
  },
  {
   "cell_type": "code",
   "execution_count": null,
   "id": "a84a93b8-480e-4d3a-ab5b-3baa5924c36b",
   "metadata": {},
   "outputs": [],
   "source": [
    "sccoda_model.set_fdr(sccoda_data, modality_key=\"coda\", est_fdr=0.2)\n",
    "sccoda_model.summary(sccoda_data, modality_key=\"coda\")"
   ]
  },
  {
   "cell_type": "markdown",
   "id": "e8ffeee0-6919-48e7-b807-221c87c70549",
   "metadata": {},
   "source": [
    "## Save Results"
   ]
  },
  {
   "cell_type": "code",
   "execution_count": null,
   "id": "a4dd4c7c-7095-479b-a4d1-77e99ac1758c",
   "metadata": {},
   "outputs": [],
   "source": [
    "#sccoda_data.write_h5mu(os.path.join(work_dir, \"data\", \"outputdata\", \"combined\", \"Combined_SCR_CO2_immune_scCODA_10-04-24.h5mu\"))"
   ]
  },
  {
   "cell_type": "code",
   "execution_count": null,
   "id": "1e2db048-1524-4849-8386-30cd02476999",
   "metadata": {},
   "outputs": [],
   "source": [
    "test_model = pt.tl.Sccoda()\n",
    "test_model.get_intercept_df(sccoda_data, modality_key=\"coda\")"
   ]
  },
  {
   "cell_type": "code",
   "execution_count": null,
   "id": "c3a05c41-99bb-48a0-a093-151fbf35a793",
   "metadata": {},
   "outputs": [],
   "source": [
    "test_model.get_intercept_df(sccoda_data, modality_key=\"coda\")"
   ]
  },
  {
   "cell_type": "code",
   "execution_count": null,
   "id": "38a276ea-2180-43d1-aecb-7a09b42da9f6",
   "metadata": {},
   "outputs": [],
   "source": [
    "test_model.get_effect_df(sccoda_data, modality_key=\"coda\")"
   ]
  },
  {
   "cell_type": "code",
   "execution_count": null,
   "id": "bb0ad47e-e450-44fe-a8c7-b454c9383d34",
   "metadata": {},
   "outputs": [],
   "source": [
    "sccoda_data[\"coda\"].varm[\"intercept_df\"]"
   ]
  },
  {
   "cell_type": "markdown",
   "id": "5ef1b195-27e4-4ede-88f0-9e3fbe89c280",
   "metadata": {},
   "source": [
    "## Visualization"
   ]
  },
  {
   "cell_type": "code",
   "execution_count": null,
   "id": "35986b2a-8542-41c7-96ba-9480722d2e0c",
   "metadata": {},
   "outputs": [],
   "source": [
    "# counts\n",
    "sccoda_data['coda'].var"
   ]
  },
  {
   "cell_type": "code",
   "execution_count": null,
   "id": "02fc659d-aacb-4f9e-b767-d05dbce367fe",
   "metadata": {},
   "outputs": [],
   "source": [
    "# proportion\n",
    "props = round(sccoda_data['coda'].var.n_cells / sccoda_data['coda'].var.n_cells.sum(), 3)\n",
    "props"
   ]
  },
  {
   "cell_type": "code",
   "execution_count": null,
   "id": "6c32a489-f3cc-4edb-b7dd-42fa2ffcfd09",
   "metadata": {},
   "outputs": [],
   "source": [
    "sccoda_data['coda'].obs"
   ]
  },
  {
   "cell_type": "code",
   "execution_count": null,
   "id": "c3f99e9e-dfc2-4e70-8515-8db750fa6030",
   "metadata": {},
   "outputs": [],
   "source": [
    "# some booxplot arguments to customize the plot\n",
    "boxprops = dict(linestyle='-', linewidth=1, edgecolor='black')\n",
    "flierprops = dict(marker='o', markerfacecolor='black', #markersize=12,\n",
    "                  markeredgecolor='none')\n",
    "medianprops = dict(linestyle='-', linewidth=.8, color='black')\n",
    "#meanpointprops = dict(marker='D', markeredgecolor='black',markerfacecolor='black')\n",
    "meanlineprops = dict(linestyle='--', linewidth=.8, color='black')\n"
   ]
  },
  {
   "cell_type": "code",
   "execution_count": null,
   "id": "74211929-5189-4ee7-b031-3c7c7753ff2e",
   "metadata": {},
   "outputs": [],
   "source": [
    "# define cell types for plotting\n",
    "cell_types = sccoda_data['coda'].var_names.tolist()\n",
    "print(cell_types)"
   ]
  },
  {
   "cell_type": "code",
   "execution_count": null,
   "id": "e4f4ffff-970f-4741-808a-60ab0d6b9670",
   "metadata": {},
   "outputs": [],
   "source": [
    "effect_cell_types = []"
   ]
  },
  {
   "cell_type": "code",
   "execution_count": null,
   "id": "dce61767-b617-4507-b46b-50aaeda14863",
   "metadata": {},
   "outputs": [],
   "source": [
    "# create df for plotting\n",
    "feature_name=[\"Condition\", \"response\", \"patient\", \"ICI_status\"]\n",
    "data=sccoda_data['coda']\n",
    "\n",
    "sample_sums = np.sum(data.X, axis=1, keepdims=True)\n",
    "X = data.X/sample_sums\n",
    "value_name = \"Proportion\"\n",
    "\n",
    "count_df = pd.DataFrame(X, columns=data.var.index, index=data.obs.index).\\\n",
    "        merge(data.obs[feature_name], left_index=True, right_index=True)\n",
    "plot_df = pd.melt(count_df, id_vars=feature_name, var_name=\"Cell type\", value_name=value_name)\n",
    "if cell_types is not None:\n",
    "    plot_df = plot_df[plot_df[\"Cell type\"].isin(cell_types)]"
   ]
  },
  {
   "cell_type": "code",
   "execution_count": null,
   "id": "11eebb98-88e1-4de0-985c-cebb199a6c28",
   "metadata": {},
   "outputs": [],
   "source": [
    "plot_df"
   ]
  },
  {
   "cell_type": "code",
   "execution_count": null,
   "id": "503b5f3a-c8a7-48cc-b266-f98bacd50039",
   "metadata": {},
   "outputs": [],
   "source": [
    "# define cell types that have an effect\n",
    "\n",
    "effect_dict_1 = { # -ICI vs. +ICI/SD\n",
    "    'B Cell' : 'ns', \n",
    "    'CD4 T' : 'ns',\n",
    "    'CD8 T' : 'ns',\n",
    "    'Myeloid' : 'ns',\n",
    "    'NK' : 'ns',\n",
    "    'Plasma' : 'ns',\n",
    "    'pDC' : 'ns'\n",
    "}\n",
    "\n",
    "effect_dict_2 = { # -ICI vs. +ICI/PD\n",
    "    'B Cell' : 'ns', \n",
    "    'CD4 T' : 'ns',\n",
    "    'CD8 T' : 'ns',\n",
    "    'Myeloid' : 'ns',\n",
    "    'NK' : 'ns',\n",
    "    'Plasma' : 'ns',\n",
    "    'pDC' : 'ns'\n",
    "}"
   ]
  },
  {
   "cell_type": "code",
   "execution_count": null,
   "id": "aeb88628-3184-444c-a75b-03f2f125cd7b",
   "metadata": {},
   "outputs": [],
   "source": [
    "for cell_type in cell_types:\n",
    "    \n",
    "    fig, ax = plt.subplots(figsize=(2,2), dpi=120)\n",
    "\n",
    "    sns.boxplot(\n",
    "        x=\"ICI_status\", \n",
    "        y=\"Proportion\", \n",
    "        data=plot_df[plot_df[\"Cell type\"] == cell_type],\n",
    "        hue=\"ICI_status\", \n",
    "        #order=[\"T0/-ICI\",\"T1/+ICI\"],\n",
    "        ax=ax,\n",
    "        vert=True, \n",
    "        patch_artist=True, \n",
    "        palette=[\"white\", \"blue\", \"red\"], \n",
    "        meanline=True, \n",
    "        showmeans=True,\n",
    "        showfliers=False,\n",
    "        boxprops=boxprops,\n",
    "        #flierprops=flierprops,\n",
    "        medianprops=medianprops,\n",
    "        meanprops=meanlineprops\n",
    "    )\n",
    "        \n",
    "    \n",
    "    sns.swarmplot(\n",
    "        x=\"ICI_status\", \n",
    "        y=\"Proportion\", \n",
    "        data=plot_df[plot_df[\"Cell type\"] == cell_type], \n",
    "        hue=\"patient\",  # Color by \"patient\" variable\n",
    "        palette=\"Spectral\",  # Choose a color palette\n",
    "        dodge=False,  # Separate dots for each level of \"patient\n",
    "        #jitter=False\n",
    "        ax=ax,\n",
    "        size=4,\n",
    "        edgecolor=\"black\",\n",
    "        linewidth=.5,\n",
    "        alpha=1\n",
    "    )\n",
    "\n",
    "    #ax.set_xticks([])\n",
    "    ax.set_title(cell_type)\n",
    "    ax.set_xlabel('ICI Status')\n",
    "    ymax = plot_df[plot_df[\"Cell type\"] == cell_type][\"Proportion\"].max()\n",
    "    ax.plot([0, 0, 2, 2], [ymax + .08, ymax + .09, ymax + .09, ymax + .08], lw=1, color='black')\n",
    "    ax.text(1, ymax+.085, f\" {effect_dict_2[cell_type]}\", ha='center', va='bottom', size=8, color='black')\n",
    "    ax.plot([0, 0, 1, 1], [ymax + .05, ymax + .06, ymax + .06, ymax + .05], lw=1, color='black')\n",
    "    ax.text(0.5, ymax+.055, f\" {effect_dict_1[cell_type]}\", ha='center', va='bottom', size=8, color='black')\n",
    "    #ax.set_ylim([0, ymax+.1])\n",
    "    plt.yticks(fontsize = 9) \n",
    "    plt.xticks(fontsize = 9) \n",
    "\n",
    "    legend = plt.legend(loc='right', bbox_to_anchor=(1.8, .5), ncol=1, title=\"Patient\", frameon=True)\n",
    "    plt.setp(legend.get_title(),fontsize='12')\n",
    "    plt.tight_layout()\n",
    "\n",
    "    \n",
    "    plt.savefig(os.path.join(fig_dir, \"Comp_\"+cell_type+\"_boxplot_by_ICI_status.png\"), dpi=600, format=\"png\", bbox_inches=\"tight\")"
   ]
  }
 ],
 "metadata": {
  "kernelspec": {
   "display_name": "Python 3 (ipykernel)",
   "language": "python",
   "name": "python3"
  },
  "language_info": {
   "codemirror_mode": {
    "name": "ipython",
    "version": 3
   },
   "file_extension": ".py",
   "mimetype": "text/x-python",
   "name": "python",
   "nbconvert_exporter": "python",
   "pygments_lexer": "ipython3",
   "version": "3.9.18"
  }
 },
 "nbformat": 4,
 "nbformat_minor": 5
}
