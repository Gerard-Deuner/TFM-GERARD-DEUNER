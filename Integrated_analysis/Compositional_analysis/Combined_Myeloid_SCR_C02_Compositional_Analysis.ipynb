{
 "cells": [
  {
   "cell_type": "markdown",
   "id": "56d110a8-248c-4867-b327-051217b244a2",
   "metadata": {
    "execution": {
     "iopub.execute_input": "2024-03-22T15:40:12.013621Z",
     "iopub.status.busy": "2024-03-22T15:40:12.012831Z",
     "iopub.status.idle": "2024-03-22T15:40:12.016811Z",
     "shell.execute_reply": "2024-03-22T15:40:12.016381Z",
     "shell.execute_reply.started": "2024-03-22T15:40:12.013564Z"
    }
   },
   "source": [
    "# Myeloid Subset scCODA Compositional Analysis - Timepoints Comparison"
   ]
  },
  {
   "cell_type": "markdown",
   "id": "f7429b27-4ea9-4870-a5da-9e56ceac9618",
   "metadata": {},
   "source": [
    "### Environment Set Up"
   ]
  },
  {
   "cell_type": "code",
   "execution_count": null,
   "id": "1a2c6d5e-8f09-478a-98ca-019399c2f98a",
   "metadata": {},
   "outputs": [],
   "source": [
    "# load libraries\n",
    "import warnings\n",
    "import matplotlib.pyplot as plt\n",
    "import mudata as mu\n",
    "import pertpy as pt\n",
    "import scanpy as sc\n",
    "import numpy as np\n",
    "import pandas as pd\n",
    "import seaborn as sns\n",
    "import os\n",
    "from statannot import add_stat_annotation"
   ]
  },
  {
   "cell_type": "code",
   "execution_count": null,
   "id": "4b69b427-3fe3-4dce-90e2-d5fe8bad8578",
   "metadata": {},
   "outputs": [],
   "source": [
    "# set up figure parameters\n",
    "plt.rcParams['figure.figsize'] = (4, 4)\n",
    "sc.settings.verbosity = 0\n",
    "sc.settings.set_figure_params(\n",
    "    dpi=300,\n",
    "    facecolor=\"white\",\n",
    "    frameon=False, \n",
    "    figsize=(4,4)\n",
    ")"
   ]
  },
  {
   "cell_type": "code",
   "execution_count": null,
   "id": "97ebfa4f-e274-4411-9988-73ed24d06747",
   "metadata": {},
   "outputs": [],
   "source": [
    "# remove warnings\n",
    "import warnings\n",
    "warnings.filterwarnings('ignore')"
   ]
  },
  {
   "cell_type": "code",
   "execution_count": null,
   "id": "1351a6f2-8897-4cec-bcce-257be2043bf6",
   "metadata": {},
   "outputs": [],
   "source": [
    "# set up dirs\n",
    "work_dir = \"/scratch_isilon/groups/singlecell/gdeuner/SERPENTINE/\"\n",
    "fig_dir = os.path.join(work_dir, \"figures\", \"combined\", \"Myeloid\", \"compositional_analysis\", \"timepoint_comp/\")\n",
    "sc.settings.figdir = os.path.join(work_dir, \"figures\", \"combined\", \"Myeloid\", \"compositional_analysis\", \"timepoint_comp/\")"
   ]
  },
  {
   "cell_type": "code",
   "execution_count": null,
   "id": "f775185b-2f8d-4e4f-897e-567155b4b523",
   "metadata": {},
   "outputs": [],
   "source": [
    "# read anndata object\n",
    "adata = sc.read_h5ad(os.path.join(work_dir, \"data\", \"outputdata\", \"combined\", \"Combined_SCR_CO2_Myeloid_annotated_18-04-24.h5ad\"))"
   ]
  },
  {
   "cell_type": "code",
   "execution_count": null,
   "id": "592825ea-2e48-4881-aeb0-68701242151b",
   "metadata": {},
   "outputs": [],
   "source": [
    "# create condition variable\n",
    "adata"
   ]
  },
  {
   "cell_type": "markdown",
   "id": "b032ab9b-477c-45cd-b2af-4586d2ab02bd",
   "metadata": {},
   "source": [
    "## Model Setup & Inference"
   ]
  },
  {
   "cell_type": "code",
   "execution_count": null,
   "id": "b460f484-3eee-416b-9180-3e96c25b43db",
   "metadata": {},
   "outputs": [],
   "source": [
    "# initiate scCODA model\n",
    "sccoda_model = pt.tl.Sccoda()\n",
    "sccoda_data = sccoda_model.load(\n",
    "    adata,\n",
    "    type=\"cell_level\",\n",
    "    generate_sample_level=True,\n",
    "    cell_type_identifier=\"Annotation_2.0\",\n",
    "    sample_identifier=\"sample\",\n",
    "    covariate_obs=[\"subproject\", \"patient\", \"timepoint\", \"response\", \"ICI_status\", \"Condition\"],\n",
    "        \n",
    ")\n",
    "print(sccoda_data)\n",
    "print(sccoda_data[\"coda\"].X)\n",
    "print(sccoda_data[\"coda\"].obs)"
   ]
  },
  {
   "cell_type": "code",
   "execution_count": null,
   "id": "b82bcd88-af4d-4a1c-9b70-dada77c71840",
   "metadata": {},
   "outputs": [],
   "source": [
    "pt.pl.coda.boxplots(sccoda_data, \n",
    "                    modality_key=\"coda\", \n",
    "                    feature_name=\"timepoint\", \n",
    "                    add_dots=True,\n",
    "                    figsize=[6,6],\n",
    "                    level_order=[\"SCR\", \"C02\"],\n",
    "                    cmap=[\"coral\",\"darkviolet\"]\n",
    "                   )\n",
    "plt.show()"
   ]
  },
  {
   "cell_type": "code",
   "execution_count": null,
   "id": "734d8648-7691-4b21-9345-d706e740003f",
   "metadata": {},
   "outputs": [],
   "source": [
    "# prepare the model\n",
    "sccoda_data = sccoda_model.prepare(\n",
    "    sccoda_data,\n",
    "    modality_key=\"coda\",\n",
    "    formula=\"Condition\", #condition = timepoint\n",
    "    reference_cell_type=\"automatic\",\n",
    ")\n",
    "sccoda_data[\"coda\"]"
   ]
  },
  {
   "cell_type": "code",
   "execution_count": null,
   "id": "fd543864-9c82-4bba-b8d7-0f2dd8e27a50",
   "metadata": {},
   "outputs": [],
   "source": [
    "# run MCMC\n",
    "sccoda_model.run_nuts(sccoda_data, modality_key=\"coda\")\n",
    "sccoda_data[\"coda\"]"
   ]
  },
  {
   "cell_type": "markdown",
   "id": "9d41b4f7-8d0b-4b7b-be75-b650c7b24454",
   "metadata": {},
   "source": [
    "## Result Intepretation"
   ]
  },
  {
   "cell_type": "code",
   "execution_count": null,
   "id": "d504eabf-deec-4c76-a2f9-c013203e98f4",
   "metadata": {},
   "outputs": [],
   "source": [
    "# see most relevant information\n",
    "sccoda_model.summary(sccoda_data, modality_key=\"coda\")"
   ]
  },
  {
   "cell_type": "code",
   "execution_count": null,
   "id": "a05758f0-e7b2-4d26-a5a2-c07f57024165",
   "metadata": {},
   "outputs": [],
   "source": [
    "sccoda_model.credible_effects(sccoda_data, modality_key=\"coda\")"
   ]
  },
  {
   "cell_type": "markdown",
   "id": "956b4cb2-3f70-4016-a54b-69ecdd511e77",
   "metadata": {},
   "source": [
    "### Adjust FDR"
   ]
  },
  {
   "cell_type": "code",
   "execution_count": null,
   "id": "07d93b30-c6fc-471e-a553-0613a2010790",
   "metadata": {},
   "outputs": [],
   "source": [
    "sccoda_model.set_fdr(sccoda_data, modality_key=\"coda\", est_fdr=0.2)\n",
    "sccoda_model.summary(sccoda_data, modality_key=\"coda\")"
   ]
  },
  {
   "cell_type": "markdown",
   "id": "3cb8d642-8a05-4d9d-b386-a43e5b278df9",
   "metadata": {},
   "source": [
    "## Save Results"
   ]
  },
  {
   "cell_type": "code",
   "execution_count": null,
   "id": "dc061aea-a3ef-4c71-a311-aac640421dcc",
   "metadata": {},
   "outputs": [],
   "source": [
    "#sccoda_data.write_h5mu(os.path.join(work_dir, \"data\", \"outputdata\", \"combined\", \"Myeloid_Combined_SCR_CO2_immune_scCODA_timepoint_15-04-24.h5mu\"))"
   ]
  },
  {
   "cell_type": "code",
   "execution_count": null,
   "id": "0c11b18d-c93b-4cd6-8b63-82a192430a8b",
   "metadata": {},
   "outputs": [],
   "source": [
    "test_model = pt.tl.Sccoda()\n",
    "test_model.get_intercept_df(sccoda_data, modality_key=\"coda\")"
   ]
  },
  {
   "cell_type": "code",
   "execution_count": null,
   "id": "99ba9206-928b-40fe-988f-a85b7737722e",
   "metadata": {},
   "outputs": [],
   "source": [
    "test_model.get_intercept_df(sccoda_data, modality_key=\"coda\")"
   ]
  },
  {
   "cell_type": "code",
   "execution_count": null,
   "id": "488f00d6-4b20-4076-b6b1-c101aef5c601",
   "metadata": {},
   "outputs": [],
   "source": [
    "effect = test_model.get_effect_df(sccoda_data, modality_key=\"coda\")\n",
    "effect"
   ]
  },
  {
   "cell_type": "code",
   "execution_count": null,
   "id": "177c6efe-03fa-4b67-8997-c2920e1b99c2",
   "metadata": {},
   "outputs": [],
   "source": [
    "sccoda_data[\"coda\"].varm[\"intercept_df\"]"
   ]
  },
  {
   "cell_type": "markdown",
   "id": "f9fe73f0-1c14-416a-9175-071b944c4ddb",
   "metadata": {},
   "source": [
    "## Visualization"
   ]
  },
  {
   "cell_type": "code",
   "execution_count": null,
   "id": "fe26ee60-349f-4992-bfbb-c80e0bcac36e",
   "metadata": {},
   "outputs": [],
   "source": [
    "# proportion\n",
    "props = round(sccoda_data['coda'].var.n_cells / sccoda_data['coda'].var.n_cells.sum(), 3)\n",
    "props"
   ]
  },
  {
   "cell_type": "code",
   "execution_count": null,
   "id": "9442e79f-f6aa-4144-a84d-b23201b958ce",
   "metadata": {},
   "outputs": [],
   "source": [
    "palette"
   ]
  },
  {
   "cell_type": "code",
   "execution_count": null,
   "id": "c2ff04d6-7f29-4e59-a05b-cb2a930a2827",
   "metadata": {},
   "outputs": [],
   "source": [
    "sns.color_palette(\"tab20\", 30)"
   ]
  },
  {
   "cell_type": "code",
   "execution_count": null,
   "id": "656365a4-348b-49a9-8521-b14b6e6d0a2c",
   "metadata": {},
   "outputs": [],
   "source": [
    "tab20c = plt.get_cmap('tab20')\n",
    "palette = [tab20c(i) for i in range(20)]\n",
    "indices_to_remove = [3, 6, 9, 13, 16]\n",
    "for index in sorted(indices_to_remove, reverse=True):\n",
    "    palette.pop(index)\n",
    "\n",
    "plt.figure(figsize=(6,.5), dpi=120)\n",
    "\n",
    "cf=props.cumsum()\n",
    "\n",
    "#plt.barh(0, props[0], edgecolor=\"white\")\n",
    "\n",
    "#for i in range(1, len(props)):\n",
    "#    plt.barh(0, props[i], bottom=cf[i-1], edgecolor=\"white\", color=palette[i])\n",
    "\n",
    "plt.barh(0, props[0], edgecolor=\"white\", height=0.01)\n",
    "\n",
    "for i in range(1, len(props)):\n",
    "    plt.barh(0, props[i], left=cf[i-1], edgecolor=\"white\", height=0.01, color=palette[i])\n",
    "\n",
    "# Remove y-axis ticks and labels\n",
    "plt.gca().axes.get_yaxis().set_visible(False)\n",
    "\n",
    "# Set x-axis label and title\n",
    "plt.xlabel('Proportion')\n",
    "# Move the x-axis label and title below the plot\n",
    "plt.gca().xaxis.set_label_coords(0.5, -1)\n",
    "plt.gca().title.set_position([0.5, -0.2])\n",
    "plt.xticks(fontsize=11)\n",
    "\n",
    "#plt.ylabel('proportion')\n",
    "#frame1=plt.gca()\n",
    "#frame1.axes.get_xaxis().set_visible(False)\n",
    "plt.xlim(0, 1.0)\n",
    "\n",
    "plt.savefig(\"/scratch_isilon/groups/singlecell/gdeuner/SERPENTINE/figures/combined/Myeloid/compositional_analysis/barplot_all_celltypes.pdf\", dpi=600, format=\"pdf\", bbox_inches=\"tight\")\n",
    "plt.savefig(\"/scratch_isilon/groups/singlecell/gdeuner/SERPENTINE/figures/ISCO24_poster/Fig4/barplot_all_celltypes.pdf\", dpi=600, format=\"pdf\", bbox_inches=\"tight\")\n",
    "plt.show()"
   ]
  },
  {
   "cell_type": "code",
   "execution_count": null,
   "id": "e5b4fa28-faf9-48c7-a9e6-575d00726818",
   "metadata": {},
   "outputs": [],
   "source": [
    "# visualize effects (significant changes in cell type composition)\n",
    "#plot=pt.pl.coda.effects_barplot(sccoda_data, \n",
    "#                           modality_key=\"coda\", \n",
    "#                           parameter=\"Final Parameter\",\n",
    "#                           figsize=[3,3])\n",
    "#plt.savefig(os.path.join(fig_dir, \"Myeloid_Comp_Significant_Celltypes_Effects.png\"), dpi=600, format=\"png\", bbox_inches=\"tight\")"
   ]
  },
  {
   "cell_type": "code",
   "execution_count": null,
   "id": "eab8149b-29bd-43ce-86c7-c90f259b18a3",
   "metadata": {},
   "outputs": [],
   "source": [
    "# define cell types that have an effect\n",
    "#effect_cell_types = [\"CD4 T Central Memory\", \"CD4 T Helper/Exhausted\", \"CD8 T TRM PreExhausted\"]"
   ]
  },
  {
   "cell_type": "code",
   "execution_count": null,
   "id": "e3ddcc05-d73e-4f31-bced-2d8b874498bc",
   "metadata": {},
   "outputs": [],
   "source": [
    "sccoda_data['coda'].var"
   ]
  },
  {
   "cell_type": "code",
   "execution_count": null,
   "id": "a33e7a0e-e5dc-4123-8d25-33a006d9acb9",
   "metadata": {},
   "outputs": [],
   "source": [
    "# some booxplot arguments to customize the plot\n",
    "boxprops = dict(linestyle='-', linewidth=1, edgecolor='black')\n",
    "flierprops = dict(marker='o', markerfacecolor='none', #markersize=12,\n",
    "                  markeredgecolor='black')\n",
    "medianprops = dict(linestyle='-', linewidth=.8, color='black')\n",
    "#meanpointprops = dict(marker='D', markeredgecolor='black',markerfacecolor='black')\n",
    "meanlineprops = dict(linestyle='--', linewidth=.8, color='black')\n"
   ]
  },
  {
   "cell_type": "code",
   "execution_count": null,
   "id": "6d5b917d-269c-4dfc-9e71-978962289e7e",
   "metadata": {},
   "outputs": [],
   "source": [
    "# define cell types for plotting\n",
    "cell_types = sccoda_data['coda'].var_names.tolist()\n",
    "print(cell_types)"
   ]
  },
  {
   "cell_type": "code",
   "execution_count": null,
   "id": "41182a91-44cc-4223-80c7-debcbf81ec1c",
   "metadata": {},
   "outputs": [],
   "source": [
    "# create df for plotting\n",
    "feature_name=[\"Condition\", \"response\", \"patient\", \"subproject\"]\n",
    "data=sccoda_data['coda']\n",
    "\n",
    "sample_sums = np.sum(data.X, axis=1, keepdims=True)\n",
    "X = data.X/sample_sums\n",
    "value_name = \"Proportion\"\n",
    "\n",
    "count_df = pd.DataFrame(X, columns=data.var.index, index=data.obs.index).\\\n",
    "        merge(data.obs[feature_name], left_index=True, right_index=True)\n",
    "plot_df = pd.melt(count_df, id_vars=feature_name, var_name=\"Cell type\", value_name=value_name)\n",
    "if cell_types is not None:\n",
    "    plot_df = plot_df[plot_df[\"Cell type\"].isin(cell_types)]"
   ]
  },
  {
   "cell_type": "code",
   "execution_count": null,
   "id": "b1d2b3c3-e75b-482e-824d-23bc833405bd",
   "metadata": {},
   "outputs": [],
   "source": [
    "plot_df"
   ]
  },
  {
   "cell_type": "code",
   "execution_count": null,
   "id": "27a2cff3-c416-4981-8f25-2e979730b7c3",
   "metadata": {},
   "outputs": [],
   "source": [
    "# visualize effects (significant changes in cell type composition)\n",
    "plot=pt.pl.coda.effects_barplot(sccoda_data, \n",
    "                           modality_key=\"coda\", \n",
    "                           #parameter=\"timepoint\",\n",
    "                           #figsize=[3,3],\n",
    "                           dpi=300)\n",
    "plt.xticks(fontsize=8) \n",
    "plt.yticks(fontsize=10)  \n",
    "plt.savefig(os.path.join(work_dir, \"figures\", \"TFM\", \"Fig5\", \"Myeloid_Comp_Significant_Log2FC_timepoint_all.pdf\"), dpi=300, format=\"pdf\", bbox_inches=\"tight\")"
   ]
  },
  {
   "cell_type": "code",
   "execution_count": null,
   "id": "9a04fd7e-2963-499f-8ed1-f5aeb0f49070",
   "metadata": {},
   "outputs": [],
   "source": [
    "# some booxplot arguments to customize the plot\n",
    "import seaborn\n",
    "boxprops = dict(linestyle='-', linewidth=1, edgecolor='black')\n",
    "flierprops = dict(marker='o', markerfacecolor='black', #markersize=12,\n",
    "                  markeredgecolor='none')\n",
    "medianprops = dict(linestyle='-', linewidth=.8, color='black')\n",
    "#meanpointprops = dict(marker='D', markeredgecolor='black',markerfacecolor='black')\n",
    "meanlineprops = dict(linestyle='--', linewidth=.8, color='black')\n",
    "\n",
    "\n",
    "import seaborn as sns\n",
    "plt.rcParams.update({'font.size': 13})\n",
    "seaborn.set_style(style='white') \n",
    "\n",
    "#custom_order = ['CD4 T', 'CD8 T', 'NK', 'Myeloid', 'pDC', 'Plasma', 'B Cell']\n",
    "\n",
    "\n",
    "fig, ax = plt.subplots(figsize=(7,5), dpi=120)\n",
    "\n",
    "ax = sns.boxplot(\n",
    "    x=\"Cell type\", \n",
    "    y=\"Proportion\", \n",
    "    data=plot_df,\n",
    "    hue=\"Condition\", \n",
    "    #liersize=1,\n",
    "    palette=[\"coral\",\"darkviolet\"], \n",
    "    #order=custom_order,\n",
    "    ax=ax,\n",
    "    vert=True, \n",
    "    patch_artist=True, \n",
    "    meanline=True, \n",
    "    showmeans=True,\n",
    "    showfliers=False,\n",
    "    boxprops=boxprops,\n",
    "    #flierprops=flierprops,\n",
    "    medianprops=medianprops,\n",
    "    meanprops=meanlineprops\n",
    ")\n",
    "\n",
    "'''\n",
    "sns.stripplot(\n",
    "    x=\"Cell type\", \n",
    "    y=\"Proportion\", \n",
    "    data=plot_df, \n",
    "    #style=\"Patient\",\n",
    "    hue=\"Condition\",  # Color by \"patient\" variable\n",
    "    palette=[\"coral\",\"darkviolet\"],  # Choose a color palette\n",
    "    dodge=True,  # Separate dots for each level of \"patient\n",
    "    #order=custom_order,\n",
    "    #jitter=False\n",
    "    ax=ax,\n",
    "    size=5,\n",
    "    edgecolor=\"black\",\n",
    "    linewidth=.5,\n",
    "    alpha=1,\n",
    ")\n",
    "'''\n",
    "plt.ylim(0, 0.5)\n",
    "\n",
    "#ax.set_xticks([])\n",
    "ax.set_xlabel('Timepoint')\n",
    "plt.yticks(fontsize = 10, ) \n",
    "plt.xticks(fontsize = 10, rotation = 90) \n",
    "\n",
    "handles, labels = ax.get_legend_handles_labels()\n",
    "ax.legend(handles[:2], labels[:2], title='Timepoint', bbox_to_anchor=(1, 1))\n",
    "\n",
    "#legend = plt.legend(loc='right', bbox_to_anchor=(1.8, .5), ncol=1, title=\"Patient\", frameon=True)\n",
    "plt.tight_layout()\n",
    "        \n",
    "plt.savefig(os.path.join(work_dir, \"figures\", \"TFM\", \"Fig5\", \"Boxplots_cell_type_tiempoints_comparison.pdf\"), dpi=600, format=\"pdf\", bbox_inches=\"tight\")"
   ]
  },
  {
   "cell_type": "code",
   "execution_count": null,
   "id": "445c63a9-522f-4596-b57a-992ba77df6c4",
   "metadata": {},
   "outputs": [],
   "source": [
    "# plots for Poster/Thesis Figures\n",
    "# overview of cell type distribution across timepoints\n",
    "boxprops = dict(linestyle='-', linewidth=1, edgecolor='black', alpha=0.7)\n",
    "plt.rcParams.update({'font.size': 13})\n",
    "sns.set_style(rc = {'axes.facecolor': 'white'})\n",
    "\n",
    "#effect_cell_types.append(\"CD56hi CD16lo NK\")\n",
    "\n",
    "for cell_type in cell_types:\n",
    "\n",
    "    #if cell_type in effect_cell_types:\n",
    "    if 1 == True:\n",
    "    \n",
    "        fig, ax = plt.subplots(figsize=(2,2), dpi=120)\n",
    "        \n",
    "        sns.boxplot(\n",
    "            x=\"Condition\", \n",
    "            y=\"Proportion\", \n",
    "            data=plot_df[plot_df[\"Cell type\"] == cell_type],\n",
    "            hue=\"Condition\", \n",
    "            #liersize=1,\n",
    "            palette=[\"coral\",\"darkviolet\"], \n",
    "            order=[\"T0/-ICI\",\"T1/+ICI\"],\n",
    "            ax=ax,\n",
    "            vert=True, \n",
    "            patch_artist=True, \n",
    "            meanline=True, \n",
    "            showmeans=True,\n",
    "            showfliers=False,\n",
    "            boxprops=boxprops,\n",
    "            #flierprops=flierprops,\n",
    "            medianprops=medianprops,\n",
    "            meanprops=meanlineprops\n",
    "        )\n",
    "            \n",
    "        \n",
    "        sns.swarmplot(\n",
    "            x=\"Condition\", \n",
    "            y=\"Proportion\", \n",
    "            data=plot_df[plot_df[\"Cell type\"] == cell_type], \n",
    "            hue=\"patient\",  # Color by \"patient\" variable\n",
    "            palette=\"Spectral\",  # Choose a color palette\n",
    "            dodge=False,  # Separate dots for each level of \"patient\n",
    "            #jitter=False\n",
    "            ax=ax,\n",
    "            size=5,\n",
    "            edgecolor=\"black\",\n",
    "            linewidth=.5,\n",
    "            alpha=1\n",
    "        )\n",
    "        '''\n",
    "        sns.pointplot(\n",
    "            data=plot_df[plot_df[\"Cell type\"] == cell_type], \n",
    "            x=\"Condition\", \n",
    "            y=\"Proportion\", \n",
    "            hue=\"patient\", \n",
    "            legend= False,\n",
    "            palette=\"Spectral\",\n",
    "            linewidth=1.5,\n",
    "            errwidth=1,\n",
    "            markers='|',\n",
    "            #errorbar=None,\n",
    "            join=True\n",
    "        )\n",
    "        '''\n",
    "        plt.title(cell_type, pad=18)\n",
    "        plt.xlabel('', labelpad=10)\n",
    "        plt.ylabel('', labelpad=10)\n",
    "        plt.yticks(fontsize = 10) \n",
    "        plt.xticks(fontsize = 10) \n",
    "        #plt.set_xticks([0,1,2,3,4], [\"PD_01\", \"PD_02\", \"PD_03\", \"SD_01\", \"PD_04\"], ha=\"center\", rotation=30)\n",
    "    \n",
    "            \n",
    "        legend = plt.legend(loc='right', bbox_to_anchor=(2, .5), ncol=1, title=\"Response\", frameon=True, facecolor=\"white\")\n",
    "        plt.setp(legend.get_title(),fontsize='12')\n",
    "        plt.tight_layout()\n",
    "  \n",
    "        xmin, xmax, ymin, ymax = plt.axis()\n",
    "        plt.ylim((0, ymax + (0.66)*ymax))\n",
    "\n",
    "        if cell_type == \"CD4 T CM/EarlyActivated\":\n",
    "            cell_type = \"CD4 T CM-EarlyActivated\"\n",
    "        \n",
    "        plt.savefig(os.path.join(\"/scratch_isilon/groups/singlecell/gdeuner/SERPENTINE/figures/TFM/Fig5\", \"Myeloid_Comp_\"+cell_type+\"_boxplot_by_condition_colby_response_new.pdf\"), dpi=600, format=\"pdf\", bbox_inches=\"tight\")"
   ]
  },
  {
   "cell_type": "code",
   "execution_count": null,
   "id": "aa6c552b-29b2-454e-9772-64fae9ceb749",
   "metadata": {},
   "outputs": [],
   "source": [
    "# overview of cell type distribution across patients\n",
    "for cell_type in cell_types:\n",
    "\n",
    "    significance = \"ns\"\n",
    "    \n",
    "    fig, ax = plt.subplots(figsize=(2,2), dpi=120)\n",
    "\n",
    "    sns.boxplot(\n",
    "        x=\"patient\", \n",
    "        y=\"Proportion\", \n",
    "        data=plot_df[plot_df[\"Cell type\"] == cell_type],\n",
    "        hue=\"patient\", \n",
    "        #liersize=1,\n",
    "        palette=\"Spectral\", \n",
    "        #order=[\"T0/-ICI\",\"T1/+ICI\"],\n",
    "        ax=ax,\n",
    "        vert=True, \n",
    "        patch_artist=True, \n",
    "        meanline=True, \n",
    "        showmeans=True,\n",
    "        showfliers=False,\n",
    "        boxprops=boxprops,\n",
    "        #flierprops=flierprops,\n",
    "        medianprops=medianprops,\n",
    "        meanprops=meanlineprops\n",
    "    )\n",
    "        \n",
    "    sns.swarmplot(\n",
    "        x=\"patient\", \n",
    "        y=\"Proportion\", \n",
    "        data=plot_df[plot_df[\"Cell type\"] == cell_type], \n",
    "        hue=\"Condition\",  # Color by \"patient\" variable\n",
    "        palette=[\"coral\", \"darkviolet\"],  # Choose a color palette\n",
    "        dodge=False,  # Separate dots for each level of \"patient\n",
    "        #jitter=False\n",
    "        ax=ax,\n",
    "        size=4,\n",
    "        edgecolor=\"black\",\n",
    "        linewidth=.5,\n",
    "        alpha=1\n",
    "    )\n",
    "\n",
    "    \n",
    "    #ax.set_xticks([])\n",
    "    ax.set_title(cell_type+\" - \"+significance)\n",
    "    ax.set_xlabel('Patient')\n",
    "    plt.yticks(fontsize = 10) \n",
    "    plt.xticks(fontsize = 10) \n",
    "    \n",
    "    legend = plt.legend(loc='right', bbox_to_anchor=(1.8, .5), ncol=1, title=\"Condition\", frameon=True)\n",
    "    plt.setp(legend.get_title(),fontsize='12')\n",
    "    plt.tight_layout()\n",
    "      \n",
    "    \n",
    "    plt.savefig(os.path.join(fig_dir, \"Myeloid_Comp_\"+cell_type+\"_boxplot_by_patient.png\"), dpi=300, format=\"png\", bbox_inches=\"tight\")"
   ]
  },
  {
   "cell_type": "code",
   "execution_count": null,
   "id": "51b644e8-262d-4f91-a9f9-366631b13023",
   "metadata": {},
   "outputs": [],
   "source": [
    "plot = pt.pl.coda.boxplots(\n",
    "        sccoda_data,\n",
    "        modality_key=\"coda\",\n",
    "        feature_name=\"patient\",\n",
    "        figsize=(8,4),\n",
    "        add_dots=False,\n",
    "        plot_facets=False, \n",
    "        args_boxplot={\"vert\":True, \n",
    "                    \"patch_artist\":True, \n",
    "                    \"meanline\":True, \n",
    "                    \"showmeans\":True,\n",
    "                    \"boxprops\":boxprops,\n",
    "                    \"flierprops\":flierprops,\n",
    "                    \"medianprops\":medianprops,\n",
    "                    \"meanprops\":meanlineprops,\n",
    "                    },\n",
    "        cmap=\"Spectral\"\n",
    "        )\n",
    "plt.xticks(fontsize=10)\n",
    "plt.savefig(os.path.join(fig_dir, \"Comp_all_boxplot_by_patient.png\"), dpi=300, format=\"png\", bbox_inches=\"tight\")"
   ]
  },
  {
   "cell_type": "code",
   "execution_count": null,
   "id": "09347852-d172-44cd-9faa-64bfeeef86a0",
   "metadata": {},
   "outputs": [],
   "source": [
    "effect[\"Final Parameter\"]"
   ]
  },
  {
   "cell_type": "code",
   "execution_count": null,
   "id": "ad8d8e62-543a-460a-b627-ac77a8ca5182",
   "metadata": {},
   "outputs": [],
   "source": [
    "## import function to compute stats\n",
    "#from statannot import add_stat_annotation\n",
    "#from .utils_statannot import raise_expected_got, assert_is_in"
   ]
  },
  {
   "cell_type": "code",
   "execution_count": null,
   "id": "ac91f296-2047-48d3-bcb6-81d204f2aae2",
   "metadata": {},
   "outputs": [],
   "source": [
    "# overview of cell type distribution across timepoints\n",
    "\n",
    "plt.rcParams.update({'font.size': 13})\n",
    "sns.set_style(rc = {'axes.facecolor': 'white'})\n",
    "\n",
    "for cell_type in cell_types:\n",
    "\n",
    "    fig, ax = plt.subplots(figsize=(2,2), dpi=120, frameon=True)\n",
    "    \n",
    "    sns.boxplot(\n",
    "        x=\"Condition\", \n",
    "        y=\"Proportion\", \n",
    "        data=plot_df[plot_df[\"Cell type\"] == cell_type],\n",
    "        hue=\"Condition\", \n",
    "        #liersize=1,\n",
    "        palette=[\"coral\",\"darkviolet\"], \n",
    "        order=[\"T0/-ICI\",\"T1/+ICI\"],\n",
    "        ax=ax,\n",
    "        vert=True, \n",
    "        patch_artist=True, \n",
    "        meanline=True, \n",
    "        showmeans=True,\n",
    "        showfliers=False,\n",
    "        boxprops=boxprops,\n",
    "        #flierprops=flierprops,\n",
    "        medianprops=medianprops,\n",
    "        meanprops=meanlineprops\n",
    "    )\n",
    "        \n",
    "    \n",
    "    sns.swarmplot(\n",
    "        x=\"Condition\", \n",
    "        y=\"Proportion\", \n",
    "        data=plot_df[plot_df[\"Cell type\"] == cell_type], \n",
    "        hue=\"patient\",  # Color by \"patient\" variable\n",
    "        palette=\"Spectral\",  # Choose a color palette\n",
    "        dodge=False,  # Separate dots for each level of \"patient\n",
    "        #jitter=False\n",
    "        ax=ax,\n",
    "        size=5,\n",
    "        edgecolor=\"black\",\n",
    "        linewidth=.5,\n",
    "        alpha=1\n",
    "    )\n",
    "    '''\n",
    "    sns.pointplot(\n",
    "        data=plot_df[plot_df[\"Cell type\"] == cell_type], \n",
    "        x=\"Condition\", \n",
    "        y=\"Proportion\", \n",
    "        hue=\"patient\", \n",
    "        palette=\"Spectral\",\n",
    "        linewidth=1,\n",
    "        legend=False,\n",
    "        #errorbar=None\n",
    "    )\n",
    "    '''\n",
    "  \n",
    "    #ax.set_xticks([])\n",
    "    plt.title(cell_type+\" - \"+significance, fontsize=12)\n",
    "    #ax.title(fontsize=14)\n",
    "    plt.yticks(fontsize = 8) \n",
    "    plt.xticks(fontsize = 8)\n",
    "    plt.ylabel(\"Proportion\", fontsize = 10)\n",
    "    plt.xlabel(\"ICI Response\", fontsize = 10)\n",
    "    \n",
    "    legend = plt.legend(loc='right', bbox_to_anchor=(1.8, .5), ncol=1, title=\"Patient\", frameon=True, facecolor=\"white\")\n",
    "    plt.setp(legend.get_title(),fontsize='12')\n",
    "\n",
    "    plt.tight_layout()\n",
    "    plt.savefig(os.path.join(fig_dir, \"Myeloid_Comp_\"+cell_type+\"_boxplot_by_condition.png\"), dpi=600, format=\"png\", bbox_inches=\"tight\")\n"
   ]
  },
  {
   "cell_type": "code",
   "execution_count": null,
   "id": "c7093cad-1243-4952-9371-2cd60c7dbc60",
   "metadata": {},
   "outputs": [],
   "source": [
    "print(sccoda_data['coda'].X.shape)\n",
    "print(sccoda_data['coda'].obs.shape)"
   ]
  },
  {
   "cell_type": "code",
   "execution_count": null,
   "id": "4fdf09f0-6422-41d7-b976-2f3f264adcc8",
   "metadata": {},
   "outputs": [],
   "source": [
    "plot.artists"
   ]
  },
  {
   "cell_type": "code",
   "execution_count": null,
   "id": "d9d133ec-1ce6-44bf-b6b1-2ab78b517a9c",
   "metadata": {},
   "outputs": [],
   "source": [
    "patients = [\"01\", \"02\", \"03\", \"08\", \"10\"]\n",
    "patient_colors = sns.color_palette(\"Spectral\", n_colors=len(patients))\n",
    "patient_color_dict = dict(zip(patients, patient_colors))"
   ]
  },
  {
   "cell_type": "code",
   "execution_count": null,
   "id": "641bcba1-fbc9-46d2-8cce-8ee3cdfa769b",
   "metadata": {},
   "outputs": [],
   "source": [
    "# stacked plot of cell type proportions per patient\n",
    "plot = pt.pl.coda.stacked_barplot(\n",
    "    sccoda_data, \n",
    "    modality_key=\"coda\", \n",
    "    feature_name=\"patient\",\n",
    "    #dpi=300\n",
    ")\n",
    "plot.set(title = \"Patient\")\n",
    "plot.set_xticks([0,1,2,3,4], [\"P01\", \"P02\", \"P03\", \"P08\", \"P10\"], ha=\"center\", rotation=0)\n",
    "plt.savefig(os.path.join(fig_dir, \"Myeloid_Comp_immune_barplot_by_patient.png\"), dpi=600, format=\"png\", bbox_inches=\"tight\")\n",
    "plt.show()"
   ]
  },
  {
   "cell_type": "code",
   "execution_count": null,
   "id": "6725d0c0-1005-493f-be5e-f8bbc564c40c",
   "metadata": {},
   "outputs": [],
   "source": [
    "# stacked plot of cell type proportions per patient\n",
    "plot = pt.pl.coda.stacked_barplot(\n",
    "    sccoda_data, \n",
    "    modality_key=\"coda\", \n",
    "    feature_name=\"patient\",\n",
    "    #dpi=300\n",
    ")\n",
    "plot.set(title = \"Patient\")\n",
    "plot.set_xticks([0,1,2,3,4], [\"P01\", \"P02\", \"P03\", \"P04\", \"P05\"], ha=\"center\", rotation=0)\n",
    "plt.show()\n",
    "# P08 = P04\n",
    "# P10 = P05"
   ]
  },
  {
   "cell_type": "code",
   "execution_count": null,
   "id": "ad514792-32d3-4887-a2e1-95a13b2e5815",
   "metadata": {},
   "outputs": [],
   "source": [
    "# stacked plot of cell type proportions per timepoint\n",
    "plot = pt.pl.coda.stacked_barplot(\n",
    "    sccoda_data, modality_key=\"coda\", \n",
    "    feature_name=\"Condition\", \n",
    "    level_order=[\"T0/-ICI\", \"T1/+ICI\"],\n",
    "    #dpi=300\n",
    ")\n",
    "plot.set(title = \"Timepoint\")\n",
    "plot.set_xticks([0,1], [\"T0/-ICI\", \"T1/+ICI\"], rotation = 0, rotation_mode=\"anchor\", ha=\"center\")\n",
    "plt.savefig(os.path.join(fig_dir, \"Myeloid_Comp_immune_barplot_by_condition.png\"), dpi=600, format=\"png\", bbox_inches=\"tight\")\n",
    "plt.show()"
   ]
  },
  {
   "cell_type": "code",
   "execution_count": null,
   "id": "abb4d07c-43a0-44c1-ab51-f4f97a46f772",
   "metadata": {},
   "outputs": [],
   "source": [
    "# stacked plot of cell type proportions per timepoint\n",
    "plot = pt.pl.coda.stacked_barplot(\n",
    "    sccoda_data, modality_key=\"coda\", \n",
    "    feature_name=\"timepoint\", \n",
    "    level_order=[\"SCR\", \"C02\"], \n",
    "    #dpi=300\n",
    ")\n",
    "plot.set(title = \"Timepoint\")\n",
    "plot.set_xticks([0,1], [\"T0\", \"T1\"], rotation = 0, rotation_mode=\"anchor\", ha=\"center\")\n",
    "plt.savefig(os.path.join(fig_dir, \"Myeloid_Comp_immune_barplot_by_timepoint.png\"), dpi=600, format=\"png\", bbox_inches=\"tight\")\n",
    "\n",
    "plt.show()"
   ]
  },
  {
   "cell_type": "code",
   "execution_count": null,
   "id": "7e139020-d3f6-40e2-9a71-d70b04357b92",
   "metadata": {},
   "outputs": [],
   "source": [
    "# stacked plot of cell type proportions per ICI status\n",
    "plot = pt.pl.coda.stacked_barplot(\n",
    "    sccoda_data, \n",
    "    modality_key=\"coda\", \n",
    "    feature_name=\"ICI_status\",\n",
    "    #level_order=[\"`-ICI`\", \"`+ICI/PD`\", \"`+ICI/PD`\"], \n",
    "    #dpi=300\n",
    ")\n",
    "plot.set(title = \"ICI Status\")\n",
    "plot.set_xticks([0,1,2], [\"+ICI/PD\", \"+ICI/SD\", \"-ICI\"], rotation = 0, rotation_mode=\"anchor\", ha=\"center\")\n",
    "plt.savefig(os.path.join(fig_dir, \"Myeloid_Comp_immune_barplot_by_ICI_status.png\"), dpi=600, format=\"png\", bbox_inches=\"tight\")\n",
    "plt.show()"
   ]
  },
  {
   "cell_type": "code",
   "execution_count": null,
   "id": "9733400e-a42c-4ef6-965a-e6165a69c494",
   "metadata": {
    "scrolled": true
   },
   "outputs": [],
   "source": [
    "# stacked plot of cell type proportions per response\n",
    "plot = pt.pl.coda.stacked_barplot(\n",
    "    sccoda_data, \n",
    "    modality_key=\"coda\", \n",
    "    feature_name=\"response\",\n",
    "    #dpi=300,\n",
    ")\n",
    "plot.set_title(\"ICI Response\")\n",
    "plot.set_xticks([0,1], [\"PD\", \"SD\"], rotation = 0, rotation_mode=\"anchor\", ha=\"center\")\n",
    "plt.savefig(os.path.join(fig_dir, \"Myeloid_Comp_immune_barplot_by_ICI_response.png\"), dpi=600, format=\"png\", bbox_inches=\"tight\")\n",
    "plt.show()"
   ]
  },
  {
   "cell_type": "code",
   "execution_count": null,
   "id": "a3eadfd6-1dae-4fa1-8e55-bf3d88949050",
   "metadata": {},
   "outputs": [],
   "source": [
    "#https://pertpy.readthedocs.io/en/latest/tutorials/notebooks/sccoda.html\n",
    "#https://github.com/theislab/scCODA/issues/47"
   ]
  },
  {
   "cell_type": "markdown",
   "id": "2cecb080-d4b7-4104-8b37-4c00698021b0",
   "metadata": {},
   "source": [
    "# Timepoints Comparison in Non-response Patients "
   ]
  },
  {
   "cell_type": "code",
   "execution_count": null,
   "id": "6a05b1c1-d83f-4576-937a-c8a8231956ed",
   "metadata": {},
   "outputs": [],
   "source": [
    "# load libraries\n",
    "import warnings\n",
    "import matplotlib.pyplot as plt\n",
    "import mudata as mu\n",
    "import pertpy as pt\n",
    "import scanpy as sc\n",
    "import numpy as np\n",
    "import pandas as pd\n",
    "import seaborn as sns\n",
    "import os\n",
    "from statannot import add_stat_annotation"
   ]
  },
  {
   "cell_type": "code",
   "execution_count": null,
   "id": "f52a45ec-de16-4113-861f-ed67523c4e94",
   "metadata": {},
   "outputs": [],
   "source": [
    "# set up figure parameters\n",
    "plt.rcParams['figure.figsize'] = (4, 4)\n",
    "sc.settings.verbosity = 0\n",
    "sc.settings.set_figure_params(\n",
    "    dpi=300,\n",
    "    facecolor=\"white\",\n",
    "    frameon=False, \n",
    "    figsize=(4,4)\n",
    ")"
   ]
  },
  {
   "cell_type": "code",
   "execution_count": null,
   "id": "1e49dcaa-8588-4fb5-ab75-16dc52c99e68",
   "metadata": {},
   "outputs": [],
   "source": [
    "# remove warnings\n",
    "import warnings\n",
    "warnings.filterwarnings('ignore')"
   ]
  },
  {
   "cell_type": "code",
   "execution_count": null,
   "id": "d11fefd2-7aeb-42b6-8693-e8af422ef889",
   "metadata": {},
   "outputs": [],
   "source": [
    "# set up dirs\n",
    "work_dir = \"/scratch_isilon/groups/singlecell/gdeuner/SERPENTINE/\"\n",
    "fig_dir = os.path.join(work_dir, \"figures\", \"combined\", \"Myeloid\", \"compositional_analysis\", \"timepoint_PD_comp/\")\n",
    "sc.settings.figdir = os.path.join(work_dir, \"figures\", \"combined\", \"Myeloid\", \"compositional_analysis\", \"timepoint_PD_comp/\")"
   ]
  },
  {
   "cell_type": "code",
   "execution_count": null,
   "id": "76f5531e-5f89-4017-bb12-e8e4905a1e16",
   "metadata": {},
   "outputs": [],
   "source": [
    "# read anndata object\n",
    "adata = sc.read_h5ad(os.path.join(work_dir, \"data\", \"outputdata\", \"combined\", \"Combined_SCR_CO2_Myeloid_annotated_18-04-24.h5ad\"))"
   ]
  },
  {
   "cell_type": "code",
   "execution_count": null,
   "id": "d5d198d6-f061-41c5-b625-5619043631b0",
   "metadata": {},
   "outputs": [],
   "source": [
    "# subset non responder patients\n",
    "adata.obs.response"
   ]
  },
  {
   "cell_type": "code",
   "execution_count": null,
   "id": "aad1d432-4ca7-447b-a010-8c0d0fd6f4fc",
   "metadata": {},
   "outputs": [],
   "source": [
    "# create condition variable\n",
    "adata = adata[adata.obs[\"response\"] == \"PD\"].copy()\n",
    "adata"
   ]
  },
  {
   "cell_type": "code",
   "execution_count": null,
   "id": "f01344f1-96c7-4249-a483-98999a968fd4",
   "metadata": {},
   "outputs": [],
   "source": [
    "adata.obs.response.unique()"
   ]
  },
  {
   "cell_type": "markdown",
   "id": "66a7d0fd-f5d7-4ef1-9dd2-d269386d59ce",
   "metadata": {},
   "source": [
    "## Model Setup & Inference"
   ]
  },
  {
   "cell_type": "code",
   "execution_count": null,
   "id": "0805f112-1b3f-4f7d-af9d-205632273e12",
   "metadata": {},
   "outputs": [],
   "source": [
    "# initiate scCODA model\n",
    "sccoda_model = pt.tl.Sccoda()\n",
    "sccoda_data = sccoda_model.load(\n",
    "    adata,\n",
    "    type=\"cell_level\",\n",
    "    generate_sample_level=True,\n",
    "    cell_type_identifier=\"Annotation_2.0\",\n",
    "    sample_identifier=\"sample\",\n",
    "    covariate_obs=[\"subproject\", \"patient\", \"timepoint\", \"response\", \"ICI_status\", \"Condition\"],\n",
    "        \n",
    ")\n",
    "print(sccoda_data)\n",
    "print(sccoda_data[\"coda\"].X)\n",
    "print(sccoda_data[\"coda\"].obs)"
   ]
  },
  {
   "cell_type": "code",
   "execution_count": null,
   "id": "e909b5fd-c882-4ca4-90ad-f7438ed48edd",
   "metadata": {},
   "outputs": [],
   "source": [
    "pt.pl.coda.boxplots(sccoda_data, \n",
    "                    modality_key=\"coda\", \n",
    "                    feature_name=\"timepoint\", \n",
    "                    add_dots=True,\n",
    "                    figsize=[6,6],\n",
    "                    level_order=[\"SCR\", \"C02\"],\n",
    "                    cmap=[\"coral\",\"darkviolet\"]\n",
    "                   )\n",
    "plt.show()"
   ]
  },
  {
   "cell_type": "code",
   "execution_count": null,
   "id": "20134d32-6445-423d-9416-7dd139aa788a",
   "metadata": {},
   "outputs": [],
   "source": [
    "# prepare the model\n",
    "sccoda_data = sccoda_model.prepare(\n",
    "    sccoda_data,\n",
    "    modality_key=\"coda\",\n",
    "    formula=\"Condition\", #condition = timepoint\n",
    "    reference_cell_type=\"automatic\",\n",
    ")\n",
    "sccoda_data[\"coda\"]"
   ]
  },
  {
   "cell_type": "code",
   "execution_count": null,
   "id": "5b25ac98-78f0-4721-924b-1c5ac92dfe05",
   "metadata": {},
   "outputs": [],
   "source": [
    "# run MCMC\n",
    "sccoda_model.run_nuts(sccoda_data, modality_key=\"coda\")\n",
    "sccoda_data[\"coda\"]"
   ]
  },
  {
   "cell_type": "markdown",
   "id": "d146c601-3b1c-4be6-9082-8f7430e31520",
   "metadata": {},
   "source": [
    "## Result Intepretation"
   ]
  },
  {
   "cell_type": "code",
   "execution_count": null,
   "id": "20bb93da-6059-43cb-918e-c488531ebf85",
   "metadata": {},
   "outputs": [],
   "source": [
    "# see most relevant information\n",
    "sccoda_model.summary(sccoda_data, modality_key=\"coda\")"
   ]
  },
  {
   "cell_type": "code",
   "execution_count": null,
   "id": "98ece129-5c8a-467a-aced-e4c121d0d338",
   "metadata": {},
   "outputs": [],
   "source": [
    "sccoda_model.credible_effects(sccoda_data, modality_key=\"coda\")"
   ]
  },
  {
   "cell_type": "markdown",
   "id": "bed58565-0f55-421a-b1d5-e25da460f0fe",
   "metadata": {},
   "source": [
    "### Adjust FDR"
   ]
  },
  {
   "cell_type": "code",
   "execution_count": null,
   "id": "4238676e-9ea0-43d8-a88a-231f5f774706",
   "metadata": {},
   "outputs": [],
   "source": [
    "sccoda_model.set_fdr(sccoda_data, modality_key=\"coda\", est_fdr=0.2)\n",
    "sccoda_model.summary(sccoda_data, modality_key=\"coda\")"
   ]
  },
  {
   "cell_type": "markdown",
   "id": "158312c0-fc4a-48dd-9b91-8f2ea6ecec93",
   "metadata": {},
   "source": [
    "## Save Results"
   ]
  },
  {
   "cell_type": "code",
   "execution_count": null,
   "id": "87c7dfbf-2f0c-4d8d-9c8d-de0788d7de2a",
   "metadata": {},
   "outputs": [],
   "source": [
    "#sccoda_data.write_h5mu(os.path.join(work_dir, \"data\", \"outputdata\", \"combined\", \"Myeloid_Combined_SCR_CO2_immune_scCODA_timepoint_15-04-24.h5mu\"))"
   ]
  },
  {
   "cell_type": "code",
   "execution_count": null,
   "id": "90e09018-ff73-4ecb-805f-b0929011d585",
   "metadata": {},
   "outputs": [],
   "source": [
    "test_model = pt.tl.Sccoda()\n",
    "test_model.get_intercept_df(sccoda_data, modality_key=\"coda\")"
   ]
  },
  {
   "cell_type": "code",
   "execution_count": null,
   "id": "d8ee8a41-ba72-4816-8961-8b1d0f99aa0f",
   "metadata": {},
   "outputs": [],
   "source": [
    "test_model.get_intercept_df(sccoda_data, modality_key=\"coda\")"
   ]
  },
  {
   "cell_type": "code",
   "execution_count": null,
   "id": "48517e9d-2322-4fca-b4ed-035f1e27dd88",
   "metadata": {},
   "outputs": [],
   "source": [
    "effect = test_model.get_effect_df(sccoda_data, modality_key=\"coda\")\n",
    "effect"
   ]
  },
  {
   "cell_type": "code",
   "execution_count": null,
   "id": "c1103ab8-fe65-48e7-9fab-1bff33efc590",
   "metadata": {},
   "outputs": [],
   "source": [
    "sccoda_data[\"coda\"].varm[\"intercept_df\"]"
   ]
  },
  {
   "cell_type": "markdown",
   "id": "2fb8dcb3-be28-4df2-9466-deed5af39899",
   "metadata": {},
   "source": [
    "## Visualization"
   ]
  },
  {
   "cell_type": "code",
   "execution_count": null,
   "id": "26c41d31-8fbb-41b9-9b34-fc9743739275",
   "metadata": {},
   "outputs": [],
   "source": [
    "sccoda_data['coda'].var"
   ]
  },
  {
   "cell_type": "code",
   "execution_count": null,
   "id": "4e50c8b8-ccf7-461c-8b29-be03197866b4",
   "metadata": {},
   "outputs": [],
   "source": [
    "# some booxplot arguments to customize the plot\n",
    "boxprops = dict(linestyle='-', linewidth=1, edgecolor='black')\n",
    "flierprops = dict(marker='o', markerfacecolor='none', #markersize=12,\n",
    "                  markeredgecolor='black')\n",
    "medianprops = dict(linestyle='-', linewidth=.8, color='black')\n",
    "#meanpointprops = dict(marker='D', markeredgecolor='black',markerfacecolor='black')\n",
    "meanlineprops = dict(linestyle='--', linewidth=.8, color='black')\n"
   ]
  },
  {
   "cell_type": "code",
   "execution_count": null,
   "id": "43a968c4-fdb1-4c43-92e5-8ad1c26998a8",
   "metadata": {},
   "outputs": [],
   "source": [
    "# define cell types for plotting\n",
    "cell_types = sccoda_data['coda'].var_names.tolist()\n",
    "print(cell_types)"
   ]
  },
  {
   "cell_type": "code",
   "execution_count": null,
   "id": "b29b1e22-8365-4f4c-852a-87ba9c4de49a",
   "metadata": {},
   "outputs": [],
   "source": [
    "# create df for plotting\n",
    "feature_name=[\"Condition\", \"response\", \"patient\"]\n",
    "data=sccoda_data['coda']\n",
    "\n",
    "sample_sums = np.sum(data.X, axis=1, keepdims=True)\n",
    "X = data.X/sample_sums\n",
    "value_name = \"Proportion\"\n",
    "\n",
    "count_df = pd.DataFrame(X, columns=data.var.index, index=data.obs.index).\\\n",
    "        merge(data.obs[feature_name], left_index=True, right_index=True)\n",
    "plot_df = pd.melt(count_df, id_vars=feature_name, var_name=\"Cell type\", value_name=value_name)\n",
    "if cell_types is not None:\n",
    "    plot_df = plot_df[plot_df[\"Cell type\"].isin(cell_types)]"
   ]
  },
  {
   "cell_type": "code",
   "execution_count": null,
   "id": "d543e019-8461-464a-b3f2-90a36f14aed2",
   "metadata": {},
   "outputs": [],
   "source": [
    "plot_df"
   ]
  },
  {
   "cell_type": "code",
   "execution_count": null,
   "id": "ff782bb5-cb2c-4d5f-bd4c-ae9258a5a865",
   "metadata": {},
   "outputs": [],
   "source": [
    "# visualize effects (significant changes in cell type composition)\n",
    "plot=pt.pl.coda.effects_barplot(sccoda_data, \n",
    "                           modality_key=\"coda\", \n",
    "                           #parameter=\"timepoint\",\n",
    "                           #figsize=[3,3],\n",
    "                           dpi=300)\n",
    "plt.xticks(fontsize=8) \n",
    "plt.yticks(fontsize=10)  \n",
    "plt.savefig(os.path.join(work_dir, \"figures\", \"TFM\", \"Fig5\", \"Myeloid_Comp_Significant_Log2FC_timepoint_PD.pdf\"), dpi=300, format=\"pdf\", bbox_inches=\"tight\")"
   ]
  },
  {
   "cell_type": "code",
   "execution_count": null,
   "id": "5834beb1-73b7-4076-ad09-8113a6e42b49",
   "metadata": {},
   "outputs": [],
   "source": [
    "import matplotlib.cm as cm\n",
    "color_map = cm.get_cmap('Spectral')\n",
    "color_palette = [color_map(i/4) for i in range(4, -1, -1)]\n",
    "print(len(color_palette))"
   ]
  },
  {
   "cell_type": "code",
   "execution_count": null,
   "id": "102327f1-8525-45b7-9bbe-35bf0925eb03",
   "metadata": {},
   "outputs": [],
   "source": [
    "color_palette = sns.color_palette(\"Spectral\", 5)\n",
    "print(color_palette)\n",
    "color_palette.pop(3)\n",
    "sns.color_palette(\"Spectral\", 5)"
   ]
  },
  {
   "cell_type": "code",
   "execution_count": null,
   "id": "8f1c28fa-6265-489f-b0e7-f4e8b664b83b",
   "metadata": {},
   "outputs": [],
   "source": [
    "# overview of cell type distribution across patients\n",
    "for cell_type in cell_types:\n",
    "\n",
    "    if cell_type in [\"Angio TAM-like\", \"CD16 Mono\"]:\n",
    "        significance = \"*\"\n",
    "    else: \n",
    "        significance = \"ns\"\n",
    "    \n",
    "    fig, ax = plt.subplots(figsize=(2,2), dpi=120)\n",
    "\n",
    "    sns.boxplot(\n",
    "        x=\"patient\", \n",
    "        y=\"Proportion\", \n",
    "        data=plot_df[plot_df[\"Cell type\"] == cell_type],\n",
    "        hue=\"patient\", \n",
    "        #liersize=1,\n",
    "        palette=color_palette, \n",
    "        #order=[\"T0/-ICI\",\"T1/+ICI\"],\n",
    "        ax=ax,\n",
    "        vert=True, \n",
    "        patch_artist=True, \n",
    "        meanline=True, \n",
    "        showmeans=True,\n",
    "        showfliers=False,\n",
    "        boxprops=boxprops,\n",
    "        #flierprops=flierprops,\n",
    "        medianprops=medianprops,\n",
    "        meanprops=meanlineprops\n",
    "    )\n",
    "        \n",
    "    \n",
    "    sns.swarmplot(\n",
    "        x=\"patient\", \n",
    "        y=\"Proportion\", \n",
    "        data=plot_df[plot_df[\"Cell type\"] == cell_type], \n",
    "        hue=\"Condition\",  # Color by \"patient\" variable\n",
    "        palette=[\"coral\", \"darkviolet\"],  # Choose a color palette\n",
    "        dodge=False,  # Separate dots for each level of \"patient\n",
    "        #jitter=False\n",
    "        ax=ax,\n",
    "        size=4,\n",
    "        edgecolor=\"black\",\n",
    "        linewidth=.5,\n",
    "        alpha=1\n",
    "    )\n",
    "\n",
    "    #ax.set_xticks([])\n",
    "    ax.set_title(cell_type+\" - \"+significance)\n",
    "    ax.set_xlabel('Patient')\n",
    "    plt.yticks(fontsize = 10) \n",
    "    plt.xticks(fontsize = 10) \n",
    "    \n",
    "    legend = plt.legend(loc='right', bbox_to_anchor=(1.8, .5), ncol=1, title=\"Condition\", frameon=True)\n",
    "    plt.setp(legend.get_title(),fontsize='12')\n",
    "    plt.tight_layout()\n",
    "      \n",
    "    \n",
    "    plt.savefig(os.path.join(fig_dir, \"Myeloid_Comp_\"+cell_type+\"_boxplot_by_patient.png\"), dpi=300, format=\"png\", bbox_inches=\"tight\")"
   ]
  },
  {
   "cell_type": "code",
   "execution_count": null,
   "id": "58561e99-c55e-4725-89ad-3cd972bfdc74",
   "metadata": {},
   "outputs": [],
   "source": [
    "plot = pt.pl.coda.boxplots(\n",
    "        sccoda_data,\n",
    "        modality_key=\"coda\",\n",
    "        feature_name=\"patient\",\n",
    "        figsize=(8,4),\n",
    "        add_dots=False,\n",
    "        plot_facets=False, \n",
    "        args_boxplot={\"vert\":True, \n",
    "                    \"patch_artist\":True, \n",
    "                    \"meanline\":True, \n",
    "                    \"showmeans\":True,\n",
    "                    \"boxprops\":boxprops,\n",
    "                    \"flierprops\":flierprops,\n",
    "                    \"medianprops\":medianprops,\n",
    "                    \"meanprops\":meanlineprops,\n",
    "                    },\n",
    "        cmap=\"Spectral\"\n",
    "        )\n",
    "plt.xticks(fontsize=10)\n",
    "plt.savefig(os.path.join(fig_dir, \"Comp_all_boxplot_by_patient.png\"), dpi=300, format=\"png\", bbox_inches=\"tight\")"
   ]
  },
  {
   "cell_type": "code",
   "execution_count": null,
   "id": "5b8ccff3-ff37-4709-ba9f-ae52f64c9536",
   "metadata": {},
   "outputs": [],
   "source": [
    "effect[\"Final Parameter\"]"
   ]
  },
  {
   "cell_type": "code",
   "execution_count": null,
   "id": "2d4392de-8aeb-4ddd-96bc-4c17beccd4d1",
   "metadata": {},
   "outputs": [],
   "source": [
    "## import function to compute stats\n",
    "#from statannot import add_stat_annotation\n",
    "#from .utils_statannot import raise_expected_got, assert_is_in"
   ]
  },
  {
   "cell_type": "code",
   "execution_count": null,
   "id": "6a6c9d7b-1e5c-43b6-9f07-ab4a346763c9",
   "metadata": {},
   "outputs": [],
   "source": [
    "# overview of cell type distribution across timepoints\n",
    "\n",
    "plt.rcParams.update({'font.size': 13})\n",
    "\n",
    "for cell_type in cell_types:\n",
    "\n",
    "    if cell_type in [\"Angio TAM-like\", \"CD16 Mono\"]:\n",
    "\n",
    "        fig, ax = plt.subplots(figsize=(2,2), dpi=120)\n",
    "\n",
    "        \n",
    "        sns.boxplot(\n",
    "            x=\"Condition\", \n",
    "            y=\"Proportion\", \n",
    "            data=plot_df[plot_df[\"Cell type\"] == cell_type],\n",
    "            hue=\"Condition\", \n",
    "            #liersize=1,\n",
    "            palette=[\"coral\",\"darkviolet\"], \n",
    "            order=[\"T0/-ICI\",\"T1/+ICI\"],\n",
    "            ax=ax,\n",
    "            vert=True, \n",
    "            patch_artist=True, \n",
    "            meanline=True, \n",
    "            showmeans=True,\n",
    "            showfliers=False,\n",
    "            boxprops=boxprops,\n",
    "            #flierprops=flierprops,\n",
    "            medianprops=medianprops,\n",
    "            meanprops=meanlineprops\n",
    "        )\n",
    "            \n",
    "        \n",
    "        sns.swarmplot(\n",
    "            x=\"Condition\", \n",
    "            y=\"Proportion\", \n",
    "            data=plot_df[plot_df[\"Cell type\"] == cell_type], \n",
    "            hue=\"patient\",  # Color by \"patient\" variable\n",
    "            palette=color_palette,  # Choose a color palette\n",
    "            dodge=False,  # Separate dots for each level of \"patient\n",
    "            #jitter=False\n",
    "            ax=ax,\n",
    "            size=5,\n",
    "            edgecolor=\"black\",\n",
    "            linewidth=.5,\n",
    "            alpha=1\n",
    "        )\n",
    "    \n",
    "        plt.title(cell_type, fontweight=\"bold\", pad=20)\n",
    "        plt.xlabel('Patient', labelpad=10)\n",
    "        plt.ylabel('Proportion', labelpad=10)\n",
    "        plt.yticks(fontsize = 10) \n",
    "        plt.xticks(fontsize = 10) \n",
    "        #plt.set_xticks([0,1,2,3,4], [\"PD_01\", \"PD_02\", \"PD_03\", \"SD_01\", \"PD_04\"], ha=\"center\", rotation=30)\n",
    "\n",
    "        \n",
    "        legend = plt.legend(loc='right', bbox_to_anchor=(2, .5), ncol=1, title=\"Patient\", frameon=True)\n",
    "        plt.setp(legend.get_title(),fontsize='12')\n",
    "        plt.tight_layout()\n",
    "\n",
    "        \n",
    "        plt.savefig(os.path.join(\"/scratch_isilon/groups/singlecell/gdeuner/SERPENTINE/figures/ISCO24_poster/Fig5\", \"Myeloid_Comp_\"+cell_type+\"_boxplot_by_condition.png\"), dpi=600, format=\"png\", bbox_inches=\"tight\")\n",
    "\n",
    "\n",
    "      "
   ]
  },
  {
   "cell_type": "code",
   "execution_count": null,
   "id": "5cf87ef4-687d-4777-a181-7df8fb3c400b",
   "metadata": {},
   "outputs": [],
   "source": [
    "# overview of cell type distribution across timepoints\n",
    "\n",
    "plt.rcParams.update({'font.size': 13})\n",
    "\n",
    "for cell_type in cell_types:\n",
    "\n",
    "    if cell_type in [\"Angio TAM-like\", \"CD16 Mono\"]:\n",
    "        significance = \"*\"\n",
    "    else: \n",
    "        significance = \"ns\"\n",
    "    \n",
    "    fig, ax = plt.subplots(figsize=(2,2), dpi=120)\n",
    "    \n",
    "    sns.boxplot(\n",
    "        x=\"Condition\", \n",
    "        y=\"Proportion\", \n",
    "        data=plot_df[plot_df[\"Cell type\"] == cell_type],\n",
    "        hue=\"Condition\", \n",
    "        #liersize=1,\n",
    "        palette=[\"coral\",\"darkviolet\"], \n",
    "        order=[\"T0/-ICI\",\"T1/+ICI\"],\n",
    "        ax=ax,\n",
    "        vert=True, \n",
    "        patch_artist=True, \n",
    "        meanline=True, \n",
    "        showmeans=True,\n",
    "        showfliers=False,\n",
    "        boxprops=boxprops,\n",
    "        #flierprops=flierprops,\n",
    "        medianprops=medianprops,\n",
    "        meanprops=meanlineprops\n",
    "    )\n",
    "        \n",
    "    \n",
    "    sns.swarmplot(\n",
    "        x=\"Condition\", \n",
    "        y=\"Proportion\", \n",
    "        data=plot_df[plot_df[\"Cell type\"] == cell_type], \n",
    "        hue=\"patient\",  # Color by \"patient\" variable\n",
    "        palette=color_palette,  # Choose a color palette\n",
    "        dodge=False,  # Separate dots for each level of \"patient\n",
    "        #jitter=False\n",
    "        ax=ax,\n",
    "        size=5,\n",
    "        edgecolor=\"black\",\n",
    "        linewidth=.5,\n",
    "        alpha=1\n",
    "    )\n",
    "\n",
    "    #ax.set_xticks([])\n",
    "    ax.set_title(cell_type+\" - \"+significance)\n",
    "    ax.set_xlabel('ICI Response')\n",
    "    plt.yticks(fontsize = 10) \n",
    "    plt.xticks(fontsize = 10) \n",
    "    \n",
    "    legend = plt.legend(loc='right', bbox_to_anchor=(1.8, .5), ncol=1, title=\"Patient\", frameon=True)\n",
    "    plt.setp(legend.get_title(),fontsize='12')\n",
    "    plt.tight_layout()\n",
    "    plt.savefig(os.path.join(fig_dir, \"Myeloid_Comp_\"+cell_type+\"_boxplot_by_condition.png\"), dpi=600, format=\"png\", bbox_inches=\"tight\")\n"
   ]
  },
  {
   "cell_type": "code",
   "execution_count": null,
   "id": "8ad58555-ef77-4ea6-a9d2-7843cf4a6720",
   "metadata": {},
   "outputs": [],
   "source": [
    "print(sccoda_data['coda'].X.shape)\n",
    "print(sccoda_data['coda'].obs.shape)"
   ]
  },
  {
   "cell_type": "code",
   "execution_count": null,
   "id": "c99cef24-a0c5-4457-a883-4b6788c1e9fa",
   "metadata": {},
   "outputs": [],
   "source": [
    "plot.artists"
   ]
  },
  {
   "cell_type": "code",
   "execution_count": null,
   "id": "0f2c7422-2325-4f95-9213-bb732d8e441b",
   "metadata": {},
   "outputs": [],
   "source": [
    "patients = [\"01\", \"02\", \"03\", \"08\", \"10\"]\n",
    "patient_colors = sns.color_palette(\"Spectral\", n_colors=len(patients))\n",
    "patient_color_dict = dict(zip(patients, patient_colors))"
   ]
  },
  {
   "cell_type": "code",
   "execution_count": null,
   "id": "1785f8ce-ebf0-43fb-8227-a41b3ad28506",
   "metadata": {},
   "outputs": [],
   "source": [
    "# stacked plot of cell type proportions per patient\n",
    "plot = pt.pl.coda.stacked_barplot(\n",
    "    sccoda_data, \n",
    "    modality_key=\"coda\", \n",
    "    feature_name=\"patient\",\n",
    "    #dpi=300\n",
    ")\n",
    "plot.set(title = \"Patient\")\n",
    "plot.set_xticks([0,1,2,3], [\"P01\", \"P02\", \"P03\", \"P10\"], ha=\"center\", rotation=0)\n",
    "plt.savefig(os.path.join(fig_dir, \"Myeloid_Comp_immune_barplot_by_patient.png\"), dpi=600, format=\"png\", bbox_inches=\"tight\")\n",
    "plt.show()"
   ]
  },
  {
   "cell_type": "code",
   "execution_count": null,
   "id": "e91034b7-ecb6-4d4a-8b19-2ff69a22b781",
   "metadata": {},
   "outputs": [],
   "source": [
    "# stacked plot of cell type proportions per patient\n",
    "plot = pt.pl.coda.stacked_barplot(\n",
    "    sccoda_data, \n",
    "    modality_key=\"coda\", \n",
    "    feature_name=\"patient\",\n",
    "    #dpi=300\n",
    ")\n",
    "plot.set(title = \"Patient\")\n",
    "plot.set_xticks([0,1,2,3], [\"P01\", \"P02\", \"P03\", \"P05\"], ha=\"center\", rotation=0)\n",
    "plt.show()\n",
    "# P08 = P04\n",
    "# P10 = P05"
   ]
  },
  {
   "cell_type": "code",
   "execution_count": null,
   "id": "c838d154-94cb-4d77-903c-8e57757fa0cd",
   "metadata": {},
   "outputs": [],
   "source": [
    "# stacked plot of cell type proportions per timepoint\n",
    "plot = pt.pl.coda.stacked_barplot(\n",
    "    sccoda_data, modality_key=\"coda\", \n",
    "    feature_name=\"Condition\", \n",
    "    level_order=[\"T0/-ICI\", \"T1/+ICI\"],\n",
    "    #dpi=300\n",
    ")\n",
    "plot.set(title = \"Timepoint\")\n",
    "plot.set_xticks([0,1], [\"T0/-ICI\", \"T1/+ICI\"], rotation = 0, rotation_mode=\"anchor\", ha=\"center\")\n",
    "plt.savefig(os.path.join(fig_dir, \"Myeloid_Comp_immune_barplot_by_condition.png\"), dpi=600, format=\"png\", bbox_inches=\"tight\")\n",
    "plt.show()"
   ]
  },
  {
   "cell_type": "code",
   "execution_count": null,
   "id": "2924d4e7-bf8b-4607-b6a2-616074adf189",
   "metadata": {},
   "outputs": [],
   "source": [
    "# stacked plot of cell type proportions per timepoint\n",
    "plot = pt.pl.coda.stacked_barplot(\n",
    "    sccoda_data, modality_key=\"coda\", \n",
    "    feature_name=\"timepoint\", \n",
    "    level_order=[\"SCR\", \"C02\"], \n",
    "    #dpi=300\n",
    ")\n",
    "plot.set(title = \"Timepoint\")\n",
    "plot.set_xticks([0,1], [\"T0\", \"T1\"], rotation = 0, rotation_mode=\"anchor\", ha=\"center\")\n",
    "plt.savefig(os.path.join(fig_dir, \"Myeloid_Comp_immune_barplot_by_timepoint.png\"), dpi=600, format=\"png\", bbox_inches=\"tight\")\n",
    "\n",
    "plt.show()"
   ]
  },
  {
   "cell_type": "markdown",
   "id": "7c7973c2-c508-4e4f-bef3-7f36a8c34cbc",
   "metadata": {
    "execution": {
     "iopub.execute_input": "2024-03-22T15:40:12.013621Z",
     "iopub.status.busy": "2024-03-22T15:40:12.012831Z",
     "iopub.status.idle": "2024-03-22T15:40:12.016811Z",
     "shell.execute_reply": "2024-03-22T15:40:12.016381Z",
     "shell.execute_reply.started": "2024-03-22T15:40:12.013564Z"
    }
   },
   "source": [
    "# Myeloid Subset scCODA Compositional Analysis - Timepoints+response Comparison"
   ]
  },
  {
   "cell_type": "markdown",
   "id": "ccb0f331-15ed-49e9-b69a-62a4b14de56b",
   "metadata": {},
   "source": [
    "### Environment Set Up"
   ]
  },
  {
   "cell_type": "code",
   "execution_count": null,
   "id": "acdd3ceb-611a-4924-9f4f-a99c87c4f9a4",
   "metadata": {},
   "outputs": [],
   "source": [
    "# load libraries\n",
    "import warnings\n",
    "import matplotlib.pyplot as plt\n",
    "import mudata as mu\n",
    "import pertpy as pt\n",
    "import scanpy as sc\n",
    "import numpy as np\n",
    "import pandas as pd\n",
    "import seaborn \n",
    "import os\n",
    "from statannot import add_stat_annotation"
   ]
  },
  {
   "cell_type": "code",
   "execution_count": null,
   "id": "891992fb-c25c-4715-89f5-40e2ecec8229",
   "metadata": {},
   "outputs": [],
   "source": [
    "# set up figure parameters\n",
    "plt.rcParams['figure.figsize'] = (6, 4)\n",
    "sc.settings.verbosity = 0\n",
    "sc.settings.set_figure_params(dpi=300, dpi_save=300, facecolor=\"white\", frameon=False, figsize=(4,4))"
   ]
  },
  {
   "cell_type": "code",
   "execution_count": null,
   "id": "f400359a-1734-4f77-bc78-339cbc911009",
   "metadata": {},
   "outputs": [],
   "source": [
    "# remove warnings\n",
    "import warnings\n",
    "warnings.filterwarnings('ignore')"
   ]
  },
  {
   "cell_type": "code",
   "execution_count": null,
   "id": "ef8d8088-ff85-49f2-8901-5628621c9042",
   "metadata": {},
   "outputs": [],
   "source": [
    "# set up dirs\n",
    "work_dir = \"/scratch_isilon/groups/singlecell/gdeuner/SERPENTINE/\"\n",
    "fig_dir = os.path.join(work_dir, \"figures\", \"combined\", \"Myeloid\", \"compositional_analysis\", \"timepoint+response_comp/\")\n",
    "sc.settings.figdir = os.path.join(work_dir, \"figures\", \"combined\", \"Myeloid\", \"compositional_analysis\", \"timepoint+response_comp/\")"
   ]
  },
  {
   "cell_type": "code",
   "execution_count": null,
   "id": "b37066ec-ff69-43cd-8db1-24b5be9b7494",
   "metadata": {},
   "outputs": [],
   "source": [
    "# read anndata object\n",
    "adata = sc.read_h5ad(os.path.join(work_dir, \"data\", \"outputdata\", \"combined\", \"Combined_SCR_CO2_Myeloid_annotated_18-04-24.h5ad\"))"
   ]
  },
  {
   "cell_type": "code",
   "execution_count": null,
   "id": "45de26f9-9284-401d-b41b-f011aa0d7489",
   "metadata": {},
   "outputs": [],
   "source": [
    "# create condition variable\n",
    "adata"
   ]
  },
  {
   "cell_type": "markdown",
   "id": "e8baab0f-59ae-425e-a332-85583b22f437",
   "metadata": {},
   "source": [
    "## Model Setup & Inference"
   ]
  },
  {
   "cell_type": "code",
   "execution_count": null,
   "id": "c66dbe0b-d691-46e2-90a2-06e8299903cd",
   "metadata": {},
   "outputs": [],
   "source": [
    "# initiate scCODA model\n",
    "sccoda_model = pt.tl.Sccoda()\n",
    "sccoda_data = sccoda_model.load(\n",
    "    adata,\n",
    "    type=\"cell_level\",\n",
    "    generate_sample_level=True,\n",
    "    cell_type_identifier=\"Annotation_2.0\",\n",
    "    sample_identifier=\"sample\",\n",
    "    covariate_obs=[\"subproject\", \"patient\", \"timepoint\", \"response\", \"ICI_status\", \"Condition\"],\n",
    "        \n",
    ")\n",
    "print(sccoda_data)\n",
    "print(sccoda_data[\"coda\"].X)\n",
    "print(sccoda_data[\"coda\"].obs)"
   ]
  },
  {
   "cell_type": "code",
   "execution_count": null,
   "id": "145bf8bc-a4c1-44c8-99b9-1d6e5b1addf3",
   "metadata": {},
   "outputs": [],
   "source": [
    "pt.pl.coda.boxplots(sccoda_data, \n",
    "                    modality_key=\"coda\", \n",
    "                    feature_name=\"response\", \n",
    "                    add_dots=True,\n",
    "                    figsize=[6,6],\n",
    "                    level_order=[\"PD\", \"SD\"],\n",
    "                    cmap=[\"red\",\"blue\"]\n",
    "                   )\n",
    "plt.show()"
   ]
  },
  {
   "cell_type": "code",
   "execution_count": null,
   "id": "c224bda2-1a19-44fc-a768-ec50051f3dce",
   "metadata": {},
   "outputs": [],
   "source": [
    "# prepare the model\n",
    "sccoda_data = sccoda_model.prepare(\n",
    "    sccoda_data,\n",
    "    modality_key=\"coda\",\n",
    "    formula=\"response+Condition\", #condition = timepoint\n",
    "    reference_cell_type=\"automatic\",\n",
    ")\n",
    "sccoda_data[\"coda\"]"
   ]
  },
  {
   "cell_type": "code",
   "execution_count": null,
   "id": "be682865-85c6-4a66-8c8f-2e92aa742945",
   "metadata": {},
   "outputs": [],
   "source": [
    "# run MCMC\n",
    "sccoda_model.run_nuts(sccoda_data, modality_key=\"coda\")\n",
    "sccoda_data[\"coda\"]"
   ]
  },
  {
   "cell_type": "markdown",
   "id": "2db0eeef-33cf-43cd-8e41-896446766b4d",
   "metadata": {},
   "source": [
    "## Result Intepretation"
   ]
  },
  {
   "cell_type": "code",
   "execution_count": null,
   "id": "c80a81ec-dfe8-4139-ac25-75a8fb7d707b",
   "metadata": {},
   "outputs": [],
   "source": [
    "# see most relevant information\n",
    "sccoda_model.summary(sccoda_data, modality_key=\"coda\")"
   ]
  },
  {
   "cell_type": "code",
   "execution_count": null,
   "id": "583f64a4-e968-4795-ad9f-12a9c6e80836",
   "metadata": {},
   "outputs": [],
   "source": [
    "sccoda_model.credible_effects(sccoda_data, modality_key=\"coda\")"
   ]
  },
  {
   "cell_type": "markdown",
   "id": "ba24eeee-0816-4eab-a725-9ad64c131959",
   "metadata": {},
   "source": [
    "### Adjust FDR"
   ]
  },
  {
   "cell_type": "code",
   "execution_count": null,
   "id": "9bf83fbc-7bf7-4a5a-86d9-8ee2929a8ff5",
   "metadata": {
    "scrolled": true
   },
   "outputs": [],
   "source": [
    "FDRs = [0.05, 0.1, 0.2, 0.3, 0.4, 0.5]\n",
    "\n",
    "for FDR in FDRs:\n",
    "    print(\"FDR: \", str(FDR))\n",
    "    sccoda_model.set_fdr(sccoda_data, modality_key=\"coda\", est_fdr=FDR)\n",
    "    sccoda_model.summary(sccoda_data, modality_key=\"coda\")"
   ]
  },
  {
   "cell_type": "code",
   "execution_count": null,
   "id": "6c572291-eb10-4478-9f2a-894712e04e5f",
   "metadata": {},
   "outputs": [],
   "source": [
    "# choose FDR\n",
    "sccoda_model.set_fdr(sccoda_data, modality_key=\"coda\", est_fdr=0.1)\n",
    "sccoda_model.summary(sccoda_data, modality_key=\"coda\")"
   ]
  },
  {
   "cell_type": "markdown",
   "id": "ab6c6049-84b4-44e7-8b77-6e02eb658f46",
   "metadata": {},
   "source": [
    "## Save Results"
   ]
  },
  {
   "cell_type": "code",
   "execution_count": null,
   "id": "30f885c3-03e7-41d9-bf1e-6976400f7b9b",
   "metadata": {},
   "outputs": [],
   "source": [
    "#sccoda_data.write_h5mu(os.path.join(work_dir, \"data\", \"outputdata\", \"combined\", \"Myeloid_Combined_SCR_CO2_immune_scCODA_timepoint+response_03-05-24.h5mu\"))"
   ]
  },
  {
   "cell_type": "code",
   "execution_count": null,
   "id": "6c87026b-917f-41f9-9aa6-415c4661626b",
   "metadata": {},
   "outputs": [],
   "source": [
    "test_model = pt.tl.Sccoda()\n",
    "test_model.get_intercept_df(sccoda_data, modality_key=\"coda\")"
   ]
  },
  {
   "cell_type": "code",
   "execution_count": null,
   "id": "3155a364-1136-4908-b29e-b8d76cf049a3",
   "metadata": {},
   "outputs": [],
   "source": [
    "test_model.get_intercept_df(sccoda_data, modality_key=\"coda\")"
   ]
  },
  {
   "cell_type": "code",
   "execution_count": null,
   "id": "b5fee9b8-d240-4c76-a2ec-cb2c91870b59",
   "metadata": {},
   "outputs": [],
   "source": [
    "effect = test_model.get_effect_df(sccoda_data, modality_key=\"coda\")\n",
    "effect"
   ]
  },
  {
   "cell_type": "code",
   "execution_count": null,
   "id": "c68340b0-f777-4f88-a620-8d37a910f146",
   "metadata": {},
   "outputs": [],
   "source": [
    "sccoda_data[\"coda\"].varm[\"intercept_df\"]"
   ]
  },
  {
   "cell_type": "markdown",
   "id": "7f7db983-b200-47fb-8891-e27131060bd8",
   "metadata": {},
   "source": [
    "## Visualization"
   ]
  },
  {
   "cell_type": "code",
   "execution_count": null,
   "id": "0eda9c73-8632-43f8-b5df-cff02d4d435f",
   "metadata": {},
   "outputs": [],
   "source": [
    "pt.pl.coda.effects_barplot(sccoda_data, \"coda\", \"response\")"
   ]
  },
  {
   "cell_type": "code",
   "execution_count": null,
   "id": "24951fe8-96b1-4ad6-94e3-1a8b4a6b0369",
   "metadata": {},
   "outputs": [],
   "source": [
    "# visualize effects (significant changes in cell type composition)\n",
    "#plot=pt.pl.coda.effects_barplot(sccoda_data, \n",
    "#                           modality_key=\"coda\", \n",
    "#                           parameter=\"Final Parameter\",\n",
    "#                           figsize=[3,3])\n",
    "#plt.savefig(os.path.join(fig_dir, \"Myeloid_Comp_Significant_Celltypes_Effects.png\"), dpi=600, format=\"png\", bbox_inches=\"tight\")"
   ]
  },
  {
   "cell_type": "code",
   "execution_count": null,
   "id": "66ec761a-809c-48db-b961-6dca3f0fc026",
   "metadata": {},
   "outputs": [],
   "source": [
    "# define cell types that have an effect\n",
    "#effect_cell_types = [\"CD4 T Central Memory\", \"CD4 T Helper/Exhausted\", \"CD8 T TRM PreExhausted\"]"
   ]
  },
  {
   "cell_type": "code",
   "execution_count": null,
   "id": "56bdb9db-5074-4dd2-8185-e3dea7998912",
   "metadata": {},
   "outputs": [],
   "source": [
    "sccoda_data['coda'].var"
   ]
  },
  {
   "cell_type": "code",
   "execution_count": null,
   "id": "b2146c8f-5c81-498b-b8f4-479d2a36ad52",
   "metadata": {},
   "outputs": [],
   "source": [
    "# some booxplot arguments to customize the plot\n",
    "boxprops = dict(linestyle='-', linewidth=1, edgecolor='black')\n",
    "flierprops = dict(marker='o', markerfacecolor='none', #markersize=12,\n",
    "                  markeredgecolor='black')\n",
    "medianprops = dict(linestyle='-', linewidth=.8, color='black')\n",
    "#meanpointprops = dict(marker='D', markeredgecolor='black',markerfacecolor='black')\n",
    "meanlineprops = dict(linestyle='--', linewidth=.8, color='black')\n"
   ]
  },
  {
   "cell_type": "code",
   "execution_count": null,
   "id": "80445e35-ea5c-47df-b8b9-f00804a374ad",
   "metadata": {},
   "outputs": [],
   "source": [
    "# define cell types for plotting\n",
    "cell_types = sccoda_data['coda'].var_names.tolist()\n",
    "print(cell_types)"
   ]
  },
  {
   "cell_type": "code",
   "execution_count": null,
   "id": "6aaf7fb2-f9b6-43b8-a290-df9983563603",
   "metadata": {},
   "outputs": [],
   "source": [
    "'''\n",
    "plot = pt.pl.coda.boxplots(\n",
    "        sccoda_data,\n",
    "        modality_key=\"coda\",\n",
    "        feature_name=\"patient\",\n",
    "        figsize=(8,4),\n",
    "        add_dots=False,\n",
    "        plot_facets=False, \n",
    "        args_boxplot={\"vert\":True, \n",
    "                    \"patch_artist\":True, \n",
    "                    \"meanline\":True, \n",
    "                    \"showmeans\":True,\n",
    "                    \"boxprops\":boxprops,\n",
    "                    \"flierprops\":flierprops,\n",
    "                    \"medianprops\":medianprops,\n",
    "                    \"meanprops\":meanlineprops,\n",
    "                    },\n",
    "        cmap=\"Spectral\"\n",
    "        )\n",
    "plt.xticks(fontsize=10)\n",
    "plt.savefig(os.path.join(fig_dir, \"Comp_all_boxplot_by_patient.png\"), dpi=300, format=\"png\", bbox_inches=\"tight\")\n",
    "'''"
   ]
  },
  {
   "cell_type": "code",
   "execution_count": null,
   "id": "3d76e828-4228-4177-b04b-681319bf055d",
   "metadata": {},
   "outputs": [],
   "source": [
    "effect[\"Final Parameter\"]"
   ]
  },
  {
   "cell_type": "code",
   "execution_count": null,
   "id": "8783ac77-26f7-4246-aea8-a7c1195627b3",
   "metadata": {},
   "outputs": [],
   "source": [
    "## import function to compute stats\n",
    "#from statannot import add_stat_annotation\n",
    "#from .utils_statannot import raise_expected_got, assert_is_in"
   ]
  },
  {
   "cell_type": "code",
   "execution_count": null,
   "id": "b541b7a4-b258-4676-9503-aaa85405b1bb",
   "metadata": {},
   "outputs": [],
   "source": [
    "feature_name=[\"Condition\", \"response\", \"patient\"]\n",
    "data=sccoda_data['coda']\n",
    "\n",
    "sample_sums = np.sum(data.X, axis=1, keepdims=True)\n",
    "X = data.X/sample_sums\n",
    "value_name = \"Proportion\"\n",
    "\n",
    "count_df = pd.DataFrame(X, columns=data.var.index, index=data.obs.index).\\\n",
    "        merge(data.obs[feature_name], left_index=True, right_index=True)\n",
    "plot_df = pd.melt(count_df, id_vars=feature_name, var_name=\"Cell type\", value_name=value_name)\n",
    "if cell_types is not None:\n",
    "    plot_df = plot_df[plot_df[\"Cell type\"].isin(cell_types)]"
   ]
  },
  {
   "cell_type": "code",
   "execution_count": null,
   "id": "b7943d05-a5f4-499d-8a76-86b3e56ec515",
   "metadata": {},
   "outputs": [],
   "source": [
    "plot_df"
   ]
  },
  {
   "cell_type": "code",
   "execution_count": null,
   "id": "afb37098-9b61-49ff-a52d-2caddb78fabb",
   "metadata": {},
   "outputs": [],
   "source": [
    "effect[\"Final Parameter\"]"
   ]
  },
  {
   "cell_type": "code",
   "execution_count": null,
   "id": "d5ae9c3e-98ab-46bd-8262-76068922969d",
   "metadata": {},
   "outputs": [],
   "source": [
    "# overview of cell type distribution across timepoints\n",
    "\n",
    "plt.rcParams.update({'font.size': 13})\n",
    "\n",
    "for cell_type in cell_types:\n",
    "\n",
    "    if cell_type in [\"cDC2\", \"Angio TAM\", \"Angio TAM-like\"]:\n",
    "        significance = \"*\"\n",
    "    else:\n",
    "        significance = \"ns\"\n",
    "\n",
    "    fig, ax = plt.subplots(figsize=(2,2), dpi=120)\n",
    "    \n",
    "    sns.boxplot(\n",
    "        x=\"response\", \n",
    "        y=\"Proportion\", \n",
    "        data=plot_df[plot_df[\"Cell type\"] == cell_type],\n",
    "        hue=\"response\", \n",
    "        #liersize=1,\n",
    "        palette=[\"mistyrose\", \"lavender\"], \n",
    "        ax=ax,\n",
    "        vert=True, \n",
    "        patch_artist=True, \n",
    "        meanline=True, \n",
    "        showmeans=True,\n",
    "        showfliers=False,\n",
    "        boxprops=boxprops,\n",
    "        #flierprops=flierprops,\n",
    "        medianprops=medianprops,\n",
    "        meanprops=meanlineprops\n",
    "    )\n",
    "        \n",
    "    \n",
    "    sns.swarmplot(\n",
    "        x=\"response\", \n",
    "        y=\"Proportion\", \n",
    "        data=plot_df[plot_df[\"Cell type\"] == cell_type], \n",
    "        hue=\"patient\",  # Color by \"patient\" variable\n",
    "        palette=\"Spectral\",  # Choose a color palette\n",
    "        dodge=False,  # Separate dots for each level of \"patient\n",
    "        #jitter=False\n",
    "        ax=ax,\n",
    "        size=5,\n",
    "        edgecolor=\"black\",\n",
    "        linewidth=.5,\n",
    "        alpha=1\n",
    "    )\n",
    "\n",
    "    #ax.set_xticks([])\n",
    "    ax.set_title(cell_type+\" - \"+significance)\n",
    "    ax.set_xlabel('ICI Response')\n",
    "    plt.yticks(fontsize = 10) \n",
    "    plt.yticks(fontsize = 10) \n",
    "    \n",
    "    legend = plt.legend(loc='upper right', bbox_to_anchor=(1.8, 1), ncol=1, title=\"Patient\", frameon=False)\n",
    "    plt.setp(legend.get_title(),fontsize='12')\n",
    "    plt.tight_layout()\n",
    "    plt.savefig(os.path.join(fig_dir, \"_Myeloid_Comp_\"+cell_type+\"_boxplot_by_response.png\"), dpi=600, format=\"png\", bbox_inches=\"tight\")\n"
   ]
  },
  {
   "cell_type": "markdown",
   "id": "e12f1b58-66be-428c-b959-47a5864a25cf",
   "metadata": {
    "execution": {
     "iopub.execute_input": "2024-03-22T15:40:12.013621Z",
     "iopub.status.busy": "2024-03-22T15:40:12.012831Z",
     "iopub.status.idle": "2024-03-22T15:40:12.016811Z",
     "shell.execute_reply": "2024-03-22T15:40:12.016381Z",
     "shell.execute_reply.started": "2024-03-22T15:40:12.013564Z"
    }
   },
   "source": [
    "# Myeloid Subset scCODA Compositional Analysis - ICI_status Comparison"
   ]
  },
  {
   "cell_type": "markdown",
   "id": "de63409a-4ed1-462c-aa77-47c0514177ec",
   "metadata": {},
   "source": [
    "### Environment Set Up"
   ]
  },
  {
   "cell_type": "code",
   "execution_count": null,
   "id": "d99d756f-7dd9-4c48-89a2-c53edb0c709d",
   "metadata": {},
   "outputs": [],
   "source": [
    "# load libraries\n",
    "import warnings\n",
    "import matplotlib.pyplot as plt\n",
    "import mudata as mu\n",
    "import pertpy as pt\n",
    "import scanpy as sc\n",
    "import numpy as np\n",
    "import pandas as pd\n",
    "import seaborn \n",
    "import os\n",
    "from statannot import add_stat_annotation"
   ]
  },
  {
   "cell_type": "code",
   "execution_count": null,
   "id": "8a95bd8e-2b9a-4ff9-acb4-023fe0487bc6",
   "metadata": {},
   "outputs": [],
   "source": [
    "# set up figure parameters\n",
    "plt.rcParams['figure.figsize'] = (6, 4)\n",
    "sc.settings.verbosity = 0\n",
    "sc.settings.set_figure_params(dpi=300, dpi_save=300, facecolor=\"white\", frameon=False, figsize=(4,4))"
   ]
  },
  {
   "cell_type": "code",
   "execution_count": null,
   "id": "0c3521cc-5683-4b32-8b94-14855e888e42",
   "metadata": {},
   "outputs": [],
   "source": [
    "# remove warnings\n",
    "import warnings\n",
    "warnings.filterwarnings('ignore')"
   ]
  },
  {
   "cell_type": "code",
   "execution_count": null,
   "id": "d083908e-ec47-4876-a2e1-a59002739037",
   "metadata": {},
   "outputs": [],
   "source": [
    "# set up dirs\n",
    "work_dir = \"/scratch_isilon/groups/singlecell/gdeuner/SERPENTINE/\"\n",
    "fig_dir = os.path.join(work_dir, \"figures\", \"combined\", \"Myeloid\", \"compositional_analysis\", \"ICI_status_comp/\")\n",
    "sc.settings.figdir = os.path.join(work_dir, \"figures\", \"combined\", \"Myeloid\", \"compositional_analysis\", \"ICI_status_comp/\")"
   ]
  },
  {
   "cell_type": "code",
   "execution_count": null,
   "id": "7f45b5db-67ac-49cc-8f7e-c012a91048b5",
   "metadata": {},
   "outputs": [],
   "source": [
    "# read anndata object\n",
    "adata = sc.read_h5ad(os.path.join(work_dir, \"data\", \"outputdata\", \"combined\", \"Combined_SCR_CO2_Myeloid_annotated_18-04-24.h5ad\"))"
   ]
  },
  {
   "cell_type": "code",
   "execution_count": null,
   "id": "d23bbd05-ed6a-494c-a730-54c2b74cc9a0",
   "metadata": {},
   "outputs": [],
   "source": [
    "# create condition variable\n",
    "adata"
   ]
  },
  {
   "cell_type": "markdown",
   "id": "fc3ba4c7-a0e6-48ec-8675-2683d2e2f521",
   "metadata": {},
   "source": [
    "## Model Setup & Inference"
   ]
  },
  {
   "cell_type": "code",
   "execution_count": null,
   "id": "514b4cbd-c232-441b-8014-bea47dce7178",
   "metadata": {},
   "outputs": [],
   "source": [
    "# initiate scCODA model\n",
    "sccoda_model = pt.tl.Sccoda()\n",
    "sccoda_data = sccoda_model.load(\n",
    "    adata,\n",
    "    type=\"cell_level\",\n",
    "    generate_sample_level=True,\n",
    "    cell_type_identifier=\"Annotation_2.0\",\n",
    "    sample_identifier=\"sample\",\n",
    "    covariate_obs=[\"subproject\", \"patient\", \"timepoint\", \"response\", \"ICI_status\", \"Condition\"],\n",
    "        \n",
    ")\n",
    "print(sccoda_data)\n",
    "print(sccoda_data[\"coda\"].X)\n",
    "print(sccoda_data[\"coda\"].obs)"
   ]
  },
  {
   "cell_type": "code",
   "execution_count": null,
   "id": "d6be8e0e-9837-494d-861a-e397ce615d94",
   "metadata": {},
   "outputs": [],
   "source": [
    "'''\n",
    "pt.pl.coda.boxplots(sccoda_data, \n",
    "                    modality_key=\"coda\", \n",
    "                    feature_name=\"ICI_status\", \n",
    "                    add_dots=True,\n",
    "                    figsize=[6,6],\n",
    "                    level_order=[\"PD\", \"],\n",
    "                    cmap=[\"red\",\"blue\"]\n",
    "                   )\n",
    "plt.show()\n",
    "'''"
   ]
  },
  {
   "cell_type": "code",
   "execution_count": null,
   "id": "e9b056dd-cc6e-47a7-9c47-2243bc87324e",
   "metadata": {},
   "outputs": [],
   "source": [
    "order = ['-ICI', '+ICI/SD', '+ICI/PD']\n",
    "sccoda_data['coda'].obs['ICI_status'] = pd.Categorical(sccoda_data['coda'].obs['ICI_status'], categories=order)"
   ]
  },
  {
   "cell_type": "code",
   "execution_count": null,
   "id": "d27fcbe3-c9d4-4eea-acad-09da6a0e17d1",
   "metadata": {},
   "outputs": [],
   "source": [
    "# prepare the model\n",
    "sccoda_data = sccoda_model.prepare(\n",
    "    sccoda_data,\n",
    "    modality_key=\"coda\",\n",
    "    formula=\"ICI_status\", #condition = timepoint\n",
    "    reference_cell_type=\"automatic\",\n",
    ")\n",
    "sccoda_data[\"coda\"]"
   ]
  },
  {
   "cell_type": "code",
   "execution_count": null,
   "id": "1248a90c-4c46-4d99-a0de-6b2dd7338b01",
   "metadata": {},
   "outputs": [],
   "source": [
    "# run MCMC\n",
    "sccoda_model.run_nuts(sccoda_data, modality_key=\"coda\")\n",
    "sccoda_data[\"coda\"]"
   ]
  },
  {
   "cell_type": "markdown",
   "id": "22c010c7-8989-4f85-8c6f-2fd9c919f5be",
   "metadata": {},
   "source": [
    "## Result Intepretation"
   ]
  },
  {
   "cell_type": "code",
   "execution_count": null,
   "id": "a0b993d3-8736-4f15-8db0-183930a76a40",
   "metadata": {},
   "outputs": [],
   "source": [
    "# see most relevant information\n",
    "sccoda_model.summary(sccoda_data, modality_key=\"coda\")"
   ]
  },
  {
   "cell_type": "code",
   "execution_count": null,
   "id": "f4ec0562-b41b-4c44-9e3f-ead8c064f4f0",
   "metadata": {},
   "outputs": [],
   "source": [
    "sccoda_model.credible_effects(sccoda_data, modality_key=\"coda\")"
   ]
  },
  {
   "cell_type": "markdown",
   "id": "cc212fc1-9f66-421c-907e-4b2915f7a5e5",
   "metadata": {},
   "source": [
    "### Adjust FDR"
   ]
  },
  {
   "cell_type": "code",
   "execution_count": null,
   "id": "96e2b14c-aaf1-4c87-b788-3dc5e2efd80f",
   "metadata": {
    "scrolled": true
   },
   "outputs": [],
   "source": [
    "FDRs = [0.05, 0.1, 0.2, 0.3, 0.4, 0.5]\n",
    "\n",
    "for FDR in FDRs:\n",
    "    print(\"FDR: \", str(FDR))\n",
    "    sccoda_model.set_fdr(sccoda_data, modality_key=\"coda\", est_fdr=FDR)\n",
    "    sccoda_model.summary(sccoda_data, modality_key=\"coda\")"
   ]
  },
  {
   "cell_type": "code",
   "execution_count": null,
   "id": "593a8ef3-a5a5-49fb-99a5-8b248c6e2985",
   "metadata": {},
   "outputs": [],
   "source": [
    "# choose FDR\n",
    "sccoda_model.set_fdr(sccoda_data, modality_key=\"coda\", est_fdr=0.2)\n",
    "sccoda_model.summary(sccoda_data, modality_key=\"coda\")"
   ]
  },
  {
   "cell_type": "markdown",
   "id": "b8e23f34-0e8c-4659-a5d8-df9ead716d21",
   "metadata": {},
   "source": [
    "## Save Results"
   ]
  },
  {
   "cell_type": "code",
   "execution_count": null,
   "id": "f168f0c2-ba4c-49cf-8d51-1a39883986fb",
   "metadata": {},
   "outputs": [],
   "source": [
    "#sccoda_data.write_h5mu(os.path.join(work_dir, \"data\", \"outputdata\", \"combined\", \"Myeloid_Combined_SCR_CO2_immune_scCODA_timepoint+response_03-05-24.h5mu\"))"
   ]
  },
  {
   "cell_type": "code",
   "execution_count": null,
   "id": "07d32b77-c22d-435f-8d38-285568570ceb",
   "metadata": {},
   "outputs": [],
   "source": [
    "test_model = pt.tl.Sccoda()\n",
    "test_model.get_intercept_df(sccoda_data, modality_key=\"coda\")"
   ]
  },
  {
   "cell_type": "code",
   "execution_count": null,
   "id": "cb60f0ec-729a-43e8-a05c-f2a4ac2c5da9",
   "metadata": {},
   "outputs": [],
   "source": [
    "test_model.get_intercept_df(sccoda_data, modality_key=\"coda\")"
   ]
  },
  {
   "cell_type": "code",
   "execution_count": null,
   "id": "f8a73f04-7e04-4311-96a8-ff3af90e2008",
   "metadata": {},
   "outputs": [],
   "source": [
    "effect = test_model.get_effect_df(sccoda_data, modality_key=\"coda\")\n",
    "effect"
   ]
  },
  {
   "cell_type": "code",
   "execution_count": null,
   "id": "3c796e31-01d4-4fc5-a62b-74b25dcc5556",
   "metadata": {},
   "outputs": [],
   "source": [
    "sccoda_data[\"coda\"].varm[\"intercept_df\"]"
   ]
  },
  {
   "cell_type": "markdown",
   "id": "5d8235ef-244f-4b79-9610-a97397691d1c",
   "metadata": {},
   "source": [
    "## Visualization"
   ]
  },
  {
   "cell_type": "code",
   "execution_count": null,
   "id": "fd5e639b-cefe-48fb-84d5-1762a82959b8",
   "metadata": {},
   "outputs": [],
   "source": [
    "pt.pl.coda.effects_barplot(sccoda_data, \"coda\", \"ICI_status\")"
   ]
  },
  {
   "cell_type": "code",
   "execution_count": null,
   "id": "15c294bc-4ddd-4568-b05c-bfb68017d4ee",
   "metadata": {},
   "outputs": [],
   "source": [
    "sccoda_data['coda'].var"
   ]
  },
  {
   "cell_type": "code",
   "execution_count": null,
   "id": "97a42830-b678-4bf3-834b-f92d0907b223",
   "metadata": {},
   "outputs": [],
   "source": [
    "# some booxplot arguments to customize the plot\n",
    "boxprops = dict(linestyle='-', linewidth=1, edgecolor='black')\n",
    "flierprops = dict(marker='o', markerfacecolor='none', #markersize=12,\n",
    "                  markeredgecolor='black')\n",
    "medianprops = dict(linestyle='-', linewidth=.8, color='black')\n",
    "#meanpointprops = dict(marker='D', markeredgecolor='black',markerfacecolor='black')\n",
    "meanlineprops = dict(linestyle='--', linewidth=.8, color='black')\n"
   ]
  },
  {
   "cell_type": "code",
   "execution_count": null,
   "id": "e39d0b7c-b922-49b5-9040-a6f8c6c36683",
   "metadata": {},
   "outputs": [],
   "source": [
    "# define cell types for plotting\n",
    "cell_types = sccoda_data['coda'].var_names.tolist()\n",
    "print(cell_types)"
   ]
  },
  {
   "cell_type": "code",
   "execution_count": null,
   "id": "445176a7-22fb-40f2-b998-d310c0bce1e3",
   "metadata": {},
   "outputs": [],
   "source": [
    "effect[\"Final Parameter\"]"
   ]
  },
  {
   "cell_type": "code",
   "execution_count": null,
   "id": "34555604-5b57-42a1-9580-7405ef187943",
   "metadata": {},
   "outputs": [],
   "source": [
    "## import function to compute stats\n",
    "#from statannot import add_stat_annotation\n",
    "#from .utils_statannot import raise_expected_got, assert_is_in"
   ]
  },
  {
   "cell_type": "code",
   "execution_count": null,
   "id": "a835367f-3883-42ff-98ae-3eb8348a0233",
   "metadata": {},
   "outputs": [],
   "source": [
    "feature_name=[\"Condition\", \"response\", \"patient\", \"ICI_status\"]\n",
    "data=sccoda_data['coda']\n",
    "\n",
    "sample_sums = np.sum(data.X, axis=1, keepdims=True)\n",
    "X = data.X/sample_sums\n",
    "value_name = \"Proportion\"\n",
    "\n",
    "count_df = pd.DataFrame(X, columns=data.var.index, index=data.obs.index).\\\n",
    "        merge(data.obs[feature_name], left_index=True, right_index=True)\n",
    "plot_df = pd.melt(count_df, id_vars=feature_name, var_name=\"Cell type\", value_name=value_name)\n",
    "if cell_types is not None:\n",
    "    plot_df = plot_df[plot_df[\"Cell type\"].isin(cell_types)]"
   ]
  },
  {
   "cell_type": "code",
   "execution_count": null,
   "id": "562991f6-0c9d-4a50-8179-427544764d2b",
   "metadata": {},
   "outputs": [],
   "source": [
    "plot_df"
   ]
  },
  {
   "cell_type": "code",
   "execution_count": null,
   "id": "22e099dc-8532-4dfa-a69b-5ec776a4aed9",
   "metadata": {},
   "outputs": [],
   "source": [
    "effect[\"Final Parameter\"]"
   ]
  },
  {
   "cell_type": "code",
   "execution_count": null,
   "id": "61f83f39-1fcb-4982-8067-c0f2480d66cc",
   "metadata": {},
   "outputs": [],
   "source": [
    "# define cell types that have an effect\n",
    "\n",
    "effect_dict_1 = { # -ICI vs. +ICI/SD\n",
    "    'Angio TAM' : '*', \n",
    "    'Angio TAM-like' : '*',\n",
    "    'Anti-Inflam TAM' : 'ns', \n",
    "    'CD14 CD16 Mono' : 'ns', \n",
    "    'CD14 Mono' : 'ns', \n",
    "    'CD16 Mono' : 'ns', \n",
    "    'LA TAM' : 'ns', \n",
    "    'Mast' : 'ns', \n",
    "    'Neutrophil' : 'ns', \n",
    "    'TRM Kupffer TAM' : 'ns', \n",
    "    'cDC1' : 'ns', \n",
    "    'cDC2' : '*', \n",
    "    'cDC3' : 'ns', \n",
    "    'pDC' : 'ns', \n",
    "    'pDC-like' : 'ns'\n",
    "}\n",
    "\n",
    "effect_dict_2 = { # -ICI vs. +ICI/PD\n",
    "    'Angio TAM' : 'ns', \n",
    "    'Angio TAM-like' : 'ns',\n",
    "    'Anti-Inflam TAM' : 'ns', \n",
    "    'CD14 CD16 Mono' : 'ns', \n",
    "    'CD14 Mono' : 'ns', \n",
    "    'CD16 Mono' : '*', \n",
    "    'LA TAM' : 'ns', \n",
    "    'Mast' : 'ns', \n",
    "    'Neutrophil' : 'ns', \n",
    "    'TRM Kupffer TAM' : 'ns', \n",
    "    'cDC1' : 'ns', \n",
    "    'cDC2' : 'ns', \n",
    "    'cDC3' : 'ns', \n",
    "    'pDC' : 'ns', \n",
    "    'pDC-like' : 'ns'\n",
    "}"
   ]
  },
  {
   "cell_type": "code",
   "execution_count": null,
   "id": "c255b8f9-a80f-4859-a32e-adaef2fd870c",
   "metadata": {},
   "outputs": [],
   "source": [
    "for cell_type in cell_types:\n",
    "    \n",
    "    fig, ax = plt.subplots(figsize=(2,2), dpi=120)\n",
    "\n",
    "    sns.boxplot(\n",
    "        x=\"ICI_status\", \n",
    "        y=\"Proportion\", \n",
    "        data=plot_df[plot_df[\"Cell type\"] == cell_type],\n",
    "        hue=\"ICI_status\", \n",
    "        #order=[\"T0/-ICI\",\"T1/+ICI\"],\n",
    "        ax=ax,\n",
    "        vert=True, \n",
    "        patch_artist=True, \n",
    "        palette=[\"white\", \"blue\", \"red\"], \n",
    "        meanline=True, \n",
    "        showmeans=True,\n",
    "        showfliers=False,\n",
    "        boxprops=boxprops,\n",
    "        #flierprops=flierprops,\n",
    "        medianprops=medianprops,\n",
    "        meanprops=meanlineprops\n",
    "    )\n",
    "        \n",
    "    \n",
    "    sns.swarmplot(\n",
    "        x=\"ICI_status\", \n",
    "        y=\"Proportion\", \n",
    "        data=plot_df[plot_df[\"Cell type\"] == cell_type], \n",
    "        hue=\"patient\",  # Color by \"patient\" variable\n",
    "        palette=\"Spectral\",  # Choose a color palette\n",
    "        dodge=False,  # Separate dots for each level of \"patient\n",
    "        #jitter=False\n",
    "        ax=ax,\n",
    "        size=4,\n",
    "        edgecolor=\"black\",\n",
    "        linewidth=.5,\n",
    "        alpha=1\n",
    "    )\n",
    "\n",
    "    #ax.set_xticks([])\n",
    "    ax.set_title(cell_type)\n",
    "    ax.set_xlabel('ICI Status')\n",
    "    ymax = plot_df[plot_df[\"Cell type\"] == cell_type][\"Proportion\"].max()\n",
    "    ax.plot([0, 0, 2, 2], [ymax + .08, ymax + .09, ymax + .09, ymax + .08], lw=1, color='black')\n",
    "    ax.text(1, ymax+.085, f\" {effect_dict_2[cell_type]}\", ha='center', va='bottom', size=8, color='black')\n",
    "    ax.plot([0, 0, 1, 1], [ymax + .05, ymax + .06, ymax + .06, ymax + .05], lw=1, color='black')\n",
    "    ax.text(0.5, ymax+.055, f\" {effect_dict_1[cell_type]}\", ha='center', va='bottom', size=8, color='black')\n",
    "    #ax.set_ylim([0, ymax+.1])\n",
    "    plt.yticks(fontsize = 9) \n",
    "    plt.xticks(fontsize = 9) \n",
    "\n",
    "    legend = plt.legend(loc='right', bbox_to_anchor=(1.8, .5), ncol=1, title=\"Patient\", frameon=True)\n",
    "    plt.setp(legend.get_title(),fontsize='12')\n",
    "    plt.tight_layout()\n",
    "\n",
    "    \n",
    "    plt.savefig(os.path.join(fig_dir, \"Myeloid_Comp_\"+cell_type+\"_boxplot_by_ICI_status.png\"), dpi=600, format=\"png\", bbox_inches=\"tight\")"
   ]
  },
  {
   "cell_type": "markdown",
   "id": "a38f4fda-843a-485a-844d-e4a64fa0f4a6",
   "metadata": {
    "execution": {
     "iopub.execute_input": "2024-03-22T15:40:12.013621Z",
     "iopub.status.busy": "2024-03-22T15:40:12.012831Z",
     "iopub.status.idle": "2024-03-22T15:40:12.016811Z",
     "shell.execute_reply": "2024-03-22T15:40:12.016381Z",
     "shell.execute_reply.started": "2024-03-22T15:40:12.013564Z"
    }
   },
   "source": [
    "# Myeloid Basic Subset scCODA Compositional Analysis - Response Comparison"
   ]
  },
  {
   "cell_type": "markdown",
   "id": "8ec6688f-d70f-4576-a99d-5f87b537dbd8",
   "metadata": {},
   "source": [
    "### Environment Set Up"
   ]
  },
  {
   "cell_type": "code",
   "execution_count": null,
   "id": "b14579bd-0ae7-4a22-907f-e21262f519e7",
   "metadata": {},
   "outputs": [],
   "source": [
    "# load libraries\n",
    "import warnings\n",
    "import matplotlib.pyplot as plt\n",
    "import mudata as mu\n",
    "import pertpy as pt\n",
    "import scanpy as sc\n",
    "import numpy as np\n",
    "import pandas as pd\n",
    "import seaborn \n",
    "import os\n",
    "from statannot import add_stat_annotation"
   ]
  },
  {
   "cell_type": "code",
   "execution_count": null,
   "id": "e866cf38-cdf6-49d2-b34e-e31714b1be93",
   "metadata": {},
   "outputs": [],
   "source": [
    "# set up figure parameters\n",
    "plt.rcParams['figure.figsize'] = (6, 4)\n",
    "sc.settings.verbosity = 0\n",
    "sc.settings.set_figure_params(dpi=300, dpi_save=300, facecolor=\"white\", frameon=False, figsize=(4,4), format=\"pdf\")"
   ]
  },
  {
   "cell_type": "code",
   "execution_count": null,
   "id": "babaf2a3-970c-4aa6-82cf-0db8616757cb",
   "metadata": {},
   "outputs": [],
   "source": [
    "# remove warnings\n",
    "import warnings\n",
    "warnings.filterwarnings('ignore')"
   ]
  },
  {
   "cell_type": "code",
   "execution_count": null,
   "id": "4874a344-e10f-4647-919e-9a3a34ee489b",
   "metadata": {},
   "outputs": [],
   "source": [
    "# set up dirs\n",
    "work_dir = \"/scratch_isilon/groups/singlecell/gdeuner/SERPENTINE/\"\n",
    "#fig_dir = os.path.join(work_dir, \"figures\", \"combined\", \"Myeloid\", \"compositional_analysis\", \"basic_response_comp/\")\n",
    "#sc.settings.figdir = os.path.join(work_dir, \"figures\", \"combined\", \"Myeloid\", \"compositional_analysis\", \"basic_response_comp/\")\n",
    "fig_dir = os.path.join(work_dir, \"figures\", \"TFM\", \"Fig5/\")\n",
    "sc.settings.figdir = os.path.join(work_dir, \"figures\", \"TFM\", \"Fig5/\")"
   ]
  },
  {
   "cell_type": "code",
   "execution_count": null,
   "id": "2ef73cbf-6257-463f-91d4-61a7db5a5960",
   "metadata": {},
   "outputs": [],
   "source": [
    "# read anndata object\n",
    "adata = sc.read_h5ad(os.path.join(work_dir, \"data\", \"outputdata\", \"combined\", \"Combined_SCR_CO2_Myeloid_annotated_18-04-24.h5ad\"))"
   ]
  },
  {
   "cell_type": "code",
   "execution_count": null,
   "id": "b8d56869-decb-43e0-b770-ffc40099b72d",
   "metadata": {},
   "outputs": [],
   "source": [
    "# create condition variable\n",
    "adata"
   ]
  },
  {
   "cell_type": "markdown",
   "id": "9fdd1c9f-59e7-486e-a32c-a7360f7e182a",
   "metadata": {},
   "source": [
    "## Carry out a simpler Annotation"
   ]
  },
  {
   "cell_type": "code",
   "execution_count": null,
   "id": "244a5002-dcda-4086-bde9-14d4fe5c4858",
   "metadata": {},
   "outputs": [],
   "source": [
    "adata.obs[\"Annotation_2.0\"].unique()"
   ]
  },
  {
   "cell_type": "code",
   "execution_count": null,
   "id": "8a7d9017-c240-491a-b969-83dfac2e06cb",
   "metadata": {},
   "outputs": [],
   "source": [
    "# TAM, Mono, DC, pDC, Mast, Neutrophil\n",
    "\n",
    "annotation_map = {\n",
    "    \"CD14 CD16 Mono\": \"Mono\",\n",
    "    \"CD14 Mono\": \"Mono\",\n",
    "    \"CD16 Mono\": \"Mono\",\n",
    "    \"Anti-Inflam TAM\": \"TAM\",\n",
    "    \"LA TAM\": \"TAM\",\n",
    "    \"TRM Kupffer TAM\": \"TAM\",\n",
    "    \"Angio TAM\": \"TAM\",\n",
    "    \"Angio TAM-like\": \"TAM\",\n",
    "    \"cDC1\": \"cDC\",\n",
    "    \"cDC2\": \"cDC\",\n",
    "    \"cDC3\": \"cDC\",\n",
    "    \"pDC\": \"pDC\",\n",
    "    \"pDC-like\": \"pDC\",\n",
    "    \"Mast\": \"Mast\",\n",
    "    \"Neutrophil\": \"Neutrophil\",    \n",
    "}\n",
    "\n",
    "adata.obs['Myeloid_Annotation'] = adata.obs['Annotation_2.0'].map(annotation_map)"
   ]
  },
  {
   "cell_type": "code",
   "execution_count": null,
   "id": "906eaa41-6bf1-40fa-a6e0-a5093fa68ce5",
   "metadata": {},
   "outputs": [],
   "source": [
    "adata.obs.Myeloid_Annotation.unique()"
   ]
  },
  {
   "cell_type": "code",
   "execution_count": null,
   "id": "f92a9182-d8e5-4c98-a4cb-ed08f298cfa2",
   "metadata": {},
   "outputs": [],
   "source": [
    "adata"
   ]
  },
  {
   "cell_type": "code",
   "execution_count": null,
   "id": "cd994859-4a62-4c3c-90b1-950d7dc7acb7",
   "metadata": {},
   "outputs": [],
   "source": [
    "# Plot UMAP with the custom blue colormap\n",
    "blue_colors = [\"#CAF0F8\", \"#90E0EF\", \"#00B4D8\", \"#0077B6\", \"#4371B5\", \"#03045E\"]\n",
    "palette = [\"#1f77b4\", \"#ff7f0e\", \"#2ca02c\", \"#d62728\", \"#9467bd\", \"#8c564b\"]\n",
    "\n",
    "\n",
    "sc.pl.umap(\n",
    "    adata, \n",
    "    color='Myeloid_Annotation', \n",
    "    frameon=False,\n",
    "    #palette=[\"#f7fbff\", \"#deebf7\", \"#c6dbef\", \"#9ecae1\", \"#6baed6\", \"#3182bd\"],\n",
    "    palette=palette,\n",
    "    title=\"Myeloid Main Cell Types (9424)\",\n",
    "    save=\"Basic_Myeloid_Types_UMAP.pdf\"\n",
    ")"
   ]
  },
  {
   "cell_type": "markdown",
   "id": "c79eee0c-8df5-44d6-9596-7005d9b0e13f",
   "metadata": {},
   "source": [
    "## Model Setup & Inference"
   ]
  },
  {
   "cell_type": "code",
   "execution_count": null,
   "id": "ad8d2a02-8cf6-4452-bb9a-3b1ee05dccf9",
   "metadata": {},
   "outputs": [],
   "source": [
    "# initiate scCODA model\n",
    "sccoda_model = pt.tl.Sccoda()\n",
    "sccoda_data = sccoda_model.load(\n",
    "    adata,\n",
    "    type=\"cell_level\",\n",
    "    generate_sample_level=True,\n",
    "    cell_type_identifier=\"Myeloid_Annotation\",\n",
    "    sample_identifier=\"sample\",\n",
    "    covariate_obs=[\"subproject\", \"patient\", \"timepoint\", \"response\", \"ICI_status\", \"Condition\"],\n",
    "        \n",
    ")\n",
    "print(sccoda_data)\n",
    "print(sccoda_data[\"coda\"].X)\n",
    "print(sccoda_data[\"coda\"].obs)"
   ]
  },
  {
   "cell_type": "code",
   "execution_count": null,
   "id": "737fde7a-9209-4bb7-843e-7a914ddc44cf",
   "metadata": {},
   "outputs": [],
   "source": [
    "pt.pl.coda.boxplots(sccoda_data, \n",
    "                    modality_key=\"coda\", \n",
    "                    feature_name=\"Condition\", \n",
    "                    add_dots=False,\n",
    "                    figsize=[6,6],\n",
    "                    #level_order=[\"PD\", \"SD\"],\n",
    "                    cmap=[\"coral\",\"darkviolet\"]\n",
    "                   )\n",
    "plt.show()"
   ]
  },
  {
   "cell_type": "code",
   "execution_count": null,
   "id": "d32ea94c-98ba-43fb-9342-4ace8a10c79f",
   "metadata": {},
   "outputs": [],
   "source": []
  },
  {
   "cell_type": "code",
   "execution_count": null,
   "id": "e15a716e-d01c-4379-a075-c83abec80800",
   "metadata": {},
   "outputs": [],
   "source": [
    "# prepare the model\n",
    "sccoda_data = sccoda_model.prepare(\n",
    "    sccoda_data,\n",
    "    modality_key=\"coda\",\n",
    "    formula=\"response\", #condition = timepoint\n",
    "    reference_cell_type=\"automatic\",\n",
    ")\n",
    "sccoda_data[\"coda\"]"
   ]
  },
  {
   "cell_type": "code",
   "execution_count": null,
   "id": "60d11540-a9bd-410b-9f9c-3ddc63d0a064",
   "metadata": {},
   "outputs": [],
   "source": [
    "# eun MCMC\n",
    "sccoda_model.run_nuts(sccoda_data, modality_key=\"coda\")\n",
    "sccoda_data[\"coda\"]"
   ]
  },
  {
   "cell_type": "markdown",
   "id": "a2a2cf0a-d323-4079-9b15-a898f4992470",
   "metadata": {},
   "source": [
    "## Result Intepretation"
   ]
  },
  {
   "cell_type": "code",
   "execution_count": null,
   "id": "0e851845-c55f-499b-ade9-27eca657e6a7",
   "metadata": {},
   "outputs": [],
   "source": [
    "# see most relevant information\n",
    "sccoda_model.summary(sccoda_data, modality_key=\"coda\")"
   ]
  },
  {
   "cell_type": "code",
   "execution_count": null,
   "id": "543fcccf-d5d2-496a-b56c-06d7d362c063",
   "metadata": {},
   "outputs": [],
   "source": [
    "sccoda_model.credible_effects(sccoda_data, modality_key=\"coda\")"
   ]
  },
  {
   "cell_type": "markdown",
   "id": "5ffe272f-70fe-4368-9985-abe2836ad1a1",
   "metadata": {},
   "source": [
    "### Adjust FDR"
   ]
  },
  {
   "cell_type": "code",
   "execution_count": null,
   "id": "fc0238b5-7adc-4017-a8fa-1cd3dece440e",
   "metadata": {
    "scrolled": true
   },
   "outputs": [],
   "source": [
    "FDRs = [0.05, 0.1, 0.2, 0.3, 0.4, 0.5]\n",
    "\n",
    "for FDR in FDRs:\n",
    "    print(\"FDR: \", str(FDR))\n",
    "    sccoda_model.set_fdr(sccoda_data, modality_key=\"coda\", est_fdr=FDR)\n",
    "    sccoda_model.summary(sccoda_data, modality_key=\"coda\")"
   ]
  },
  {
   "cell_type": "code",
   "execution_count": null,
   "id": "1e86cdb7-cfc4-4ab1-bc3e-b3e55db52d14",
   "metadata": {},
   "outputs": [],
   "source": [
    "# choose FDR\n",
    "sccoda_model.set_fdr(sccoda_data, modality_key=\"coda\", est_fdr=0.2)\n",
    "sccoda_model.summary(sccoda_data, modality_key=\"coda\")"
   ]
  },
  {
   "cell_type": "markdown",
   "id": "3a5cff26-cf28-4bbd-ab03-3adbd08d92ae",
   "metadata": {},
   "source": [
    "## Save Results"
   ]
  },
  {
   "cell_type": "code",
   "execution_count": null,
   "id": "90f99ed8-0e07-42f7-a086-78ff78e9357f",
   "metadata": {},
   "outputs": [],
   "source": [
    "#sccoda_data.write_h5mu(os.path.join(work_dir, \"data\", \"outputdata\", \"combined\", \"Myeloid_Combined_SCR_CO2_immune_scCODA_timepoint+response_03-05-24.h5mu\"))"
   ]
  },
  {
   "cell_type": "code",
   "execution_count": null,
   "id": "c20332b2-636d-4ad7-aa74-537861ae9f6b",
   "metadata": {},
   "outputs": [],
   "source": [
    "test_model = pt.tl.Sccoda()\n",
    "test_model.get_intercept_df(sccoda_data, modality_key=\"coda\")"
   ]
  },
  {
   "cell_type": "code",
   "execution_count": null,
   "id": "bd31e2ef-8ff6-4333-800d-1e1eca7c94a1",
   "metadata": {},
   "outputs": [],
   "source": [
    "test_model.get_intercept_df(sccoda_data, modality_key=\"coda\")"
   ]
  },
  {
   "cell_type": "code",
   "execution_count": null,
   "id": "4c97f2e3-c2e2-4a91-b067-0ba579a4baaf",
   "metadata": {},
   "outputs": [],
   "source": [
    "effect = test_model.get_effect_df(sccoda_data, modality_key=\"coda\")\n",
    "effect"
   ]
  },
  {
   "cell_type": "code",
   "execution_count": null,
   "id": "8ff54e3a-5845-4274-b028-10cf7a66b6ee",
   "metadata": {},
   "outputs": [],
   "source": [
    "sccoda_data[\"coda\"].varm[\"intercept_df\"]"
   ]
  },
  {
   "cell_type": "code",
   "execution_count": null,
   "id": "b623475e-39b2-4b74-b87f-bec1fd250412",
   "metadata": {},
   "outputs": [],
   "source": [
    "pt.pl.coda.effects_barplot(sccoda_data, \"coda\", \"response\")\n",
    "plt.savefig(os.path.join(fig_dir, \"scCODA_log2fold.pdf\"), dpi=300, format=\"pdf\", bbox_inches=\"tight\")\n"
   ]
  },
  {
   "cell_type": "markdown",
   "id": "4d2671e0-591c-48f6-ab38-2bd97ed2cbe3",
   "metadata": {},
   "source": [
    "## Visualization"
   ]
  },
  {
   "cell_type": "code",
   "execution_count": null,
   "id": "f8220ca3-7b56-4999-9762-095b99ee486a",
   "metadata": {},
   "outputs": [],
   "source": [
    "sccoda_data['coda'].var"
   ]
  },
  {
   "cell_type": "code",
   "execution_count": null,
   "id": "fca79049-7f99-4628-90cb-aed8ffc7974d",
   "metadata": {},
   "outputs": [],
   "source": [
    "# some booxplot arguments to customize the plot\n",
    "boxprops = dict(linestyle='-', linewidth=1, edgecolor='black')\n",
    "flierprops = dict(marker='o', markerfacecolor='none', #markersize=12,\n",
    "                  markeredgecolor='black')\n",
    "medianprops = dict(linestyle='-', linewidth=.8, color='black')\n",
    "#meanpointprops = dict(marker='D', markeredgecolor='black',markerfacecolor='black')\n",
    "meanlineprops = dict(linestyle='--', linewidth=.8, color='black')\n"
   ]
  },
  {
   "cell_type": "code",
   "execution_count": null,
   "id": "c53dadf4-a678-4b87-ac87-5c6ce473d112",
   "metadata": {},
   "outputs": [],
   "source": [
    "# define cell types for plotting\n",
    "cell_types = sccoda_data['coda'].var_names.tolist()\n",
    "print(cell_types)"
   ]
  },
  {
   "cell_type": "code",
   "execution_count": null,
   "id": "9e00d6b5-40cb-42b7-b88f-9a7ce3cacadc",
   "metadata": {},
   "outputs": [],
   "source": [
    "import seaborn as sns"
   ]
  },
  {
   "cell_type": "code",
   "execution_count": null,
   "id": "cbe36a2c-4a6b-4c68-bdb5-5118debcd5ae",
   "metadata": {},
   "outputs": [],
   "source": [
    "df = pd.DataFrame(sccoda_data.obs)\n",
    "df"
   ]
  },
  {
   "cell_type": "code",
   "execution_count": null,
   "id": "6b06e42d-3ec3-4c16-989e-75b32978434d",
   "metadata": {},
   "outputs": [],
   "source": [
    "sccoda_data[\"rna\"].X"
   ]
  },
  {
   "cell_type": "code",
   "execution_count": null,
   "id": "98700780-b8c1-4245-b79f-d25da24d1e9b",
   "metadata": {},
   "outputs": [],
   "source": [
    "feature_name=[\"Condition\", \"response\", \"patient\"]\n",
    "data=sccoda_data['coda']\n",
    "\n",
    "sample_sums = np.sum(data.X, axis=1, keepdims=True)\n",
    "X = data.X/sample_sums\n",
    "value_name = \"Proportion\"\n",
    "\n",
    "count_df = pd.DataFrame(X, columns=data.var.index, index=data.obs.index).\\\n",
    "        merge(data.obs[feature_name], left_index=True, right_index=True)\n",
    "plot_df = pd.melt(count_df, id_vars=feature_name, var_name=\"Cell type\", value_name=value_name)\n",
    "if cell_types is not None:\n",
    "    plot_df = plot_df[plot_df[\"Cell type\"].isin(cell_types)]"
   ]
  },
  {
   "cell_type": "code",
   "execution_count": null,
   "id": "541d053d-0cfc-4be5-a5f1-3ece9ab10482",
   "metadata": {},
   "outputs": [],
   "source": [
    "plot_df.head()"
   ]
  },
  {
   "cell_type": "code",
   "execution_count": null,
   "id": "8bf68dbd-baa1-4aaa-a74c-3e1e3051111d",
   "metadata": {},
   "outputs": [],
   "source": [
    "# some booxplot arguments to customize the plot\n",
    "import seaborn\n",
    "boxprops = dict(linestyle='-', linewidth=1, edgecolor='black')\n",
    "flierprops = dict(marker='o', markerfacecolor='black', #markersize=12,\n",
    "                  markeredgecolor='none')\n",
    "medianprops = dict(linestyle='-', linewidth=.8, color='black')\n",
    "#meanpointprops = dict(marker='D', markeredgecolor='black',markerfacecolor='black')\n",
    "meanlineprops = dict(linestyle='--', linewidth=.8, color='black')\n",
    "\n",
    "\n",
    "import seaborn as sns\n",
    "plt.rcParams.update({'font.size': 13})\n",
    "seaborn.set_style(style='white') \n",
    "\n",
    "#custom_order = ['CD4 T', 'CD8 T', 'NK', 'Myeloid', 'pDC', 'Plasma', 'B Cell']\n",
    "\n",
    "\n",
    "fig, ax = plt.subplots(figsize=(5,4), dpi=200)\n",
    "\n",
    "ax = sns.boxplot(\n",
    "    x=\"Cell type\", \n",
    "    y=\"Proportion\", \n",
    "    data=plot_df,\n",
    "    hue=\"Condition\", \n",
    "    #liersize=1,\n",
    "    palette=[\"coral\",\"darkviolet\"], \n",
    "    #order=custom_order,\n",
    "    ax=ax,\n",
    "    vert=True, \n",
    "    patch_artist=True, \n",
    "    meanline=True, \n",
    "    showmeans=True,\n",
    "    showfliers=False,\n",
    "    boxprops=boxprops,\n",
    "    #flierprops=flierprops,\n",
    "    medianprops=medianprops,\n",
    "    meanprops=meanlineprops\n",
    ")\n",
    "\n",
    "'''\n",
    "sns.stripplot(\n",
    "    x=\"Cell type\", \n",
    "    y=\"Proportion\", \n",
    "    data=plot_df, \n",
    "    #style=\"Patient\",\n",
    "    hue=\"Condition\",  # Color by \"patient\" variable\n",
    "    palette=[\"coral\",\"darkviolet\"],  # Choose a color palette\n",
    "    dodge=True,  # Separate dots for each level of \"patient\n",
    "    #order=custom_order,\n",
    "    #jitter=False\n",
    "    ax=ax,\n",
    "    size=5,\n",
    "    edgecolor=\"black\",\n",
    "    linewidth=.5,\n",
    "    alpha=1,\n",
    ")\n",
    "'''\n",
    "#plt.ylim(0, 0.5)\n",
    "\n",
    "#ax.set_xticks([])\n",
    "ax.set_xlabel('Cell type')\n",
    "plt.yticks(fontsize = 10, ) \n",
    "plt.xticks(fontsize = 10, rotation = 90) \n",
    "\n",
    "handles, labels = ax.get_legend_handles_labels()\n",
    "ax.legend(handles[:2], labels[:2], title='Timepoint', bbox_to_anchor=(1, 1))\n",
    "\n",
    "#legend = plt.legend(loc='right', bbox_to_anchor=(1.8, .5), ncol=1, title=\"Patient\", frameon=True)\n",
    "plt.tight_layout()\n",
    "        \n",
    "plt.savefig(os.path.join(work_dir, \"figures\", \"TFM\", \"Fig5\", \"Boxplots_BASIC_cell_type_boxplots.pdf\"), dpi=200, format=\"pdf\", bbox_inches=\"tight\")\n"
   ]
  },
  {
   "cell_type": "code",
   "execution_count": null,
   "id": "150d4913-9a10-4bc8-a995-b41879211cde",
   "metadata": {},
   "outputs": [],
   "source": [
    "# plots for Poster/Thesis Figures\n",
    "# overview of cell type distribution across timepoints\n",
    "plt.rcParams.update({'font.size': 13})\n",
    "sns.set_style(rc = {'axes.facecolor': 'lightsteelblue'})\n",
    "\n",
    "#effect_cell_types.append(\"CD56hi CD16lo NK\")\n",
    "\n",
    "for cell_type in cell_types:\n",
    "\n",
    "    #if cell_type in effect_cell_types:\n",
    "    if 1 == True:\n",
    "    \n",
    "        fig, ax = plt.subplots(figsize=(2,2), dpi=120)\n",
    "        \n",
    "        sns.boxplot(\n",
    "            x=\"Condition\", \n",
    "            y=\"Proportion\", \n",
    "            data=plot_df[plot_df[\"Cell type\"] == cell_type],\n",
    "            hue=\"Condition\", \n",
    "            #liersize=1,\n",
    "            palette=[\"coral\",\"darkviolet\"], \n",
    "            order=[\"T0/-ICI\",\"T1/+ICI\"],\n",
    "            ax=ax,\n",
    "            vert=True, \n",
    "            patch_artist=True, \n",
    "            meanline=True, \n",
    "            showmeans=True,\n",
    "            showfliers=False,\n",
    "            boxprops=boxprops,\n",
    "            #flierprops=flierprops,\n",
    "            medianprops=medianprops,\n",
    "            meanprops=meanlineprops\n",
    "        )\n",
    "            \n",
    "        \n",
    "        sns.swarmplot(\n",
    "            x=\"Condition\", \n",
    "            y=\"Proportion\", \n",
    "            data=plot_df[plot_df[\"Cell type\"] == cell_type], \n",
    "            hue=\"response\",  # Color by \"patient\" variable\n",
    "            palette=[\"red\", \"blue\"],  # Choose a color palette\n",
    "            dodge=False,  # Separate dots for each level of \"patient\n",
    "            #jitter=False\n",
    "            ax=ax,\n",
    "            size=5,\n",
    "            edgecolor=\"black\",\n",
    "            linewidth=.5,\n",
    "            alpha=1\n",
    "        )\n",
    "\n",
    "        sns.pointplot(\n",
    "            data=plot_df[plot_df[\"Cell type\"] == cell_type], \n",
    "            x=\"Condition\", \n",
    "            y=\"Proportion\", \n",
    "            hue=\"patient\", \n",
    "            legend= False,\n",
    "            palette=\"Spectral\",\n",
    "            linewidth=1.5,\n",
    "            errwidth=1,\n",
    "            markers='|',\n",
    "            #errorbar=None,\n",
    "            join=True\n",
    "        )\n",
    "    \n",
    "        plt.title(cell_type, pad=18)\n",
    "        plt.xlabel('', labelpad=10)\n",
    "        plt.ylabel('', labelpad=10)\n",
    "        plt.yticks(fontsize = 10) \n",
    "        plt.xticks(fontsize = 10) \n",
    "        #plt.set_xticks([0,1,2,3,4], [\"PD_01\", \"PD_02\", \"PD_03\", \"SD_01\", \"PD_04\"], ha=\"center\", rotation=30)\n",
    "    \n",
    "            \n",
    "        legend = plt.legend(loc='right', bbox_to_anchor=(2, .5), ncol=1, title=\"Response\", frameon=True, facecolor=\"white\")\n",
    "        plt.setp(legend.get_title(),fontsize='12')\n",
    "        plt.tight_layout()\n",
    "  \n",
    "        xmin, xmax, ymin, ymax = plt.axis()\n",
    "        plt.ylim((0, ymax + (0.66)*ymax))\n",
    "\n",
    "        if cell_type == \"CD4 T CM/EarlyActivated\":\n",
    "            cell_type = \"CD4 T CM-EarlyActivated\"\n",
    "        \n",
    "        plt.savefig(os.path.join(\"/scratch_isilon/groups/singlecell/gdeuner/SERPENTINE/figures/TFM/Fig5\", \"Basic_Myeloid_Comp_\"+cell_type+\"_boxplot_by_condition_colby_response.pdf\"), dpi=600, format=\"pdf\", bbox_inches=\"tight\")"
   ]
  },
  {
   "cell_type": "code",
   "execution_count": null,
   "id": "3e364c71-d9c9-4bd3-848a-907f28c4e5d9",
   "metadata": {},
   "outputs": [],
   "source": [
    "# plots for Poster/Thesis Figures\n",
    "# overview of cell type distribution across timepoints\n",
    "boxprops = dict(linestyle='-', linewidth=1, edgecolor='black', alpha=0.7)\n",
    "plt.rcParams.update({'font.size': 13})\n",
    "sns.set_style(rc = {'axes.facecolor': 'white'})\n",
    "\n",
    "#effect_cell_types.append(\"CD56hi CD16lo NK\")\n",
    "\n",
    "for cell_type in cell_types:\n",
    "\n",
    "    #if cell_type in effect_cell_types:\n",
    "    if 1 == True:\n",
    "    \n",
    "        fig, ax = plt.subplots(figsize=(2,2), dpi=120)\n",
    "        \n",
    "        sns.boxplot(\n",
    "            x=\"Condition\", \n",
    "            y=\"Proportion\", \n",
    "            data=plot_df[plot_df[\"Cell type\"] == cell_type],\n",
    "            hue=\"Condition\", \n",
    "            #liersize=1,\n",
    "            palette=[\"coral\",\"darkviolet\"], \n",
    "            order=[\"T0/-ICI\",\"T1/+ICI\"],\n",
    "            ax=ax,\n",
    "            vert=True, \n",
    "            patch_artist=True, \n",
    "            meanline=True, \n",
    "            showmeans=True,\n",
    "            showfliers=False,\n",
    "            boxprops=boxprops,\n",
    "            #flierprops=flierprops,\n",
    "            medianprops=medianprops,\n",
    "            meanprops=meanlineprops\n",
    "        )\n",
    "            \n",
    "        \n",
    "        sns.swarmplot(\n",
    "            x=\"Condition\", \n",
    "            y=\"Proportion\", \n",
    "            data=plot_df[plot_df[\"Cell type\"] == cell_type], \n",
    "            hue=\"patient\",  # Color by \"patient\" variable\n",
    "            palette=\"Spectral\",  # Choose a color palette\n",
    "            dodge=False,  # Separate dots for each level of \"patient\n",
    "            #jitter=False\n",
    "            ax=ax,\n",
    "            size=5,\n",
    "            edgecolor=\"black\",\n",
    "            linewidth=.5,\n",
    "            alpha=1\n",
    "        )\n",
    "        '''\n",
    "        sns.pointplot(\n",
    "            data=plot_df[plot_df[\"Cell type\"] == cell_type], \n",
    "            x=\"Condition\", \n",
    "            y=\"Proportion\", \n",
    "            hue=\"patient\", \n",
    "            legend= False,\n",
    "            palette=\"Spectral\",\n",
    "            linewidth=1.5,\n",
    "            errwidth=1,\n",
    "            markers='|',\n",
    "            #errorbar=None,\n",
    "            join=True\n",
    "        )\n",
    "        '''\n",
    "        plt.title(cell_type, pad=18)\n",
    "        plt.xlabel('', labelpad=10)\n",
    "        plt.ylabel('', labelpad=10)\n",
    "        plt.yticks(fontsize = 10) \n",
    "        plt.xticks(fontsize = 10) \n",
    "        #plt.set_xticks([0,1,2,3,4], [\"PD_01\", \"PD_02\", \"PD_03\", \"SD_01\", \"PD_04\"], ha=\"center\", rotation=30)\n",
    "    \n",
    "            \n",
    "        legend = plt.legend(loc='right', bbox_to_anchor=(2, .5), ncol=1, title=\"Response\", frameon=True, facecolor=\"white\")\n",
    "        plt.setp(legend.get_title(),fontsize='12')\n",
    "        plt.tight_layout()\n",
    "  \n",
    "        xmin, xmax, ymin, ymax = plt.axis()\n",
    "        plt.ylim((0, ymax + (0.66)*ymax))\n",
    "\n",
    "        if cell_type == \"CD4 T CM/EarlyActivated\":\n",
    "            cell_type = \"CD4 T CM-EarlyActivated\"\n",
    "        \n",
    "        plt.savefig(os.path.join(\"/scratch_isilon/groups/singlecell/gdeuner/SERPENTINE/figures/TFM/Fig5\", \"Myeloid_Comp_\"+cell_type+\"_boxplot_by_condition_colby_response.pdf\"), dpi=600, format=\"pdf\", bbox_inches=\"tight\")"
   ]
  },
  {
   "cell_type": "code",
   "execution_count": null,
   "id": "5baf4551-6411-4cd6-8ae9-06108784e62f",
   "metadata": {},
   "outputs": [],
   "source": [
    "props = round(sccoda_data['coda'].var.n_cells / sccoda_data['coda'].var.n_cells.sum(), 3)\n",
    "\n",
    "plt.figure(figsize=(6,.5), dpi=120)\n",
    "\n",
    "cf=props.cumsum()\n",
    "\n",
    "plt.barh(0, props[0], edgecolor=\"white\", height=0.01)\n",
    "\n",
    "for i in range(1, len(props)):\n",
    "    plt.barh(0, props[i], left=cf[i-1], edgecolor=\"white\", height=0.01, color=palette[i])\n",
    "\n",
    "# Remove y-axis ticks and labels\n",
    "plt.gca().axes.get_yaxis().set_visible(False)\n",
    "\n",
    "# Set x-axis label and title\n",
    "plt.xlabel('Proportion')\n",
    "# Move the x-axis label and title below the plot\n",
    "plt.gca().xaxis.set_label_coords(0.5, -1)\n",
    "plt.gca().title.set_position([0.5, -0.2])\n",
    "plt.xticks(fontsize=11)\n",
    "\n",
    "#plt.ylabel('proportion')\n",
    "#frame1=plt.gca()\n",
    "#frame1.axes.get_xaxis().set_visible(False)\n",
    "plt.xlim(0, 1.0)\n",
    "\n",
    "plt.savefig(\"/scratch_isilon/groups/singlecell/gdeuner/SERPENTINE/figures/TFM/Fig5/barplot_all_main_celltypes.pdf\", dpi=600, format=\"pdf\", bbox_inches=\"tight\")\n",
    "plt.show()"
   ]
  },
  {
   "cell_type": "code",
   "execution_count": null,
   "id": "681eebf0-6691-4d6f-bf81-ec80a63a301a",
   "metadata": {},
   "outputs": [],
   "source": [
    "adata.obs"
   ]
  },
  {
   "cell_type": "code",
   "execution_count": null,
   "id": "98ed8354-a529-4fbe-b86b-83bb15b413b8",
   "metadata": {},
   "outputs": [],
   "source": [
    "# overview of cell type distribution across timepoints\n",
    "\n",
    "plt.rcParams.update({'font.size': 13})\n",
    "\n",
    "for cell_type in cell_types:\n",
    "\n",
    "    if cell_type in [\"cDC\"]:\n",
    "        significance = \"*\"\n",
    "    else:\n",
    "        significance = \"ns\"\n",
    "\n",
    "    fig, ax = plt.subplots(figsize=(2,2), dpi=120)\n",
    "\n",
    "    \n",
    "    sns.boxplot(\n",
    "        x=\"response\", \n",
    "        y=\"Proportion\", \n",
    "        data=plot_df[plot_df[\"Cell type\"] == cell_type],\n",
    "        hue=\"response\", \n",
    "        #liersize=1,\n",
    "        palette=[\"mistyrose\", \"lavender\"], \n",
    "        ax=ax,\n",
    "        vert=True, \n",
    "        patch_artist=True, \n",
    "        meanline=True, \n",
    "        showmeans=True,\n",
    "        showfliers=False,\n",
    "        boxprops=boxprops,\n",
    "        #flierprops=flierprops,\n",
    "        medianprops=medianprops,\n",
    "        meanprops=meanlineprops\n",
    "    )\n",
    "        \n",
    "    \n",
    "    sns.swarmplot(\n",
    "        x=\"response\", \n",
    "        y=\"Proportion\", \n",
    "        data=plot_df[plot_df[\"Cell type\"] == cell_type], \n",
    "        hue=\"patient\",  # Color by \"patient\" variable\n",
    "        palette=\"Spectral\",  # Choose a color palette\n",
    "        dodge=False,  # Separate dots for each level of \"patient\n",
    "        #jitter=False\n",
    "        ax=ax,\n",
    "        size=5,\n",
    "        edgecolor=\"black\",\n",
    "        linewidth=.5,\n",
    "        alpha=1\n",
    "    )\n",
    "\n",
    "    #ax.set_xticks([])\n",
    "    ax.set_title(cell_type+\" - \"+significance)\n",
    "    ax.set_xlabel('ICI Response')\n",
    "    plt.yticks(fontsize = 10) \n",
    "    plt.yticks(fontsize = 10) \n",
    "    \n",
    "    legend = plt.legend(loc='upper right', bbox_to_anchor=(1.8, 1.1), ncol=1, title=\"Patient\", frameon=False)\n",
    "    plt.setp(legend.get_title(),fontsize='12')\n",
    "    plt.tight_layout()\n",
    "    plt.savefig(os.path.join(fig_dir, \"_Basic_Myeloid_Comp_\"+cell_type+\"_boxplot_by_response.png\"), dpi=600, format=\"png\", bbox_inches=\"tight\")\n"
   ]
  },
  {
   "cell_type": "code",
   "execution_count": null,
   "id": "7f832873-3fab-479a-b9e7-2e07a169cf62",
   "metadata": {},
   "outputs": [],
   "source": [
    "# overview of cell type distribution across timepoints\n",
    "\n",
    "plt.rcParams.update({'font.size': 13})\n",
    "\n",
    "for cell_type in cell_types:\n",
    "\n",
    "    if cell_type == \"cDC\":\n",
    "        significance = \"*\"\n",
    "    else:\n",
    "        significance = \"ns\"\n",
    "\n",
    "    fig, ax = plt.subplots(figsize=(2,2), dpi=120)\n",
    "    \n",
    "    sns.boxplot(\n",
    "        x=\"response\", \n",
    "        y=\"Proportion\", \n",
    "        data=plot_df[plot_df[\"Cell type\"] == cell_type],\n",
    "        hue=\"response\", \n",
    "        #liersize=1,\n",
    "        palette=[\"mistyrose\", \"lavender\"], \n",
    "        ax=ax,\n",
    "        vert=True, \n",
    "        patch_artist=True, \n",
    "        meanline=True, \n",
    "        showmeans=True,\n",
    "        showfliers=False,\n",
    "        boxprops=boxprops,\n",
    "        #flierprops=flierprops,\n",
    "        medianprops=medianprops,\n",
    "        meanprops=meanlineprops\n",
    "    )\n",
    "        \n",
    "    \n",
    "    sns.swarmplot(\n",
    "        x=\"response\", \n",
    "        y=\"Proportion\", \n",
    "        data=plot_df[plot_df[\"Cell type\"] == cell_type], \n",
    "        hue=\"Condition\",  # Color by \"patient\" variable\n",
    "        palette=[\"coral\",\"darkviolet\"], \n",
    "        dodge=False,  # Separate dots for each level of \"patient\n",
    "        #jitter=False\n",
    "        ax=ax,\n",
    "        size=5,\n",
    "        edgecolor=\"black\",\n",
    "        linewidth=.5,\n",
    "        alpha=1\n",
    "    )\n",
    "\n",
    "    #ax.set_xticks([])\n",
    "    ax.set_title(cell_type+\" - \"+significance)\n",
    "    ax.set_xlabel('ICI Response')\n",
    "    plt.yticks(fontsize = 10) \n",
    "    plt.yticks(fontsize = 10) \n",
    "    \n",
    "    legend = plt.legend(loc='upper right', bbox_to_anchor=(1.8, 1), ncol=1, title=\"Patient\", frameon=False)\n",
    "    plt.setp(legend.get_title(),fontsize='12')\n",
    "    plt.tight_layout()\n",
    "    plt.savefig(os.path.join(fig_dir, \"_Myeloid_Comp_\"+cell_type+\"_boxplot_by_response_col_by_timepoint.png\"), dpi=600, format=\"png\", bbox_inches=\"tight\")\n"
   ]
  },
  {
   "cell_type": "markdown",
   "id": "ab2574f8-d983-414f-97b6-f39fd7704e93",
   "metadata": {
    "execution": {
     "iopub.execute_input": "2024-03-22T15:40:12.013621Z",
     "iopub.status.busy": "2024-03-22T15:40:12.012831Z",
     "iopub.status.idle": "2024-03-22T15:40:12.016811Z",
     "shell.execute_reply": "2024-03-22T15:40:12.016381Z",
     "shell.execute_reply.started": "2024-03-22T15:40:12.013564Z"
    }
   },
   "source": [
    "# Myeloid Subset scCODA Compositional Analysis - Response Comparison"
   ]
  },
  {
   "cell_type": "markdown",
   "id": "d3abe5d8-a890-4e8f-8ce3-df62a2224785",
   "metadata": {},
   "source": [
    "### Environment Set Up"
   ]
  },
  {
   "cell_type": "code",
   "execution_count": null,
   "id": "f1f54a20-d017-4ab8-af52-bb8d98d3e323",
   "metadata": {},
   "outputs": [],
   "source": [
    "# load libraries\n",
    "import warnings\n",
    "import matplotlib.pyplot as plt\n",
    "import mudata as mu\n",
    "import pertpy as pt\n",
    "import scanpy as sc\n",
    "import numpy as np\n",
    "import pandas as pd\n",
    "import seaborn \n",
    "import os\n",
    "from statannot import add_stat_annotation"
   ]
  },
  {
   "cell_type": "code",
   "execution_count": null,
   "id": "c9302295-92b1-491c-a883-14e273e01df9",
   "metadata": {},
   "outputs": [],
   "source": [
    "# set up figure parameters\n",
    "plt.rcParams['figure.figsize'] = (6, 4)\n",
    "sc.settings.verbosity = 0\n",
    "sc.settings.set_figure_params(dpi=300, dpi_save=300, facecolor=\"white\", frameon=False, figsize=(4,4))"
   ]
  },
  {
   "cell_type": "code",
   "execution_count": null,
   "id": "36c3b742-c44a-4fd1-9660-14a4fa335cdd",
   "metadata": {},
   "outputs": [],
   "source": [
    "# remove warnings\n",
    "import warnings\n",
    "warnings.filterwarnings('ignore')"
   ]
  },
  {
   "cell_type": "code",
   "execution_count": null,
   "id": "51d907d4-df64-4a5d-beeb-18b2827f5e9c",
   "metadata": {},
   "outputs": [],
   "source": [
    "# set up dirs\n",
    "work_dir = \"/scratch_isilon/groups/singlecell/gdeuner/SERPENTINE/\"\n",
    "fig_dir = os.path.join(work_dir, \"figures\", \"combined\", \"Myeloid\", \"compositional_analysis\", \"response_comp/\")\n",
    "sc.settings.figdir = os.path.join(work_dir, \"figures\", \"combined\", \"Myeloid\", \"compositional_analysis\", \"response_comp/\")"
   ]
  },
  {
   "cell_type": "code",
   "execution_count": null,
   "id": "20a25bfb-9ff9-42ee-9db4-24a179294e76",
   "metadata": {},
   "outputs": [],
   "source": [
    "# read anndata object\n",
    "adata = sc.read_h5ad(os.path.join(work_dir, \"data\", \"outputdata\", \"combined\", \"Combined_SCR_CO2_Myeloid_annotated_18-04-24.h5ad\"))"
   ]
  },
  {
   "cell_type": "code",
   "execution_count": null,
   "id": "4d1568f7-1dfd-4e0c-b97d-92af3ea9622b",
   "metadata": {},
   "outputs": [],
   "source": [
    "# create condition variable\n",
    "adata"
   ]
  },
  {
   "cell_type": "markdown",
   "id": "b7e3860d-4de9-4103-a216-8ba3c747cb4f",
   "metadata": {},
   "source": [
    "## Model Setup & Inference"
   ]
  },
  {
   "cell_type": "code",
   "execution_count": null,
   "id": "c1dfe446-e25f-4435-818b-5b5595c4a5db",
   "metadata": {},
   "outputs": [],
   "source": [
    "# initiate scCODA model\n",
    "sccoda_model = pt.tl.Sccoda()\n",
    "sccoda_data = sccoda_model.load(\n",
    "    adata,\n",
    "    type=\"cell_level\",\n",
    "    generate_sample_level=True,\n",
    "    cell_type_identifier=\"Annotation_2.0\",\n",
    "    sample_identifier=\"sample\",\n",
    "    covariate_obs=[\"subproject\", \"patient\", \"timepoint\", \"response\", \"ICI_status\", \"Condition\"],\n",
    "        \n",
    ")\n",
    "print(sccoda_data)\n",
    "print(sccoda_data[\"coda\"].X)\n",
    "print(sccoda_data[\"coda\"].obs)"
   ]
  },
  {
   "cell_type": "code",
   "execution_count": null,
   "id": "2edc6730-679e-480b-8200-5895b20bb08b",
   "metadata": {},
   "outputs": [],
   "source": [
    "pt.pl.coda.boxplots(sccoda_data, \n",
    "                    modality_key=\"coda\", \n",
    "                    feature_name=\"response\", \n",
    "                    add_dots=True,\n",
    "                    figsize=[6,6],\n",
    "                    level_order=[\"PD\", \"SD\"],\n",
    "                    cmap=[\"red\",\"blue\"]\n",
    "                   )\n",
    "plt.show()"
   ]
  },
  {
   "cell_type": "code",
   "execution_count": null,
   "id": "21ba82aa-2667-44e6-b78d-b834cd2bc51a",
   "metadata": {},
   "outputs": [],
   "source": [
    "# prepare the model\n",
    "sccoda_data = sccoda_model.prepare(\n",
    "    sccoda_data,\n",
    "    modality_key=\"coda\",\n",
    "    formula=\"response\", #condition = timepoint\n",
    "    reference_cell_type=\"automatic\",\n",
    ")\n",
    "sccoda_data[\"coda\"]"
   ]
  },
  {
   "cell_type": "code",
   "execution_count": null,
   "id": "501faa56-ab5b-49ad-84af-52bffff81f47",
   "metadata": {},
   "outputs": [],
   "source": [
    "# run MCMC\n",
    "sccoda_model.run_nuts(sccoda_data, modality_key=\"coda\")\n",
    "sccoda_data[\"coda\"]"
   ]
  },
  {
   "cell_type": "markdown",
   "id": "ef8fbe86-5782-459f-a04b-6f7b488c3730",
   "metadata": {},
   "source": [
    "## Result Intepretation"
   ]
  },
  {
   "cell_type": "code",
   "execution_count": null,
   "id": "444de283-fdf4-49b2-bc1c-998b23a978bc",
   "metadata": {},
   "outputs": [],
   "source": [
    "# see most relevant information\n",
    "sccoda_model.summary(sccoda_data, modality_key=\"coda\")"
   ]
  },
  {
   "cell_type": "code",
   "execution_count": null,
   "id": "71abad40-b6a0-42b9-8173-f5a48a42527e",
   "metadata": {},
   "outputs": [],
   "source": [
    "sccoda_model.credible_effects(sccoda_data, modality_key=\"coda\")"
   ]
  },
  {
   "cell_type": "markdown",
   "id": "544bd512-fb6f-4223-a6ff-4adc4e82d0b5",
   "metadata": {},
   "source": [
    "### Adjust FDR"
   ]
  },
  {
   "cell_type": "code",
   "execution_count": null,
   "id": "c43195b9-c345-430d-86eb-83b8e11754ca",
   "metadata": {
    "scrolled": true
   },
   "outputs": [],
   "source": [
    "FDRs = [0.05, 0.1, 0.2, 0.3, 0.4, 0.5]\n",
    "\n",
    "for FDR in FDRs:\n",
    "    print(\"FDR: \", str(FDR))\n",
    "    sccoda_model.set_fdr(sccoda_data, modality_key=\"coda\", est_fdr=FDR)\n",
    "    sccoda_model.summary(sccoda_data, modality_key=\"coda\")"
   ]
  },
  {
   "cell_type": "code",
   "execution_count": null,
   "id": "3a198d8f-9b20-4deb-9d07-57af6c07ce79",
   "metadata": {},
   "outputs": [],
   "source": [
    "# choose FDR\n",
    "sccoda_model.set_fdr(sccoda_data, modality_key=\"coda\", est_fdr=0.2)\n",
    "sccoda_model.summary(sccoda_data, modality_key=\"coda\")"
   ]
  },
  {
   "cell_type": "markdown",
   "id": "b3bc2caf-1d7c-4dc2-9839-d101837c9fc7",
   "metadata": {},
   "source": [
    "## Save Results"
   ]
  },
  {
   "cell_type": "code",
   "execution_count": null,
   "id": "3785537e-4c21-4b08-bfa1-7e385ad5360c",
   "metadata": {},
   "outputs": [],
   "source": [
    "#sccoda_data.write_h5mu(os.path.join(work_dir, \"data\", \"outputdata\", \"combined\", \"Myeloid_Combined_SCR_CO2_immune_scCODA_timepoint+response_03-05-24.h5mu\"))"
   ]
  },
  {
   "cell_type": "code",
   "execution_count": null,
   "id": "a6e48a40-973b-48cd-b10a-25c011d89572",
   "metadata": {},
   "outputs": [],
   "source": [
    "test_model = pt.tl.Sccoda()\n",
    "test_model.get_intercept_df(sccoda_data, modality_key=\"coda\")"
   ]
  },
  {
   "cell_type": "code",
   "execution_count": null,
   "id": "d9394ecd-625c-47c6-8b2a-41b61524e9c3",
   "metadata": {},
   "outputs": [],
   "source": [
    "test_model.get_intercept_df(sccoda_data, modality_key=\"coda\")"
   ]
  },
  {
   "cell_type": "code",
   "execution_count": null,
   "id": "746db3fc-bed3-452e-8939-fb42021de9cd",
   "metadata": {},
   "outputs": [],
   "source": [
    "effect = test_model.get_effect_df(sccoda_data, modality_key=\"coda\")\n",
    "effect"
   ]
  },
  {
   "cell_type": "code",
   "execution_count": null,
   "id": "10275193-7cc3-4a27-94cd-e98611623f1a",
   "metadata": {},
   "outputs": [],
   "source": [
    "sccoda_data[\"coda\"].varm[\"intercept_df\"]"
   ]
  },
  {
   "cell_type": "markdown",
   "id": "a0f743e8-19b9-49bf-af55-fc35279eb6bd",
   "metadata": {},
   "source": [
    "## Visualization"
   ]
  },
  {
   "cell_type": "code",
   "execution_count": null,
   "id": "d86e026d-c99c-46e7-80e0-7961e174bb7f",
   "metadata": {},
   "outputs": [],
   "source": [
    "# visualize effects (significant changes in cell type composition)\n",
    "plot=pt.pl.coda.effects_barplot(sccoda_data, \n",
    "                           modality_key=\"coda\", \n",
    "                           #parameter=\"timepoint\",\n",
    "                           #figsize=[3,3],\n",
    "                           dpi=300)\n",
    "plt.xticks(fontsize=8) \n",
    "plt.yticks(fontsize=10)  \n",
    "plt.savefig(os.path.join(work_dir, \"figures\", \"TFM\", \"Fig5\", \"Myeloid_Comp_Significant_Log2FC_response.pdf\"), dpi=300, format=\"pdf\", bbox_inches=\"tight\")"
   ]
  },
  {
   "cell_type": "code",
   "execution_count": null,
   "id": "da6052ea-bdd0-4692-8f73-8c8b6176b437",
   "metadata": {},
   "outputs": [],
   "source": [
    "# visualize effects (significant changes in cell type composition)\n",
    "#plot=pt.pl.coda.effects_barplot(sccoda_data, \n",
    "#                           modality_key=\"coda\", \n",
    "#                           parameter=\"Final Parameter\",\n",
    "#                           figsize=[3,3])\n",
    "#plt.savefig(os.path.join(fig_dir, \"Myeloid_Comp_Significant_Celltypes_Effects.png\"), dpi=600, format=\"png\", bbox_inches=\"tight\")"
   ]
  },
  {
   "cell_type": "code",
   "execution_count": null,
   "id": "d1f088f9-9403-4e5c-8f0d-621b7585124d",
   "metadata": {},
   "outputs": [],
   "source": [
    "# define cell types that have an effect\n",
    "#effect_cell_types = [\"CD4 T Central Memory\", \"CD4 T Helper/Exhausted\", \"CD8 T TRM PreExhausted\"]"
   ]
  },
  {
   "cell_type": "code",
   "execution_count": null,
   "id": "ffd469cd-e133-47e6-a50f-6f45aa388445",
   "metadata": {},
   "outputs": [],
   "source": [
    "sccoda_data['coda'].var"
   ]
  },
  {
   "cell_type": "code",
   "execution_count": null,
   "id": "7d54c5a0-c3b9-4e03-a544-2e5b61299b21",
   "metadata": {},
   "outputs": [],
   "source": [
    "# some booxplot arguments to customize the plot\n",
    "boxprops = dict(linestyle='-', linewidth=1, edgecolor='black')\n",
    "flierprops = dict(marker='o', markerfacecolor='none', #markersize=12,\n",
    "                  markeredgecolor='black')\n",
    "medianprops = dict(linestyle='-', linewidth=.8, color='black')\n",
    "#meanpointprops = dict(marker='D', markeredgecolor='black',markerfacecolor='black')\n",
    "meanlineprops = dict(linestyle='--', linewidth=.8, color='black')\n"
   ]
  },
  {
   "cell_type": "code",
   "execution_count": null,
   "id": "3ea9313b-a8b0-418a-af76-42cf289cc17f",
   "metadata": {},
   "outputs": [],
   "source": [
    "# define cell types for plotting\n",
    "cell_types = sccoda_data['coda'].var_names.tolist()\n",
    "print(cell_types)"
   ]
  },
  {
   "cell_type": "code",
   "execution_count": null,
   "id": "aa42db9a-016b-4c86-9927-2bb354e188b1",
   "metadata": {},
   "outputs": [],
   "source": [
    "'''\n",
    "plot = pt.pl.coda.boxplots(\n",
    "        sccoda_data,\n",
    "        modality_key=\"coda\",\n",
    "        feature_name=\"patient\",\n",
    "        figsize=(8,4),\n",
    "        add_dots=False,\n",
    "        plot_facets=False, \n",
    "        args_boxplot={\"vert\":True, \n",
    "                    \"patch_artist\":True, \n",
    "                    \"meanline\":True, \n",
    "                    \"showmeans\":True,\n",
    "                    \"boxprops\":boxprops,\n",
    "                    \"flierprops\":flierprops,\n",
    "                    \"medianprops\":medianprops,\n",
    "                    \"meanprops\":meanlineprops,\n",
    "                    },\n",
    "        cmap=\"Spectral\"\n",
    "        )\n",
    "plt.xticks(fontsize=10)\n",
    "plt.savefig(os.path.join(fig_dir, \"Comp_all_boxplot_by_patient.png\"), dpi=300, format=\"png\", bbox_inches=\"tight\")\n",
    "'''"
   ]
  },
  {
   "cell_type": "code",
   "execution_count": null,
   "id": "25cad623-954f-4b0d-a007-75cef1575d76",
   "metadata": {},
   "outputs": [],
   "source": [
    "effect[\"Final Parameter\"]"
   ]
  },
  {
   "cell_type": "code",
   "execution_count": null,
   "id": "264f92ae-cca5-418e-bc84-129a4a26f3b8",
   "metadata": {},
   "outputs": [],
   "source": [
    "## import function to compute stats\n",
    "#from statannot import add_stat_annotation\n",
    "#from .utils_statannot import raise_expected_got, assert_is_in"
   ]
  },
  {
   "cell_type": "code",
   "execution_count": null,
   "id": "20052f75-2920-4450-affb-c4f6bd3823be",
   "metadata": {},
   "outputs": [],
   "source": [
    "feature_name=[\"Condition\", \"response\", \"patient\"]\n",
    "data=sccoda_data['coda']\n",
    "\n",
    "sample_sums = np.sum(data.X, axis=1, keepdims=True)\n",
    "X = data.X/sample_sums\n",
    "value_name = \"Proportion\"\n",
    "\n",
    "count_df = pd.DataFrame(X, columns=data.var.index, index=data.obs.index).\\\n",
    "        merge(data.obs[feature_name], left_index=True, right_index=True)\n",
    "plot_df = pd.melt(count_df, id_vars=feature_name, var_name=\"Cell type\", value_name=value_name)\n",
    "if cell_types is not None:\n",
    "    plot_df = plot_df[plot_df[\"Cell type\"].isin(cell_types)]"
   ]
  },
  {
   "cell_type": "code",
   "execution_count": null,
   "id": "fa7fe75d-d01a-48e2-8957-7b937a8c197e",
   "metadata": {},
   "outputs": [],
   "source": [
    "plot_df"
   ]
  },
  {
   "cell_type": "code",
   "execution_count": null,
   "id": "30e3bee1-1574-416b-ac5b-9d607e6f71a0",
   "metadata": {},
   "outputs": [],
   "source": [
    "effect[\"Final Parameter\"]"
   ]
  },
  {
   "cell_type": "code",
   "execution_count": null,
   "id": "7772ad2e-9a9f-47e1-835d-a83464826ba7",
   "metadata": {},
   "outputs": [],
   "source": [
    "# overview of cell type distribution across timepoints\n",
    "\n",
    "plt.rcParams.update({'font.size': 13})\n",
    "\n",
    "for cell_type in cell_types:\n",
    "\n",
    "    if cell_type in [\"cDC2\", \"Angio TAM\", \"Angio TAM-like\", \"CD16 Mono\"]:\n",
    "\n",
    "    \n",
    "        fig, ax = plt.subplots(figsize=(2,2), dpi=120)\n",
    "        \n",
    "        sns.boxplot(\n",
    "            x=\"response\", \n",
    "            y=\"Proportion\", \n",
    "            data=plot_df[plot_df[\"Cell type\"] == cell_type],\n",
    "            hue=\"response\", \n",
    "            #liersize=1,\n",
    "            palette=[\"mistyrose\", \"lavender\"], \n",
    "            ax=ax,\n",
    "            vert=True, \n",
    "            patch_artist=True, \n",
    "            meanline=True, \n",
    "            showmeans=True,\n",
    "            showfliers=False,\n",
    "            boxprops=boxprops,\n",
    "            #flierprops=flierprops,\n",
    "            medianprops=medianprops,\n",
    "            meanprops=meanlineprops\n",
    "        )\n",
    "            \n",
    "        \n",
    "        sns.swarmplot(\n",
    "            x=\"response\", \n",
    "            y=\"Proportion\", \n",
    "            data=plot_df[plot_df[\"Cell type\"] == cell_type], \n",
    "            hue=\"patient\",  # Color by \"patient\" variable\n",
    "            palette=\"Spectral\",  # Choose a color palette\n",
    "            dodge=False,  # Separate dots for each level of \"patient\n",
    "            #jitter=False\n",
    "            ax=ax,\n",
    "            size=5,\n",
    "            edgecolor=\"black\",\n",
    "            linewidth=.5,\n",
    "            alpha=1\n",
    "        )\n",
    "    \n",
    "        plt.title(cell_type, fontweight=\"bold\", pad=20)\n",
    "        plt.xlabel('Response', labelpad=10)\n",
    "        plt.ylabel('Proportion', labelpad=10)\n",
    "        plt.yticks(fontsize = 10) \n",
    "        plt.xticks(fontsize = 10) \n",
    "        #plt.set_xticks([0,1,2,3,4], [\"PD_01\", \"PD_02\", \"PD_03\", \"SD_01\", \"PD_04\"], ha=\"center\", rotation=30)\n",
    "\n",
    "        \n",
    "        legend = plt.legend(loc='right', bbox_to_anchor=(2, .5), ncol=1, title=\"Patient\", frameon=True)\n",
    "        plt.setp(legend.get_title(),fontsize='12')\n",
    "        plt.tight_layout()\n",
    "\n",
    "        \n",
    "        plt.savefig(os.path.join(\"/scratch_isilon/groups/singlecell/gdeuner/SERPENTINE/figures/ISCO24_poster/Fig5\", \"Myeloid_Comp_\"+cell_type+\"_boxplot_by_response.png\"), dpi=600, format=\"png\", bbox_inches=\"tight\")\n",
    "\n",
    "\n",
    "        "
   ]
  },
  {
   "cell_type": "code",
   "execution_count": null,
   "id": "7da3690e-b851-4d91-ae8f-49bfd5854b71",
   "metadata": {},
   "outputs": [],
   "source": [
    "# overview of cell type distribution across timepoints\n",
    "\n",
    "plt.rcParams.update({'font.size': 13})\n",
    "\n",
    "for cell_type in cell_types:\n",
    "\n",
    "    if cell_type in [\"cDC2\", \"Angio TAM\", \"Angio TAM-like\", \"CD16 Mono\"]:\n",
    "        significance = \"*\"\n",
    "    else:\n",
    "        significance = \"ns\"\n",
    "\n",
    "    fig, ax = plt.subplots(figsize=(2,2), dpi=120)\n",
    "    \n",
    "    sns.boxplot(\n",
    "        x=\"response\", \n",
    "        y=\"Proportion\", \n",
    "        data=plot_df[plot_df[\"Cell type\"] == cell_type],\n",
    "        hue=\"response\", \n",
    "        #liersize=1,\n",
    "        palette=[\"mistyrose\", \"lavender\"], \n",
    "        ax=ax,\n",
    "        vert=True, \n",
    "        patch_artist=True, \n",
    "        meanline=True, \n",
    "        showmeans=True,\n",
    "        showfliers=False,\n",
    "        boxprops=boxprops,\n",
    "        #flierprops=flierprops,\n",
    "        medianprops=medianprops,\n",
    "        meanprops=meanlineprops\n",
    "    )\n",
    "        \n",
    "    \n",
    "    sns.swarmplot(\n",
    "        x=\"response\", \n",
    "        y=\"Proportion\", \n",
    "        data=plot_df[plot_df[\"Cell type\"] == cell_type], \n",
    "        hue=\"patient\",  # Color by \"patient\" variable\n",
    "        palette=\"Spectral\",  # Choose a color palette\n",
    "        dodge=False,  # Separate dots for each level of \"patient\n",
    "        #jitter=False\n",
    "        ax=ax,\n",
    "        size=5,\n",
    "        edgecolor=\"black\",\n",
    "        linewidth=.5,\n",
    "        alpha=1\n",
    "    )\n",
    "\n",
    "    #ax.set_xticks([])\n",
    "    ax.set_title(cell_type+\" - \"+significance)\n",
    "    ax.set_xlabel('ICI Response')\n",
    "    plt.yticks(fontsize = 10) \n",
    "    plt.yticks(fontsize = 10) \n",
    "    \n",
    "    legend = plt.legend(loc='upper right', bbox_to_anchor=(1.8, 1), ncol=1, title=\"Patient\", frameon=False)\n",
    "    plt.setp(legend.get_title(),fontsize='12')\n",
    "    plt.tight_layout()\n",
    "    plt.savefig(os.path.join(fig_dir, \"_Myeloid_Comp_\"+cell_type+\"_boxplot_by_response_col_by_patient.png\"), dpi=600, format=\"png\", bbox_inches=\"tight\")\n"
   ]
  },
  {
   "cell_type": "code",
   "execution_count": null,
   "id": "354d093e-e5a3-4d3b-b268-9e6691a30d91",
   "metadata": {},
   "outputs": [],
   "source": [
    "# overview of cell type distribution across timepoints\n",
    "\n",
    "plt.rcParams.update({'font.size': 13})\n",
    "\n",
    "for cell_type in cell_types:\n",
    "\n",
    "    if cell_type in [\"cDC2\", \"Angio TAM\", \"Angio TAM-like\", \"CD16 Mono\"]:\n",
    "        significance = \"*\"\n",
    "    else:\n",
    "        significance = \"ns\"\n",
    "\n",
    "    fig, ax = plt.subplots(figsize=(2,2), dpi=120)\n",
    "    \n",
    "    sns.boxplot(\n",
    "        x=\"response\", \n",
    "        y=\"Proportion\", \n",
    "        data=plot_df[plot_df[\"Cell type\"] == cell_type],\n",
    "        hue=\"response\", \n",
    "        #liersize=1,\n",
    "        palette=[\"mistyrose\", \"lavender\"], \n",
    "        ax=ax,\n",
    "        vert=True, \n",
    "        patch_artist=True, \n",
    "        meanline=True, \n",
    "        showmeans=True,\n",
    "        showfliers=False,\n",
    "        boxprops=boxprops,\n",
    "        #flierprops=flierprops,\n",
    "        medianprops=medianprops,\n",
    "        meanprops=meanlineprops\n",
    "    )\n",
    "        \n",
    "    \n",
    "    sns.swarmplot(\n",
    "        x=\"response\", \n",
    "        y=\"Proportion\", \n",
    "        data=plot_df[plot_df[\"Cell type\"] == cell_type], \n",
    "        hue=\"Condition\",  # Color by \"patient\" variable\n",
    "        palette=[\"coral\",\"darkviolet\"], \n",
    "        dodge=False,  # Separate dots for each level of \"patient\n",
    "        #jitter=False\n",
    "        ax=ax,\n",
    "        size=5,\n",
    "        edgecolor=\"black\",\n",
    "        linewidth=.5,\n",
    "        alpha=1\n",
    "    )\n",
    "\n",
    "    #ax.set_xticks([])\n",
    "    ax.set_title(cell_type+\" - \"+significance)\n",
    "    ax.set_xlabel('ICI Response')\n",
    "    plt.yticks(fontsize = 10) \n",
    "    plt.yticks(fontsize = 10) \n",
    "    \n",
    "    legend = plt.legend(loc='upper right', bbox_to_anchor=(1.8, 1), ncol=1, title=\"Timepoint\", frameon=False)\n",
    "    plt.setp(legend.get_title(),fontsize='12')\n",
    "    plt.tight_layout()\n",
    "    plt.savefig(os.path.join(fig_dir, \"_Myeloid_Comp_\"+cell_type+\"_boxplot_by_response_col_by_timepoint.pdf\"), dpi=600, format=\"png\", bbox_inches=\"tight\")\n",
    "\n"
   ]
  },
  {
   "cell_type": "code",
   "execution_count": null,
   "id": "14bb771c-28bf-4490-bcc7-cd34c4cb153d",
   "metadata": {},
   "outputs": [],
   "source": [
    "patient_mapping = {\n",
    "    '01': 'P01',\n",
    "    '02': 'P02',\n",
    "    '03': 'P03',\n",
    "    '08': 'P04',\n",
    "    '10': 'P05'\n",
    "}\n",
    "plot_df['new_patient'] = plot_df['patient'].map(patient_mapping)\n",
    "print(plot_df)"
   ]
  },
  {
   "cell_type": "code",
   "execution_count": null,
   "id": "c8faa036-913f-45e1-a1a6-9db663cb9d19",
   "metadata": {},
   "outputs": [],
   "source": [
    "# plots for Poster/Thesis Figures\n",
    "# overview of cell type distribution across timepoints\n",
    "plt.rcParams.update({'font.size': 13})\n",
    "sns.set_style(rc = {'axes.facecolor': 'lightsteelblue'})\n",
    "\n",
    "#effect_cell_types.append(\"CD56hi CD16lo NK\")\n",
    "\n",
    "for cell_type in cell_types:\n",
    "\n",
    "    #if cell_type in effect_cell_types:\n",
    "    if 1 == True:\n",
    "    \n",
    "        fig, ax = plt.subplots(figsize=(2,2), dpi=120)\n",
    "        \n",
    "        sns.boxplot(\n",
    "            x=\"Condition\", \n",
    "            y=\"Proportion\", \n",
    "            data=plot_df[plot_df[\"Cell type\"] == cell_type],\n",
    "            hue=\"Condition\", \n",
    "            #liersize=1,\n",
    "            palette=[\"coral\",\"darkviolet\"], \n",
    "            order=[\"T0/-ICI\",\"T1/+ICI\"],\n",
    "            ax=ax,\n",
    "            vert=True, \n",
    "            patch_artist=True, \n",
    "            meanline=True, \n",
    "            showmeans=True,\n",
    "            showfliers=False,\n",
    "            boxprops=boxprops,\n",
    "            #flierprops=flierprops,\n",
    "            medianprops=medianprops,\n",
    "            meanprops=meanlineprops\n",
    "        )\n",
    "            \n",
    "        \n",
    "        sns.swarmplot(\n",
    "            x=\"Condition\", \n",
    "            y=\"Proportion\", \n",
    "            data=plot_df[plot_df[\"Cell type\"] == cell_type], \n",
    "            hue=\"response\",  # Color by \"patient\" variable\n",
    "            palette=[\"red\", \"blue\"],  # Choose a color palette\n",
    "            dodge=False,  # Separate dots for each level of \"patient\n",
    "            #jitter=False\n",
    "            ax=ax,\n",
    "            size=5,\n",
    "            edgecolor=\"black\",\n",
    "            linewidth=.5,\n",
    "            alpha=1\n",
    "        )\n",
    "\n",
    "        sns.pointplot(\n",
    "            data=plot_df[plot_df[\"Cell type\"] == cell_type], \n",
    "            x=\"Condition\", \n",
    "            y=\"Proportion\", \n",
    "            hue=\"patient\", \n",
    "            legend= False,\n",
    "            palette=\"Spectral\",\n",
    "            linewidth=1.5,\n",
    "            errwidth=1,\n",
    "            markers='|',\n",
    "            #errorbar=None,\n",
    "            join=True\n",
    "        )\n",
    "    \n",
    "        plt.title(cell_type, pad=18)\n",
    "        plt.xlabel('', labelpad=10)\n",
    "        plt.ylabel('', labelpad=10)\n",
    "        plt.yticks(fontsize = 10) \n",
    "        plt.xticks(fontsize = 10) \n",
    "        #plt.set_xticks([0,1,2,3,4], [\"PD_01\", \"PD_02\", \"PD_03\", \"SD_01\", \"PD_04\"], ha=\"center\", rotation=30)\n",
    "    \n",
    "            \n",
    "        legend = plt.legend(loc='right', bbox_to_anchor=(2, .5), ncol=1, title=\"Response\", frameon=True, facecolor=\"white\")\n",
    "        plt.setp(legend.get_title(),fontsize='12')\n",
    "        plt.tight_layout()\n",
    "  \n",
    "        xmin, xmax, ymin, ymax = plt.axis()\n",
    "        plt.ylim((0, ymax + (0.66)*ymax))\n",
    "\n",
    "        if cell_type == \"CD4 T CM/EarlyActivated\":\n",
    "            cell_type = \"CD4 T CM-EarlyActivated\"\n",
    "        \n",
    "        plt.savefig(os.path.join(\"/scratch_isilon/groups/singlecell/gdeuner/SERPENTINE/figures/TFM/Fig5\", \"Myeloid_Comp_\"+cell_type+\"_boxplot_by_condition_colby_response.pdf\"), dpi=600, format=\"pdf\", bbox_inches=\"tight\")"
   ]
  }
 ],
 "metadata": {
  "kernelspec": {
   "display_name": "Python 3 (ipykernel)",
   "language": "python",
   "name": "python3"
  },
  "language_info": {
   "codemirror_mode": {
    "name": "ipython",
    "version": 3
   },
   "file_extension": ".py",
   "mimetype": "text/x-python",
   "name": "python",
   "nbconvert_exporter": "python",
   "pygments_lexer": "ipython3",
   "version": "3.9.18"
  }
 },
 "nbformat": 4,
 "nbformat_minor": 5
}
