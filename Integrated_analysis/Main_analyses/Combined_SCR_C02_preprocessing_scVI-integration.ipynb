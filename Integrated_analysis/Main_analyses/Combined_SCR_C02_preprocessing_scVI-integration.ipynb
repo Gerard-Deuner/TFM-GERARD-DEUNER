{
 "cells": [
  {
   "cell_type": "markdown",
   "id": "538910ef-da7a-469f-bdb3-dd45d4e2dc53",
   "metadata": {},
   "source": [
    "## Combined Preprocessing + Integration"
   ]
  },
  {
   "cell_type": "code",
   "execution_count": null,
   "id": "d425362d-497a-4e99-a605-ec1c6b50f2c6",
   "metadata": {},
   "outputs": [],
   "source": [
    "# load packages\n",
    "import sys\n",
    "import scanpy as sc\n",
    "import os\n",
    "import sys\n",
    "import numpy as np\n",
    "import matplotlib.pyplot as plt\n",
    "import pandas as pd\n",
    "import scvi\n",
    "import seaborn as sns\n",
    "import harmonypy\n",
    "#import scgen"
   ]
  },
  {
   "cell_type": "code",
   "execution_count": null,
   "id": "a228f8bc-480c-49f5-8dc5-85e3193798db",
   "metadata": {},
   "outputs": [],
   "source": [
    "sc.__version__"
   ]
  },
  {
   "cell_type": "code",
   "execution_count": null,
   "id": "c421e923-0a46-46af-ba57-4484c0f6dc0e",
   "metadata": {},
   "outputs": [],
   "source": [
    "# load R interface\n",
    "import anndata2ri\n",
    "import logging\n",
    "\n",
    "import rpy2.rinterface_lib.callbacks as rcb\n",
    "import rpy2.robjects as ro\n",
    "\n",
    "rcb.logger.setLevel(logging.ERROR)\n",
    "ro.pandas2ri.activate()\n",
    "anndata2ri.activate()\n",
    "\n",
    "%load_ext rpy2.ipython"
   ]
  },
  {
   "cell_type": "code",
   "execution_count": null,
   "id": "22d43be1-f61c-4a1b-aeef-5cf2dfe56fb0",
   "metadata": {},
   "outputs": [],
   "source": [
    "# import helper functions\n",
    "import helper_functions"
   ]
  },
  {
   "cell_type": "code",
   "execution_count": null,
   "id": "4b69b427-3fe3-4dce-90e2-d5fe8bad8578",
   "metadata": {},
   "outputs": [],
   "source": [
    "# set up figure parameters\n",
    "plt.rcParams['figure.figsize'] = (6, 4)\n",
    "sc.settings.verbosity = 0\n",
    "sc.settings.set_figure_params(\n",
    "    dpi=300,\n",
    "    facecolor=\"white\",\n",
    "    frameon=False,\n",
    ")"
   ]
  },
  {
   "cell_type": "code",
   "execution_count": null,
   "id": "d3799f05-a823-4669-8775-d65ac2bdd080",
   "metadata": {},
   "outputs": [],
   "source": [
    "# Set the default figure size\n",
    "%config InlineBackend.figure_format = 'retina'  # Use 'retina' for high-resolution figures\n",
    "%config InlineBackend.rc = {'figure.figsize': (6.0, 4.0)}  # Set the size of figures (width, height)"
   ]
  },
  {
   "cell_type": "code",
   "execution_count": null,
   "id": "97ebfa4f-e274-4411-9988-73ed24d06747",
   "metadata": {},
   "outputs": [],
   "source": [
    "# remove warnings\n",
    "import warnings\n",
    "warnings.filterwarnings('ignore')"
   ]
  },
  {
   "cell_type": "code",
   "execution_count": null,
   "id": "1351a6f2-8897-4cec-bcce-257be2043bf6",
   "metadata": {},
   "outputs": [],
   "source": [
    "# set up dirs\n",
    "work_dir = \"/scratch_isilon/groups/singlecell/gdeuner/SERPENTINE/\"\n",
    "fig_dir = os.path.join(work_dir, \"figures\", \"combined\", \"main_analysis\", \"final_figures/\")\n",
    "sc.settings.figdir = os.path.join(work_dir, \"figures\", \"combined\", \"main_analysis\", \"final_figures/\")\n",
    "sc.set_figure_params(dpi=120, dpi_save=300, format='png')"
   ]
  },
  {
   "cell_type": "code",
   "execution_count": null,
   "id": "94cf2ba4-4a99-4aa6-92fe-5a9fac08e8a8",
   "metadata": {
    "scrolled": true
   },
   "outputs": [],
   "source": [
    "# import data\n",
    "adata = sc.read_h5ad(os.path.join(work_dir, \"data\", \"outputdata\", \"Combined_SCR_CO2_annotated_2.0_TCR_14-02-24.h5ad\"))"
   ]
  },
  {
   "cell_type": "markdown",
   "id": "5fe849b2-a7af-446e-a7bd-6eacea7cf6d2",
   "metadata": {},
   "source": [
    "### Standardize Metadata"
   ]
  },
  {
   "cell_type": "markdown",
   "id": "3cf1b379-7fec-4dd2-ba68-d55754603863",
   "metadata": {},
   "source": [
    "Here I standardize the annotation performed in a patient-specific manner. Also correct for variable values that differ across patients such as timepoint and patient. Create subproject variable: Project + Patient + Timepoint. "
   ]
  },
  {
   "cell_type": "code",
   "execution_count": null,
   "id": "0c5936e1-a74e-4545-9444-8fbe447f4239",
   "metadata": {},
   "outputs": [],
   "source": [
    "# standardize annotations\n",
    "adata.obs[\"Annotation_2.0\"].unique()"
   ]
  },
  {
   "cell_type": "code",
   "execution_count": null,
   "id": "4bb1531a-cf8e-43f4-b24a-cd4721776bad",
   "metadata": {},
   "outputs": [],
   "source": [
    "adata.obs[\"Annotation_2.0\"] = adata.obs[\"Annotation_2.0\"].replace({\"B cells\": \"B Cells\"})\n",
    "adata.obs[\"Annotation_2.0\"] = adata.obs[\"Annotation_2.0\"].replace({\"Plasma cells\": \"Plasma Cells\"})\n",
    "adata.obs[\"Annotation_2.0\"] = adata.obs[\"Annotation_2.0\"].replace({\"MAST\": \"Mast\"})"
   ]
  },
  {
   "cell_type": "code",
   "execution_count": null,
   "id": "ae54ca0c-58c8-46d4-90db-229a277a360d",
   "metadata": {},
   "outputs": [],
   "source": [
    "adata.obs[\"Annotation_1.0\"].unique()"
   ]
  },
  {
   "cell_type": "code",
   "execution_count": null,
   "id": "5d5bacce-1d1d-4050-9524-3222b97357d3",
   "metadata": {},
   "outputs": [],
   "source": [
    "adata.obs[\"Annotation_1.0\"] = adata.obs[\"Annotation_1.0\"].replace({\"B cells\": \"B Cells\"})\n",
    "adata.obs[\"Annotation_1.0\"] = adata.obs[\"Annotation_1.0\"].replace({\"T cells\": \"T Cells\"})\n",
    "adata.obs[\"Annotation_1.0\"] = adata.obs[\"Annotation_1.0\"].replace({\"Plasma cells\": \"Plasma Cells\"})"
   ]
  },
  {
   "cell_type": "code",
   "execution_count": null,
   "id": "d13f883f-2d8f-42c4-8d4f-2f976b333c8b",
   "metadata": {},
   "outputs": [],
   "source": [
    "# adapt format \n",
    "adata.obs[\"Annotation_2.0\"]=adata.obs[\"Annotation_2.0\"].astype(\"category\")\n",
    "adata.obs[\"Annotation_1.0\"]=adata.obs[\"Annotation_1.0\"].astype(\"category\")\n",
    "adata.obs[\"sample\"]=adata.obs[\"sample\"].astype(\"category\")"
   ]
  },
  {
   "cell_type": "code",
   "execution_count": null,
   "id": "42d9104c-1f8a-4183-aa4e-d1bbef3f9aa6",
   "metadata": {},
   "outputs": [],
   "source": [
    "adata.__dict__[\"_raw\"].__dict__[\"_var\"] = adata.__dict__[\"_raw\"].__dict__[\"_var\"].rename(columns={\"_index\": \"features\"})"
   ]
  },
  {
   "cell_type": "code",
   "execution_count": null,
   "id": "ae03b027-f299-4253-9f88-be56caa4512e",
   "metadata": {},
   "outputs": [],
   "source": [
    "# standardize some metadata columns\n",
    "adata.obs[\"patient\"] = adata.obs[\"patient\"].replace({\"P08\": \"08\"})\n",
    "adata.obs[\"timepoint\"] = adata.obs[\"timepoint\"].replace({\"C2\": \"C02\"})"
   ]
  },
  {
   "cell_type": "code",
   "execution_count": null,
   "id": "c1e71484-4e63-4e2e-bc97-fca1e17f4dda",
   "metadata": {},
   "outputs": [],
   "source": [
    "# create subproject column\n",
    "adata.obs[\"subproject\"] = adata.obs[\"project\"].astype(str) + \"_P\" + adata.obs[\"patient\"].astype(str) + \"_\" + adata.obs[\"timepoint\"].astype(str)\n",
    "adata.obs[\"subproject\"]=adata.obs[\"subproject\"].astype(\"category\")"
   ]
  },
  {
   "cell_type": "code",
   "execution_count": null,
   "id": "127fd6f1-4d77-4573-abab-ccb14d023108",
   "metadata": {},
   "outputs": [],
   "source": [
    "# clean object (remove uninformative metadata columns)\n",
    "print(adata.obs.columns)\n",
    "adata.obs.drop(columns=['RNA_snn_res.0.8', 'seurat_clusters', 'RNA_snn_res.0.1',\n",
    "       'cluster_res0.1', 'RNA_snn_res.0.25', 'cluster_res0.25',\n",
    "       'RNA_snn_res.0.5', 'cluster_res0.5', 'RNA_snn_res.0.75',\n",
    "       'cluster_res0.75', 'RNA_snn_res.1', 'cluster_res1', 'RNA_snn_res.1.2',\n",
    "       'cluster_res1.2', 'RNA_snn_res.1.4', 'cluster_res1.4',\n",
    "       'RNA_snn_res.1.5', 'cluster_res1.5', 'RNA_snn_res.1.6',\n",
    "       'cluster_res1.6', 'RNA_snn_res.1.8', 'cluster_res1.8', 'RNA_snn_res.2',\n",
    "       'cluster_res2', 'RNA_snn_res.2.2', 'cluster_res2.2', 'RNA_snn_res.2.4',\n",
    "       'cluster_res2.4', 'RNA_snn_res.2.6', 'cluster_res2.6',\n",
    "       'RNA_snn_res.2.7', 'cluster_res2.7', 'RNA_snn_res.2.8',\n",
    "       'cluster_res2.8', 'RNA_snn_res.3', 'cluster_res3', \n",
    "       'nCount_RNA', 'nFeature_RNA', 'percent.mt'], inplace=True)"
   ]
  },
  {
   "cell_type": "code",
   "execution_count": null,
   "id": "c3391dec-bf73-4840-8518-2fa966efb2a5",
   "metadata": {},
   "outputs": [],
   "source": [
    "print(adata.obs.columns)"
   ]
  },
  {
   "cell_type": "code",
   "execution_count": null,
   "id": "74e0dd9a-40ec-4415-b876-9be340fef203",
   "metadata": {},
   "outputs": [],
   "source": [
    "adata.shape"
   ]
  },
  {
   "cell_type": "code",
   "execution_count": null,
   "id": "1dc21522-7f25-481f-9136-d6fb3834c6e7",
   "metadata": {},
   "outputs": [],
   "source": [
    "adata.X = adata.raw.X"
   ]
  },
  {
   "cell_type": "code",
   "execution_count": null,
   "id": "db0921e7-a3d3-4c9d-adbd-3c648e5d6c03",
   "metadata": {},
   "outputs": [],
   "source": [
    "# save adata object\n",
    "adata.write(os.path.join(work_dir, \"data\", \"outputdata\", \"combined\", \"Combined_SCR_CO2_TCR_raw_12-03-24.h5ad\"))"
   ]
  },
  {
   "cell_type": "markdown",
   "id": "bdfa206a-88df-4a05-8d14-0dda13e98d51",
   "metadata": {},
   "source": [
    "## Preprocessing"
   ]
  },
  {
   "cell_type": "code",
   "execution_count": null,
   "id": "80cdcd30-a900-45bc-930c-482efcdd97e5",
   "metadata": {},
   "outputs": [],
   "source": [
    "# read anndata object\n",
    "adata_pp = sc.read(os.path.join(work_dir, \"data\", \"outputdata\", \"combined\", \"Combined_SCR_CO2_TCR_raw_12-03-24.h5ad\"))"
   ]
  },
  {
   "cell_type": "code",
   "execution_count": null,
   "id": "a3f492df-5194-4d63-a76e-c358c9379a2f",
   "metadata": {},
   "outputs": [],
   "source": [
    "adata_pp.shape"
   ]
  },
  {
   "cell_type": "code",
   "execution_count": null,
   "id": "9a5e3dc2-c3da-4cd4-9adf-bad3d8d62793",
   "metadata": {},
   "outputs": [],
   "source": [
    "# number of cells per sample after QC filtering\n",
    "adata_pp.obs.groupby('sample').size()"
   ]
  },
  {
   "cell_type": "code",
   "execution_count": null,
   "id": "903a497e-5407-4024-9d34-4e2ce4227ecc",
   "metadata": {},
   "outputs": [],
   "source": [
    "adata_pp.obs"
   ]
  },
  {
   "cell_type": "markdown",
   "id": "7fcde1ae-8f34-4403-8796-996b6813a670",
   "metadata": {
    "execution": {
     "iopub.execute_input": "2024-03-18T09:49:18.839805Z",
     "iopub.status.busy": "2024-03-18T09:49:18.839488Z",
     "iopub.status.idle": "2024-03-18T09:49:18.842728Z",
     "shell.execute_reply": "2024-03-18T09:49:18.842188Z",
     "shell.execute_reply.started": "2024-03-18T09:49:18.839783Z"
    }
   },
   "source": [
    "### 01. Refiltering - Quality Control"
   ]
  },
  {
   "cell_type": "markdown",
   "id": "0e8f4419-c581-4867-8e5f-8904453a8243",
   "metadata": {},
   "source": [
    "Remove cells classified as noise during the patient-specific individual preprocessing and annotation. "
   ]
  },
  {
   "cell_type": "code",
   "execution_count": null,
   "id": "b6dc5f81-57b8-4706-a2c7-894bdf4a4e11",
   "metadata": {},
   "outputs": [],
   "source": [
    "# remove NOISE clusters from previous patient-specific cell type annotation\n",
    "adata_pp = adata_pp[adata_pp.obs[\"Annotation_2.0\"] != \"NOISE\"]"
   ]
  },
  {
   "cell_type": "code",
   "execution_count": null,
   "id": "2e4c2f0e-f563-4a51-ab32-520fc9401183",
   "metadata": {},
   "outputs": [],
   "source": [
    "adata_pp.shape"
   ]
  },
  {
   "cell_type": "code",
   "execution_count": null,
   "id": "5bda3b1e-7853-4e69-9915-8afe289c78cd",
   "metadata": {},
   "outputs": [],
   "source": [
    "# number of cells per sample after remove noise clusters\n",
    "adata_pp.obs.groupby('sample').size()"
   ]
  },
  {
   "cell_type": "code",
   "execution_count": null,
   "id": "902b0fa4-af1e-4f6c-bdc7-55c528d9256a",
   "metadata": {},
   "outputs": [],
   "source": [
    "# store raw counts in its layer (scVI requirement)\n",
    "adata_pp.layers[\"rawcounts\"] = adata_pp.raw.X"
   ]
  },
  {
   "cell_type": "code",
   "execution_count": null,
   "id": "7fdd0b70-6208-4753-b7c0-17a8c83270dc",
   "metadata": {},
   "outputs": [],
   "source": [
    "# mitochondrial genes\n",
    "adata_pp.var[\"mt\"] = adata_pp.var_names.str.startswith(\"MT-\")\n",
    "# ribosomal genes\n",
    "adata_pp.var[\"ribo\"] = adata_pp.var_names.str.startswith((\"RPS\", \"RPL\"))\n",
    "\n",
    "# compute some metrics\n",
    "sc.pp.calculate_qc_metrics(\n",
    "    adata_pp, qc_vars=[\"mt\", \"ribo\"], inplace=True, percent_top=[20], log1p=True\n",
    ")"
   ]
  },
  {
   "cell_type": "code",
   "execution_count": null,
   "id": "f4aefeeb-7ed7-4ba6-87b5-bc1542810f28",
   "metadata": {},
   "outputs": [],
   "source": [
    "adata_pp"
   ]
  },
  {
   "cell_type": "code",
   "execution_count": null,
   "id": "97927f35-05da-4aea-bd3e-f078a883be41",
   "metadata": {},
   "outputs": [],
   "source": [
    "print(\"%MT Threshold: \", str(max(adata_pp.obs.pct_counts_mt)))\n",
    "print(\"Max UMI counts Threshold: \", str(max(adata_pp.obs.total_counts)))\n",
    "print(\"Min UMI counts Threshold: \", str(min(adata_pp.obs.total_counts)))\n",
    "print(\"Max num. genes Threshold: \", str(max(adata_pp.obs.n_genes_by_counts)))\n",
    "print(\"Min num. genes Threshold: \", str(min(adata_pp.obs.n_genes_by_counts)))"
   ]
  },
  {
   "cell_type": "code",
   "execution_count": null,
   "id": "f21c49c5-2f79-487b-b3d8-e719e7763f7b",
   "metadata": {},
   "outputs": [],
   "source": [
    "sc.pl.violin(\n",
    "    adata_pp,\n",
    "    groupby=\"patient\",\n",
    "    keys=[\"pct_counts_mt\", \"pct_counts_ribo\"],\n",
    "    jitter=0.4,\n",
    "    multi_panel=True,\n",
    "    rotation=True\n",
    ")"
   ]
  },
  {
   "cell_type": "markdown",
   "id": "c49fc554-6ec7-4485-bdcf-c9e781ad69fc",
   "metadata": {},
   "source": [
    "### 02. Normalization"
   ]
  },
  {
   "cell_type": "markdown",
   "id": "db069035-3229-4bc6-973a-5a048d00d1c1",
   "metadata": {},
   "source": []
  },
  {
   "cell_type": "code",
   "execution_count": null,
   "id": "2b320c12-0f09-4184-8db9-51803b836d20",
   "metadata": {},
   "outputs": [],
   "source": [
    "# observe counts distribution\n",
    "plt.figure(figsize=(6.0, 4.0))\n",
    "p1 = sns.histplot(adata_pp.obs[\"total_counts\"], bins=100, kde=False)"
   ]
  },
  {
   "cell_type": "code",
   "execution_count": null,
   "id": "cbcd0d36-9b4c-4de8-8cfc-78880c946cfc",
   "metadata": {},
   "outputs": [],
   "source": [
    "# normalization\n",
    "sc.pp.normalize_total(adata_pp, target_sum=1e4)"
   ]
  },
  {
   "cell_type": "code",
   "execution_count": null,
   "id": "53fe6b39-cd7a-4a05-be46-e7505f7a1f82",
   "metadata": {},
   "outputs": [],
   "source": [
    "# log-transform the data\n",
    "sc.pp.log1p(adata_pp)"
   ]
  },
  {
   "cell_type": "code",
   "execution_count": null,
   "id": "5de7a520-dd1d-46ab-8167-996c6b8dcad0",
   "metadata": {},
   "outputs": [],
   "source": [
    "# store log counts \n",
    "adata_pp.layers[\"logcounts\"] = adata_pp.X"
   ]
  },
  {
   "cell_type": "code",
   "execution_count": null,
   "id": "0f866237-c7ed-4082-a160-2d31ee261534",
   "metadata": {},
   "outputs": [],
   "source": [
    "# visualize shifted logarithm distribution \n",
    "fig, axes = plt.subplots(1, 2, figsize=(10, 5))\n",
    "p1 = sns.histplot(adata_pp.obs[\"total_counts\"], bins=100, kde=False, ax=axes[0])\n",
    "axes[0].set_title(\"Total counts\")\n",
    "p2 = sns.histplot(adata_pp.layers[\"logcounts\"].sum(1), bins=100, kde=False, ax=axes[1])\n",
    "axes[1].set_title(\"lognormalized)\n",
    "plt.show()"
   ]
  },
  {
   "cell_type": "code",
   "execution_count": null,
   "id": "e2592119-97a2-4f8a-83e1-34f2d1085acf",
   "metadata": {},
   "outputs": [],
   "source": [
    "# function to calculate variances on *sparse* matrix\n",
    "def vars(a, axis=None):\n",
    "    \"\"\" Variance of sparse matrix a\n",
    "    var = mean(a**2) - mean(a)**2\n",
    "    \"\"\"\n",
    "    a_squared = a.copy()\n",
    "    a_squared.data **= 2\n",
    "    return a_squared.mean(axis) - np.square(a.mean(axis))\n",
    "\n",
    "means = np.mean(adata_pp.raw.X, axis=0)\n",
    "variances = vars(adata_pp.raw.X, axis=0)\n",
    "dispersions = variances / means"
   ]
  },
  {
   "cell_type": "code",
   "execution_count": null,
   "id": "15e6b49f-976d-4460-8da6-06e392be1559",
   "metadata": {},
   "outputs": [],
   "source": [
    "adata_pp.var[\"means\"] = means.tolist()[0]\n",
    "adata_pp.var[\"variances\"] = variances.tolist()[0]\n",
    "adata_pp.var[\"dispersions\"] = dispersions.tolist()[0]\n",
    "adata_pp.var[\"log_means\"] = np.log1p(means.tolist())[0]\n",
    "adata_pp.var[\"log_variances\"] = np.log1p(variances.tolist())[0]\n",
    "adata_pp.var[\"log_dispersions\"] = np.log1p(dispersions.tolist())[0]"
   ]
  },
  {
   "cell_type": "code",
   "execution_count": null,
   "id": "ac3740a7-bd14-458c-9f8a-7eed78989060",
   "metadata": {},
   "outputs": [],
   "source": [
    "min_mean = 0.0125 #default"
   ]
  },
  {
   "cell_type": "code",
   "execution_count": null,
   "id": "66e14e2c-5b82-4ebe-8b6c-ebf1050d97f3",
   "metadata": {},
   "outputs": [],
   "source": [
    "# mean-dispersion distribution\n",
    "ax = sns.scatterplot(\n",
    "    data=adata_pp.var, x=\"log_means\", y=\"log_dispersions\", s=5\n",
    ")\n",
    "plt.vlines(x=np.log1p(min_mean),ymin=0,ymax=10,color='red')\n",
    "plt.show()"
   ]
  },
  {
   "cell_type": "markdown",
   "id": "295eeece-1289-467a-8240-c7ca5818cf87",
   "metadata": {},
   "source": [
    "### 03. Compute Highly Variable Genes"
   ]
  },
  {
   "cell_type": "markdown",
   "id": "d736e081-15b0-4c79-94aa-681e15f51f05",
   "metadata": {},
   "source": [
    "I have computed the Highly Variable Genes by using different approaches to see which one works the best. I've used the 3 scanpy flavors: Cell Ranger, Seurat and Seurat v3 with their default parameters except for the minimum variance parameter that I have customized based on the dispersion vs. mean distribution when using seurat and cell ranger. Then I have fitted a model on the genes mean-to-variance ratio to determine the HVGs, it is a FDR-based approach. Additionally, I have discarded genes that I don't want them to influence the PCA such as TCR, BCR and MT genes. "
   ]
  },
  {
   "cell_type": "code",
   "execution_count": null,
   "id": "df9faf76-dce8-478a-893b-edb1ee063df1",
   "metadata": {
    "scrolled": true
   },
   "outputs": [],
   "source": [
    "# identify highly variable genes (per sample strategy)\n",
    "# compute HVG for the three possible flavors\n",
    "hvg_cell_ranger = sc.pp.highly_variable_genes(adata_pp, batch_key=\"sample\", flavor=\"cell_ranger\", n_top_genes=2000, min_mean=min_mean, subset = False, inplace = False)\n",
    "hvg_seurat = sc.pp.highly_variable_genes(adata_pp, batch_key=\"sample\", flavor=\"seurat\", n_top_genes=2000, min_mean=min_mean, subset = False, inplace = False)\n",
    "hvg_seurat_v3 = sc.pp.highly_variable_genes(adata_pp, batch_key=\"sample\", flavor=\"seurat_v3\", n_top_genes=2000, subset = False, inplace = False)"
   ]
  },
  {
   "cell_type": "code",
   "execution_count": null,
   "id": "6d6e0e52-1ddf-46b1-b8ad-8d5582b01288",
   "metadata": {},
   "outputs": [],
   "source": [
    "# store them in adata.var\n",
    "adata_pp.var[\"HVG_cell_ranger\"] = hvg_cell_ranger.highly_variable\n",
    "adata_pp.var[\"HVG_seurat\"] = hvg_seurat.highly_variable\n",
    "adata_pp.var[\"HVG_seurat_v3\"] = hvg_seurat_v3.highly_variable"
   ]
  },
  {
   "cell_type": "code",
   "execution_count": null,
   "id": "fe4ea68b-4ae2-4bc6-80f6-f49c90590b60",
   "metadata": {},
   "outputs": [],
   "source": [
    "print(\"Number of HVGs - Cell Ranger: \" + str(len(adata_pp.var.loc[adata_pp.var[\"HVG_cell_ranger\"] == True])))\n",
    "print(\"Number of HVGs - Seurat: \" + str(len(adata_pp.var.loc[adata_pp.var[\"HVG_seurat\"] == True])))\n",
    "print(\"Number of HVGs - Seurat v3: \" + str(len(adata_pp.var.loc[adata_pp.var[\"HVG_seurat_v3\"] == True])))"
   ]
  },
  {
   "cell_type": "code",
   "execution_count": null,
   "id": "d5790083-9790-4774-af07-a5547fc31399",
   "metadata": {},
   "outputs": [],
   "source": [
    "# check overlap \n",
    "HVG1 = adata_pp.var.loc[adata_pp.var[\"HVG_cell_ranger\"] == True].index\n",
    "HVG2 = adata_pp.var.loc[adata_pp.var[\"HVG_seurat\"] == True].index\n",
    "HVG3 = adata_pp.var.loc[adata_pp.var[\"HVG_seurat_v3\"] == True].index"
   ]
  },
  {
   "cell_type": "code",
   "execution_count": null,
   "id": "c2ac14b8-767c-4e62-b645-54a6ab2b80cc",
   "metadata": {},
   "outputs": [],
   "source": [
    "fig, axes = plt.subplots(1, 3, figsize=(10, 5))\n",
    "p1 = sns.scatterplot(\n",
    "    data=adata_pp.var, x=\"log_means\", y=\"log_dispersions\", hue=\"HVG_cell_ranger\", s=5, ax=axes[0])\n",
    "p2 = sns.scatterplot(\n",
    "    data=adata_pp.var, x=\"log_means\", y=\"log_dispersions\", hue=\"HVG_seurat\", s=5, ax=axes[1])\n",
    "p3 = sns.scatterplot(\n",
    "    data=adata_pp.var, x=\"log_means\", y=\"log_dispersions\", hue=\"HVG_seurat_v3\", s=5, ax=axes[2])\n",
    "plt.show()"
   ]
  },
  {
   "cell_type": "code",
   "execution_count": null,
   "id": "38ea5630-c411-45e3-956b-4658728c27f7",
   "metadata": {},
   "outputs": [],
   "source": [
    "# move from python to R\n",
    "anndata2ri.activate()\n",
    "%load_ext rpy2.ipython"
   ]
  },
  {
   "cell_type": "code",
   "execution_count": null,
   "id": "4f5b8a3e-368e-4477-86a9-591f8b5b1bae",
   "metadata": {},
   "outputs": [],
   "source": [
    "%%R -i adata_pp -o dec_adata_pp\n",
    "\n",
    "# load Rlibraries\n",
    "library(scran)\n",
    "#library(seurat)\n",
    "\n",
    "# model gene variation\n",
    "dec.adata_pp <- modelGeneVar(adata_pp)\n",
    "\n",
    "# visualizing the fit:\n",
    "fit.adata_pp <- metadata(dec.adata_pp)\n",
    "plot(fit.adata_pp$mean, fit.adata_pp$var, xlab=\"Mean of log-expression\",\n",
    "    ylab=\"Variance of log-expression\")\n",
    "curve(fit.adata_pp$trend(x), col=\"dodgerblue\", add=TRUE, lwd=2)\n",
    "\n",
    "# ordering by most interesting genes for inspection.\n",
    "dec_adata_pp <- dec.adata_pp[order(dec.adata_pp$bio, decreasing=TRUE),]\n",
    "\n",
    "# select top 2000 genes\n",
    "HVG4 <- getTopHVGs(dec_adata_pp, n=2000)\n",
    "str(HVG4)\n",
    "\n",
    "## identify the 10 most highly variable genes\n",
    "#top10 <- head(hvg.adata_pp.var, 10)\n",
    "\n",
    "## plot variable features with and without labels\n",
    "#plot1 <- VariableFeaturePlot(as.Seurat(adata_pp))\n",
    "#plot2 <- LabelPoints(plot = plot1, points = top10, repel = TRUE)\n",
    "#plot1 + plot2"
   ]
  },
  {
   "cell_type": "code",
   "execution_count": null,
   "id": "1eff9239-404e-43e9-bab7-610931737441",
   "metadata": {},
   "outputs": [],
   "source": [
    "dec_adata_pp"
   ]
  },
  {
   "cell_type": "code",
   "execution_count": null,
   "id": "e1c41999-1786-4930-9564-ca6cbf318a43",
   "metadata": {},
   "outputs": [],
   "source": [
    "HVG4 = dec_adata_pp.index[:2000]"
   ]
  },
  {
   "cell_type": "code",
   "execution_count": null,
   "id": "c18c45bf-09b6-42cc-b705-0107798abc76",
   "metadata": {},
   "outputs": [],
   "source": [
    "len( set(HVG1) & set(HVG2) & set(HVG3) & set(HVG4) ) # intersection"
   ]
  },
  {
   "cell_type": "code",
   "execution_count": null,
   "id": "fc179646-d16d-4ed0-8ea7-7a87479949b4",
   "metadata": {},
   "outputs": [],
   "source": [
    "'''\n",
    "# visualize overlap\n",
    "from matplotlib_venn import venn3, venn3_circles \n",
    "from matplotlib import pyplot as plt \n",
    "  \n",
    "# depict venn diagram \n",
    "venn3(subsets=(len( set(HVG1) - (set(HVG2) | set(HVG3)) ), \n",
    "               len( set(HVG2) - (set(HVG1) | set(HVG3)) ), \n",
    "               len( set(HVG1) & set(HVG2) ), \n",
    "               len( set(HVG3) - (set(HVG2) | set(HVG1)) ), \n",
    "               len( set(HVG1) & set(HVG3) ), \n",
    "               len( set(HVG2) & set(HVG3) ), \n",
    "               len( set(HVG1) & set(HVG2) & set(HVG3) )\n",
    "              ),  \n",
    "      set_labels=(\"Cell Ranger\", \"Seurat\", \"Seurat v3\", \"Model\"),  \n",
    "      set_colors=(\"orange\", \"blue\", \"red\", \"green\"), alpha=0.7) \n",
    "  \n",
    "# outline of circle line style and width \n",
    "venn3_circles(subsets=(\n",
    "               len( set(HVG1) - (set(HVG2) | set(HVG3)) ), \n",
    "               len( set(HVG2) - (set(HVG1) | set(HVG3)) ), \n",
    "               len( set(HVG1) & set(HVG2) ), \n",
    "               len( set(HVG3) - (set(HVG2) | set(HVG1)) ), \n",
    "               len( set(HVG1) & set(HVG3) ), \n",
    "               len( set(HVG2) & set(HVG3) ), \n",
    "               len( set(HVG1) & set(HVG2) & set(HVG3) )\n",
    "                ), \n",
    "              linestyle=\"dashed\", linewidth=2) \n",
    "  \n",
    "# title of the venn diagram \n",
    "plt.title(\"HVG Flavor Overlap\") \n",
    "plt.show()\n",
    "'''"
   ]
  },
  {
   "cell_type": "code",
   "execution_count": null,
   "id": "66e4d9f3-6dab-4ff1-9f3c-ec5a151a248e",
   "metadata": {},
   "outputs": [],
   "source": [
    "# visualize overlap\n",
    "from venny4py.venny4py import *\n",
    "\n",
    "#dict of sets\n",
    "sets = {\n",
    "    'Cell Ranger': set(HVG1),\n",
    "    'Seurat': set(HVG2),\n",
    "    'Seurat v3': set(HVG3),\n",
    "    'Model': set(HVG4)}\n",
    "    \n",
    "venny4py(sets=sets)"
   ]
  },
  {
   "cell_type": "code",
   "execution_count": null,
   "id": "b1c1bb72-d1b9-4a09-9f73-ff7daf5aeb70",
   "metadata": {},
   "outputs": [],
   "source": [
    "len( set(HVG1) & set(HVG4) ) # intersection between Seurat and Model"
   ]
  },
  {
   "cell_type": "code",
   "execution_count": null,
   "id": "f6feb25d-d917-4108-8a29-d0b860eb2ee5",
   "metadata": {},
   "outputs": [],
   "source": [
    "# put in var the model HVG\n",
    "adata_pp.var[\"HVG_model\"] = [False] * len(adata_pp.var_names)\n",
    "for gene in adata_pp.var_names:\n",
    "    if gene in HVG2:\n",
    "        adata_pp.var.loc[gene, \"HVG_model\"] = True\n",
    "        \n",
    "        \n",
    "print(adata_pp.var.HVG_model.value_counts())"
   ]
  },
  {
   "cell_type": "code",
   "execution_count": null,
   "id": "c894cd90-ed3a-4ecc-b82a-3a54d0509b42",
   "metadata": {},
   "outputs": [],
   "source": [
    "# choose HVGs obtained from modelling the variance of each gene as it is FDR based\n",
    "adata_pp.var[\"highly_variable\"] = adata_pp.var[\"HVG_model\"]\n",
    "print(adata_pp.var.highly_variable.value_counts())"
   ]
  },
  {
   "cell_type": "code",
   "execution_count": null,
   "id": "a67497aa-5e64-4cd8-bcc7-1f96de643691",
   "metadata": {},
   "outputs": [],
   "source": [
    "# select TCR genes \n",
    "TCR_prefixes = [\"TRAC\", \"TRAJ\", \"TRAV\",  \"TRBC\", \"TRBD\", \"TRBJ\", \"TRBV\",  \"TRDC\", \"TRDD\", \"TRDJ\", \"TRDV\",  \"TRBC\", \"TRG\", \"TRGJ\", \"TRGV\"]\n",
    "TCR_genes = [gene_name for gene_name in adata_pp.var_names if any(gene_name.startswith(prefix) for prefix in TCR_prefixes)]\n",
    "print(TCR_genes[:10])"
   ]
  },
  {
   "cell_type": "code",
   "execution_count": null,
   "id": "f565b77e-298e-458c-b6fc-d3fa20e272a0",
   "metadata": {},
   "outputs": [],
   "source": [
    "# select BCR genes \n",
    "BCR_prefixes = [\"IGHC\", \"IGHD\", \"IGHJ\", \"IGHV\",  \"IGIC\", \"IGIJ\", \"IGIV\",  \"IGKC\", \"IGKJ\", \"IGKV\", \"IGLC\", \"IGLJ\", \"IGLV\"]\n",
    "BCR_genes = [gene_name for gene_name in adata_pp.var_names if any(gene_name.startswith(prefix) for prefix in BCR_prefixes)]\n",
    "print(BCR_genes[:10])"
   ]
  },
  {
   "cell_type": "code",
   "execution_count": null,
   "id": "d3b84dea-fafb-4486-8ac1-96fcc63109c3",
   "metadata": {},
   "outputs": [],
   "source": [
    "# select mitochondrial genes\n",
    "MT_genes = [gene_name for gene_name in adata_pp.var_names if gene_name.startswith(\"MT-\")]\n",
    "print(MT_genes[:10])"
   ]
  },
  {
   "cell_type": "code",
   "execution_count": null,
   "id": "e4923034-797e-4d5c-ba09-303f5d9948bf",
   "metadata": {},
   "outputs": [],
   "source": [
    "# select ribosomal genes\n",
    "RP_genes = [gene_name for gene_name in adata_pp.var_names if any(gene_name.startswith(prefix) for prefix in [\"RPS\", \"RPL\"])]\n",
    "print(RP_genes[:10])"
   ]
  },
  {
   "cell_type": "code",
   "execution_count": null,
   "id": "26b4c604-fd7d-4cff-b7c5-3adc4b62c324",
   "metadata": {},
   "outputs": [],
   "source": [
    "# merge unwanted genes\n",
    "out_genes = TCR_genes + BCR_genes + MT_genes #+ RP_genes #(include RP genes as there is a non-random fashion across cells) #NO MT or RP genes found in HVG"
   ]
  },
  {
   "cell_type": "code",
   "execution_count": null,
   "id": "d72de2a1-a421-448f-9ae3-348c9ffd0c65",
   "metadata": {},
   "outputs": [],
   "source": [
    "# check there are matches\n",
    "len(set(adata_pp.var_names) & set(out_genes)) > 0"
   ]
  },
  {
   "cell_type": "code",
   "execution_count": null,
   "id": "87dee682-e2f3-4808-a642-d5fcd6c8bb30",
   "metadata": {},
   "outputs": [],
   "source": [
    "# create boolean list indicating whether the genes are excluded as HVG\n",
    "in_out_genes = [False] * len(adata_pp.var_names)\n",
    "for i in range(0, len(adata_pp.var_names)-1):\n",
    "    gene = adata_pp.var_names[i]\n",
    "    if gene in out_genes:\n",
    "        in_out_genes[i] = True"
   ]
  },
  {
   "cell_type": "code",
   "execution_count": null,
   "id": "8088c191-7287-4d70-b4c3-b246554b68f8",
   "metadata": {},
   "outputs": [],
   "source": [
    "adata_pp.var[\"excl_hv\"] = in_out_genes"
   ]
  },
  {
   "cell_type": "code",
   "execution_count": null,
   "id": "209c67e1-2f44-406e-9fe3-bfa3b9954b40",
   "metadata": {},
   "outputs": [],
   "source": [
    "len(out_genes)"
   ]
  },
  {
   "cell_type": "code",
   "execution_count": null,
   "id": "b983427d-e3bb-43f8-b788-bc8ce198ca28",
   "metadata": {},
   "outputs": [],
   "source": [
    "adata_pp.var.excl_hv.value_counts()"
   ]
  },
  {
   "cell_type": "code",
   "execution_count": null,
   "id": "474d09f2-a077-423d-9b22-90f558bef40e",
   "metadata": {},
   "outputs": [],
   "source": [
    "adata_pp.shape"
   ]
  },
  {
   "cell_type": "code",
   "execution_count": null,
   "id": "2ee58195-768e-4e97-b5c4-13e11df54c36",
   "metadata": {},
   "outputs": [],
   "source": [
    "adata_pp.var[\"orig_highly_variable\"] = adata_pp.var[\"highly_variable\"]"
   ]
  },
  {
   "cell_type": "code",
   "execution_count": null,
   "id": "cf6bb6fc-f940-4477-8ce1-5349521c0c58",
   "metadata": {
    "scrolled": true
   },
   "outputs": [],
   "source": [
    "# remove undesired genes as highly variable\n",
    "for i in range(0, len(adata_pp.var_names)-1):\n",
    "    gene = adata_pp.var_names[i]\n",
    "    if ( (adata_pp.var.loc[gene, \"orig_highly_variable\"] == True) & (adata_pp.var.loc[gene, \"excl_hv\"] == True) ):\n",
    "        print(gene + \" found in HVG -- removed!\")\n",
    "        adata_pp.var.loc[gene, \"highly_variable\"] = False"
   ]
  },
  {
   "cell_type": "code",
   "execution_count": null,
   "id": "792bf8a5-31c1-4717-8a73-3d89b4ca3a2d",
   "metadata": {},
   "outputs": [],
   "source": [
    "print(adata_pp.var.orig_highly_variable.value_counts())\n",
    "print(adata_pp.var.highly_variable.value_counts())"
   ]
  },
  {
   "cell_type": "markdown",
   "id": "8a605b65-7f45-4b5c-9409-c6364f2de0c2",
   "metadata": {},
   "source": [
    "### 04. Run PCA"
   ]
  },
  {
   "cell_type": "markdown",
   "id": "a22d8725-f3e7-4994-b6d6-ae4ebaed1554",
   "metadata": {},
   "source": [
    "Run Principal Component Analysis (PCA) on the highly variable genes obtained in the previous step. We run it on this subset as these variables are the ones explaaining most of the variance in the data. "
   ]
  },
  {
   "cell_type": "code",
   "execution_count": null,
   "id": "b049e5af-2a78-433e-99ed-fcb6b939a30a",
   "metadata": {},
   "outputs": [],
   "source": [
    "sc.tl.pca(adata_pp, use_highly_variable = True)"
   ]
  },
  {
   "cell_type": "code",
   "execution_count": null,
   "id": "63b9ca9c-1643-4182-b21c-f117321fab12",
   "metadata": {},
   "outputs": [],
   "source": [
    "# Get loadings for each gene for each PC\n",
    "df_loadings = pd.DataFrame(adata_pp.varm['PCs'], index=adata_pp.var_names)\n",
    "# get rank of each loading for each PC\n",
    "df_rankings = pd.DataFrame((-1 * df_loadings.values).argsort(0).argsort(0), index=df_loadings.index, columns=df_loadings.columns)\n",
    "# c.f. with df_loadings.apply(scipy.stats.rankdata, axis=0)\n",
    "# evaluate \n",
    "print(\"Top loadings for PC1...\")\n",
    "print(df_loadings[0].sort_values().tail())"
   ]
  },
  {
   "cell_type": "code",
   "execution_count": null,
   "id": "179e0288-566b-426d-8d2f-cf7cd4698d83",
   "metadata": {
    "scrolled": true
   },
   "outputs": [],
   "source": [
    "# visualize loadings\n",
    "sc.pl.pca_loadings(adata_pp, include_lowest=True, components=[1, 2, 3, 4, 5])"
   ]
  },
  {
   "cell_type": "code",
   "execution_count": null,
   "id": "fd771015-7e49-49dc-8f6a-07909a7bcc31",
   "metadata": {},
   "outputs": [],
   "source": [
    "# select optimal number of PCs\n",
    "sc.pl.pca_variance_ratio(adata_pp, log=True, n_pcs=50)"
   ]
  },
  {
   "cell_type": "code",
   "execution_count": null,
   "id": "98be33cd-66b7-408a-9328-602a36e72c40",
   "metadata": {},
   "outputs": [],
   "source": [
    "# Decide optimal number of PCs that explain most of the variation in the data\n",
    "## We can calculate where the principal components start to elbow by taking the larger value of:\n",
    "## The point where the principal components only contribute 5% of standard deviation and the principal components cumulatively contribute 90% of the standard deviation.\n",
    "## The point where the percent change in variation between the consecutive PCs is less than 0.1%.\n",
    "## We will start by calculating the first metric:\n",
    "\n",
    "# calculate the percent of variation associated with each PC\n",
    "pct = adata_pp.obsm['X_pca'].std(axis=0) / np.sum(adata_pp.obsm['X_pca'].std(axis=0)) * 100\n",
    "\n",
    "# calculate cumulative percents for each PC\n",
    "cumu = np.cumsum(pct)\n",
    "\n",
    "# determine which PC exhibits cumulative percent greater than 90% and % variation associated with the PC is less than 5\n",
    "co1 = np.where((cumu > 90) & (pct < 5))[0]\n",
    "co1_index = co1[0] if len(co1) > 0 else None\n",
    "print(co1_indexc \n",
    "\n",
    "# determine the difference between the variation of PC and subsequent PC\n",
    "co2 = np.sort(np.where((pct[:-1] - pct[1:]) > 0.05)[0])[::-1] # before: 0.1\n",
    "co2_index = co2[0] + 1 if len(co2) > 0 else None\n",
    "print(co2_index)\n",
    "\n",
    "# usually, we would choose the minimum of these two metrics as the PCs covering the majority of the variation in the data.\n",
    "pcs = min(co1_index, co2_index) if co1_index is not None and co2_index is not None else None\n",
    "\n",
    "print(\"PCs covering the majority of the variation:\", pcs)"
   ]
  },
  {
   "cell_type": "code",
   "execution_count": null,
   "id": "a8ae9c3d-07c1-4679-b7c7-63c353a9619b",
   "metadata": {},
   "outputs": [],
   "source": [
    "# Kaiser rule --> Keep PC with an eigenvalue of >=1\n",
    "\n",
    "# extract eigenvalues from PCA results\n",
    "eigenvalues = adata_pp.uns['pca']['variance']\n",
    "\n",
    "# filter eigenvalues greater than or equal to 1\n",
    "eigenvalues_gt_1 = [val for val in eigenvalues if val >= 1]\n",
    "\n",
    "# get the corresponding principal component numbers\n",
    "pcs_gt_1 = [i+1 for i, val in enumerate(eigenvalues) if val >= 1]\n",
    "\n",
    "print(eigenvalues)\n",
    "print(max(pcs_gt_1))"
   ]
  },
  {
   "cell_type": "code",
   "execution_count": null,
   "id": "a60248db-2924-4845-b0cc-75961d21a6fd",
   "metadata": {},
   "outputs": [],
   "source": [
    "# 2/3 Variance Explanation\n",
    "print(cumu)\n",
    "np.where((cumu > 100*2/3))[0][0]"
   ]
  },
  {
   "cell_type": "code",
   "execution_count": null,
   "id": "e66ad7c0-857b-47f8-88dc-5649bb002cc1",
   "metadata": {},
   "outputs": [],
   "source": [
    "# define number of PCs\n",
    "n_pcs=35"
   ]
  },
  {
   "cell_type": "markdown",
   "id": "31851d9c-16d3-4715-b8eb-85002610ca1e",
   "metadata": {},
   "source": [
    "### 05. Compute Neighbors & Non Linear Dim. Reduction"
   ]
  },
  {
   "cell_type": "code",
   "execution_count": null,
   "id": "10b65c37-bc7a-474d-b449-52fde08f2023",
   "metadata": {},
   "outputs": [],
   "source": [
    "sc.pp.neighbors(adata_pp, n_pcs=n_pcs)"
   ]
  },
  {
   "cell_type": "code",
   "execution_count": null,
   "id": "2b98f3e0-1270-4fd3-a959-a56ed8baf73e",
   "metadata": {},
   "outputs": [],
   "source": [
    "sc.tl.umap(adata_pp)"
   ]
  },
  {
   "cell_type": "code",
   "execution_count": null,
   "id": "89dc70dc-4ddb-46e8-a2a1-9ca7e549790f",
   "metadata": {},
   "outputs": [],
   "source": [
    "sc.pl.umap(adata_pp, color=[\"sample\", \"Annotation_1.0\"], wspace=1.5)"
   ]
  },
  {
   "cell_type": "markdown",
   "id": "97f4078e-3249-4388-837b-83a827b1510a",
   "metadata": {},
   "source": [
    "### Check Technical Sources of Variation"
   ]
  },
  {
   "cell_type": "code",
   "execution_count": null,
   "id": "5b1f428e-fb12-4fe1-ac19-23ace59cba9e",
   "metadata": {},
   "outputs": [],
   "source": [
    "adata_pp"
   ]
  },
  {
   "cell_type": "code",
   "execution_count": null,
   "id": "635af349-75bc-41f4-98ba-e4b2eff15b9b",
   "metadata": {},
   "outputs": [],
   "source": [
    "sc.pl.umap(\n",
    "    adata_pp,\n",
    "    color=[\"pct_counts_mt\", \"pct_counts_ribo\", \"n_genes_by_counts\", \"total_counts\", \"doublet_score\", \"sample\"],\n",
    "    vmax=\"p99\",\n",
    "    #legend_loc=\"on data\",\n",
    "    frameon=False,\n",
    "    cmap=\"PuOr\",\n",
    "    use_raw=False,\n",
    "    ncols=2\n",
    ")"
   ]
  },
  {
   "cell_type": "code",
   "execution_count": null,
   "id": "5e3d1c50-3c9b-494b-b155-0985a1998617",
   "metadata": {},
   "outputs": [],
   "source": [
    "sc.pl.umap(\n",
    "    adata_pp,\n",
    "    color=[\"patient\", \"timepoint\"],\n",
    "    vmax=\"p99\",\n",
    "    #legend_loc=\"on data\",\n",
    "    frameon=False,\n",
    "    use_raw=False,\n",
    "    ncols=2,\n",
    "    save=\n",
    ")"
   ]
  },
  {
   "cell_type": "code",
   "execution_count": null,
   "id": "91af1b26-02a4-4fb8-87d1-f9bc728b49e7",
   "metadata": {},
   "outputs": [],
   "source": [
    "sc.settings.figdir = os.path.join(work_dir, \"figures\", \"TFM\", \"FigS1/\")\n",
    "sc.set_figure_params(dpi=120, dpi_save=300, format='pdf')"
   ]
  },
  {
   "cell_type": "code",
   "execution_count": null,
   "id": "c5b8ee77-5e97-420e-a070-004cdae21342",
   "metadata": {},
   "outputs": [],
   "source": [
    "sc.pl.umap(\n",
    "    adata_pp,\n",
    "    color=[\"timepoint\"],\n",
    "    vmax=\"p99\",\n",
    "    #legend_loc=\"on data\",\n",
    "    frameon=False,\n",
    "    use_raw=False,\n",
    "    palette=[\"darkviolet\", \"coral\"]\n",
    "    save=\"Uni\"\n",
    ")"
   ]
  },
  {
   "cell_type": "code",
   "execution_count": null,
   "id": "7a290526-ca6d-4eac-ab3a-6b988772ee25",
   "metadata": {},
   "outputs": [],
   "source": [
    "import matplotlib.cm as cm\n",
    "color_map = cm.get_cmap('Spectral')\n",
    "color_palette = [color_map(i/4) for i in range(4, -1, -1)]\n",
    "print(len(color_palette))"
   ]
  },
  {
   "cell_type": "code",
   "execution_count": null,
   "id": "78aa188f-28ab-4d1f-870a-f6bada73979e",
   "metadata": {},
   "outputs": [],
   "source": [
    "color_palette = sns.color_palette(\"Spectral\", 5)\n",
    "print(color_palette)\n",
    "color_palette.pop(3)\n",
    "sns.color_palette(\"Spectral\", 5)"
   ]
  },
  {
   "cell_type": "code",
   "execution_count": null,
   "id": "28782548-1109-4dc6-8a18-8d4405788054",
   "metadata": {},
   "outputs": [],
   "source": [
    "sc.settings.figdir = os.path.join(work_dir, \"figures\", \"combined\", \"main_analysis\", \"final_figures/\")\n",
    "sc.set_figure_params(dpi=120, dpi_save=300, format='png')"
   ]
  },
  {
   "cell_type": "code",
   "execution_count": null,
   "id": "00cd8781-d177-4b08-b99d-65b5f6288c21",
   "metadata": {},
   "outputs": [],
   "source": [
    "# save adata object\n",
    "adata_pp.write(os.path.join(work_dir, \"data\", \"outputdata\", \"combined\", \"Combined_SCR_CO2_TCR_pp_12-03-24.h5ad\"))"
   ]
  },
  {
   "cell_type": "markdown",
   "id": "b81f949f-9c09-485d-b589-8ae6d4cdc811",
   "metadata": {},
   "source": [
    "## 06. Integration"
   ]
  },
  {
   "cell_type": "markdown",
   "id": "29403e56-489d-4dcf-b2c6-e3b921c725fe",
   "metadata": {},
   "source": [
    "### 6.1 scVI"
   ]
  },
  {
   "cell_type": "code",
   "execution_count": null,
   "id": "71b98b9b-8e68-401c-8ba3-6aafff8c41d1",
   "metadata": {},
   "outputs": [],
   "source": [
    "adata_pp = sc.read(os.path.join(work_dir, \"data\", \"outputdata\", \"combined\", \"Combined_SCR_CO2_TCR_pp_12-03-24.h5ad\"))"
   ]
  },
  {
   "cell_type": "code",
   "execution_count": null,
   "id": "631691dc-538d-4148-bf3d-d8886eaed50f",
   "metadata": {},
   "outputs": [],
   "source": [
    "# define integration vars\n",
    "batch_key = \"subproject\""
   ]
  },
  {
   "cell_type": "code",
   "execution_count": null,
   "id": "2594b792-3856-403d-9523-48145a93d5af",
   "metadata": {},
   "outputs": [],
   "source": [
    "# create object specific to scVI with just HVG\n",
    "adata_scvi = adata_pp[:, adata_pp.var[\"highly_variable\"]].copy()"
   ]
  },
  {
   "cell_type": "code",
   "execution_count": null,
   "id": "2c07eb2e-e678-4452-ab80-f6e17b3f02b9",
   "metadata": {},
   "outputs": [],
   "source": [
    "print(adata_pp.shape)\n",
    "print(adata_scvi.shape)"
   ]
  },
  {
   "cell_type": "code",
   "execution_count": null,
   "id": "cf405edb-3427-4b1a-9a80-c131414d6fb4",
   "metadata": {},
   "outputs": [],
   "source": [
    "# prepare object\n",
    "scvi.model.SCVI.setup_anndata(adata_scvi, \n",
    "                              layer=\"rawcounts\", \n",
    "                              batch_key=batch_key,\n",
    "                              #continuous_covariate_keys=[\"pct_counts_mt\", \"pct_counts_ribo\", \"n_genes_by_counts\", \"total_counts\"],\n",
    "                              #categorical_covariate_keys=[\"patient\", \"timepoint\"]\n",
    "                             )\n",
    "adata_scvi"
   ]
  },
  {
   "cell_type": "code",
   "execution_count": null,
   "id": "03a896e3-347b-4130-bbd3-60467651f101",
   "metadata": {},
   "outputs": [],
   "source": [
    "# create the model\n",
    "model_scvi = scvi.model.SCVI(adata_scvi)\n",
    "model_scvi"
   ]
  },
  {
   "cell_type": "code",
   "execution_count": null,
   "id": "b4fecae8-544e-4bec-948b-c9376ecebffa",
   "metadata": {},
   "outputs": [],
   "source": [
    "# visualize model\n",
    "model_scvi.view_anndata_setup()"
   ]
  },
  {
   "cell_type": "code",
   "execution_count": null,
   "id": "4ae68b36-002d-43b2-bd6b-3edd970d2f47",
   "metadata": {},
   "outputs": [],
   "source": [
    "# train the model\n",
    "max_epochs_scvi = np.min([round((20000 / adata_scvi.n_obs) * 400), 400])\n",
    "max_epochs_scvi"
   ]
  },
  {
   "cell_type": "code",
   "execution_count": null,
   "id": "bd49d128-f7ff-4685-9a6a-eb72906ff088",
   "metadata": {
    "scrolled": true
   },
   "outputs": [],
   "source": [
    "model_scvi.train()"
   ]
  },
  {
   "cell_type": "code",
   "execution_count": null,
   "id": "1426bddd-24f2-4e98-a86d-40d2c794a37b",
   "metadata": {},
   "outputs": [],
   "source": [
    "# extract the embedding\n",
    "adata_scvi.obsm[\"X_scVI\"] = model_scvi.get_latent_representation() #just embedding used in further steps\n",
    "adata_scvi.layers[\"scvi_normalized\"] = model_scvi.get_normalized_expression(library_size=10e4) # would allow us to perforem DE"
   ]
  },
  {
   "cell_type": "code",
   "execution_count": null,
   "id": "b18ae6af-d9e9-4c57-9761-5e74ee991342",
   "metadata": {},
   "outputs": [],
   "source": [
    "# transfer scVI latent space to the full anndata object\n",
    "adata_pp.obsm[\"X_scVI\"] = model_scvi.get_latent_representation()"
   ]
  },
  {
   "cell_type": "code",
   "execution_count": null,
   "id": "df56f5bd-f032-47bc-acbc-17b23e806261",
   "metadata": {},
   "outputs": [],
   "source": [
    "# save the model\n",
    "model_scvi.save(os.path.join(work_dir, \"data\", \"models\", \"Combined_SCR_C02_scVI_integration_model_15-03-24\"), overwrite=True)"
   ]
  },
  {
   "cell_type": "code",
   "execution_count": null,
   "id": "eab0c0b2-a921-4d00-ab7d-b703be54b96a",
   "metadata": {},
   "outputs": [],
   "source": [
    "## batch-corrected visualization (HVG)\n",
    "#sc.pp.neighbors(adata_scvi, use_rep=\"X_scVI\")\n",
    "#sc.tl.umap(adata_scvi)\n",
    "#adata_scvi"
   ]
  },
  {
   "cell_type": "code",
   "execution_count": null,
   "id": "5da229b4-08c6-4b08-81fe-5a7f4fa92c92",
   "metadata": {},
   "outputs": [],
   "source": [
    "# batch-corrected visualization (full)\n",
    "sc.pp.neighbors(adata_pp, use_rep=\"X_scVI\")\n",
    "sc.tl.umap(adata_pp)\n",
    "adata_pp"
   ]
  },
  {
   "cell_type": "code",
   "execution_count": null,
   "id": "21741005-18c0-496c-9678-284f9a6134f4",
   "metadata": {},
   "outputs": [],
   "source": [
    "#sc.pl.umap(adata_scvi, color=[\"Annotation_1.0\", \"sample\", \"Annotation_2.0\", \"subproject\", \"project\", \"patient\", \"timepoint\"], wspace=1, ncols=2) #HVG"
   ]
  },
  {
   "cell_type": "code",
   "execution_count": null,
   "id": "e331558d-7212-4459-a6be-3153fff0087a",
   "metadata": {},
   "outputs": [],
   "source": [
    "sc.pl.umap(adata_pp, color=[\"Annotation_1.0\", \"sample\", \"Annotation_2.0\", \"subproject\", \"project\", \"patient\", \"timepoint\"], wspace=1, ncols=2) #FULL - check it is the same as using just the HVG"
   ]
  },
  {
   "cell_type": "code",
   "execution_count": null,
   "id": "7bacf333-4c90-4f41-8308-02ff028bb298",
   "metadata": {},
   "outputs": [],
   "source": [
    "sc.pl.umap(adata_pp, color=[\"Annotation_1.0\"], wspace=1, ncols=2) #HVG"
   ]
  },
  {
   "cell_type": "code",
   "execution_count": null,
   "id": "8a749c21-94c0-4219-921a-f0f20bbe369b",
   "metadata": {},
   "outputs": [],
   "source": [
    "## save HVG adata object\n",
    "#adata_scvi.write(os.path.join(work_dir, \"data\", \"outputdata\", \"combined\", \"Combined_SCR_CO2_TCR_pp_HVG_scVI-integrated_12-03-24.h5ad\"))"
   ]
  },
  {
   "cell_type": "code",
   "execution_count": null,
   "id": "34ba45d2-f20c-45c4-bdec-8ba0fe6dc30a",
   "metadata": {},
   "outputs": [],
   "source": [
    "# save full adata object\n",
    "adata_pp.write(os.path.join(work_dir, \"data\", \"outputdata\", \"combined\", \"Combined_SCR_CO2_TCR_pp_all_scVI-integrated_12-03-24.h5ad\"))"
   ]
  },
  {
   "cell_type": "markdown",
   "id": "674fe3a4-944e-48c8-b644-999b97bdeed2",
   "metadata": {},
   "source": [
    "### 6.2 Harmony"
   ]
  },
  {
   "cell_type": "code",
   "execution_count": null,
   "id": "d6143953-906d-45f4-9d68-240ffef2b127",
   "metadata": {},
   "outputs": [],
   "source": [
    "adata_pp = sc.read(os.path.join(work_dir, \"data\", \"outputdata\", \"combined\", \"Combined_SCR_CO2_TCR_pp_12-03-24.h5ad\"))"
   ]
  },
  {
   "cell_type": "code",
   "execution_count": null,
   "id": "cfb5450b-0f07-4bf2-ac22-b42cfde0e3e1",
   "metadata": {},
   "outputs": [],
   "source": [
    "adata_pp"
   ]
  },
  {
   "cell_type": "code",
   "execution_count": null,
   "id": "4911a750-8d77-4a2a-a209-b1b104b69ab1",
   "metadata": {},
   "outputs": [],
   "source": [
    "# define integration vars\n",
    "batch_key = \"subproject\""
   ]
  },
  {
   "cell_type": "code",
   "execution_count": null,
   "id": "f3ab5312-9e4b-4624-bed6-234a8ee8b11a",
   "metadata": {},
   "outputs": [],
   "source": [
    "# create harmony specific object\n",
    "adata_harmony = adata_pp"
   ]
  },
  {
   "cell_type": "code",
   "execution_count": null,
   "id": "806b6bd5-dc1d-4744-ac06-93c59c5d901f",
   "metadata": {},
   "outputs": [],
   "source": [
    "# run pca again\n",
    "sc.tl.pca(adata_harmony, use_highly_variable=True)"
   ]
  },
  {
   "cell_type": "code",
   "execution_count": null,
   "id": "4bd20dee-d4fc-4640-97c6-88b797c71a73",
   "metadata": {},
   "outputs": [],
   "source": [
    "import math #set parameters to avoid convergence on an early iteration\n",
    "sc.external.pp.harmony_integrate(adata_harmony, key=batch_key, plot_convergence=True, epsilon_cluster = -math.inf, epsilon_harmony = -math.inf, max_iter_harmony=50)"
   ]
  },
  {
   "cell_type": "code",
   "execution_count": null,
   "id": "27109eb1-8170-42dc-bba8-e1eb909384fb",
   "metadata": {},
   "outputs": [],
   "source": [
    "adata_harmony"
   ]
  },
  {
   "cell_type": "code",
   "execution_count": null,
   "id": "47e2f785-1f2c-4912-9523-3bf52336a747",
   "metadata": {},
   "outputs": [],
   "source": [
    "# transfer harmony embedding to the full object\n",
    "adata_pp.obsm[\"X_pca_harmony\"] = adata_harmony.obsm[\"X_pca_harmony\"]"
   ]
  },
  {
   "cell_type": "code",
   "execution_count": null,
   "id": "85250011-4e2c-4f20-91b4-2ba559c57c37",
   "metadata": {},
   "outputs": [],
   "source": [
    "# batch-corrected visualization (full)\n",
    "sc.pp.neighbors(adata_pp, use_rep=\"X_pca_harmony\")\n",
    "sc.tl.umap(adata_pp)\n",
    "adata_pp"
   ]
  },
  {
   "cell_type": "code",
   "execution_count": null,
   "id": "c1726f3b-9589-40ed-95d2-7d9b5151283a",
   "metadata": {},
   "outputs": [],
   "source": [
    "sc.pl.umap(adata_pp, color=[\"Annotation_1.0\", \"sample\", \"Annotation_2.0\", \"subproject\", \"project\", \"patient\", \"timepoint\"], wspace=1, ncols=2)"
   ]
  },
  {
   "cell_type": "code",
   "execution_count": null,
   "id": "d63baea0-ab6b-4f9a-9f96-3d213121593d",
   "metadata": {},
   "outputs": [],
   "source": [
    "sc.pl.umap(adata_pp, color=[\"Annotation_1.0\"], wspace=1, ncols=2) "
   ]
  },
  {
   "cell_type": "code",
   "execution_count": null,
   "id": "d7b8be0f-ca6e-4af8-97da-1127ef461a62",
   "metadata": {},
   "outputs": [],
   "source": [
    "# save full adata object\n",
    "adata_pp.write(os.path.join(work_dir, \"data\", \"outputdata\", \"combined\", \"Combined_SCR_CO2_TCR_pp_all_harmony-integrated_12-03-24.h5ad\"))"
   ]
  },
  {
   "cell_type": "markdown",
   "id": "0d4efc12-dabb-4473-96d5-da2568d03f98",
   "metadata": {},
   "source": [
    "### 6.3 scGen"
   ]
  },
  {
   "cell_type": "code",
   "execution_count": null,
   "id": "26a80d14-942d-414b-95a3-a35df3ee91f0",
   "metadata": {},
   "outputs": [],
   "source": [
    "adata_pp = sc.read(os.path.join(work_dir, \"data\", \"outputdata\", \"combined\", \"Combined_SCR_CO2_TCR_pp_12-03-24.h5ad\"))"
   ]
  },
  {
   "cell_type": "code",
   "execution_count": null,
   "id": "bb1875bc-a403-443a-8ce1-9a6811a22ff1",
   "metadata": {},
   "outputs": [],
   "source": [
    "# define integration vars\n",
    "label_key = \"Annotation_1.0\"\n",
    "batch_key = \"subproject\""
   ]
  },
  {
   "cell_type": "code",
   "execution_count": null,
   "id": "ecdf5450-a78d-4ac3-827c-eb12e81c3bc6",
   "metadata": {},
   "outputs": [],
   "source": [
    "# create object specific to scVI with just HVG\n",
    "adata_scgen = adata_pp[:, adata_pp.var[\"highly_variable\"]].copy()"
   ]
  },
  {
   "cell_type": "code",
   "execution_count": null,
   "id": "413fe7d5-399a-4049-be91-f1af8e140d4b",
   "metadata": {},
   "outputs": [],
   "source": [
    "print(adata_pp.shape)\n",
    "print(adata_scgen.shape)"
   ]
  },
  {
   "cell_type": "code",
   "execution_count": null,
   "id": "2357d7b4-e7a0-4660-9241-21f83acb2995",
   "metadata": {},
   "outputs": [],
   "source": [
    "adata_scgen.obs[\"Annotation_1.0\"] = adata_scgen.obs[\"Annotation_1.0\"].tolist()\n",
    "sc.pp.neighbors(adata_scgen)\n",
    "sc.tl.umap(adata_scgen)"
   ]
  },
  {
   "cell_type": "code",
   "execution_count": null,
   "id": "9599aa1a-cf5d-46f0-950b-4e375fd882d2",
   "metadata": {},
   "outputs": [],
   "source": [
    "# prepare object\n",
    "scgen.SCGEN.setup_anndata(adata_scgen, batch_key=batch_key, labels_key=label_key)\n"
   ]
  },
  {
   "cell_type": "code",
   "execution_count": null,
   "id": "56e7446b-e87e-471c-acb7-a76b2096ffab",
   "metadata": {},
   "outputs": [],
   "source": [
    "# create the model\n",
    "model_scgen = scgen.SCGEN(adata_scgen)"
   ]
  },
  {
   "cell_type": "code",
   "execution_count": null,
   "id": "4f6b2a06-fec8-4618-932a-211c7239b7b8",
   "metadata": {},
   "outputs": [],
   "source": [
    "# train the model\n",
    "model_scgen.train()"
   ]
  },
  {
   "cell_type": "code",
   "execution_count": null,
   "id": "49728fef-ee14-4f45-a774-c03b09add202",
   "metadata": {},
   "outputs": [],
   "source": [
    "# batch removal\n",
    "adata_scgen = model_scgen.batch_removal()\n",
    "adata_scgen"
   ]
  },
  {
   "cell_type": "code",
   "execution_count": null,
   "id": "169b1f7d-8942-4d20-a460-41d209394cee",
   "metadata": {},
   "outputs": [],
   "source": [
    "# transfer corrected embedding to the full object\n",
    "adata_pp.obsm[\"scGen_corrected_latent\"] = adata_scgen.obsm[\"corrected_latent\"]"
   ]
  },
  {
   "cell_type": "code",
   "execution_count": null,
   "id": "835ffa01-c8c3-4b47-a392-0d6ee15064bd",
   "metadata": {},
   "outputs": [],
   "source": [
    "sc.pp.neighbors(adata_scgen, use_rep=\"scGENcorrected_latent\")\n",
    "sc.tl.umap(adata_scgen)"
   ]
  },
  {
   "cell_type": "code",
   "execution_count": null,
   "id": "c716bc90-70f3-4a62-84e0-d766df9e19f6",
   "metadata": {},
   "outputs": [],
   "source": [
    "sc.pl.umap(adata_scgen, color=[\"Annotation_1.0\", \"sample\", \"Annotation_2.0\", \"subproject\", \"project\", \"patient\", \"timepoint\"], wspace=1, ncols=2)"
   ]
  },
  {
   "cell_type": "code",
   "execution_count": null,
   "id": "abe17b86-db55-4a06-88d6-04c265fdb3e2",
   "metadata": {},
   "outputs": [],
   "source": [
    "sc.pl.umap(adata_scgen, color=[\"Annotation_1.0\"], wspace=1, ncols=2) "
   ]
  },
  {
   "cell_type": "code",
   "execution_count": null,
   "id": "441f4f8f-cf53-4173-8979-e09f15291e9a",
   "metadata": {},
   "outputs": [],
   "source": [
    "# save full adata object\n",
    "adata_pp.write(os.path.join(work_dir, \"data\", \"outputdata\", \"combined\", \"Combined_SCR_CO2_TCR_pp_all_scGen-integrated_12-03-24.h5ad\"))"
   ]
  },
  {
   "cell_type": "markdown",
   "id": "69e548d5-44ad-4012-b91e-db8c7186faf0",
   "metadata": {},
   "source": [
    "## 07. Level 1 Annotation"
   ]
  },
  {
   "cell_type": "markdown",
   "id": "7e5a7240-494a-404d-b815-e2ec8c3c2578",
   "metadata": {},
   "source": [
    "### 7.1 scVI Integrated Object"
   ]
  },
  {
   "cell_type": "code",
   "execution_count": null,
   "id": "a7da927e-1b7b-4a11-bb7b-f014b49a1e6d",
   "metadata": {},
   "outputs": [],
   "source": [
    "# read adata object\n",
    "adata_scVI = sc.read(os.path.join(work_dir, \"data\", \"outputdata\", \"combined\", \"Combined_SCR_CO2_TCR_pp_all_scVI-integrated_12-03-24.h5ad\"))"
   ]
  },
  {
   "cell_type": "code",
   "execution_count": null,
   "id": "bd3a6378-83f3-436b-be0e-12045ee03dc7",
   "metadata": {},
   "outputs": [],
   "source": [
    "adata_scVI"
   ]
  },
  {
   "cell_type": "code",
   "execution_count": null,
   "id": "c609e3a2-a84b-4ec5-8a81-12afe4d1a383",
   "metadata": {},
   "outputs": [],
   "source": [
    "# identfy technical sources of variation\n",
    "sc.pl.umap(\n",
    "    adata_scvi,\n",
    "    color=[\"pct_counts_mt\", \"pct_counts_ribo\", \"n_genes_by_counts\", \"total_counts\", \"doublet_score\", \"sample\"],\n",
    "    vmax=\"p99\",\n",
    "    frameon=False,\n",
    "    cmap=\"PuOr\",\n",
    "    use_raw=False,\n",
    "    ncols=2\n",
    ")"
   ]
  },
  {
   "cell_type": "code",
   "execution_count": null,
   "id": "0c40288f-f9c4-476d-a9f9-6e39e0f3224c",
   "metadata": {},
   "outputs": [],
   "source": [
    "sc.pl.umap(\n",
    "    adata_scvi,\n",
    "    color=[\"PTPRC\", \"CD4\", \"CD8A\", \"KLRF1\", \"MS4A1\", \"CD68\", \"EPCAM\", \"COL1A1\", \"CLDN5\", \"ALB\"],\n",
    "    vmax=\"p99\",\n",
    "    legend_loc=\"on data\",\n",
    "    frameon=False,\n",
    "    cmap=\"OrRd\",\n",
    "    use_raw=False\n",
    ")"
   ]
  },
  {
   "cell_type": "code",
   "execution_count": null,
   "id": "861e79e6-cd36-4758-afc1-d9ef1bc88848",
   "metadata": {},
   "outputs": [],
   "source": [
    "# check specific T cell markers to evaluate integration\n",
    "sc.pl.umap(\n",
    "    adata_scvi,\n",
    "    color=[\"PTPRC\", \"CD4\", \"CD8B\", \"CCR7\", \"IL7R\", \"ITGAE\", \"ZNF683\", \"IFNG\", \"GZMK\", \"PDCD1\", \"HAVCR2\", \"FOXP3\", \"CXCL13\", \"MKI67\", \"TRDC\", \"TRAV1-2\", \"KLRF1\"],\n",
    "    vmax=\"p99\",\n",
    "    legend_loc=\"on data\",\n",
    "    frameon=False,\n",
    "    cmap=\"OrRd\",\n",
    "    use_raw=False\n",
    ")"
   ]
  },
  {
   "cell_type": "code",
   "execution_count": null,
   "id": "03188fcc-526a-44a8-9165-f2379f0b463e",
   "metadata": {},
   "outputs": [],
   "source": [
    "# perform clustering\n",
    "sc.tl.leiden(adata_scvi, key_added=\"leiden_res0_25\", resolution=0.25)\n",
    "sc.tl.leiden(adata_scvi, key_added=\"leiden_res0_5\", resolution=0.5)\n",
    "sc.tl.leiden(adata_scvi, key_added=\"leiden_res0_75\", resolution=0.75)\n",
    "sc.tl.leiden(adata_scvi, key_added=\"leiden_res1\", resolution=1.0)"
   ]
  },
  {
   "cell_type": "code",
   "execution_count": null,
   "id": "8002720d-9a52-4eca-a132-ee05cf3ca1a2",
   "metadata": {},
   "outputs": [],
   "source": [
    "# visulize clustering\n",
    "sc.pl.umap(\n",
    "    adata_scvi,\n",
    "    color=[\"leiden_res0_25\", \"leiden_res0_5\", \"leiden_res0_75\", \"leiden_res1\"],\n",
    "    legend_loc=\"on data\"\n",
    ")"
   ]
  },
  {
   "cell_type": "code",
   "execution_count": null,
   "id": "da3b19fb-1396-463e-8854-e281a0be999a",
   "metadata": {},
   "outputs": [],
   "source": [
    "sc.pl.umap(\n",
    "    adata_scvi,\n",
    "    color=[\"leiden_res0_5\", \"Annotation_1.0\"],\n",
    "    legend_loc=\"on data\",\n",
    "    legend_fontsize=7\n",
    ")"
   ]
  },
  {
   "cell_type": "code",
   "execution_count": null,
   "id": "79eb6eef-4d7f-4d96-ba4f-7f15e1c823a0",
   "metadata": {},
   "outputs": [],
   "source": [
    "## subcluster cluster 18 (EMT-like / Hepatocytes), same for cluster 7 (includes CD8 T to NK)\n",
    "sc.tl.leiden(adata_scvi, key_added=\"leiden_res0_5_1\", resolution=0.1, restrict_to = (\"leiden_res0_5\", [\"18\"]))\n",
    "sc.tl.leiden(adata_scvi, key_added=\"leiden_res0_5_1\", resolution=0.1, restrict_to = (\"leiden_res0_5_1\", [\"7\"]))"
   ]
  },
  {
   "cell_type": "code",
   "execution_count": null,
   "id": "acb0cd34-9789-43b5-9998-0b172e02f899",
   "metadata": {},
   "outputs": [],
   "source": [
    "sc.pl.umap(\n",
    "    adata_scvi,\n",
    "    color=[\"leiden_res0_5_1\", \"Annotation_1.0\"],\n",
    "    legend_loc=\"on data\",\n",
    "    legend_fontsize=7\n",
    ")"
   ]
  },
  {
   "cell_type": "code",
   "execution_count": null,
   "id": "054a6fe8-74bf-471c-8d93-fcefdfe61b0d",
   "metadata": {
    "scrolled": true
   },
   "outputs": [],
   "source": [
    "# compute marker genes\n",
    "sc.tl.rank_genes_groups(\n",
    "    adata_scvi, groupby=\"leiden_res0_5_1\", method=\"wilcoxon\", key_added=\"dea_leiden_res0_5_1\", use_raw=False#, layer=\"rawcounts\" # do not use raw!\n",
    ")"
   ]
  },
  {
   "cell_type": "code",
   "execution_count": null,
   "id": "2feedbcc-9f06-45fb-af70-acd265b85a67",
   "metadata": {},
   "outputs": [],
   "source": [
    "'''\n",
    "sc.tl.filter_rank_genes_groups(\n",
    "    adata_scvi,\n",
    "    min_in_group_fraction=0.2,\n",
    "    max_out_group_fraction=0.2,\n",
    "    key=\"dea_leiden_res0_5_1\",\n",
    "    key_added=\"dea_leiden_res0_5_1_filtered\",\n",
    ")\n",
    "'''"
   ]
  },
  {
   "cell_type": "code",
   "execution_count": null,
   "id": "e5ab7597-b3a0-448d-b341-328c4b1167dc",
   "metadata": {
    "scrolled": true
   },
   "outputs": [],
   "source": [
    "# dictionary to hold DataFrames for each cluster\n",
    "dfs = {}  \n",
    "\n",
    "# iterate over clusters \n",
    "for cluster in adata_scvi.obs[\"leiden_res0_5_1\"].unique().sort_values():\n",
    "    \n",
    "    # get marker genes for the current cluster\n",
    "    marker_genes = adata_scvi.uns[\"dea_leiden_res0_5_1\"][\"names\"][str(cluster)].tolist()  \n",
    "    scores = adata_scvi.uns[\"dea_leiden_res0_5_1\"][\"scores\"][str(cluster)].tolist()  \n",
    "    pvals = adata_scvi.uns[\"dea_leiden_res0_5_1\"][\"pvals\"][str(cluster)].tolist() \n",
    "    pvals_adj = adata_scvi.uns[\"dea_leiden_res0_5_1\"][\"pvals_adj\"][str(cluster)].tolist()\n",
    "    logfoldchanges = adata_scvi.uns[\"dea_leiden_res0_5_1\"][\"logfoldchanges\"][str(cluster)].tolist() \n",
    "\n",
    "    \n",
    "    # create a df for the current cluster's marker genes\n",
    "    df = pd.DataFrame({\"Gene\": marker_genes, \"Score\": scores, \"Pval\": pvals, \"PvalAdj\": pvals_adj, \"Log2Fold\": logfoldchanges})\n",
    "\n",
    "    # remove non signficant genes\n",
    "    df = df[df[\"PvalAdj\"] < 0.01]\n",
    "    df = df[df[\"Pval\"] < 0.01]\n",
    "    \n",
    "    # include just positive log fold changes \n",
    "    df = df[df[\"Log2Fold\"] > 0.4]\n",
    "    \n",
    "    # scale score \n",
    "    scores = df[\"Score\"]\n",
    "    scaled_scores = (np.array(scores) - np.min(scores)) / (np.max(scores) - np.min(scores)) \n",
    "\n",
    "    # scale log2fold\n",
    "    logfoldchanges = df[\"Log2Fold\"]\n",
    "    scaled_logfoldchanges = (np.array(logfoldchanges) - np.min(logfoldchanges)) / (np.max(logfoldchanges) - np.min(logfoldchanges)) \n",
    "    \n",
    "    # add scaled metrics as new df columns\n",
    "    df[\"ScaledScore\"] = scaled_scores\n",
    "    df[\"ScaledLog2Fold\"] = scaled_logfoldchanges\n",
    "    \n",
    "    # compute the final score\n",
    "    df[\"CustomScore\"] = (df[\"ScaledLog2Fold\"] * df[\"ScaledScore\"]) \n",
    "\n",
    "    # Sort df based on the final score in descending order\n",
    "    df = df.sort_values(by=\"CustomScore\", ascending=False)\n",
    "    \n",
    "    # add the DataFrame to the dictionary with the cluster as key\n",
    "    dfs[cluster] = df\n",
    "\n",
    "# save to excel\n",
    "with pd.ExcelWriter(os.path.join(work_dir, \"data\", \"markers\", \"Combined\", \"Combined_scVI-integrated_res0_5_markers_13-03-24.xlsx\")) as writer:\n",
    "    # save each cluster markers into a separate sheet\n",
    "    for cluster, df in dfs.items():\n",
    "        df.to_excel(writer, sheet_name=f'Cluster_{cluster}', index=False)"
   ]
  },
  {
   "cell_type": "code",
   "execution_count": null,
   "id": "ff030b4c-092a-4ec9-9287-3d034aa93944",
   "metadata": {
    "scrolled": true
   },
   "outputs": [],
   "source": [
    "df.sort_values(by = [\"ScaledScore\"], ascending = False)"
   ]
  },
  {
   "cell_type": "code",
   "execution_count": null,
   "id": "5df88e93-873f-4de5-8f6c-40a3e1d1a3a8",
   "metadata": {},
   "outputs": [],
   "source": [
    "# known markers dotplot\n",
    "markers = [ \n",
    "    \"CD4\",\n",
    "    \"CD8B\",\n",
    "    \"KLRF1\",\n",
    "    \"TRAV1-2\",\n",
    "    \"FOXP3\",\n",
    "    \"MKI67\",\n",
    "    \"LYZ\",\n",
    "    \"LILRA4\",\n",
    "    \"TPSAB1\",\n",
    "    \"EPCAM\",\n",
    "    \"CLDN4\",\n",
    "    \"COL1A1\",\n",
    "    \"ALB\",\n",
    "    \"CDH1\",\n",
    "]\n",
    "\n",
    "\n",
    "sc.pl.dotplot(\n",
    "    adata_scvi,\n",
    "    groupby=\"leiden_res0_5_1\",\n",
    "    var_names=markers,\n",
    "    use_raw=False\n",
    ")\n"
   ]
  },
  {
   "cell_type": "code",
   "execution_count": null,
   "id": "e0962e27-df87-4415-9fcc-623af1d943f8",
   "metadata": {},
   "outputs": [],
   "source": [
    "sc.pl.umap(\n",
    "    adata_scvi,\n",
    "    color=[\"leiden_res0_5_1\", \"Annotation_1.0\"],\n",
    "    legend_loc=\"on data\",\n",
    "    legend_fontsize=7\n",
    ")"
   ]
  },
  {
   "cell_type": "code",
   "execution_count": null,
   "id": "dc6e5e38-538a-4841-b872-3ef22d271ecb",
   "metadata": {},
   "outputs": [],
   "source": [
    "# save clustered anndata object\n",
    "adata_scvi.write(os.path.join(work_dir, \"data\", \"outputdata\", \"combined\", \"Combined_SCR_CO2_TCR_pp_all_scVI-integrated_cl_12-03-24.h5ad\"))"
   ]
  },
  {
   "cell_type": "code",
   "execution_count": null,
   "id": "c013653e-16ae-46a5-bb6f-2be4f025ca0c",
   "metadata": {},
   "outputs": [],
   "source": [
    "# read clustered anndata object\n",
    "adata_scvi = sc.read(os.path.join(work_dir, \"data\", \"outputdata\", \"combined\", \"Combined_SCR_CO2_TCR_pp_all_scVI-integrated_cl_12-03-24.h5ad\"))"
   ]
  },
  {
   "cell_type": "code",
   "execution_count": null,
   "id": "06270519-9ff9-47fc-a923-96a9cc4f1e36",
   "metadata": {},
   "outputs": [],
   "source": [
    "# carry out level 1 annotation \n",
    "annotation = {\n",
    "    \"0\":       \"CD4 T\",\n",
    "    \"1\":       \"CD8 T\",\n",
    "    \"2\":       \"Tumor\",\n",
    "    \"3\":       \"CD8 T\",\n",
    "    \"4\":       \"Myeloid\",\n",
    "    \"5\":       \"Tumor\",\n",
    "    \"6\":       \"NK\",\n",
    "    \"7,0\":     \"CD8 T\",  \n",
    "    \"7,1\":     \"NK\",\n",
    "    \"8\":       \"CD4 T\",      \n",
    "    \"9\":       \"CD8 T\",\n",
    "    \"10\":      \"CD4 T\",\n",
    "    \"11\":      \"CD8 T\", \n",
    "    \"12\":      \"B Cell\",\n",
    "    \"13\":      \"Endothelial\",\n",
    "    \"14\":      \"CAF\",\n",
    "    \"15\":      \"Tumor\",\n",
    "    \"16\":      \"pDC\",\n",
    "    \"17\":      \"Plasma\",\n",
    "    \"18,0\":    \"Liver Epithelial\",          # not sure\n",
    "    \"18,1\":    \"Tumor\",             # not sure\n",
    "    \"18,2\":    \"Liver Epithelial\",\n",
    "    \"19\":      \"Myeloid\",           # not sure\n",
    "    \"20\":      \"Myeloid\",\n",
    "    \"21\":      \"Myeloid\"  # mast     \n",
    "}\n",
    "\n",
    "adata_scvi.obs[\"Level_1_Annotation\"] = adata_scvi.obs.leiden_res0_5_1.map(annotation)"
   ]
  },
  {
   "cell_type": "code",
   "execution_count": null,
   "id": "18ee749b-977a-4539-b23c-91e17e7a2af4",
   "metadata": {},
   "outputs": [],
   "source": [
    "# visualize annotation\n",
    "sc.pl.umap(\n",
    "    adata_scvi,\n",
    "    color=[\"leiden_res0_5_1\", \"Level_1_Annotation\", \"Annotation_1.0\"],\n",
    "    legend_loc=\"on data\",\n",
    "    legend_fontsize=7\n",
    ")"
   ]
  },
  {
   "cell_type": "code",
   "execution_count": null,
   "id": "51e40a97-ae6f-42d6-97c2-4d8342b1beba",
   "metadata": {},
   "outputs": [],
   "source": [
    "# save annotated anndata object\n",
    "adata_scvi.write(os.path.join(work_dir, \"data\", \"outputdata\", \"combined\", \"Combined_SCR_CO2_TCR_pp_scVI-integrated_annot_20-03-24.h5ad\"))"
   ]
  },
  {
   "cell_type": "code",
   "execution_count": null,
   "id": "6fea0379-f202-4c7b-9a26-13ee59729d4f",
   "metadata": {},
   "outputs": [],
   "source": [
    "# read scVI integrated & annotated anndata object\n",
    "adata_scvi = sc.read(os.path.join(work_dir, \"data\", \"outputdata\", \"combined\", \"Combined_SCR_CO2_TCR_pp_scVI-integrated_annot_20-03-24.h5ad\"))"
   ]
  },
  {
   "cell_type": "markdown",
   "id": "2efe284b-db97-4f46-8e7f-39977c8612c0",
   "metadata": {},
   "source": [
    "### 7.2 Harmony Integrated Object"
   ]
  },
  {
   "cell_type": "code",
   "execution_count": null,
   "id": "af796e9b-1094-48d4-a6b2-c3bd5218f133",
   "metadata": {},
   "outputs": [],
   "source": [
    "# read adata object\n",
    "adata_harmony = sc.read(os.path.join(work_dir, \"data\", \"outputdata\", \"combined\", \"Combined_SCR_CO2_TCR_pp_all_harmony-integrated_12-03-24.h5ad\"))"
   ]
  },
  {
   "cell_type": "code",
   "execution_count": null,
   "id": "be8fdc14-8107-45e7-b06d-9bbd16d440f8",
   "metadata": {},
   "outputs": [],
   "source": [
    "adata_harmony"
   ]
  },
  {
   "cell_type": "code",
   "execution_count": null,
   "id": "2554542c-042e-4220-9409-23109bcfe51a",
   "metadata": {},
   "outputs": [],
   "source": [
    "# identfy technical sources of variation\n",
    "sc.pl.umap(\n",
    "    adata_harmony,\n",
    "    color=[\"pct_counts_mt\", \"pct_counts_ribo\", \"n_genes_by_counts\", \"total_counts\", \"doublet_score\", \"sample\"],\n",
    "    vmax=\"p99\",\n",
    "    frameon=False,\n",
    "    cmap=\"PuOr\",\n",
    "    use_raw=False,\n",
    "    ncols=2\n",
    ")"
   ]
  },
  {
   "cell_type": "code",
   "execution_count": null,
   "id": "1c85c236-04e7-47dd-8de0-bb20cfab5c4c",
   "metadata": {},
   "outputs": [],
   "source": [
    "sc.pl.umap(\n",
    "    adata_harmony,\n",
    "    color=[\"PTPRC\", \"CD4\", \"CD8A\", \"KLRF1\", \"MS4A1\", \"CD68\", \"EPCAM\", \"COL1A1\", \"CLDN5\", \"ALB\"],\n",
    "    vmax=\"p99\",\n",
    "    legend_loc=\"on data\",\n",
    "    frameon=False,\n",
    "    cmap=\"OrRd\",\n",
    "    use_raw=False\n",
    ")"
   ]
  },
  {
   "cell_type": "code",
   "execution_count": null,
   "id": "df09201a-7dd1-436e-a032-63c6d889ab62",
   "metadata": {},
   "outputs": [],
   "source": [
    "# check specific T cell markers to evaluate integration\n",
    "sc.pl.umap(\n",
    "    adata_harmony,\n",
    "    color=[\"PTPRC\", \"CD4\", \"CD8B\", \"CCR7\", \"IL7R\", \"ITGAE\", \"ZNF683\", \"IFNG\", \"GZMK\", \"PDCD1\", \"HAVCR2\", \"FOXP3\", \"CXCL13\", \"MKI67\", \"TRDC\", \"TRAV1-2\", \"KLRF1\"],\n",
    "    vmax=\"p99\",\n",
    "    legend_loc=\"on data\",\n",
    "    frameon=False,\n",
    "    cmap=\"OrRd\",\n",
    "    use_raw=False\n",
    ")"
   ]
  },
  {
   "cell_type": "code",
   "execution_count": null,
   "id": "522201f9-fe9e-4973-9703-9b3882763538",
   "metadata": {},
   "outputs": [],
   "source": [
    "# perform clustering\n",
    "sc.tl.leiden(adata_harmony, key_added=\"leiden_res0_25\", resolution=0.25)\n",
    "sc.tl.leiden(adata_harmony, key_added=\"leiden_res0_5\", resolution=0.5)\n",
    "sc.tl.leiden(adata_harmony, key_added=\"leiden_res0_75\", resolution=0.75)\n",
    "sc.tl.leiden(adata_harmony, key_added=\"leiden_res1\", resolution=1.0)"
   ]
  },
  {
   "cell_type": "code",
   "execution_count": null,
   "id": "4170722c-3e8f-419d-b11c-0984626a02cd",
   "metadata": {},
   "outputs": [],
   "source": [
    "# visulize clustering\n",
    "sc.pl.umap(\n",
    "    adata_harmony,\n",
    "    color=[\"leiden_res0_25\", \"leiden_res0_5\", \"leiden_res0_75\", \"leiden_res1\"],\n",
    "    legend_loc=\"on data\"\n",
    ")"
   ]
  },
  {
   "cell_type": "code",
   "execution_count": null,
   "id": "12308b79-0f8b-42cd-83d0-4eaa78038859",
   "metadata": {},
   "outputs": [],
   "source": [
    "sc.pl.umap(\n",
    "    adata_harmony,\n",
    "    color=[\"leiden_res0_5\", \"Annotation_1.0\"],\n",
    "    legend_loc=\"on data\",\n",
    "    legend_fontsize=9\n",
    ")"
   ]
  },
  {
   "cell_type": "code",
   "execution_count": null,
   "id": "1ba8e54d-d060-4fb0-80d0-7fa4f07a81b1",
   "metadata": {},
   "outputs": [],
   "source": [
    "## subcluster cluster 6, 8, 14\n",
    "sc.tl.leiden(adata_harmony, key_added=\"leiden_res0_5_1\", resolution=0.2, restrict_to = (\"leiden_res0_5\", [\"6\"]))\n",
    "sc.tl.leiden(adata_harmony, key_added=\"leiden_res0_5_1\", resolution=0.2, restrict_to = (\"leiden_res0_5_1\", [\"8\"]))\n",
    "sc.tl.leiden(adata_harmony, key_added=\"leiden_res0_5_1\", resolution=0.1, restrict_to = (\"leiden_res0_5_1\", [\"14\"]))"
   ]
  },
  {
   "cell_type": "code",
   "execution_count": null,
   "id": "c956ad41-6c65-4688-84d4-6b9660ab56db",
   "metadata": {},
   "outputs": [],
   "source": [
    "sc.pl.umap(\n",
    "    adata_harmony,\n",
    "    color=[\"leiden_res0_5_1\", \"Annotation_1.0\"],\n",
    "    legend_loc=\"on data\",\n",
    "    legend_fontsize=7\n",
    ")"
   ]
  },
  {
   "cell_type": "code",
   "execution_count": null,
   "id": "169c3ddb-ebf8-4c14-89d2-86a32adf2de2",
   "metadata": {
    "scrolled": true
   },
   "outputs": [],
   "source": [
    "# compute marker genes\n",
    "sc.tl.rank_genes_groups(\n",
    "    adata_harmony, groupby=\"leiden_res0_5_1\", method=\"wilcoxon\", key_added=\"dea_leiden_res0_5_1\", use_raw=False#, layer=\"rawcounts\" # do not use raw!\n",
    ")"
   ]
  },
  {
   "cell_type": "code",
   "execution_count": null,
   "id": "a92723fa-007a-49c1-b369-f5d92a611703",
   "metadata": {},
   "outputs": [],
   "source": [
    "'''\n",
    "sc.tl.filter_rank_genes_groups(\n",
    "    adata_scvi,\n",
    "    min_in_group_fraction=0.2,\n",
    "    max_out_group_fraction=0.2,\n",
    "    key=\"dea_leiden_res0_5_1\",\n",
    "    key_added=\"dea_leiden_res0_5_1_filtered\",\n",
    ")\n",
    "'''"
   ]
  },
  {
   "cell_type": "code",
   "execution_count": null,
   "id": "333863f1-b35e-4b37-b835-275ce34ebdb7",
   "metadata": {
    "scrolled": true
   },
   "outputs": [],
   "source": [
    "# dictionary to hold DataFrames for each cluster\n",
    "dfs = {}  \n",
    "\n",
    "# iterate over clusters \n",
    "for cluster in adata_harmony.obs[\"leiden_res0_5_1\"].unique().sort_values():\n",
    "    \n",
    "    # get marker genes for the current cluster\n",
    "    marker_genes = adata_harmony.uns[\"dea_leiden_res0_5_1\"][\"names\"][str(cluster)].tolist()  \n",
    "    scores = adata_harmony.uns[\"dea_leiden_res0_5_1\"][\"scores\"][str(cluster)].tolist()  \n",
    "    pvals = adata_harmony.uns[\"dea_leiden_res0_5_1\"][\"pvals\"][str(cluster)].tolist() \n",
    "    pvals_adj = adata_harmony.uns[\"dea_leiden_res0_5_1\"][\"pvals_adj\"][str(cluster)].tolist()\n",
    "    logfoldchanges = adata_harmony.uns[\"dea_leiden_res0_5_1\"][\"logfoldchanges\"][str(cluster)].tolist() \n",
    "\n",
    "    \n",
    "    # create a df for the current cluster's marker genes\n",
    "    df = pd.DataFrame({\"Gene\": marker_genes, \"Score\": scores, \"Pval\": pvals, \"PvalAdj\": pvals_adj, \"Log2Fold\": logfoldchanges})\n",
    "\n",
    "    # remove non signficant genes\n",
    "    df = df[df[\"PvalAdj\"] < 0.01]\n",
    "    df = df[df[\"Pval\"] < 0.01]\n",
    "    \n",
    "    # include just positive log fold changes \n",
    "    df = df[df[\"Log2Fold\"] > 0.4]\n",
    "    \n",
    "    # scale score \n",
    "    scores = df[\"Score\"]\n",
    "    scaled_scores = (np.array(scores) - np.min(scores)) / (np.max(scores) - np.min(scores)) \n",
    "\n",
    "    # scale log2fold\n",
    "    logfoldchanges = df[\"Log2Fold\"]\n",
    "    scaled_logfoldchanges = (np.array(logfoldchanges) - np.min(logfoldchanges)) / (np.max(logfoldchanges) - np.min(logfoldchanges)) \n",
    "    \n",
    "    # add scaled metrics as new df columns\n",
    "    df[\"ScaledScore\"] = scaled_scores\n",
    "    df[\"ScaledLog2Fold\"] = scaled_logfoldchanges\n",
    "    \n",
    "    # compute the final score\n",
    "    df[\"CustomScore\"] = (df[\"ScaledLog2Fold\"] * df[\"ScaledScore\"]) \n",
    "\n",
    "    # Sort df based on the final score in descending order\n",
    "    df = df.sort_values(by=\"CustomScore\", ascending=False)\n",
    "    \n",
    "    # add the DataFrame to the dictionary with the cluster as key\n",
    "    dfs[cluster] = df\n",
    "\n",
    "# save to excel\n",
    "with pd.ExcelWriter(os.path.join(work_dir, \"data\", \"markers\", \"Combined\", \"Combined_harmony-integrated_res0_5_markers_13-03-24.xlsx\")) as writer:\n",
    "    # save each cluster markers into a separate sheet\n",
    "    for cluster, df in dfs.items():\n",
    "        df.to_excel(writer, sheet_name=f'Cluster_{cluster}', index=False)"
   ]
  },
  {
   "cell_type": "code",
   "execution_count": null,
   "id": "a6eeec0b-8878-4eae-8dbc-0e6631933a5e",
   "metadata": {
    "scrolled": true
   },
   "outputs": [],
   "source": [
    "# known markers dotplot\n",
    "markers = [ \n",
    "    \"CD4\",\n",
    "    \"CD8B\",\n",
    "    \"KLRF1\",\n",
    "    \"TRAV1-2\",\n",
    "    \"FOXP3\",\n",
    "    \"MKI67\",\n",
    "    \"LYZ\",\n",
    "    \"LILRA4\",\n",
    "    \"TPSAB1\",\n",
    "    \"EPCAM\",\n",
    "    \"CLDN4\",\n",
    "    \"COL1A1\",\n",
    "    \"ALB\",\n",
    "    \"CDH1\",\n",
    "]\n",
    "\n",
    "sc.pl.dotplot(\n",
    "    adata_harmony,\n",
    "    groupby=\"leiden_res0_5_1\",\n",
    "    var_names=markers,\n",
    "    use_raw=False\n",
    ")"
   ]
  },
  {
   "cell_type": "code",
   "execution_count": null,
   "id": "1bf7286d-6b4c-4353-9113-1df5e4bd6dd5",
   "metadata": {},
   "outputs": [],
   "source": [
    "sc.pl.umap(\n",
    "    adata_harmony,\n",
    "    color=[\"leiden_res0_5_1\", \"Annotation_1.0\"],\n",
    "    legend_loc=\"on data\",\n",
    "    legend_fontsize=7\n",
    ")"
   ]
  },
  {
   "cell_type": "code",
   "execution_count": null,
   "id": "862dc1a9-8650-40ed-88fb-02ceeacd5007",
   "metadata": {},
   "outputs": [],
   "source": [
    "# save clustered anndata object\n",
    "adata_harmony.write(os.path.join(work_dir, \"data\", \"outputdata\", \"combined\", \"Combined_SCR_CO2_TCR_pp_all_harmony-integrated_cl_12-03-24.h5ad\"))"
   ]
  },
  {
   "cell_type": "code",
   "execution_count": null,
   "id": "36f38bc0-8611-416b-ada5-fde5ff54db64",
   "metadata": {},
   "outputs": [],
   "source": [
    "# read clustered anndata object\n",
    "adata_harmony = sc.read(os.path.join(work_dir, \"data\", \"outputdata\", \"combined\", \"Combined_SCR_CO2_TCR_pp_all_harmony-integrated_cl_12-03-24.h5ad\"))"
   ]
  },
  {
   "cell_type": "code",
   "execution_count": null,
   "id": "dbfc0d7e-cf5b-45df-ad98-56e262963469",
   "metadata": {},
   "outputs": [],
   "source": [
    "# carry out level 1 annotation \n",
    "annotation = {\n",
    "    \"0\":       \"CD8 T\",\n",
    "    \"1\":       \"Tumor\",\n",
    "    \"2\":       \"CD4 T\",\n",
    "    \"3\":       \"Myeloid\",\n",
    "    \"4\":       \"CD4 T\",\n",
    "    \"5\":       \"NK\",\n",
    "    \"6,0\":     \"CD8 T\",\n",
    "    \"6,1\":     \"NK\",\n",
    "    \"6,2\":     \"CD8 T\",\n",
    "    \"7\":       \"CD8 T\",  \n",
    "    \"8,0\":     \"CD8 T\",\n",
    "    \"8,1\":     \"Plasma\",\n",
    "    \"9\":       \"Tumor\",\n",
    "    \"10\":      \"B Cell\",\n",
    "    \"11\":      \"Endothelial\", \n",
    "    \"12\":      \"CAF\",\n",
    "    \"13\":      \"pDC\",\n",
    "    \"14,0\":    \"Liver Epithelial\", #not sure\n",
    "    \"14,1\":    \"Liver Epithelial\", #not sure\n",
    "    \"14,2\":    \"Liver Epithelial\", #not sure\n",
    "    \"14,3\":    \"Myeloid\", #not sure\n",
    "    \"15\":      \"Myeloid\",  #mast\n",
    "    \"16\":      \"Myeloid\",\n",
    "    \"17\":      \"Noise\", #?????  very few cells\n",
    "    \"18\":      \"Tumor\" # very few cells\n",
    "}\n",
    "\n",
    "adata_harmony.obs[\"Level_1_Annotation\"] = adata_harmony.obs.leiden_res0_5_1.map(annotation)"
   ]
  },
  {
   "cell_type": "code",
   "execution_count": null,
   "id": "5f7bdb6a-e8f2-46a0-a4b1-5d0cfbdff525",
   "metadata": {},
   "outputs": [],
   "source": [
    "# visualize annotation\n",
    "sc.pl.umap(\n",
    "    adata_harmony,\n",
    "    color=[\"leiden_res0_5_1\", \"Level_1_Annotation\", \"Annotation_1.0\"],\n",
    "    legend_loc=\"on data\",\n",
    "    legend_fontsize=7\n",
    ")"
   ]
  },
  {
   "cell_type": "code",
   "execution_count": null,
   "id": "1036d80f-c858-4d19-a814-b1022f3f71af",
   "metadata": {},
   "outputs": [],
   "source": [
    "# save annotated anndata object\n",
    "adata_harmony.write(os.path.join(work_dir, \"data\", \"outputdata\", \"combined\", \"Combined_SCR_CO2_TCR_pp_harmony-integrated_annot_20-03-24.h5ad\"))"
   ]
  },
  {
   "cell_type": "code",
   "execution_count": null,
   "id": "b19458dc-5c3e-49b5-a48f-97824ff792a7",
   "metadata": {},
   "outputs": [],
   "source": [
    "# read harmony integrated & annotated anndata object\n",
    "adata_harmony = sc.read(os.path.join(work_dir, \"data\", \"outputdata\", \"combined\", \"Combined_SCR_CO2_TCR_pp_harmony-integrated_annot_20-03-24.h5ad\"))"
   ]
  },
  {
   "cell_type": "markdown",
   "id": "110b58b3-84a1-4733-9ead-37b429f4f276",
   "metadata": {},
   "source": [
    "### 7.3 scGen Integrated Object"
   ]
  },
  {
   "cell_type": "code",
   "execution_count": null,
   "id": "dc8f2c9d-7329-4edf-94be-47269f974fe8",
   "metadata": {},
   "outputs": [],
   "source": [
    "# read adata object\n",
    "adata_scgen = sc.read(os.path.join(work_dir, \"data\", \"outputdata\", \"combined\", \"Combined_SCR_CO2_TCR_pp_all_scGen-integrated_12-03-24.h5ad\"))"
   ]
  },
  {
   "cell_type": "code",
   "execution_count": null,
   "id": "b79a1c28-5c0f-4320-8bea-d759b1bb182b",
   "metadata": {},
   "outputs": [],
   "source": [
    "adata_scgen"
   ]
  },
  {
   "cell_type": "code",
   "execution_count": null,
   "id": "be54bf64-bd1c-4d76-8af9-8eb0dff0d84f",
   "metadata": {},
   "outputs": [],
   "source": [
    "# identfy technical sources of variation\n",
    "sc.pl.umap(\n",
    "    adata_scgen,\n",
    "    color=[\"pct_counts_mt\", \"pct_counts_ribo\", \"n_genes_by_counts\", \"total_counts\", \"doublet_score\", \"sample\"],\n",
    "    vmax=\"p99\",\n",
    "    frameon=False,\n",
    "    cmap=\"PuOr\",\n",
    "    use_raw=False,\n",
    "    ncols=2\n",
    ")"
   ]
  },
  {
   "cell_type": "code",
   "execution_count": null,
   "id": "3e4e44eb-5ee3-423c-a038-0beab851e24f",
   "metadata": {},
   "outputs": [],
   "source": [
    "sc.pl.umap(\n",
    "    adata_scgen,\n",
    "    color=[\"PTPRC\", \"CD4\", \"CD8A\", \"KLRF1\", \"MS4A1\", \"CD68\", \"EPCAM\", \"COL1A1\", \"CLDN5\", \"ALB\"],\n",
    "    vmax=\"p99\",\n",
    "    legend_loc=\"on data\",\n",
    "    frameon=False,\n",
    "    cmap=\"OrRd\",\n",
    "    use_raw=False\n",
    ")"
   ]
  },
  {
   "cell_type": "code",
   "execution_count": null,
   "id": "c6a52495-a36a-4217-9af1-5c5d82b0e232",
   "metadata": {},
   "outputs": [],
   "source": [
    "# check specific T cell markers to evaluate integration\n",
    "sc.pl.umap(\n",
    "    adata_scgen,\n",
    "    color=[\"PTPRC\", \"CD4\", \"CD8B\", \"CCR7\", \"IL7R\", \"ITGAE\", \"ZNF683\", \"IFNG\", \"GZMK\", \"PDCD1\", \"HAVCR2\", \"FOXP3\", \"CXCL13\", \"MKI67\", \"TRDC\", \"TRAV1-2\", \"KLRF1\"],\n",
    "    vmax=\"p99\",\n",
    "    legend_loc=\"on data\",\n",
    "    frameon=False,\n",
    "    cmap=\"OrRd\",\n",
    "    use_raw=False,\n",
    ")"
   ]
  },
  {
   "cell_type": "code",
   "execution_count": null,
   "id": "bc502eba-3450-4d78-8d94-33a33509af43",
   "metadata": {},
   "outputs": [],
   "source": [
    "# perform clustering\n",
    "sc.tl.leiden(adata_scgen, key_added=\"leiden_res0_25\", resolution=0.25)\n",
    "sc.tl.leiden(adata_scgen, key_added=\"leiden_res0_5\", resolution=0.5)\n",
    "sc.tl.leiden(adata_scgen, key_added=\"leiden_res0_75\", resolution=0.75)\n",
    "sc.tl.leiden(adata_scgen, key_added=\"leiden_res1\", resolution=1.0)"
   ]
  },
  {
   "cell_type": "code",
   "execution_count": null,
   "id": "6ea2dced-fe28-4ff0-b77c-ccc717aa0679",
   "metadata": {},
   "outputs": [],
   "source": [
    "# visulize clustering\n",
    "sc.pl.umap(\n",
    "    adata_scgen,\n",
    "    color=[\"leiden_res0_25\", \"leiden_res0_5\", \"leiden_res0_75\", \"leiden_res1\"],\n",
    "    legend_loc=\"on data\"\n",
    ")"
   ]
  },
  {
   "cell_type": "code",
   "execution_count": null,
   "id": "111f0e73-5fd0-43b7-bb22-a7f0842754a0",
   "metadata": {},
   "outputs": [],
   "source": [
    "sc.pl.umap(\n",
    "    adata_scgen,\n",
    "    color=[\"leiden_res0_5\", \"Annotation_1.0\"],\n",
    "    legend_loc=\"on data\",\n",
    "    legend_fontsize=9,\n",
    ")"
   ]
  },
  {
   "cell_type": "code",
   "execution_count": null,
   "id": "4f57bda1-7255-4f04-8afa-b1a4b1a04d17",
   "metadata": {},
   "outputs": [],
   "source": [
    "## subcluster cluster 6, 8, 14\n",
    "sc.tl.leiden(adata_scgen, key_added=\"leiden_res0_5_1\", resolution=0.1, restrict_to = (\"leiden_res0_5\", [\"6\"]))\n",
    "sc.tl.leiden(adata_scgen, key_added=\"leiden_res0_5_1\", resolution=0.1, restrict_to = (\"leiden_res0_5_1\", [\"11\"]))"
   ]
  },
  {
   "cell_type": "code",
   "execution_count": null,
   "id": "e807937b-58d5-4abc-8bcd-e5cd4988667b",
   "metadata": {},
   "outputs": [],
   "source": [
    "sc.pl.umap(\n",
    "    adata_scgen,\n",
    "    color=[\"leiden_res0_5_1\", \"Annotation_1.0\"],\n",
    "    legend_loc=\"on data\",\n",
    "    legend_fontsize=7\n",
    ")"
   ]
  },
  {
   "cell_type": "code",
   "execution_count": null,
   "id": "67e6c410-36d9-423a-82c9-a0305d73e9e9",
   "metadata": {
    "scrolled": true
   },
   "outputs": [],
   "source": [
    "# compute marker genes\n",
    "sc.tl.rank_genes_groups(\n",
    "    adata_scgen, groupby=\"leiden_res0_5_1\", method=\"wilcoxon\", key_added=\"dea_leiden_res0_5_1\", use_raw=False\n",
    ")"
   ]
  },
  {
   "cell_type": "code",
   "execution_count": null,
   "id": "3324ad08-aa82-4a1b-a776-78f03699059e",
   "metadata": {},
   "outputs": [],
   "source": [
    "'''\n",
    "sc.tl.filter_rank_genes_groups(\n",
    "    adata_scvi,\n",
    "    min_in_group_fraction=0.2,\n",
    "    max_out_group_fraction=0.2,\n",
    "    key=\"dea_leiden_res0_5_1\",\n",
    "    key_added=\"dea_leiden_res0_5_1_filtered\",\n",
    ")\n",
    "'''"
   ]
  },
  {
   "cell_type": "code",
   "execution_count": null,
   "id": "58110b2f-1926-483d-9815-8a4f901710e6",
   "metadata": {
    "scrolled": true
   },
   "outputs": [],
   "source": [
    "# dictionary to hold DataFrames for each cluster\n",
    "dfs = {}  \n",
    "\n",
    "# iterate over clusters \n",
    "for cluster in adata_scgen.obs[\"leiden_res0_5_1\"].unique().sort_values():\n",
    "    \n",
    "    # get marker genes for the current cluster\n",
    "    marker_genes = adata_scgen.uns[\"dea_leiden_res0_5_1\"][\"names\"][str(cluster)].tolist()  \n",
    "    scores = adata_scgen.uns[\"dea_leiden_res0_5_1\"][\"scores\"][str(cluster)].tolist()  \n",
    "    pvals = adata_scgen.uns[\"dea_leiden_res0_5_1\"][\"pvals\"][str(cluster)].tolist() \n",
    "    pvals_adj = adata_scgen.uns[\"dea_leiden_res0_5_1\"][\"pvals_adj\"][str(cluster)].tolist()\n",
    "    logfoldchanges = adata_scgen.uns[\"dea_leiden_res0_5_1\"][\"logfoldchanges\"][str(cluster)].tolist() \n",
    "\n",
    "    \n",
    "    # create a df for the current cluster's marker genes\n",
    "    df = pd.DataFrame({\"Gene\": marker_genes, \"Score\": scores, \"Pval\": pvals, \"PvalAdj\": pvals_adj, \"Log2Fold\": logfoldchanges})\n",
    "\n",
    "    # remove non signficant genes\n",
    "    df = df[df[\"PvalAdj\"] < 0.01]\n",
    "    df = df[df[\"Pval\"] < 0.01]\n",
    "    \n",
    "    # include just positive log fold changes \n",
    "    df = df[df[\"Log2Fold\"] > 0.4]\n",
    "    \n",
    "    # scale score \n",
    "    scores = df[\"Score\"]\n",
    "    scaled_scores = (np.array(scores) - np.min(scores)) / (np.max(scores) - np.min(scores)) \n",
    "\n",
    "    # scale log2fold\n",
    "    logfoldchanges = df[\"Log2Fold\"]\n",
    "    scaled_logfoldchanges = (np.array(logfoldchanges) - np.min(logfoldchanges)) / (np.max(logfoldchanges) - np.min(logfoldchanges)) \n",
    "    \n",
    "    # add scaled metrics as new df columns\n",
    "    df[\"ScaledScore\"] = scaled_scores\n",
    "    df[\"ScaledLog2Fold\"] = scaled_logfoldchanges\n",
    "    \n",
    "    # compute the final score\n",
    "    df[\"CustomScore\"] = (df[\"ScaledLog2Fold\"] * df[\"ScaledScore\"]) \n",
    "\n",
    "    # Sort df based on the final score in descending order\n",
    "    df = df.sort_values(by=\"CustomScore\", ascending=False)\n",
    "    \n",
    "    # add the DataFrame to the dictionary with the cluster as key\n",
    "    dfs[cluster] = df\n",
    "\n",
    "# save to excel\n",
    "with pd.ExcelWriter(os.path.join(work_dir, \"data\", \"markers\", \"Combined\", \"Combined_scGen-integrated_res0_5_markers_13-03-24.xlsx\")) as writer:\n",
    "    # save each cluster markers into a separate sheet\n",
    "    for cluster, df in dfs.items():\n",
    "        df.to_excel(writer, sheet_name=f'Cluster_{cluster}', index=False)"
   ]
  },
  {
   "cell_type": "code",
   "execution_count": null,
   "id": "d41b764f-274f-486d-9738-53358f7a40f1",
   "metadata": {
    "scrolled": true
   },
   "outputs": [],
   "source": [
    "# known markers dotplot\n",
    "markers = [ \n",
    "    \"CD4\",\n",
    "    \"CD8B\",\n",
    "    \"KLRF1\",\n",
    "    \"TRAV1-2\",\n",
    "    \"FOXP3\",\n",
    "    \"MKI67\",\n",
    "    \"LYZ\",\n",
    "    \"LILRA4\",\n",
    "    \"TPSAB1\",\n",
    "    \"EPCAM\",\n",
    "    \"CLDN4\",\n",
    "    \"COL1A1\",\n",
    "    \"ALB\",\n",
    "    \"CDH1\",\n",
    "]\n",
    "\n",
    "sc.pl.dotplot(\n",
    "    adata_scgen,\n",
    "    groupby=\"leiden_res0_5_1\",\n",
    "    var_names=markers,\n",
    "    use_raw=False\n",
    ")"
   ]
  },
  {
   "cell_type": "code",
   "execution_count": null,
   "id": "e46d064a-0509-473a-a23c-b2ec886b45bb",
   "metadata": {},
   "outputs": [],
   "source": [
    "sc.pl.umap(\n",
    "    adata_scgen,\n",
    "    color=[\"leiden_res0_5_1\", \"Annotation_1.0\"],\n",
    "    legend_loc=\"on data\",\n",
    "    legend_fontsize=7\n",
    ")"
   ]
  },
  {
   "cell_type": "code",
   "execution_count": null,
   "id": "8aff251c-af01-4b3d-8df4-66bf93c7728e",
   "metadata": {},
   "outputs": [],
   "source": [
    "# save clustered anndata object\n",
    "adata_harmony.write(os.path.join(work_dir, \"data\", \"outputdata\", \"combined\", \"Combined_SCR_CO2_TCR_pp_all_scGen-integrated_cl_12-03-24.h5ad\"))"
   ]
  },
  {
   "cell_type": "code",
   "execution_count": null,
   "id": "9a377d4e-976f-4260-b43f-1fda1243dc1b",
   "metadata": {},
   "outputs": [],
   "source": [
    "# read clustered anndata object\n",
    "adata_harmony = sc.read(os.path.join(work_dir, \"data\", \"outputdata\", \"combined\", \"Combined_SCR_CO2_TCR_pp_all_scGen-integrated_cl_12-03-24.h5ad\"))"
   ]
  },
  {
   "cell_type": "code",
   "execution_count": null,
   "id": "8b495683-3606-48ee-a7de-612421e7e807",
   "metadata": {},
   "outputs": [],
   "source": [
    "# carry out level 1 annotation \n",
    "annotation = {\n",
    "    \"0\":       \"CD8 T\",\n",
    "    \"1\":       \"CD4 T\",\n",
    "    \"2\":       \"Tumor\",\n",
    "    \"3\":       \"NK\",\n",
    "    \"4\":       \"Myeloid\",\n",
    "    \"5\":       \"CD8 T\",\n",
    "    \"6,0\":     \"Endothelial\",\n",
    "    \"6,1\":     \"CAF\",\n",
    "    \"6,2\":     \"Endothelial\",  # lymphatic vessels\n",
    "    \"6,3\":     \"CAF\",\n",
    "    \"7\":       \"CD8 T\",  \n",
    "    \"8\":       \"Tumor\",\n",
    "    \"9\":       \"B Cell\",\n",
    "    \"10\":      \"pDC\",\n",
    "    \"11,0\":    \"Plasma\", \n",
    "    \"11,1\":    \"Liver Epithelial\", \n",
    "    \"12\":      \"Liver Epithelial\",\n",
    "    \"13\":      \"Myeloid\", #cDC\n",
    "    \"14\":      \"Myeloid\", #mast\n",
    "    \"15\":      \"Noise\", \n",
    "}\n",
    "\n",
    "adata_scgen.obs[\"Level_1_Annotation\"] = adata_scgen.obs.leiden_res0_5_1.map(annotation)"
   ]
  },
  {
   "cell_type": "code",
   "execution_count": null,
   "id": "9507f7db-679d-4216-a6a7-f8342d32cf68",
   "metadata": {},
   "outputs": [],
   "source": [
    "# visualize annotation\n",
    "sc.pl.umap(\n",
    "    adata_scgen,\n",
    "    color=[\"leiden_res0_5_1\", \"Level_1_Annotation\", \"Annotation_1.0\"],\n",
    "    legend_loc=\"on data\",\n",
    "    legend_fontsize=7\n",
    ")"
   ]
  },
  {
   "cell_type": "code",
   "execution_count": null,
   "id": "5a842360-7aad-4711-b9e6-8e71dd2ee943",
   "metadata": {},
   "outputs": [],
   "source": [
    "# save annotated anndata object\n",
    "adata_scgen.write(os.path.join(work_dir, \"data\", \"outputdata\", \"combined\", \"Combined_SCR_CO2_TCR_pp_scGen-integrated_annot_20-03-24.h5ad\"))"
   ]
  },
  {
   "cell_type": "code",
   "execution_count": null,
   "id": "aa5e6cfc-2e43-444d-b5e6-0affc3e3fd92",
   "metadata": {},
   "outputs": [],
   "source": [
    "# read scGen integrated & annotated anndata object\n",
    "adata_scgen = sc.read(os.path.join(work_dir, \"data\", \"outputdata\", \"combined\", \"Combined_SCR_CO2_TCR_pp_scGen-integrated_annot_20-03-24.h5ad\"))"
   ]
  },
  {
   "cell_type": "markdown",
   "id": "a679f13d-b06a-4859-a67e-8cbc0d742dd0",
   "metadata": {},
   "source": [
    "### 08. Annotation Comparison (Mini Integration Benchmark)"
   ]
  },
  {
   "cell_type": "code",
   "execution_count": null,
   "id": "8075e525-0e83-466f-9586-85dbd7502505",
   "metadata": {},
   "outputs": [],
   "source": [
    "# https://docs.scvi-tools.org/en/latest/tutorials/notebooks/scrna/scanvi_fix.html"
   ]
  },
  {
   "cell_type": "code",
   "execution_count": null,
   "id": "3803a926-247e-42c4-b39b-9ec016ce9b42",
   "metadata": {},
   "outputs": [],
   "source": [
    "# load anndata objects\n",
    "adata_scvi = sc.read_h5ad(os.path.join(work_dir, \"data\", \"outputdata\", \"combined\", \"Combined_SCR_CO2_TCR_pp_scVI-integrated_annot_20-03-24.h5ad\"))\n",
    "adata_harmony = sc.read_h5ad(os.path.join(work_dir, \"data\", \"outputdata\", \"combined\", \"Combined_SCR_CO2_TCR_pp_harmony-integrated_annot_20-03-24.h5ad\"))\n",
    "adata_scgen = sc.read_h5ad(os.path.join(work_dir, \"data\", \"outputdata\", \"combined\", \"Combined_SCR_CO2_TCR_pp_scGen-integrated_annot_20-03-24.h5ad\"))"
   ]
  },
  {
   "cell_type": "code",
   "execution_count": null,
   "id": "e6dbe2ae-97bb-43c6-8eb4-4ef74a4c5d0f",
   "metadata": {},
   "outputs": [],
   "source": [
    "adata = adata_scvi.copy()"
   ]
  },
  {
   "cell_type": "code",
   "execution_count": null,
   "id": "da9db16e-1211-45e7-97b6-4d06aca09cb0",
   "metadata": {},
   "outputs": [],
   "source": [
    "# transfer embeddings, and annotation\n",
    "\n",
    "adata.obs[\"scVI_Annotation_1.0\"] = adata_scvi.obs[\"Level_1_Annotation\"]\n",
    "adata.obs[\"harmony_Annotation_1.0\"] = adata_harmony.obs[\"Level_1_Annotation\"]\n",
    "adata.obs[\"scGen_Annotation_1.0\"] = adata_scgen.obs[\"Level_1_Annotation\"]\n",
    "\n",
    "adata.obs[\"Prior_Annotation_1.0\"] = adata_scgen.obs[\"Annotation_1.0\"]\n",
    "adata.obs[\"Prior_Annotation_2.0\"] = adata_scgen.obs[\"Annotation_2.0\"]\n",
    "\n",
    "adata.obsm[\"X_pca_harmony\"] = adata_harmony.obsm[\"X_pca_harmony\"]\n",
    "adata.obsm[\"X_scVI\"] = adata_scvi.obsm[\"X_scVI\"]\n",
    "adata.obsm[\"scGen_corrected_latent\"] = adata_scgen.obsm[\"scGen_corrected_latent\"]"
   ]
  },
  {
   "cell_type": "code",
   "execution_count": null,
   "id": "e12c490e-799f-4c66-92e1-7be1d81e3ba4",
   "metadata": {},
   "outputs": [],
   "source": [
    "adata.obs.drop(\"Annotation_1.0\", axis=1, inplace=True)\n",
    "adata.obs[\"Annotation_1.0\"] = adata.obs[\"Level_1_Annotation\"]\n",
    "adata.obs.drop(\"Level_1_Annotation\", axis=1, inplace=True)"
   ]
  },
  {
   "cell_type": "code",
   "execution_count": null,
   "id": "f5af9234-4f2a-48aa-bab3-bec5e00e6df7",
   "metadata": {},
   "outputs": [],
   "source": [
    "# adjust annotation labels to have consistency\n",
    "# consensus annotation: T Cell, B Cell, NK, Plasma, pDC, Tumor, Endothelial, CAF, Liver Epithelial, Myeloid\n",
    "print(adata.obs[\"Prior_Annotation_1.0\"].unique())\n",
    "adata.obs[\"Prior_Annotation_1.0\"] = adata.obs[\"Prior_Annotation_1.0\"].replace({\"T Cells\": \"T Cell\", \n",
    "                                                                        \"B Cells\": \"B Cell\",\n",
    "                                                                        \"CAFs\": \"CAF\",\n",
    "                                                                        \"Plasma Cells\": \"Plasma\",\n",
    "                                                                        \"pDCs\": \"pDC\",\n",
    "                                                                        \"Hepatocytes\": \"Liver Epithelial\",\n",
    "                                                                        \"EMT-like\": \"Liver Epithelial\",\n",
    "                                                                        })\n",
    "print(adata.obs[\"Prior_Annotation_1.0\"].unique())"
   ]
  },
  {
   "cell_type": "code",
   "execution_count": null,
   "id": "957fd0d2-66b4-47a9-a1e8-1990a0bec4a0",
   "metadata": {},
   "outputs": [],
   "source": [
    "adata.obs"
   ]
  },
  {
   "cell_type": "code",
   "execution_count": null,
   "id": "834f37d3-3f20-4cf4-a50e-f9ed6e665d9f",
   "metadata": {},
   "outputs": [],
   "source": [
    "# compute neighbors and umap for all embeddings\n",
    "\n",
    "# scGen\n",
    "sc.pp.neighbors(adata, use_rep=\"scGen_corrected_latent\", key_added=\"scGen_neighbors\")\n",
    "sc.tl.umap(adata, neighbors_key=\"scGen_neighbors\")\n",
    "adata.obsm['scGen_umap'] = adata.obsm['X_umap'].copy()\n",
    "\n",
    "# scVI\n",
    "sc.pp.neighbors(adata, use_rep=\"X_scVI\", key_added=\"scVI_neighbors\")\n",
    "sc.tl.umap(adata, neighbors_key=\"scVI_neighbors\")\n",
    "adata.obsm['scVI_umap'] = adata.obsm['X_umap'].copy()\n",
    "\n",
    "# scGen\n",
    "sc.pp.neighbors(adata, use_rep=\"X_pca_harmony\", key_added=\"harmony_neighbors\")\n",
    "sc.tl.umap(adata, neighbors_key=\"harmony_neighbors\")\n",
    "adata.obsm['harmony_umap'] = adata.obsm['X_umap'].copy()"
   ]
  },
  {
   "cell_type": "code",
   "execution_count": null,
   "id": "88001668-1a6d-465d-b869-921311bedc90",
   "metadata": {},
   "outputs": [],
   "source": [
    "# compare embeddings\n",
    "plt.rcParams[\"figure.figsize\"] = (3, 3)\n",
    "sc.settings.figdir = os.path.join(work_dir, \"figures\", \"TFM\", \"FigS1/\")\n",
    "sc.set_figure_params(dpi=120, dpi_save=300, format='pdf')\n",
    "\n",
    "sc.pl.embedding(\n",
    "    adata,\n",
    "    basis='scVI_umap',\n",
    "    color=['Prior_Annotation_1.0', 'scVI_Annotation_1.0', 'subproject'],\n",
    "    use_raw=False,\n",
    "    wspace=.3,\n",
    "    legend_fontsize=8,\n",
    "    frameon=False,\n",
    "    title=['Prior Annotation 1.0', 'scVI Annotation 1.0', 'Subproject'],\n",
    "    ncols=3,\n",
    "    show=False,\n",
    "    save=\"integration_scVI.pdf\"\n",
    ")\n",
    "\n",
    "sc.pl.embedding(\n",
    "    adata,\n",
    "    basis='harmony_umap',\n",
    "    color=['Prior_Annotation_1.0', 'harmony_Annotation_1.0', 'subproject'],\n",
    "    use_raw=False,\n",
    "    wspace=.3,\n",
    "    legend_fontsize=8,\n",
    "    frameon=False,\n",
    "    title=['Prior Annotation 1.0', 'Harmony Annotation 1.0', 'Subproject'],\n",
    "    ncols=3,\n",
    "    show=False,\n",
    "    save=\"integration_harmony.pdf\"\n",
    ")\n",
    "\n",
    "sc.pl.embedding(\n",
    "    adata,\n",
    "    basis='scGen_umap',\n",
    "    color=['Prior_Annotation_1.0', 'scGen_Annotation_1.0', 'subproject'],\n",
    "    use_raw=False,\n",
    "    wspace=.3,\n",
    "    legend_fontsize=8,\n",
    "    frameon=False,\n",
    "    title=['Prior Annotation 1.0', 'scGen Annotation 1.0', 'Subproject'],\n",
    "    ncols=3,\n",
    "    show=False,\n",
    "    save=\"integration_scGen.pdf\"\n",
    ")"
   ]
  },
  {
   "cell_type": "code",
   "execution_count": null,
   "id": "fb33c1d7-a109-43f9-9afa-e3bd71388004",
   "metadata": {},
   "outputs": [],
   "source": [
    "# plot confusion matrices\n",
    "import seaborn as sns\n",
    "\n",
    "plt.rcParams[\"figure.figsize\"] = [18, 12]\n",
    "\n",
    "fig, (ax1, ax2, ax3) = plt.subplots(ncols=1, nrows=3)\n",
    "\n",
    "cmtx1 = sc.metrics.confusion_matrix(\"scVI_Annotation_1.0\", \"Prior_Annotation_1.0\", adata.obs)\n",
    "cmtx1 = cmtx1.reindex(columns=[\"B Cell\", \"CAF\", \"T Cell\", \"Endothelial\", \"Liver Epithelial\", \"Myeloid\", \"NK\", \"Plasma\", \"Tumor\", \"pDC\"])\n",
    "\n",
    "sns.heatmap(cmtx1, annot=True, \n",
    "                 cbar=False, \n",
    "                 square=True,\n",
    "                 cmap=\"copper\",\n",
    "                 ax=ax1,\n",
    "                 annot_kws={'size': 5}\n",
    "                )\n",
    "ax1.set_xlabel('', fontsize=12)\n",
    "ax1.set_ylabel('scVI Annotation 1.0', fontsize=12)\n",
    "ax1.set_xticklabels(ax1.get_xmajorticklabels(), fontsize = 10)\n",
    "ax1.set_yticklabels(ax1.get_ymajorticklabels(), fontsize = 10)\n",
    "\n",
    "cmtx2 = sc.metrics.confusion_matrix(\"harmony_Annotation_1.0\", \"Prior_Annotation_1.0\", adata.obs)\n",
    "cmtx2 = cmtx2.reindex(columns=[\"B Cell\", \"CAF\", \"T Cell\", \"Endothelial\", \"Liver Epithelial\", \"Myeloid\", \"NK\", \"Plasma\", \"Tumor\", \"pDC\"])\n",
    "\n",
    "sns.heatmap(cmtx2, annot=True, \n",
    "                 cbar=False, \n",
    "                 square=True,\n",
    "                 cmap=\"copper\",\n",
    "                 ax=ax2,\n",
    "                 annot_kws={'size': 5}\n",
    "                )\n",
    "ax2.set_xlabel('', fontsize=12)\n",
    "ax2.set_ylabel('Harmony Annotation 1.0', fontsize=12)\n",
    "ax2.set_xticklabels(ax2.get_xmajorticklabels(), fontsize = 10)\n",
    "ax2.set_yticklabels(ax2.get_ymajorticklabels(), fontsize = 10)\n",
    "\n",
    "cmtx3 = sc.metrics.confusion_matrix(\"scGen_Annotation_1.0\", \"Prior_Annotation_1.0\", adata.obs)\n",
    "cmtx3 = cmtx3.reindex(columns=[\"B Cell\", \"CAF\", \"T Cell\", \"Endothelial\", \"Liver Epithelial\", \"Myeloid\", \"NK\", \"Plasma\", \"Tumor\", \"pDC\"])\n",
    "\n",
    "sns.heatmap(cmtx3, annot=True, \n",
    "                 cbar=False, \n",
    "                 square=True,\n",
    "                 cmap=\"copper\",\n",
    "                 ax=ax3,\n",
    "                 annot_kws={'size': 5}\n",
    "                )\n",
    "ax3.set_xlabel('Groundtruth Annotation 1.0', fontsize=12)\n",
    "ax3.set_ylabel('scGen Annotation 1.0', fontsize=12)\n",
    "ax3.set_xticklabels(ax3.get_xmajorticklabels(), fontsize = 10)\n",
    "ax3.set_yticklabels(ax3.get_ymajorticklabels(), fontsize = 10)\n",
    "\n",
    "fig.subplots_adjust(wspace=.6, hspace=.6)\n",
    "\n",
    "plt.savefig(fig_dir+'Confusion_matrices_integration_bench.png', dpi=300)\n",
    "plt.savefig(os.path.join(work_dir, \"figures\", \"TFM\", \"FigS1\",'Confusion_matrices_integration_bench.pdf'), dpi=300)\n",
    "\n",
    "plt.show()"
   ]
  },
  {
   "cell_type": "code",
   "execution_count": null,
   "id": "936ae3e9-6622-4e3a-8a4a-f04d91918ae1",
   "metadata": {},
   "outputs": [],
   "source": [
    "sc.settings.figdir = os.path.join(work_dir, \"figures\", \"combined\", \"main_analysis\", \"final_figures/\")\n",
    "sc.set_figure_params(dpi=120, dpi_save=300, format='png')"
   ]
  },
  {
   "cell_type": "code",
   "execution_count": null,
   "id": "a93d6943-91a9-421a-a049-c8f3c8179239",
   "metadata": {},
   "outputs": [],
   "source": [
    "import seaborn as sns\n",
    "sns.__version__"
   ]
  },
  {
   "cell_type": "code",
   "execution_count": null,
   "id": "04672b40-b68c-40dd-b626-76ed5996006c",
   "metadata": {
    "scrolled": true
   },
   "outputs": [],
   "source": [
    "from scib_metrics.benchmark import Benchmarker\n",
    "bm = Benchmarker(\n",
    "    adata,\n",
    "    batch_key=\"subproject\",\n",
    "    label_key=\"Prior_Annotation_1.0\",\n",
    "    embedding_obsm_keys=[\n",
    "        \"X_pca\",\n",
    "        \"X_pca_harmony\",\n",
    "        \"X_scVI\",\n",
    "        \"scGen_corrected_latent\"\n",
    "    ],\n",
    "    n_jobs=16,\n",
    "        \n",
    ")\n",
    "bm.benchmark()"
   ]
  },
  {
   "cell_type": "code",
   "execution_count": null,
   "id": "50f797d6-e7fc-4b42-b4c5-647657173ae9",
   "metadata": {},
   "outputs": [],
   "source": [
    "bm.plot_results_table(min_max_scale=False)"
   ]
  },
  {
   "cell_type": "code",
   "execution_count": null,
   "id": "72c5f8e1-0d08-4b07-a0a3-f5e202a603c4",
   "metadata": {},
   "outputs": [],
   "source": [
    "# add random as control -- randomized PCA\n",
    "adata.varm"
   ]
  },
  {
   "cell_type": "code",
   "execution_count": null,
   "id": "00739c97-13e3-4f61-9fe9-6678c3705a8f",
   "metadata": {},
   "outputs": [],
   "source": [
    "adata.obs[\"Annotation_1.0\"].unique()"
   ]
  },
  {
   "cell_type": "code",
   "execution_count": null,
   "id": "e8111921-fd5e-4925-aa23-0c6c677c1b83",
   "metadata": {},
   "outputs": [],
   "source": [
    "# immune cells only benchmark\n",
    "adata_immune = adata[adata.obs[\"Annotation_1.0\"].isin([\"CD8 T\", \"CD4 T\", \"NK\", \"pDC\", \"Myeloid\", \"Plasma\", \"B Cell\"])].copy()"
   ]
  },
  {
   "cell_type": "code",
   "execution_count": null,
   "id": "c5fbf22a-d4ae-48b7-b3a1-555e502838b3",
   "metadata": {},
   "outputs": [],
   "source": [
    "adata_immune.obs[\"Annotation_1.0\"]"
   ]
  },
  {
   "cell_type": "code",
   "execution_count": null,
   "id": "1084f481-f4f3-446b-ae0f-9eb4b4836f66",
   "metadata": {},
   "outputs": [],
   "source": [
    "from scib_metrics.benchmark import Benchmarker\n",
    "bm2 = Benchmarker(\n",
    "    adata_immune,\n",
    "    batch_key=\"subproject\",\n",
    "    label_key=\"Prior_Annotation_1.0\",\n",
    "    embedding_obsm_keys=[\n",
    "        \"X_pca\",\n",
    "        \"X_pca_harmony\",\n",
    "        \"X_scVI\",\n",
    "        \"scGen_corrected_latent\"\n",
    "    ],\n",
    "    n_jobs=16,\n",
    "        \n",
    ")\n",
    "bm2.benchmark()"
   ]
  },
  {
   "cell_type": "code",
   "execution_count": null,
   "id": "f7dcfa9d-f242-49b2-b159-7993c660d427",
   "metadata": {},
   "outputs": [],
   "source": [
    "bm2.plot_results_table(min_max_scale=False)"
   ]
  },
  {
   "cell_type": "code",
   "execution_count": null,
   "id": "734152a3-515e-4887-bab6-22ff41872b6b",
   "metadata": {},
   "outputs": [],
   "source": [
    "# save anndata object\n",
    "adata.write(os.path.join(work_dir, \"data\", \"outputdata\", \"combined\", \"Combined_SCR_CO2_TCR_full-integrated_annot_22-03-24.h5ad\"))"
   ]
  },
  {
   "cell_type": "code",
   "execution_count": null,
   "id": "1cce72dd-055f-4a9f-bab8-3adcf032aa58",
   "metadata": {},
   "outputs": [],
   "source": [
    "# read anndata object\n",
    "adata = sc.read_h5ad(os.path.join(work_dir, \"data\", \"outputdata\", \"combined\", \"Combined_SCR_CO2_TCR_full-integrated_annot_22-03-24.h5ad\"))"
   ]
  },
  {
   "cell_type": "markdown",
   "id": "147f96e8-2a7a-442d-bc3d-8dc43ad7b46b",
   "metadata": {},
   "source": [
    "### Integration Method Selection"
   ]
  },
  {
   "cell_type": "code",
   "execution_count": null,
   "id": "39847fc3-5ddc-475c-bca5-3df1e481542d",
   "metadata": {},
   "outputs": [],
   "source": [
    "# adjust parameters to selected method\n",
    "adata.obs[\"Annotation_1.0\"] = adata.obs[\"scVI_Annotation_1.0\"]\n",
    "adata.obsm[\"X_umap\"] = adata.obsm[\"scVI_umap\"].copy()\n",
    "adata.uns[\"neighbors\"] = adata.uns[\"scVI_neighbors\"].copy()"
   ]
  },
  {
   "cell_type": "code",
   "execution_count": null,
   "id": "d1756e39-9190-4ac0-940c-2ac2eb40d942",
   "metadata": {},
   "outputs": [],
   "source": [
    "# add response and ICI status categorical variables in metadata\n",
    "adata.obs[\"response\"] = np.where(adata.obs[\"patient\"] == \"08\", \"SD\", \"PD\")\n",
    "\n",
    "adata.obs[\"ICI_status\"] = [None]*len(adata.obs_names)\n",
    "for cell in adata.obs_names:\n",
    "    if adata.obs.loc[cell, \"timepoint\"] == \"SCR\":\n",
    "        adata.obs.loc[cell, \"ICI_status\"] = \"-ICI\"\n",
    "    elif ((adata.obs.loc[cell, \"timepoint\"] == \"C02\") & (adata.obs.loc[cell, \"response\"] == \"PD\")):\n",
    "        adata.obs.loc[cell, \"ICI_status\"] = \"+ICI/PD\"\n",
    "    else:\n",
    "        adata.obs.loc[cell, \"ICI_status\"] = \"+ICI/SD\"\n",
    "          "
   ]
  },
  {
   "cell_type": "code",
   "execution_count": null,
   "id": "8254690e-13cc-403f-a1ba-b5bb18fd19ed",
   "metadata": {},
   "outputs": [],
   "source": [
    "# add condition variable\n",
    "adata.obs[\"Condition\"] = np.where(adata.obs[\"timepoint\"] == \"SCR\", \"T0/-ICI\", \"T1/+ICI\")\n",
    "adata.obs[\"Timepoint\"] = np.where(adata.obs[\"timepoint\"] == \"SCR\", \"T0\", \"T1\")\n"
   ]
  },
  {
   "cell_type": "code",
   "execution_count": null,
   "id": "feda7d59-cb1a-4c8a-bcdf-df91cf2f0148",
   "metadata": {},
   "outputs": [],
   "source": [
    "adata.obs"
   ]
  },
  {
   "cell_type": "code",
   "execution_count": null,
   "id": "b69b8a0f-ea0e-4ed7-86e4-e093c05c9ac2",
   "metadata": {},
   "outputs": [],
   "source": [
    "# save anndata object\n",
    "adata.write(os.path.join(work_dir, \"data\", \"outputdata\", \"combined\", \"Combined_SCR_CO2_TCR_full-integrated_annot_22-03-24.h5ad\"))"
   ]
  },
  {
   "cell_type": "code",
   "execution_count": null,
   "id": "b8262376-d203-4bff-b190-1789ae5ac9cb",
   "metadata": {},
   "outputs": [],
   "source": [
    "# read anndata object\n",
    "adata = sc.read_h5ad(os.path.join(work_dir, \"data\", \"outputdata\", \"combined\", \"Combined_SCR_CO2_TCR_full-integrated_annot_22-03-24.h5ad\"))"
   ]
  },
  {
   "cell_type": "markdown",
   "id": "d64cf3d0-33d2-4473-9e45-c3c9915da7e4",
   "metadata": {},
   "source": [
    "### Visualization"
   ]
  },
  {
   "cell_type": "code",
   "execution_count": null,
   "id": "0b51d221-7fb3-4c05-b4d0-24425fd4da7c",
   "metadata": {},
   "outputs": [],
   "source": [
    "sc.settings.figdir = os.path.join(work_dir, \"figures\", \"combined\", \"main_analysis\")\n",
    "sc.set_figure_params(dpi=300, dpi_save=300, format='png', fontsize=7)\n",
    "sc.set_figure_params(figsize=(6, 6))"
   ]
  },
  {
   "cell_type": "code",
   "execution_count": null,
   "id": "40723f92-a866-49f6-83af-6e884abf5090",
   "metadata": {},
   "outputs": [],
   "source": [
    "# cell type UMAP\n",
    "sc.pl.umap(\n",
    "        adata,\n",
    "        color=\"Annotation_1.0\",\n",
    "        vmin=0,\n",
    "        vmax=\"p99\",  \n",
    "        sort_order=False,  \n",
    "        frameon=True,\n",
    "        use_raw=False,\n",
    "        title=\"Annotation 1.0\",\n",
    "        legend_loc=\"on data\",\n",
    "        save=\"Annotation_1.0.png\",\n",
    "        palette=[\"limegreen\", \"saddlebrown\", \"tomato\", \"red\", \"gold\", \"hotpink\", \"royalblue\", \"orange\", \"darkgreen\", \"dimgray\", \"skyblue\"]\n",
    "    )"
   ]
  },
  {
   "cell_type": "code",
   "execution_count": null,
   "id": "b53a9090-b8cf-44db-a44c-2810a42a36be",
   "metadata": {},
   "outputs": [],
   "source": [
    "# visualize annotation\n",
    "sc.pl.umap(\n",
    "        adata,\n",
    "        color=\"leiden_res0_5_1\",\n",
    "        vmin=0,\n",
    "        vmax=\"p99\",  \n",
    "        sort_order=False,  \n",
    "        frameon=True,\n",
    "        use_raw=False,\n",
    "        legend_loc=\"on data\",\n",
    "        save=\"Clustering_res0_5_1.png\",\n",
    ")"
   ]
  },
  {
   "cell_type": "code",
   "execution_count": null,
   "id": "7a5002ba-edc4-4962-91d8-8e93aeec9087",
   "metadata": {},
   "outputs": [],
   "source": [
    "# define markers\n",
    "markers = [ \n",
    "    \"CD4\",\n",
    "    \"CD8B\",\n",
    "    \"KLRF1\",\n",
    "    \"LYZ\",\n",
    "    \"LILRA4\",\n",
    "    \"TPSAB1\",\n",
    "    \"CD79A\",\n",
    "    \"JCHAIN\",\n",
    "    \"EPCAM\",\n",
    "    \"CLDN4\",\n",
    "    \"COL1A1\",\n",
    "    \"ALB\"\n",
    "]\n"
   ]
  },
  {
   "cell_type": "code",
   "execution_count": null,
   "id": "4b79eaab-5f38-4289-b0bb-69495fef7e32",
   "metadata": {},
   "outputs": [],
   "source": [
    "sc.pl.umap(\n",
    "        adata,\n",
    "        color=markers,\n",
    "        vmin=0,\n",
    "        vmax=\"p99\",  \n",
    "        sort_order=False,  \n",
    "        frameon=True,\n",
    "        use_raw=False,\n",
    "        #legend_loc=\"on data\",\n",
    "        save=\"Markers.png\",\n",
    "        legend_loc=None,\n",
    "        ncols=4\n",
    ")"
   ]
  },
  {
   "cell_type": "code",
   "execution_count": null,
   "id": "7b3260a7-ea1d-42d5-81cb-243d85d96481",
   "metadata": {},
   "outputs": [],
   "source": [
    "# known markers dotplot\n",
    "sc.pl.dotplot(\n",
    "    adata,\n",
    "    groupby=\"leiden_res0_5_1\",\n",
    "    var_names=markers,\n",
    "    use_raw=False,\n",
    "    save=\"Main_cell_types_markers\",\n",
    "    cmap=\"Purples\"\n",
    ")\n"
   ]
  },
  {
   "cell_type": "code",
   "execution_count": null,
   "id": "7c6d2593-1b36-4eca-9dd2-1f91c3a04aab",
   "metadata": {},
   "outputs": [],
   "source": [
    "sc.pl.matrixplot(\n",
    "    adata,\n",
    "    groupby=\"leiden_res0_5_1\",\n",
    "    var_names=markers,\n",
    "    use_raw=False,\n",
    "    save=\"Main_cell_types_markers\",\n",
    "    cmap=\"Purples\"\n",
    ")"
   ]
  },
  {
   "cell_type": "code",
   "execution_count": null,
   "id": "4314b6c5-51e7-4d4e-a9ae-71079362e4fb",
   "metadata": {},
   "outputs": [],
   "source": [
    "sc.tl.dendrogram(adata, groupby='leiden_res0_5_1')"
   ]
  },
  {
   "cell_type": "code",
   "execution_count": null,
   "id": "b7c0b196-ca13-46f2-a11b-d6efa1045cf2",
   "metadata": {},
   "outputs": [],
   "source": [
    "# plot top 5 marker genes per cluster\n",
    "sc.pl.rank_genes_groups_dotplot(\n",
    "    adata,\n",
    "    groupby=\"leiden_res0_5_1\",\n",
    "    standard_scale=\"var\",\n",
    "    n_genes=3,\n",
    "    key=\"dea_leiden_res0_5_1\",\n",
    "    use_raw=False,\n",
    "    cmap=\"Purples\",\n",
    "    save=\"Cluster_Marker_Genes_Dotplot.png\"\n",
    ")"
   ]
  },
  {
   "cell_type": "markdown",
   "id": "7d6dde6f-96f8-4304-b17e-755447147678",
   "metadata": {},
   "source": [
    "### Check Expression of CD80/86(CD28)-CTLA4, CD274(PDL1)-PDCD1(PD1)"
   ]
  },
  {
   "cell_type": "code",
   "execution_count": null,
   "id": "f1a95aac-1c41-4266-9bf3-9629723e78f3",
   "metadata": {},
   "outputs": [],
   "source": [
    "# read anndata object\n",
    "adata = sc.read_h5ad(os.path.join(work_dir, \"data\", \"outputdata\", \"combined\", \"Combined_SCR_CO2_TCR_full-integrated_annot_22-03-24.h5ad\"))"
   ]
  },
  {
   "cell_type": "code",
   "execution_count": null,
   "id": "4a319bf9-47fe-4b00-a673-fd1567788b93",
   "metadata": {},
   "outputs": [],
   "source": [
    "# define ICI markers\n",
    "ici_markers = [\"CD80\", \"CD86\", \"CD28\", \"CTLA4\", \"CD274\", \"PDCD1\"]"
   ]
  },
  {
   "cell_type": "code",
   "execution_count": null,
   "id": "6b2284a0-48ea-4a79-8369-7f7502bebb4d",
   "metadata": {},
   "outputs": [],
   "source": [
    "sc.pl.umap(\n",
    "        adata,\n",
    "        color=ici_markers,\n",
    "        vmin=0,\n",
    "        vmax=\"p99\",  \n",
    "        sort_order=False,  \n",
    "        frameon=True,\n",
    "        use_raw=False,\n",
    "        title=[\"CD80 (B7.1)\", \"CD86 (B7.2)\", \"CD28\", \"CTLA4\", \"CD274 (PDL1)\", \"PDCD1 (PD1)\"],\n",
    "        #legend_loc=\"on data\",\n",
    "        save=\"ICI_Markers.png\",\n",
    "        legend_loc=None,\n",
    "        ncols=4\n",
    ")"
   ]
  },
  {
   "cell_type": "code",
   "execution_count": null,
   "id": "f6b63517-0bea-4f39-9735-25ad6422348f",
   "metadata": {},
   "outputs": [],
   "source": [
    "# visualize their expression via dotplot\n",
    "sc.pl.dotplot(\n",
    "    adata,\n",
    "    groupby=\"Annotation_1.0\",\n",
    "    var_names=ici_markers,\n",
    "    standard_scale=\"var\", \n",
    "    use_raw=False,\n",
    "    cmap=\"RdYlBu\",\n",
    "    save=\"ICI_Markers_Dotplot.png\"\n",
    ")"
   ]
  },
  {
   "cell_type": "code",
   "execution_count": null,
   "id": "b6418325-051c-4eb7-af07-4bd87bd561c1",
   "metadata": {},
   "outputs": [],
   "source": [
    "# visualize their expression via dotplot\n",
    "sc.pl.dotplot(\n",
    "    adata,\n",
    "    groupby=\"patient\",\n",
    "    var_names=ici_markers,\n",
    "    standard_scale=\"var\", \n",
    "    use_raw=False,\n",
    "    cmap=\"RdYlBu\",\n",
    "    save=\"ICI_Markers_Dotplot_ByPatient.png\"\n",
    ")"
   ]
  },
  {
   "cell_type": "code",
   "execution_count": null,
   "id": "0c6497c8-600f-490e-8e97-c2a7a4f79062",
   "metadata": {},
   "outputs": [],
   "source": [
    "fig, (ax1, ax2) = plt.subplots(1, 2, figsize=(10, 4), gridspec_kw={\"wspace\": .3})\n",
    "\n",
    "plot1 = sc.pl.dotplot(\n",
    "    adata[adata.obs.timepoint == \"SCR\"],\n",
    "    groupby=\"patient\",\n",
    "    var_names=ici_markers,\n",
    "    standard_scale=\"var\", \n",
    "    use_raw=False,\n",
    "    cmap=\"RdYlBu\",\n",
    "    show=False,\n",
    "    title=\"T0/-ICI\",\n",
    "    ax=ax1\n",
    ")\n",
    "\n",
    "plot2 = sc.pl.dotplot(\n",
    "    adata[adata.obs.timepoint == \"C02\"],\n",
    "    groupby=\"patient\",\n",
    "    var_names=ici_markers,\n",
    "    standard_scale=\"var\", \n",
    "    use_raw=False,\n",
    "    cmap=\"RdYlBu\",\n",
    "    show=False,\n",
    "    title=\"T1/+ICI\",\n",
    "    ax=ax2\n",
    ")\n",
    "\n",
    "plt.show()"
   ]
  },
  {
   "cell_type": "code",
   "execution_count": null,
   "id": "7a5d8d09-cb11-425d-ba89-58e6ea86daec",
   "metadata": {},
   "outputs": [],
   "source": [
    "sc.pl.dotplot(\n",
    "    adata[adata.obs.timepoint == \"C02\"],\n",
    "    groupby=\"patient\",\n",
    "    var_names=ici_markers,\n",
    "    standard_scale=\"var\", \n",
    "    use_raw=False,\n",
    "    cmap=\"RdYlBu\",\n",
    ")"
   ]
  },
  {
   "cell_type": "code",
   "execution_count": null,
   "id": "74beca1a-cccf-4fcf-bbff-f0dcde1ea4dc",
   "metadata": {},
   "outputs": [],
   "source": [
    "sc.pl.dotplot(\n",
    "    adata,\n",
    "    groupby=\"Prior_Annotation_2.0\",\n",
    "    var_names=ici_markers,\n",
    "    standard_scale=\"var\", \n",
    "    use_raw=False,\n",
    "    cmap=\"RdYlBu\",\n",
    "    save=\"ICI_Markers__Subtypes_Dotplot.png\"\n",
    "\n",
    ")"
   ]
  },
  {
   "cell_type": "markdown",
   "id": "4dfd96d8-0862-45bc-a931-798bbca74038",
   "metadata": {},
   "source": [
    "## Add Annotation 2.0 from TNK and Myeloid subsets"
   ]
  },
  {
   "cell_type": "code",
   "execution_count": null,
   "id": "d6f90d40-0262-473b-9e82-14f317a44ebe",
   "metadata": {},
   "outputs": [],
   "source": [
    "# read subsets anndata objects\n",
    "adata_tnk = sc.read_h5ad(os.path.join(work_dir, \"data\", \"outputdata\", \"combined\", \"Combined_SCR_CO2_TNK_annotated_13-04-24.h5ad\"))\n",
    "adata_myeloid = sc.read_h5ad(os.path.join(work_dir, \"data\", \"outputdata\", \"combined\", \"Combined_SCR_CO2_Myeloid_annotated_18-04-24.h5ad\"))"
   ]
  },
  {
   "cell_type": "code",
   "execution_count": null,
   "id": "82c97712-97ab-4d6f-be8b-999baf5fc6c1",
   "metadata": {
    "scrolled": true
   },
   "outputs": [],
   "source": [
    "new_annotation = []\n",
    "for cell in adata.obs_names.tolist():\n",
    "    if cell in adata_tnk.obs_names.tolist():\n",
    "        new_annotation.append(adata_tnk.obs[\"Annotation_2.0\"][cell])\n",
    "    elif cell in adata_myeloid.obs_names.tolist():\n",
    "        new_annotation.append(adata_myeloid.obs[\"Annotation_2.0\"][cell])\n",
    "    else:\n",
    "        new_annotation.append(adata.obs[\"Annotation_1.0\"][cell])\n",
    "\n",
    "adata.obs[\"Annotation_2.0\"] = new_annotation"
   ]
  },
  {
   "cell_type": "code",
   "execution_count": null,
   "id": "4edbe76d-8e7c-4a61-b002-0dfb5b50af3b",
   "metadata": {},
   "outputs": [],
   "source": [
    "adata.obs[\"Annotation_2.0\"].unique()"
   ]
  },
  {
   "cell_type": "code",
   "execution_count": null,
   "id": "6bab1826-d132-4b3d-a3fb-cc32f779c576",
   "metadata": {},
   "outputs": [],
   "source": [
    "# check transfer \n",
    "sc.pl.umap(\n",
    "        adata,\n",
    "        color=\"Annotation_2.0\",\n",
    "        vmin=0,\n",
    "        vmax=\"p99\",  \n",
    "        sort_order=False,\n",
    "        frameon=True,\n",
    "        use_raw=False,\n",
    "        title=\"Annotation 2.0\",\n",
    "        #legend_loc=\"on data\",\n",
    "        #palette=[\"limegreen\", \"saddlebrown\", \"tomato\", \"red\", \"gold\", \"hotpink\", \"royalblue\", \"orange\", \"darkgreen\", \"dimgray\", \"skyblue\"]\n",
    "    )"
   ]
  },
  {
   "cell_type": "code",
   "execution_count": null,
   "id": "ae8bc3ab-81c0-44b5-b25b-2a09198e725e",
   "metadata": {},
   "outputs": [],
   "source": [
    "sc.pl.dotplot(\n",
    "    adata,\n",
    "    groupby=\"Annotation_2.0\",\n",
    "    var_names=ici_markers,\n",
    "    standard_scale=\"var\", \n",
    "    use_raw=False,\n",
    "    cmap=\"RdYlBu\"\n",
    ")"
   ]
  },
  {
   "cell_type": "markdown",
   "id": "a25f417c-0353-4168-be96-bdafee862c8b",
   "metadata": {},
   "source": [
    "## Explore MTRNR2L8 & AC105402.3 Expression"
   ]
  },
  {
   "cell_type": "code",
   "execution_count": null,
   "id": "88f6d59f-f9ef-4d5d-a161-6d7a1e6f5378",
   "metadata": {},
   "outputs": [],
   "source": [
    "# read anndata object\n",
    "adata = sc.read_h5ad(os.path.join(work_dir, \"data\", \"outputdata\", \"combined\", \"Combined_SCR_CO2_TCR_full-integrated_annot_22-03-24.h5ad\"))"
   ]
  },
  {
   "cell_type": "code",
   "execution_count": null,
   "id": "cc9fef0f-0002-4009-adee-752aed25a6e5",
   "metadata": {},
   "outputs": [],
   "source": [
    "fig, (ax1, ax2, ax3) = plt.subplots(1, 3, figsize=(20, 6), gridspec_kw={\"wspace\": 1})\n",
    "\n",
    "ax1_dict=sc.pl.dotplot(\n",
    "    adata,\n",
    "    groupby=\"patient\",\n",
    "    var_names=[\"MTRNR2L8\", \"AC105402.3\", \"KIF5C\"],\n",
    "    standard_scale=\"var\", \n",
    "    use_raw=False,\n",
    "    cmap=\"RdYlBu\",\n",
    "    show=False,\n",
    "    ax=ax1\n",
    ")\n",
    "ax2_dict=sc.pl.dotplot(\n",
    "    adata,\n",
    "    groupby=\"Annotation_1.0\",\n",
    "    var_names=[\"MTRNR2L8\", \"AC105402.3\", \"KIF5C\"],\n",
    "    standard_scale=\"var\", \n",
    "    use_raw=False,\n",
    "    cmap=\"RdYlBu\",\n",
    "    show=False,\n",
    "    ax=ax2\n",
    ")\n",
    "ax3_dict=sc.pl.dotplot(\n",
    "    adata,\n",
    "    groupby=\"sample\",\n",
    "    var_names=[\"MTRNR2L8\", \"AC105402.3\", \"KIF5C\"],\n",
    "    standard_scale=\"var\", \n",
    "    use_raw=False,\n",
    "    cmap=\"RdYlBu\",\n",
    "    show=False,\n",
    "    ax=ax3\n",
    ")"
   ]
  },
  {
   "cell_type": "markdown",
   "id": "dbaad3b3-bcea-4783-8205-1ec5ffaf1038",
   "metadata": {},
   "source": [
    "## Get marker genes of P08's cDC2 Cluster"
   ]
  },
  {
   "cell_type": "code",
   "execution_count": null,
   "id": "d76794d7-035a-4f04-a2ca-fd81fc9f94b0",
   "metadata": {},
   "outputs": [],
   "source": [
    "# read anndata object\n",
    "adata = sc.read_h5ad(os.path.join(work_dir, \"data\", \"outputdata\", \"combined\", \"Combined_SCR_CO2_TCR_full-integrated_annot_22-03-24.h5ad\"))"
   ]
  },
  {
   "cell_type": "code",
   "execution_count": null,
   "id": "792105b9-993a-45e4-8a6c-d413c6d9bc12",
   "metadata": {},
   "outputs": [],
   "source": [
    "# subset P08\n",
    "adata = adata[adata.obs[\"patient\"] == \"08\"].copy()\n",
    "adata"
   ]
  },
  {
   "cell_type": "code",
   "execution_count": null,
   "id": "1e96a992-50d4-42c4-8420-8b1228a9a4c7",
   "metadata": {},
   "outputs": [],
   "source": [
    "# compute marker genes\n",
    "sc.tl.rank_genes_groups(\n",
    "    adata, groupby=\"Annotation_2.0\", method=\"wilcoxon\", groups = [\"cDC2\"], use_raw=False, key_added=\"dea_Annotation_2.0\"#, layer=\"rawcounts\" # do not use raw!\n",
    ")"
   ]
  },
  {
   "cell_type": "code",
   "execution_count": null,
   "id": "250931b8-db50-4680-9c7a-4fc69a5bcafa",
   "metadata": {},
   "outputs": [],
   "source": [
    "# get marker genes\n",
    "marker_genes = adata.uns[\"dea_Annotation_2.0\"][\"names\"][\"cDC2\"].tolist()  \n",
    "scores = adata.uns[\"dea_Annotation_2.0\"][\"scores\"][\"cDC2\"].tolist()  \n",
    "pvals = adata.uns[\"dea_Annotation_2.0\"][\"pvals\"][\"cDC2\"].tolist() \n",
    "pvals_adj = adata.uns[\"dea_Annotation_2.0\"][\"pvals_adj\"][\"cDC2\"].tolist()\n",
    "logfoldchanges = adata.uns[\"dea_Annotation_2.0\"][\"logfoldchanges\"][\"cDC2\"].tolist() \n",
    "\n",
    "    \n",
    "# create a df for the current cluster's marker genes\n",
    "df = pd.DataFrame({\"Gene\": marker_genes, \"Score\": scores, \"Pval\": pvals, \"PvalAdj\": pvals_adj, \"Log2Fold\": logfoldchanges})\n",
    "\n",
    "# remove non signficant genes\n",
    "df = df[df[\"PvalAdj\"] < 0.01]\n",
    "df = df[df[\"Pval\"] < 0.01]\n",
    "    \n",
    "# include just positive log fold changes \n",
    "df = df[df[\"Log2Fold\"] > 0.4]\n",
    "    \n",
    "# Sort df based on the final score in descending order\n",
    "df = df.sort_values(by=\"Score\", ascending=False)\n",
    "    \n",
    "print(df)"
   ]
  },
  {
   "cell_type": "code",
   "execution_count": null,
   "id": "b6c21e7b-5d5a-4466-a9b4-3652cc5e9c60",
   "metadata": {},
   "outputs": [],
   "source": [
    "# save to excel\n",
    "df.to_excel(os.path.join(work_dir, \"data\", \"markers\", \"Patient_08\", \"P08_cDC2_marker_genes_14-05-24.xlsx\"))"
   ]
  },
  {
   "cell_type": "markdown",
   "id": "2b5fb816-204b-45bf-88e6-0276c20d9d92",
   "metadata": {},
   "source": [
    "## Get df with cell, sample id & Annotation for Sam"
   ]
  },
  {
   "cell_type": "code",
   "execution_count": null,
   "id": "c497042e-6559-41fc-b9b9-3c9d9962df27",
   "metadata": {},
   "outputs": [],
   "source": [
    "# read anndata object\n",
    "adata = sc.read_h5ad(os.path.join(work_dir, \"data\", \"outputdata\", \"combined\", \"Combined_SCR_CO2_TCR_full-integrated_annot_22-03-24.h5ad\"))"
   ]
  },
  {
   "cell_type": "code",
   "execution_count": null,
   "id": "a153cc97-fe07-4390-85bc-7cc25c24daab",
   "metadata": {},
   "outputs": [],
   "source": [
    "# extract df from obs\n",
    "df = adata.obs[[\"sample\", \"Annotation_1.0\", \"Annotation_2.0\"]]\n",
    "df"
   ]
  },
  {
   "cell_type": "code",
   "execution_count": null,
   "id": "ffad3bd3-8c6c-4f9b-94eb-3014c529cc0f",
   "metadata": {},
   "outputs": [],
   "source": [
    "# format index names\n",
    "df.index = [index[1:] for index in df.index]"
   ]
  },
  {
   "cell_type": "code",
   "execution_count": null,
   "id": "0ab5dcc1-d202-4e1e-86bf-67bd00c2f321",
   "metadata": {},
   "outputs": [],
   "source": [
    "# save to csv\n",
    "df.to_csv(os.path.join(work_dir, \"data\", \"SP_annotations.csv\"))"
   ]
  },
  {
   "cell_type": "markdown",
   "id": "995425f9-5505-4627-b023-4d73e6c4ca88",
   "metadata": {},
   "source": [
    "## Thesis / Poster Plots"
   ]
  },
  {
   "cell_type": "code",
   "execution_count": null,
   "id": "beb42231-b230-4e49-8ad3-f08e18d6d7cd",
   "metadata": {},
   "outputs": [],
   "source": [
    "# set figure params\n",
    "work_dir = \"/scratch_isilon/groups/singlecell/gdeuner/SERPENTINE/\"\n",
    "fig_dir = os.path.join(work_dir, \"figures\", \"TFM\", \"Fig1\")\n",
    "sc.settings.figdir = os.path.join(work_dir, \"figures\", \"TFM\", \"Fig1\")\n",
    "sc.set_figure_params(dpi=120, dpi_save=600, format='pdf', frameon=False, figsize=(3,3))"
   ]
  },
  {
   "cell_type": "code",
   "execution_count": null,
   "id": "759aab63-2233-45a9-9304-e212aaa70ffe",
   "metadata": {},
   "outputs": [],
   "source": [
    "# read anndata object\n",
    "adata = sc.read_h5ad(os.path.join(work_dir, \"data\", \"outputdata\", \"combined\", \"Combined_SCR_CO2_TCR_full-integrated_annot_22-03-24.h5ad\"))"
   ]
  },
  {
   "cell_type": "code",
   "execution_count": null,
   "id": "0a79883c-f101-44f8-9355-d901b48ddd79",
   "metadata": {},
   "outputs": [],
   "source": [
    "# count number of cells\n",
    "adata"
   ]
  },
  {
   "cell_type": "code",
   "execution_count": null,
   "id": "a2304118-6bd1-4f76-89b3-a063cedde653",
   "metadata": {},
   "outputs": [],
   "source": [
    "# Basic Annotation UMAP\n",
    "palette=[\"limegreen\", \"saddlebrown\", \"tomato\", \"red\", \"gold\", \"hotpink\", \"royalblue\", \"orange\", \"darkgreen\", \"dimgray\", \"skyblue\"]\n",
    "\n",
    "sc.pl.umap(\n",
    "        adata,\n",
    "        color=\"Annotation_1.0\",\n",
    "        vmin=0,\n",
    "        vmax=\"p99\",  \n",
    "        sort_order=False,  \n",
    "        frameon=False,\n",
    "        use_raw=False,\n",
    "        palette=palette,\n",
    "        title=\"TME Cells (86552)\",\n",
    "        legend_fontsize=8,\n",
    "        save = \"_Main_Annotation.pdf\"\n",
    ")"
   ]
  },
  {
   "cell_type": "code",
   "execution_count": null,
   "id": "3ffc727c-595c-4276-a10a-81f846e14591",
   "metadata": {},
   "outputs": [],
   "source": [
    "ici_markers = [\"CD80\", \"CD86\", \"CD28\", \"CTLA4\", \"CD274\", \"PDCD1\"]\n",
    "sc.pl.umap(\n",
    "        adata,\n",
    "        color=ici_markers,\n",
    "        vmin=0,\n",
    "        vmax=\"p99\",  \n",
    "        sort_order=True,  \n",
    "        frameon=True,\n",
    "        use_raw=False,\n",
    "        title=[\"CD80 (B7.1)\", \"CD86 (B7.2)\", \"CD28\", \"CTLA4\", \"CD274 (PDL1)\", \"PDCD1 (PD1)\"],\n",
    "        #legend_loc=\"on data\",\n",
    "        save=\"ICI_Markers.pdf\",\n",
    "        legend_loc=None,\n",
    "        colorbar_loc=None,\n",
    "        cmap = \"Reds\",\n",
    "        add_outline=False,\n",
    "        ncols=2\n",
    ")"
   ]
  },
  {
   "cell_type": "code",
   "execution_count": null,
   "id": "3323bada-a2b6-45f1-8fcb-2ec1f700197f",
   "metadata": {},
   "outputs": [],
   "source": [
    "# add new patient variable\n",
    "patient_mapping = {\n",
    "    '01': 'P01',\n",
    "    '02': 'P02',\n",
    "    '03': 'P03',\n",
    "    '08': 'P04',\n",
    "    '10': 'P05'\n",
    "}\n",
    "adata.obs['new_patient'] = adata.obs['patient'].map(patient_mapping)"
   ]
  },
  {
   "cell_type": "code",
   "execution_count": null,
   "id": "037ff0b6-3e23-42ef-a009-b45d52575693",
   "metadata": {},
   "outputs": [],
   "source": [
    "ici_markers = [\"CD80\", \"CD86\", \"CD28\", \"CTLA4\", \"CD274\", \"PDCD1\"]\n",
    "\n",
    "sc.pl.dotplot(\n",
    "    adata,\n",
    "    groupby=\"new_patient\",\n",
    "    var_names=ici_markers,\n",
    "    standard_scale=\"var\", \n",
    "    use_raw=False,\n",
    "    cmap=\"RdYlBu\",\n",
    "    save=\"ICI_Markers.pdf\",\n",
    "    #figsize=(4,3)\n",
    ")"
   ]
  },
  {
   "cell_type": "code",
   "execution_count": null,
   "id": "16c0b6e9-31fd-4ac5-afd4-5648607c5fe4",
   "metadata": {},
   "outputs": [],
   "source": [
    "sc.pl.dotplot(\n",
    "    adata,\n",
    "    groupby=\"Annotation_1.0\",\n",
    "    var_names=[\"PTPRC\", \"CD4\", \"CD8A\", \"KLRF1\", \"MS4A1\", \"CD68\", \"EPCAM\", \"COL1A1\", \"CLDN5\", \"ALB\"],\n",
    "    standard_scale=\"var\", \n",
    "    use_raw=False,\n",
    "    cmap=\"RdYlBu\",\n",
    "    #save=\"ICI_Markers.pdf\",\n",
    "    #figsize=(4,3)\n",
    ")"
   ]
  },
  {
   "cell_type": "code",
   "execution_count": null,
   "id": "3068cc9b-1ab5-46cd-b52f-46190f9ca276",
   "metadata": {},
   "outputs": [],
   "source": [
    "markers = [ \n",
    "    \"CD4\",\n",
    "    \"CD8B\",\n",
    "    \"KLRF1\",\n",
    "    \"LYZ\",\n",
    "    \"LILRA4\",\n",
    "    \"TPSAB1\",\n",
    "    \"CD79A\",\n",
    "    \"JCHAIN\",\n",
    "    \"EPCAM\",\n",
    "    \"CLDN4\",\n",
    "    \"COL1A1\",\n",
    "    \"ALB\"\n",
    "]\n"
   ]
  },
  {
   "cell_type": "code",
   "execution_count": null,
   "id": "80693a5d-a4e3-4137-bafe-d858a2baed43",
   "metadata": {},
   "outputs": [],
   "source": [
    "sc.pl.matrixplot(\n",
    "    adata,\n",
    "    groupby=\"Annotation_1.0\",\n",
    "    var_names=markers,\n",
    "    standard_scale=\"var\", \n",
    "    use_raw=False,\n",
    "    #cmap=\"RdYlBu\",\n",
    "    #save=\"ICI_Markers.pdf\",\n",
    "    #figsize=(4,3)\n",
    ")"
   ]
  },
  {
   "cell_type": "code",
   "execution_count": null,
   "id": "41ad5d78-02a2-48f4-bc45-b3921557922f",
   "metadata": {},
   "outputs": [],
   "source": [
    "sc.tl.rank_genes_groups(\n",
    "    adata, groupby=\"Annotation_1.0\", method=\"wilcoxon\", key_added=\"dea_Annotation_1.0\", use_raw=False\n",
    ")"
   ]
  },
  {
   "cell_type": "code",
   "execution_count": null,
   "id": "727c17a2-2ae2-4a0c-86b0-feb81c6dbe10",
   "metadata": {},
   "outputs": [],
   "source": [
    "# plot top 5 marker genes per cluster\n",
    "sc.pl.rank_genes_groups_dotplot(\n",
    "    adata,\n",
    "    groupby=\"Annotation_1.0\",\n",
    "    standard_scale=\"var\",\n",
    "    n_genes=3,\n",
    "    key=\"dea_Annotation_1.0\",\n",
    "    use_raw=False,\n",
    "    #cmap=\"Purples\",\n",
    "    #save=\"Cluster_Marker_Genes_Dotplot.png\"\n",
    ")"
   ]
  },
  {
   "cell_type": "code",
   "execution_count": null,
   "id": "314b1fc2-890c-44ac-ba8c-7555e191265c",
   "metadata": {},
   "outputs": [],
   "source": [
    "markers_dict = { \n",
    "    \"Immune\": [\"PTPRC\"],\n",
    "    \"T Cell\": [\"CD3D\", \"CD3E\"],\n",
    "    \"CD4 T\": [\"CD4\"],\n",
    "    \"CD8 T\":  [\"CD8A\", \"CD8B\"],\n",
    "    \"NK\": [\"KLRF1\", \"NKG7\", \"GNLY\"],\n",
    "    \"Myeloid\": [\"LYZ\", \"CD68\", \"CD14\", \"FCGR3A\"],\n",
    "    \"Mast\": [\"TPSAB1\"],\n",
    "    \"pDC\": [\"LILRA4\", \"IL3RA\"],\n",
    "    \"Plasma\": [\"JCHAIN\", \"MZB1\"],\n",
    "    \"B Cell\": [\"CD79A\", \"MS4A1\"],\n",
    "    \"Tumor\": [\"EPCAM\"],\n",
    "    \"Liver Epithelial\": [\"ALB\", \"CYP1A1\"],\n",
    "    \"Endothelial\": [\"CLDN5\", \"PECAM1\"],\n",
    "    \"Fibroblast\": [\"COL1A1\", \"COL3A1\"],\n",
    "    \n",
    "}"
   ]
  },
  {
   "cell_type": "code",
   "execution_count": null,
   "id": "49337a48-9370-4e89-88f2-6d47ce208f1f",
   "metadata": {},
   "outputs": [],
   "source": [
    "# order cat values\n",
    "order = ['CD4 T', 'CD8 T', 'NK', 'Myeloid', 'pDC', 'Plasma', 'B Cell', 'Tumor', 'Liver Epithelial', 'Endothelial', 'CAF']\n",
    "adata.obs['Annotation_1.0'] = pd.Categorical(adata.obs['Annotation_1.0'], categories=order)"
   ]
  },
  {
   "cell_type": "code",
   "execution_count": null,
   "id": "c1c2c6ee-97d2-4cb6-b1b5-65afd4088c73",
   "metadata": {},
   "outputs": [],
   "source": [
    "sc.pl.dotplot(adata, markers_dict, groupby='Annotation_1.0', dendrogram=False, use_raw=False,\n",
    "                   standard_scale='var', smallest_dot=40, color_map='Reds', save=\"Marker_Genes_Dotplot2.pdf\", figsize=(15,4))"
   ]
  },
  {
   "cell_type": "code",
   "execution_count": null,
   "id": "46846aa4-02d8-4526-be39-ae28e88ba348",
   "metadata": {},
   "outputs": [],
   "source": [
    "adata.obs['sample'].value_counts()"
   ]
  },
  {
   "cell_type": "code",
   "execution_count": null,
   "id": "a9599bb3-d6bd-4ccb-9de1-a0a39e81639b",
   "metadata": {},
   "outputs": [],
   "source": [
    "adata.obs['Annotation_1.0'].value_counts()"
   ]
  },
  {
   "cell_type": "code",
   "execution_count": null,
   "id": "3e7545e3-766f-433a-b299-d354751a67ef",
   "metadata": {},
   "outputs": [],
   "source": [
    "28102/(28102+18375)"
   ]
  },
  {
   "cell_type": "code",
   "execution_count": null,
   "id": "b7ef236b-8f56-4ae6-b15b-1cdbf6ddb233",
   "metadata": {},
   "outputs": [],
   "source": [
    "markers = [\"CD4\", \"CD8B\", \"GZMB\", \"HAVCR2\", \"FOXP3\", \"HLA-DRA\"]\n",
    "sc.pl.umap(\n",
    "        adata,\n",
    "        color=markers,\n",
    "        vmin=0,\n",
    "        vmax=\"p99\",  \n",
    "        sort_order=True,  \n",
    "        frameon=False,\n",
    "        use_raw=False,        #legend_loc=\"on data\",\n",
    "        save=\"Markers.pdf\",\n",
    "        legend_loc=None,\n",
    "        colorbar_loc=None,\n",
    "        cmap = \"inferno\",\n",
    "        add_outline=False,\n",
    "        ncols=6\n",
    ")"
   ]
  }
 ],
 "metadata": {
  "kernelspec": {
   "display_name": "Python 3 (ipykernel)",
   "language": "python",
   "name": "python3"
  },
  "language_info": {
   "codemirror_mode": {
    "name": "ipython",
    "version": 3
   },
   "file_extension": ".py",
   "mimetype": "text/x-python",
   "name": "python",
   "nbconvert_exporter": "python",
   "pygments_lexer": "ipython3",
   "version": "3.9.18"
  }
 },
 "nbformat": 4,
 "nbformat_minor": 5
}
