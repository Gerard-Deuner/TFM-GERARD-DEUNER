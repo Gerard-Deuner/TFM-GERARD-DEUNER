{
 "cells": [
  {
   "cell_type": "markdown",
   "id": "1499650a-0e7d-4800-be2e-1b083d6b5671",
   "metadata": {},
   "source": [
    "# SERPENTINE -- Combined T & NK Cells Subclustering"
   ]
  },
  {
   "cell_type": "markdown",
   "id": "359eb8f2-ea70-4e6e-be2e-4223e911b7a1",
   "metadata": {},
   "source": [
    "## Environment Setup"
   ]
  },
  {
   "cell_type": "code",
   "execution_count": null,
   "id": "4d71d19d-46dc-4d6a-8d25-1c5e875eaad8",
   "metadata": {},
   "outputs": [],
   "source": [
    "# load packages\n",
    "import sys\n",
    "import scanpy as sc\n",
    "import os\n",
    "import sys\n",
    "import numpy as np\n",
    "import matplotlib.pyplot as plt\n",
    "import pandas as pd\n",
    "import scvi\n",
    "import seaborn as sns\n",
    "import scipy\n",
    "import decoupler as dc"
   ]
  },
  {
   "cell_type": "code",
   "execution_count": null,
   "id": "9170cdf5-5651-47be-be3d-ad10f23ca3aa",
   "metadata": {},
   "outputs": [],
   "source": [
    "import anndata2ri\n",
    "import logging\n",
    "\n",
    "import rpy2.rinterface_lib.callbacks as rcb\n",
    "import rpy2.robjects as ro\n",
    "\n",
    "rcb.logger.setLevel(logging.ERROR)\n",
    "ro.pandas2ri.activate()\n",
    "anndata2ri.activate()\n",
    "\n",
    "%load_ext rpy2.ipython"
   ]
  },
  {
   "cell_type": "code",
   "execution_count": null,
   "id": "8e760350-b44f-4d95-8cf8-8c4980c5e205",
   "metadata": {},
   "outputs": [],
   "source": [
    "# import helper functions\n",
    "from helper_functions import save_markers, compute_signature_score"
   ]
  },
  {
   "cell_type": "code",
   "execution_count": null,
   "id": "094140ef-41ec-4e21-91d1-9267667ae5cd",
   "metadata": {},
   "outputs": [],
   "source": [
    "# remove warnings\n",
    "import warnings\n",
    "warnings.filterwarnings('ignore')"
   ]
  },
  {
   "cell_type": "code",
   "execution_count": null,
   "id": "03b0502f-e6e4-4ed4-bdc5-2174daad7ac1",
   "metadata": {},
   "outputs": [],
   "source": [
    "# set up figure parameters\n",
    "plt.rcParams['figure.figsize'] = (6.0, 4.0)\n",
    "sc.settings.verbosity = 0\n",
    "sc.settings.set_figure_params(\n",
    "    dpi=300,\n",
    "    facecolor=\"white\",\n",
    "    frameon=False,\n",
    ")"
   ]
  },
  {
   "cell_type": "code",
   "execution_count": null,
   "id": "e979d99d-c0b9-4359-bd26-5e4c72356fd1",
   "metadata": {},
   "outputs": [],
   "source": [
    "# set up dirs\n",
    "work_dir = \"/scratch_isilon/groups/singlecell/gdeuner/SERPENTINE/\"\n",
    "fig_dir = os.path.join(work_dir, \"figures\", \"combined\", \"TNK\", \"preprocessing/\")\n",
    "sc.settings.figdir = os.path.join(work_dir, \"figures\", \"combined\", \"TNK\", \"preprocessing/\")\n",
    "sc.set_figure_params(dpi=300, dpi_save=300, format='png', figsize=(4, 4))"
   ]
  },
  {
   "cell_type": "code",
   "execution_count": null,
   "id": "fd61f95a-92ba-4ae5-8e71-189f38e31fc4",
   "metadata": {},
   "outputs": [],
   "source": [
    "# read anndata object\n",
    "adata_full = sc.read_h5ad(os.path.join(work_dir, \"data\", \"outputdata\", \"combined\", \"Combined_SCR_CO2_TCR_full-integrated_annot_22-03-24.h5ad\"))"
   ]
  },
  {
   "cell_type": "markdown",
   "id": "abf2ec5a-d488-4913-a27b-e7f17785347d",
   "metadata": {},
   "source": [
    "## Data Preparation"
   ]
  },
  {
   "cell_type": "markdown",
   "id": "5996959d-3429-4a48-953d-a83b38b3e33f",
   "metadata": {},
   "source": [
    "### Full Object Visualization"
   ]
  },
  {
   "cell_type": "code",
   "execution_count": null,
   "id": "130134fc-6737-4e3b-85ca-52ab74b43fd0",
   "metadata": {},
   "outputs": [],
   "source": [
    "adata_full"
   ]
  },
  {
   "cell_type": "code",
   "execution_count": null,
   "id": "4b1a43d9-0a13-411f-80ce-09599b0fe4af",
   "metadata": {},
   "outputs": [],
   "source": [
    "adata_full.obs"
   ]
  },
  {
   "cell_type": "code",
   "execution_count": null,
   "id": "6ac9920e-0e5e-4df4-b6cf-4533bf831330",
   "metadata": {},
   "outputs": [],
   "source": [
    "sc.pl.umap(\n",
    "    adata_full,\n",
    "    color=[\"Annotation_1.0\", \"Prior_Annotation_2.0\", \"timepoint\", \"project\", \"subproject\", \"sample\"],\n",
    "    legend_loc=\"right margin\",\n",
    "    legend_fontsize=7,\n",
    "    ncols=2\n",
    ")"
   ]
  },
  {
   "cell_type": "markdown",
   "id": "8e93ff98-f15f-4ab6-81ad-321cb2e407bb",
   "metadata": {},
   "source": [
    "### Clean Anndata Object"
   ]
  },
  {
   "cell_type": "code",
   "execution_count": null,
   "id": "43f300d1-1caa-40ac-bff7-385151176e94",
   "metadata": {
    "scrolled": true
   },
   "outputs": [],
   "source": [
    "adata_full.uns_keys"
   ]
  },
  {
   "cell_type": "code",
   "execution_count": null,
   "id": "1af31fb5-2016-4d88-aea7-d1b7b2004265",
   "metadata": {},
   "outputs": [],
   "source": [
    "# remove full non-informative metadata\n",
    "adata_full.obs.drop(columns=['leiden_res0_25', 'leiden_res0_5', 'leiden_res0_75', 'leiden_res1', 'leiden_res0_5_1', 'scVI_Annotation_1.0', 'harmony_Annotation_1.0', 'scGen_Annotation_1.0'], inplace=True)"
   ]
  },
  {
   "cell_type": "code",
   "execution_count": null,
   "id": "c69fb653-c341-4a7c-8809-9aee50580e9e",
   "metadata": {},
   "outputs": [],
   "source": [
    "adata_full.var.drop(columns=['HVG_cell_ranger', 'HVG_seurat', 'HVG_seurat_v3', 'HVG_model', 'highly_variable', 'excl_hv', 'orig_highly_variable'], inplace=True)"
   ]
  },
  {
   "cell_type": "code",
   "execution_count": null,
   "id": "f048fcc6-903f-4823-9017-c20e8d309fc1",
   "metadata": {},
   "outputs": [],
   "source": [
    "obsm_rem = ['harmony_umap', 'scGen_corrected_latent', 'scGen_umap', 'scVI_umap', 'X_pca_harmony', 'X_scVI']\n",
    "for obsm in obsm_rem:\n",
    "    del adata_full.obsm[obsm]"
   ]
  },
  {
   "cell_type": "code",
   "execution_count": null,
   "id": "f0de0e0a-23e1-47ec-b643-6c2b1e1f81d6",
   "metadata": {},
   "outputs": [],
   "source": [
    "del adata_full.varm['PCs']"
   ]
  },
  {
   "cell_type": "code",
   "execution_count": null,
   "id": "5adc1965-271c-4088-9d78-0da2626c065d",
   "metadata": {},
   "outputs": [],
   "source": [
    "obsp_rem = ['harmony_neighbors_connectivities', 'harmony_neighbors_distances', 'scGen_neighbors_connectivities', 'scGen_neighbors_distances', 'scVI_neighbors_connectivities', 'scVI_neighbors_distances']\n",
    "for obsp in obsp_rem:\n",
    "    del adata_full.obsp[obsp]"
   ]
  },
  {
   "cell_type": "markdown",
   "id": "cef5d24b-f2c6-4ec9-8975-f12871dc70bd",
   "metadata": {},
   "source": [
    "### Subset T & NK populations"
   ]
  },
  {
   "cell_type": "code",
   "execution_count": null,
   "id": "9ac0e576-06c9-4dd2-b0b2-d1961c97157f",
   "metadata": {},
   "outputs": [],
   "source": [
    "adata = adata_full[adata_full.obs['Annotation_1.0'].isin(['CD4 T', 'CD8 T', 'NK'])]"
   ]
  },
  {
   "cell_type": "code",
   "execution_count": null,
   "id": "100231da-5af5-4e37-8c1b-304b44f063cd",
   "metadata": {},
   "outputs": [],
   "source": [
    "# check number of cells\n",
    "len(adata.obs_names)"
   ]
  },
  {
   "cell_type": "code",
   "execution_count": null,
   "id": "4a6e9c23-e22d-4801-aa3b-7ced443aa544",
   "metadata": {},
   "outputs": [],
   "source": [
    "# non TNK integrated visualization (whole obj integration)\n",
    "sc.pl.umap(\n",
    "    adata,\n",
    "    color=[\"Annotation_1.0\", \"Prior_Annotation_2.0\", \"timepoint\", \"project\", \"subproject\", \"sample\"],\n",
    "    legend_loc=\"right margin\",\n",
    "    legend_fontsize=7,\n",
    "    ncols=2,\n",
    "    wspace=.5\n",
    ")"
   ]
  },
  {
   "cell_type": "markdown",
   "id": "c900a699-0050-4b3c-af35-8ace4ee21a97",
   "metadata": {},
   "source": [
    "## TNK-specific Preprocessing"
   ]
  },
  {
   "cell_type": "markdown",
   "id": "9d1116b2-0604-4972-8d4f-1ceed8f40882",
   "metadata": {},
   "source": [
    "### Normalization"
   ]
  },
  {
   "cell_type": "code",
   "execution_count": null,
   "id": "dd1cd1f7-95fb-4252-969f-47f04646fbbe",
   "metadata": {},
   "outputs": [],
   "source": [
    "# observe count dist\n",
    "plt.figure(figsize=(6.0, 4.0))\n",
    "sns.histplot(adata.obs[\"total_counts\"], bins=100, kde=False)"
   ]
  },
  {
   "cell_type": "code",
   "execution_count": null,
   "id": "3a2c4939-5423-46fa-99c4-9bc32269bc12",
   "metadata": {},
   "outputs": [],
   "source": [
    "# normalization\n",
    "sc.pp.normalize_total(adata, target_sum=1e4)"
   ]
  },
  {
   "cell_type": "code",
   "execution_count": null,
   "id": "5b20afe4-5391-4e64-b40e-17d51e3df477",
   "metadata": {},
   "outputs": [],
   "source": [
    "# log-transform the data\n",
    "sc.pp.log1p(adata)"
   ]
  },
  {
   "cell_type": "code",
   "execution_count": null,
   "id": "001fefe5-4dcf-489d-b91c-0206fb84ebf6",
   "metadata": {},
   "outputs": [],
   "source": [
    "# visualize shifted logarithm distribution \n",
    "fig, axes = plt.subplots(1, 2, figsize=(10, 5))\n",
    "p1 = sns.histplot(adata.obs[\"total_counts\"], bins=100, kde=False, ax=axes[0])\n",
    "axes[0].set_title(\"Total counts\")\n",
    "p2 = sns.histplot(adata.layers[\"logcounts\"].sum(1), bins=100, kde=False, ax=axes[1])\n",
    "axes[1].set_title(\"Shifted logarithm\")\n",
    "plt.show()"
   ]
  },
  {
   "cell_type": "markdown",
   "id": "bcc9657c-2f4e-4cd9-9a08-52bf55fcf03c",
   "metadata": {},
   "source": [
    "### Compute Highly Variable Genes"
   ]
  },
  {
   "cell_type": "code",
   "execution_count": null,
   "id": "d8981e3e-8f67-4dfc-befa-b822b02d5dac",
   "metadata": {},
   "outputs": [],
   "source": [
    "# find variable genes\n",
    "sc.pp.highly_variable_genes(adata, batch_key=\"sample\", flavor=\"seurat\", n_top_genes=2000, subset = False, inplace = True)"
   ]
  },
  {
   "cell_type": "code",
   "execution_count": null,
   "id": "ac0bceea-a6df-423a-8cac-542d54ef5ef4",
   "metadata": {},
   "outputs": [],
   "source": [
    "print(adata.var.highly_variable.value_counts())"
   ]
  },
  {
   "cell_type": "code",
   "execution_count": null,
   "id": "4c43fbac-b659-4d42-b66f-b966656d3cac",
   "metadata": {},
   "outputs": [],
   "source": [
    "# select TCR & MT genes to don't take them into account for PCA\n",
    "\n",
    "# select TCR genes \n",
    "TCR_prefixes = [\"TRAC\", \"TRAJ\", \"TRAV\",  \"TRBC\", \"TRBD\", \"TRBJ\", \"TRBV\",  \"TRDC\", \"TRDD\", \"TRDJ\", \"TRDV\",  \"TRBC\", \"TRG\", \"TRGJ\", \"TRGV\"]\n",
    "TCR_genes = [gene_name for gene_name in adata.var_names if any(gene_name.startswith(prefix) for prefix in TCR_prefixes)]\n",
    "print(TCR_genes[:10])\n",
    "\n",
    "# select mitochondrial genes\n",
    "MT_genes = [gene_name for gene_name in adata.var_names if gene_name.startswith(\"MT-\")]\n",
    "print(MT_genes[:10])\n",
    "\n",
    "# merge unwanted genes\n",
    "out_genes = TCR_genes + MT_genes #+ RP_genes #(include RP genes as there is a non-random fashion across cells) #NO MT or RP genes found in HVG\n",
    "\n",
    "# check there are matches\n",
    "len(set(adata.var_names) & set(out_genes)) > 0"
   ]
  },
  {
   "cell_type": "code",
   "execution_count": null,
   "id": "e0751690-447c-4bbe-ad38-afc532ea7d38",
   "metadata": {},
   "outputs": [],
   "source": [
    "# create boolean list indicating whether the genes are excluded as HVG\n",
    "in_out_genes = [False] * len(adata.var_names)\n",
    "for i in range(0, len(adata.var_names)-1):\n",
    "    gene = adata.var_names[i]\n",
    "    if gene in out_genes:\n",
    "        in_out_genes[i] = True\n",
    "\n",
    "adata.var[\"excl_hv\"] = in_out_genes\n",
    "\n",
    "len(out_genes)"
   ]
  },
  {
   "cell_type": "code",
   "execution_count": null,
   "id": "f827fc31-272b-4153-ae33-08008e179fb5",
   "metadata": {
    "scrolled": true
   },
   "outputs": [],
   "source": [
    "# remove undesired genes as highly variable\n",
    "for i in range(0, len(adata.var_names)-1):\n",
    "    gene = adata.var_names[i]\n",
    "    if ( (adata.var.loc[gene, \"highly_variable\"] == True) & (adata.var.loc[gene, \"excl_hv\"] == True) ):\n",
    "        print(gene + \" found in HVG -- removed!\")\n",
    "        adata.var.loc[gene, \"highly_variable\"] = False"
   ]
  },
  {
   "cell_type": "code",
   "execution_count": null,
   "id": "2b946a3f-d3ed-4dbd-ae9a-4369ad12ad55",
   "metadata": {},
   "outputs": [],
   "source": [
    "print(adata.var.highly_variable.value_counts())"
   ]
  },
  {
   "cell_type": "code",
   "execution_count": null,
   "id": "b5dbec4b-c8b9-4f95-a474-b7ad185ee3a4",
   "metadata": {},
   "outputs": [],
   "source": [
    "# check highly variable genes\n",
    "highly_variable_genes = adata.var.index[adata.var['highly_variable']]\n",
    "highly_variable_genes"
   ]
  },
  {
   "cell_type": "markdown",
   "id": "ad2969ab-ba1f-4d23-ab26-4ea211bebbf5",
   "metadata": {},
   "source": [
    "### Run PCA"
   ]
  },
  {
   "cell_type": "code",
   "execution_count": null,
   "id": "c305c7ef-08ba-4660-a94a-fb11e7a820ec",
   "metadata": {},
   "outputs": [],
   "source": [
    "sc.tl.pca(adata, use_highly_variable = True)"
   ]
  },
  {
   "cell_type": "code",
   "execution_count": null,
   "id": "3f08f936-0938-4ada-ada4-342752304ce1",
   "metadata": {},
   "outputs": [],
   "source": [
    "# visualize loadings\n",
    "sc.pl.pca_loadings(adata, include_lowest=True, components=[1, 2, 3, 4, 5])"
   ]
  },
  {
   "cell_type": "code",
   "execution_count": null,
   "id": "9f0bfd0d-9e39-414f-87da-e7fe37663888",
   "metadata": {},
   "outputs": [],
   "source": [
    "# select optimal number of PCs\n",
    "sc.pl.pca_variance_ratio(adata, log=True, n_pcs=50)"
   ]
  },
  {
   "cell_type": "code",
   "execution_count": null,
   "id": "f1c5c531-c898-44a8-bbed-b9e6344d2d44",
   "metadata": {},
   "outputs": [],
   "source": [
    "# calculate the percent of variation associated with each PC\n",
    "pct = adata.obsm['X_pca'].std(axis=0) / np.sum(adata.obsm['X_pca'].std(axis=0)) * 100\n",
    "\n",
    "# calculate cumulative percents for each PC\n",
    "cumu = np.cumsum(pct)\n",
    "\n",
    "# determine which PC exhibits cumulative percent greater than 90% and % variation associated with the PC is less than 5\n",
    "co1 = np.where((cumu > 90) & (pct < 5))[0]\n",
    "co1_index = co1[0] if len(co1) > 0 else None\n",
    "print(co1_index)\n",
    "\n",
    "# determine the difference between the variation of PC and subsequent PC\n",
    "co2 = np.sort(np.where((pct[:-1] - pct[1:]) > 0.05)[0])[::-1] # before: 0.1\n",
    "co2_index = co2[0] + 1 if len(co2) > 0 else None\n",
    "print(co2_index)\n",
    "\n",
    "# usually, we would choose the minimum of these two metrics as the PCs covering the majority of the variation in the data.\n",
    "pcs = min(co1_index, co2_index) if co1_index is not None and co2_index is not None else None\n",
    "\n",
    "print(\"PCs covering the majority of the variation:\", pcs)"
   ]
  },
  {
   "cell_type": "code",
   "execution_count": null,
   "id": "4f472591-4056-4fad-ab1d-222bc69925c8",
   "metadata": {},
   "outputs": [],
   "source": [
    "# Kaiser rule --> Keep PC with an eigenvalue of >=1\n",
    "\n",
    "# extract eigenvalues from PCA results\n",
    "eigenvalues = adata.uns['pca']['variance']\n",
    "\n",
    "# filter eigenvalues greater than or equal to 1\n",
    "eigenvalues_gt_1 = [val for val in eigenvalues if val >= 1]\n",
    "\n",
    "# get the corresponding principal component numbers\n",
    "pcs_gt_1 = [i+1 for i, val in enumerate(eigenvalues) if val >= 1]\n",
    "\n",
    "print(eigenvalues)\n",
    "print(max(pcs_gt_1))"
   ]
  },
  {
   "cell_type": "code",
   "execution_count": null,
   "id": "34592b35-f6ab-4119-8e7d-afa5d6338f59",
   "metadata": {},
   "outputs": [],
   "source": [
    "# 2/3 Variance Explanation\n",
    "print(cumu)\n",
    "np.where((cumu > 100*2/3))[0][0]"
   ]
  },
  {
   "cell_type": "code",
   "execution_count": null,
   "id": "b1c2acd9-99f4-48ea-ba05-df1885a058ef",
   "metadata": {},
   "outputs": [],
   "source": [
    "# define number of PCs\n",
    "n_pcs=35"
   ]
  },
  {
   "cell_type": "markdown",
   "id": "e3c0e4f8-6390-41ff-9ff7-864dc2853607",
   "metadata": {},
   "source": [
    "### Compute Neighbors & Non Linear Dim. Reduction"
   ]
  },
  {
   "cell_type": "code",
   "execution_count": null,
   "id": "485a855a-c6e4-4910-aa61-b40373f6f89d",
   "metadata": {},
   "outputs": [],
   "source": [
    "sc.pp.neighbors(adata, n_pcs=n_pcs)\n",
    "sc.tl.umap(adata)"
   ]
  },
  {
   "cell_type": "code",
   "execution_count": null,
   "id": "80c89210-6506-48f5-bc38-6c69b3bc7e3c",
   "metadata": {},
   "outputs": [],
   "source": [
    "sc.pl.umap(adata, color=[\"sample\", \"Annotation_1.0\"], wspace=1.5)"
   ]
  },
  {
   "cell_type": "code",
   "execution_count": null,
   "id": "8b4fe54c-f697-489a-9320-c4291fd0f11f",
   "metadata": {},
   "outputs": [],
   "source": [
    "# check technical sources of variation\n",
    "sc.pl.umap(\n",
    "    adata,\n",
    "    color=[\"pct_counts_mt\", \"pct_counts_ribo\", \"n_genes_by_counts\", \"total_counts\", \"doublet_score\", \"sample\"],\n",
    "    vmax=\"p99\",\n",
    "    #legend_loc=\"on data\",\n",
    "    frameon=False,\n",
    "    cmap=\"PuOr\",\n",
    "    use_raw=False,\n",
    "    ncols=2\n",
    ")"
   ]
  },
  {
   "cell_type": "code",
   "execution_count": null,
   "id": "5b4d4f6d-6234-4094-ba9d-5fa180ad58ff",
   "metadata": {},
   "outputs": [],
   "source": [
    "sc.pl.umap(\n",
    "    adata,\n",
    "    color=[\"patient\", \"timepoint\"],\n",
    "    vmax=\"p99\",\n",
    "    #legend_loc=\"on data\",\n",
    "    frameon=False,\n",
    "    use_raw=False,\n",
    "    ncols=2\n",
    ")"
   ]
  },
  {
   "cell_type": "markdown",
   "id": "da627370-ade2-4172-948e-a3a27cc08fba",
   "metadata": {},
   "source": [
    "### Integration (scVI)"
   ]
  },
  {
   "cell_type": "code",
   "execution_count": null,
   "id": "d4104752-274d-47fc-8971-fd14b2eeb1fc",
   "metadata": {},
   "outputs": [],
   "source": [
    "# define integration vars\n",
    "batch_key = \"subproject\""
   ]
  },
  {
   "cell_type": "code",
   "execution_count": null,
   "id": "f8fffbc0-b961-4899-a589-7eb879a13f3e",
   "metadata": {},
   "outputs": [],
   "source": [
    "# create object specific to scVI with just HVG\n",
    "adata_scvi = adata[:, adata.var[\"highly_variable\"]].copy()"
   ]
  },
  {
   "cell_type": "code",
   "execution_count": null,
   "id": "5972d0a2-bf30-4d2b-bf71-073341e0bb4a",
   "metadata": {},
   "outputs": [],
   "source": [
    "print(adata.shape)\n",
    "print(adata_scvi.shape)"
   ]
  },
  {
   "cell_type": "code",
   "execution_count": null,
   "id": "8ba63845-6bf5-473a-9a4c-cd1baf31845a",
   "metadata": {
    "scrolled": true
   },
   "outputs": [],
   "source": [
    "# prepare object\n",
    "scvi.model.SCVI.setup_anndata(adata_scvi, \n",
    "                              layer=\"rawcounts\", \n",
    "                              batch_key=batch_key,\n",
    "                              #continuous_covariate_keys=[\"pct_counts_mt\", \"pct_counts_ribo\", \"n_genes_by_counts\", \"total_counts\"],\n",
    "                              #categorical_covariate_keys=[\"patient\", \"timepoint\"]\n",
    "                             )\n",
    "adata_scvi"
   ]
  },
  {
   "cell_type": "code",
   "execution_count": null,
   "id": "d7edf3de-6728-450c-9349-fe0bf87f1a7f",
   "metadata": {},
   "outputs": [],
   "source": [
    "# create the model\n",
    "model_scvi = scvi.model.SCVI(adata_scvi)\n",
    "model_scvi"
   ]
  },
  {
   "cell_type": "code",
   "execution_count": null,
   "id": "ba31eb45-470d-4a59-b9f1-b98b88648f9a",
   "metadata": {},
   "outputs": [],
   "source": [
    "# visualize model\n",
    "model_scvi.view_anndata_setup()"
   ]
  },
  {
   "cell_type": "code",
   "execution_count": null,
   "id": "3317a4dd-fe9a-4a41-bb1d-655703f8dc86",
   "metadata": {},
   "outputs": [],
   "source": [
    "# find optimal number of epochs\n",
    "max_epochs_scvi = np.min([round((20000 / adata_scvi.n_obs) * 400), 400])\n",
    "max_epochs_scvi"
   ]
  },
  {
   "cell_type": "code",
   "execution_count": null,
   "id": "dea5dd21-1b95-493b-845e-ffe63d30b10b",
   "metadata": {},
   "outputs": [],
   "source": [
    "# train the model\n",
    "model_scvi.train()"
   ]
  },
  {
   "cell_type": "code",
   "execution_count": null,
   "id": "7e19a166-944e-4cdd-90de-9ce5f9743eb6",
   "metadata": {},
   "outputs": [],
   "source": [
    "# extract the embedding\n",
    "adata_scvi.obsm[\"X_scVI\"] = model_scvi.get_latent_representation() #just embedding used in further steps\n",
    "adata_scvi.layers[\"scvi_normalized\"] = model_scvi.get_normalized_expression(library_size=10e4) # would allow us to perforem DE"
   ]
  },
  {
   "cell_type": "code",
   "execution_count": null,
   "id": "3d7ce1c8-6509-49c0-a9a3-3229630fd5ef",
   "metadata": {},
   "outputs": [],
   "source": [
    "# transfer scVI latent space to the full anndata object\n",
    "adata.obsm[\"X_scVI\"] = model_scvi.get_latent_representation()"
   ]
  },
  {
   "cell_type": "code",
   "execution_count": null,
   "id": "ff374142-7096-4dba-af30-5a4ced0540a5",
   "metadata": {},
   "outputs": [],
   "source": [
    "# save the model\n",
    "model_scvi.save(os.path.join(work_dir, \"data\", \"models\", \"Combined_SCR_C02_TNK_scVI_integration_model_11-04-24\"), overwrite=True)"
   ]
  },
  {
   "cell_type": "code",
   "execution_count": null,
   "id": "b8f9160d-5f61-435e-b371-dd50593dca1c",
   "metadata": {},
   "outputs": [],
   "source": [
    "# batch-corrected visualization (full)\n",
    "sc.pp.neighbors(adata, use_rep=\"X_scVI\")\n",
    "sc.tl.umap(adata)\n",
    "adata"
   ]
  },
  {
   "cell_type": "code",
   "execution_count": null,
   "id": "0c3a922d-b097-4e75-a827-8e2f475367e9",
   "metadata": {},
   "outputs": [],
   "source": [
    "# visualize integration\n",
    "sc.pl.umap(adata, \n",
    "           color=[\"Annotation_1.0\", \n",
    "                  \"sample\",  \n",
    "                  \"subproject\", \n",
    "                  \"project\", \n",
    "                  \"patient\", \n",
    "                  \"timepoint\",\n",
    "                  \"Prior_Annotation_2.0\"\n",
    "                 ], \n",
    "           wspace=1, \n",
    "           ncols=2) "
   ]
  },
  {
   "cell_type": "code",
   "execution_count": null,
   "id": "0b3334fb-9a4d-49cd-910b-16821b2ad4f8",
   "metadata": {},
   "outputs": [],
   "source": [
    "# save integrated TNK adata object\n",
    "adata.write(os.path.join(work_dir, \"data\", \"outputdata\", \"combined\", \"Combined_SCR_CO2_TNK_scVI-integrated_11-04-24.h5ad\"))"
   ]
  },
  {
   "cell_type": "code",
   "execution_count": null,
   "id": "e0ed7f49-e60d-4315-b522-c2157b2dac28",
   "metadata": {},
   "outputs": [],
   "source": [
    "# identfy technical sources of variation\n",
    "sc.pl.umap(\n",
    "    adata,\n",
    "    color=[\"pct_counts_mt\", \"pct_counts_ribo\", \"n_genes_by_counts\", \"total_counts\", \"doublet_score\", \"sample\"],\n",
    "    vmax=\"p99\",\n",
    "    frameon=False,\n",
    "    cmap=\"PuOr\",\n",
    "    use_raw=False,\n",
    "    ncols=2,\n",
    "    save=\"Techincal_Sources_of_Variation.png\"\n",
    ")"
   ]
  },
  {
   "cell_type": "code",
   "execution_count": null,
   "id": "f14eee59-3f00-4735-be10-ff57d602967d",
   "metadata": {},
   "outputs": [],
   "source": [
    "# visualize batches\n",
    "sc.pl.umap(\n",
    "    adata,\n",
    "    color=[\"patient\", \"project\", \"timepoint\", \"subproject\", \"response\", \"sample\"],\n",
    "    vmax=\"p99\",\n",
    "    frameon=False,\n",
    "    cmap=\"PuOr\",\n",
    "    use_raw=False,\n",
    "    ncols=2,\n",
    "    save=\"Batches.png\"\n",
    ")"
   ]
  },
  {
   "cell_type": "code",
   "execution_count": null,
   "id": "57ef98a4-2d2e-4387-9b12-5cd0994cd42d",
   "metadata": {},
   "outputs": [],
   "source": [
    "# check specific T cell markers to evaluate integration\n",
    "sc.pl.umap(\n",
    "    adata,\n",
    "    color=[\"PTPRC\", \"CD4\", \"CD8B\", \"CCR7\", \"HAVCR2\", \"FOXP3\", \"MKI67\", \"TRAV1-2\", \"KLRF1\"],\n",
    "    vmax=\"p99\",\n",
    "    legend_loc=\"on data\",\n",
    "    frameon=False,\n",
    "    #cmap=\"Viridis\",\n",
    "    use_raw=False\n",
    ")"
   ]
  },
  {
   "cell_type": "markdown",
   "id": "4657c313-5c32-417a-81c2-885e516af782",
   "metadata": {},
   "source": [
    "### Clustering"
   ]
  },
  {
   "cell_type": "code",
   "execution_count": null,
   "id": "7f8db717-dd68-4d37-b036-be4854fe7174",
   "metadata": {},
   "outputs": [],
   "source": [
    "# perform clustering\n",
    "sc.tl.leiden(adata, key_added=\"leiden_res0_25\", resolution=0.25)\n",
    "sc.tl.leiden(adata, key_added=\"leiden_res0_5\", resolution=0.5)\n",
    "sc.tl.leiden(adata, key_added=\"leiden_res0_75\", resolution=0.75)\n",
    "sc.tl.leiden(adata, key_added=\"leiden_res1\", resolution=1.0)"
   ]
  },
  {
   "cell_type": "code",
   "execution_count": null,
   "id": "c9f740b0-e341-4021-9885-81ecc7d58090",
   "metadata": {},
   "outputs": [],
   "source": [
    "# visulize clustering\n",
    "sc.pl.umap(\n",
    "    adata,\n",
    "    color=[\"leiden_res0_25\", \"leiden_res0_5\", \"leiden_res0_75\", \"leiden_res1\"],\n",
    "    legend_loc=\"on data\"\n",
    ")"
   ]
  },
  {
   "cell_type": "code",
   "execution_count": null,
   "id": "5a59869e-903f-4f86-b53c-55958f2126a2",
   "metadata": {},
   "outputs": [],
   "source": [
    "# subcluster cluster 11 (Pro-like) & 12\n",
    "sc.tl.leiden(adata, key_added=\"leiden_res0_75_1\", resolution=0.08, restrict_to = (\"leiden_res0_75\", [\"11\"]))\n",
    "sc.tl.leiden(adata, key_added=\"leiden_res0_75_1\", resolution=0.2, restrict_to = (\"leiden_res0_75_1\", [\"12\"]))"
   ]
  },
  {
   "cell_type": "code",
   "execution_count": null,
   "id": "86e63981-87c2-4061-9a5b-cf1cf9634e60",
   "metadata": {},
   "outputs": [],
   "source": [
    "# visulize clustering\n",
    "sc.pl.umap(\n",
    "    adata,\n",
    "    color=[\"leiden_res0_75\", \"leiden_res0_75_1\"],\n",
    "    legend_loc=\"on data\"\n",
    ")"
   ]
  },
  {
   "cell_type": "code",
   "execution_count": null,
   "id": "908e4483-63c9-4072-8190-33a30d837bff",
   "metadata": {},
   "outputs": [],
   "source": [
    "# save clustered TNK adata object\n",
    "adata.write(os.path.join(work_dir, \"data\", \"outputdata\", \"combined\", \"Combined_SCR_CO2_TNK_scVI-integrated_clustered_11-04-24.h5ad\"))"
   ]
  },
  {
   "cell_type": "code",
   "execution_count": null,
   "id": "faf5edc0-865e-4650-9fa0-e2e2a6e85b99",
   "metadata": {},
   "outputs": [],
   "source": [
    "# read clustered TNK adata object\n",
    "adata = sc.read_h5ad(os.path.join(work_dir, \"data\", \"outputdata\", \"combined\", \"Combined_SCR_CO2_TNK_scVI-integrated_clustered_11-04-24.h5ad\"))"
   ]
  },
  {
   "cell_type": "markdown",
   "id": "21df1562-cf21-4a6c-8c9f-285098833afb",
   "metadata": {},
   "source": [
    "### Compute Marker Genes"
   ]
  },
  {
   "cell_type": "code",
   "execution_count": null,
   "id": "e7478142-aade-435a-acad-01c37ecf2d7d",
   "metadata": {},
   "outputs": [],
   "source": [
    "# compute marker genes\n",
    "sc.tl.rank_genes_groups(\n",
    "    adata, groupby=\"leiden_res0_75_1\", method=\"wilcoxon\", key_added=\"dea_leiden_res0_75_1\", use_raw=False#, layer=\"rawcounts\" # do not use raw!\n",
    ")"
   ]
  },
  {
   "cell_type": "code",
   "execution_count": null,
   "id": "b980d7ad-33f3-48da-ab2e-e822cbd04c16",
   "metadata": {},
   "outputs": [],
   "source": [
    "# save marker genes\n",
    "save_markers(adata, \"leiden_res0_75_1\", os.path.join(work_dir, \"data\", \"markers\", \"Combined\", \"Combined_TNK_res0_75_markers_12-04-24.xlsx\"))"
   ]
  },
  {
   "cell_type": "code",
   "execution_count": null,
   "id": "cbfedb56-c661-4cff-a3ff-8f3f411d27f4",
   "metadata": {},
   "outputs": [],
   "source": [
    "# define marker genes\n",
    "marker_genes = [\n",
    "\n",
    "    \"CD4\", \n",
    "    \"CD8A\",\"CD8B\", \n",
    "    \"CCR7\",\"SELL\",\n",
    "    \"IL7R\",\"CD27\",\n",
    "    \"ITGAE\",\"ZNF683\",# \"CX3CR1\",\n",
    "    \"GZMK\",\"GZMB\", \"IFNG\", \"TNF\", \"PRF1\",\n",
    "    \"HAVCR2\",\"PDCD1\", \"CTLA4\", \"LAG3\",\n",
    "    \"MKI67\",\"TOP2A\",\n",
    "    \"FOXP3\",\n",
    "    \"TRDC\",\"TRGC1\",\n",
    "    \"TRAV1-2\",\n",
    "    \"GNLY\",\"KLRF1\", \"NCAM1\", \"FCGR3A\"\n",
    "    \n",
    "]\n"
   ]
  },
  {
   "cell_type": "code",
   "execution_count": null,
   "id": "59baacf5-cedf-4d51-bccb-746a3b341a0e",
   "metadata": {},
   "outputs": [],
   "source": [
    "# marker genes dictionary\n",
    "marker_genes_dict = {\n",
    "\n",
    "    \"CD4 T\": [\"CD4\"], \n",
    "    \"CD8 T\": [\"CD8A\",\"CD8B\"], \n",
    "    \"Naive\": [\"CCR7\",\"SELL\"],\n",
    "    \"Memory\": [\"IL7R\",\"CD27\"],\n",
    "    \"TRM\": [\"ITGAE\",\"ZNF683\"],\n",
    "    \"Effector\": [\"GZMK\",\"GZMB\", \"IFNG\", \"TNF\", \"PRF1\"],\n",
    "    \"Exhaustion\": [\"HAVCR2\",\"PDCD1\", \"CTLA4\", \"LAG3\"],\n",
    "    \"Proliferation\": [\"MKI67\",\"TOP2A\"],\n",
    "    \"Treg\": [\"FOXP3\"],\n",
    "    \"γδ T\": [\"TRDC\",\"TRGC1\"],\n",
    "    \"MAIT\": [\"TRAV1-2\"],\n",
    "    \"NK\": [\"GNLY\",\"KLRF1\", \"NCAM1\", \"FCGR3A\"]\n",
    "    \n",
    "}"
   ]
  },
  {
   "cell_type": "code",
   "execution_count": null,
   "id": "bd3206ba-86ed-477e-924a-200f93a080f8",
   "metadata": {},
   "outputs": [],
   "source": [
    "# plot the expression of marker genes\n",
    "sc.pl.umap(\n",
    "        adata,\n",
    "        color=marker_genes,\n",
    "        vmin=0,\n",
    "        vmax=\"p99\",  # set vmax to the 99th percentile of the gene count instead of the maximum, to prevent outliers from making expression in other cells invisible. Note that this can cause problems for extremely lowly expressed genes.\n",
    "        sort_order=False,  # do not plot highest expression on top, to not get a biased view of the mean expression among cells\n",
    "        frameon=True,\n",
    "        use_raw=False,\n",
    "        cmap=\"viridis\",  # https://matplotlib.org/stable/tutorials/colors/colormaps.html\n",
    "    )"
   ]
  },
  {
   "cell_type": "code",
   "execution_count": null,
   "id": "c742d86d-f5b8-4d06-b4da-556d02e1ecd6",
   "metadata": {},
   "outputs": [],
   "source": [
    "# dotplot of marker genes\n",
    "sc.pl.dotplot(\n",
    "    adata,\n",
    "    groupby=\"leiden_res0_75_1\",\n",
    "    var_names=marker_genes_dict,\n",
    "    standard_scale=\"var\", \n",
    "    use_raw=False,\n",
    "    cmap=\"Reds\"\n",
    ")"
   ]
  },
  {
   "cell_type": "code",
   "execution_count": null,
   "id": "cab61c1a-e3d9-46a4-8265-f74e652dbb26",
   "metadata": {},
   "outputs": [],
   "source": [
    "sc.pl.matrixplot(\n",
    "    adata,\n",
    "    groupby=\"leiden_res0_75_1\",\n",
    "    var_names=marker_genes_dict,\n",
    "    standard_scale=\"var\", \n",
    "    use_raw=False,\n",
    "    cmap=\"Reds\"\n",
    ")"
   ]
  },
  {
   "cell_type": "code",
   "execution_count": null,
   "id": "d8703633-10b1-4680-89b7-3b7e1b99d2ba",
   "metadata": {},
   "outputs": [],
   "source": [
    "# plot top genes from marker genes computed before\n",
    "sc.pl.rank_genes_groups_dotplot(\n",
    "    adata,\n",
    "    groupby=\"leiden_res0_75_1\",\n",
    "    standard_scale=\"var\",\n",
    "    n_genes=5,\n",
    "    key=\"dea_leiden_res0_75_1\",\n",
    "    use_raw=False\n",
    ")"
   ]
  },
  {
   "cell_type": "markdown",
   "id": "f04df39a-c69e-4ee6-8c13-0579e6f0594a",
   "metadata": {},
   "source": [
    "### Remove Noise Clusters"
   ]
  },
  {
   "cell_type": "code",
   "execution_count": null,
   "id": "cb6e47a1-b9df-4e66-829c-b3676cafdfac",
   "metadata": {},
   "outputs": [],
   "source": [
    "sc.pl.umap(\n",
    "    adata,\n",
    "    color=[\"leiden_res0_75\", \"leiden_res0_75_1\", \"JCHAIN\", \"pct_counts_mt\"],\n",
    "    legend_loc=\"on data\",\n",
    "    use_raw=False\n",
    ")"
   ]
  },
  {
   "cell_type": "code",
   "execution_count": null,
   "id": "872bb92c-a5be-4da1-b0a1-780e2c7f7b9e",
   "metadata": {},
   "outputs": [],
   "source": [
    "# keep non filtered object\n",
    "adata_nofilt = adata.copy()"
   ]
  },
  {
   "cell_type": "code",
   "execution_count": null,
   "id": "f964f542-902d-4d59-9759-2cd13917c885",
   "metadata": {},
   "outputs": [],
   "source": [
    "# save nonfiltered object\n",
    "adata_nofilt.write(os.path.join(work_dir, \"data\", \"outputdata\", \"combined\", \"Combined_SCR_CO2_TNK_scVI-integrated_clustered_nofilt_11-04-24.h5ad\"))"
   ]
  },
  {
   "cell_type": "code",
   "execution_count": null,
   "id": "5c136d9f-8329-45a7-a11e-47ca05ebaa19",
   "metadata": {},
   "outputs": [],
   "source": [
    "# remove noise clusters\n",
    "adata = adata[~adata.obs['leiden_res0_75_1'].isin([\"11,1\",\"14\"])].copy()"
   ]
  },
  {
   "cell_type": "code",
   "execution_count": null,
   "id": "ec3d4ca7-d5de-4850-bd54-c2c05e1db9d1",
   "metadata": {},
   "outputs": [],
   "source": [
    "# check if removal was successfull\n",
    "set(adata.obs.leiden_res0_75_1)"
   ]
  },
  {
   "cell_type": "code",
   "execution_count": null,
   "id": "582fbfb8-2355-4f15-aca8-497fc1a3f196",
   "metadata": {},
   "outputs": [],
   "source": [
    "# save filtered object\n",
    "adata.write(os.path.join(work_dir, \"data\", \"outputdata\", \"combined\", \"Combined_SCR_CO2_TNK_int_clust_filt_11-04-24.h5ad\"))"
   ]
  },
  {
   "cell_type": "code",
   "execution_count": null,
   "id": "2667f34d-7878-464f-af13-f75ce21886ba",
   "metadata": {},
   "outputs": [],
   "source": [
    "# read filtered object\n",
    "adata = sc.read_h5ad(os.path.join(work_dir, \"data\", \"outputdata\", \"combined\", \"Combined_SCR_CO2_TNK_int_clust_filt_11-04-24.h5ad\"))"
   ]
  },
  {
   "cell_type": "markdown",
   "id": "09e65213-120f-4ce4-af78-1bef980aff3f",
   "metadata": {},
   "source": [
    "### Recompute Neighbors & Clustering"
   ]
  },
  {
   "cell_type": "code",
   "execution_count": null,
   "id": "9c2dee05-1975-4b93-a82d-f3507c0805f6",
   "metadata": {},
   "outputs": [],
   "source": [
    "sc.pp.neighbors(adata, use_rep=\"X_scVI\")\n",
    "sc.tl.umap(adata)"
   ]
  },
  {
   "cell_type": "code",
   "execution_count": null,
   "id": "ae6e5cb9-d882-4c63-8f05-72587ed12fad",
   "metadata": {},
   "outputs": [],
   "source": [
    "# check specific T cell markers to evaluate embedding\n",
    "sc.pl.umap(\n",
    "    adata,\n",
    "    color=[\"PTPRC\", \"CD4\", \"CD8B\", \"CCR7\", \"HAVCR2\", \"FOXP3\", \"MKI67\", \"TRAV1-2\", \"KLRF1\"],\n",
    "    vmax=\"p99\",\n",
    "    legend_loc=\"on data\",\n",
    "    frameon=False,\n",
    "    #cmap=\"Viridis\",\n",
    "    use_raw=False\n",
    ")"
   ]
  },
  {
   "cell_type": "code",
   "execution_count": null,
   "id": "57ae41f5-5788-4e6a-90be-09ab9b45f541",
   "metadata": {},
   "outputs": [],
   "source": [
    "# perform clustering\n",
    "sc.tl.leiden(adata, key_added=\"leiden_res0_25\", resolution=0.25)\n",
    "sc.tl.leiden(adata, key_added=\"leiden_res0_5\", resolution=0.5)\n",
    "sc.tl.leiden(adata, key_added=\"leiden_res0_75\", resolution=0.75)\n",
    "sc.tl.leiden(adata, key_added=\"leiden_res1\", resolution=1.0)"
   ]
  },
  {
   "cell_type": "code",
   "execution_count": null,
   "id": "67acb583-3d5b-4205-949c-f67fc5b26b2f",
   "metadata": {},
   "outputs": [],
   "source": [
    "sc.tl.leiden(adata, key_added=\"leiden_res1_2\", resolution=1.2)\n",
    "sc.tl.leiden(adata, key_added=\"leiden_res1_4\", resolution=1.4)\n",
    "sc.tl.leiden(adata, key_added=\"leiden_res1_6\", resolution=1.6)\n",
    "sc.tl.leiden(adata, key_added=\"leiden_res1_8\", resolution=1.8)\n",
    "sc.tl.leiden(adata, key_added=\"leiden_res2\", resolution=2)"
   ]
  },
  {
   "cell_type": "code",
   "execution_count": null,
   "id": "c4af4486-cb18-41c3-a282-41bb3aaf493c",
   "metadata": {},
   "outputs": [],
   "source": [
    "# visulize clustering\n",
    "sc.pl.umap(\n",
    "    adata,\n",
    "    color=[\"leiden_res0_25\", \"leiden_res0_5\", \"leiden_res0_75\", \"leiden_res1\",\n",
    "          \"leiden_res1_2\", \"leiden_res1_4\", \"leiden_res1_6\", \"leiden_res1_8\", \"leiden_res2\"],\n",
    "    legend_loc=\"on data\"\n",
    ")"
   ]
  },
  {
   "cell_type": "code",
   "execution_count": null,
   "id": "35d6ef02-7126-49f6-a972-75381870ac2c",
   "metadata": {},
   "outputs": [],
   "source": [
    "# choose resolution 1 - subcluster cluster 11, \n",
    "# subcluster cluster 15 (naive) as there is a fraction of CD8 T cells, \n",
    "# also cluster 8 as there might be naive + helper CD4 Ts\n",
    "# sucluster 13 (T pro) to get CD4 and CD8 subsets (also identified a cycling γδ T subset)\n",
    "sc.tl.leiden(adata, key_added=\"leiden_res1_1\", resolution=0.25, restrict_to = (\"leiden_res1\", [\"11\"]))\n",
    "sc.tl.leiden(adata, key_added=\"leiden_res1_1\", resolution=0.2, restrict_to = (\"leiden_res1_1\", [\"15\"]))\n",
    "sc.tl.leiden(adata, key_added=\"leiden_res1_1\", resolution=0.2, restrict_to = (\"leiden_res1_1\", [\"8\"]))\n",
    "sc.tl.leiden(adata, key_added=\"leiden_res1_1\", resolution=0.2, restrict_to = (\"leiden_res1_1\", [\"13\"]))"
   ]
  },
  {
   "cell_type": "code",
   "execution_count": null,
   "id": "07d927d2-a27c-465d-90ba-1d6ec99a7ea0",
   "metadata": {},
   "outputs": [],
   "source": [
    "# visulize clustering\n",
    "sc.pl.umap(\n",
    "    adata,\n",
    "    color=[\"leiden_res1\", \"leiden_res1_1\"],\n",
    "    legend_loc=\"on data\"\n",
    ")"
   ]
  },
  {
   "cell_type": "code",
   "execution_count": null,
   "id": "bbb86eee-a1ed-43ab-8d00-a104b1d511f6",
   "metadata": {},
   "outputs": [],
   "source": [
    "# save reclustered TNK adata object\n",
    "adata.write(os.path.join(work_dir, \"data\", \"outputdata\", \"combined\", \"Combined_SCR_CO2_TNK_int_filt_reclust_11-04-24.h5ad\"))"
   ]
  },
  {
   "cell_type": "code",
   "execution_count": null,
   "id": "d93cb8bd-4698-48fb-aeb3-1f494812a5ab",
   "metadata": {},
   "outputs": [],
   "source": [
    "# read reclustered TNK adata object\n",
    "adata = sc.read_h5ad(os.path.join(work_dir, \"data\", \"outputdata\", \"combined\", \"Combined_SCR_CO2_TNK_int_filt_reclust_11-04-24.h5ad\"))"
   ]
  },
  {
   "cell_type": "markdown",
   "id": "c32c0270-1353-417f-98e8-74215d1d17c7",
   "metadata": {},
   "source": [
    "## Level 2 Annotation"
   ]
  },
  {
   "cell_type": "markdown",
   "id": "f532ff67-26f5-4486-a774-aa9d036744fe",
   "metadata": {},
   "source": [
    "### Map Known Marker Genes"
   ]
  },
  {
   "cell_type": "code",
   "execution_count": null,
   "id": "78dbfad8-b5db-41a0-82be-ad4b9c46d46e",
   "metadata": {},
   "outputs": [],
   "source": [
    "# plot the expression of marker genes\n",
    "sc.pl.umap(\n",
    "        adata,\n",
    "        color=marker_genes,\n",
    "        vmin=0,\n",
    "        vmax=\"p99\",  # set vmax to the 99th percentile of the gene count instead of the maximum, to prevent outliers from making expression in other cells invisible. Note that this can cause problems for extremely lowly expressed genes.\n",
    "        sort_order=True,  # do not plot highest expression on top, to not get a biased view of the mean expression among cells\n",
    "        frameon=True,\n",
    "        use_raw=False,\n",
    "        cmap=\"viridis\",  # https://matplotlib.org/stable/tutorials/colors/colormaps.html\n",
    "        save=\"Markers_UMAPs.png\"\n",
    "    )"
   ]
  },
  {
   "cell_type": "code",
   "execution_count": null,
   "id": "3619ec3d-56d7-4418-b547-6b12632f36b2",
   "metadata": {},
   "outputs": [],
   "source": [
    "# dotplot of marker genes\n",
    "sc.pl.dotplot(\n",
    "    adata,\n",
    "    groupby=\"leiden_res1_1\",\n",
    "    var_names=marker_genes_dict,\n",
    "    standard_scale=\"var\", \n",
    "    use_raw=False,\n",
    "    cmap=\"Reds\",\n",
    "    save=\"Clusters_Markers_Dotplot.png\"\n",
    ")"
   ]
  },
  {
   "cell_type": "code",
   "execution_count": null,
   "id": "860ae0e6-e881-4bf3-bd8d-0e71bc0f6ee2",
   "metadata": {},
   "outputs": [],
   "source": [
    "sc.pl.matrixplot(\n",
    "    adata,\n",
    "    groupby=\"leiden_res1_1\",\n",
    "    var_names=marker_genes_dict,\n",
    "    standard_scale=\"var\", \n",
    "    use_raw=False,\n",
    "    cmap=\"Reds\",\n",
    "    save=\"Clusters_Markers_Matrixplot.png\"\n",
    ")"
   ]
  },
  {
   "cell_type": "markdown",
   "id": "6f2a0c85-a70f-4b2a-ad09-2b6e977c23b6",
   "metadata": {},
   "source": [
    "### Compute Marker Genes"
   ]
  },
  {
   "cell_type": "code",
   "execution_count": null,
   "id": "0c2a4154-016d-43dc-9504-27f9f2373eeb",
   "metadata": {},
   "outputs": [],
   "source": [
    "# compute marker genes\n",
    "sc.tl.rank_genes_groups(\n",
    "    adata, groupby=\"leiden_res1_1\", method=\"wilcoxon\", key_added=\"dea_leiden_res1_1\", use_raw=False#, layer=\"rawcounts\" # do not use raw!\n",
    ")"
   ]
  },
  {
   "cell_type": "code",
   "execution_count": null,
   "id": "3d6f66d8-b302-4c23-9d0e-43c4b3b3d384",
   "metadata": {},
   "outputs": [],
   "source": [
    "# save marker genes\n",
    "save_markers(adata, \"leiden_res1_1\", os.path.join(work_dir, \"data\", \"markers\", \"Combined\", \"Combined_TNK_res1_markers_12-04-24.xlsx\"))"
   ]
  },
  {
   "cell_type": "code",
   "execution_count": null,
   "id": "cb1825d3-ac50-4438-8779-af94f7bb38db",
   "metadata": {},
   "outputs": [],
   "source": [
    "sc.tl.dendrogram(adata, groupby='leiden_res1_1')"
   ]
  },
  {
   "cell_type": "code",
   "execution_count": null,
   "id": "5eb76c05-c175-436a-8380-5597ef1e5a8b",
   "metadata": {},
   "outputs": [],
   "source": [
    "# plot top 5 marker genes per cluster\n",
    "sc.pl.rank_genes_groups_dotplot(\n",
    "    adata,\n",
    "    groupby=\"leiden_res1_1\",\n",
    "    standard_scale=\"var\",\n",
    "    n_genes=5,\n",
    "    key=\"dea_leiden_res1_1\",\n",
    "    use_raw=False,\n",
    "    save=\"Cluster_Marker_Genes_Dotplot.png\"\n",
    ")"
   ]
  },
  {
   "cell_type": "markdown",
   "id": "edd519cf-0497-4e04-b8a3-c8c3a3ac4e15",
   "metadata": {},
   "source": [
    "### Carry Out Annotation"
   ]
  },
  {
   "cell_type": "code",
   "execution_count": null,
   "id": "eb410534-73a9-45a0-8acc-284738335f9a",
   "metadata": {},
   "outputs": [],
   "source": [
    "#sc.set_figure_params(figsize=(4, 4))\n",
    "sc.pl.umap(\n",
    "    adata,\n",
    "    color=[\"leiden_res1_1\"],\n",
    "    legend_loc=\"on data\",\n",
    "    save=\"Clustering_res1_1_UMAP.png\"\n",
    ")"
   ]
  },
  {
   "cell_type": "code",
   "execution_count": null,
   "id": "766f9587-6ee1-47de-aef1-3c90acd71f86",
   "metadata": {},
   "outputs": [],
   "source": [
    "annotation = {\n",
    "    \n",
    "    \"0\":         \"CD8 T Effector\",           #1      \n",
    "    \"1\":         \"CD4 T Central Memory\",     #2 top1 marker IL7R, how to differentiate between T Naive and CM \n",
    "    \"2\":         \"CD56hi CD16lo NK\",         #3\n",
    "    \"3\":         \"CD8 T TRM PreExhausted\",   #4 # effector function + exhausted markers ?\n",
    "    \"4\":         \"CD4 T CM/EarlyActivated\",  #5 Early activation genes: CD40LG, LTB, FOS/B, TNF + IL7R (memory)\n",
    "    \"5\":         \"CD8 T TRM Effector\",       #6\n",
    "    \"6\":         \"CD4 T Regulatory\",         #7\n",
    "    \"7\":         \"CD8 T TRM Exhausted\",      #8 \n",
    "    \"8,0\":       \"CD4 T Follicular Helper\",   #9  helper effector functions + exhaustion markers -follicular\n",
    "    \"8,1\":       \"CD4 T Follicular Helper\",        #10  specially follicular helper realted genes\n",
    "    \"8,2\":       \"CD4 T Helper-like\",     #11 many markers of exhaustion\n",
    "    \"8,3\":       \"CD4 T ISG+\",               #12 inteferon-stimulated genes (IFIT, MX, OAS)\n",
    "    \"9\":         \"CD8 T MAIT\",               #13\n",
    "    \"10\":        \"NKT-like\",                 #14 CD8 expression + NK markers\n",
    "    \"11,0\":      \"CD8 T TRM Effector\",       #15\n",
    "    \"11,1\":      \"CD4 T Regulatory\",         #16 there might be a few cd8 t cells in it\n",
    "    \"11,2\":      \"γδ T-like\",                #17\n",
    "    \"11,3\":      \"NOISE\",                    #18 pro myeloid cells\n",
    "    \"12\":        \"CD56dim CD16hi NK\",        #19\n",
    "    \"13,0\":      \"CD8 T Proliferative\",      #20 \n",
    "    \"13,1\":      \"CD8 T Proliferative\",      #21\n",
    "    \"13,2\":      \"Cycling γδ T-like\",        #22\n",
    "    \"13,3\":      \"CD4 T Proliferative\",      #23\n",
    "    \"14\":        \"γδ T-like\",                #24 very high TRDC TRCG1, no exp of CD4/8, \n",
    "    \"15,0\":      \"CD4 T Naive\",              #25\n",
    "    \"15,1\":      \"CD8 T Naive\"               #26\n",
    "        \n",
    "}\n",
    "\n",
    "adata.obs[\"Annotation_2.0\"] = adata.obs.leiden_res1_1.map(annotation)"
   ]
  },
  {
   "cell_type": "code",
   "execution_count": null,
   "id": "875b1e1e-29ab-43d3-8d93-fcada3ca54a3",
   "metadata": {},
   "outputs": [],
   "source": [
    "# remove NOISE cluster\n",
    "adata = adata[~adata.obs['Annotation_2.0'].isin([\"NOISE\"])].copy()"
   ]
  },
  {
   "cell_type": "markdown",
   "id": "84977349-5485-4e6e-925f-c0c47d2efaf5",
   "metadata": {},
   "source": [
    "### Visualize Annotation 2.0"
   ]
  },
  {
   "cell_type": "code",
   "execution_count": null,
   "id": "faff2d8a-c046-420b-b1af-14365493f47d",
   "metadata": {},
   "outputs": [],
   "source": [
    "# visualize annotation\n",
    "sc.set_figure_params(figsize=(3, 3))\n",
    "sc.pl.umap(\n",
    "    adata,\n",
    "    color=[\"Annotation_2.0\"],\n",
    "    title=[\"Annotation 2.0\"],\n",
    "    frameon=True,\n",
    "    cmap=\"tab20\",\n",
    "    save=\"Annotation_2.0_UMAP.png\"\n",
    ")"
   ]
  },
  {
   "cell_type": "code",
   "execution_count": null,
   "id": "98d62a7a-64c3-4416-973f-10cd73715ae8",
   "metadata": {},
   "outputs": [],
   "source": [
    "# dotplot of marker genes\n",
    "sc.pl.dotplot(\n",
    "    adata,\n",
    "    groupby=\"Annotation_2.0\",\n",
    "    var_names=marker_genes_dict,\n",
    "    standard_scale=\"var\", \n",
    "    use_raw=False,\n",
    "    cmap=\"Reds\",\n",
    "    save=\"Annotation_2.0_Dotplot.png\"\n",
    ")"
   ]
  },
  {
   "cell_type": "code",
   "execution_count": null,
   "id": "1bd49551-2c3d-4e27-8f24-8cee7b38d015",
   "metadata": {},
   "outputs": [],
   "source": [
    "sc.pl.matrixplot(\n",
    "    adata,\n",
    "    groupby=\"Annotation_2.0\",\n",
    "    var_names=marker_genes_dict,\n",
    "    standard_scale=\"var\", \n",
    "    use_raw=False,\n",
    "    cmap=\"Reds\",\n",
    "    save=\"Annotation_2.0_Matrixplot.png\"\n",
    ")\n",
    "#plt.savefig(os.path.join(fig_dir,\"Annotation_2.0_Matrixplot.png\"), dpi=600, format=\"png\", bbox_inches=\"tight\")"
   ]
  },
  {
   "cell_type": "code",
   "execution_count": null,
   "id": "765ec9e6-56db-486a-999a-8d053ce09192",
   "metadata": {},
   "outputs": [],
   "source": [
    "sc.pl.stacked_violin(\n",
    "    adata,\n",
    "    groupby=\"Annotation_2.0\",\n",
    "    var_names=marker_genes_dict,\n",
    "    standard_scale=\"var\", \n",
    "    use_raw=False,\n",
    "    cmap=\"Reds\",\n",
    "    save=\"Annotation_2.0_Stacked_Violin.png\"\n",
    ")"
   ]
  },
  {
   "cell_type": "code",
   "execution_count": null,
   "id": "124f93aa-732d-4944-b73c-3dc5183fd6df",
   "metadata": {},
   "outputs": [],
   "source": [
    "# correlation matrix\n",
    "sc.pl.correlation_matrix(adata, \"Annotation_2.0\", save=\"Annotation_2.0_Correlation_Matrix.png\")"
   ]
  },
  {
   "cell_type": "markdown",
   "id": "03e56b38-134a-4ad3-a565-127f50dc3b31",
   "metadata": {},
   "source": [
    "### Save Annotated Anndata Object"
   ]
  },
  {
   "cell_type": "code",
   "execution_count": null,
   "id": "7f514a93-9eaa-4701-832c-23af0fe59bd6",
   "metadata": {},
   "outputs": [],
   "source": [
    "# save it\n",
    "adata.write(os.path.join(work_dir, \"data\", \"outputdata\", \"combined\", \"Combined_SCR_CO2_TNK_annotated_13-04-24.h5ad\"))"
   ]
  },
  {
   "cell_type": "code",
   "execution_count": null,
   "id": "bed6954a-97f4-4e1a-a697-dc8d34ca5c81",
   "metadata": {},
   "outputs": [],
   "source": [
    "# read annotated object\n",
    "adata = sc.read_h5ad(os.path.join(work_dir, \"data\", \"outputdata\", \"combined\", \"Combined_SCR_CO2_TNK_annotated_13-04-24.h5ad\"))"
   ]
  },
  {
   "cell_type": "markdown",
   "id": "d0886dd7-0d09-43b2-bbde-9580dfbb1d58",
   "metadata": {},
   "source": [
    "## Gene Signatures Scores"
   ]
  },
  {
   "cell_type": "code",
   "execution_count": null,
   "id": "9927385d-4def-45f3-860f-0719277eaae3",
   "metadata": {},
   "outputs": [],
   "source": [
    "# change saving figures dir\n",
    "fig_dir = os.path.join(work_dir, \"figures\", \"combined\", \"TNK\", \"signatures/\")"
   ]
  },
  {
   "cell_type": "code",
   "execution_count": null,
   "id": "14b5de5c-7950-48bd-9878-503a9822965c",
   "metadata": {},
   "outputs": [],
   "source": [
    "# define signatures\n",
    "\n",
    "signatures = {  #Single-cell transcriptomics of human T cells reveals tissue and activation signatures in health and disease\n",
    "\n",
    "    \"Exhaustion\" : [\"HAVCR2\", \"PDCD1\", \"CTLA4\", \"LAG3\", \"TIGIT\", \"TOX\", \"BATF\", \"ENTPD1\", \"CD274\"],\n",
    "    \"Treg\" : [\"FOXP3\", \"CTLA4\", \"IRF4\", \"BATF\", \"TNFRSF18\", \"TOX2\"],\n",
    "    \"CD4_Nv_CM_rest\" : [\"LEF1\", \"ATM\", \"SELL\", \"KLF2\", \"ITGA6\"],\n",
    "    \"CD4_CD8_rest\" : [\"IL7R\", \"CD52\", \"S100A4\", \"AQP3\", \"NLRP3\", \"KLF2\", \"ITGB7\"],\n",
    "    \"TRM\" : [\"CD69\", \"ITGAE\", \"ITGA1\", \"ZNF683\", \"CX3CR1\"],\n",
    "    \"Early_Activation\" : [\"CD69\", \"IL2RA\", \"CD44\", \"SLC3A2\", \"TFRC\", \"FOS\", \"JUN\", \"ZAP70\", \"LAT\"],\n",
    "    #\"IFN response\" : [\"IFIT3\", \"IFIT2\", \"STAT1\", \"MX1\", \"IRF7\", \"ISG15\", \"IFITM3\", \"OAS2\", \"JAK2\", \"SOCS1\", \"TRIM21\"],\n",
    "    #\"Proliferation\" : [\"MKI67\", \"TOP2A\", \"PCNA\", \"LIF\", \"IL2\", \"CENPV\", \"NME1\", \"FABP5\", \"ORC6\", \"GOS2\", \"GCK\"],\n",
    "    \"CD8_cytotoxic\" : [\"CCL5\", \"GZMK\", \"GNLY\", \"EOMES\", \"ZNF683\", \"KLRG1\", \"NKG7\", \"ZEB2\"],\n",
    "    \"CD8_cytokine\" : [\"CCL3\", \"CCL4\", \"XCL2\", \"IL10\", \"PRF1\", \"TNFRSF9\", \"NKG7\", \"IL26\", \"IFNG\", \"XCL1\", \"CSF2\", \"HOPX\", \"LAG3\"],\n",
    "    \"IFN_response\" : [\"APOL1\", \"APOL6\", \"BATF2\", \"BST2\", \"C5orf56\", \"CMPK2\", \"DDX58\", \"DDX60\", \"DHX58\",\n",
    "        \"DTX3L\", \"EPSTI1\", \"FBXO6\", \"GBP1\", \"GBP4\", \"HELZ2\", \"HERC5\", \"HERC6\", \"HSH2D\", \"IFI16\",\n",
    "        \"IFI35\", \"IFI44\", \"IFI44L\", \"IFI6\", \"IFIH1\", \"IFIT1\", \"IFIT2\", \"IFIT3\", \"IFIT5\", \"IFITM1\",\n",
    "        \"IRF7\", \"IRF9\", \"ISG15\", \"LAMP3\", \"LAP3\", \"MX1\", \"MX2\", \"OAS2\", \"OAS3\", \"OASL\", \"PARP10\",\n",
    "        \"PARP12\", \"PARP14\", \"PARP9\", \"PHF11\", \"PML\", \"PSMB9\", \"RNF213\", \"RSAD2\", \"RTP4\", \"SAMD9\",\n",
    "        \"SAMD9L\", \"SHISA5\", \"SIGLEC1\", \"SP110\", \"STAT1\", \"STAT2\", \"TAP1\", \"TRAFD1\", \"TRIM21\", \"TRIM22\",\n",
    "        \"TRIM5\", \"UBE2L6\", \"USP18\", \"XAF1\", \"ZNFX1\"],\n",
    "    \"Proliferation\" : [\"ANLN\", \"ASPM\", \"AURKA\", \"AURKB\", \"BIRC5\", \"BUB1\", \"BUB1B\", \"CCNA2\", \"CCNB1\",\n",
    "        \"CCNB2\", \"CCNE2\", \"CDC20\", \"CDC6\", \"CDCA2\", \"CDCA3\", \"CDCA5\", \"CDCA7\", \"CDCA8\", \"CDK1\",\n",
    "        \"CDKN3\", \"CDT1\", \"CENPA\", \"CENPE\", \"CENPF\", \"CENPL\", \"CEP55\", \"CKS1B\", \"DEPDC1\", \"DEPDC1B\",\n",
    "        \"DLGAP5\", \"DONSON\", \"DTL\", \"E2F8\", \"ECT2\", \"EZH2\", \"FAM72C\", \"FANCI\", \"FBXO5\", \"FOXM1\",\n",
    "        \"GINS1\", \"GINS2\", \"GMNN\", \"HJURP\", \"HMGB3\", \"HMMR\", \"KIF11\", \"KIF14\", \"KIF15\",\n",
    "        \"KIF18B\", \"KIF20A\", \"KIF2C\", \"KIF4A\", \"MAD2L1\", \"MCM10\", \"MCM2\", \"MCM4\", \"MCM6\", \"MELK\",\n",
    "        \"MKI67\", \"MND1\", \"MTFR2\", \"NCAPG\", \"NCAPG2\", \"NDC80\", \"NEK2\", \"NUF2\", \"NUSAP1\", \"OIP5\",\n",
    "        \"PARPBP\", \"PBK\", \"PCNA\", \"PLK4\", \"POLE2\", \"POLQ\", \"PTTG1\", \"RACGAP1\", \"RAD51\", \"RAD51AP1\",\n",
    "        \"RRM1\", \"RRM2\", \"SHCBP1\", \"SKA1\", \"SMC2\", \"SPC25\", \"STIL\", \"STMN1\", \"TCF19\", \"TK1\", \"TOP2A\",\n",
    "        \"TPX2\", \"TRIP13\", \"TTK\", \"TYMS\", \"UBE2C\", \"UHRF1\", \"ZWILCH\", \"ZWINT\"],\n",
    "    \"Translation\" : [\"EEF1A1\", \"EEF1B2\", \"EEF1D\", \"EEF1G\", \"EIF3D\", \"EIF3E\", \"EIF3F\", \"EIF3G\", \"EIF3H\", \"EIF3K\",\n",
    "        \"FAU\", \"NACA\", \"PFDN5\", \"RPL10\", \"RPL11\", \"RPL12\", \"RPL13\", \"RPL13A\",\n",
    "        \"RPL14\", \"RPL15\", \"RPL17\", \"RPL18\", \"RPL18A\", \"RPL19\", \"RPL21\", \"RPL22\", \"RPL23\", \"RPL23A\",\n",
    "        \"RPL24\", \"RPL27\", \"RPL27A\", \"RPL28\", \"RPL29\", \"RPL3\", \"RPL30\", \"RPL31\", \"RPL32\", \"RPL34\",\n",
    "        \"RPL35\", \"RPL35A\", \"RPL36A\", \"RPL37\", \"RPL37A\", \"RPL38\", \"RPL39\", \"RPL4\", \"RPL5\", \"RPL6\",\n",
    "        \"RPL7\", \"RPL7A\", \"RPL8\", \"RPL9\", \"RPLP0\", \"RPLP2\", \"RPS10\", \"RPS11\", \"RPS13\", \"RPS14\", \"RPS15\",\n",
    "        \"RPS15A\", \"RPS16\", \"RPS17\", \"RPS18\", \"RPS19\", \"RPS2\", \"RPS20\", \"RPS21\", \"RPS23\", \"RPS25\",\n",
    "        \"RPS27A\", \"RPS28\", \"RPS29\", \"RPS3\", \"RPS3A\", \"RPS5\", \"RPS6\", \"RPS7\", \"RPS8\", \"RPS9\", \"RPSA\",\n",
    "        \"SNHG6\", \"SNHG8\", \"SNRPD2\", \"UXT\"]\n",
    "    \n",
    "}\n",
    "\n",
    "#https://www.nature.com/articles/s41467-019-12464-3?fromPaywallRec=false\n",
    "# TIGER: http://tiger.canceromics.org/#/"
   ]
  },
  {
   "cell_type": "code",
   "execution_count": null,
   "id": "b8778274-b655-4279-ab93-b7c9e246f9d1",
   "metadata": {},
   "outputs": [],
   "source": [
    "signatures2 = {  #Immune Cell Gene Signatures for Profiling the Microenvironment of Solid Tumors\n",
    "\n",
    "    \"IFN response\" : [\"APOL1\", \"APOL6\", \"BATF2\", \"BST2\", \"C5orf56\", \"CMPK2\", \"DDX58\", \"DDX60\", \"DHX58\",\n",
    "        \"DTX3L\", \"EPSTI1\", \"FBXO6\", \"GBP1\", \"GBP4\", \"HELZ2\", \"HERC5\", \"HERC6\", \"HSH2D\", \"IFI16\",\n",
    "        \"IFI35\", \"IFI44\", \"IFI44L\", \"IFI6\", \"IFIH1\", \"IFIT1\", \"IFIT2\", \"IFIT3\", \"IFIT5\", \"IFITM1\",\n",
    "        \"IRF7\", \"IRF9\", \"ISG15\", \"LAMP3\", \"LAP3\", \"MX1\", \"MX2\", \"OAS2\", \"OAS3\", \"OASL\", \"PARP10\",\n",
    "        \"PARP12\", \"PARP14\", \"PARP9\", \"PHF11\", \"PML\", \"PSMB9\", \"RNF213\", \"RSAD2\", \"RTP4\", \"SAMD9\",\n",
    "        \"SAMD9L\", \"SHISA5\", \"SIGLEC1\", \"SP110\", \"STAT1\", \"STAT2\", \"TAP1\", \"TRAFD1\", \"TRIM21\", \"TRIM22\",\n",
    "        \"TRIM5\", \"UBE2L6\", \"USP18\", \"XAF1\", \"ZNFX1\"],\n",
    "    \"Proliferation\" : [\"ANLN\", \"ASPM\", \"AURKA\", \"AURKB\", \"BIRC5\", \"BUB1\", \"BUB1B\", \"CCNA2\", \"CCNB1\",\n",
    "        \"CCNB2\", \"CCNE2\", \"CDC20\", \"CDC6\", \"CDCA2\", \"CDCA3\", \"CDCA5\", \"CDCA7\", \"CDCA8\", \"CDK1\",\n",
    "        \"CDKN3\", \"CDT1\", \"CENPA\", \"CENPE\", \"CENPF\", \"CENPL\", \"CEP55\", \"CKS1B\", \"DEPDC1\", \"DEPDC1B\",\n",
    "        \"DLGAP5\", \"DONSON\", \"DTL\", \"E2F8\", \"ECT2\", \"EZH2\", \"FAM72C\", \"FANCI\", \"FBXO5\", \"FOXM1\",\n",
    "        \"GINS1\", \"GINS2\", \"GMNN\", \"HJURP\", \"HMGB3\", \"HMMR\", \"KIF11\", \"KIF14\", \"KIF15\",\n",
    "        \"KIF18B\", \"KIF20A\", \"KIF2C\", \"KIF4A\", \"MAD2L1\", \"MCM10\", \"MCM2\", \"MCM4\", \"MCM6\", \"MELK\",\n",
    "        \"MKI67\", \"MND1\", \"MTFR2\", \"NCAPG\", \"NCAPG2\", \"NDC80\", \"NEK2\", \"NUF2\", \"NUSAP1\", \"OIP5\",\n",
    "        \"PARPBP\", \"PBK\", \"PCNA\", \"PLK4\", \"POLE2\", \"POLQ\", \"PTTG1\", \"RACGAP1\", \"RAD51\", \"RAD51AP1\",\n",
    "        \"RRM1\", \"RRM2\", \"SHCBP1\", \"SKA1\", \"SMC2\", \"SPC25\", \"STIL\", \"STMN1\", \"TCF19\", \"TK1\", \"TOP2A\",\n",
    "        \"TPX2\", \"TRIP13\", \"TTK\", \"TYMS\", \"UBE2C\", \"UHRF1\", \"ZWILCH\", \"ZWINT\"],\n",
    "    \"Translation\" : [\"EEF1A1\", \"EEF1B2\", \"EEF1D\", \"EEF1G\", \"EIF3D\", \"EIF3E\", \"EIF3F\", \"EIF3G\", \"EIF3H\", \"EIF3K\",\n",
    "        \"FAU\", \"NACA\", \"PFDN5\", \"RPL10\", \"RPL11\", \"RPL12\", \"RPL13\", \"RPL13A\",\n",
    "        \"RPL14\", \"RPL15\", \"RPL17\", \"RPL18\", \"RPL18A\", \"RPL19\", \"RPL21\", \"RPL22\", \"RPL23\", \"RPL23A\",\n",
    "        \"RPL24\", \"RPL27\", \"RPL27A\", \"RPL28\", \"RPL29\", \"RPL3\", \"RPL30\", \"RPL31\", \"RPL32\", \"RPL34\",\n",
    "        \"RPL35\", \"RPL35A\", \"RPL36A\", \"RPL37\", \"RPL37A\", \"RPL38\", \"RPL39\", \"RPL4\", \"RPL5\", \"RPL6\",\n",
    "        \"RPL7\", \"RPL7A\", \"RPL8\", \"RPL9\", \"RPLP0\", \"RPLP2\", \"RPS10\", \"RPS11\", \"RPS13\", \"RPS14\", \"RPS15\",\n",
    "        \"RPS15A\", \"RPS16\", \"RPS17\", \"RPS18\", \"RPS19\", \"RPS2\", \"RPS20\", \"RPS21\", \"RPS23\", \"RPS25\",\n",
    "        \"RPS27A\", \"RPS28\", \"RPS29\", \"RPS3\", \"RPS3A\", \"RPS5\", \"RPS6\", \"RPS7\", \"RPS8\", \"RPS9\", \"RPSA\",\n",
    "        \"SNHG6\", \"SNHG8\", \"SNRPD2\", \"UXT\"]\n",
    "    \n",
    "}\n",
    "#https://aacrjournals.org/cancerimmunolres/article/6/11/1388/468810/Immune-Cell-Gene-Signatures-for-Profiling-the\n"
   ]
  },
  {
   "cell_type": "code",
   "execution_count": null,
   "id": "4795d142-2b63-4ce9-bf1c-d6d7a4ad7efe",
   "metadata": {},
   "outputs": [],
   "source": [
    "# compute and plot signatures\n",
    "\n",
    "for signature in signatures:\n",
    "    print(signature + \" Done!\")\n",
    "    compute_signature_score(adata, gene_set=signatures[signature], score_name=signature+\"_Score\", palette=\"viridis\", plot=False)\n"
   ]
  },
  {
   "cell_type": "code",
   "execution_count": null,
   "id": "0fe3ed10-7010-4bc2-9aa7-c1864cf8de58",
   "metadata": {},
   "outputs": [],
   "source": [
    "sc.pl.heatmap(adata, var_names=signatures2, groupby=\"Annotation_2.0\", use_raw=False)"
   ]
  },
  {
   "cell_type": "code",
   "execution_count": null,
   "id": "1ad98e23-783d-4d39-bc24-0e8605af6a2a",
   "metadata": {},
   "outputs": [],
   "source": [
    "adata.obs.Condition"
   ]
  },
  {
   "cell_type": "code",
   "execution_count": null,
   "id": "a7a6e46c-80bb-4f43-9046-836ce7445d91",
   "metadata": {},
   "outputs": [],
   "source": [
    "# filter out cell types not present in both timepoints in order to get paired pseudobulks\n",
    "obs_df = adata.obs[['sample', 'Annotation_2.0']]\n",
    "pivot_table = obs_df.pivot_table(index='Annotation_2.0', columns='sample', aggfunc='size', fill_value=0)\n",
    "valid_cell_types = pivot_table[(pivot_table > 0).all(axis=1)].index\n",
    "print(valid_cell_types)\n",
    "adata_filtered = adata[adata.obs['Annotation_2.0'].isin(valid_cell_types)].copy()"
   ]
  },
  {
   "cell_type": "code",
   "execution_count": null,
   "id": "424f37f1-f231-4910-8be9-0e50dd980d09",
   "metadata": {},
   "outputs": [],
   "source": [
    "# create pseudobulks\n",
    "pdata = dc.get_pseudobulk(\n",
    "    adata_filtered,\n",
    "    sample_col='subproject',\n",
    "    groups_col='Annotation_2.0',\n",
    "    layer='rawcounts',\n",
    "    mode='sum',\n",
    "    #min_cells=10,\n",
    "    #min_counts=1000\n",
    ")\n",
    "pdata"
   ]
  },
  {
   "cell_type": "code",
   "execution_count": null,
   "id": "32ea3553-16e8-400e-9e28-e99bea09b171",
   "metadata": {},
   "outputs": [],
   "source": [
    "df_p[(df_p.Condition == \"T0/-ICI\")].shape == df_p[(df_p.Condition != \"T0/-ICI\")].shape"
   ]
  },
  {
   "cell_type": "code",
   "execution_count": null,
   "id": "47442fc9-5fa7-4ac6-a293-0ba162db2428",
   "metadata": {},
   "outputs": [],
   "source": [
    "# normalize and sale pseudobulks\n",
    "sc.pp.normalize_total(pdata, target_sum=1e4)\n",
    "sc.pp.log1p(pdata)\n",
    "sc.pp.scale(pdata, max_value=10)"
   ]
  },
  {
   "cell_type": "code",
   "execution_count": null,
   "id": "53b52bd1-7751-464a-8f8f-8c3990918f55",
   "metadata": {},
   "outputs": [],
   "source": [
    "# compute and plot signatures\n",
    "\n",
    "for signature in signatures:\n",
    "    print(signature + \" Score Done!\")\n",
    "    compute_signature_score(pdata, gene_set=signatures[signature], score_name=signature+\"_Score\", palette=\"viridis\", plot=False)\n",
    "    compute_signature_score(adata, gene_set=signatures[signature], score_name=signature+\"_Score\", palette=\"viridis\", plot=False)\n"
   ]
  },
  {
   "cell_type": "code",
   "execution_count": null,
   "id": "f580a71b-a63a-42cf-bd90-c63ad8ce9944",
   "metadata": {},
   "outputs": [],
   "source": [
    "df_p = pdata.obs\n",
    "df_p"
   ]
  },
  {
   "cell_type": "code",
   "execution_count": null,
   "id": "79de6146-8f20-4110-af6c-2b62d77413c8",
   "metadata": {},
   "outputs": [],
   "source": [
    "df = adata.obs\n",
    "df"
   ]
  },
  {
   "cell_type": "code",
   "execution_count": null,
   "id": "97f8b8d4-702e-4d79-9af2-7222c472a366",
   "metadata": {},
   "outputs": [],
   "source": [
    "# non-responder df\n",
    "df_pd = df[df['response'] == 'PD']\n",
    "df_p_pd = df_p[df_p['response'] == 'PD']"
   ]
  },
  {
   "cell_type": "code",
   "execution_count": null,
   "id": "c853bedb-5277-4417-be18-6578bb095b39",
   "metadata": {},
   "outputs": [],
   "source": [
    "t0"
   ]
  },
  {
   "cell_type": "code",
   "execution_count": null,
   "id": "f1f7b103-452e-4071-bd0e-7372440aa5b7",
   "metadata": {},
   "outputs": [],
   "source": [
    "df_p"
   ]
  },
  {
   "cell_type": "code",
   "execution_count": null,
   "id": "4944baaa-e1b4-4ebe-993e-70e638212235",
   "metadata": {},
   "outputs": [],
   "source": [
    "scores = list(signatures.keys())\n",
    "print(scores)\n",
    "\n",
    "for score in scores:\n",
    "\n",
    "    from scipy.stats import mannwhitneyu, normaltest, ttest_ind, wilcoxon\n",
    "    from statsmodels.stats.multitest import multipletests\n",
    "    \n",
    "    ############################\n",
    "    # T0 vs. T1 - All Patients #\n",
    "    ############################\n",
    "    \n",
    "    # statistical test (T0 bvs T1)\n",
    "    print(\"T0 vs. T1 - All Patients\")\n",
    "    # create arrays of each condition\n",
    "    t0 = df_p.loc[(df_p.Condition == \"T0/-ICI\"), score+\"_Score\"].values\n",
    "    t1 = df_p.loc[(df_p.Condition == \"T1/+ICI\"), score+\"_Score\"].values    \n",
    "    \n",
    "    log_t0 = np.log(t0)\n",
    "    log_t1 = np.log(t1)\n",
    "    \n",
    "    # pvalues with scipy:\n",
    "    stat_results = [\n",
    "      wilcoxon(t0, t1, alternative=\"two-sided\")\n",
    "    ]\n",
    "    \n",
    "    pvalues = [result.pvalue for result in stat_results]\n",
    "\n",
    "    # Perform FDR correction using Benjamini-Hochberg procedure\n",
    "    reject_null, corrected_p_values1, _, _ = multipletests(pvalues, method='fdr_bh')\n",
    "\n",
    "    print(score + \" Score:\")\n",
    "    print(\"T0/-ICI vs. T1/+ICI: \\n\", stat_results[0], \"\\n\")\n",
    "    print(\"Corrected p-value:\", corrected_p_values1[0])\n",
    "\n",
    "    ##################\n",
    "    # T0 vs. T1 - PD #\n",
    "    ##################\n",
    "\n",
    "    # statistical test (T0 bvs T1)\n",
    "    print(\"T0 vs. T1 - PD\")\n",
    "    # create arrays of each condition\n",
    "    t0 = df_p_pd.loc[(df_p_pd.Condition == \"T0/-ICI\"), score+\"_Score\"].values\n",
    "    t1 = df_p_pd.loc[(df_p_pd.Condition == \"T1/+ICI\"), score+\"_Score\"].values\n",
    "    \n",
    "    \n",
    "    log_t0 = np.log(t0)\n",
    "    log_t1 = np.log(t1)\n",
    "    \n",
    "    # pvalues with scipy:\n",
    "    stat_results = [\n",
    "      wilcoxon(t0, t1, alternative=\"two-sided\")\n",
    "    ]\n",
    "    \n",
    "    pvalues = [result.pvalue for result in stat_results]\n",
    "\n",
    "    # Perform FDR correction using Benjamini-Hochberg procedure\n",
    "    reject_null, corrected_p_values2, _, _ = multipletests(pvalues, method='fdr_bh')\n",
    "\n",
    "    print(score + \" Score:\")\n",
    "    print(\"T0/-ICI vs. T1/+ICI: \\n\", stat_results[0], \"\\n\")\n",
    "    print(\"Corrected p-value:\", corrected_p_values2[0])\n",
    "    \n",
    "    #############\n",
    "    # PD vs. SB #\n",
    "    #############\n",
    "\n",
    "    # statistical test (PD bvs SD)\n",
    "    print(\"PD vs. SD\")\n",
    "    # create arrays of each condition\n",
    "    t0 = df_p.loc[(df_p.response == \"PD\"), score+\"_Score\"].values\n",
    "    t1 = df_p.loc[(df_p.response == \"SD\"), score+\"_Score\"].values\n",
    "    \n",
    "    \n",
    "    log_t0 = np.log(t0)\n",
    "    log_t1 = np.log(t1)\n",
    "    \n",
    "    # pvalues with scipy:\n",
    "    stat_results = [\n",
    "      mannwhitneyu(t0, t1, alternative=\"two-sided\")\n",
    "    ]\n",
    "    \n",
    "    pvalues = [result.pvalue for result in stat_results]\n",
    "\n",
    "    # Perform FDR correction using Benjamini-Hochberg procedure\n",
    "    reject_null, corrected_p_values3, _, _ = multipletests(pvalues, method='fdr_bh')\n",
    "\n",
    "    print(score + \" Score:\")\n",
    "    print(\"T0/-ICI vs. T1/+ICI: \\n\", stat_results[0], \"\\n\")\n",
    "    print(\"Corrected p-value:\", corrected_p_values3[0])\n",
    "    \n",
    "    ##############################\n",
    "    # -ICI vs. +ICI/PD & +ICI/SD #\n",
    "    ##############################\n",
    "   \n",
    "    # create arrays of each condition\n",
    "    t0 = df_p.loc[(df_p.ICI_status == \"-ICI\"), score+\"_Score\"].values\n",
    "    pd = df_p.loc[(df_p.ICI_status == \"+ICI/PD\"), score+\"_Score\"].values\n",
    "    sd = df_p.loc[(df_p.ICI_status == \"+ICI/SD\"), score+\"_Score\"].values\n",
    "    \n",
    "    log_t0 = np.log(t0)\n",
    "    log_pd = np.log(pd)\n",
    "    log_sd = np.log(sd)\n",
    "    \n",
    "    # pvalues with scipy:\n",
    "    stat_results = [\n",
    "      mannwhitneyu(t0, pd, alternative=\"two-sided\"),\n",
    "      mannwhitneyu(pd, sd, alternative=\"two-sided\"),\n",
    "      mannwhitneyu(t0, sd, alternative=\"two-sided\")\n",
    "    ]\n",
    "    \n",
    "    pvalues = [result.pvalue for result in stat_results]\n",
    "\n",
    "    # Perform FDR correction using Benjamini-Hochberg procedure\n",
    "    reject_null, corrected_p_values4, _, _ = multipletests(pvalues, method='fdr_bh')\n",
    "\n",
    "    print(\"-ICI vs. +ICI/PD: \\n\", stat_results[0], \"\\n\")\n",
    "    print(\"Corrected p-value:\", corrected_p_values4[0])\n",
    "    print(\"+ICI/PD vs. +ICI/SD: \\n\", stat_results[1], \"\\n\")\n",
    "    print(\"Corrected p-value:\", corrected_p_values4[1])\n",
    "    print(\"-ICI vs. +ICI/SD: \\n\", stat_results[2], \"\\n\")\n",
    "    print(\"Corrected p-value:\", corrected_p_values4[2])\n",
    "\n",
    "\n",
    "    # logarize scores for better visualization\n",
    "    constant_df = abs(df[score+'_Score'].min()) + 1\n",
    "    constant_df_pd = abs(df_pd[score+'_Score'].min()) + 1\n",
    "    df[score+'_Score_positive'] = df[score+'_Score'] + constant_df\n",
    "    df_pd[score+'_Score_positive'] = df_pd[score+'_Score'] + constant_df_pd\n",
    "    # Compute log2 after adding the constant\n",
    "    df['log2_'+score+'_Score'] = np.log2(df[score+'_Score_positive'])\n",
    "    df_pd['log2_'+score+'_Score'] = np.log2(df_pd[score+'_Score_positive'])\n",
    "\n",
    "    #########\n",
    "    # PLOTS #\n",
    "    #########\n",
    "    \n",
    "    # Create subplots\n",
    "    fig, axes = plt.subplots(1, 5, figsize=(18, 3)) \n",
    "\n",
    "    def p_value_to_symbol(p_value):\n",
    "        if p_value <= 1.00e-4:\n",
    "            return \"****\"\n",
    "        elif p_value <= 1.00e-3:\n",
    "            return \"***\"\n",
    "        elif p_value <= 1.00e-2:\n",
    "            return \"**\"\n",
    "        elif p_value <= 5.00e-2:\n",
    "            return \"*\"\n",
    "        else:\n",
    "            return \"ns\"\n",
    "    \n",
    "\n",
    "\n",
    "    # second subplot\n",
    "        \n",
    "    pairs = [(\"T0/-ICI\", \"T1/+ICI\")]\n",
    "    #axes[1]=get_log_ax()\n",
    "    hue_plot_params = {\n",
    "            \"data\":df, \n",
    "            \"x\":\"Condition\", \n",
    "            \"y\":'log2_'+score+'_Score',            \n",
    "            \"inner\":\"box\", \n",
    "            \"hue\":\"Condition\", \n",
    "            \"palette\":[\"coral\",\"darkviolet\"], \n",
    "            \"edgecolor\":\"black\", \n",
    "            \"alpha\":0.7\n",
    "    }\n",
    "    sns.violinplot(ax=axes[0], **hue_plot_params)\n",
    "    axes[0].set_title(\"Timepoint (PD+SD)\")\n",
    "    axes[0].set_ylabel('log2('+score+\" Score)\")\n",
    "    axes[0].set_xlabel(\"\")\n",
    "    ymax = df['log2_'+score+'_Score'].max()\n",
    "    axes[0].plot([0, 0, 1, 1], [ymax+.4, ymax+.5, ymax+.5, ymax+.4], lw=1, color='black')\n",
    "    axes[0].text(.5, ymax+.5, f\" {p_value_to_symbol(corrected_p_values1[0])}\", ha='center', va='bottom', size=9)\n",
    "\n",
    "    \n",
    "    # third subplot\n",
    "        \n",
    "    pairs = [(\"T0/-ICI\", \"T1/+ICI\")]\n",
    "    #axes[1]=get_log_ax()\n",
    "    hue_plot_params = {\n",
    "            \"data\":df_pd, \n",
    "            \"x\":\"Condition\", \n",
    "            \"y\":'log2_'+score+'_Score',            \n",
    "            \"inner\":\"box\", \n",
    "            \"hue\":\"Condition\", \n",
    "            \"palette\":[\"coral\",\"darkviolet\"], \n",
    "            \"edgecolor\":\"black\", \n",
    "            \"alpha\":0.7\n",
    "    }\n",
    "    sns.violinplot(ax=axes[1], **hue_plot_params)\n",
    "    axes[1].set_title(\"Timepoint (PD)\")\n",
    "    axes[1].set_ylabel(\"\")\n",
    "    axes[1].set_xlabel(\"\")\n",
    "    ymax = df_pd['log2_'+score+'_Score'].max()\n",
    "    axes[1].plot([0, 0, 1, 1], [ymax+.4, ymax+.5, ymax+.5, ymax+.4], lw=1, color='black')\n",
    "    axes[1].text(.5, ymax+.5, f\" {p_value_to_symbol(corrected_p_values2[0])}\", ha='center', va='bottom', size=9)\n",
    "\n",
    "    \n",
    "    # forth subplot\n",
    "    \n",
    "    pairs = [(\"PD\", \"SD\")]\n",
    "    #axes[1]=get_log_ax()\n",
    "    hue_plot_params = {\n",
    "            \"data\":df, \n",
    "            \"x\":\"response\", \n",
    "            \"y\":'log2_'+score+'_Score',            \n",
    "            \"inner\":\"box\", \n",
    "            \"hue\":\"response\", \n",
    "            \"palette\":[\"mistyrose\", \"lavender\"], \n",
    "            \"edgecolor\":\"black\", \n",
    "            \"alpha\":0.7\n",
    "    }\n",
    "    sns.violinplot(ax=axes[2], **hue_plot_params)\n",
    "    axes[2].set_title(\"Response\")\n",
    "    axes[2].set_ylabel(\"\")\n",
    "    axes[2].set_xlabel(\"\")\n",
    "    ymax = df['log2_'+score+'_Score'].max()\n",
    "    axes[2].plot([0, 0, 1, 1], [ymax+.4, ymax+.5, ymax+.5, ymax+.4], lw=1, color='black')\n",
    "    axes[2].text(.5, ymax+.5, f\" {p_value_to_symbol(corrected_p_values3[0])}\", ha='center', va='bottom', size=9)\n",
    "\n",
    "    \n",
    "    # fifth subplot\n",
    "        \n",
    "    # prepare significance annotation\n",
    "    pairs = [(\"-ICI\", \"+ICI/PD\"), (\"+ICI/PD\", \"+ICI/SD\"), (\"-ICI\", \"+ICI/SD\")]\n",
    "    #axes[0]=get_log_ax()\n",
    "    hue_plot_parameters = {\n",
    "            \"data\":df, \n",
    "            \"x\":\"ICI_status\", \n",
    "            \"y\":'log2_'+score+'_Score', \n",
    "            \"inner\":\"box\", \n",
    "            \"hue\":\"ICI_status\", \n",
    "            \"palette\":[\"red\", \"blue\", \"snow\"], \n",
    "            \"edgecolor\":\"black\",\n",
    "            \"alpha\":0.7, \n",
    "    }\n",
    "    sns.violinplot(ax=axes[3], **hue_plot_parameters)\n",
    "    axes[3].set_title(\"ICI Status\")\n",
    "    axes[3].set_ylabel(\"\")\n",
    "    axes[3].set_xlabel(\"\")\n",
    "    ymax = df['log2_'+score+'_Score'].max()\n",
    "    axes[3].plot([0, 0, 2, 2], [ymax+1, ymax+1.1, ymax+1.1, ymax+1], lw=1, color='black')\n",
    "    axes[3].text(1, ymax+1.1, f\" {p_value_to_symbol(corrected_p_values4[0])}\", ha='center', va='bottom', size=9)\n",
    "    axes[3].plot([0, 0, 1, 1], [ymax+.7, ymax+.8, ymax+.8, ymax+.7], lw=1, color='black')\n",
    "    axes[3].text(0.5, ymax+.8, f\" {p_value_to_symbol(corrected_p_values4[1])}\", ha='center', va='bottom', size=9)\n",
    "    axes[3].plot([1, 1, 2, 2], [ymax+0.4, ymax+.5, ymax+.5, ymax+0.4], lw=1, color='black')\n",
    "    axes[3].text(1.5, ymax+.5, f\" {p_value_to_symbol(corrected_p_values4[2])}\", ha='center', va='bottom', size=9)\n",
    "\n",
    "    # first plot\n",
    "    sc.pl.umap(\n",
    "            adata,\n",
    "            color=score+\"_Score\",\n",
    "            vmin=0,\n",
    "            vmax=\"p99\",  \n",
    "            sort_order=True,  \n",
    "            frameon=True,\n",
    "            use_raw=False,\n",
    "            cmap=\"viridis\",\n",
    "            ax=axes[4],\n",
    "            title=score+\" Score\"\n",
    "        )\n",
    "    \n",
    "    # Adjust layout\n",
    "    plt.tight_layout()\n",
    "\n",
    "    plt.show()\n",
    "    \n",
    "    # Show plot\n",
    "    fig.savefig(os.path.join(fig_dir,score+\"_Score_ICI_status_Condition_Violin_UMAP.pdf\"), dpi=600, format=\"pdf\", bbox_inches=\"tight\")"
   ]
  },
  {
   "cell_type": "markdown",
   "id": "c5c0d3c5-72ae-4788-b928-07870de29696",
   "metadata": {},
   "source": [
    "## Thesis / Poster Plots"
   ]
  },
  {
   "cell_type": "code",
   "execution_count": null,
   "id": "aec8a555-9d31-43a0-b699-5605fc1cfcdc",
   "metadata": {},
   "outputs": [],
   "source": [
    "# set figure params\n",
    "import os\n",
    "work_dir = \"/scratch_isilon/groups/singlecell/gdeuner/SERPENTINE/\"\n",
    "fig_dir = os.path.join(work_dir, \"figures\", \"TFM\", \"Fig2\")\n",
    "sc.settings.figdir = os.path.join(work_dir, \"figures\", \"TFM\", \"Fig2\")\n",
    "sc.set_figure_params(dpi=120, dpi_save=600, format='png', frameon=False, figsize=(3,3))"
   ]
  },
  {
   "cell_type": "code",
   "execution_count": null,
   "id": "99e7902f-580b-4aa2-b712-0f688d94a5d0",
   "metadata": {},
   "outputs": [],
   "source": [
    "# read anndata object\n",
    "adata = sc.read_h5ad(os.path.join(work_dir, \"data\", \"outputdata\", \"combined\", \"Combined_SCR_CO2_TNK_annotated_13-04-24.h5ad\"))"
   ]
  },
  {
   "cell_type": "code",
   "execution_count": null,
   "id": "15a6cd0c-d74b-4f1c-a2e9-d0a21285c763",
   "metadata": {},
   "outputs": [],
   "source": [
    "# count number of cells\n",
    "adata"
   ]
  },
  {
   "cell_type": "code",
   "execution_count": null,
   "id": "1727910c-afe2-4c7d-af82-95395c2ba92e",
   "metadata": {},
   "outputs": [],
   "source": [
    "# Basic Annotation UMAP\n",
    "sc.pl.umap(\n",
    "        adata,\n",
    "        color=\"Annotation_1.0\",\n",
    "        vmin=0,\n",
    "        vmax=\"p99\",  \n",
    "        sort_order=False,  \n",
    "        frameon=False,\n",
    "        use_raw=False,\n",
    "        palette=\"tab20c\",\n",
    "        title=\"T/NK Cells (54739)\",\n",
    "        legend_fontsize=8,\n",
    "        legend_loc=\"right margin\",\n",
    "        save = \"_TNK_Annotation_1.0.pdf\"\n",
    ")"
   ]
  },
  {
   "cell_type": "code",
   "execution_count": null,
   "id": "0dfdd871-c387-4483-8898-d49ef25cc3e5",
   "metadata": {},
   "outputs": [],
   "source": [
    "# Basic Annotation UMAP\n",
    "sc.pl.umap(\n",
    "        adata,\n",
    "        color=\"Annotation_2.0\",\n",
    "        vmin=0,\n",
    "        vmax=\"p99\",  \n",
    "        sort_order=False,  \n",
    "        frameon=False,\n",
    "        use_raw=False,\n",
    "        palette=\"tab20c\",\n",
    "        title=\"T/NK Cells (54739)\",\n",
    "        legend_fontsize=8,\n",
    "        legend_loc=\"right margin\",\n",
    "        save = \"_TNK_Annotation_2.0.pdf\"\n",
    ")"
   ]
  },
  {
   "cell_type": "code",
   "execution_count": null,
   "id": "cd1b5a20-1e6e-4011-9c36-dd519799f9ac",
   "metadata": {},
   "outputs": [],
   "source": [
    "# Basic Annotation UMAP\n",
    "sc.pl.umap(\n",
    "        adata[adata.obs.timepoint == \"SCR\"],\n",
    "        color=\"Annotation_2.0\",\n",
    "        vmin=0,\n",
    "        vmax=\"p99\",  \n",
    "        sort_order=False,  \n",
    "        frameon=False,\n",
    "        use_raw=False,\n",
    "        palette=\"tab20c\",\n",
    "        title=\"T/NK Cells (54739)\",\n",
    "        legend_fontsize=8,\n",
    "        legend_loc=\"right margin\",\n",
    "        save = \"_TNK_Annotation_2.0_T0.pdf\"\n",
    ")"
   ]
  },
  {
   "cell_type": "code",
   "execution_count": null,
   "id": "ce9c17e2-9a0f-4cb6-8ddd-29b96af6eb44",
   "metadata": {},
   "outputs": [],
   "source": [
    "# Basic Annotation UMAP\n",
    "sc.pl.umap(\n",
    "        adata[adata.obs.timepoint != \"SCR\"],\n",
    "        color=\"Annotation_2.0\",\n",
    "        vmin=0,\n",
    "        vmax=\"p99\",  \n",
    "        sort_order=False,  \n",
    "        frameon=False,\n",
    "        use_raw=False,\n",
    "        palette=\"tab20c\",\n",
    "        title=\"T/NK Cells (54739)\",\n",
    "        legend_fontsize=8,\n",
    "        legend_loc=\"right margin\",\n",
    "        save = \"_TNK_Annotation_2.0_T1.pdf\"\n",
    ")"
   ]
  },
  {
   "cell_type": "code",
   "execution_count": null,
   "id": "9b167f82-3ccb-4ff3-91be-cd623ddea7e3",
   "metadata": {},
   "outputs": [],
   "source": [
    "marker_genes_dict = {\n",
    "\n",
    "    \"CD4 T\": [\"CD4\"], \n",
    "    \"CD8 T\": [\"CD8A\",\"CD8B\"], \n",
    "    \"Naive\": [\"CCR7\",\"SELL\"],\n",
    "    \"Memory\": [\"IL7R\"],\n",
    "    \"TRM\": [\"ITGAE\",\"ZNF683\"],\n",
    "    \"Effector\": [\"IFNG\", \"TNF\", \"GZMK\",\"GZMB\", \"PRF1\"],\n",
    "    \"Exhaustion\": [\"HAVCR2\",\"PDCD1\", \"CTLA4\", \"LAG3\"],\n",
    "    \"Proliferation\": [\"MKI67\",\"TOP2A\"],\n",
    "    \"Treg\": [\"FOXP3\"],\n",
    "    \"MAIT\": [\"TRAV1-2\"],\n",
    "    \"NK\": [\"GNLY\",\"KLRF1\", \"NCAM1\", \"FCGR3A\"],\n",
    "    \"γδ T\": [\"TRDC\",\"TRGC1\"]\n",
    "    \n",
    "}"
   ]
  },
  {
   "cell_type": "code",
   "execution_count": null,
   "id": "3f60dd33-b835-4f4a-8c82-db7736162223",
   "metadata": {},
   "outputs": [],
   "source": [
    "# order cat values\n",
    "order = ['CD4 T Naive', 'CD4 T Central Memory', 'CD4 T CM/EarlyActivated', 'CD4 T ISG+', 'CD4 T Helper-like', \n",
    "         'CD4 T Follicular Helper', 'CD4 T Proliferative', 'CD4 T Regulatory', 'CD8 T Naive', 'CD8 T Effector',\n",
    "        'CD8 T TRM Effector', 'CD8 T TRM PreExhausted', 'CD8 T TRM Exhausted', 'CD8 T Proliferative', 'CD8 T MAIT',\n",
    "        'NKT-like', 'CD56dim CD16hi NK', 'CD56hi CD16lo', 'γδ T-like', 'Cycling γδ T-like']\n",
    "adata.obs['Annotation_2.0'] = pd.Categorical(adata.obs['Annotation_2.0'], categories=order)"
   ]
  },
  {
   "cell_type": "code",
   "execution_count": null,
   "id": "d7d6c6f3-338c-4506-b0e0-dda28b31b0a3",
   "metadata": {},
   "outputs": [],
   "source": [
    "sc.pl.dotplot(adata, marker_genes_dict, groupby='Annotation_2.0', dendrogram=False, use_raw=False, swap_axes=False,\n",
    "                   standard_scale='var', smallest_dot=40, color_map='Reds', save=\"Marker_Genes_Dotplot2.pdf\", figsize=(16,6))"
   ]
  },
  {
   "cell_type": "code",
   "execution_count": null,
   "id": "55249e49-8f05-43de-a065-368421acda73",
   "metadata": {},
   "outputs": [],
   "source": [
    "markers = [\"CD4\", \"CD8B\", \"KLRF1\", \"FOXP3\", \"MKI67\", \"HAVCR2\"]\n",
    "sc.pl.umap(\n",
    "        adata,\n",
    "        color=markers,\n",
    "        vmin=0,\n",
    "        vmax=\"p99\",  \n",
    "        sort_order=True,  \n",
    "        frameon=True,\n",
    "        use_raw=False,\n",
    "        #title=[\"CD80 (B7.1)\", \"CD86 (B7.2)\", \"CD28\", \"CTLA4\", \"CD274 (PDL1)\", \"PDCD1 (PD1)\"],\n",
    "        #legend_loc=\"on data\",\n",
    "        save=\"Markers.pdf\",\n",
    "        legend_loc=None,\n",
    "        colorbar_loc=None,\n",
    "        cmap = \"Reds\",\n",
    "        add_outline=False,\n",
    "        ncols=6, \n",
    ")"
   ]
  },
  {
   "cell_type": "code",
   "execution_count": null,
   "id": "867981e8-9759-4ab5-ada4-d3351227feb6",
   "metadata": {},
   "outputs": [],
   "source": []
  }
 ],
 "metadata": {
  "kernelspec": {
   "display_name": "Python 3 (ipykernel)",
   "language": "python",
   "name": "python3"
  },
  "language_info": {
   "codemirror_mode": {
    "name": "ipython",
    "version": 3
   },
   "file_extension": ".py",
   "mimetype": "text/x-python",
   "name": "python",
   "nbconvert_exporter": "python",
   "pygments_lexer": "ipython3",
   "version": "3.9.18"
  }
 },
 "nbformat": 4,
 "nbformat_minor": 5
}
