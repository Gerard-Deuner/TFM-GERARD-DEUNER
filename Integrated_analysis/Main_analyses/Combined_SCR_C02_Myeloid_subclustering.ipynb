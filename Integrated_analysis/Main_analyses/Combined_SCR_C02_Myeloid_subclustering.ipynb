{
 "cells": [
  {
   "cell_type": "markdown",
   "id": "1499650a-0e7d-4800-be2e-1b083d6b5671",
   "metadata": {},
   "source": [
    "# SERPENTINE -- Combined Myeloid Cells Subclustering"
   ]
  },
  {
   "cell_type": "markdown",
   "id": "359eb8f2-ea70-4e6e-be2e-4223e911b7a1",
   "metadata": {},
   "source": [
    "## Environment Setup"
   ]
  },
  {
   "cell_type": "code",
   "execution_count": null,
   "id": "4d71d19d-46dc-4d6a-8d25-1c5e875eaad8",
   "metadata": {},
   "outputs": [],
   "source": [
    "# load packages\n",
    "import sys\n",
    "import scanpy as sc\n",
    "import os\n",
    "import sys\n",
    "import numpy as np\n",
    "import matplotlib.pyplot as plt\n",
    "import pandas as pd\n",
    "import scvi\n",
    "import seaborn as sns\n",
    "import scipy\n",
    "import decoupler as dc"
   ]
  },
  {
   "cell_type": "code",
   "execution_count": null,
   "id": "9170cdf5-5651-47be-be3d-ad10f23ca3aa",
   "metadata": {},
   "outputs": [],
   "source": [
    "import anndata2ri\n",
    "import logging\n",
    "\n",
    "import rpy2.rinterface_lib.callbacks as rcb\n",
    "import rpy2.robjects as ro\n",
    "\n",
    "rcb.logger.setLevel(logging.ERROR)\n",
    "ro.pandas2ri.activate()\n",
    "anndata2ri.activate()\n",
    "\n",
    "%load_ext rpy2.ipython"
   ]
  },
  {
   "cell_type": "code",
   "execution_count": null,
   "id": "8e760350-b44f-4d95-8cf8-8c4980c5e205",
   "metadata": {},
   "outputs": [],
   "source": [
    "# import helper functions\n",
    "from helper_functions import save_markers, compute_signature_score"
   ]
  },
  {
   "cell_type": "code",
   "execution_count": null,
   "id": "094140ef-41ec-4e21-91d1-9267667ae5cd",
   "metadata": {},
   "outputs": [],
   "source": [
    "# remove warnings\n",
    "import warnings\n",
    "warnings.filterwarnings('ignore')"
   ]
  },
  {
   "cell_type": "code",
   "execution_count": null,
   "id": "03b0502f-e6e4-4ed4-bdc5-2174daad7ac1",
   "metadata": {},
   "outputs": [],
   "source": [
    "# set up figure parameters\n",
    "plt.rcParams['figure.figsize'] = (6.0, 4.0)\n",
    "sc.settings.verbosity = 0\n",
    "sc.settings.set_figure_params(\n",
    "    dpi=120,\n",
    "    facecolor=\"white\",\n",
    "    frameon=False,\n",
    "    figsize=(4, 4),\n",
    "    format=\"png\",\n",
    "    dpi_save=300\n",
    ")"
   ]
  },
  {
   "cell_type": "code",
   "execution_count": null,
   "id": "e979d99d-c0b9-4359-bd26-5e4c72356fd1",
   "metadata": {},
   "outputs": [],
   "source": [
    "# set up dirs\n",
    "work_dir = \"/scratch_isilon/groups/singlecell/gdeuner/SERPENTINE/\"\n",
    "fig_dir = os.path.join(work_dir, \"figures\", \"combined\", \"myeloid\", \"preprocessing/\")\n",
    "sc.settings.figdir = os.path.join(work_dir, \"figures\", \"combined\", \"myeloid\", \"preprocessing/\")"
   ]
  },
  {
   "cell_type": "code",
   "execution_count": null,
   "id": "fd61f95a-92ba-4ae5-8e71-189f38e31fc4",
   "metadata": {},
   "outputs": [],
   "source": [
    "# read anndata object\n",
    "adata_full = sc.read_h5ad(os.path.join(work_dir, \"data\", \"outputdata\", \"combined\", \"Combined_SCR_CO2_TCR_full-integrated_annot_22-03-24.h5ad\"))"
   ]
  },
  {
   "cell_type": "markdown",
   "id": "abf2ec5a-d488-4913-a27b-e7f17785347d",
   "metadata": {},
   "source": [
    "## Data Preparation"
   ]
  },
  {
   "cell_type": "markdown",
   "id": "5996959d-3429-4a48-953d-a83b38b3e33f",
   "metadata": {},
   "source": [
    "### Full Object Visualization"
   ]
  },
  {
   "cell_type": "code",
   "execution_count": null,
   "id": "130134fc-6737-4e3b-85ca-52ab74b43fd0",
   "metadata": {},
   "outputs": [],
   "source": [
    "adata_full"
   ]
  },
  {
   "cell_type": "code",
   "execution_count": null,
   "id": "4b1a43d9-0a13-411f-80ce-09599b0fe4af",
   "metadata": {},
   "outputs": [],
   "source": [
    "adata_full.obs"
   ]
  },
  {
   "cell_type": "code",
   "execution_count": null,
   "id": "6ac9920e-0e5e-4df4-b6cf-4533bf831330",
   "metadata": {},
   "outputs": [],
   "source": [
    "sc.pl.umap(\n",
    "    adata_full,\n",
    "    color=[\"Annotation_1.0\", \"Prior_Annotation_2.0\", \"timepoint\", \"project\", \"subproject\", \"sample\"],\n",
    "    legend_loc=\"right margin\",\n",
    "    legend_fontsize=7,\n",
    "    ncols=2\n",
    ")"
   ]
  },
  {
   "cell_type": "markdown",
   "id": "8e93ff98-f15f-4ab6-81ad-321cb2e407bb",
   "metadata": {},
   "source": [
    "### Clean Anndata Object"
   ]
  },
  {
   "cell_type": "code",
   "execution_count": null,
   "id": "43f300d1-1caa-40ac-bff7-385151176e94",
   "metadata": {
    "scrolled": true
   },
   "outputs": [],
   "source": [
    "adata_full.uns_keys"
   ]
  },
  {
   "cell_type": "code",
   "execution_count": null,
   "id": "1af31fb5-2016-4d88-aea7-d1b7b2004265",
   "metadata": {},
   "outputs": [],
   "source": [
    "# remove full non-informative metadata\n",
    "adata_full.obs.drop(columns=['leiden_res0_25', 'leiden_res0_5', 'leiden_res0_75', 'leiden_res1', 'leiden_res0_5_1', 'scVI_Annotation_1.0', 'harmony_Annotation_1.0', 'scGen_Annotation_1.0'], inplace=True)"
   ]
  },
  {
   "cell_type": "code",
   "execution_count": null,
   "id": "c69fb653-c341-4a7c-8809-9aee50580e9e",
   "metadata": {},
   "outputs": [],
   "source": [
    "adata_full.var.drop(columns=['HVG_cell_ranger', 'HVG_seurat', 'HVG_seurat_v3', 'HVG_model', 'highly_variable', 'excl_hv', 'orig_highly_variable'], inplace=True)"
   ]
  },
  {
   "cell_type": "code",
   "execution_count": null,
   "id": "f048fcc6-903f-4823-9017-c20e8d309fc1",
   "metadata": {},
   "outputs": [],
   "source": [
    "obsm_rem = ['harmony_umap', 'scGen_corrected_latent', 'scGen_umap', 'scVI_umap', 'X_pca_harmony', 'X_scVI']\n",
    "for obsm in obsm_rem:\n",
    "    del adata_full.obsm[obsm]"
   ]
  },
  {
   "cell_type": "code",
   "execution_count": null,
   "id": "f0de0e0a-23e1-47ec-b643-6c2b1e1f81d6",
   "metadata": {},
   "outputs": [],
   "source": [
    "del adata_full.varm['PCs']"
   ]
  },
  {
   "cell_type": "code",
   "execution_count": null,
   "id": "5adc1965-271c-4088-9d78-0da2626c065d",
   "metadata": {},
   "outputs": [],
   "source": [
    "obsp_rem = ['harmony_neighbors_connectivities', 'harmony_neighbors_distances', 'scGen_neighbors_connectivities', 'scGen_neighbors_distances', 'scVI_neighbors_connectivities', 'scVI_neighbors_distances']\n",
    "for obsp in obsp_rem:\n",
    "    del adata_full.obsp[obsp]"
   ]
  },
  {
   "cell_type": "markdown",
   "id": "cef5d24b-f2c6-4ec9-8975-f12871dc70bd",
   "metadata": {},
   "source": [
    "### Subset Myeloid populations"
   ]
  },
  {
   "cell_type": "code",
   "execution_count": null,
   "id": "9ac0e576-06c9-4dd2-b0b2-d1961c97157f",
   "metadata": {},
   "outputs": [],
   "source": [
    "adata = adata_full[adata_full.obs['Annotation_1.0'].isin(['Myeloid', 'pDC'])]"
   ]
  },
  {
   "cell_type": "code",
   "execution_count": null,
   "id": "100231da-5af5-4e37-8c1b-304b44f063cd",
   "metadata": {},
   "outputs": [],
   "source": [
    "# check number of cells\n",
    "len(adata.obs_names)"
   ]
  },
  {
   "cell_type": "code",
   "execution_count": null,
   "id": "4a6e9c23-e22d-4801-aa3b-7ced443aa544",
   "metadata": {},
   "outputs": [],
   "source": [
    "# non Myeloid integrated visualization (whole obj integration)\n",
    "sc.pl.umap(\n",
    "    adata_full,\n",
    "    color=[\"Annotation_1.0\", \"Prior_Annotation_2.0\", \"timepoint\", \"project\", \"subproject\", \"sample\"],\n",
    "    legend_loc=\"right margin\",\n",
    "    legend_fontsize=7,\n",
    "    ncols=2,\n",
    "    wspace=.5\n",
    ")"
   ]
  },
  {
   "cell_type": "markdown",
   "id": "c900a699-0050-4b3c-af35-8ace4ee21a97",
   "metadata": {},
   "source": [
    "## TNK-specific Preprocessing"
   ]
  },
  {
   "cell_type": "markdown",
   "id": "9d1116b2-0604-4972-8d4f-1ceed8f40882",
   "metadata": {},
   "source": [
    "### Normalization"
   ]
  },
  {
   "cell_type": "code",
   "execution_count": null,
   "id": "dd1cd1f7-95fb-4252-969f-47f04646fbbe",
   "metadata": {},
   "outputs": [],
   "source": [
    "# observe count dist\n",
    "plt.figure(figsize=(6.0, 4.0))\n",
    "sns.histplot(adata.obs[\"total_counts\"], bins=100, kde=False)"
   ]
  },
  {
   "cell_type": "code",
   "execution_count": null,
   "id": "3a2c4939-5423-46fa-99c4-9bc32269bc12",
   "metadata": {},
   "outputs": [],
   "source": [
    "# normalization\n",
    "sc.pp.normalize_total(adata, target_sum=1e4)"
   ]
  },
  {
   "cell_type": "code",
   "execution_count": null,
   "id": "5b20afe4-5391-4e64-b40e-17d51e3df477",
   "metadata": {},
   "outputs": [],
   "source": [
    "# log-transform the data\n",
    "sc.pp.log1p(adata)"
   ]
  },
  {
   "cell_type": "code",
   "execution_count": null,
   "id": "001fefe5-4dcf-489d-b91c-0206fb84ebf6",
   "metadata": {},
   "outputs": [],
   "source": [
    "# visualize shifted logarithm distribution \n",
    "fig, axes = plt.subplots(1, 2, figsize=(10, 5))\n",
    "p1 = sns.histplot(adata.obs[\"total_counts\"], bins=100, kde=False, ax=axes[0])\n",
    "axes[0].set_title(\"Total counts\")\n",
    "p2 = sns.histplot(adata.layers[\"logcounts\"].sum(1), bins=100, kde=False, ax=axes[1])\n",
    "axes[1].set_title(\"Shifted logarithm\")\n",
    "plt.show()"
   ]
  },
  {
   "cell_type": "markdown",
   "id": "bcc9657c-2f4e-4cd9-9a08-52bf55fcf03c",
   "metadata": {},
   "source": [
    "### Compute Highly Variable Genes"
   ]
  },
  {
   "cell_type": "code",
   "execution_count": null,
   "id": "d8981e3e-8f67-4dfc-befa-b822b02d5dac",
   "metadata": {},
   "outputs": [],
   "source": [
    "# find variable genes\n",
    "sc.pp.highly_variable_genes(adata, batch_key=\"sample\", flavor=\"seurat\", n_top_genes=2000, subset = False, inplace = True)"
   ]
  },
  {
   "cell_type": "code",
   "execution_count": null,
   "id": "ac0bceea-a6df-423a-8cac-542d54ef5ef4",
   "metadata": {},
   "outputs": [],
   "source": [
    "print(adata.var.highly_variable.value_counts())"
   ]
  },
  {
   "cell_type": "code",
   "execution_count": null,
   "id": "4c43fbac-b659-4d42-b66f-b966656d3cac",
   "metadata": {},
   "outputs": [],
   "source": [
    "# select MT genes to don't take them into account for PCA\n",
    "\n",
    "# select mitochondrial genes\n",
    "MT_genes = [gene_name for gene_name in adata.var_names if gene_name.startswith(\"MT-\")]\n",
    "print(MT_genes[:10])\n",
    "\n",
    "# merge unwanted genes\n",
    "out_genes = MT_genes \n",
    "\n",
    "# check there are matches\n",
    "len(set(adata.var_names) & set(out_genes)) > 0"
   ]
  },
  {
   "cell_type": "code",
   "execution_count": null,
   "id": "e0751690-447c-4bbe-ad38-afc532ea7d38",
   "metadata": {},
   "outputs": [],
   "source": [
    "# create boolean list indicating whether the genes are excluded as HVG\n",
    "in_out_genes = [False] * len(adata.var_names)\n",
    "for i in range(0, len(adata.var_names)-1):\n",
    "    gene = adata.var_names[i]\n",
    "    if gene in out_genes:\n",
    "        in_out_genes[i] = True\n",
    "\n",
    "adata.var[\"excl_hv\"] = in_out_genes\n",
    "\n",
    "len(out_genes)"
   ]
  },
  {
   "cell_type": "code",
   "execution_count": null,
   "id": "f827fc31-272b-4153-ae33-08008e179fb5",
   "metadata": {
    "scrolled": true
   },
   "outputs": [],
   "source": [
    "# remove undesired genes as highly variable\n",
    "for i in range(0, len(adata.var_names)-1):\n",
    "    gene = adata.var_names[i]\n",
    "    if ( (adata.var.loc[gene, \"highly_variable\"] == True) & (adata.var.loc[gene, \"excl_hv\"] == True) ):\n",
    "        print(gene + \" found in HVG -- removed!\")\n",
    "        adata.var.loc[gene, \"highly_variable\"] = False"
   ]
  },
  {
   "cell_type": "code",
   "execution_count": null,
   "id": "2b946a3f-d3ed-4dbd-ae9a-4369ad12ad55",
   "metadata": {},
   "outputs": [],
   "source": [
    "(adata.var.highly_variable.value_counts())"
   ]
  },
  {
   "cell_type": "code",
   "execution_count": null,
   "id": "b5dbec4b-c8b9-4f95-a474-b7ad185ee3a4",
   "metadata": {},
   "outputs": [],
   "source": [
    "# check highly variable genes\n",
    "highly_variable_genes = adata.var.index[adata.var['highly_variable']]\n",
    "highly_variable_genes"
   ]
  },
  {
   "cell_type": "markdown",
   "id": "ad2969ab-ba1f-4d23-ab26-4ea211bebbf5",
   "metadata": {},
   "source": [
    "### Run PCA"
   ]
  },
  {
   "cell_type": "code",
   "execution_count": null,
   "id": "c305c7ef-08ba-4660-a94a-fb11e7a820ec",
   "metadata": {},
   "outputs": [],
   "source": [
    "sc.tl.pca(adata, use_highly_variable = True)"
   ]
  },
  {
   "cell_type": "code",
   "execution_count": null,
   "id": "3f08f936-0938-4ada-ada4-342752304ce1",
   "metadata": {},
   "outputs": [],
   "source": [
    "# visualize loadings\n",
    "sc.pl.pca_loadings(adata, include_lowest=True, components=[1, 2, 3, 4, 5])"
   ]
  },
  {
   "cell_type": "code",
   "execution_count": null,
   "id": "9f0bfd0d-9e39-414f-87da-e7fe37663888",
   "metadata": {},
   "outputs": [],
   "source": [
    "# select optimal number of PCs\n",
    "sc.pl.pca_variance_ratio(adata, log=True, n_pcs=50)"
   ]
  },
  {
   "cell_type": "code",
   "execution_count": null,
   "id": "f1c5c531-c898-44a8-bbed-b9e6344d2d44",
   "metadata": {},
   "outputs": [],
   "source": [
    "# calculate the percent of variation associated with each PC\n",
    "pct = adata.obsm['X_pca'].std(axis=0) / np.sum(adata.obsm['X_pca'].std(axis=0)) * 100\n",
    "\n",
    "# calculate cumulative percents for each PC\n",
    "cumu = np.cumsum(pct)\n",
    "\n",
    "# determine which PC exhibits cumulative percent greater than 90% and % variation associated with the PC is less than 5\n",
    "co1 = np.where((cumu > 90) & (pct < 5))[0]\n",
    "co1_index = co1[0] if len(co1) > 0 else None\n",
    "print(co1_index)\n",
    "\n",
    "# determine the difference between the variation of PC and subsequent PC\n",
    "co2 = np.sort(np.where((pct[:-1] - pct[1:]) > 0.05)[0])[::-1] # before: 0.1\n",
    "co2_index = co2[0] + 1 if len(co2) > 0 else None\n",
    "print(co2_index)\n",
    "\n",
    "# usually, we would choose the minimum of these two metrics as the PCs covering the majority of the variation in the data.\n",
    "pcs = min(co1_index, co2_index) if co1_index is not None and co2_index is not None else None\n",
    "\n",
    "print(\"PCs covering the majority of the variation:\", pcs)"
   ]
  },
  {
   "cell_type": "code",
   "execution_count": null,
   "id": "4f472591-4056-4fad-ab1d-222bc69925c8",
   "metadata": {},
   "outputs": [],
   "source": [
    "# Kaiser rule --> Keep PC with an eigenvalue of >=1\n",
    "\n",
    "# extract eigenvalues from PCA results\n",
    "eigenvalues = adata.uns['pca']['variance']\n",
    "\n",
    "# filter eigenvalues greater than or equal to 1\n",
    "eigenvalues_gt_1 = [val for val in eigenvalues if val >= 1]\n",
    "\n",
    "# get the corresponding principal component numbers\n",
    "pcs_gt_1 = [i+1 for i, val in enumerate(eigenvalues) if val >= 1]\n",
    "\n",
    "print(eigenvalues)\n",
    "print(max(pcs_gt_1))"
   ]
  },
  {
   "cell_type": "code",
   "execution_count": null,
   "id": "34592b35-f6ab-4119-8e7d-afa5d6338f59",
   "metadata": {},
   "outputs": [],
   "source": [
    "# 2/3 Variance Explanation\n",
    "print(cumu)\n",
    "np.where((cumu > 100*2/3))[0][0]"
   ]
  },
  {
   "cell_type": "code",
   "execution_count": null,
   "id": "b1c2acd9-99f4-48ea-ba05-df1885a058ef",
   "metadata": {},
   "outputs": [],
   "source": [
    "# define number of PCs\n",
    "n_pcs=35"
   ]
  },
  {
   "cell_type": "markdown",
   "id": "e3c0e4f8-6390-41ff-9ff7-864dc2853607",
   "metadata": {},
   "source": [
    "### Compute Neighbors & Non Linear Dim. Reduction"
   ]
  },
  {
   "cell_type": "code",
   "execution_count": null,
   "id": "485a855a-c6e4-4910-aa61-b40373f6f89d",
   "metadata": {},
   "outputs": [],
   "source": [
    "sc.pp.neighbors(adata, n_pcs=n_pcs)\n",
    "sc.tl.umap(adata)"
   ]
  },
  {
   "cell_type": "code",
   "execution_count": null,
   "id": "80c89210-6506-48f5-bc38-6c69b3bc7e3c",
   "metadata": {},
   "outputs": [],
   "source": [
    "sc.pl.umap(adata, color=[\"sample\", \"Annotation_1.0\"], wspace=1.5)"
   ]
  },
  {
   "cell_type": "code",
   "execution_count": null,
   "id": "8b4fe54c-f697-489a-9320-c4291fd0f11f",
   "metadata": {},
   "outputs": [],
   "source": [
    "# check technical sources of variation\n",
    "sc.pl.umap(\n",
    "    adata,\n",
    "    color=[\"pct_counts_mt\", \"pct_counts_ribo\", \"n_genes_by_counts\", \"total_counts\", \"doublet_score\", \"sample\"],\n",
    "    vmax=\"p99\",\n",
    "    #legend_loc=\"on data\",\n",
    "    frameon=False,\n",
    "    cmap=\"PuOr\",\n",
    "    use_raw=False,\n",
    "    ncols=2\n",
    ")"
   ]
  },
  {
   "cell_type": "code",
   "execution_count": null,
   "id": "5b4d4f6d-6234-4094-ba9d-5fa180ad58ff",
   "metadata": {},
   "outputs": [],
   "source": [
    "sc.pl.umap(\n",
    "    adata,\n",
    "    color=[\"patient\", \"timepoint\"],\n",
    "    vmax=\"p99\",\n",
    "    #legend_loc=\"on data\",\n",
    "    frameon=False,\n",
    "    use_raw=False,\n",
    "    ncols=2\n",
    ")"
   ]
  },
  {
   "cell_type": "markdown",
   "id": "da627370-ade2-4172-948e-a3a27cc08fba",
   "metadata": {},
   "source": [
    "### Integration (scVI)"
   ]
  },
  {
   "cell_type": "code",
   "execution_count": null,
   "id": "d4104752-274d-47fc-8971-fd14b2eeb1fc",
   "metadata": {},
   "outputs": [],
   "source": [
    "# define integration vars\n",
    "batch_key = \"subproject\""
   ]
  },
  {
   "cell_type": "code",
   "execution_count": null,
   "id": "f8fffbc0-b961-4899-a589-7eb879a13f3e",
   "metadata": {},
   "outputs": [],
   "source": [
    "# create object specific to scVI with just HVG\n",
    "adata_scvi = adata[:, adata.var[\"highly_variable\"]].copy()"
   ]
  },
  {
   "cell_type": "code",
   "execution_count": null,
   "id": "5972d0a2-bf30-4d2b-bf71-073341e0bb4a",
   "metadata": {},
   "outputs": [],
   "source": [
    "print(adata.shape)\n",
    "print(adata_scvi.shape)"
   ]
  },
  {
   "cell_type": "code",
   "execution_count": null,
   "id": "8ba63845-6bf5-473a-9a4c-cd1baf31845a",
   "metadata": {
    "scrolled": true
   },
   "outputs": [],
   "source": [
    "# prepare object\n",
    "scvi.model.SCVI.setup_anndata(adata_scvi, \n",
    "                              layer=\"rawcounts\", \n",
    "                              batch_key=batch_key,\n",
    "                              #continuous_covariate_keys=[\"pct_counts_mt\", \"pct_counts_ribo\", \"n_genes_by_counts\", \"total_counts\"],\n",
    "                              #categorical_covariate_keys=[\"patient\", \"timepoint\"]\n",
    "                             )\n",
    "adata_scvi"
   ]
  },
  {
   "cell_type": "code",
   "execution_count": null,
   "id": "d7edf3de-6728-450c-9349-fe0bf87f1a7f",
   "metadata": {},
   "outputs": [],
   "source": [
    "# create the model\n",
    "model_scvi = scvi.model.SCVI(adata_scvi)\n",
    "model_scvi"
   ]
  },
  {
   "cell_type": "code",
   "execution_count": null,
   "id": "ba31eb45-470d-4a59-b9f1-b98b88648f9a",
   "metadata": {},
   "outputs": [],
   "source": [
    "# visualize model\n",
    "model_scvi.view_anndata_setup()"
   ]
  },
  {
   "cell_type": "code",
   "execution_count": null,
   "id": "3317a4dd-fe9a-4a41-bb1d-655703f8dc86",
   "metadata": {},
   "outputs": [],
   "source": [
    "# find optimal number of epochs\n",
    "max_epochs_scvi = np.min([round((20000 / adata_scvi.n_obs) * 400), 400])\n",
    "max_epochs_scvi"
   ]
  },
  {
   "cell_type": "code",
   "execution_count": null,
   "id": "dea5dd21-1b95-493b-845e-ffe63d30b10b",
   "metadata": {},
   "outputs": [],
   "source": [
    "# train the model\n",
    "model_scvi.train()"
   ]
  },
  {
   "cell_type": "code",
   "execution_count": null,
   "id": "7e19a166-944e-4cdd-90de-9ce5f9743eb6",
   "metadata": {},
   "outputs": [],
   "source": [
    "# extract the embedding\n",
    "adata_scvi.obsm[\"X_scVI\"] = model_scvi.get_latent_representation() #just embedding used in further steps\n",
    "adata_scvi.layers[\"scvi_normalized\"] = model_scvi.get_normalized_expression(library_size=10e4) # would allow us to perforem DE"
   ]
  },
  {
   "cell_type": "code",
   "execution_count": null,
   "id": "3d7ce1c8-6509-49c0-a9a3-3229630fd5ef",
   "metadata": {},
   "outputs": [],
   "source": [
    "# transfer scVI latent space to the full anndata object\n",
    "adata.obsm[\"X_scVI\"] = model_scvi.get_latent_representation()"
   ]
  },
  {
   "cell_type": "code",
   "execution_count": null,
   "id": "ff374142-7096-4dba-af30-5a4ced0540a5",
   "metadata": {},
   "outputs": [],
   "source": [
    "# save the model\n",
    "model_scvi.save(os.path.join(work_dir, \"data\", \"models\", \"Combined_SCR_C02_Myeloid_scVI_integration_model_11-04-24\"), overwrite=True)"
   ]
  },
  {
   "cell_type": "code",
   "execution_count": null,
   "id": "b8f9160d-5f61-435e-b371-dd50593dca1c",
   "metadata": {},
   "outputs": [],
   "source": [
    "# batch-corrected visualization (full)\n",
    "sc.pp.neighbors(adata, use_rep=\"X_scVI\")\n",
    "sc.tl.umap(adata)\n",
    "adata"
   ]
  },
  {
   "cell_type": "code",
   "execution_count": null,
   "id": "0c3a922d-b097-4e75-a827-8e2f475367e9",
   "metadata": {},
   "outputs": [],
   "source": [
    "# visualize integration\n",
    "sc.pl.umap(adata, \n",
    "           color=[\"Annotation_1.0\", \n",
    "                  \"sample\",  \n",
    "                  \"subproject\", \n",
    "                  \"project\", \n",
    "                  \"patient\", \n",
    "                  \"timepoint\",\n",
    "                  \"Prior_Annotation_2.0\"\n",
    "                 ], \n",
    "           wspace=1, \n",
    "           ncols=2) "
   ]
  },
  {
   "cell_type": "code",
   "execution_count": null,
   "id": "0b3334fb-9a4d-49cd-910b-16821b2ad4f8",
   "metadata": {},
   "outputs": [],
   "source": [
    "# save integrated myeloid adata object\n",
    "adata.write(os.path.join(work_dir, \"data\", \"outputdata\", \"combined\", \"Combined_SCR_CO2_Myeloid_scVI-integrated_11-04-24.h5ad\"))"
   ]
  },
  {
   "cell_type": "code",
   "execution_count": null,
   "id": "bb73ff8e-29d2-47d1-a666-3abbaa3b3837",
   "metadata": {},
   "outputs": [],
   "source": [
    "# read integrated myeloid adata object\n",
    "adata = sc.read_h5ad(os.path.join(work_dir, \"data\", \"outputdata\", \"combined\", \"Combined_SCR_CO2_Myeloid_scVI-integrated_11-04-24.h5ad\"))"
   ]
  },
  {
   "cell_type": "code",
   "execution_count": null,
   "id": "e0ed7f49-e60d-4315-b522-c2157b2dac28",
   "metadata": {},
   "outputs": [],
   "source": [
    "# identfy technical sources of variation\n",
    "sc.pl.umap(\n",
    "    adata,\n",
    "    color=[\"pct_counts_mt\", \"pct_counts_ribo\", \"n_genes_by_counts\", \"total_counts\", \"doublet_score\", \"sample\"],\n",
    "    vmax=\"p99\",\n",
    "    frameon=False,\n",
    "    cmap=\"PuOr\",\n",
    "    use_raw=False,\n",
    "    ncols=2,\n",
    "    save=\"Techincal_Sources_of_Variation.png\"\n",
    ")"
   ]
  },
  {
   "cell_type": "code",
   "execution_count": null,
   "id": "f14eee59-3f00-4735-be10-ff57d602967d",
   "metadata": {},
   "outputs": [],
   "source": [
    "# visualize batches\n",
    "sc.pl.umap(\n",
    "    adata,\n",
    "    color=[\"patient\", \"project\", \"timepoint\", \"subproject\", \"response\", \"sample\"],\n",
    "    vmax=\"p99\",\n",
    "    frameon=False,\n",
    "    cmap=\"PuOr\",\n",
    "    use_raw=False,\n",
    "    ncols=2,\n",
    "    save=\"Batches.png\"\n",
    ")"
   ]
  },
  {
   "cell_type": "code",
   "execution_count": null,
   "id": "57ef98a4-2d2e-4387-9b12-5cd0994cd42d",
   "metadata": {},
   "outputs": [],
   "source": [
    "# check specific Myeloid markers to evaluate integration\n",
    "sc.pl.umap(\n",
    "    adata,\n",
    "    color=[\n",
    "            \"FCN1\",       # Mono\n",
    "            \"CD14\",       # CD14 Mono\n",
    "            \"FCGR3A\",     # CD16 Mono\n",
    "            \"CD68\",       # Macro\n",
    "            \"CD5L\",       # TRM Kupffer-like TAM\n",
    "            \"MKI67\",      # Prolif. TAM\n",
    "            \"CX3CR1\",     # Reg-TAM\n",
    "            \"APOE\",       # LA-TAM\n",
    "            \"IL1B\",       # Inflam. TAM\n",
    "            \"ISG15\",      # IFN-TAM\n",
    "            \"VCAN\",       # Angio. TAM\n",
    "            \"SPP1\",       # Infla, LA, Angio TAMs\n",
    "            \"C1QC\",       # LA, Inflam, RTM TAMs\n",
    "            \"TREM2\",      # cancer prognosis --> bad\n",
    "            \"S100A9\",     # Monos (CD14), Inflam, angio, TAMs, cDC3\n",
    "            \"CLEC9A\",     # cDC1\n",
    "            \"CD1C\",       # cDC2\n",
    "            \"LILRA4\",     # pDCs\n",
    "            \"TPSAB1\",     # Mast\n",
    "            \n",
    "            \n",
    "            \n",
    "            #\"NR4A1\"       # tissue resident monos\n",
    "    ],\n",
    "    vmax=\"p99\",\n",
    "    legend_loc=\"on data\",\n",
    "    frameon=False,\n",
    "    #cmap=\"Viridis\",\n",
    "    use_raw=False\n",
    ")\n"
   ]
  },
  {
   "cell_type": "markdown",
   "id": "4657c313-5c32-417a-81c2-885e516af782",
   "metadata": {},
   "source": [
    "### Clustering"
   ]
  },
  {
   "cell_type": "code",
   "execution_count": null,
   "id": "7f8db717-dd68-4d37-b036-be4854fe7174",
   "metadata": {},
   "outputs": [],
   "source": [
    "# perform clustering\n",
    "sc.tl.leiden(adata, key_added=\"leiden_res0_25\", resolution=0.25)\n",
    "sc.tl.leiden(adata, key_added=\"leiden_res0_5\", resolution=0.5)\n",
    "sc.tl.leiden(adata, key_added=\"leiden_res0_75\", resolution=0.75)\n",
    "sc.tl.leiden(adata, key_added=\"leiden_res1\", resolution=1.0)\n",
    "sc.tl.leiden(adata, key_added=\"leiden_res1_2\", resolution=1.2)\n",
    "sc.tl.leiden(adata, key_added=\"leiden_res1_4\", resolution=1.4)\n",
    "sc.tl.leiden(adata, key_added=\"leiden_res1_6\", resolution=1.6)\n",
    "sc.tl.leiden(adata, key_added=\"leiden_res1_8\", resolution=1.8)\n",
    "sc.tl.leiden(adata, key_added=\"leiden_res2\", resolution=2)"
   ]
  },
  {
   "cell_type": "code",
   "execution_count": null,
   "id": "c9f740b0-e341-4021-9885-81ecc7d58090",
   "metadata": {},
   "outputs": [],
   "source": [
    "# visulize clustering\n",
    "sc.pl.umap(\n",
    "    adata,\n",
    "    color=[\"leiden_res0_25\", \"leiden_res0_5\", \"leiden_res0_75\", \"leiden_res1\",\n",
    "          \"leiden_res1_2\", \"leiden_res1_4\", \"leiden_res1_6\", \"leiden_res1_8\", \"leiden_res2\"],\n",
    "    legend_loc=\"on data\"\n",
    ")"
   ]
  },
  {
   "cell_type": "code",
   "execution_count": null,
   "id": "5a59869e-903f-4f86-b53c-55958f2126a2",
   "metadata": {},
   "outputs": [],
   "source": [
    "# subcluster cluster 17 and 8(mix of kupffer)\n",
    "sc.tl.leiden(adata, key_added=\"leiden_res1_1\", resolution=0.2, restrict_to = (\"leiden_res1\", [\"17\"]))\n",
    "sc.tl.leiden(adata, key_added=\"leiden_res1_1\", resolution=0.2, restrict_to = (\"leiden_res1_1\", [\"8\"]))"
   ]
  },
  {
   "cell_type": "code",
   "execution_count": null,
   "id": "86e63981-87c2-4061-9a5b-cf1cf9634e60",
   "metadata": {},
   "outputs": [],
   "source": [
    "# visulize clustering\n",
    "sc.set_figure_params(figsize=(6, 6))\n",
    "sc.pl.umap(\n",
    "    adata,\n",
    "    color=[\"leiden_res1\", \"leiden_res1_1\"],\n",
    "    legend_loc=\"on data\"\n",
    ")"
   ]
  },
  {
   "cell_type": "code",
   "execution_count": null,
   "id": "908e4483-63c9-4072-8190-33a30d837bff",
   "metadata": {},
   "outputs": [],
   "source": [
    "# save clustered myeloid adata object\n",
    "adata.write(os.path.join(work_dir, \"data\", \"outputdata\", \"combined\", \"Combined_SCR_CO2_Myeloid_scVI-integrated_clustered_18-04-24.h5ad\"))"
   ]
  },
  {
   "cell_type": "code",
   "execution_count": null,
   "id": "faf5edc0-865e-4650-9fa0-e2e2a6e85b99",
   "metadata": {},
   "outputs": [],
   "source": [
    "# read clustered myeloid adata object\n",
    "adata = sc.read_h5ad(os.path.join(work_dir, \"data\", \"outputdata\", \"combined\", \"Combined_SCR_CO2_Myeloid_scVI-integrated_clustered_18-04-24.h5ad\"))"
   ]
  },
  {
   "cell_type": "markdown",
   "id": "c32c0270-1353-417f-98e8-74215d1d17c7",
   "metadata": {},
   "source": [
    "## Level 2 Annotation"
   ]
  },
  {
   "cell_type": "markdown",
   "id": "f532ff67-26f5-4486-a774-aa9d036744fe",
   "metadata": {},
   "source": [
    "### Map Known Marker Genes"
   ]
  },
  {
   "cell_type": "code",
   "execution_count": null,
   "id": "bd0024ef-200c-4272-8431-5c035d945b11",
   "metadata": {},
   "outputs": [],
   "source": [
    "# define marker genes\n",
    "marker_genes = [\n",
    "\n",
    "            \"FCN1\",       # Mono\n",
    "            \"LYZ\",\n",
    "            \"CD14\",       # CD14 Mono\n",
    "            \"S100A9\",     # Monos (CD14), Inflam, angio, TAMs, cDC3\n",
    "            \"FCGR3A\",     # CD16 Mono\n",
    "            \"HES4\",\n",
    "            \"CD68\",       # Macro\n",
    "            \"SPP1\",       # Infla, LA, Angio TAMs\n",
    "            \"C1QC\",       # LA, Inflam, RTM TAMs\n",
    "            \"TREM2\",      # cancer prognosis --> bad\n",
    "            \"CD5L\",       # TRM Kupffer-like TAM\n",
    "            \"MARCO\",\n",
    "            \"MKI67\",      # Prolif. TAM\n",
    "            \"TOP2A\",\n",
    "            \"CX3CR1\",     # Reg-TAM\n",
    "            \"CD274\",\n",
    "            \"APOE\",       # LA-TAM\n",
    "            \"APOC1\",\n",
    "            \"IL1B\",       # Inflam. TAM\n",
    "            \"IL6\",\n",
    "            \"ISG15\",      # IFN-TAM\n",
    "            \"IFIT1\",\n",
    "            \"VCAN\",       # Angio. TAM\n",
    "            \"VEGFA\",\n",
    "            \"CLEC9A\",     # cDC1\n",
    "            \"BATF3\",\n",
    "            \"CD1C\",       # cDC2\n",
    "            \"CLEC10A\",\n",
    "            \"CCR7\",       # cDC3\n",
    "            \"LAMP3\",  \n",
    "            \"LILRA4\",     # pDCs\n",
    "            \"TPSAB1\",     # Mast\n",
    "            \"FCGR3B\",     # neutrophil\n",
    "            \"CSF3R\",      \n",
    "            \"G0S2\"\n",
    "    \n",
    "]\n"
   ]
  },
  {
   "cell_type": "code",
   "execution_count": null,
   "id": "fb4018e7-5aca-4206-ab37-5de06112ca47",
   "metadata": {},
   "outputs": [],
   "source": [
    "# marker genes dictionary\n",
    "marker_genes_dict = {\n",
    "\n",
    "            \"Mono\":               [\"FCN1\", \"LYZ\"],       # Mono\n",
    "            \"CD14 Mono\":          [\"CD14\", \"S100A9\"],      # CD14 Mono\n",
    "            \"CD16 Mono\":          [\"FCGR3A\", \"HES4\"],     # CD16 Mono\n",
    "            \"TAM\":                [\"CD68\", \"SPP1\", \"C1QC\", \"TREM2\"],       # Macro\n",
    "            \"TRM-Kuppfer TAM\":    [\"CD5L\", \"MARCO\"],       # TRM Kupffer-like TAM\n",
    "            \"Prolif TAM\":         [\"MKI67\", \"TOP2A\"],      # Prolif. TAM\n",
    "            \"Reg TAM\":            [\"CX3CR1\", \"CD274\"],     # Reg-TAM\n",
    "            \"LA TAM\":             [\"APOE\", \"APOC1\"],       # LA-TAM\n",
    "            \"Inflam TAM\":         [\"IL1B\", \"IL6\"],       # Inflam. TAM\n",
    "            \"IFN-TAM\":            [\"ISG15\", \"IFIT1\"],      # IFN-TAM\n",
    "            \"Angio TAM\":          [\"VCAN\", \"VEGFA\"],       # Angio. TAM\n",
    "            \"cDC1\":               [\"CLEC9A\", \"BATF3\"],     # cDC1\n",
    "            \"cDC2\":               [\"CD1C\", \"CLEC10A\"],       # cDC2\n",
    "            \"cDC3\":               [\"CCR7\", \"LAMP3\"],\n",
    "            \"pDC\":                [\"LILRA4\"],     # pDCs\n",
    "            \"Mast\":               [\"TPSAB1\"],     # Mast\n",
    "            \"Neutrophil\":         [\"FCGR3B\", \"CSF3R\", \"G0S2\"] # https://www.ncbi.nlm.nih.gov/pmc/articles/PMC9767679/\n",
    "    \n",
    "}"
   ]
  },
  {
   "cell_type": "code",
   "execution_count": null,
   "id": "78dbfad8-b5db-41a0-82be-ad4b9c46d46e",
   "metadata": {},
   "outputs": [],
   "source": [
    "# plot the expression of marker genes\n",
    "sc.pl.umap(\n",
    "        adata,\n",
    "        color=marker_genes,\n",
    "        vmin=0,\n",
    "        vmax=\"p99\",  # set vmax to the 99th percentile of the gene count instead of the maximum, to prevent outliers from making expression in other cells invisible. Note that this can cause problems for extremely lowly expressed genes.\n",
    "        sort_order=True,  # do not plot highest expression on top, to not get a biased view of the mean expression among cells\n",
    "        frameon=True,\n",
    "        use_raw=False,\n",
    "        cmap=\"viridis\",  # https://matplotlib.org/stable/tutorials/colors/colormaps.html\n",
    "        save=\"Markers_UMAPs.png\"\n",
    "    )"
   ]
  },
  {
   "cell_type": "code",
   "execution_count": null,
   "id": "3619ec3d-56d7-4418-b547-6b12632f36b2",
   "metadata": {},
   "outputs": [],
   "source": [
    "# dotplot of marker genes\n",
    "sc.pl.dotplot(\n",
    "    adata,\n",
    "    groupby=\"leiden_res1_1\",\n",
    "    var_names=marker_genes_dict,\n",
    "    standard_scale=\"var\", \n",
    "    use_raw=False,\n",
    "    cmap=\"Blues\",\n",
    "    save=\"Clusters_Markers_Dotplot.png\"\n",
    ")"
   ]
  },
  {
   "cell_type": "code",
   "execution_count": null,
   "id": "860ae0e6-e881-4bf3-bd8d-0e71bc0f6ee2",
   "metadata": {},
   "outputs": [],
   "source": [
    "sc.pl.matrixplot(\n",
    "    adata,\n",
    "    groupby=\"leiden_res1_1\",\n",
    "    var_names=marker_genes_dict,\n",
    "    standard_scale=\"var\", \n",
    "    use_raw=False,\n",
    "    cmap=\"Blues\",\n",
    "    save=\"Clusters_Markers_Matrixplot.png\"\n",
    ")"
   ]
  },
  {
   "cell_type": "markdown",
   "id": "6f2a0c85-a70f-4b2a-ad09-2b6e977c23b6",
   "metadata": {},
   "source": [
    "### Compute Marker Genes"
   ]
  },
  {
   "cell_type": "code",
   "execution_count": null,
   "id": "0c2a4154-016d-43dc-9504-27f9f2373eeb",
   "metadata": {},
   "outputs": [],
   "source": [
    "# compute marker genes\n",
    "sc.tl.rank_genes_groups(\n",
    "    adata, groupby=\"leiden_res1_1\", method=\"wilcoxon\", key_added=\"dea_leiden_res1_1\", use_raw=False#, layer=\"rawcounts\" # do not use raw!\n",
    ")"
   ]
  },
  {
   "cell_type": "code",
   "execution_count": null,
   "id": "3d6f66d8-b302-4c23-9d0e-43c4b3b3d384",
   "metadata": {},
   "outputs": [],
   "source": [
    "# save marker genes\n",
    "save_markers(adata, \"leiden_res1_1\", os.path.join(work_dir, \"data\", \"markers\", \"Combined\", \"Combined_Myeloid_res1_markers_18-04-24.xlsx\"))"
   ]
  },
  {
   "cell_type": "code",
   "execution_count": null,
   "id": "cb1825d3-ac50-4438-8779-af94f7bb38db",
   "metadata": {},
   "outputs": [],
   "source": [
    "sc.tl.dendrogram(adata, groupby='leiden_res1_1')"
   ]
  },
  {
   "cell_type": "code",
   "execution_count": null,
   "id": "5eb76c05-c175-436a-8380-5597ef1e5a8b",
   "metadata": {},
   "outputs": [],
   "source": [
    "# plot top 5 marker genes per cluster\n",
    "sc.pl.rank_genes_groups_dotplot(\n",
    "    adata,\n",
    "    groupby=\"leiden_res1_1\",\n",
    "    standard_scale=\"var\",\n",
    "    n_genes=5,\n",
    "    key=\"dea_leiden_res1_1\",\n",
    "    use_raw=False,\n",
    "    cmap=\"Blues\",\n",
    "    save=\"Cluster_Marker_Genes_Dotplot.png\"\n",
    ")"
   ]
  },
  {
   "cell_type": "markdown",
   "id": "edd519cf-0497-4e04-b8a3-c8c3a3ac4e15",
   "metadata": {},
   "source": [
    "### Carry Out Annotation"
   ]
  },
  {
   "cell_type": "code",
   "execution_count": null,
   "id": "eb410534-73a9-45a0-8acc-284738335f9a",
   "metadata": {},
   "outputs": [],
   "source": [
    "#sc.set_figure_params(figsize=(4, 4))\n",
    "sc.pl.umap(\n",
    "    adata,\n",
    "    color=[\"leiden_res1_1\"],\n",
    "    legend_loc=\"on data\",\n",
    "    save=\"Clustering_res1_1_UMAP.png\"\n",
    ")"
   ]
  },
  {
   "cell_type": "code",
   "execution_count": null,
   "id": "766f9587-6ee1-47de-aef1-3c90acd71f86",
   "metadata": {},
   "outputs": [],
   "source": [
    "annotation = {\n",
    "    \n",
    "    \"0\":     \"CD14 Mono\",\n",
    "    \"1\":     \"Angio TAM\",\n",
    "    \"2\":     \"cDC2\",\n",
    "    \"3\":     \"CD14 CD16 Mono\",\n",
    "    \"4\":     \"CD16 Mono\",\n",
    "    \"5\":     \"LA TAM\",\n",
    "    \"6\":     \"pDC\",\n",
    "    \"7\":     \"CD14 Mono\",\n",
    "    \"8,0\":   \"TRM Kupffer TAM\",\n",
    "    \"8,1\":   \"Anti-Inflam TAM\",\n",
    "    \"9\":     \"Angio TAM-like\",\n",
    "    \"10\":    \"CD14 CD16 Mono\",\n",
    "    \"11\":    \"LA TAM\",\n",
    "    \"12\":    \"LA TAM\",\n",
    "    \"13\":    \"Neutrophil\",\n",
    "    \"14\":    \"cDC1\",\n",
    "    \"15\":    \"Mast\",\n",
    "    \"16\":    \"NOISE\",\n",
    "    \"17,0\":  \"pDC-like\",\n",
    "    \"17,1\":  \"pDC-like\",\n",
    "    \"18\":    \"cDC3\"\n",
    "    \n",
    "        \n",
    "}\n",
    "\n",
    "adata.obs[\"Annotation_2.0\"] = adata.obs.leiden_res1_1.map(annotation)"
   ]
  },
  {
   "cell_type": "code",
   "execution_count": null,
   "id": "875b1e1e-29ab-43d3-8d93-fcada3ca54a3",
   "metadata": {},
   "outputs": [],
   "source": [
    "# remove NOISE cluster\n",
    "adata = adata[~adata.obs['Annotation_2.0'].isin([\"NOISE\"])].copy()"
   ]
  },
  {
   "cell_type": "markdown",
   "id": "84977349-5485-4e6e-925f-c0c47d2efaf5",
   "metadata": {},
   "source": [
    "### Visualize Annotation 2.0"
   ]
  },
  {
   "cell_type": "code",
   "execution_count": null,
   "id": "faff2d8a-c046-420b-b1af-14365493f47d",
   "metadata": {},
   "outputs": [],
   "source": [
    "# visualize annotation\n",
    "sc.set_figure_params(figsize=(4, 4))\n",
    "sc.pl.umap(\n",
    "    adata,\n",
    "    color=[\"Annotation_2.0\"],\n",
    "    title=[\"Annotation 2.0\"],\n",
    "    frameon=True,\n",
    "    cmap=\"tab20\",\n",
    "    save=\"Annotation_2.0_UMAP.png\"\n",
    ")"
   ]
  },
  {
   "cell_type": "code",
   "execution_count": null,
   "id": "98d62a7a-64c3-4416-973f-10cd73715ae8",
   "metadata": {},
   "outputs": [],
   "source": [
    "# dotplot of marker genes\n",
    "sc.pl.dotplot(\n",
    "    adata,\n",
    "    groupby=\"Annotation_2.0\",\n",
    "    var_names=marker_genes_dict,\n",
    "    standard_scale=\"var\", \n",
    "    use_raw=False,\n",
    "    cmap=\"Blues\",\n",
    "    save=\"Annotation_2.0_Dotplot.png\"\n",
    ")"
   ]
  },
  {
   "cell_type": "code",
   "execution_count": null,
   "id": "1bd49551-2c3d-4e27-8f24-8cee7b38d015",
   "metadata": {},
   "outputs": [],
   "source": [
    "sc.pl.matrixplot(\n",
    "    adata,\n",
    "    groupby=\"Annotation_2.0\",\n",
    "    var_names=marker_genes_dict,\n",
    "    standard_scale=\"var\", \n",
    "    use_raw=False,\n",
    "    cmap=\"Blues\",\n",
    "    save=\"Annotation_2.0_Matrixplot.png\"\n",
    ")\n",
    "#plt.savefig(os.path.join(fig_dir,\"Annotation_2.0_Matrixplot.png\"), dpi=600, format=\"png\", bbox_inches=\"tight\")"
   ]
  },
  {
   "cell_type": "code",
   "execution_count": null,
   "id": "765ec9e6-56db-486a-999a-8d053ce09192",
   "metadata": {},
   "outputs": [],
   "source": [
    "sc.pl.stacked_violin(\n",
    "    adata,\n",
    "    groupby=\"Annotation_2.0\",\n",
    "    var_names=marker_genes_dict,\n",
    "    standard_scale=\"var\", \n",
    "    use_raw=False,\n",
    "    cmap=\"Blues\",\n",
    "    save=\"Annotation_2.0_Stacked_Violin.png\"\n",
    ")"
   ]
  },
  {
   "cell_type": "code",
   "execution_count": null,
   "id": "124f93aa-732d-4944-b73c-3dc5183fd6df",
   "metadata": {},
   "outputs": [],
   "source": [
    "# correlation matrix\n",
    "sc.pl.correlation_matrix(adata, \"Annotation_2.0\", save=\"Annotation_2.0_Correlation_Matrix.png\")"
   ]
  },
  {
   "cell_type": "markdown",
   "id": "03e56b38-134a-4ad3-a565-127f50dc3b31",
   "metadata": {},
   "source": [
    "### Save Annotated Anndata Object"
   ]
  },
  {
   "cell_type": "code",
   "execution_count": null,
   "id": "7f514a93-9eaa-4701-832c-23af0fe59bd6",
   "metadata": {},
   "outputs": [],
   "source": [
    "# save it\n",
    "adata.write(os.path.join(work_dir, \"data\", \"outputdata\", \"combined\", \"Combined_SCR_CO2_Myeloid_annotated_18-04-24.h5ad\"))"
   ]
  },
  {
   "cell_type": "code",
   "execution_count": null,
   "id": "bed6954a-97f4-4e1a-a697-dc8d34ca5c81",
   "metadata": {},
   "outputs": [],
   "source": [
    "# read annotated object\n",
    "adata = sc.read_h5ad(os.path.join(work_dir, \"data\", \"outputdata\", \"combined\", \"Combined_SCR_CO2_Myeloid_annotated_18-04-24.h5ad\"))"
   ]
  },
  {
   "cell_type": "markdown",
   "id": "d0886dd7-0d09-43b2-bbde-9580dfbb1d58",
   "metadata": {},
   "source": [
    "## Gene Signatures Scores"
   ]
  },
  {
   "cell_type": "code",
   "execution_count": null,
   "id": "9927385d-4def-45f3-860f-0719277eaae3",
   "metadata": {},
   "outputs": [],
   "source": [
    "# change saving figures dir\n",
    "fig_dir = os.path.join(work_dir, \"figures\", \"combined\", \"Myeloid\", \"signatures/\")"
   ]
  },
  {
   "cell_type": "code",
   "execution_count": null,
   "id": "14b5de5c-7950-48bd-9878-503a9822965c",
   "metadata": {},
   "outputs": [],
   "source": [
    "# define signatures\n",
    "\n",
    "signatures = {  \n",
    "\n",
    "    \"Pro-Inflam\": [\"C1QA\",\"C1QC\",\"CCL2\",\"IL1B\",\"CCL4\",\"CCL7\",\"CCL8\",\"NFKB1\",\"CD40\", \"CXCL2\", \"CXCL3\", \"CXCL9\", \"CXCL10\",\"CXCL11\",\"IDO1\",\"NFKBIA\", \"TNF\",\"CXCL8\",\"G0S2\",\"IL6\",\"INHBA\",\"S100A8\",\"S100A9\"],\n",
    "    \"Anti-Inflam\": [\"SELENOP\", \"MRC1\", \"CCL18\",\"CD163\", \"CD209\", \"ARG1\", \"IL10\", \"CD274\",\"CHIT1\",  \"RNASE1\", \"TREM2\", \"IL10\", \"ITGA4\", \"LGALS9\", \"MARCO\", \"TGFB2\", \"TGFB1\", \"CSF1R\", \"CSF1\", \"SPP1\",\"TREM2\"],\n",
    "    \"IFN-Response\": [\"CASP1\", \"CASP4\", \"CCL2\", \"CCL3\", \"CCL4\", \"CCL7\", \"CCL8\",\n",
    "         \"CD274\", \"CD40\", \"CXCL2\", \"CXCL3\", \"CXCL9\", \"CXCL10\", \"CXCL11\", \"IDO1\", \"IFI6\", \"IFIT1\", \"IFIT2\", \"IFIT3\", \"IFITM1\", \"IFITM3\", \"IRF1\", \"IRF7\", \"ISG15\", \"LAMP3\", \"PDCD1LG2\", \"TNFSF10\",\n",
    "         \"C1QA\", \"C1QC\", \"CD38\", \"IL4I1\", \"IFI44L\", \"STAT1\", \"IRF1\", \"IRF7\"],\n",
    "    \"Lipid-Associated\": [\"ACP5\", \"APOE\", \"APOC1\", \"ATF1\", \"C1QA\", \"C1QB\", \"C1QC\", \"CCL18\", \"CD163\", \"CD36\", \n",
    "         \"CD63\", \"CHI3L1\", \"CTSB\", \"CTSD\", \"CTSL\", \"F13A1\", \"FABP5\", \"FOLR2\", \"GPNMB\", \"IRF3\", \n",
    "         \"LGALS3\", \"LIPA\", \"LPL\", \"MARCO\", \"MERTK\", \"MMP7\", \"MMP9\", \"MMP12\", \"MRC1\", \"NR1H3\", \n",
    "         \"NRF1\", \"NUPR1\", \"PLA2G7\", \"RNASE1\", \"SPARC\", \"SPP1\", \"TFDP2\", \"TREM2\", \"ZEB1\", \"FOS\", \"JUN\", \"HIF1A\", \"MAF\", \"MAFB\", \"NR1H3\", \"TCF4\", \"TFEC\"],\n",
    "    \"Angiogenesis\": [\"ADAM8\", \"AREG\", \"BNIP3\", \"CCL2\", \"CCL4\", \"CCL20\", \"CD163\", \"CD300E\", \"CD44\", \"CD55\", \"CEBPB\", \"CLEC5A\", \"CTSB\", \"EREG\", \"FCN1\", \"FLT1\", \"FN1\", \"HES1\", \"IL1B\", \"IL1RN\", \"CXCL8\", \"MAF\", \"MIF\", \"NR1H3\", \"OLR1\", \"PPARG\", \"S100A8\", \"S100A9\", \"S100A12\", \"SERPINB2\", \"SLC2A1\", \"SPIC\", \"SPP1\", \"THBS1\", \"TIMP1\", \"VCAN\", \"VEGFA\", \"BACH1\", \"CEBPB\", \"FOSL2\", \"HIF1A\", \"KLF5\", \"MAF\", \"NFKB1\", \"NR1H3\", \"RUNX1\", \"SPIC\", \"TEAD1\", \"ZEB2\"],\n",
    "    \"Regulatory\": [\"CCL2\", \"CD274\", \"CD40\", \"CD80\", \"CD86\", \"CHIT1\", \"CX3CR1\", \"HLA-A\", \"HLA-C\", \"HLA-DQA1\", \"HLA-DQB1\", \"HLA-DRA\", \"HLA-DRB1\", \"HLA-DRB5\", \"ICOSLG\", \"IL10\", \"ITGA4\", \"LGALS9\", \"MARCO\", \"MRC1\", \"TGFB2\"],\n",
    "    \"Proliferation\": [\"CCNA2\", \"CDC45\", \"CDK1\", \"HIST1H4C\", \"HMGB1\", \"HMGN2\", \"MKI67\", \"RRM2\", \"STMN1\", \"TOP2A\", \"TUBA1B\", \"TUBB\", \"TYMS\"],\n",
    "    \"TRM-Kupffer\": [\"C1QA\", \"C1QB\", \"C1QC\", \"CCL7\", \"CD163\", \"CD5L\", \"CD74\", \"CETP\", \"FOLR2\", \"HLA-DPA1\", \"HLA-DPB1\", \"HLA-DRB1\", \"MARCO\", \"MAF\", \"MS4A7\", \"SLC40A1\", \"VCAM1\", \"VSIG4\"],\n",
    "    \"APM\": [\"HLA-A\", \"HLA-B\", \"HLA-C\", \"HLA-E\", \"HLA-G\", \"HLA-F\", \"HLA-DRA\", \"HLA-DRB1\", \"HLA-DQA1\", \"HLA-DQB1\", \"HLA-DQA2\", \"HLA-DQB2\", \"HLA-DPA1\", \"HLA-DPB1\",\n",
    "         \"NLRC5\", \"CIITA\", \"PSME1\", \"PSME2\", \"PSMB8\", \"PSMB9\", \"PSMB10\", \"B2M\", \"HLA-DRB5\",\n",
    "         \"HLA-DMA\", \"HLA-DMB\", \"HLA-DOA\", \"HLA-DOB\", \"ERAP1\", \"TAPBP\", \"TAP1\", \"TAP2\"] # https://www.nature.com/articles/s41598-023-28167-1\n",
    "\n",
    "}\n",
    "# # Macrophage diversity in cancer revisited in the era of single-cell omics\n"
   ]
  },
  {
   "cell_type": "code",
   "execution_count": null,
   "id": "4795d142-2b63-4ce9-bf1c-d6d7a4ad7efe",
   "metadata": {},
   "outputs": [],
   "source": [
    "# compute and plot signatures\n",
    "\n",
    "for signature in signatures:\n",
    "    print(signature + \" Done!\")\n",
    "    compute_signature_score(adata, gene_set=signatures[signature], score_name=signature+\"_Score\", palette=\"viridis\", plot=False)\n"
   ]
  },
  {
   "cell_type": "code",
   "execution_count": null,
   "id": "0fe3ed10-7010-4bc2-9aa7-c1864cf8de58",
   "metadata": {},
   "outputs": [],
   "source": [
    "sc.pl.heatmap(adata, var_names=signatures, groupby=\"Annotation_2.0\", use_raw=False)"
   ]
  },
  {
   "cell_type": "code",
   "execution_count": null,
   "id": "82055f24-faa8-4485-a93b-f90151300976",
   "metadata": {},
   "outputs": [],
   "source": [
    "# create pseudobulks\n",
    "pdata= dc.get_pseudobulk(\n",
    "    adata,\n",
    "    sample_col='sample',\n",
    "    groups_col='Annotation_2.0',\n",
    "    layer='rawcounts',\n",
    "    mode='sum',\n",
    "    min_cells=10,\n",
    "    min_counts=1000,\n",
    ")\n",
    "pdata"
   ]
  },
  {
   "cell_type": "code",
   "execution_count": null,
   "id": "d3f59fdc-455e-4dd5-8d4c-1ff74b3778b3",
   "metadata": {},
   "outputs": [],
   "source": [
    "pdata.obs"
   ]
  },
  {
   "cell_type": "code",
   "execution_count": null,
   "id": "de7d6d3b-6bfa-49b0-97fa-c9b417d89aea",
   "metadata": {},
   "outputs": [],
   "source": [
    "pdata[pdata.obs.Condition == \"T0/-ICI\"]"
   ]
  },
  {
   "cell_type": "code",
   "execution_count": null,
   "id": "51583932-eadb-4c08-bb6d-c3393cbd884b",
   "metadata": {},
   "outputs": [],
   "source": [
    "# compute and plot signatures\n",
    "\n",
    "for signature in signatures:\n",
    "    print(signature + \" Score Done!\")\n",
    "    compute_signature_score(pdata, gene_set=signatures[signature], score_name=signature+\"_Score\", palette=\"viridis\", plot=False)\n",
    "    compute_signature_score(adata, gene_set=signatures[signature], score_name=signature+\"_Score\", palette=\"viridis\", plot=False)\n"
   ]
  },
  {
   "cell_type": "code",
   "execution_count": null,
   "id": "3c0f9766-82d5-4ac9-a8fc-1ba310d10a40",
   "metadata": {},
   "outputs": [],
   "source": [
    "df_p = pdata.obs\n",
    "df_p"
   ]
  },
  {
   "cell_type": "code",
   "execution_count": null,
   "id": "3f7221cd-3476-42eb-8db6-7a9c3450b2d7",
   "metadata": {},
   "outputs": [],
   "source": [
    "df = adata.obs\n",
    "df"
   ]
  },
  {
   "cell_type": "code",
   "execution_count": null,
   "id": "5a80a16f-d205-478d-9e25-e66080a3113b",
   "metadata": {},
   "outputs": [],
   "source": [
    "# non-responder df\n",
    "df_pd = df[df['response'] == 'PD']\n",
    "df_p_pd = df_p[df_p['response'] == 'PD']"
   ]
  },
  {
   "cell_type": "code",
   "execution_count": null,
   "id": "2873e27b-4fd0-4972-b92e-2866fe400cb6",
   "metadata": {},
   "outputs": [],
   "source": [
    "df_p.loc[df_p['Condition'] == 'T1/+ICI']"
   ]
  },
  {
   "cell_type": "code",
   "execution_count": null,
   "id": "f5a14f37-a12a-45d9-a5cd-8568f1262297",
   "metadata": {},
   "outputs": [],
   "source": [
    "df_p"
   ]
  },
  {
   "cell_type": "code",
   "execution_count": null,
   "id": "708544e9-0f82-420f-857b-b6d968fa8970",
   "metadata": {},
   "outputs": [],
   "source": [
    "scores = list(signatures.keys())\n",
    "print(scores)\n",
    "\n",
    "for score in scores:\n",
    "\n",
    "    from scipy.stats import mannwhitneyu, normaltest, ttest_ind, wilcoxon\n",
    "    from statsmodels.stats.multitest import multipletests\n",
    "\n",
    "    df_p = pdata.obs[pdata.obs['patient'].isin(['01', '02', '03', '08', '10'])]\n",
    "    df = adata.obs[adata.obs['patient'].isin(['01', '02', '03', '08', '10'])]\n",
    "    '''\n",
    "    if score in [\"Pro-Inflam\", \"Anti-Inflam\", \"Angiogenesis\", \"CD16 Mono\", \"CD14 Mono\", \"CD14 CD16 Mono\", \"Lipid-Associated\" \"TRM-Kupffer\"]:\n",
    "        df = df[df[\"Annotation_2.0\"].isin([\"Anti-Inflam TAM\", \"LA TAM\", \"TRM Kupffer TAM\", \"Angio TAM\", \"Angio TAM-like\", \"CD16 Mono\", \"CD14 Mono\", \"CD14 CD16 Mono\"])]\n",
    "        df_p = df_p[df_p[\"Annotation_2.0\"].isin([\"Anti-Inflam TAM\", \"LA TAM\", \"TRM Kupffer TAM\", \"Angio TAM\", \"Angio TAM-like\", \"CD16 Mono\", \"CD14 Mono\", \"CD14 CD16 Mono\"])]\n",
    "        df_pd = df_pd[df_pd[\"Annotation_2.0\"].isin([\"Anti-Inflam TAM\", \"LA TAM\", \"TRM Kupffer TAM\", \"Angio TAM\", \"Angio TAM-like\", \"CD16 Mono\", \"CD14 Mono\", \"CD14 CD16 Mono\"])]\n",
    "        df_p_pd = df_p_pd[df_p_pd[\"Annotation_2.0\"].isin([\"Anti-Inflam TAM\", \"LA TAM\", \"TRM Kupffer TAM\", \"Angio TAM\", \"Angio TAM-like\", \"CD16 Mono\", \"CD14 Mono\", \"CD14 CD16 Mono\"])]\n",
    "\n",
    "    elif score == \"APM\":\n",
    "        df = df[df[\"Annotation_2.0\"].isin([\"cDC1\", \"cDC2\", \"cDC3\"])]\n",
    "        df_p = df_p[df_p[\"Annotation_2.0\"].isin([\"cDC1\", \"cDC2\", \"cDC3\"])]\n",
    "        df_pd = df_pd[df_pd[\"Annotation_2.0\"].isin([\"cDC1\", \"cDC2\", \"cDC3\"])]\n",
    "        df_p_pd = df_p_pd[df_p_pd[\"Annotation_2.0\"].isin([\"cDC1\", \"cDC2\", \"cDC3\"])]\n",
    "    '''\n",
    "    '''\n",
    "    subprojects = df_p['subproject'].unique()\n",
    "    cell_types_per_subproject = {subproject: set(df_p[df_p['subproject'] == subproject]['Annotation_2.0']) for subproject in subprojects}\n",
    "    common_cell_types = set.intersection(*cell_types_per_subproject.values())\n",
    "    df_p = df_p[df_p['Annotation_2.0'].isin(common_cell_types)]\n",
    "    print(common_cell_types)\n",
    "    \n",
    "    subprojects = df_p['subproject'].unique()\n",
    "    common_cell_types = None\n",
    "    for subproject in subprojects:\n",
    "        subproject_data = df_p[df_p['subproject'] == subproject]\n",
    "        cell_types_in_subproject = set(subproject_data['Annotation_2.0'])\n",
    "        if common_cell_types is None:\n",
    "            common_cell_types = cell_types_in_subproject\n",
    "        else:\n",
    "            common_cell_types = common_cell_types.intersection(cell_types_in_subproject)\n",
    "    print(common_cell_types)\n",
    "    df_p = df_p[df_p['Annotation_2.0'].isin(common_cell_types)]\n",
    "    \n",
    "\n",
    "    df_pd = df[df['response'] == 'PD']\n",
    "    df_p_pd = df_p[df_p['response'] == 'PD']\n",
    "\n",
    "    \n",
    "    cell_types_to_remove = []\n",
    "    for cell_type in df_p['Annotation_2.0'].unique(): \n",
    "        if cell_type not in df_p.loc[df_p['Condition'] == 'T0/-ICI', 'Annotation_2.0'].values:\n",
    "            cell_types_to_remove.append(cell_type)\n",
    "            print(cell_type, \"not found!\")\n",
    "        if cell_type not in df_p.loc[df_p['Condition'] == 'T1/+ICI','Annotation_2.0'].values:\n",
    "            cell_types_to_remove.append(cell_type)\n",
    "            print(cell_type, \"not found!\")\n",
    "\n",
    "    df_p = df_p[~df_p['Annotation_2.0'].isin(cell_types_to_remove)]\n",
    "    '''\n",
    "    \n",
    "    ############################\n",
    "    # T0 vs. T1 - All Patients #\n",
    "    ############################\n",
    "    \n",
    "    # statistical test (T0 bvs T1)\n",
    "    print(\"T0 vs. T1 - All Patients\")\n",
    "    # create arrays of each condition\n",
    "    t0 = df_p.loc[(df_p.Condition == \"T0/-ICI\"), score+\"_Score\"].values\n",
    "    t1 = df_p.loc[(df_p.Condition == \"T1/+ICI\"), score+\"_Score\"].values\n",
    "    \n",
    "    \n",
    "    log_t0 = np.log(t0)\n",
    "    log_t1 = np.log(t1)\n",
    "    \n",
    "    # pvalues with scipy:\n",
    "    stat_results = [\n",
    "      mannwhitneyu(t0, t1, alternative=\"two-sided\")\n",
    "    ]\n",
    "    \n",
    "    pvalues = [result.pvalue for result in stat_results]\n",
    "\n",
    "    # Perform FDR correction using Benjamini-Hochberg procedure\n",
    "    reject_null, corrected_p_values1, _, _ = multipletests(pvalues, method='fdr_bh')\n",
    "\n",
    "    print(score + \" Score:\")\n",
    "    print(\"T0/-ICI vs. T1/+ICI: \\n\", stat_results[0], \"\\n\")\n",
    "    print(\"Corrected p-value:\", corrected_p_values1[0])\n",
    "\n",
    "    ##################\n",
    "    # T0 vs. T1 - PD #\n",
    "    ##################\n",
    "\n",
    "    # statistical test (T0 bvs T1)\n",
    "    print(\"T0 vs. T1 - PD\")\n",
    "    # create arrays of each condition\n",
    "    t0 = df_p_pd.loc[(df_p_pd.Condition == \"T0/-ICI\"), score+\"_Score\"].values\n",
    "    t1 = df_p_pd.loc[(df_p_pd.Condition == \"T1/+ICI\"), score+\"_Score\"].values\n",
    "    \n",
    "    \n",
    "    log_t0 = np.log(t0)\n",
    "    log_t1 = np.log(t1)\n",
    "    \n",
    "    # pvalues with scipy:\n",
    "    stat_results = [\n",
    "      mannwhitneyu(t0, t1, alternative=\"two-sided\")\n",
    "    ]\n",
    "    \n",
    "    pvalues = [result.pvalue for result in stat_results]\n",
    "\n",
    "    # Perform FDR correction using Benjamini-Hochberg procedure\n",
    "    reject_null, corrected_p_values2, _, _ = multipletests(pvalues, method='fdr_bh')\n",
    "\n",
    "    print(score + \" Score:\")\n",
    "    print(\"T0/-ICI vs. T1/+ICI: \\n\", stat_results[0], \"\\n\")\n",
    "    print(\"Corrected p-value:\", corrected_p_values2[0])\n",
    "    \n",
    "    #############\n",
    "    # PD vs. SB #\n",
    "    #############\n",
    "\n",
    "    df_p = pdata.obs\n",
    "    df = adata.obs\n",
    "    \n",
    "    # statistical test (PD bvs SD)\n",
    "    print(\"PD vs. SD\")\n",
    "    # create arrays of each condition\n",
    "    t0 = df_p.loc[(df_p.response == \"PD\"), score+\"_Score\"].values\n",
    "    t1 = df_p.loc[(df_p.response == \"SD\"), score+\"_Score\"].values\n",
    "    \n",
    "    \n",
    "    log_t0 = np.log(t0)\n",
    "    log_t1 = np.log(t1)\n",
    "    \n",
    "    # pvalues with scipy:\n",
    "    stat_results = [\n",
    "      mannwhitneyu(t0, t1, alternative=\"two-sided\")\n",
    "    ]\n",
    "    \n",
    "    pvalues = [result.pvalue for result in stat_results]\n",
    "\n",
    "    # Perform FDR correction using Benjamini-Hochberg procedure\n",
    "    reject_null, corrected_p_values3, _, _ = multipletests(pvalues, method='fdr_bh')\n",
    "\n",
    "    print(score + \" Score:\")\n",
    "    print(\"PD vs. SD: \\n\", stat_results[0], \"\\n\")\n",
    "    print(\"Corrected p-value:\", corrected_p_values3[0])\n",
    "    \n",
    "    ##############################\n",
    "    # -ICI vs. +ICI/PD & +ICI/SD #\n",
    "    ##############################\n",
    "   \n",
    "    # create arrays of each condition\n",
    "    t0 = df_p.loc[(df_p.ICI_status == \"-ICI\"), score+\"_Score\"].values\n",
    "    pd = df_p.loc[(df_p.ICI_status == \"+ICI/PD\"), score+\"_Score\"].values\n",
    "    sd = df_p.loc[(df_p.ICI_status == \"+ICI/SD\"), score+\"_Score\"].values\n",
    "    \n",
    "    log_t0 = np.log(t0)\n",
    "    log_pd = np.log(pd)\n",
    "    log_sd = np.log(sd)\n",
    "    \n",
    "    # pvalues with scipy:\n",
    "    stat_results = [\n",
    "      mannwhitneyu(t0, pd, alternative=\"two-sided\"),\n",
    "      mannwhitneyu(pd, sd, alternative=\"two-sided\"),\n",
    "      mannwhitneyu(t0, sd, alternative=\"two-sided\")\n",
    "    ]\n",
    "    \n",
    "    pvalues = [result.pvalue for result in stat_results]\n",
    "\n",
    "    # Perform FDR correction using Benjamini-Hochberg procedure\n",
    "    reject_null, corrected_p_values4, _, _ = multipletests(pvalues, method='fdr_bh')\n",
    "\n",
    "    print(\"-ICI vs. +ICI/PD: \\n\", stat_results[0], \"\\n\")\n",
    "    print(\"Corrected p-value:\", corrected_p_values4[0])\n",
    "    print(\"+ICI/PD vs. +ICI/SD: \\n\", stat_results[1], \"\\n\")\n",
    "    print(\"Corrected p-value:\", corrected_p_values4[1])\n",
    "    print(\"-ICI vs. +ICI/SD: \\n\", stat_results[2], \"\\n\")\n",
    "    print(\"Corrected p-value:\", corrected_p_values4[2])\n",
    "\n",
    "\n",
    "    # logarize scores for better visualization\n",
    "    constant_df = abs(df[score+'_Score'].min()) + 1\n",
    "    constant_df_pd = abs(df_pd[score+'_Score'].min()) + 1\n",
    "    df[score+'_Score_positive'] = df[score+'_Score'] + constant_df\n",
    "    df_pd[score+'_Score_positive'] = df_pd[score+'_Score'] + constant_df_pd\n",
    "    # Compute log2 after adding the constant\n",
    "    df['log2_'+score+'_Score'] = np.log2(df[score+'_Score_positive'])\n",
    "    df_pd['log2_'+score+'_Score'] = np.log2(df_pd[score+'_Score_positive'])\n",
    "\n",
    "    #########\n",
    "    # PLOTS #\n",
    "    #########\n",
    "    \n",
    "    # Create subplots\n",
    "    fig, axes = plt.subplots(1, 5, figsize=(18, 3)) \n",
    "\n",
    "    def p_value_to_symbol(p_value):\n",
    "        if p_value <= 1.00e-4:\n",
    "            return \"****\"\n",
    "        elif p_value <= 1.00e-3:\n",
    "            return \"***\"\n",
    "        elif p_value <= 1.00e-2:\n",
    "            return \"**\"\n",
    "        elif p_value <= 5.00e-2:\n",
    "            return \"*\"\n",
    "        else:\n",
    "            return \"ns\"\n",
    "    \n",
    "\n",
    "\n",
    "    # second subplot\n",
    "        \n",
    "    pairs = [(\"T0/-ICI\", \"T1/+ICI\")]\n",
    "    #axes[1]=get_log_ax()\n",
    "    hue_plot_params = {\n",
    "            \"data\":df, \n",
    "            \"x\":\"Condition\", \n",
    "            \"y\":'log2_'+score+'_Score',            \n",
    "            \"inner\":\"box\", \n",
    "            \"hue\":\"Condition\", \n",
    "            \"palette\":[\"coral\",\"darkviolet\"], \n",
    "            \"edgecolor\":\"black\", \n",
    "            \"alpha\":0.7\n",
    "    }\n",
    "    sns.violinplot(ax=axes[0], **hue_plot_params)\n",
    "    axes[0].set_title(\"Timepoint (PD+SD)\")\n",
    "    axes[0].set_ylabel('log2('+score+\" Score)\")\n",
    "    axes[0].set_xlabel(\"\")\n",
    "    ymax = df['log2_'+score+'_Score'].max()\n",
    "    axes[0].plot([0, 0, 1, 1], [ymax+.4, ymax+.5, ymax+.5, ymax+.4], lw=1, color='black')\n",
    "    axes[0].text(.5, ymax+.5, f\" {p_value_to_symbol(corrected_p_values1[0])}\", ha='center', va='bottom', size=9)\n",
    "\n",
    "    \n",
    "    # third subplot\n",
    "        \n",
    "    pairs = [(\"T0/-ICI\", \"T1/+ICI\")]\n",
    "    #axes[1]=get_log_ax()\n",
    "    hue_plot_params = {\n",
    "            \"data\":df_pd, \n",
    "            \"x\":\"Condition\", \n",
    "            \"y\":'log2_'+score+'_Score',            \n",
    "            \"inner\":\"box\", \n",
    "            \"hue\":\"Condition\", \n",
    "            \"palette\":[\"coral\",\"darkviolet\"], \n",
    "            \"edgecolor\":\"black\", \n",
    "            \"alpha\":0.7\n",
    "    }\n",
    "    sns.violinplot(ax=axes[1], **hue_plot_params)\n",
    "    axes[1].set_title(\"Timepoint (PD)\")\n",
    "    axes[1].set_ylabel(\"\")\n",
    "    axes[1].set_xlabel(\"\")\n",
    "    ymax = df_pd['log2_'+score+'_Score'].max()\n",
    "    axes[1].plot([0, 0, 1, 1], [ymax+.4, ymax+.5, ymax+.5, ymax+.4], lw=1, color='black')\n",
    "    axes[1].text(.5, ymax+.5, f\" {p_value_to_symbol(corrected_p_values2[0])}\", ha='center', va='bottom', size=9)\n",
    "\n",
    "    \n",
    "    # forth subplot\n",
    "    \n",
    "    pairs = [(\"PD\", \"SD\")]\n",
    "    #axes[1]=get_log_ax()\n",
    "    hue_plot_params = {\n",
    "            \"data\":df, \n",
    "            \"x\":\"response\", \n",
    "            \"y\":'log2_'+score+'_Score',            \n",
    "            \"inner\":\"box\", \n",
    "            \"hue\":\"response\", \n",
    "            \"palette\":[\"mistyrose\", \"lavender\"], \n",
    "            \"edgecolor\":\"black\", \n",
    "            \"alpha\":0.7\n",
    "    }\n",
    "    sns.violinplot(ax=axes[2], **hue_plot_params)\n",
    "    axes[2].set_title(\"Response\")\n",
    "    axes[2].set_ylabel(\"\")\n",
    "    axes[2].set_xlabel(\"\")\n",
    "    ymax = df['log2_'+score+'_Score'].max()\n",
    "    axes[2].plot([0, 0, 1, 1], [ymax+.4, ymax+.5, ymax+.5, ymax+.4], lw=1, color='black')\n",
    "    axes[2].text(.5, ymax+.5, f\" {p_value_to_symbol(corrected_p_values3[0])}\", ha='center', va='bottom', size=9)\n",
    "\n",
    "    \n",
    "    # fifth subplot\n",
    "        \n",
    "    # prepare significance annotation\n",
    "    pairs = [(\"-ICI\", \"+ICI/PD\"), (\"+ICI/PD\", \"+ICI/SD\"), (\"-ICI\", \"+ICI/SD\")]\n",
    "    #axes[0]=get_log_ax()\n",
    "    hue_plot_parameters = {\n",
    "            \"data\":df, \n",
    "            \"x\":\"ICI_status\", \n",
    "            \"y\":'log2_'+score+'_Score', \n",
    "            \"inner\":\"box\", \n",
    "            \"hue\":\"ICI_status\", \n",
    "            \"palette\":[\"red\", \"blue\", \"snow\"], \n",
    "            \"edgecolor\":\"black\",\n",
    "            \"alpha\":0.7, \n",
    "    }\n",
    "    sns.violinplot(ax=axes[3], **hue_plot_parameters)\n",
    "    axes[3].set_title(\"ICI Status\")\n",
    "    axes[3].set_ylabel(\"\")\n",
    "    axes[3].set_xlabel(\"\")\n",
    "    ymax = df['log2_'+score+'_Score'].max()\n",
    "    axes[3].plot([0, 0, 2, 2], [ymax+1, ymax+1.1, ymax+1.1, ymax+1], lw=1, color='black')\n",
    "    axes[3].text(1, ymax+1.1, f\" {p_value_to_symbol(corrected_p_values4[0])}\", ha='center', va='bottom', size=9)\n",
    "    axes[3].plot([0, 0, 1, 1], [ymax+.7, ymax+.8, ymax+.8, ymax+.7], lw=1, color='black')\n",
    "    axes[3].text(0.5, ymax+.8, f\" {p_value_to_symbol(corrected_p_values4[1])}\", ha='center', va='bottom', size=9)\n",
    "    axes[3].plot([1, 1, 2, 2], [ymax+0.4, ymax+.5, ymax+.5, ymax+0.4], lw=1, color='black')\n",
    "    axes[3].text(1.5, ymax+.5, f\" {p_value_to_symbol(corrected_p_values4[2])}\", ha='center', va='bottom', size=9)\n",
    "\n",
    "    # first plot\n",
    "    sc.pl.umap(\n",
    "            adata,\n",
    "            color=score+\"_Score\",\n",
    "            vmin=0,\n",
    "            vmax=\"p99\",  \n",
    "            sort_order=True,  \n",
    "            frameon=True,\n",
    "            use_raw=False,\n",
    "            cmap=\"viridis\",\n",
    "            ax=axes[4],\n",
    "            title=score+\" Score\"\n",
    "        )\n",
    "    \n",
    "    # Adjust layout\n",
    "    plt.tight_layout()\n",
    "\n",
    "    plt.show()\n",
    "    \n",
    "    # Show plot\n",
    "    fig.savefig(os.path.join(fig_dir,score+\"_Score_ICI_status_Condition_Violin_UMAP.pdf\"), dpi=600, format=\"pdf\", bbox_inches=\"tight\")"
   ]
  },
  {
   "cell_type": "code",
   "execution_count": null,
   "id": "d0144939-b8c1-482d-a73e-1f878836f55a",
   "metadata": {},
   "outputs": [],
   "source": [
    "print(df_p_pd.loc[(df_p_pd.Condition == \"T0/-ICI\"), \"Annotation_2.0\"].value_counts())\n",
    "print(df_p_pd.loc[(df_p_pd.Condition != \"T0/-ICI\"), \"Annotation_2.0\"].value_counts())"
   ]
  },
  {
   "cell_type": "code",
   "execution_count": null,
   "id": "d0d6d4ea-4c7d-401a-81e5-7ce4b7bc75bf",
   "metadata": {},
   "outputs": [],
   "source": [
    "subprojects = df_p['subproject'].unique()\n",
    "subprojects\n",
    "cell_types_per_subproject = {subproject: set(df_p[df_p['subproject'] == subproject]['Annotation_2.0']) for subproject in subprojects}\n",
    "cell_types_per_subproject"
   ]
  },
  {
   "cell_type": "code",
   "execution_count": null,
   "id": "c7921ac4-fe08-4e00-81ec-92a09cc694d2",
   "metadata": {},
   "outputs": [],
   "source": [
    "subprojects = df_p['subproject'].unique()\n",
    "cell_types_per_subproject = {subproject: set(df_p[df_p['subproject'] == subproject]['Annotation_2.0']) for subproject in subprojects}\n",
    "common_cell_types = set.intersection(*cell_types_per_subproject.values())\n",
    "df_p = df_p[df_p['Annotation_2.0'].isin(common_cell_types)]"
   ]
  },
  {
   "cell_type": "code",
   "execution_count": null,
   "id": "cfc00913-c7f2-4df7-a113-790df2c16468",
   "metadata": {},
   "outputs": [],
   "source": [
    "df_p.loc[df_p['Condition'] == 'T0/-ICI']['Annotation_2.0']"
   ]
  },
  {
   "cell_type": "markdown",
   "id": "abc2b583-7019-4fc2-9998-88ede8948d39",
   "metadata": {},
   "source": [
    "## Plot Proliferation"
   ]
  },
  {
   "cell_type": "code",
   "execution_count": null,
   "id": "79876339-9129-4f2b-8578-884419ef0e55",
   "metadata": {},
   "outputs": [],
   "source": [
    "sc.pl.dotplot(\n",
    "    adata,\n",
    "    groupby=\"patient\",\n",
    "    var_names=\"Proliferation_Score\",\n",
    "    standard_scale=\"var\", \n",
    "    use_raw=False,\n",
    "    cmap=\"RdYlBu\"\n",
    ")"
   ]
  },
  {
   "cell_type": "code",
   "execution_count": null,
   "id": "f0ed5937-63ca-46ac-83f3-9ae972bc6a89",
   "metadata": {},
   "outputs": [],
   "source": [
    "sc.pl.dotplot(\n",
    "    adata,\n",
    "    groupby=\"Condition\",\n",
    "    var_names=\"Proliferation_Score\",\n",
    "    standard_scale=\"var\", \n",
    "    use_raw=False,\n",
    "    cmap=\"RdYlBu\"\n",
    ")"
   ]
  },
  {
   "cell_type": "markdown",
   "id": "addecd0f-4aab-434c-a1de-47772e3be66a",
   "metadata": {},
   "source": [
    "## Pro-Infl. vs. Anti-Infl. Scatter Plot"
   ]
  },
  {
   "cell_type": "code",
   "execution_count": null,
   "id": "d2b9c345-e8c5-4069-b128-dec85ffdfea0",
   "metadata": {},
   "outputs": [],
   "source": [
    "# read annotated object\n",
    "adata = sc.read_h5ad(os.path.join(work_dir, \"data\", \"outputdata\", \"combined\", \"Combined_SCR_CO2_Myeloid_annotated_18-04-24.h5ad\"))"
   ]
  },
  {
   "cell_type": "code",
   "execution_count": null,
   "id": "1456117d-263c-4b00-bb4d-92f322c3e930",
   "metadata": {},
   "outputs": [],
   "source": [
    "# change saving figures dir\n",
    "fig_dir = os.path.join(work_dir, \"figures\", \"TFM\", \"Fig5/\")"
   ]
  },
  {
   "cell_type": "code",
   "execution_count": null,
   "id": "ff1d416a-10f8-4f12-af84-64d111ca7b11",
   "metadata": {},
   "outputs": [],
   "source": [
    "adata.obs[\"Annotation_2.0\"].unique()"
   ]
  },
  {
   "cell_type": "code",
   "execution_count": null,
   "id": "4cc78a44-f7f8-49c4-9e00-203b0b15778c",
   "metadata": {},
   "outputs": [],
   "source": [
    "# create pseudobulks\n",
    "pdata= dc.get_pseudobulk(\n",
    "    adata,#adata[adata.obs[\"Annotation_2.0\"].isin([\"LA TAM\", \"Angio-TAM\", \"Angio TAM-like\", \"Anti-Inflam TAM\", \"TRM Kupffer TAM\"])],\n",
    "    sample_col='sample', #timepoint + patient\n",
    "    groups_col='subproject',\n",
    "    layer='rawcounts',\n",
    "    mode='sum',\n",
    "    min_cells=10,\n",
    "    min_counts=1000,\n",
    ")\n",
    "pdata"
   ]
  },
  {
   "cell_type": "code",
   "execution_count": null,
   "id": "7973caeb-d543-447c-8823-3b8996c54a17",
   "metadata": {},
   "outputs": [],
   "source": [
    "# define signatures\n",
    "\n",
    "signatures = {  \n",
    "\n",
    "    \"Pro-Inflam\": [\"C1QA\",\"C1QC\",\"CCL2\",\"IL1B\",\"CCL4\",\"CCL7\",\"CCL8\",\"NFKB1\",\"CD40\", \"CXCL2\", \"CXCL3\", \"CXCL9\", \"CXCL10\",\"CXCL11\",\"IDO1\",\"NFKBIA\", \"TNF\",\"CXCL8\",\"G0S2\",\"IL6\",\"INHBA\",\"S100A8\",\"S100A9\"],\n",
    "    \"Anti-Inflam\": [\"SELENOP\", \"MRC1\", \"CCL18\",\"CD163\", \"CD209\", \"ARG1\", \"IL10\", \"CD274\",\"CHIT1\",  \"RNASE1\", \"TREM2\", \"IL10\", \"ITGA4\", \"LGALS9\", \"MARCO\", \"TGFB2\", \"TGFB1\", \"CSF1R\", \"CSF1\", \"SPP1\",\"TREM2\"],\n",
    "    \n",
    "}\n"
   ]
  },
  {
   "cell_type": "code",
   "execution_count": null,
   "id": "ad6fe576-35eb-43b8-944a-ce68263c5f1d",
   "metadata": {},
   "outputs": [],
   "source": [
    "for signature in signatures:\n",
    "    print(signature + \" Done!\")\n",
    "    compute_signature_score(pdata, gene_set=signatures[signature], score_name=signature+\"_Score\", palette=\"viridis\", plot=False)"
   ]
  },
  {
   "cell_type": "code",
   "execution_count": null,
   "id": "6c57644d-3178-47b1-acdc-c02981c94791",
   "metadata": {},
   "outputs": [],
   "source": [
    "pdata.obs"
   ]
  },
  {
   "cell_type": "code",
   "execution_count": null,
   "id": "86d456e0-f628-404b-aa58-b81a5e484d3c",
   "metadata": {},
   "outputs": [],
   "source": [
    "fig_dir"
   ]
  },
  {
   "cell_type": "code",
   "execution_count": null,
   "id": "9b60d3d8-f2b6-42bb-8e53-24ffbc9887c3",
   "metadata": {},
   "outputs": [],
   "source": [
    "import seaborn as sns\n",
    "sns.set_theme(style=\"white\")\n",
    "\n",
    "fig=sns.relplot(x=\"Pro-Inflam_Score\", y=\"Anti-Inflam_Score\", style=\"timepoint\", \n",
    "            size=\"psbulk_n_cells\", hue=\"patient\",           \n",
    "            sizes=(40, 400), alpha=.5, palette=\"muted\",\n",
    "            height=5, data=pdata.obs)\n",
    "fig.savefig(os.path.join(fig_dir,\"Anti_vs_Pro_Inflam_ScatterPlot_TAM.pdf\"), dpi=600, format=\"pdf\", bbox_inches=\"tight\")"
   ]
  },
  {
   "cell_type": "code",
   "execution_count": null,
   "id": "1cb62450-d773-4e00-a3f5-7eb3a8bef86e",
   "metadata": {},
   "outputs": [],
   "source": [
    "def rgb_to_hex(rgb):\n",
    "    return '#{:02x}{:02x}{:02x}'.format(int(rgb[0] * 255), int(rgb[1] * 255), int(rgb[2] * 255))\n",
    "\n",
    "colors = [\n",
    "    rgb_to_hex((0.9139561707035756, 0.36239907727797, 0.27935409457900806)),  # #e95c47\n",
    "    rgb_to_hex((0.9934640522875817, 0.7477124183006535, 0.4352941176470587)),  # #fce067\n",
    "    rgb_to_hex((0.998077662437524, 0.9992310649750096, 0.7460207612456747)),  # #feffbd\n",
    "    rgb_to_hex((0.7477124183006538, 0.8980392156862746, 0.6274509803921569)),  # #c0e4a1\n",
    "    rgb_to_hex((0.3280276816608997, 0.6805074971164936, 0.6802768166089965))   # #539d99\n",
    "]\n",
    "import seaborn as sns\n",
    "sns.set_theme(style=\"white\")\n",
    "\n",
    "# Define your color palette\n",
    "palette = {\n",
    "    '01': colors[0],\n",
    "    '02': colors[1],\n",
    "    '03': colors[2],\n",
    "    '08': colors[3],\n",
    "    '10': colors[4]\n",
    "}\n",
    "\n",
    "# Plot\n",
    "fig = sns.relplot(\n",
    "    x=\"Pro-Inflam_Score\",\n",
    "    y=\"Anti-Inflam_Score\",\n",
    "    style=\"timepoint\",\n",
    "    size=\"psbulk_n_cells\",\n",
    "    hue=\"patient\",\n",
    "    sizes=(40, 400),\n",
    "    alpha=.5,\n",
    "    palette=palette,\n",
    "    height=6,\n",
    "    data=pdata.obs, \n",
    ")\n",
    "#fig.set_size_inches(3, 3)\n",
    "fig.savefig(os.path.join(fig_dir, \"Anti_vs_Pro_Inflam_ScatterPlot_TAM.pdf\"), dpi=600, format=\"pdf\", bbox_inches=\"tight\")\n"
   ]
  },
  {
   "cell_type": "markdown",
   "id": "a20918ed-f66e-469e-86a8-576e9bc39dc4",
   "metadata": {},
   "source": [
    "## Thesis / Poster Plots"
   ]
  },
  {
   "cell_type": "code",
   "execution_count": null,
   "id": "6e0a986e-ae45-4390-8abc-7701ea0e1817",
   "metadata": {},
   "outputs": [],
   "source": [
    "# set figure params\n",
    "work_dir = \"/scratch_isilon/groups/singlecell/gdeuner/SERPENTINE/\"\n",
    "fig_dir = os.path.join(work_dir, \"figures\", \"TFM\", \"Fig5\")\n",
    "sc.settings.figdir = os.path.join(work_dir, \"figures\", \"TFM\", \"Fig5\")\n",
    "sc.set_figure_params(dpi=120, dpi_save=600, format='pdf', frameon=False, figsize=(3,3))"
   ]
  },
  {
   "cell_type": "code",
   "execution_count": null,
   "id": "aa519f29-b20f-4b3e-a842-4b5b39d8be25",
   "metadata": {},
   "outputs": [],
   "source": [
    "# read anndata object\n",
    "adata = sc.read_h5ad(os.path.join(work_dir, \"data\", \"outputdata\", \"combined\", \"Combined_SCR_CO2_Myeloid_annotated_18-04-24.h5ad\"))"
   ]
  },
  {
   "cell_type": "code",
   "execution_count": null,
   "id": "123ad511-b26f-4431-b633-55b07d42edec",
   "metadata": {},
   "outputs": [],
   "source": [
    "# count number of cells\n",
    "adata"
   ]
  },
  {
   "cell_type": "code",
   "execution_count": null,
   "id": "fdf9cf8a-0094-4e1d-92ff-c0269b14a436",
   "metadata": {},
   "outputs": [],
   "source": [
    "# Basic Annotation UMAP\n",
    "sc.pl.umap(\n",
    "        adata,\n",
    "        color=\"Annotation_2.0\",\n",
    "        vmin=0,\n",
    "        vmax=\"p99\",  \n",
    "        sort_order=False,  \n",
    "        frameon=False,\n",
    "        use_raw=False,\n",
    "        palette=\"tab20\",\n",
    "        title=\"Myeloid Cells (31013)\",\n",
    "        legend_fontsize=8,\n",
    "        legend_loc=\"right margin\",\n",
    "        save = \"_Myeloid_Annotation_2.0.pdf\"\n",
    ")"
   ]
  },
  {
   "cell_type": "code",
   "execution_count": null,
   "id": "601f4460-e583-4a4a-beb8-07557bbc6efa",
   "metadata": {},
   "outputs": [],
   "source": [
    "# marker genes dictionary\n",
    "marker_genes_dict = {\n",
    "\n",
    "            \"Mono\":               [\"FCN1\", \"LYZ\"],       # Mono\n",
    "            \"CD14 Mono\":          [\"CD14\", \"S100A9\"],      # CD14 Mono\n",
    "            \"CD16 Mono\":          [\"FCGR3A\", \"CX3CR1\"],     # CD16 Mono\n",
    "            \"TAM\":                [\"CD68\", \"SPP1\", \"C1QC\", \"TREM2\"],       # Macro\n",
    "            \"Pro-Inflam\":         [\"IL1B\", \"TNF\", \"NOS2\", \"CXCL10\"],       # Inflam. TAM\n",
    "            \"Anti-Inflam\":        [\"IL10\", \"ARG1\", \"CD163\", \"MRC1\"],\n",
    "            \"Lipid Met\":          [\"APOE\", \"APOC1\"],       # LA-TAM\n",
    "            \"Angiogenesis\":       [\"VCAN\", \"VEGFA\"],       # Angio. TAM\n",
    "            \"TRM-Kuppfer\":        [\"CD5L\", \"MARCO\"],       # TRM Kupffer-like TAM\n",
    "            \"Regulatory\":         [\"CX3CR1\", \"CD274\"],     # Reg-TAM\n",
    "            \"IFN Response\":       [\"ISG15\", \"IFIT1\"],      # IFN-TAM\n",
    "            \"Proliferation\":      [\"MKI67\", \"TOP2A\"],      # Prolif. TAM\n",
    "            \"cDC1\":               [\"CLEC9A\", \"BATF3\"],     # cDC1\n",
    "            \"cDC2\":               [\"CD1C\", \"CLEC10A\"],       # cDC2\n",
    "            \"cDC3\":               [\"CCR7\", \"LAMP3\"],\n",
    "            \"pDC\":                [\"LILRA4\", \"IL3RA\"],     # pDCs\n",
    "            \"Mast\":               [\"TPSAB1\"],     # Mast\n",
    "            \"Neutrophil\":         [\"FCGR3B\", \"CSF3R\", \"G0S2\"] # https://www.ncbi.nlm.nih.gov/pmc/articles/PMC9767679/\n",
    "    \n",
    "}"
   ]
  },
  {
   "cell_type": "code",
   "execution_count": null,
   "id": "a9a96007-e320-44f4-9662-db542d62605d",
   "metadata": {},
   "outputs": [],
   "source": [
    "# order cat values\n",
    "order = ['CD14 Mono', 'CD16 Mono', 'CD14 CD16 Mono', 'Anti-Inflam TAM', 'LA TAM', 'TRM Kupffer TAM', 'Angio TAM', 'Angio TAM-like', 'cDC1', 'cDC2', 'cDC3', 'pDC', 'pDC-like', 'Mas', 'Neutrophil']\n",
    "adata.obs['Annotation_2.0'] = pd.Categorical(adata.obs['Annotation_2.0'], categories=order)"
   ]
  },
  {
   "cell_type": "code",
   "execution_count": null,
   "id": "02befad3-c552-4826-8b57-738573fe43fe",
   "metadata": {},
   "outputs": [],
   "source": [
    "# dotplot of marker genes\n",
    "sc.pl.dotplot(\n",
    "    adata,\n",
    "    groupby=\"Annotation_2.0\",\n",
    "    var_names=marker_genes_dict,\n",
    "    standard_scale=\"var\", \n",
    "    use_raw=False,\n",
    "    cmap=\"Blues\",\n",
    "    save=\"Clusters_Markers_Dotplot.pdf\"\n",
    ")"
   ]
  },
  {
   "cell_type": "code",
   "execution_count": null,
   "id": "87bed268-1113-48f6-918f-d922b9939282",
   "metadata": {},
   "outputs": [],
   "source": [
    "markers = [\"FCN1\", \"CD14\", \"TPSAB1\", \"CD1C\", \"LILRA4\", \"FCGR3B\"]\n",
    "sc.pl.umap(\n",
    "        adata,\n",
    "        color=markers,\n",
    "        vmin=0,\n",
    "        vmax=\"p99\",  \n",
    "        sort_order=True,  \n",
    "        frameon=True,\n",
    "        use_raw=False,\n",
    "        #title=[\"CD80 (B7.1)\", \"CD86 (B7.2)\", \"CD28\", \"CTLA4\", \"CD274 (PDL1)\", \"PDCD1 (PD1)\"],\n",
    "        #legend_loc=\"on data\",\n",
    "        save=\"Markers.pdf\",\n",
    "        legend_loc=None,\n",
    "        colorbar_loc=None,\n",
    "        cmap = \"Blues\",\n",
    "        add_outline=False,\n",
    "        ncols=3, \n",
    ")"
   ]
  }
 ],
 "metadata": {
  "kernelspec": {
   "display_name": "Python 3 (ipykernel)",
   "language": "python",
   "name": "python3"
  },
  "language_info": {
   "codemirror_mode": {
    "name": "ipython",
    "version": 3
   },
   "file_extension": ".py",
   "mimetype": "text/x-python",
   "name": "python",
   "nbconvert_exporter": "python",
   "pygments_lexer": "ipython3",
   "version": "3.9.18"
  }
 },
 "nbformat": 4,
 "nbformat_minor": 5
}
