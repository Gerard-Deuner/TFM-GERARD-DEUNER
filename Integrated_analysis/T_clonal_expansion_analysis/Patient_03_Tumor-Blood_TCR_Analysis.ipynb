{
 "cells": [
  {
   "cell_type": "markdown",
   "id": "dba82aa9-7f3a-40e7-92f7-f0041cde5fba",
   "metadata": {},
   "source": [
    "# Patient 03 Tumor & Tumor-Blood Matching TCR Analysis"
   ]
  },
  {
   "cell_type": "code",
   "execution_count": null,
   "id": "4f688fd5-7544-467a-a0f0-c0f6a86757c0",
   "metadata": {},
   "outputs": [],
   "source": [
    "# load packages\n",
    "import sys\n",
    "import scanpy as sc\n",
    "import os\n",
    "import sys\n",
    "import numpy as np\n",
    "import matplotlib.pyplot as plt\n",
    "import pandas as pd\n",
    "import matplotlib.cm as cm\n"
   ]
  },
  {
   "cell_type": "code",
   "execution_count": null,
   "id": "b19dac27-713b-453b-95e0-2e27907b7e34",
   "metadata": {},
   "outputs": [],
   "source": [
    "# remove warnings\n",
    "import warnings\n",
    "warnings.filterwarnings('ignore')"
   ]
  },
  {
   "cell_type": "code",
   "execution_count": null,
   "id": "30047618-2a47-4dd4-9596-ec2e2a2e196c",
   "metadata": {},
   "outputs": [],
   "source": [
    "# set up figure parameters\n",
    "plt.rcParams['figure.figsize'] = (3.0, 3.0)\n",
    "sc.settings.verbosity = 0\n",
    "sc.set_figure_params(dpi=120, dpi_save=600, format='png', figsize=(3, 3))"
   ]
  },
  {
   "cell_type": "code",
   "execution_count": null,
   "id": "6b0f557e-4247-4a61-bee3-215f52980ae7",
   "metadata": {},
   "outputs": [],
   "source": [
    "# set working and fig dir\n",
    "work_dir = \"/scratch_isilon/groups/singlecell/gdeuner/SERPENTINE/data/TCR_tumor_blood_analysis/Patient_03\"\n",
    "sc.settings.figdir = os.path.join(work_dir, \"plots\")\n",
    "fig_dir = os.path.join(work_dir, \"plots\")"
   ]
  },
  {
   "cell_type": "code",
   "execution_count": null,
   "id": "2d218ad6-8c85-405f-9533-3e92662efa2a",
   "metadata": {},
   "outputs": [],
   "source": [
    "# read anndata object\n",
    "adata = sc.read_h5ad(\"/scratch_isilon/groups/singlecell/gdeuner/SERPENTINE/data/outputdata/Patient_03/P03_TNK_TCR_updated_07-05-24.h5ad\")\n",
    "adata"
   ]
  },
  {
   "cell_type": "code",
   "execution_count": null,
   "id": "38674e82-e896-4d08-9fba-3bb1caccf762",
   "metadata": {},
   "outputs": [],
   "source": [
    "adata.obs"
   ]
  },
  {
   "cell_type": "code",
   "execution_count": null,
   "id": "fb9eb516-d0ab-4d27-88db-a8bc44a37403",
   "metadata": {},
   "outputs": [],
   "source": [
    "adata.obs[\"Annotation_2.0\"].unique()"
   ]
  },
  {
   "cell_type": "code",
   "execution_count": null,
   "id": "0074158e-2a03-45db-af0d-98ff6393aa66",
   "metadata": {},
   "outputs": [],
   "source": [
    "# basic T cells annotation\n",
    "sc.pl.umap(\n",
    "        adata,\n",
    "        color=\"cell_type\",\n",
    "        vmin=0,\n",
    "        vmax=\"p99\",  \n",
    "        sort_order=False,  \n",
    "        frameon=False,\n",
    "        use_raw=False,\n",
    "        title=\"Basic T Cells Annotation\",\n",
    "        legend_fontsize=8,\n",
    "        save = \"_P03_Basic_T_Cells_Annotation.png\" \n",
    ")"
   ]
  },
  {
   "cell_type": "code",
   "execution_count": null,
   "id": "b9778587-e879-4457-a3c2-b7c26b4994d6",
   "metadata": {},
   "outputs": [],
   "source": [
    "# plot annotation 2.0\n",
    "sc.pl.umap(\n",
    "        adata,\n",
    "        color=\"Annotation_2.0\",\n",
    "        vmin=0,\n",
    "        vmax=\"p99\",  \n",
    "        sort_order=False,  \n",
    "        frameon=False,\n",
    "        use_raw=False,\n",
    "        title=\"T Cells Annotation\",\n",
    "        legend_fontsize=8,\n",
    "        save = \"_P03_Refined_T_Cells_Annotation.png\"\n",
    ")"
   ]
  },
  {
   "cell_type": "code",
   "execution_count": null,
   "id": "240f8ff0-4398-4357-b263-4f6ca258c983",
   "metadata": {},
   "outputs": [],
   "source": [
    "adata.obs['cloneSize'].unique()"
   ]
  },
  {
   "cell_type": "code",
   "execution_count": null,
   "id": "3d0592cf-4291-4002-97da-dc6400f5b36a",
   "metadata": {},
   "outputs": [],
   "source": [
    "# order cloneSize var\n",
    "legend_order = ['Hyperexpanded (50 < X <= 274)', 'Large (20 < X <= 50)', 'Medium (5 < X <= 20)',\n",
    "               'Small (1 < X <= 5)', 'Single (0 < X <= 1)', 'NA']\n",
    "adata.obs['cloneSize'] = pd.Categorical(adata.obs['cloneSize'], categories=legend_order)\n",
    "#adata.obs['cloneSize'] = np.array(adata.obs['cloneSize'])"
   ]
  },
  {
   "cell_type": "code",
   "execution_count": null,
   "id": "2ed6d0af-dc54-40b6-ab14-c3faeb1a2f46",
   "metadata": {},
   "outputs": [],
   "source": [
    "color_map = cm.get_cmap('inferno')\n",
    "colorblind_vector = [color_map(i/4) for i in range(4, -1, -1)]\n",
    "colorblind_vector.append(\"grey\")\n",
    "print(colorblind_vector)"
   ]
  },
  {
   "cell_type": "code",
   "execution_count": null,
   "id": "d5278fa5-cba1-4c91-a2af-0189026e34c9",
   "metadata": {},
   "outputs": [],
   "source": [
    "# create a dictionary of cloneSize colors\n",
    "colorblind_dict = dict(map(lambda i,j : (i,j) , legend_order, colorblind_vector))"
   ]
  },
  {
   "cell_type": "code",
   "execution_count": null,
   "id": "7f3524c0-5c39-4121-b50f-f4be78045aa9",
   "metadata": {},
   "outputs": [],
   "source": [
    "# function to plot multiple umaps next to each other\n",
    "def split_umap(adata_list, split_by, titles, ncol=2, nrow=1, **kwargs):\n",
    "    categories = adata.obs[split_by].cat.categories\n",
    "    if nrow is None:\n",
    "        nrow = int(np.ceil(len(categories) / ncol))\n",
    "    fig, axs = plt.subplots(nrow, ncol, figsize=(4*ncol, 3*nrow)) #5,4\n",
    "    axs = axs.flatten()\n",
    "    for i, cat in enumerate(categories):\n",
    "        ax = axs[i]\n",
    "        if i != len(categories)-1:\n",
    "            sc.pl.umap(adata_list[i][adata_list[i].obs[split_by] == cat], title=titles[i], ax=ax, show=False,  **kwargs)\n",
    "        else:\n",
    "            sc.pl.umap(adata_list[i][adata_list[i].obs[split_by] == cat], title=titles[i], ax=ax, show=False,  **kwargs)\n",
    "\n",
    "    plt.tight_layout()"
   ]
  },
  {
   "cell_type": "code",
   "execution_count": null,
   "id": "0dd4ebbb-d356-4728-b481-e4db7a8a24ea",
   "metadata": {},
   "outputs": [],
   "source": [
    "# Plot clonal expansion dynamics of tumor clonotypes \n",
    "sc.pl.umap(adata, \n",
    "           color=[\"cloneSize\"], \n",
    "           palette=colorblind_dict,\n",
    "           na_color = \"grey\",\n",
    "           frameon=False,\n",
    "           title=\"Tumor Clonotypes\",\n",
    "           legend_fontsize=8,\n",
    "           save=\"_P03_Tumor_Clonotypes_Expansion.png\"\n",
    ")"
   ]
  },
  {
   "cell_type": "code",
   "execution_count": null,
   "id": "cef00c3f-a204-4694-ab7f-481cdb92d33d",
   "metadata": {},
   "outputs": [],
   "source": [
    "# Plot clonal expansion dynamics of blood & tumor matching clonotypes \n",
    "sc.pl.umap(adata[adata.obs.blood == \"TRUE\"],  \n",
    "           color=\"cloneSize\", \n",
    "           palette=colorblind_dict,\n",
    "           frameon=False,\n",
    "           title=\"Tumor-blood Clonotypes\",\n",
    "           legend_fontsize=8,\n",
    "           save=\"_P03_Tumor-Blood_Clonotypes_Expansion.png\"\n",
    ")"
   ]
  },
  {
   "cell_type": "code",
   "execution_count": null,
   "id": "bd48eb1a-814a-4e8f-9ade-e9c49f52bf07",
   "metadata": {},
   "outputs": [],
   "source": [
    "adata.obs['timepoint'].unique()"
   ]
  },
  {
   "cell_type": "code",
   "execution_count": null,
   "id": "7c0d2bb2-0f67-493a-b592-498ec55653d8",
   "metadata": {},
   "outputs": [],
   "source": [
    "# order timepoint var\n",
    "timepoint_order = ['SCR', 'C2']\n",
    "adata.obs['timepoint'] = pd.Categorical(adata.obs['timepoint'], categories=timepoint_order)"
   ]
  },
  {
   "cell_type": "code",
   "execution_count": null,
   "id": "a1ba841b-0274-446f-b3d2-fb2709bc1bdd",
   "metadata": {},
   "outputs": [],
   "source": [
    "# Plot clonal expansion dynamics of blood & tumor matching clonotypes split by timepoint\n",
    "split_umap(adata_list=[adata[adata.obs.blood_pre == \"TRUE\"], adata[adata.obs.blood_post == \"TRUE\"]],\n",
    "           color=\"cloneSize\", \n",
    "           split_by=\"timepoint\",\n",
    "           titles=[\"T0/-ICI\", \"T1/+ICI\"],\n",
    "           palette=colorblind_dict,\n",
    "           frameon=False,\n",
    "           legend_fontsize=8\n",
    "          )\n",
    "plt.savefig(os.path.join(fig_dir, \"umap\" + \"_P03_Tumor-Blood_Clonotypes_Expansion_splitBy_Timepoint.png\"), dpi=300, format=\"png\", bbox_inches=\"tight\")"
   ]
  },
  {
   "cell_type": "code",
   "execution_count": null,
   "id": "ccd663f1-556f-4a10-bee4-c98806abca01",
   "metadata": {},
   "outputs": [],
   "source": [
    "split_umap(adata_list=[adata, adata],\n",
    "           color=[\"compartment_diffExp\"], \n",
    "           split_by=\"timepoint\",\n",
    "           palette=[\"grey\", \"green\", \"red\"],\n",
    "           frameon=False,\n",
    "           titles=[\"T0/-ICI\", \"T1/+ICI\"],\n",
    "           legend_fontsize=8\n",
    ")\n",
    "plt.savefig(os.path.join(fig_dir, \"umap\" + \"_P03_diffExp_tumor-blood_clonotypes.png\"), dpi=300, format=\"png\", bbox_inches=\"tight\")"
   ]
  },
  {
   "cell_type": "code",
   "execution_count": null,
   "id": "d874ba90-c3d7-4f13-accd-31cab9c465f2",
   "metadata": {},
   "outputs": [],
   "source": [
    "adata_filt = adata[adata.obs['compartment_diffExp'] != \"NA\"].copy()\n",
    "tmp = pd.crosstab(adata_filt.obs['cell_type'],adata_filt.obs['compartment_diffExp'], normalize='columns').T.plot(kind='bar', stacked=True, title=\"Proportions\")\n",
    "plt.xlabel(None)\n",
    "tmp.legend(title='Cell Types', bbox_to_anchor=(1.6, 1.02),loc='upper right')\n",
    "plt.savefig(os.path.join(fig_dir, \"P03_basic_cell_types_props.png\"), dpi=300, format=\"png\", bbox_inches=\"tight\")"
   ]
  },
  {
   "cell_type": "code",
   "execution_count": null,
   "id": "8cb5c6f0-00c5-4047-8e45-c67ef415ff88",
   "metadata": {
    "scrolled": true
   },
   "outputs": [],
   "source": [
    "adata_filt = adata[adata.obs['compartment_diffExp'] != \"NA\"].copy()\n",
    "tmp = pd.crosstab(adata_filt.obs['Annotation_2.0'], adata_filt.obs['compartment_diffExp'], normalize='columns').T.plot(kind='bar', stacked=True, title=\"Proportions\")\n",
    "plt.xlabel(None)\n",
    "tmp.legend(title='Cell Types', bbox_to_anchor=(2.2, 1.2),loc='upper right')\n",
    "plt.savefig(os.path.join(fig_dir, \"P03_adv_cell_types_props.png\"), dpi=300, format=\"png\", bbox_inches=\"tight\")"
   ]
  }
 ],
 "metadata": {
  "kernelspec": {
   "display_name": "Python 3 (ipykernel)",
   "language": "python",
   "name": "python3"
  },
  "language_info": {
   "codemirror_mode": {
    "name": "ipython",
    "version": 3
   },
   "file_extension": ".py",
   "mimetype": "text/x-python",
   "name": "python",
   "nbconvert_exporter": "python",
   "pygments_lexer": "ipython3",
   "version": "3.9.18"
  }
 },
 "nbformat": 4,
 "nbformat_minor": 5
}
