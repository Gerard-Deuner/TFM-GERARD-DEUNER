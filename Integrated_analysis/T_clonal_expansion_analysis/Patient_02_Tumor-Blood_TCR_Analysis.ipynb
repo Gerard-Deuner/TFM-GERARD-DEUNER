{
 "cells": [
  {
   "cell_type": "markdown",
   "id": "a15f1751-3a67-4ee6-9838-b1a4db0ea6ab",
   "metadata": {},
   "source": [
    "# Patient 02 Tumor & Tumor-Blood Matching TCR Analysis"
   ]
  },
  {
   "cell_type": "code",
   "execution_count": null,
   "id": "94d5b296-ab5b-4f00-84fb-4cef3dcb2b20",
   "metadata": {},
   "outputs": [],
   "source": [
    "# load packages\n",
    "import sys\n",
    "import scanpy as sc\n",
    "import os\n",
    "import sys\n",
    "import numpy as np\n",
    "import matplotlib.pyplot as plt\n",
    "import pandas as pd\n",
    "import matplotlib.cm as cm\n"
   ]
  },
  {
   "cell_type": "code",
   "execution_count": null,
   "id": "a5e0e344-e723-4ea9-913f-aaecab5470e0",
   "metadata": {},
   "outputs": [],
   "source": [
    "# remove warnings\n",
    "import warnings\n",
    "warnings.filterwarnings('ignore')"
   ]
  },
  {
   "cell_type": "code",
   "execution_count": null,
   "id": "27de0f20-6ce4-4093-9aee-e5b515a84232",
   "metadata": {},
   "outputs": [],
   "source": [
    "# set up figure parameters\n",
    "plt.rcParams['figure.figsize'] = (3.0, 3.0)\n",
    "sc.settings.verbosity = 0\n",
    "sc.set_figure_params(dpi=120, dpi_save=600, format='png', figsize=(3, 3))"
   ]
  },
  {
   "cell_type": "code",
   "execution_count": null,
   "id": "8fc9e904-71dc-45fe-b5e6-275c8510554a",
   "metadata": {},
   "outputs": [],
   "source": [
    "# set working and fig dir\n",
    "work_dir = \"/scratch_isilon/groups/singlecell/gdeuner/SERPENTINE/data/TCR_tumor_blood_analysis/Patient_02\"\n",
    "sc.settings.figdir = os.path.join(work_dir, \"plots\")\n",
    "fig_dir = os.path.join(work_dir, \"plots\")"
   ]
  },
  {
   "cell_type": "code",
   "execution_count": null,
   "id": "b17487e3-6414-49ed-a7a5-5164b677aa19",
   "metadata": {},
   "outputs": [],
   "source": [
    "# read anndata object\n",
    "adata = sc.read_h5ad(\"/scratch_isilon/groups/singlecell/gdeuner/SERPENTINE/data/outputdata/Patient_02/P02_TNK_TCR_updated_07-05-24.h5ad\")\n",
    "adata"
   ]
  },
  {
   "cell_type": "code",
   "execution_count": null,
   "id": "8ad0e6c6-8629-4483-a78a-cad4c06d7272",
   "metadata": {},
   "outputs": [],
   "source": [
    "adata.obs"
   ]
  },
  {
   "cell_type": "code",
   "execution_count": null,
   "id": "6c8df872-aef1-485d-b000-b3236dbd71d4",
   "metadata": {},
   "outputs": [],
   "source": [
    "adata.obs[\"Annotation_2.0\"].unique()"
   ]
  },
  {
   "cell_type": "code",
   "execution_count": null,
   "id": "8a19cf34-bbbb-4091-a994-42334ae3c6b7",
   "metadata": {},
   "outputs": [],
   "source": [
    "# basic T cells annotation\n",
    "sc.pl.umap(\n",
    "        adata,\n",
    "        color=\"cell_type\",\n",
    "        vmin=0,\n",
    "        vmax=\"p99\",  \n",
    "        sort_order=False,  \n",
    "        frameon=False,\n",
    "        use_raw=False,\n",
    "        title=\"Basic T Cells Annotation\",\n",
    "        legend_fontsize=8,\n",
    "        save = \"_P02_Basic_T_Cells_Annotation.png\" \n",
    ")"
   ]
  },
  {
   "cell_type": "code",
   "execution_count": null,
   "id": "0465a832-c849-46ca-a3f9-d72784ed7e9e",
   "metadata": {},
   "outputs": [],
   "source": [
    "# plot annotation 2.0\n",
    "sc.pl.umap(\n",
    "        adata,\n",
    "        color=\"Annotation_2.0\",\n",
    "        vmin=0,\n",
    "        vmax=\"p99\",  \n",
    "        sort_order=False,  \n",
    "        frameon=False,\n",
    "        use_raw=False,\n",
    "        title=\"T Cells Annotation\",\n",
    "        legend_fontsize=8,\n",
    "        save = \"_P02_Refined_T_Cells_Annotation.png\"\n",
    ")"
   ]
  },
  {
   "cell_type": "code",
   "execution_count": null,
   "id": "6a0186d9-96c0-4a93-b24e-a584d9d83115",
   "metadata": {},
   "outputs": [],
   "source": [
    "adata.obs['cloneSize'].unique()"
   ]
  },
  {
   "cell_type": "code",
   "execution_count": null,
   "id": "2526655f-34fe-4167-ab83-23ef60aea894",
   "metadata": {},
   "outputs": [],
   "source": [
    "# order cloneSize var\n",
    "legend_order = ['Hyperexpanded (50 < X <= 100)', 'Large (20 < X <= 50)', 'Medium (5 < X <= 20)',\n",
    "               'Small (1 < X <= 5)', 'Single (0 < X <= 1)', 'NA']\n",
    "adata.obs['cloneSize'] = pd.Categorical(adata.obs['cloneSize'], categories=legend_order)\n",
    "#adata.obs['cloneSize'] = np.array(adata.obs['cloneSize'])"
   ]
  },
  {
   "cell_type": "code",
   "execution_count": null,
   "id": "0e11e37b-dbe6-4cdd-8ab8-ebeb602c7154",
   "metadata": {},
   "outputs": [],
   "source": [
    "color_map = cm.get_cmap('inferno')\n",
    "colorblind_vector = [color_map(i/4) for i in range(4, -1, -1)]\n",
    "colorblind_vector.append(\"grey\")\n",
    "print(colorblind_vector)"
   ]
  },
  {
   "cell_type": "code",
   "execution_count": null,
   "id": "45df4168-f4fc-4336-a843-ed28b54e5aa8",
   "metadata": {},
   "outputs": [],
   "source": [
    "# create a dictionary of cloneSize colors\n",
    "colorblind_dict = dict(map(lambda i,j : (i,j) , legend_order, colorblind_vector))"
   ]
  },
  {
   "cell_type": "code",
   "execution_count": null,
   "id": "eefba4e5-152d-4dae-8ba9-1849846815a6",
   "metadata": {},
   "outputs": [],
   "source": [
    "# function to plot multiple umaps next to each other\n",
    "def split_umap(adata_list, split_by, titles, ncol=2, nrow=1, **kwargs):\n",
    "    categories = adata.obs[split_by].cat.categories\n",
    "    if nrow is None:\n",
    "        nrow = int(np.ceil(len(categories) / ncol))\n",
    "    fig, axs = plt.subplots(nrow, ncol, figsize=(4*ncol, 3*nrow)) #5,4\n",
    "    axs = axs.flatten()\n",
    "    for i, cat in enumerate(categories):\n",
    "        ax = axs[i]\n",
    "        if i != len(categories)-1:\n",
    "            sc.pl.umap(adata_list[i][adata_list[i].obs[split_by] == cat], title=titles[i], ax=ax, show=False,  **kwargs)\n",
    "        else:\n",
    "            sc.pl.umap(adata_list[i][adata_list[i].obs[split_by] == cat], title=titles[i], ax=ax, show=False,  **kwargs)\n",
    "\n",
    "    plt.tight_layout()"
   ]
  },
  {
   "cell_type": "code",
   "execution_count": null,
   "id": "ba6889fa-c7c1-48cb-9a96-69ae8ba47ac3",
   "metadata": {},
   "outputs": [],
   "source": [
    "# Plot clonal expansion dynamics of tumor clonotypes \n",
    "sc.pl.umap(adata, \n",
    "           color=[\"cloneSize\"], \n",
    "           palette=colorblind_dict,\n",
    "           na_color = \"grey\",\n",
    "           frameon=False,\n",
    "           title=\"Tumor Clonotypes\",\n",
    "           legend_fontsize=8,\n",
    "           save=\"_P02_Tumor_Clonotypes_Expansion.png\"\n",
    ")"
   ]
  },
  {
   "cell_type": "code",
   "execution_count": null,
   "id": "203899d6-d66e-40cf-9ffa-7b55ab473dd9",
   "metadata": {},
   "outputs": [],
   "source": [
    "# Plot clonal expansion dynamics of blood & tumor matching clonotypes \n",
    "sc.pl.umap(adata[adata.obs.blood == \"TRUE\"],  \n",
    "           color=\"cloneSize\", \n",
    "           palette=colorblind_dict,\n",
    "           frameon=False,\n",
    "           title=\"Tumor-blood Clonotypes\",\n",
    "           legend_fontsize=8,\n",
    "           save=\"_P02_Tumor-Blood_Clonotypes_Expansion.png\"\n",
    ")"
   ]
  },
  {
   "cell_type": "code",
   "execution_count": null,
   "id": "3c2ca82e-baca-4105-b7f5-25ffc600af1d",
   "metadata": {},
   "outputs": [],
   "source": [
    "adata.obs['timepoint'].unique()"
   ]
  },
  {
   "cell_type": "code",
   "execution_count": null,
   "id": "f9911377-c4b3-4917-a098-763f2c973cd7",
   "metadata": {},
   "outputs": [],
   "source": [
    "# order timepoint var\n",
    "timepoint_order = ['SCR', 'C2']\n",
    "adata.obs['timepoint'] = pd.Categorical(adata.obs['timepoint'], categories=timepoint_order)"
   ]
  },
  {
   "cell_type": "code",
   "execution_count": null,
   "id": "88edb6f6-5afb-4fb8-b639-af5dadb19f04",
   "metadata": {},
   "outputs": [],
   "source": [
    "# Plot clonal expansion dynamics of blood & tumor matching clonotypes split by timepoint\n",
    "split_umap(adata_list=[adata[adata.obs.blood_pre == \"TRUE\"], adata[adata.obs.blood_post == \"TRUE\"]],\n",
    "           color=\"cloneSize\", \n",
    "           split_by=\"timepoint\",\n",
    "           titles=[\"T0/-ICI\", \"T1/+ICI\"],\n",
    "           palette=colorblind_dict,\n",
    "           frameon=False,\n",
    "           legend_fontsize=8\n",
    "          )\n",
    "plt.savefig(os.path.join(fig_dir, \"umap\" + \"_P02_Tumor-Blood_Clonotypes_Expansion_splitBy_Timepoint.png\"), dpi=300, format=\"png\", bbox_inches=\"tight\")"
   ]
  },
  {
   "cell_type": "code",
   "execution_count": null,
   "id": "ad445c22-891a-449b-9718-95587694e37b",
   "metadata": {},
   "outputs": [],
   "source": [
    "split_umap(adata_list=[adata, adata],\n",
    "           color=[\"compartment_diffExp\"], \n",
    "           split_by=\"timepoint\",\n",
    "           palette=[\"grey\", \"green\", \"red\"],\n",
    "           frameon=False,\n",
    "           titles=[\"T0/-ICI\", \"T1/+ICI\"],\n",
    "           legend_fontsize=8\n",
    ")\n",
    "plt.savefig(os.path.join(fig_dir, \"umap\" + \"_P02_diffExp_tumor-blood_clonotypes.png\"), dpi=300, format=\"png\", bbox_inches=\"tight\")"
   ]
  },
  {
   "cell_type": "code",
   "execution_count": null,
   "id": "dbe91d71-8856-4b6a-86d6-98220fa211b2",
   "metadata": {},
   "outputs": [],
   "source": [
    "adata_filt = adata[adata.obs['compartment_diffExp'] != \"NA\"].copy()\n",
    "tmp = pd.crosstab(adata_filt.obs['cell_type'],adata_filt.obs['compartment_diffExp'], normalize='columns').T.plot(kind='bar', stacked=True, title=\"Proportions\")\n",
    "plt.xlabel(None)\n",
    "tmp.legend(title='Cell Types', bbox_to_anchor=(1.6, 1.02),loc='upper right')\n",
    "plt.savefig(os.path.join(fig_dir, \"P02_basic_cell_types_props.png\"), dpi=300, format=\"png\", bbox_inches=\"tight\")"
   ]
  },
  {
   "cell_type": "code",
   "execution_count": null,
   "id": "89dc58f3-ee5c-41be-b40c-8e723475e6fa",
   "metadata": {},
   "outputs": [],
   "source": [
    "adata_filt = adata[adata.obs['compartment_diffExp'] != \"NA\"].copy()\n",
    "tmp = pd.crosstab(adata_filt.obs['Annotation_2.0'], adata_filt.obs['compartment_diffExp'], normalize='columns').T.plot(kind='bar', stacked=True, title=\"Proportions\")\n",
    "plt.xlabel(None)\n",
    "tmp.legend(title='Cell Types', bbox_to_anchor=(2.2, 1.2),loc='upper right')\n",
    "plt.savefig(os.path.join(fig_dir, \"P02_adv_cell_types_props.png\"), dpi=300, format=\"png\", bbox_inches=\"tight\")"
   ]
  }
 ],
 "metadata": {
  "kernelspec": {
   "display_name": "Python 3 (ipykernel)",
   "language": "python",
   "name": "python3"
  },
  "language_info": {
   "codemirror_mode": {
    "name": "ipython",
    "version": 3
   },
   "file_extension": ".py",
   "mimetype": "text/x-python",
   "name": "python",
   "nbconvert_exporter": "python",
   "pygments_lexer": "ipython3",
   "version": "3.9.18"
  }
 },
 "nbformat": 4,
 "nbformat_minor": 5
}
