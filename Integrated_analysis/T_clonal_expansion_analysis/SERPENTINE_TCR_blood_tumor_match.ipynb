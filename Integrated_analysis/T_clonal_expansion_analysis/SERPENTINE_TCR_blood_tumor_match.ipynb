{
 "cells": [
  {
   "cell_type": "markdown",
   "id": "675d7ae7-eb67-493d-bca4-41d84d837801",
   "metadata": {},
   "source": [
    "# SERPENTINE -- Tumor - Blood Matching TCRs"
   ]
  },
  {
   "cell_type": "code",
   "execution_count": null,
   "id": "241b07e3-1cb0-4fe9-b872-65cd5c27909a",
   "metadata": {},
   "outputs": [],
   "source": [
    "# load packages\n",
    "import sys\n",
    "import scanpy as sc\n",
    "import os\n",
    "import sys\n",
    "import numpy as np\n",
    "import matplotlib.pyplot as plt\n",
    "import pandas as pd\n",
    "import matplotlib.cm as cm\n"
   ]
  },
  {
   "cell_type": "code",
   "execution_count": null,
   "id": "b1ec7171-a5d1-40e1-a260-1efed5560667",
   "metadata": {},
   "outputs": [],
   "source": [
    "# remove warnings\n",
    "import warnings\n",
    "warnings.filterwarnings('ignore')"
   ]
  },
  {
   "cell_type": "code",
   "execution_count": null,
   "id": "e8647fd0-b9e0-4e92-b0bc-307ab2d9aec3",
   "metadata": {},
   "outputs": [],
   "source": [
    "# set up figure parameters\n",
    "plt.rcParams['figure.figsize'] = (4.0, 4.0)\n",
    "sc.settings.verbosity = 0\n",
    "sc.set_figure_params(dpi=300, dpi_save=600, format='pdf', figsize=(4, 4))"
   ]
  },
  {
   "cell_type": "code",
   "execution_count": null,
   "id": "6ef00ef7-e037-4790-a5a1-4dca8823b9f8",
   "metadata": {},
   "outputs": [],
   "source": [
    "# set working and fig dir\n",
    "work_dir = \"/scratch_isilon/groups/singlecell/gdeuner/SERPENTINE/data/tumour_blood_overlapping_clonotypes_phenotypes\"\n",
    "sc.settings.figdir = os.path.join(\"/scratch_isilon/groups/singlecell/gdeuner/SERPENTINE/figures/TFM/Fig4\")\n",
    "#fig_dir = os.path.join(work_dir, \"plots\")\n",
    "fig_dir = \"/scratch_isilon/groups/singlecell/gdeuner/SERPENTINE/figures/TFM/Fig4\""
   ]
  },
  {
   "cell_type": "code",
   "execution_count": null,
   "id": "527ec1fe-f308-4dbf-be6c-5e5b5db29685",
   "metadata": {},
   "outputs": [],
   "source": [
    "# read anndata object\n",
    "adata = sc.read_h5ad(\"/scratch_isilon/groups/singlecell/gdeuner/SERPENTINE/data/outputdata/combined/Combined_SCR_C02_TCR_tumour_blood_30-04-24.h5ad\")"
   ]
  },
  {
   "cell_type": "code",
   "execution_count": null,
   "id": "ea7c5c32-e12c-47b1-a189-5bd6e4768c22",
   "metadata": {},
   "outputs": [],
   "source": [
    "# plot annotation 2.0\n",
    "sc.pl.umap(\n",
    "        adata,\n",
    "        color=\"Annotation_2.0\",\n",
    "        vmin=0,\n",
    "        vmax=\"p99\",  \n",
    "        sort_order=False,  \n",
    "        frameon=False,\n",
    "        use_raw=False,\n",
    "        title=\"T Cells Annotation\",\n",
    "        save = \"_T_Cells_Annotation.png\"\n",
    ")"
   ]
  },
  {
   "cell_type": "code",
   "execution_count": null,
   "id": "83ed4c23-8caa-484f-baf9-4a0f8765a722",
   "metadata": {},
   "outputs": [],
   "source": [
    "# basic T cells annotation\n",
    "sc.pl.umap(\n",
    "        adata,\n",
    "        color=\"cell_type\",\n",
    "        vmin=0,\n",
    "        vmax=\"p99\",  \n",
    "        sort_order=False,  \n",
    "        frameon=False,\n",
    "        use_raw=False,\n",
    "        title=\"Basic T Cells Annotation\",\n",
    "        save = \"_Basic_T_Cells_Annotation.png\" \n",
    ")"
   ]
  },
  {
   "cell_type": "code",
   "execution_count": null,
   "id": "099d76dd-fa80-432f-a417-f218428d1a53",
   "metadata": {
    "scrolled": true
   },
   "outputs": [],
   "source": [
    "# some markers \n",
    "'''\n",
    "sc.pl.umap(\n",
    "        adata,\n",
    "        color=[\"CD4\", \"CD8B\", \"FOXP3\", \"HAVCR2\", \"MKI67\"],\n",
    "        vmin=0,\n",
    "        vmax=\"p99\",  \n",
    "        sort_order=False,  \n",
    "        frameon=False,\n",
    "        use_raw=False,\n",
    "        save = \"_Markers\" \n",
    ")\n",
    "'''"
   ]
  },
  {
   "cell_type": "code",
   "execution_count": null,
   "id": "8098ae47-d2ab-446a-b8bf-6effb11294d9",
   "metadata": {
    "scrolled": true
   },
   "outputs": [],
   "source": [
    "adata.obs['cloneSize'].unique()"
   ]
  },
  {
   "cell_type": "code",
   "execution_count": null,
   "id": "83611a85-f20f-4dd4-b36c-a8a0720945f8",
   "metadata": {},
   "outputs": [],
   "source": [
    "# order cloneSize var\n",
    "legend_order = ['Hyperexpanded (50 < X <= 2611)', 'Large (20 < X <= 50)', 'Medium (5 < X <= 20)',\n",
    "               'Small (1 < X <= 5)', 'Single (0 < X <= 1)', 'NA']\n",
    "adata.obs['cloneSize'] = pd.Categorical(adata.obs['cloneSize'], categories=legend_order)\n",
    "#adata.obs['cloneSize'] = np.array(adata.obs['cloneSize'])"
   ]
  },
  {
   "cell_type": "code",
   "execution_count": null,
   "id": "73e4e33d-e730-44cb-9166-2737866e4713",
   "metadata": {},
   "outputs": [],
   "source": [
    "color_map = cm.get_cmap('inferno')\n",
    "colorblind_vector = [color_map(i/4) for i in range(4, -1, -1)]\n",
    "colorblind_vector.append(\"grey\")\n",
    "print(colorblind_vector)\n"
   ]
  },
  {
   "cell_type": "code",
   "execution_count": null,
   "id": "416f623e-5912-4974-a2d1-8b25e0c7a1f8",
   "metadata": {},
   "outputs": [],
   "source": [
    "# create a dictionary of cloneSize colors\n",
    "colorblind_dict = dict(map(lambda i,j : (i,j) , legend_order, colorblind_vector))"
   ]
  },
  {
   "cell_type": "code",
   "execution_count": null,
   "id": "f2f1e0b5-9b13-4339-a200-943ed89ad2c0",
   "metadata": {},
   "outputs": [],
   "source": [
    "sc.pl.umap(adata, \n",
    "           color=[\"cloneSize\"], \n",
    "           palette=colorblind_dict,\n",
    "           na_color = \"grey\",\n",
    "           frameon=False,\n",
    "           title=\"Tumor Clonotypes\",\n",
    "           save=\"_Clonal_Expansion_all_clones_all_patients_all_timepoints.png\"\n",
    ")"
   ]
  },
  {
   "cell_type": "code",
   "execution_count": null,
   "id": "8121770c-c597-451b-aacc-8cda53125b9c",
   "metadata": {},
   "outputs": [],
   "source": [
    "def split_umap(adata_list, split_by, ncol=2, nrow=1, **kwargs):\n",
    "    categories = adata.obs[split_by].cat.categories\n",
    "    if nrow is None:\n",
    "        nrow = int(np.ceil(len(categories) / ncol))\n",
    "    fig, axs = plt.subplots(nrow, ncol, figsize=(5*ncol, 3*nrow)) #5,4\n",
    "    axs = axs.flatten()\n",
    "    for i, cat in enumerate(categories):\n",
    "        ax = axs[i]\n",
    "        if i != len(categories)-1:\n",
    "            sc.pl.umap(adata_list[i][adata_list[i].obs[split_by] == cat], ax=ax, show=False, title=cat,  **kwargs)\n",
    "        else:\n",
    "            sc.pl.umap(adata_list[i][adata_list[i].obs[split_by] == cat], ax=ax, show=False, title=cat, **kwargs)\n",
    "\n",
    "    plt.tight_layout()"
   ]
  },
  {
   "cell_type": "code",
   "execution_count": null,
   "id": "d19dc320-e7ff-477f-9b88-be10addec066",
   "metadata": {},
   "outputs": [],
   "source": [
    "adata.obs['blood'] = adata.obs['blood'].map({\"TRUE\" : True, \"FALSE\" : False})\n",
    "adata.obs['blood_pre'] = adata.obs['blood_pre'].map({\"TRUE\": True, \"FALSE\": False})\n",
    "adata.obs['blood_post'] = adata.obs['blood_post'].map({\"TRUE\": True, \"FALSE\": False})"
   ]
  },
  {
   "cell_type": "code",
   "execution_count": null,
   "id": "089ba3ca-4e16-40d0-a14a-91d6bce96588",
   "metadata": {},
   "outputs": [],
   "source": [
    "print(pd.crosstab(adata.obs['blood'], columns = \"count\"))\n",
    "print(31466/(31466+14249))"
   ]
  },
  {
   "cell_type": "code",
   "execution_count": null,
   "id": "d60fe9fd-8c06-4700-b83b-da10eea54e61",
   "metadata": {},
   "outputs": [],
   "source": [
    "# Number of unique tumor clonotypes found in blood (integrated object)\n",
    "print(\"Data for Integrated Object\")\n",
    "print(\"Number of Tumor Clonotypes: \" + str(adata.obs.ctnt_TRB.nunique()))\n",
    "print(\"Number of Tumor Clonotypes found in Blood: \" + str(adata[adata.obs.blood == True].obs.ctnt_TRB.nunique()))\n",
    "print(\"Number of Tumor Clonotypes NOT found in Blood: \" + str(adata[adata.obs.blood == False].obs.ctnt_TRB.nunique()))\n",
    "print(\"Proportion of Tumor Clonotypes in Blood: \" + str( adata[adata.obs.blood == True].obs.ctnt_TRB.nunique() / adata.obs.ctnt_TRB.nunique() ))"
   ]
  },
  {
   "cell_type": "code",
   "execution_count": null,
   "id": "70c6ab69-31f2-4a32-bcde-bd9088f08986",
   "metadata": {},
   "outputs": [],
   "source": [
    "# Number of unique tumor clonotypes found in blood (P01)\n",
    "print(\"Data for Patient 01\")\n",
    "print(\"Number of Tumor Clonotypes: \" + str(adata[adata.obs.patient == \"01\"].obs.ctnt_TRB.nunique()))\n",
    "print(\"Number of Tumor Clonotypes found in Blood: \" + str(adata[(adata.obs.patient == \"01\") & (adata.obs.blood == True)].obs.ctnt_TRB.nunique()))\n",
    "print(\"Number of Tumor Clonotypes NOT found in Blood: \" + str(adata[(adata.obs.patient == \"01\") & (adata.obs.blood == False)].obs.ctnt_TRB.nunique()))\n",
    "print(\"Proportion of Tumor Clonotypes in Blood: \" + str( adata[(adata.obs.patient == \"01\") & (adata.obs.blood == True)].obs.ctnt_TRB.nunique() / adata[adata.obs.patient == \"01\"].obs.ctnt_TRB.nunique() ))"
   ]
  },
  {
   "cell_type": "code",
   "execution_count": null,
   "id": "1aa0f419-5ad6-47ed-bec6-809f509ac505",
   "metadata": {},
   "outputs": [],
   "source": [
    "# Number of unique tumor clonotypes found in blood (P02)\n",
    "print(\"Data for Patient 02\")\n",
    "print(\"Number of Tumor Clonotypes: \" + str(adata[adata.obs.patient == \"02\"].obs.ctnt_TRB.nunique()))\n",
    "print(\"Number of Tumor Clonotypes found in Blood: \" + str(adata[(adata.obs.patient == \"02\") & (adata.obs.blood == True)].obs.ctnt_TRB.nunique()))\n",
    "print(\"Number of Tumor Clonotypes NOT found in Blood: \" + str(adata[(adata.obs.patient == \"02\") & (adata.obs.blood == False)].obs.ctnt_TRB.nunique()))\n",
    "print(\"Proportion of Tumor Clonotypes in Blood: \" + str( adata[(adata.obs.patient == \"02\") & (adata.obs.blood == True)].obs.ctnt_TRB.nunique() / adata[adata.obs.patient == \"02\"].obs.ctnt_TRB.nunique() ))"
   ]
  },
  {
   "cell_type": "code",
   "execution_count": null,
   "id": "6dfcdb4c-70cf-4744-8277-56e4fbbb4cfe",
   "metadata": {},
   "outputs": [],
   "source": [
    "# Number of unique tumor clonotypes found in blood (P03)\n",
    "print(\"Data for Patient 03\")\n",
    "print(\"Number of Tumor Clonotypes: \" + str(adata[adata.obs.patient == \"03\"].obs.ctnt_TRB.nunique()))\n",
    "print(\"Number of Tumor Clonotypes found in Blood: \" + str(adata[(adata.obs.patient == \"03\") & (adata.obs.blood == True)].obs.ctnt_TRB.nunique()))\n",
    "print(\"Number of Tumor Clonotypes NOT found in Blood: \" + str(adata[(adata.obs.patient == \"03\") & (adata.obs.blood == False)].obs.ctnt_TRB.nunique()))\n",
    "print(\"Proportion of Tumor Clonotypes in Blood: \" + str( adata[(adata.obs.patient == \"03\") & (adata.obs.blood == True)].obs.ctnt_TRB.nunique() / adata[adata.obs.patient == \"03\"].obs.ctnt_TRB.nunique() ))"
   ]
  },
  {
   "cell_type": "code",
   "execution_count": null,
   "id": "2fb9d9d4-4e98-4273-95d5-ecf94f21a68c",
   "metadata": {},
   "outputs": [],
   "source": [
    "# Number of unique tumor clonotypes found in blood (P08)\n",
    "print(\"Data for Patient 08\")\n",
    "print(\"Number of Tumor Clonotypes: \" + str(adata[adata.obs.patient == \"08\"].obs.ctnt_TRB.nunique()))\n",
    "print(\"Number of Tumor Clonotypes found in Blood: \" + str(adata[(adata.obs.patient == \"08\") & (adata.obs.blood == True)].obs.ctnt_TRB.nunique()))\n",
    "print(\"Number of Tumor Clonotypes NOT found in Blood: \" + str(adata[(adata.obs.patient == \"08\") & (adata.obs.blood == False)].obs.ctnt_TRB.nunique()))\n",
    "print(\"Proportion of Tumor Clonotypes in Blood: \" + str( adata[(adata.obs.patient == \"08\") & (adata.obs.blood == True)].obs.ctnt_TRB.nunique() / adata[adata.obs.patient == \"08\"].obs.ctnt_TRB.nunique() ))"
   ]
  },
  {
   "cell_type": "code",
   "execution_count": null,
   "id": "58d1b099-84bb-4055-9575-ff0207aa5540",
   "metadata": {},
   "outputs": [],
   "source": [
    "# Number of unique tumor clonotypes found in blood (P10)\n",
    "print(\"Data for Patient 10\")\n",
    "print(\"Number of Tumor Clonotypes: \" + str(adata[adata.obs.patient == \"10\"].obs.ctnt_TRB.nunique()))\n",
    "print(\"Number of Tumor Clonotypes found in Blood: \" + str(adata[(adata.obs.patient == \"10\") & (adata.obs.blood == True)].obs.ctnt_TRB.nunique()))\n",
    "print(\"Number of Tumor Clonotypes NOT found in Blood: \" + str(adata[(adata.obs.patient == \"10\") & (adata.obs.blood == False)].obs.ctnt_TRB.nunique()))\n",
    "print(\"Proportion of Tumor Clonotypes in Blood: \" + str( adata[(adata.obs.patient == \"10\") & (adata.obs.blood == True)].obs.ctnt_TRB.nunique() / adata[adata.obs.patient == \"10\"].obs.ctnt_TRB.nunique() ))"
   ]
  },
  {
   "cell_type": "code",
   "execution_count": null,
   "id": "64a14065-d9fa-425b-979a-271bf767f578",
   "metadata": {},
   "outputs": [],
   "source": [
    "sc.pl.umap(adata[adata.obs.blood == True],  \n",
    "           color=\"cloneSize\", \n",
    "           palette=colorblind_dict,\n",
    "           frameon=False,\n",
    "           title=\"Tumor-blood Clonotypes\",\n",
    "           save=\"_Clonal_Expansion_blood-tumor_clones_all_patients_all_timepoints.png\"\n",
    ")"
   ]
  },
  {
   "cell_type": "code",
   "execution_count": null,
   "id": "ea63efe5-47dd-4948-ac25-d11d65c9a4d3",
   "metadata": {},
   "outputs": [],
   "source": [
    "adata[adata.obs.blood == True].obs.blood_pre.unique"
   ]
  },
  {
   "cell_type": "code",
   "execution_count": null,
   "id": "747fe9db-df01-4708-8918-448fb6ee48e8",
   "metadata": {},
   "outputs": [],
   "source": [
    "split_umap(adata_list=[adata[adata.obs.blood_pre == True], adata[adata.obs.blood_post == True]],\n",
    "           color=[\"cloneSize\"], \n",
    "           split_by=\"Timepoint\",\n",
    "           palette=colorblind_dict,\n",
    "           frameon=False,\n",
    "           legend_fontsize=8,\n",
    "           #save=\"_Clonal_Expansion_blood-tumor_clones_split_timepoint_all_patients.png\"\n",
    ")\n",
    "plt.savefig(os.path.join(fig_dir, \"umap\" + \"_Clonal_Expansion_blood-tumor_clones_split_timepoint_all_patients.png\"), dpi=300, format=\"pdf\", bbox_inches=\"tight\")"
   ]
  },
  {
   "cell_type": "code",
   "execution_count": null,
   "id": "ed881a5d-e0cc-4b21-abf9-739e77a9d63f",
   "metadata": {},
   "outputs": [],
   "source": [
    "# Patient 01\n",
    "split_umap(adata_list=[adata[(adata.obs.blood_pre == True) & (adata.obs.patient == \"01\")], adata[(adata.obs.blood_post == True) & (adata.obs.patient == \"01\")]], \n",
    "           color=[\"cloneSize\"], \n",
    "           split_by=\"Timepoint\",\n",
    "           palette=colorblind_dict,\n",
    "           frameon=False,\n",
    "           legend_fontsize=8,\n",
    "           #save=\"_patient01_Clonal_Expansion_blood-tumor_clones_split_timepoint.png\"\n",
    ")\n",
    "plt.savefig(os.path.join(fig_dir, \"umap\" + \"_patient01_Clonal_Expansion_blood-tumor_clones_split_timepoint.png\"), dpi=300, format=\"png\", bbox_inches=\"tight\")"
   ]
  },
  {
   "cell_type": "code",
   "execution_count": null,
   "id": "fde34e7b-9932-4b6c-9dbf-a9e1f0f48bc9",
   "metadata": {},
   "outputs": [],
   "source": [
    "# Patient 02\n",
    "split_umap(adata_list=[adata[(adata.obs.blood_pre == True) & (adata.obs.patient == \"02\")], adata[(adata.obs.blood_post == True) & (adata.obs.patient == \"02\")]], \n",
    "           color=[\"cloneSize\"], \n",
    "           split_by=\"Timepoint\",\n",
    "           palette=colorblind_dict,\n",
    "           frameon=False,\n",
    "           legend_fontsize=8,\n",
    "           #save=\"_patient02_Clonal_Expansion_blood-tumor_clones_split_timepoint.png\"\n",
    ")\n",
    "plt.savefig(os.path.join(fig_dir, \"umap\" + \"_patient02_Clonal_Expansion_blood-tumor_clones_split_timepoint.png\"), dpi=300, format=\"png\", bbox_inches=\"tight\")"
   ]
  },
  {
   "cell_type": "code",
   "execution_count": null,
   "id": "eeca8d35-c260-4bec-83e2-1e775520f532",
   "metadata": {},
   "outputs": [],
   "source": [
    "# Patient 03\n",
    "split_umap(adata_list=[adata[(adata.obs.blood_pre == True) & (adata.obs.patient == \"03\")], adata[(adata.obs.blood_post == True) & (adata.obs.patient == \"03\")]], \n",
    "           color=[\"cloneSize\"], \n",
    "           split_by=\"Timepoint\",\n",
    "           palette=colorblind_dict,\n",
    "           frameon=False,\n",
    "           legend_fontsize=8,\n",
    "           #save=\"_patient03_Clonal_Expansion_blood-tumor_clones_split_timepoint.png\"\n",
    ")\n",
    "plt.savefig(os.path.join(fig_dir, \"umap\" + \"_patient03_Clonal_Expansion_blood-tumor_clones_split_timepoint.png\"), dpi=300, format=\"png\", bbox_inches=\"tight\")"
   ]
  },
  {
   "cell_type": "code",
   "execution_count": null,
   "id": "c592587e-b668-41bd-bc98-e2814af1a423",
   "metadata": {},
   "outputs": [],
   "source": [
    "# Patient 08\n",
    "split_umap(adata_list=[adata[(adata.obs.blood_pre == True) & (adata.obs.patient == \"08\")], adata[(adata.obs.blood_post == True) & (adata.obs.patient == \"08\")]], \n",
    "           color=[\"cloneSize\"], \n",
    "           split_by=\"Timepoint\",\n",
    "           palette=colorblind_dict,\n",
    "           frameon=False,\n",
    "           legend_fontsize=8,\n",
    "           #save=\"_patient08_Clonal_Expansion_blood-tumor_clones_split_timepoint.png\"\n",
    ")\n",
    "plt.savefig(os.path.join(fig_dir, \"umap\" + \"_patient08_Clonal_Expansion_blood-tumor_clones_split_timepoint.png\"), dpi=300, format=\"png\", bbox_inches=\"tight\")"
   ]
  },
  {
   "cell_type": "code",
   "execution_count": null,
   "id": "bec1ebee-0446-4861-b96e-6e372552cb9a",
   "metadata": {},
   "outputs": [],
   "source": [
    "# Patient 10\n",
    "split_umap(adata_list=[adata[(adata.obs.blood_pre == True) & (adata.obs.patient == \"10\")], adata[(adata.obs.blood_post == True) & (adata.obs.patient == \"10\")]], \n",
    "           color=[\"cloneSize\"], \n",
    "           split_by=\"Timepoint\",\n",
    "           palette=colorblind_dict,\n",
    "           frameon=False,\n",
    "           legend_fontsize=8,\n",
    "           #save=\"_patient10_Clonal_Expansion_blood-tumor_clones_split_timepoint.png\"\n",
    ")\n",
    "plt.savefig(os.path.join(fig_dir, \"umap\" + \"_patient10_Clonal_Expansion_blood-tumor_clones_split_timepoint.png\"), dpi=300, format=\"png\", bbox_inches=\"tight\")"
   ]
  },
  {
   "cell_type": "markdown",
   "id": "66779520-bb81-4b50-8377-b209cbeb6af6",
   "metadata": {},
   "source": [
    "# Poster/Thesis Plots"
   ]
  },
  {
   "cell_type": "code",
   "execution_count": null,
   "id": "6309222e-63b4-4618-8980-284509e9a8e6",
   "metadata": {},
   "outputs": [],
   "source": [
    "# load packages\n",
    "import sys\n",
    "import scanpy as sc\n",
    "import os\n",
    "import sys\n",
    "import numpy as np\n",
    "import matplotlib.pyplot as plt\n",
    "import pandas as pd\n",
    "import matplotlib.cm as cm"
   ]
  },
  {
   "cell_type": "code",
   "execution_count": null,
   "id": "6df9824f-1b98-42ff-8aa8-a3e39f8b7fc9",
   "metadata": {},
   "outputs": [],
   "source": [
    "work_dir = \"/scratch_isilon/groups/singlecell/gdeuner/SERPENTINE/\"\n",
    "fig_dir = os.path.join(work_dir, \"figures\", \"ISCO24_poster\", \"Fig3\")\n",
    "sc.settings.figdir = os.path.join(work_dir, \"figures\", \"ISCO24_poster\", \"Fig3\")\n",
    "sc.set_figure_params(dpi=120, dpi_save=600, format='pdf', frameon=False, figsize=(3,3))"
   ]
  },
  {
   "cell_type": "code",
   "execution_count": null,
   "id": "011c5c68-7b8a-4308-8804-006f57c42e2d",
   "metadata": {},
   "outputs": [],
   "source": [
    "# read anndata object\n",
    "adata = sc.read_h5ad(\"/scratch_isilon/groups/singlecell/gdeuner/SERPENTINE/data/outputdata/combined/Combined_SCR_C02_TCR_tumour_blood_30-04-24.h5ad\")"
   ]
  },
  {
   "cell_type": "code",
   "execution_count": null,
   "id": "e89a77a7-e93a-4c5d-944e-d2e8820f036d",
   "metadata": {},
   "outputs": [],
   "source": [
    "# order cloneSize var\n",
    "legend_order = ['Hyperexpanded (50 < X <= 2611)', 'Large (20 < X <= 50)', 'Medium (5 < X <= 20)',\n",
    "               'Small (1 < X <= 5)', 'Single (0 < X <= 1)', 'NA']\n",
    "adata.obs['cloneSize'] = pd.Categorical(adata.obs['cloneSize'], categories=legend_order)\n",
    "#adata.obs['cloneSize'] = np.array(adata.obs['cloneSize'])"
   ]
  },
  {
   "cell_type": "code",
   "execution_count": null,
   "id": "8eb4d0cc-5922-418a-9772-26801c2b3610",
   "metadata": {},
   "outputs": [],
   "source": [
    "color_map = cm.get_cmap('inferno')\n",
    "colorblind_vector = [color_map(i/4) for i in range(4, -1, -1)]\n",
    "colorblind_vector.append(\"grey\")\n",
    "print(colorblind_vector)\n"
   ]
  },
  {
   "cell_type": "code",
   "execution_count": null,
   "id": "08b5ef45-5a0c-42a0-9c18-bc353df15aa4",
   "metadata": {},
   "outputs": [],
   "source": [
    "# create a dictionary of cloneSize colors\n",
    "colorblind_dict = dict(map(lambda i,j : (i,j) , legend_order, colorblind_vector))"
   ]
  },
  {
   "cell_type": "code",
   "execution_count": null,
   "id": "a847522a-806a-4f8d-a6c2-28a980783bb9",
   "metadata": {},
   "outputs": [],
   "source": [
    "def split_umap(adata_list, split_by, ncol=2, nrow=1, **kwargs):\n",
    "    categories = adata.obs[split_by].cat.categories\n",
    "    if nrow is None:\n",
    "        nrow = int(np.ceil(len(categories) / ncol))\n",
    "    fig, axs = plt.subplots(nrow, ncol, figsize=(5*ncol, 3*nrow)) #5,4\n",
    "    axs = axs.flatten()\n",
    "    for i, cat in enumerate(categories):\n",
    "        ax = axs[i]\n",
    "        if i != len(categories)-1:\n",
    "            sc.pl.umap(adata_list[i][adata_list[i].obs[split_by] == cat], ax=ax, show=False, title=cat, legend_loc=\"none\",  **kwargs)\n",
    "        else:\n",
    "            sc.pl.umap(adata_list[i][adata_list[i].obs[split_by] == cat], ax=ax, show=False, title=cat, **kwargs)\n",
    "\n",
    "    plt.tight_layout()"
   ]
  },
  {
   "cell_type": "code",
   "execution_count": null,
   "id": "a9113c92-2bc4-40d7-889a-56d0c4eae178",
   "metadata": {},
   "outputs": [],
   "source": [
    "sc.pl.umap(\n",
    "        adata,\n",
    "        color=\"cloneSize\",\n",
    "        vmin=0,\n",
    "        vmax=\"p99\",  \n",
    "        sort_order=True,  \n",
    "        frameon=False,\n",
    "        use_raw=False,\n",
    "        palette=colorblind_dict,\n",
    "        title=\"Tumor Clonotypes\",\n",
    "        legend_fontsize=8,\n",
    "        #save = \"_Main_Annotation.png\"\n",
    ")"
   ]
  },
  {
   "cell_type": "code",
   "execution_count": null,
   "id": "163ac295-fa3c-442a-be0c-ca387272b41b",
   "metadata": {
    "scrolled": true
   },
   "outputs": [],
   "source": [
    "sc.pl.umap(\n",
    "        adata[adata.obs.blood == \"TRUE\"],\n",
    "        color=\"cloneSize\",\n",
    "        vmin=0,\n",
    "        vmax=\"p99\",  \n",
    "        sort_order=True,  \n",
    "        frameon=False,\n",
    "        use_raw=False,\n",
    "        palette=colorblind_dict,\n",
    "        title=\"Tumor-Blood Clonotypes (69%)\",\n",
    "        legend_fontsize=8,\n",
    "        legend_loc=\"none\",\n",
    "        save = \"_Tumor-Blood_Clonotypes.pdf\"\n",
    ")"
   ]
  },
  {
   "cell_type": "code",
   "execution_count": null,
   "id": "32d202b0-815e-45a9-91dd-609348340bae",
   "metadata": {},
   "outputs": [],
   "source": [
    "sc.pl.umap(\n",
    "        adata[adata.obs.timepoint == \"SCR\"],\n",
    "        color=\"cloneSize\",\n",
    "        vmin=0,\n",
    "        vmax=\"p99\",  \n",
    "        sort_order=True,  \n",
    "        frameon=False,\n",
    "        use_raw=False,\n",
    "        palette=colorblind_dict,\n",
    "        title=\"T0/-ICI\",\n",
    "        legend_fontsize=8,\n",
    "        legend_loc=\"best\",\n",
    "        save = \"_Tumor_Clonotypes_T0.pdf\"\n",
    ")"
   ]
  },
  {
   "cell_type": "code",
   "execution_count": null,
   "id": "b3254426-5511-4ea8-a526-889027490b41",
   "metadata": {},
   "outputs": [],
   "source": [
    "sc.pl.umap(\n",
    "        adata[adata.obs.timepoint != \"SCR\"],\n",
    "        color=\"cloneSize\",\n",
    "        vmin=0,\n",
    "        vmax=\"p99\",  \n",
    "        sort_order=True,  \n",
    "        frameon=False,\n",
    "        use_raw=False,\n",
    "        palette=colorblind_dict,\n",
    "        title=\"T1/+ICI\",\n",
    "        legend_fontsize=8,\n",
    "        save = \"_Tumor_Clonotypes_T1.pdf\"\n",
    ")"
   ]
  },
  {
   "cell_type": "code",
   "execution_count": null,
   "id": "d32db80e-56a0-4bc8-b066-44f4310f7165",
   "metadata": {},
   "outputs": [],
   "source": [
    "sc.pl.umap(adata[adata.obs.blood_pre == True],\n",
    "           color=[\"cloneSize\"], \n",
    "           palette=colorblind_dict,\n",
    "           frameon=False,\n",
    "           legend_fontsize=8,\n",
    "           #legend_loc = \"none\",\n",
    "           title = \"Tumor-blood Clonotypes (T0/-ICI)\",\n",
    "           save=\"_Clonal_Expansion_blood-tumor_clones_T0_all_patients.pdf\"\n",
    ")"
   ]
  },
  {
   "cell_type": "code",
   "execution_count": null,
   "id": "560fb436-fe6a-46bc-9fd4-05d1c34335d0",
   "metadata": {},
   "outputs": [],
   "source": [
    "sc.pl.umap(adata[adata.obs.blood_post == True],\n",
    "           color=[\"cloneSize\"], \n",
    "           palette=colorblind_dict,\n",
    "           frameon=False,\n",
    "           legend_fontsize=8,\n",
    "           title = \"Tumor-blood Clonotypes (T1/+ICI)\",\n",
    "           save=\"_Clonal_Expansion_blood-tumor_clones_T1_all_patients.pdf\"\n",
    ")"
   ]
  },
  {
   "cell_type": "code",
   "execution_count": null,
   "id": "f8fa586c-8a6f-4904-b494-84b49850786e",
   "metadata": {},
   "outputs": [],
   "source": [
    "# Convert to pandas DataFrame for easier manipulation\n",
    "df = adata.obs.copy()\n",
    "\n",
    "# Ensure 'clone_size' is numeric\n",
    "df['cloneSize'] = pd.to_numeric(df['cloneSize'], errors='coerce')\n",
    "\n",
    "# Sort by clone size to find the most expanded clones\n",
    "df = df.sort_values(by='cloneSize', ascending=False)\n",
    "\n",
    "# Filter for genes (clones) that are expanded (cloneSize > 1)\n",
    "df = df[df['cloneSize'].notna()]\n",
    "\n",
    "# Get unique clones (each clone is repeated as many times as it is expanded)\n",
    "#unique_clones = sorted_df.drop_duplicates(subset='cloneSize', keep='first')\n",
    "\n",
    "\n",
    "\n",
    "df.cloneSize"
   ]
  },
  {
   "cell_type": "code",
   "execution_count": null,
   "id": "efbd3acd-c405-4341-8834-3cb8664c579a",
   "metadata": {},
   "outputs": [],
   "source": [
    "adata.obs.cloneSize"
   ]
  },
  {
   "cell_type": "markdown",
   "id": "308c1afb-f940-41cb-8fb2-4856f9188597",
   "metadata": {},
   "source": [
    "### Responder Patient Plots"
   ]
  },
  {
   "cell_type": "code",
   "execution_count": null,
   "id": "ed043571-c91d-418b-aff9-eb5a06c76391",
   "metadata": {},
   "outputs": [],
   "source": [
    "sc.pl.umap(\n",
    "        adata[(adata.obs.patient == \"08\") & (adata.obs.timepoint != \"SCR\")],\n",
    "        color=\"cloneSize\",\n",
    "        vmin=0,\n",
    "        vmax=\"p99\",  \n",
    "        sort_order=True,  \n",
    "        frameon=False,\n",
    "        use_raw=False,\n",
    "        palette=colorblind_dict,\n",
    "        title=\"Clonal Expansion\",\n",
    "        legend_fontsize=8,\n",
    "        legend_loc=\"best\",\n",
    "        #save = \"_Tumor_Clonotypes_T0.png\"\n",
    ")"
   ]
  }
 ],
 "metadata": {
  "kernelspec": {
   "display_name": "Python 3 (ipykernel)",
   "language": "python",
   "name": "python3"
  },
  "language_info": {
   "codemirror_mode": {
    "name": "ipython",
    "version": 3
   },
   "file_extension": ".py",
   "mimetype": "text/x-python",
   "name": "python",
   "nbconvert_exporter": "python",
   "pygments_lexer": "ipython3",
   "version": "3.9.18"
  }
 },
 "nbformat": 4,
 "nbformat_minor": 5
}
