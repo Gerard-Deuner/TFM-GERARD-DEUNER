{
 "cells": [
  {
   "cell_type": "markdown",
   "id": "e2b5bf79-fef8-463b-ac0a-d918cef8b4fe",
   "metadata": {
    "execution": {
     "iopub.execute_input": "2024-05-06T08:08:11.691988Z",
     "iopub.status.busy": "2024-05-06T08:08:11.691438Z",
     "iopub.status.idle": "2024-05-06T08:08:11.695190Z",
     "shell.execute_reply": "2024-05-06T08:08:11.694766Z",
     "shell.execute_reply.started": "2024-05-06T08:08:11.691922Z"
    }
   },
   "source": [
    "# Patient 08 Tumor & Tumor-Blood Matching TCR Analysis"
   ]
  },
  {
   "cell_type": "code",
   "execution_count": null,
   "id": "664b5fea-b86f-4166-af19-10a828d7ad40",
   "metadata": {},
   "outputs": [],
   "source": [
    "# load packages\n",
    "import sys\n",
    "import scanpy as sc\n",
    "import os\n",
    "import sys\n",
    "import numpy as np\n",
    "import matplotlib.pyplot as plt\n",
    "import pandas as pd\n",
    "import matplotlib.cm as cm\n"
   ]
  },
  {
   "cell_type": "code",
   "execution_count": null,
   "id": "0dced2ab-815b-482e-9347-7738f1cdf40e",
   "metadata": {},
   "outputs": [],
   "source": [
    "# remove warnings\n",
    "import warnings\n",
    "warnings.filterwarnings('ignore')"
   ]
  },
  {
   "cell_type": "code",
   "execution_count": null,
   "id": "79324119-ec35-445d-89bd-46e44e0cb5f1",
   "metadata": {},
   "outputs": [],
   "source": [
    "# set up figure parameters\n",
    "plt.rcParams['figure.figsize'] = (3.0, 3.0)\n",
    "sc.settings.verbosity = 0\n",
    "sc.set_figure_params(dpi=100, dpi_save=600, format='png', figsize=(3, 3))"
   ]
  },
  {
   "cell_type": "code",
   "execution_count": null,
   "id": "8635c422-297e-4380-811e-193196f10dc2",
   "metadata": {},
   "outputs": [],
   "source": [
    "# set working and fig dir\n",
    "work_dir = \"/scratch_isilon/groups/singlecell/gdeuner/SERPENTINE/data/TCR_tumor_blood_analysis/Patient_08\"\n",
    "sc.settings.figdir = os.path.join(work_dir, \"plots\")\n",
    "fig_dir = os.path.join(work_dir, \"plots\")"
   ]
  },
  {
   "cell_type": "code",
   "execution_count": null,
   "id": "efd56f19-1604-467a-b670-252ae19a7377",
   "metadata": {},
   "outputs": [],
   "source": [
    "# read anndata object\n",
    "adata = sc.read_h5ad(\"/scratch_isilon/groups/singlecell/gdeuner/SERPENTINE/data/outputdata/Patient_08/P08_TNK_TCR_updated_07-05-24.h5ad\")\n",
    "adata"
   ]
  },
  {
   "cell_type": "code",
   "execution_count": null,
   "id": "2fedc2dd-14d7-4919-a12c-20472ecb3d35",
   "metadata": {},
   "outputs": [],
   "source": [
    "adata.obs"
   ]
  },
  {
   "cell_type": "code",
   "execution_count": null,
   "id": "54e958eb-f165-4fb3-bd16-d4b90c1962f7",
   "metadata": {},
   "outputs": [],
   "source": [
    "adata.obs[\"Annotation_2.0\"].unique()"
   ]
  },
  {
   "cell_type": "code",
   "execution_count": null,
   "id": "45b47583-9d1d-4381-ad85-198d6e1a6152",
   "metadata": {
    "scrolled": true
   },
   "outputs": [],
   "source": [
    "# basic T cells annotation\n",
    "sc.pl.umap(\n",
    "        adata,\n",
    "        color=\"cell_type\",\n",
    "        vmin=0,\n",
    "        vmax=\"p99\",  \n",
    "        sort_order=False,  \n",
    "        frameon=False,\n",
    "        use_raw=False,\n",
    "        title=\"Basic T Cells Annotation\",\n",
    "        save = \"_P08_Basic_T_Cells_Annotation.png\" \n",
    ")"
   ]
  },
  {
   "cell_type": "code",
   "execution_count": null,
   "id": "177d8881-e015-4073-9ea5-fcc56e150b02",
   "metadata": {},
   "outputs": [],
   "source": [
    "# plot annotation 2.0\n",
    "sc.pl.umap(\n",
    "        adata,\n",
    "        color=\"Annotation_2.0\",\n",
    "        vmin=0,\n",
    "        vmax=\"p99\",  \n",
    "        sort_order=False,  \n",
    "        frameon=False,\n",
    "        use_raw=False,\n",
    "        title=\"T Cells Annotation\",\n",
    "        save = \"_P08_Refined_T_Cells_Annotation.png\"\n",
    ")"
   ]
  },
  {
   "cell_type": "code",
   "execution_count": null,
   "id": "fd4c904a-c48a-4dea-b629-d4413016d3c0",
   "metadata": {
    "scrolled": true
   },
   "outputs": [],
   "source": [
    "adata.obs['cloneSize'].unique()"
   ]
  },
  {
   "cell_type": "code",
   "execution_count": null,
   "id": "9771663b-e18f-4a6d-86aa-b6b899ba4a27",
   "metadata": {},
   "outputs": [],
   "source": [
    "# order cloneSize var\n",
    "legend_order = ['Hyperexpanded (50 < X <= 100)', 'Large (20 < X <= 50)', 'Medium (5 < X <= 20)',\n",
    "               'Small (1 < X <= 5)', 'Single (0 < X <= 1)', 'NA']\n",
    "adata.obs['cloneSize'] = pd.Categorical(adata.obs['cloneSize'], categories=legend_order)\n",
    "#adata.obs['cloneSize'] = np.array(adata.obs['cloneSize'])"
   ]
  },
  {
   "cell_type": "code",
   "execution_count": null,
   "id": "3fb18219-c42c-4aaa-834a-2655e15f95ac",
   "metadata": {},
   "outputs": [],
   "source": [
    "color_map = cm.get_cmap('inferno')\n",
    "colorblind_vector = [color_map(i/4) for i in range(4, -1, -1)]\n",
    "colorblind_vector.append(\"grey\")\n",
    "print(colorblind_vector)\n"
   ]
  },
  {
   "cell_type": "code",
   "execution_count": null,
   "id": "a9e3c922-8629-4384-b17f-3e9fc19b8938",
   "metadata": {},
   "outputs": [],
   "source": [
    "# create a dictionary of cloneSize colors\n",
    "colorblind_dict = dict(map(lambda i,j : (i,j) , legend_order, colorblind_vector))"
   ]
  },
  {
   "cell_type": "code",
   "execution_count": null,
   "id": "b2c62920-5c90-4cf4-b71b-e3d39bb2ffd1",
   "metadata": {},
   "outputs": [],
   "source": [
    "def split_umap(adata_list, split_by, titles, ncol=2, nrow=1, **kwargs):\n",
    "    categories = adata.obs[split_by].cat.categories\n",
    "    if nrow is None:\n",
    "        nrow = int(np.ceil(len(categories) / ncol))\n",
    "    fig, axs = plt.subplots(nrow, ncol, figsize=(4*ncol, 3*nrow)) #5,4\n",
    "    axs = axs.flatten()\n",
    "    for i, cat in enumerate(categories):\n",
    "        ax = axs[i]\n",
    "        if i != len(categories)-1:\n",
    "            sc.pl.umap(adata_list[i][adata_list[i].obs[split_by] == cat], title=titles[i],  ax=ax, show=False,  **kwargs)\n",
    "        else:\n",
    "            sc.pl.umap(adata_list[i][adata_list[i].obs[split_by] == cat], title=titles[i], ax=ax, show=False,  **kwargs)\n",
    "\n",
    "    plt.tight_layout()"
   ]
  },
  {
   "cell_type": "code",
   "execution_count": null,
   "id": "2607022b-d92c-417b-9888-46765d383632",
   "metadata": {},
   "outputs": [],
   "source": [
    "# Plot clonal expansion dynamics of tumor clonotypes \n",
    "sc.pl.umap(adata, \n",
    "           color=[\"cloneSize\"], \n",
    "           palette=colorblind_dict,\n",
    "           na_color = \"grey\",\n",
    "           frameon=False,\n",
    "           title=\"Tumor Clonotypes\",\n",
    "           legend_fontsize=8,\n",
    "           save=\"_P08_Tumor_Clonotypes_Expansion.png\"\n",
    ")"
   ]
  },
  {
   "cell_type": "code",
   "execution_count": null,
   "id": "c75fad7b-e8a6-44b3-ad38-a612cc132973",
   "metadata": {},
   "outputs": [],
   "source": [
    "# Plot clonal expansion dynamics of blood & tumor matching clonotypes \n",
    "sc.pl.umap(adata[adata.obs.blood == \"TRUE\"],  \n",
    "           color=\"cloneSize\", \n",
    "           palette=colorblind_dict,\n",
    "           frameon=False,\n",
    "           title=\"Tumor-blood Clonotypes\",\n",
    "           legend_fontsize=8,\n",
    "           save=\"_P08_Tumor-Blood_Clonotypes_Expansion.png\"\n",
    ")"
   ]
  },
  {
   "cell_type": "code",
   "execution_count": null,
   "id": "1b867ab6-2e72-4804-b183-e5db4c6aa66e",
   "metadata": {},
   "outputs": [],
   "source": [
    "# order timepoint var\n",
    "timepoint_order = ['SCR', 'C02']\n",
    "adata.obs['timepoint'] = pd.Categorical(adata.obs['timepoint'], categories=timepoint_order)"
   ]
  },
  {
   "cell_type": "code",
   "execution_count": null,
   "id": "258b4e43-830d-4b75-a83e-28854f1705dd",
   "metadata": {
    "scrolled": true
   },
   "outputs": [],
   "source": [
    "# Plot clonal expansion dynamics of blood & tumor matching clonotypes split by timepoint\n",
    "split_umap(adata_list=[adata[adata.obs.blood_pre == \"TRUE\"], adata[adata.obs.blood_post == \"TRUE\"]],\n",
    "           color=\"cloneSize\", \n",
    "           split_by=\"timepoint\",\n",
    "           titles=[\"T0/-ICI\", \"T1/+ICI\"],\n",
    "           palette=colorblind_dict,\n",
    "           frameon=False,\n",
    "           legend_fontsize=8\n",
    "          )\n",
    "plt.savefig(os.path.join(fig_dir, \"umap\" + \"_P08_Tumor-Blood_Clonotypes_Expansion_splitBy_Timepoint.png\"), dpi=300, format=\"png\", bbox_inches=\"tight\")"
   ]
  },
  {
   "cell_type": "code",
   "execution_count": null,
   "id": "a3525857-4727-4fa6-9d6f-2e982c96408c",
   "metadata": {},
   "outputs": [],
   "source": [
    "split_umap(adata_list=[adata, adata],\n",
    "           color=[\"compartment_1013\"], \n",
    "           split_by=\"timepoint\",\n",
    "           palette=[\"grey\", \"green\", \"red\"],\n",
    "           frameon=False,\n",
    "           titles=[\"T0 - 1013\", \"T1 - 1013\"],\n",
    "           legend_fontsize=8,\n",
    ")\n",
    "plt.savefig(os.path.join(fig_dir, \"umap\" + \"_P08_exp_blood_clonotypes_1013.png\"), dpi=300, format=\"png\", bbox_inches=\"tight\")"
   ]
  },
  {
   "cell_type": "code",
   "execution_count": null,
   "id": "4c1df2c3-7c59-403c-97e7-6f46d2bd6f11",
   "metadata": {},
   "outputs": [],
   "source": [
    "'''\n",
    "sc.pl.umap(adata[adata.obs.timepoint == \"SCR\"],  \n",
    "           color=\"compartment_1013\", \n",
    "           palette=colorblind_dict,\n",
    "           frameon=False,\n",
    "           legend_fontsize=8\n",
    "          )\n",
    "'''"
   ]
  },
  {
   "cell_type": "code",
   "execution_count": null,
   "id": "a6c3996e-9afd-4c87-bf27-7c6903d2e895",
   "metadata": {},
   "outputs": [],
   "source": [
    "split_umap(adata_list=[adata, adata],\n",
    "           color=[\"compartment_1865\"], \n",
    "           split_by=\"timepoint\",\n",
    "           palette=[\"grey\", \"green\", \"red\"],\n",
    "           frameon=False,\n",
    "           titles=[\"T0 - 1865\", \"T1 - 1865\"],\n",
    "           legend_fontsize=8,\n",
    "           #save=\"_P08_exp_blood_clonotypes_1013.png\"\n",
    ")\n",
    "plt.savefig(os.path.join(fig_dir, \"umap\" + \"_P08_exp_blood_clonotypes_1865.png\"), dpi=300, format=\"png\", bbox_inches=\"tight\")"
   ]
  },
  {
   "cell_type": "code",
   "execution_count": null,
   "id": "b68a519a-5ff0-47ef-803b-5601a429be51",
   "metadata": {},
   "outputs": [],
   "source": [
    "split_umap(adata_list=[adata, adata],\n",
    "           color=[\"compartment_4015\"], \n",
    "           split_by=\"timepoint\",\n",
    "           palette=[\"grey\", \"green\", \"red\"],\n",
    "           frameon=False,\n",
    "           titles=[\"T0 - 4015\", \"T1 - 4015\"],\n",
    "           legend_fontsize=8,\n",
    "           #save=\"_P08_exp_blood_clonotypes_1013.png\"\n",
    ")\n",
    "plt.savefig(os.path.join(fig_dir, \"umap\" + \"_P08_exp_blood_clonotypes_4015.png\"), dpi=300, format=\"png\", bbox_inches=\"tight\")"
   ]
  },
  {
   "cell_type": "code",
   "execution_count": null,
   "id": "678d49a2-d32b-424c-8d32-b6958eaee3a1",
   "metadata": {},
   "outputs": [],
   "source": [
    "adata1 = adata[adata.obs['compartment_1013'] != \"NA\"].copy()\n",
    "tmp = pd.crosstab(adata1.obs['cell_type'],adata1.obs['compartment_1013'], normalize='columns').T.plot(kind='bar', stacked=True, title=\"Proportions - 1013\")\n",
    "plt.xlabel(None)\n",
    "tmp.legend(title='Cell Types', bbox_to_anchor=(1.6, 1.02),loc='upper right')\n",
    "plt.savefig(os.path.join(fig_dir, \"P08_basic_cell_types_props_1013.png\"), dpi=300, format=\"png\", bbox_inches=\"tight\")"
   ]
  },
  {
   "cell_type": "code",
   "execution_count": null,
   "id": "7acba0d5-3e93-4869-afdd-1c2d4a22be8a",
   "metadata": {},
   "outputs": [],
   "source": [
    "adata2 = adata[adata.obs['compartment_1865'] != \"NA\"].copy()\n",
    "tmp = pd.crosstab(adata2.obs['cell_type'],adata2.obs['compartment_1865'], normalize='columns').T.plot(kind='bar', stacked=True, title=\"Proportions - 1865\")\n",
    "plt.xlabel(None)\n",
    "tmp.legend(title='Cell Types', bbox_to_anchor=(1.6, 1.02),loc='upper right')\n",
    "plt.savefig(os.path.join(fig_dir, \"P08_basic_cell_types_props_1865.png\"), dpi=300, format=\"png\", bbox_inches=\"tight\")"
   ]
  },
  {
   "cell_type": "code",
   "execution_count": null,
   "id": "74c50bed-eec2-48da-afc5-8d7f2cc4a95f",
   "metadata": {},
   "outputs": [],
   "source": [
    "adata3 = adata[adata.obs['compartment_4015'] != \"NA\"].copy()\n",
    "tmp = pd.crosstab(adata3.obs['cell_type'],adata3.obs['compartment_4015'], normalize='columns').T.plot(kind='bar', stacked=True, title=\"Proportions - 4015\")\n",
    "plt.xlabel(None)\n",
    "tmp.legend(title='Cell Types', bbox_to_anchor=(1.6, 1.02),loc='upper right')\n",
    "plt.savefig(os.path.join(fig_dir, \"P08_basic_cell_types_props_4015.png\"), dpi=300, format=\"png\", bbox_inches=\"tight\")"
   ]
  },
  {
   "cell_type": "code",
   "execution_count": null,
   "id": "d9c50db7-b47f-463c-a637-570fb4f2ad9d",
   "metadata": {},
   "outputs": [],
   "source": [
    "adata1 = adata[adata.obs['compartment_1013'] != \"NA\"].copy()\n",
    "tmp = pd.crosstab(adata1.obs['Annotation_2.0'],adata1.obs['compartment_1013'], normalize='columns').T.plot(kind='bar', stacked=True, title=\"Proportions - 1013\")\n",
    "plt.xlabel(None)\n",
    "tmp.legend(title='Cell Types', bbox_to_anchor=(2.2, 1.2),loc='upper right')\n",
    "plt.savefig(os.path.join(fig_dir, \"P08_adv_cell_types_props_1013.png\"), dpi=300, format=\"png\", bbox_inches=\"tight\")"
   ]
  },
  {
   "cell_type": "code",
   "execution_count": null,
   "id": "318da333-e61f-4db1-9e0d-86d7c4e306a0",
   "metadata": {},
   "outputs": [],
   "source": [
    "adata2 = adata[adata.obs['compartment_1865'] != \"NA\"].copy()\n",
    "tmp = pd.crosstab(adata2.obs['Annotation_2.0'],adata2.obs['compartment_1865'], normalize='columns').T.plot(kind='bar', stacked=True, title=\"Proportions - 1865\")\n",
    "plt.xlabel(None)\n",
    "tmp.legend(title='Cell Types', bbox_to_anchor=(2.2, 1.2),loc='upper right')\n",
    "plt.savefig(os.path.join(fig_dir, \"P08_adv_cell_types_props_1865.png\"), dpi=300, format=\"png\", bbox_inches=\"tight\")"
   ]
  },
  {
   "cell_type": "code",
   "execution_count": null,
   "id": "34c94af0-0547-4bf0-9658-079e758889a6",
   "metadata": {},
   "outputs": [],
   "source": [
    "adata3 = adata[adata.obs['compartment_4015'] != \"NA\"].copy()\n",
    "tmp = pd.crosstab(adata3.obs['Annotation_2.0'],adata3.obs['compartment_4015'], normalize='columns').T.plot(kind='bar', stacked=True, title=\"Proportions - 4015\")\n",
    "plt.xlabel(None)\n",
    "tmp.legend(title='Cell Types', bbox_to_anchor=(2.2, 1.2),loc='upper right')\n",
    "plt.savefig(os.path.join(fig_dir, \"P08_adv_cell_types_props_4015.png\"), dpi=300, format=\"png\", bbox_inches=\"tight\")"
   ]
  },
  {
   "cell_type": "markdown",
   "id": "8f6400e0-db9d-417c-9e24-a155e471fca3",
   "metadata": {},
   "source": [
    "## Poster/Thesis Plots\n"
   ]
  },
  {
   "cell_type": "code",
   "execution_count": null,
   "id": "e49a767f-6cee-47ba-9780-f9da5466dbd3",
   "metadata": {},
   "outputs": [],
   "source": [
    "# load packages\n",
    "import sys\n",
    "import scanpy as sc\n",
    "import os\n",
    "import sys\n",
    "import numpy as np\n",
    "import matplotlib.pyplot as plt\n",
    "import pandas as pd\n",
    "import matplotlib.cm as cm"
   ]
  },
  {
   "cell_type": "code",
   "execution_count": null,
   "id": "ab47000b-90d4-4f45-9692-9ca32806b138",
   "metadata": {},
   "outputs": [],
   "source": [
    "# remove warnings\n",
    "import warnings\n",
    "warnings.filterwarnings('ignore')"
   ]
  },
  {
   "cell_type": "code",
   "execution_count": null,
   "id": "76ffdce6-fb61-4e0a-976b-b2feefe46767",
   "metadata": {},
   "outputs": [],
   "source": [
    "work_dir = \"/scratch_isilon/groups/singlecell/gdeuner/SERPENTINE/\"\n",
    "fig_dir = os.path.join(work_dir, \"figures\", \"ISCO24_poster\", \"Fig6\")\n",
    "sc.settings.figdir = os.path.join(work_dir, \"figures\", \"ISCO24_poster\", \"Fig6\")\n",
    "sc.set_figure_params(dpi=120, dpi_save=600, format='pdf', frameon=False, figsize=(3,3))"
   ]
  },
  {
   "cell_type": "code",
   "execution_count": null,
   "id": "e8da19e6-244c-4531-96ed-cc468f03fee5",
   "metadata": {},
   "outputs": [],
   "source": [
    "# read anndata object\n",
    "adata = sc.read_h5ad(\"/scratch_isilon/groups/singlecell/gdeuner/SERPENTINE/data/outputdata/Patient_08/P08_TNK_TCR_updated_07-05-24.h5ad\")\n",
    "adata"
   ]
  },
  {
   "cell_type": "code",
   "execution_count": null,
   "id": "d52510b7-ea37-4160-80d8-5357c8cd69d3",
   "metadata": {},
   "outputs": [],
   "source": [
    "import matplotlib.cm as cm\n",
    "import matplotlib.colors as mcolors\n",
    "tab20c = cm.get_cmap('tab20c')\n",
    "\n",
    "tab20c_colors = [mcolors.rgb2hex(tab20c(i)) for i in range(tab20c.N)]\n",
    "\n",
    "index_remove = [16, 17, 19]\n",
    "index_remove.sort(reverse=True)\n",
    "\n",
    "for index in index_remove:\n",
    "    tab20c_colors.pop(index)\n",
    "\n",
    "for i, color in enumerate(tab20c_colors):\n",
    "    print(f\"Color {i}: {color}\")"
   ]
  },
  {
   "cell_type": "code",
   "execution_count": null,
   "id": "504875c2-30bd-48ad-ba55-c64b2f5063ae",
   "metadata": {},
   "outputs": [],
   "source": [
    "adata"
   ]
  },
  {
   "cell_type": "code",
   "execution_count": null,
   "id": "5320b948-ae9a-466e-bb9b-efc219075780",
   "metadata": {},
   "outputs": [],
   "source": [
    "# plot annotation 2.0\n",
    "sc.pl.umap(\n",
    "        adata,\n",
    "        color=\"Annotation_2.0\",\n",
    "        vmin=0,\n",
    "        vmax=\"p99\",  \n",
    "        sort_order=True,  \n",
    "        frameon=False,\n",
    "        use_raw=False,\n",
    "        title=\"T Cells Annotation (7812)\",\n",
    "        legend_fontsize=8,\n",
    "        palette=tab20c_colors,\n",
    "        save = \"_P08_TCells_Annotation.pdf\"\n",
    ")"
   ]
  },
  {
   "cell_type": "code",
   "execution_count": null,
   "id": "60dce75a-8ffa-4605-8ce6-e615a6ecef65",
   "metadata": {},
   "outputs": [],
   "source": [
    "# plot annotation 2.0\n",
    "sc.pl.umap(\n",
    "        adata[adata.obs.timepoint == \"SCR\"],\n",
    "        color=\"Annotation_2.0\",\n",
    "        vmin=0,\n",
    "        vmax=\"p99\",  \n",
    "        sort_order=True,  \n",
    "        frameon=False,\n",
    "        use_raw=False,\n",
    "        title=\"T0/-ICI\",\n",
    "        legend_fontsize=8,\n",
    "        palette=tab20c_colors,\n",
    "        save = \"_P08_TCells_Annotation_T0.pdf\"\n",
    ")"
   ]
  },
  {
   "cell_type": "code",
   "execution_count": null,
   "id": "008fbf4b-9040-4a14-80ac-7331ceb052ac",
   "metadata": {},
   "outputs": [],
   "source": [
    "# plot annotation 2.0\n",
    "sc.pl.umap(\n",
    "        adata[adata.obs.timepoint != \"SCR\"],\n",
    "        color=\"Annotation_2.0\",\n",
    "        vmin=0,\n",
    "        vmax=\"p99\",  \n",
    "        sort_order=True,  \n",
    "        frameon=False,\n",
    "        use_raw=False,\n",
    "        title=\"T1/+ICI\",\n",
    "        legend_fontsize=8,\n",
    "        palette=tab20c_colors,\n",
    "        save = \"_P08_TCells_Annotation_T1.pdf\"\n",
    ")"
   ]
  },
  {
   "cell_type": "code",
   "execution_count": null,
   "id": "71b070b9-e050-4be8-82c8-a9f48fd5728c",
   "metadata": {},
   "outputs": [],
   "source": [
    "# plot markers\n",
    "sc.pl.umap(\n",
    "        adata,\n",
    "        color=[\"MKI67\", \"ZNF683\", \"GZMB\", \"HAVCR2\", \"IL21\", \"CXCL13\", \"CXCR5\"],\n",
    "        vmin=0,\n",
    "        vmax=\"p99\",  \n",
    "        sort_order=True,  \n",
    "        frameon=False,\n",
    "        use_raw=False,\n",
    "        cmap = \"copper\"\n",
    ")"
   ]
  },
  {
   "cell_type": "code",
   "execution_count": null,
   "id": "29992a39-bb83-4b20-aff9-0a99dacd6a3d",
   "metadata": {
    "scrolled": true
   },
   "outputs": [],
   "source": [
    "adata.obs['cloneSize'].unique()"
   ]
  },
  {
   "cell_type": "code",
   "execution_count": null,
   "id": "039b02c2-fc7f-4cb4-b05f-1193dcb17c89",
   "metadata": {},
   "outputs": [],
   "source": [
    "# order cloneSize var\n",
    "legend_order = ['Hyperexpanded (50 < X <= 100)', 'Large (20 < X <= 50)', 'Medium (5 < X <= 20)',\n",
    "               'Small (1 < X <= 5)', 'Single (0 < X <= 1)', 'NA']\n",
    "adata.obs['cloneSize'] = pd.Categorical(adata.obs['cloneSize'], categories=legend_order)\n",
    "#adata.obs['cloneSize'] = np.array(adata.obs['cloneSize'])"
   ]
  },
  {
   "cell_type": "code",
   "execution_count": null,
   "id": "cc9ef29e-abec-4205-9b01-7d61195a571c",
   "metadata": {},
   "outputs": [],
   "source": [
    "color_map = cm.get_cmap('inferno')\n",
    "colorblind_vector = [color_map(i/4) for i in range(4, -1, -1)]\n",
    "colorblind_vector.append(\"grey\")\n",
    "print(colorblind_vector)\n"
   ]
  },
  {
   "cell_type": "code",
   "execution_count": null,
   "id": "264f49f3-a993-4702-a902-04801c9fbced",
   "metadata": {},
   "outputs": [],
   "source": [
    "# Plot clonal expansion dynamics of tumor clonotypes \n",
    "sc.pl.umap(adata[adata.obs.timepoint == \"SCR\"], \n",
    "           color=[\"cloneSize\"], \n",
    "           palette=colorblind_vector,\n",
    "           na_color = \"grey\",\n",
    "           sort_order=True,\n",
    "           frameon=False,\n",
    "           use_raw=False,\n",
    "           title=\"T0/-ICI\",\n",
    "           legend_fontsize=8,\n",
    "           save=\"_P08_Tumor_Clonotypes_Expansion_T0.pdf\"\n",
    ")"
   ]
  },
  {
   "cell_type": "code",
   "execution_count": null,
   "id": "b624e5bb-015d-4faa-b591-177a6a435a3f",
   "metadata": {},
   "outputs": [],
   "source": [
    "sc.pl.umap(adata[adata.obs.timepoint != \"SCR\"], \n",
    "           color=[\"cloneSize\"], \n",
    "           palette=colorblind_vector[1:],\n",
    "           #na_color = \"grey\",\n",
    "           sort_order=True,\n",
    "           frameon=False,\n",
    "           use_raw=False,\n",
    "           title=\"T1/+ICI\",\n",
    "           legend_fontsize=8,\n",
    "           save=\"_P08_Tumor_Clonotypes_Expansion_T1.pdf\"\n",
    ")"
   ]
  },
  {
   "cell_type": "code",
   "execution_count": null,
   "id": "fb2dd814-9a92-435d-b981-38c73fda284a",
   "metadata": {},
   "outputs": [],
   "source": [
    "# Plot clonal expansion dynamics of tumor clonotypes \n",
    "sc.pl.umap(adata[(adata.obs.timepoint == \"SCR\") & (adata.obs.blood == \"TRUE\")], \n",
    "           color=[\"cloneSize\"], \n",
    "           palette=colorblind_vector,\n",
    "           na_color = \"grey\",\n",
    "           sort_order=True,\n",
    "           frameon=False,\n",
    "           use_raw=False,\n",
    "           title=\"T0/-ICI\",\n",
    "           legend_fontsize=8,\n",
    "           #save=\"_P08_Tumor_Clonotypes_Expansion.png\"\n",
    ")"
   ]
  },
  {
   "cell_type": "code",
   "execution_count": null,
   "id": "ebf0d7be-6e77-4064-99ba-0b1c73a39938",
   "metadata": {},
   "outputs": [],
   "source": [
    "# Plot clonal expansion dynamics of tumor clonotypes \n",
    "sc.pl.umap(adata[(adata.obs.timepoint != \"SCR\") & (adata.obs.blood == \"TRUE\")], \n",
    "           color=[\"cloneSize\"], \n",
    "           palette=colorblind_vector[1:],\n",
    "           na_color = \"grey\",\n",
    "           sort_order=True,\n",
    "           frameon=False,\n",
    "           use_raw=False,\n",
    "           title=\"T1/+ICI\",\n",
    "           legend_fontsize=8, \n",
    "           #save=\"_P08_Tumor_Clonotypes_Expansion.png\"\n",
    ")"
   ]
  },
  {
   "cell_type": "code",
   "execution_count": null,
   "id": "9f957c53-3cfc-4007-851b-3abc5752774e",
   "metadata": {},
   "outputs": [],
   "source": [
    "# order variable\n",
    "adata.obs['compartment_4015'] = pd.Categorical(adata.obs['compartment_4015'])\n",
    "adata.obs['compartment_4015']=adata.obs['compartment_4015'].cat.reorder_categories(['pre_existing', 'de_novo', 'NA'])"
   ]
  },
  {
   "cell_type": "code",
   "execution_count": null,
   "id": "fc454963-f01c-4129-b48a-93795d9fd508",
   "metadata": {},
   "outputs": [],
   "source": [
    "category_mapping = {\n",
    "    'pre_existing': 'Pre-existing',\n",
    "    'de_novo': 'De Novo'\n",
    "}\n",
    "\n",
    "adata.obs['compartment_4015']=adata.obs['compartment_4015'].cat.rename_categories(category_mapping)"
   ]
  },
  {
   "cell_type": "code",
   "execution_count": null,
   "id": "011e8f00-3c96-4fe3-bfb7-29d32b3b0473",
   "metadata": {},
   "outputs": [],
   "source": [
    "sc.pl.umap(adata=adata[(adata.obs.blood == \"TRUE\") & (adata.obs.timepoint == \"SCR\")],\n",
    "           color=[\"compartment_4015\"], \n",
    "           palette=[\"forestgreen\", \"lightgrey\"],\n",
    "           frameon=False,\n",
    "           title=[\"T0/-ICI\"],\n",
    "           legend_fontsize=8,\n",
    "           save=\"_P08_DiffExp_blood_clonotypes_T0.pdf\"\n",
    ")"
   ]
  },
  {
   "cell_type": "code",
   "execution_count": null,
   "id": "2a262630-8c12-4cf1-9ce9-7321f772f5a7",
   "metadata": {},
   "outputs": [],
   "source": [
    "sc.pl.umap(adata=adata[(adata.obs.blood == \"TRUE\") & (adata.obs.timepoint != \"SCR\")],\n",
    "           color=[\"compartment_4015\"], \n",
    "           palette=[\"forestgreen\", \"orange\", \"lightgrey\"],\n",
    "           frameon=False,\n",
    "           title=[\"T1/+ICI\"],\n",
    "           legend_fontsize=8,\n",
    "           save=\"_P08_DiffExp_blood_clonotypes_T1.pdf\"\n",
    ")"
   ]
  }
 ],
 "metadata": {
  "kernelspec": {
   "display_name": "Python 3 (ipykernel)",
   "language": "python",
   "name": "python3"
  },
  "language_info": {
   "codemirror_mode": {
    "name": "ipython",
    "version": 3
   },
   "file_extension": ".py",
   "mimetype": "text/x-python",
   "name": "python",
   "nbconvert_exporter": "python",
   "pygments_lexer": "ipython3",
   "version": "3.9.18"
  }
 },
 "nbformat": 4,
 "nbformat_minor": 5
}
