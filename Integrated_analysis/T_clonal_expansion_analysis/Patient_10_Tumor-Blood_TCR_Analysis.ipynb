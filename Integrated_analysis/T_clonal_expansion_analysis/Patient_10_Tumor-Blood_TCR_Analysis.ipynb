{
 "cells": [
  {
   "cell_type": "markdown",
   "id": "700a4ed5-174c-442f-9e24-920e69f00cdd",
   "metadata": {},
   "source": [
    "# Patient 10 Tumor & Tumor-Blood Matching TCR Analysis"
   ]
  },
  {
   "cell_type": "code",
   "execution_count": null,
   "id": "7edfbb2f-fd3a-4dcd-a003-09afce0908d1",
   "metadata": {},
   "outputs": [],
   "source": [
    "# load packages\n",
    "import sys\n",
    "import scanpy as sc\n",
    "import os\n",
    "import sys\n",
    "import numpy as np\n",
    "import matplotlib.pyplot as plt\n",
    "import pandas as pd\n",
    "import matplotlib.cm as cm\n"
   ]
  },
  {
   "cell_type": "code",
   "execution_count": null,
   "id": "7c06921e-d218-4a86-ac4f-11e869046625",
   "metadata": {},
   "outputs": [],
   "source": [
    "# remove warnings\n",
    "import warnings\n",
    "warnings.filterwarnings('ignore')"
   ]
  },
  {
   "cell_type": "code",
   "execution_count": null,
   "id": "a418a9a4-4637-4f7d-8319-9dcd38e4f5f4",
   "metadata": {},
   "outputs": [],
   "source": [
    "# set up figure parameters\n",
    "plt.rcParams['figure.figsize'] = (3.0, 3.0)\n",
    "sc.settings.verbosity = 0\n",
    "sc.set_figure_params(dpi=120, dpi_save=600, format='png', figsize=(3, 3))"
   ]
  },
  {
   "cell_type": "code",
   "execution_count": null,
   "id": "9116cabe-fe9f-49c1-a04d-dcc324ec604c",
   "metadata": {},
   "outputs": [],
   "source": [
    "# set working and fig dir\n",
    "work_dir = \"/scratch_isilon/groups/singlecell/gdeuner/SERPENTINE/data/TCR_tumor_blood_analysis/Patient_10\"\n",
    "sc.settings.figdir = os.path.join(work_dir, \"plots\")\n",
    "fig_dir = os.path.join(work_dir, \"plots\")"
   ]
  },
  {
   "cell_type": "code",
   "execution_count": null,
   "id": "eeb4b22d-8e62-4cd1-9a0e-ec7e890d1567",
   "metadata": {},
   "outputs": [],
   "source": [
    "# read anndata object\n",
    "adata = sc.read_h5ad(\"/scratch_isilon/groups/singlecell/gdeuner/SERPENTINE/data/outputdata/Patient_10/P10_TNK_TCR_updated_07-05-24.h5ad\")\n",
    "adata"
   ]
  },
  {
   "cell_type": "code",
   "execution_count": null,
   "id": "7b6e27ff-c012-42ce-b681-9a1e069bc2cf",
   "metadata": {},
   "outputs": [],
   "source": [
    "adata.obs"
   ]
  },
  {
   "cell_type": "code",
   "execution_count": null,
   "id": "9b104503-6c4f-45d2-9639-dc9f4a2a8b31",
   "metadata": {},
   "outputs": [],
   "source": [
    "adata.obs[\"Annotation_2.0\"].unique()"
   ]
  },
  {
   "cell_type": "code",
   "execution_count": null,
   "id": "c19ad3c4-cb2f-4c64-a10f-6e5b56219790",
   "metadata": {},
   "outputs": [],
   "source": [
    "# basic T cells annotation\n",
    "sc.pl.umap(\n",
    "        adata,\n",
    "        color=\"cell_type\",\n",
    "        vmin=0,\n",
    "        vmax=\"p99\",  \n",
    "        sort_order=False,  \n",
    "        frameon=False,\n",
    "        use_raw=False,\n",
    "        title=\"Basic T Cells Annotation\",\n",
    "        legend_fontsize=8,\n",
    "        save = \"_P10_Basic_T_Cells_Annotation.png\" \n",
    ")"
   ]
  },
  {
   "cell_type": "code",
   "execution_count": null,
   "id": "d230cdf4-f145-4d47-9538-7187f77dedf9",
   "metadata": {},
   "outputs": [],
   "source": [
    "# plot annotation 2.0\n",
    "sc.pl.umap(\n",
    "        adata,\n",
    "        color=\"Annotation_2.0\",\n",
    "        vmin=0,\n",
    "        vmax=\"p99\",  \n",
    "        sort_order=False,  \n",
    "        frameon=False,\n",
    "        use_raw=False,\n",
    "        title=\"T Cells Annotation\",\n",
    "        legend_fontsize=8,\n",
    "        save = \"_P10_Refined_T_Cells_Annotation.png\"\n",
    ")"
   ]
  },
  {
   "cell_type": "code",
   "execution_count": null,
   "id": "50e53a75-6656-49c1-bb4a-7dfc9da70f24",
   "metadata": {},
   "outputs": [],
   "source": [
    "adata.obs['cloneSize'].unique()"
   ]
  },
  {
   "cell_type": "code",
   "execution_count": null,
   "id": "2efdd1c2-ad41-4e83-af68-9363956e758d",
   "metadata": {},
   "outputs": [],
   "source": [
    "# order cloneSize var\n",
    "legend_order = ['Hyperexpanded (50 < X <= 2608)', 'Large (20 < X <= 50)', 'Medium (5 < X <= 20)',\n",
    "               'Small (1 < X <= 5)', 'Single (0 < X <= 1)', 'NA']\n",
    "adata.obs['cloneSize'] = pd.Categorical(adata.obs['cloneSize'], categories=legend_order)\n",
    "#adata.obs['cloneSize'] = np.array(adata.obs['cloneSize'])"
   ]
  },
  {
   "cell_type": "code",
   "execution_count": null,
   "id": "9e140404-419c-41a0-932a-13e26f6acdf4",
   "metadata": {},
   "outputs": [],
   "source": [
    "color_map = cm.get_cmap('inferno')\n",
    "colorblind_vector = [color_map(i/4) for i in range(4, -1, -1)]\n",
    "colorblind_vector.append(\"grey\")\n",
    "print(colorblind_vector)"
   ]
  },
  {
   "cell_type": "code",
   "execution_count": null,
   "id": "c4589de0-09a6-4fd1-af24-a144ed589568",
   "metadata": {},
   "outputs": [],
   "source": [
    "# create a dictionary of cloneSize colors\n",
    "colorblind_dict = dict(map(lambda i,j : (i,j) , legend_order, colorblind_vector))"
   ]
  },
  {
   "cell_type": "code",
   "execution_count": null,
   "id": "e4eeb3e4-131f-472c-8482-a15b6f856522",
   "metadata": {},
   "outputs": [],
   "source": [
    "# function to plot multiple umaps next to each other\n",
    "def split_umap(adata_list, split_by, titles, ncol=2, nrow=1, **kwargs):\n",
    "    categories = adata.obs[split_by].cat.categories\n",
    "    if nrow is None:\n",
    "        nrow = int(np.ceil(len(categories) / ncol))\n",
    "    fig, axs = plt.subplots(nrow, ncol, figsize=(4*ncol, 3*nrow)) #5,4\n",
    "    axs = axs.flatten()\n",
    "    for i, cat in enumerate(categories):\n",
    "        ax = axs[i]\n",
    "        if i != len(categories)-1:\n",
    "            sc.pl.umap(adata_list[i][adata_list[i].obs[split_by] == cat], title=titles[i], ax=ax, show=False,  **kwargs)\n",
    "        else:\n",
    "            sc.pl.umap(adata_list[i][adata_list[i].obs[split_by] == cat], title=titles[i], ax=ax, show=False,  **kwargs)\n",
    "\n",
    "    plt.tight_layout()"
   ]
  },
  {
   "cell_type": "code",
   "execution_count": null,
   "id": "8f20c675-6513-4f3d-ac6c-bffdc56c029b",
   "metadata": {},
   "outputs": [],
   "source": [
    "# Plot clonal expansion dynamics of tumor clonotypes \n",
    "sc.pl.umap(adata, \n",
    "           color=[\"cloneSize\"], \n",
    "           palette=colorblind_dict,\n",
    "           na_color = \"grey\",\n",
    "           frameon=False,\n",
    "           title=\"Tumor Clonotypes\",\n",
    "           legend_fontsize=8,\n",
    "           save=\"_P10_Tumor_Clonotypes_Expansion.png\"\n",
    ")"
   ]
  },
  {
   "cell_type": "code",
   "execution_count": null,
   "id": "42a98a47-264b-4a8b-b279-fe007ef347b2",
   "metadata": {},
   "outputs": [],
   "source": [
    "# Plot clonal expansion dynamics of blood & tumor matching clonotypes \n",
    "sc.pl.umap(adata[adata.obs.blood == \"TRUE\"],  \n",
    "           color=\"cloneSize\", \n",
    "           palette=colorblind_dict,\n",
    "           frameon=False,\n",
    "           title=\"Tumor-blood Clonotypes\",\n",
    "           legend_fontsize=8,\n",
    "           save=\"_P10_Tumor-Blood_Clonotypes_Expansion.png\"\n",
    ")"
   ]
  },
  {
   "cell_type": "code",
   "execution_count": null,
   "id": "a645c86f-b38a-4fb0-af6e-7e247e98096f",
   "metadata": {},
   "outputs": [],
   "source": [
    "adata.obs['timepoint'].unique()"
   ]
  },
  {
   "cell_type": "code",
   "execution_count": null,
   "id": "5e9ba821-e63c-4bf3-9088-13090a567d4d",
   "metadata": {},
   "outputs": [],
   "source": [
    "# order timepoint var\n",
    "timepoint_order = ['SCR', 'C2']\n",
    "adata.obs['timepoint'] = pd.Categorical(adata.obs['timepoint'], categories=timepoint_order)"
   ]
  },
  {
   "cell_type": "code",
   "execution_count": null,
   "id": "a8b2fd9f-3d5b-4d93-a464-f1ee0826ff0f",
   "metadata": {},
   "outputs": [],
   "source": [
    "# Plot clonal expansion dynamics of blood & tumor matching clonotypes split by timepoint\n",
    "split_umap(adata_list=[adata[adata.obs.blood_pre == \"TRUE\"], adata[adata.obs.blood_post == \"TRUE\"]],\n",
    "           color=\"cloneSize\", \n",
    "           split_by=\"timepoint\",\n",
    "           titles=[\"T0/-ICI\", \"T1/+ICI\"],\n",
    "           palette=colorblind_dict,\n",
    "           frameon=False,\n",
    "           legend_fontsize=8\n",
    "          )\n",
    "plt.savefig(os.path.join(fig_dir, \"umap\" + \"_P10_Tumor-Blood_Clonotypes_Expansion_splitBy_Timepoint.png\"), dpi=300, format=\"png\", bbox_inches=\"tight\")"
   ]
  },
  {
   "cell_type": "code",
   "execution_count": null,
   "id": "20047221-909a-4301-9bb1-6aa9b2a5ce97",
   "metadata": {},
   "outputs": [],
   "source": [
    "split_umap(adata_list=[adata, adata],\n",
    "           color=[\"compartment_diffExp\"], \n",
    "           split_by=\"timepoint\",\n",
    "           palette=[\"grey\", \"green\", \"red\"],\n",
    "           frameon=False,\n",
    "           titles=[\"T0/-ICI\", \"T1/+ICI\"],\n",
    "           legend_fontsize=8\n",
    ")\n",
    "plt.savefig(os.path.join(fig_dir, \"umap\" + \"_P10_diffExp_tumor-blood_clonotypes.png\"), dpi=300, format=\"png\", bbox_inches=\"tight\")"
   ]
  },
  {
   "cell_type": "code",
   "execution_count": null,
   "id": "84e27e20-b0f6-4d79-8a93-3625ec097fe1",
   "metadata": {},
   "outputs": [],
   "source": [
    "adata_filt = adata[adata.obs['compartment_diffExp'] != \"NA\"].copy()\n",
    "tmp = pd.crosstab(adata_filt.obs['cell_type'],adata_filt.obs['compartment_diffExp'], normalize='columns').T.plot(kind='bar', stacked=True, title=\"Proportions\")\n",
    "plt.xlabel(None)\n",
    "tmp.legend(title='Cell Types', bbox_to_anchor=(1.6, 1.02),loc='upper right')\n",
    "plt.savefig(os.path.join(fig_dir, \"P10_basic_cell_types_props.png\"), dpi=300, format=\"png\", bbox_inches=\"tight\")"
   ]
  },
  {
   "cell_type": "code",
   "execution_count": null,
   "id": "8d8286ba-3eca-4ff7-9d7f-8fa813ed4933",
   "metadata": {},
   "outputs": [],
   "source": [
    "adata_filt = adata[adata.obs['compartment_diffExp'] != \"NA\"].copy()\n",
    "tmp = pd.crosstab(adata_filt.obs['Annotation_2.0'], adata_filt.obs['compartment_diffExp'], normalize='columns').T.plot(kind='bar', stacked=True, title=\"Proportions\")\n",
    "plt.xlabel(None)\n",
    "tmp.legend(title='Cell Types', bbox_to_anchor=(2.2, 1.2),loc='upper right')\n",
    "plt.savefig(os.path.join(fig_dir, \"P10_adv_cell_types_props.png\"), dpi=300, format=\"png\", bbox_inches=\"tight\")"
   ]
  }
 ],
 "metadata": {
  "kernelspec": {
   "display_name": "Python 3 (ipykernel)",
   "language": "python",
   "name": "python3"
  },
  "language_info": {
   "codemirror_mode": {
    "name": "ipython",
    "version": 3
   },
   "file_extension": ".py",
   "mimetype": "text/x-python",
   "name": "python",
   "nbconvert_exporter": "python",
   "pygments_lexer": "ipython3",
   "version": "3.9.18"
  }
 },
 "nbformat": 4,
 "nbformat_minor": 5
}
