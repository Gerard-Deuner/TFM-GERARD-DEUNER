{
 "cells": [
  {
   "cell_type": "markdown",
   "id": "ea252ccc-b08f-4bc9-a23b-49f04d84393a",
   "metadata": {},
   "source": [
    "# Patient 01 Tumor & Tumor-Blood Matching TCR Analysis"
   ]
  },
  {
   "cell_type": "code",
   "execution_count": null,
   "id": "01b85c3e-5ddd-4d87-bb1d-38c412448d5b",
   "metadata": {},
   "outputs": [],
   "source": [
    "# load packages\n",
    "import sys\n",
    "import scanpy as sc\n",
    "import os\n",
    "import sys\n",
    "import numpy as np\n",
    "import matplotlib.pyplot as plt\n",
    "import pandas as pd\n",
    "import matplotlib.cm as cm\n"
   ]
  },
  {
   "cell_type": "code",
   "execution_count": null,
   "id": "f4835c06-6571-46de-9188-c02708b27520",
   "metadata": {},
   "outputs": [],
   "source": [
    "# remove warnings\n",
    "import warnings\n",
    "warnings.filterwarnings('ignore')"
   ]
  },
  {
   "cell_type": "code",
   "execution_count": null,
   "id": "d67865a1-7a1e-44c2-8107-aea363d1f351",
   "metadata": {},
   "outputs": [],
   "source": [
    "# set up figure parameters\n",
    "plt.rcParams['figure.figsize'] = (3.0, 3.0)\n",
    "sc.settings.verbosity = 0\n",
    "sc.set_figure_params(dpi=120, dpi_save=600, format='png', figsize=(3, 3))"
   ]
  },
  {
   "cell_type": "code",
   "execution_count": null,
   "id": "41019f00-579c-4e06-8bcf-b070edabb072",
   "metadata": {},
   "outputs": [],
   "source": [
    "# set working and fig dir\n",
    "work_dir = \"/scratch_isilon/groups/singlecell/gdeuner/SERPENTINE/data/TCR_tumor_blood_analysis/Patient_01\"\n",
    "sc.settings.figdir = os.path.join(work_dir, \"plots\")\n",
    "fig_dir = os.path.join(work_dir, \"plots\")"
   ]
  },
  {
   "cell_type": "code",
   "execution_count": null,
   "id": "191d37af-3ed2-4502-8ae4-96c687b2dd27",
   "metadata": {},
   "outputs": [],
   "source": [
    "# read anndata object\n",
    "adata = sc.read_h5ad(\"/scratch_isilon/groups/singlecell/gdeuner/SERPENTINE/data/outputdata/Patient_01/P01_TNK_TCR_updated_07-05-24.h5ad\")\n",
    "adata"
   ]
  },
  {
   "cell_type": "code",
   "execution_count": null,
   "id": "f6af0198-9c7e-4821-8244-65fccc54217d",
   "metadata": {},
   "outputs": [],
   "source": [
    "adata.obs"
   ]
  },
  {
   "cell_type": "code",
   "execution_count": null,
   "id": "fc762c8e-73c7-4e91-b3b3-029c6354466e",
   "metadata": {},
   "outputs": [],
   "source": [
    "adata.obs[\"Annotation_2.0\"].unique()"
   ]
  },
  {
   "cell_type": "code",
   "execution_count": null,
   "id": "eecbeea2-56e4-490f-9466-f7c6af37ca6c",
   "metadata": {},
   "outputs": [],
   "source": [
    "# basic T cells annotation\n",
    "sc.pl.umap(\n",
    "        adata,\n",
    "        color=\"cell_type\",\n",
    "        vmin=0,\n",
    "        vmax=\"p99\",  \n",
    "        sort_order=False,  \n",
    "        frameon=False,\n",
    "        use_raw=False,\n",
    "        title=\"Basic T Cells Annotation\",\n",
    "        legend_fontsize=8,\n",
    "        save = \"_P01_Basic_T_Cells_Annotation.png\" \n",
    ")"
   ]
  },
  {
   "cell_type": "code",
   "execution_count": null,
   "id": "718ff0c9-e8f0-4787-a29a-87123b95f93b",
   "metadata": {},
   "outputs": [],
   "source": [
    "# plot annotation 2.0\n",
    "sc.pl.umap(\n",
    "        adata,\n",
    "        color=\"Annotation_2.0\",\n",
    "        vmin=0,\n",
    "        vmax=\"p99\",  \n",
    "        sort_order=False,  \n",
    "        frameon=False,\n",
    "        use_raw=False,\n",
    "        title=\"T Cells Annotation\",\n",
    "        legend_fontsize=8,\n",
    "        save = \"_P01_Refined_T_Cells_Annotation.png\"\n",
    ")"
   ]
  },
  {
   "cell_type": "code",
   "execution_count": null,
   "id": "79891779-a3da-4ae0-af7e-3e6c7a6e2a13",
   "metadata": {},
   "outputs": [],
   "source": [
    "adata.obs['cloneSize'].unique()"
   ]
  },
  {
   "cell_type": "code",
   "execution_count": null,
   "id": "8fa8edd2-3808-4c19-9f67-d796e8b2ff39",
   "metadata": {},
   "outputs": [],
   "source": [
    "# order cloneSize var\n",
    "legend_order = ['Hyperexpanded (50 < X <= 103)', 'Large (20 < X <= 50)', 'Medium (5 < X <= 20)',\n",
    "               'Small (1 < X <= 5)', 'Single (0 < X <= 1)', 'NA']\n",
    "adata.obs['cloneSize'] = pd.Categorical(adata.obs['cloneSize'], categories=legend_order)\n",
    "#adata.obs['cloneSize'] = np.array(adata.obs['cloneSize'])"
   ]
  },
  {
   "cell_type": "code",
   "execution_count": null,
   "id": "35140fe1-f58a-46dd-9ed3-74ddb076b874",
   "metadata": {},
   "outputs": [],
   "source": [
    "color_map = cm.get_cmap('inferno')\n",
    "colorblind_vector = [color_map(i/4) for i in range(4, -1, -1)]\n",
    "colorblind_vector.append(\"grey\")\n",
    "print(colorblind_vector)"
   ]
  },
  {
   "cell_type": "code",
   "execution_count": null,
   "id": "bb75f1c0-e6f3-4752-8e0c-41dbc0a63637",
   "metadata": {},
   "outputs": [],
   "source": [
    "# create a dictionary of cloneSize colors\n",
    "colorblind_dict = dict(map(lambda i,j : (i,j) , legend_order, colorblind_vector))"
   ]
  },
  {
   "cell_type": "code",
   "execution_count": null,
   "id": "7e96c47c-2540-40c3-af7f-3cbfc77a8a79",
   "metadata": {},
   "outputs": [],
   "source": [
    "# function to plot multiple umaps next to each other\n",
    "def split_umap(adata_list, split_by, titles, ncol=2, nrow=1, **kwargs):\n",
    "    categories = adata.obs[split_by].cat.categories\n",
    "    if nrow is None:\n",
    "        nrow = int(np.ceil(len(categories) / ncol))\n",
    "    fig, axs = plt.subplots(nrow, ncol, figsize=(4*ncol, 3*nrow)) #5,4\n",
    "    axs = axs.flatten()\n",
    "    for i, cat in enumerate(categories):\n",
    "        ax = axs[i]\n",
    "        if i != len(categories)-1:\n",
    "            sc.pl.umap(adata_list[i][adata_list[i].obs[split_by] == cat], title=titles[i], ax=ax, show=False,  **kwargs)\n",
    "        else:\n",
    "            sc.pl.umap(adata_list[i][adata_list[i].obs[split_by] == cat], title=titles[i], ax=ax, show=False,  **kwargs)\n",
    "\n",
    "    plt.tight_layout()"
   ]
  },
  {
   "cell_type": "code",
   "execution_count": null,
   "id": "0bfdb25f-f79f-4109-a67d-789221ea0670",
   "metadata": {},
   "outputs": [],
   "source": [
    "# Plot clonal expansion dynamics of tumor clonotypes \n",
    "sc.pl.umap(adata, \n",
    "           color=[\"cloneSize\"], \n",
    "           palette=colorblind_dict,\n",
    "           na_color = \"grey\",\n",
    "           frameon=False,\n",
    "           title=\"Tumor Clonotypes\",\n",
    "           legend_fontsize=8,\n",
    "           save=\"_P01_Tumor_Clonotypes_Expansion.png\"\n",
    ")"
   ]
  },
  {
   "cell_type": "code",
   "execution_count": null,
   "id": "65d8f932-8674-438d-8bf3-ff12d8e01e3f",
   "metadata": {},
   "outputs": [],
   "source": [
    "# Plot clonal expansion dynamics of blood & tumor matching clonotypes \n",
    "sc.pl.umap(adata[adata.obs.blood == \"TRUE\"],  \n",
    "           color=\"cloneSize\", \n",
    "           palette=colorblind_dict,\n",
    "           frameon=False,\n",
    "           title=\"Tumor-blood Clonotypes\",\n",
    "           legend_fontsize=8,\n",
    "           save=\"_P01_Tumor-Blood_Clonotypes_Expansion.png\"\n",
    ")"
   ]
  },
  {
   "cell_type": "code",
   "execution_count": null,
   "id": "09ca1930-f4c1-4c43-b14a-c9e763c4b083",
   "metadata": {},
   "outputs": [],
   "source": [
    "adata.obs['timepoint'].unique()"
   ]
  },
  {
   "cell_type": "code",
   "execution_count": null,
   "id": "cefd43a8-187c-4d56-9f01-19da7ab6c46d",
   "metadata": {},
   "outputs": [],
   "source": [
    "# order timepoint var\n",
    "\n",
    "timepoint_order = ['SCR', 'C2']\n",
    "adata.obs['timepoint'] = pd.Categorical(adata.obs['timepoint'], categories=timepoint_order)"
   ]
  },
  {
   "cell_type": "code",
   "execution_count": null,
   "id": "28288640-68e9-4c18-890d-1ac2524ad62d",
   "metadata": {
    "scrolled": true
   },
   "outputs": [],
   "source": [
    "# Plot clonal expansion dynamics of blood & tumor matching clonotypes split by timepoint\n",
    "split_umap(adata_list=[adata[adata.obs.blood_pre == \"TRUE\"], adata[adata.obs.blood_post == \"TRUE\"]],\n",
    "           color=\"cloneSize\", \n",
    "           split_by=\"timepoint\",\n",
    "           titles=[\"T0/-ICI\", \"T1/+ICI\"],\n",
    "           palette=colorblind_dict,\n",
    "           frameon=False,\n",
    "           legend_fontsize=8\n",
    "          )\n",
    "plt.savefig(os.path.join(fig_dir, \"umap\" + \"_P01_Tumor-Blood_Clonotypes_Expansion_splitBy_Timepoint.png\"), dpi=300, format=\"png\", bbox_inches=\"tight\")"
   ]
  },
  {
   "cell_type": "code",
   "execution_count": null,
   "id": "d522253a-65e4-427f-aa68-9d8cb27aa6fc",
   "metadata": {},
   "outputs": [],
   "source": [
    "split_umap(adata_list=[adata, adata],\n",
    "           color=[\"compartment_diffExp\"], \n",
    "           split_by=\"timepoint\",\n",
    "           palette=[\"grey\", \"green\", \"red\"],\n",
    "           frameon=False,\n",
    "           titles=[\"T0/-ICI\", \"T1/+ICI\"],\n",
    "           legend_fontsize=8\n",
    ")\n",
    "plt.savefig(os.path.join(fig_dir, \"umap\" + \"_P01_diffExp_tumor-blood_clonotypes.png\"), dpi=300, format=\"png\", bbox_inches=\"tight\")"
   ]
  },
  {
   "cell_type": "code",
   "execution_count": null,
   "id": "aa73f6f1-274e-484d-80a1-a03c41962e65",
   "metadata": {},
   "outputs": [],
   "source": [
    "adata_filt = adata[adata.obs['compartment_diffExp'] != \"NA\"].copy()\n",
    "tmp = pd.crosstab(adata_filt.obs['cell_type'],adata_filt.obs['compartment_diffExp'], normalize='columns').T.plot(kind='bar', stacked=True, title=\"Proportions\")\n",
    "plt.xlabel(None)\n",
    "tmp.legend(title='Cell Types', bbox_to_anchor=(1.6, 1.02),loc='upper right')\n",
    "plt.savefig(os.path.join(fig_dir, \"P01_basic_cell_types_props.png\"), dpi=300, format=\"png\", bbox_inches=\"tight\")"
   ]
  },
  {
   "cell_type": "code",
   "execution_count": null,
   "id": "7d58e15a-195e-4b8f-8b1e-348181d20577",
   "metadata": {
    "scrolled": true
   },
   "outputs": [],
   "source": [
    "adata_filt = adata[adata.obs['compartment_diffExp'] != \"NA\"].copy()\n",
    "tmp = pd.crosstab(adata_filt.obs['Annotation_2.0'], adata_filt.obs['compartment_diffExp'], normalize='columns').T.plot(kind='bar', stacked=True, title=\"Proportions\")\n",
    "plt.xlabel(None)\n",
    "tmp.legend(title='Cell Types', bbox_to_anchor=(2.2, 1.2),loc='upper right')\n",
    "plt.savefig(os.path.join(fig_dir, \"P01_adv_cell_types_props.png\"), dpi=300, format=\"png\", bbox_inches=\"tight\")"
   ]
  }
 ],
 "metadata": {
  "kernelspec": {
   "display_name": "Python 3 (ipykernel)",
   "language": "python",
   "name": "python3"
  },
  "language_info": {
   "codemirror_mode": {
    "name": "ipython",
    "version": 3
   },
   "file_extension": ".py",
   "mimetype": "text/x-python",
   "name": "python",
   "nbconvert_exporter": "python",
   "pygments_lexer": "ipython3",
   "version": "3.9.18"
  }
 },
 "nbformat": 4,
 "nbformat_minor": 5
}
